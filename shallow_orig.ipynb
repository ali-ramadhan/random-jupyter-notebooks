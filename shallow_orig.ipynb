{
 "cells": [
  {
   "cell_type": "markdown",
   "metadata": {},
   "source": [
    "# Shallow Water Equations Example\n",
    "\n",
    "\n",
    "![](shallow_water2d.png)"
   ]
  },
  {
   "cell_type": "markdown",
   "metadata": {},
   "source": [
    "## Introduction\n",
    "\n",
    "This example shows how to solve the Shallow Water Equations in 1D and 2D.\n",
    "\n",
    "## Continuous Governing Equations\n",
    "We solve the following equation:\n",
    "\n",
    "\\begin{equation}\n",
    "\\frac{\\partial h_s}{\\partial t} + \\nabla \\cdot \\mathbf{U} = 0 \\; \\; (1.1)\n",
    "\\end{equation}\n",
    "\\begin{equation}\n",
    "\\frac{\\partial \\mathbf{U}}{\\partial t} + \\nabla \\cdot \\left( \\frac{\\mathbf{U} \\otimes \\mathbf{U}}{h} + g (h^2 - h^2_b) \\mathbf{I}_2 \\right) + h_s \\nabla h_b = 0 \\; \\; (1.2)\n",
    "\\end{equation}\n",
    "where $\\mathbf{u}=(u,v)$ depending on how many spatial dimensions we are using, and $\\mathbf{U}=h \\mathbf{u}$, with $h=h_s(\\mathbf{x},t) + h_b(\\mathbf{x})$ being the total water column with $h_s$ and $h_b$ being the height of the water surface and depth of the bathymetry, respectively, measured from a zero mean sea-level.  We employ periodic boundary conditions across all four walls of the square domain."
   ]
  },
  {
   "cell_type": "markdown",
   "metadata": {},
   "source": [
    "## Discontinous Galerkin Method\n",
    "To solve Eq. (1) in one, two, and three dimensions we use the Discontinuous Galerkin method with basis functions comprised of tensor products\n",
    "of one-dimensional Lagrange polynomials based on Lobatto points. Multiplying Eq. (1) by a test function $\\psi$ and integrating within each element $\\Omega_e$ such that $\\Omega = \\bigcup_{e=1}^{N_e} \\Omega_e$ we get\n",
    "\n",
    "\\begin{equation}\n",
    "\\int_{\\Omega_e} \\psi \\frac{\\partial \\mathbf{q}^{(e)}_N}{\\partial t} d\\Omega_e + \\int_{\\Omega_e} \\psi \\nabla \\cdot \\mathbf{f}^{(e)}_N d\\Omega_e =  \\int_{\\Omega_e} \\psi S \\left( q^{(e)}_N \\right) d\\Omega_e\n",
    "\\end{equation}\n",
    "\n",
    "where $\\mathbf{q}^{(e)}_N=\\sum_{i=1}^{(N+1)^{dim}} \\psi_i(\\mathbf{x}) \\mathbf{q}_i(t)$ is the finite dimensional expansion with basis functions $\\psi(\\mathbf{x})$, where $\\mathbf{q}=\\left( h, \\mathbf{U}^T \\right)^T$ and"
   ]
  },
  {
   "cell_type": "markdown",
   "metadata": {},
   "source": [
    "\\begin{equation}\n",
    "    \\sum_i \\psi_i \\int_{\\Omega} \\nabla \\psi_i \\cdot \\mathbf{f} d\\Omega \\neq\n",
    "    \\int_{\\Omega} \\nabla \\cdot \\mathbf{f} d\\Omega\n",
    "\\end{equation}"
   ]
  },
  {
   "cell_type": "markdown",
   "metadata": {},
   "source": [
    "\\begin{equation}\n",
    "\\mathbf{f}=\\left( \\mathbf{U}, \\frac{\\mathbf{U} \\otimes \\mathbf{U}}{h} + g (h^2 - h^2_b) \\mathbf{I}_2 \\right).\n",
    "\\end{equation}\n",
    "Integrating Eq. (2) by parts yields\n",
    "\n",
    "\\begin{equation}\n",
    "\\int_{\\Omega_e} \\psi \\frac{\\partial \\mathbf{q}^{(e)}_N}{\\partial t} d\\Omega_e + \\int_{\\Gamma_e} \\psi \\mathbf{n} \\cdot \\mathbf{f}^{(*,e)}_Nd\\Gamma_e - \\int_{\\Omega_e} \\nabla \\psi \\cdot \\mathbf{f}^{(e)}_N d\\Omega_e = \\int_{\\Omega_e} \\psi S\\left( q^{(e)}_N \\right) d\\Omega_e\n",
    "\\end{equation}\n",
    "\n",
    "where the second term on the left denotes the flux integral term (computed in \"function fluxrhs\") and the third term denotes the volume integral term (computed in \"function volumerhs\").  The superscript $(*,e)$ in the flux integral term denotes the numerical flux. Here we use the Rusanov flux."
   ]
  },
  {
   "cell_type": "markdown",
   "metadata": {},
   "source": [
    "## Commented Program"
   ]
  },
  {
   "cell_type": "markdown",
   "metadata": {},
   "source": [
    "### Define Input Parameters:\n",
    "N is polynomial order and\n",
    "brickN(Ne) generates a brick-grid with Ne elements in each direction"
   ]
  },
  {
   "cell_type": "code",
   "execution_count": 1,
   "metadata": {
    "collapsed": true
   },
   "outputs": [],
   "source": [
    "N=4 #polynomial order\n",
    "#brickN=(50) #1D brickmesh\n",
    "brickN=(10, 10) #2D brickmesh\n",
    "DFloat=Float64 #Number Type\n",
    "tend=DFloat(1.0) #Final Time\n",
    "δnl=0.0 #switch to turn on/off nonlinear equations\n",
    "gravity=10.0 #gravity\n",
    "icase=3 #1=advection;\n",
    "#2=Gaussian with periodic (horizontal flow) and no gravity;\n",
    "#3=Gaussian with periodic and gravity but no horizontal flow;\n",
    "#4=Gaussian with NFBC and gravity but no horizontal flow;\n",
    "#5=Dam-break problem;"
   ]
  },
  {
   "cell_type": "markdown",
   "metadata": {},
   "source": [
    "### Load the MPI and Canary packages where Canary builds the mesh, generates basis functions, and metric terms."
   ]
  },
  {
   "cell_type": "code",
   "execution_count": 2,
   "metadata": {},
   "outputs": [
    {
     "ename": "ArgumentError",
     "evalue": "ArgumentError: Package MPI not found in current path:\n- Run `import Pkg; Pkg.add(\"MPI\")` to install the MPI package.\n",
     "output_type": "error",
     "traceback": [
      "ArgumentError: Package MPI not found in current path:\n- Run `import Pkg; Pkg.add(\"MPI\")` to install the MPI package.\n",
      "",
      "Stacktrace:",
      " [1] require(::Module, ::Symbol) at ./loading.jl:820",
      " [2] top-level scope at In[2]:1"
     ]
    }
   ],
   "source": [
    "using MPI\n",
    "using Canary\n",
    "using Printf: @sprintf"
   ]
  },
  {
   "cell_type": "markdown",
   "metadata": {},
   "source": [
    "### The grid that we create determines the number of spatial dimensions that we are going to use."
   ]
  },
  {
   "cell_type": "code",
   "execution_count": 3,
   "metadata": {},
   "outputs": [
    {
     "data": {
      "text/plain": [
       "2"
      ]
     },
     "execution_count": 3,
     "metadata": {},
     "output_type": "execute_result"
    }
   ],
   "source": [
    "dim = length(brickN)"
   ]
  },
  {
   "cell_type": "markdown",
   "metadata": {},
   "source": [
    "###Output the polynomial order, space dimensions, and element configuration"
   ]
  },
  {
   "cell_type": "code",
   "execution_count": 4,
   "metadata": {},
   "outputs": [
    {
     "name": "stdout",
     "output_type": "stream",
     "text": [
      "N= 4\n",
      "dim= 2\n",
      "brickN= (10, 10)\n",
      "DFloat= Float64\n",
      "δnl= 0.0\n",
      "gravity= 10.0\n",
      "icase= 3\n"
     ]
    }
   ],
   "source": [
    "println(\"N= \",N)\n",
    "println(\"dim= \",dim)\n",
    "println(\"brickN= \",brickN)\n",
    "println(\"DFloat= \",DFloat)\n",
    "println(\"δnl= \",δnl)\n",
    "println(\"gravity= \",gravity)\n",
    "println(\"icase= \",icase)"
   ]
  },
  {
   "cell_type": "markdown",
   "metadata": {},
   "source": [
    "### Initialize MPI and get the communicator, rank, and size"
   ]
  },
  {
   "cell_type": "code",
   "execution_count": 5,
   "metadata": {},
   "outputs": [
    {
     "ename": "UndefVarError",
     "evalue": "UndefVarError: MPI not defined",
     "output_type": "error",
     "traceback": [
      "UndefVarError: MPI not defined",
      "",
      "Stacktrace:",
      " [1] top-level scope at In[5]:1"
     ]
    }
   ],
   "source": [
    "MPI.Initialized() || MPI.Init() # only initialize MPI if not initialized\n",
    "MPI.finalize_atexit()\n",
    "mpicomm = MPI.COMM_WORLD\n",
    "mpirank = MPI.Comm_rank(mpicomm)\n",
    "mpisize = MPI.Comm_size(mpicomm)"
   ]
  },
  {
   "cell_type": "markdown",
   "metadata": {},
   "source": [
    "### Generate a local view of a fully periodic Cartesian mesh."
   ]
  },
  {
   "cell_type": "code",
   "execution_count": 6,
   "metadata": {},
   "outputs": [
    {
     "ename": "UndefVarError",
     "evalue": "UndefVarError: mpirank not defined",
     "output_type": "error",
     "traceback": [
      "UndefVarError: mpirank not defined",
      "",
      "Stacktrace:",
      " [1] top-level scope at In[6]:16"
     ]
    }
   ],
   "source": [
    "if dim == 1\n",
    "  (Nx, ) = brickN\n",
    "  local x = range(DFloat(0); length=Nx+1, stop=1)\n",
    "  if icase <= 3\n",
    "      mesh = brickmesh((x, ), (true, ); part=mpirank+1, numparts=mpisize)\n",
    "  elseif icase >= 4\n",
    "      mesh = brickmesh((x, ), (false, ); part=mpirank+1, numparts=mpisize)\n",
    "  end\n",
    "elseif dim == 2\n",
    "  (Nx, Ny) = brickN\n",
    "  local x = range(DFloat(0); length=Nx+1, stop=1)\n",
    "  local y = range(DFloat(0); length=Ny+1, stop=1)\n",
    "  if icase <= 2\n",
    "      mesh = brickmesh((x, y), (true, true); part=mpirank+1, numparts=mpisize)\n",
    "  elseif icase >= 3\n",
    "      mesh = brickmesh((x, y), (false, false); part=mpirank+1, numparts=mpisize)\n",
    "  end\n",
    "end"
   ]
  },
  {
   "cell_type": "markdown",
   "metadata": {},
   "source": [
    "### Partition the mesh using a Hilbert curve based partitioning"
   ]
  },
  {
   "cell_type": "code",
   "execution_count": 7,
   "metadata": {},
   "outputs": [
    {
     "ename": "UndefVarError",
     "evalue": "UndefVarError: mpicomm not defined",
     "output_type": "error",
     "traceback": [
      "UndefVarError: mpicomm not defined",
      "",
      "Stacktrace:",
      " [1] top-level scope at In[7]:1"
     ]
    }
   ],
   "source": [
    "mesh = partition(mpicomm, mesh...)"
   ]
  },
  {
   "cell_type": "markdown",
   "metadata": {},
   "source": [
    "### Connect the mesh in parallel"
   ]
  },
  {
   "cell_type": "code",
   "execution_count": 8,
   "metadata": {},
   "outputs": [
    {
     "ename": "UndefVarError",
     "evalue": "UndefVarError: mpicomm not defined",
     "output_type": "error",
     "traceback": [
      "UndefVarError: mpicomm not defined",
      "",
      "Stacktrace:",
      " [1] top-level scope at In[8]:1"
     ]
    }
   ],
   "source": [
    "mesh = connectmesh(mpicomm, mesh...)"
   ]
  },
  {
   "cell_type": "markdown",
   "metadata": {},
   "source": [
    "### Get the degrees of freedom along the faces of each element.\n",
    "vmap(:,f,e) gives the list of local (mpirank) points for the face \"f\" of element \"e\".  vmapP points to the outward (or neighbor) element and vmapM for the current element. P=+ or right and M=- or left."
   ]
  },
  {
   "cell_type": "code",
   "execution_count": 9,
   "metadata": {},
   "outputs": [
    {
     "ename": "UndefVarError",
     "evalue": "UndefVarError: mesh not defined",
     "output_type": "error",
     "traceback": [
      "UndefVarError: mesh not defined",
      "",
      "Stacktrace:",
      " [1] top-level scope at In[9]:1"
     ]
    }
   ],
   "source": [
    "(vmapM, vmapP) = mappings(N, mesh.elemtoelem, mesh.elemtoface, mesh.elemtoordr)"
   ]
  },
  {
   "cell_type": "markdown",
   "metadata": {},
   "source": [
    "### Create 1-D operators\n",
    "$\\xi$ and $\\omega$ are the 1D Lobatto points and weights and $D$ is the derivative of the basis function."
   ]
  },
  {
   "cell_type": "code",
   "execution_count": 10,
   "metadata": {},
   "outputs": [
    {
     "ename": "UndefVarError",
     "evalue": "UndefVarError: lglpoints not defined",
     "output_type": "error",
     "traceback": [
      "UndefVarError: lglpoints not defined",
      "",
      "Stacktrace:",
      " [1] top-level scope at In[10]:1"
     ]
    }
   ],
   "source": [
    "(ξ, ω) = lglpoints(DFloat, N)\n",
    "D = spectralderivative(ξ)"
   ]
  },
  {
   "cell_type": "markdown",
   "metadata": {},
   "source": [
    "### Compute metric terms\n",
    "nface and nelem refers to the total number of faces and elements for this MPI rank. Also, coord contains the dim-tuple coordinates in the mesh."
   ]
  },
  {
   "cell_type": "code",
   "execution_count": 11,
   "metadata": {},
   "outputs": [
    {
     "ename": "UndefVarError",
     "evalue": "UndefVarError: mesh not defined",
     "output_type": "error",
     "traceback": [
      "UndefVarError: mesh not defined",
      "",
      "Stacktrace:",
      " [1] top-level scope at In[11]:1"
     ]
    }
   ],
   "source": [
    "(nface, nelem) = size(mesh.elemtoelem)\n",
    "coord = creategrid(Val(dim), mesh.elemtocoord, ξ)\n",
    "if dim == 1\n",
    "  x = coord.x\n",
    "  for j = 1:length(x)\n",
    "    x[j] = x[j]\n",
    " end\n",
    "elseif dim == 2\n",
    "  (x, y) = (coord.x, coord.y)\n",
    "  for j = 1:length(x)\n",
    "#=    (x[j], y[j]) = (x[j] .+ sin.(π * x[j]) .* sin.(2 * π * y[j]) / 10,\n",
    "                    y[j] .+ sin.(2 * π * x[j]) .* sin.(π * y[j]) / 10)\n",
    "=#\n",
    "  end\n",
    "end"
   ]
  },
  {
   "cell_type": "markdown",
   "metadata": {},
   "source": [
    "### First VTK Call\n",
    "This first VTK call dumps the mesh out for all mpiranks."
   ]
  },
  {
   "cell_type": "code",
   "execution_count": 12,
   "metadata": {},
   "outputs": [
    {
     "ename": "LoadError",
     "evalue": "ArgumentError: Package WriteVTK not found in current path:\n- Run `import Pkg; Pkg.add(\"WriteVTK\")` to install the WriteVTK package.\n",
     "output_type": "error",
     "traceback": [
      "ArgumentError: Package WriteVTK not found in current path:\n- Run `import Pkg; Pkg.add(\"WriteVTK\")` to install the WriteVTK package.\n",
      "",
      "Stacktrace:",
      " [1] require(::Module, ::Symbol) at ./loading.jl:820",
      " [2] include at ./boot.jl:317 [inlined]",
      " [3] include_relative(::Module, ::String) at ./loading.jl:1041",
      " [4] include(::Module, ::String) at ./sysimg.jl:29",
      " [5] include(::String) at ./client.jl:388",
      " [6] top-level scope at In[12]:1"
     ]
    }
   ],
   "source": [
    "include(\"vtk.jl\")\n",
    "writemesh(@sprintf(\"SWE%dD_rank_%04d_mesh\", dim, mpirank), coord...;\n",
    "          realelems=mesh.realelems)\n",
    "# ### Compute the metric terms\n",
    "# This call computes the metric terms of the grid such as $\\xi_\\mathbf{x}$, $\\eta_\\mathbf{x}$, $\\zeta_\\mathbf{x}$ for all spatial dimensions $\\mathbf{x}$ depending on the dimension of $dim$.\n",
    "metric = computemetric(coord..., D)\n",
    "metric.sJ"
   ]
  },
  {
   "cell_type": "markdown",
   "metadata": {},
   "source": [
    "### Generate the State Vectors\n",
    "We need to create as many velocity vectors as there are dimensions."
   ]
  },
  {
   "cell_type": "code",
   "execution_count": 13,
   "metadata": {},
   "outputs": [
    {
     "data": {
      "text/plain": [
       "(:h, :U, :V)"
      ]
     },
     "execution_count": 13,
     "metadata": {},
     "output_type": "execute_result"
    }
   ],
   "source": [
    "if dim == 1\n",
    "  statesyms = (:h, :U)\n",
    "elseif dim == 2\n",
    "  statesyms = (:h, :U, :V)\n",
    "end"
   ]
  },
  {
   "cell_type": "markdown",
   "metadata": {},
   "source": [
    "### Create storage for state vector and right-hand side\n",
    "Q holds the solution vector and rhs the rhs-vector which are dim+1 tuples\n",
    "In addition, here we generate the initial conditions"
   ]
  },
  {
   "cell_type": "code",
   "execution_count": 14,
   "metadata": {},
   "outputs": [
    {
     "ename": "UndefVarError",
     "evalue": "UndefVarError: coord not defined",
     "output_type": "error",
     "traceback": [
      "UndefVarError: coord not defined",
      "",
      "Stacktrace:",
      " [1] (::getfield(Main, Symbol(\"##3#4\")))(::Int64) at ./In[14]:1",
      " [2] ntuple(::getfield(Main, Symbol(\"##3#4\")), ::Int64) at ./tuple.jl:133",
      " [3] top-level scope at In[14]:1"
     ]
    }
   ],
   "source": [
    "Q   = NamedTuple{statesyms}(ntuple(j->zero(coord.x), length(statesyms)))\n",
    "rhs = NamedTuple{statesyms}(ntuple(j->zero(coord.x), length(statesyms)))\n",
    "\n",
    "advection=false\n",
    "if dim == 1\n",
    "    bathymetry = zero(coord.x)\n",
    "    for i=1:length(coord.x)\n",
    "        bathymetry[i]=0.1\n",
    "    end\n",
    "\n",
    "    if (icase ==1) #advection\n",
    "        advection=true\n",
    "        δnl=1.0\n",
    "        gravity=0.0\n",
    "        r=(x .- 0.5).^2\n",
    "        Q.h .= 0.5 .* exp.(-32.0 .* r)\n",
    "        Q.U .= (Q.h+bathymetry) .* (1.0)\n",
    "    elseif (icase == 2) #Gaussian bump with Periodic no gravity\n",
    "        r=(x .- 0.5).^2\n",
    "        Q.h .= 0.5 .* exp.(-32.0 .* r)\n",
    "        Q.U .= (Q.h+bathymetry) .* (1.0)\n",
    "        gravity = 0.0\n",
    "    elseif (icase == 3) #Gaussian bump with Periodic and gravity\n",
    "        r=(x .- 0.5).^2\n",
    "        Q.h .= 0.5 .* exp.(-32.0 .* r)\n",
    "        Q.U .= 0.0\n",
    "    elseif (icase == 4) #Gaussian bump with NFBC\n",
    "        r=(x .- 0.5).^2\n",
    "        Q.h .= 0.5 .* exp.(-32.0 .* r)\n",
    "        Q.U .= 0.0\n",
    "    elseif (icase == 5) #Dam-break problem\n",
    "        for i = 1:length(coord.x)\n",
    "            bathymetry[i]=0.5\n",
    "            if x[i] <= 0.5\n",
    "                Q.h[i]=0.5\n",
    "            elseif x[i] > 0.5\n",
    "                Q.h[i]=0\n",
    "            end\n",
    "        end\n",
    "        Q.U .= 0\n",
    "    end\n",
    "elseif dim == 2\n",
    "    bathymetry = zero(coord.x)\n",
    "    for i=1:length(coord.x)\n",
    "        bathymetry[i]=0.2\n",
    "    end\n",
    "    r=(x .- 0.5).^2 + (y .- 0.5).^2\n",
    "    Q.h .= 0.5 .* exp.(-100.0 .* r)\n",
    "    Q.U .= 0\n",
    "    Q.V .= 0\n",
    "    if (icase == 1) #advection\n",
    "        advection=true\n",
    "        δnl=1.0\n",
    "        gravity=0.0\n",
    "        Q.U .= (Q.h+bathymetry) .* (1.0)\n",
    "        Q.V .= (Q.h+bathymetry) .* (0.0)\n",
    "    end\n",
    "end"
   ]
  },
  {
   "cell_type": "markdown",
   "metadata": {},
   "source": [
    "### Compute the time-step size and number of time-steps\n",
    "Compute a $\\Delta t$ such that the Courant number is $1$.\n",
    "This is done for each mpirank and then we do an MPI_Allreduce to find the global minimum."
   ]
  },
  {
   "cell_type": "code",
   "execution_count": 15,
   "metadata": {},
   "outputs": [
    {
     "ename": "UndefVarError",
     "evalue": "UndefVarError: metric not defined",
     "output_type": "error",
     "traceback": [
      "UndefVarError: metric not defined",
      "",
      "Stacktrace:",
      " [1] top-level scope at ./In[15]:10 [inlined]",
      " [2] top-level scope at ./none:0"
     ]
    }
   ],
   "source": [
    "dt = [floatmax(DFloat)]\n",
    "if dim == 1\n",
    "    (ξx) = (metric.ξx)\n",
    "    (h,U) = (Q.h+bathymetry,Q.U)\n",
    "    for n = 1:length(U)\n",
    "        loc_dt = (2h[n])  ./ (abs.(U[n] * ξx[n]))\n",
    "        dt[1] = min(dt[1], loc_dt)\n",
    "    end\n",
    "elseif dim == 2\n",
    "    (ξx, ξy) = (metric.ξx, metric.ξy)\n",
    "    (ηx, ηy) = (metric.ηx, metric.ηy)\n",
    "    (h,U,V) = (Q.h+bathymetry,Q.U,Q.V)\n",
    "    for n = 1:length(U)\n",
    "        loc_dt = (2h[n]) ./ max(abs.(U[n] * ξx[n] + V[n] * ξy[n]),\n",
    "                          abs.(U[n] * ηx[n] + V[n] * ηy[n]))\n",
    "        dt[1] = min(dt[1], loc_dt)\n",
    "    end\n",
    "end\n",
    "dt = MPI.Allreduce(dt[1], MPI.MIN, mpicomm)\n",
    "dt = DFloat(dt / N^sqrt(2))\n",
    "dt = 0.0025\n",
    "nsteps = ceil(Int64, tend / dt)\n",
    "dt = tend / nsteps\n",
    "@show (dt, nsteps)"
   ]
  },
  {
   "cell_type": "markdown",
   "metadata": {},
   "source": [
    "### Compute the exact solution at the final time.\n",
    "Later Δ will be used to store the difference between the exact and computed solutions."
   ]
  },
  {
   "cell_type": "code",
   "execution_count": 16,
   "metadata": {},
   "outputs": [
    {
     "ename": "UndefVarError",
     "evalue": "UndefVarError: coord not defined",
     "output_type": "error",
     "traceback": [
      "UndefVarError: coord not defined",
      "",
      "Stacktrace:",
      " [1] (::getfield(Main, Symbol(\"##5#6\")))(::Int64) at ./In[16]:1",
      " [2] ntuple(::getfield(Main, Symbol(\"##5#6\")), ::Int64) at ./tuple.jl:133",
      " [3] top-level scope at In[16]:1"
     ]
    }
   ],
   "source": [
    "Δ   = NamedTuple{statesyms}(ntuple(j->zero(coord.x), length(statesyms)))\n",
    "if dim == 1\n",
    "  Δ.h .= Q.h\n",
    "  Δ.U .= Q.U\n",
    "elseif dim == 2\n",
    "  Δ.h .= Q.h\n",
    "  Δ.U .= Q.U\n",
    "  Δ.V .= Q.V\n",
    "end"
   ]
  },
  {
   "cell_type": "markdown",
   "metadata": {},
   "source": [
    "### Store Explicit RK Time-stepping Coefficients\n",
    "We use the fourth-order, low-storage, Runge–Kutta scheme of Carpenter and Kennedy (1994)\n",
    "((5,4) 2N-Storage RK scheme.\n",
    "\n",
    "Ref:\n",
    "@TECHREPORT{CarpenterKennedy1994,\n",
    "  author = {M.~H. Carpenter and C.~A. Kennedy},\n",
    "  title = {Fourth-order {2N-storage} {Runge-Kutta} schemes},\n",
    "  institution = {National Aeronautics and Space Administration},\n",
    "  year = {1994},\n",
    "  number = {NASA TM-109112},\n",
    "  address = {Langley Research Center, Hampton, VA},\n",
    "}"
   ]
  },
  {
   "cell_type": "code",
   "execution_count": 17,
   "metadata": {},
   "outputs": [
    {
     "data": {
      "text/plain": [
       "(0.0, 0.14965902199922912, 0.37040095736420475, 0.6222557631344432, 0.9582821306746903)"
      ]
     },
     "execution_count": 17,
     "metadata": {},
     "output_type": "execute_result"
    }
   ],
   "source": [
    "RKA = (DFloat(0),\n",
    "       DFloat(-567301805773)  / DFloat(1357537059087),\n",
    "       DFloat(-2404267990393) / DFloat(2016746695238),\n",
    "       DFloat(-3550918686646) / DFloat(2091501179385),\n",
    "       DFloat(-1275806237668) / DFloat(842570457699 ))\n",
    "\n",
    "RKB = (DFloat(1432997174477) / DFloat(9575080441755 ),\n",
    "       DFloat(5161836677717) / DFloat(13612068292357),\n",
    "       DFloat(1720146321549) / DFloat(2090206949498 ),\n",
    "       DFloat(3134564353537) / DFloat(4481467310338 ),\n",
    "       DFloat(2277821191437) / DFloat(14882151754819))\n",
    "\n",
    "RKC = (DFloat(0),\n",
    "       DFloat(1432997174477) / DFloat(9575080441755),\n",
    "       DFloat(2526269341429) / DFloat(6820363962896),\n",
    "       DFloat(2006345519317) / DFloat(3224310063776),\n",
    "       DFloat(2802321613138) / DFloat(2924317926251))\n",
    "\n"
   ]
  },
  {
   "cell_type": "markdown",
   "metadata": {},
   "source": [
    "### Volume RHS Routines\n",
    "These functions solve the volume term $\\int_{\\Omega_e} \\nabla \\psi \\cdot \\left( \\rho \\mathbf{u} \\right)^{(e)}_N$ for:\n",
    "Volume RHS for 1D"
   ]
  },
  {
   "cell_type": "code",
   "execution_count": 18,
   "metadata": {},
   "outputs": [
    {
     "data": {
      "text/plain": [
       "volumerhs! (generic function with 1 method)"
      ]
     },
     "execution_count": 18,
     "metadata": {},
     "output_type": "execute_result"
    }
   ],
   "source": [
    "\n",
    "function volumerhs!(rhs, Q::NamedTuple{S, NTuple{2, T}}, bathymetry, metric, D, ω, elems, gravity, δnl) where {S, T}\n",
    "  (rhsh, rhsU) = (rhs.h, rhs.U)\n",
    "  (h, U) = (Q.h, Q.U)\n",
    "  Nq = size(h, 1)\n",
    "  J = metric.J\n",
    "  ξx = metric.ξx\n",
    "  for e ∈ elems\n",
    "      #Get primitive variables and fluxes\n",
    "      hb=bathymetry[:,e]\n",
    "      hs=h[:,e]\n",
    "      ht=hs + hb\n",
    "      u=U[:,e] ./ ht\n",
    "      fluxh=U[:,e]\n",
    "      fluxU=(ht .* u .* u + 0.5 .* gravity .* hs .^2) .* δnl + gravity .* hs .* hb\n",
    "      # loop of ξ-grid lines\n",
    "      rhsh[:,e] += D' * (ω .* J[:,e] .* (ξx[:,e] .* fluxh[:]))\n",
    "      rhsU[:,e] += D' * (ω .* J[:,e] .* (ξx[:,e] .* fluxU[:])) #assuming dhb/dx=0: need to include it\n",
    "  end #e ∈ elems\n",
    "end #function volumerhs-1d"
   ]
  },
  {
   "cell_type": "markdown",
   "metadata": {},
   "source": [
    "Volume RHS for 2D"
   ]
  },
  {
   "cell_type": "code",
   "execution_count": 19,
   "metadata": {},
   "outputs": [
    {
     "data": {
      "text/plain": [
       "volumerhs! (generic function with 2 methods)"
      ]
     },
     "execution_count": 19,
     "metadata": {},
     "output_type": "execute_result"
    }
   ],
   "source": [
    "function volumerhs!(rhs, Q::NamedTuple{S, NTuple{3, T}}, bathymetry, metric, D, ω, elems, gravity, δnl) where {S, T}\n",
    "    (rhsh, rhsU, rhsV) = (rhs.h, rhs.U, rhs.V)\n",
    "    (h, U, V) = (Q.h, Q.U, Q.V)\n",
    "    Nq = size(h, 1)\n",
    "    J = metric.J\n",
    "    dim=2\n",
    "    (ξx, ξy) = (metric.ξx, metric.ξy)\n",
    "    (ηx, ηy) = (metric.ηx, metric.ηy)\n",
    "    fluxh=Array{DFloat,3}(undef,dim,Nq,Nq)\n",
    "    fluxU=Array{DFloat,3}(undef,dim,Nq,Nq)\n",
    "    fluxV=Array{DFloat,3}(undef,dim,Nq,Nq)\n",
    "    for e ∈ elems\n",
    "        #Get primitive variables and fluxes\n",
    "        hb=bathymetry[:,:,e]\n",
    "        hs=h[:,:,e]\n",
    "        ht=hs + hb\n",
    "        u=U[:,:,e] ./ ht\n",
    "        v=V[:,:,e] ./ ht\n",
    "        fluxh[1,:,:]=U[:,:,e]\n",
    "        fluxh[2,:,:]=V[:,:,e]\n",
    "        fluxU[1,:,:]=(ht .* u .* u + 0.5 .* gravity .* hs .^2) .* δnl + gravity .* hs .* hb\n",
    "        fluxU[2,:,:]=(ht .* u .* v) .* δnl\n",
    "        fluxV[1,:,:]=(ht .* v .* u) .* δnl\n",
    "        fluxV[2,:,:]=(ht .* v .* v + 0.5 .* gravity .* hs .^2) .* δnl + gravity .* hs .* hb\n",
    "        # loop of ξ-grid lines\n",
    "        for j = 1:Nq\n",
    "            rhsh[:,j,e] += D' * (ω[j] * ω .* J[:,j,e].* (ξx[:,j,e] .* fluxh[1,:,j] + ξy[:,j,e] .* fluxh[2,:,j]))\n",
    "            rhsU[:,j,e] += D' * (ω[j] * ω .* J[:,j,e].* (ξx[:,j,e] .* fluxU[1,:,j] + ξy[:,j,e] .* fluxU[2,:,j]))\n",
    "            rhsV[:,j,e] += D' * (ω[j] * ω .* J[:,j,e].* (ξx[:,j,e] .* fluxV[1,:,j] + ξy[:,j,e] .* fluxV[2,:,j]))\n",
    "        end #j\n",
    "        # loop of η-grid lines\n",
    "        for i = 1:Nq\n",
    "            rhsh[i,:,e] += D' * (ω[i] * ω .* J[i,:,e].* (ηx[i,:,e] .* fluxh[1,i,:] + ηy[i,:,e] .* fluxh[2,i,:]))\n",
    "            rhsU[i,:,e] += D' * (ω[i] * ω .* J[i,:,e].* (ηx[i,:,e] .* fluxU[1,i,:] + ηy[i,:,e] .* fluxU[2,i,:]))\n",
    "            rhsV[i,:,e] += D' * (ω[i] * ω .* J[i,:,e].* (ηx[i,:,e] .* fluxV[1,i,:] + ηy[i,:,e] .* fluxV[2,i,:]))\n",
    "        end #i\n",
    "    end #e ∈ elems\n",
    "end #function volumerhs-2d"
   ]
  },
  {
   "cell_type": "markdown",
   "metadata": {},
   "source": [
    "### Flux RHS Routines\n",
    "These functions solve the flux integral term $\\int_{\\Gamma_e} \\psi \\mathbf{n} \\cdot \\left( \\rho \\mathbf{u} \\right)^{(*,e)}_N$ for:\n",
    "Flux RHS for 1D"
   ]
  },
  {
   "cell_type": "code",
   "execution_count": 20,
   "metadata": {},
   "outputs": [
    {
     "data": {
      "text/plain": [
       "fluxrhs! (generic function with 1 method)"
      ]
     },
     "execution_count": 20,
     "metadata": {},
     "output_type": "execute_result"
    }
   ],
   "source": [
    "function fluxrhs!(rhs, Q::NamedTuple{S, NTuple{2, T}}, bathymetry, metric, ω, elems, boundary, vmapM, vmapP, gravity, δnl) where {S, T}\n",
    "\n",
    "    (rhsh, rhsU) = (rhs.h, rhs.U)\n",
    "    (h, U) = (Q.h, Q.U)\n",
    "    nface = 2\n",
    "    (nx, sJ) = (metric.nx, metric.sJ)\n",
    "    nx = reshape(nx, size(vmapM))\n",
    "    sJ = reshape(sJ, size(vmapM))\n",
    "\n",
    "    for e ∈ elems\n",
    "        for f ∈ 1:nface\n",
    "\n",
    "            #Check Boundary Condition\n",
    "            bc=boundary[f,e]\n",
    "\n",
    "            #Compute fluxes on M/Left/- side\n",
    "            hsM = h[vmapM[1, f, e]]\n",
    "            hbM=bathymetry[vmapM[1, f, e]]\n",
    "            hM=hsM + hbM\n",
    "            UM = U[vmapM[1, f, e]]\n",
    "            uM = UM ./ hM\n",
    "\n",
    "            #Left Fluxes\n",
    "            fluxhM = UM\n",
    "            fluxUM = ( hM .* uM .* uM + 0.5 .* gravity .* hsM .^2) .* δnl + gravity .* hsM .* hbM\n",
    "\n",
    "            #Compute fluxes on P/Right/+ side\n",
    "            hsP = h[vmapP[1, f, e]]\n",
    "            hbP=bathymetry[vmapP[1, f, e]]\n",
    "            UP = U[vmapP[1, f, e]]\n",
    "\n",
    "            if bc == 0 #no boundary or periodic\n",
    "                #do nothing\n",
    "            elseif bc == 1 #No-flux\n",
    "                hsP = hsM\n",
    "                hbP = hbM\n",
    "                UP = -UM\n",
    "            end\n",
    "            hP=hsP + hbP\n",
    "            uP = UP ./ hP\n",
    "\n",
    "            #Right Fluxes\n",
    "            fluxhP = UP\n",
    "            fluxUP = (hP .* uP .* uP + 0.5 .* gravity .* hsP .^2) .* δnl + gravity .* hsP .* hbP\n",
    "\n",
    "            #Compute wave speed\n",
    "            nxM = nx[1, f, e]\n",
    "            λM=( abs.(nxM .* uM) + sqrt(gravity*hM) ) .* δnl + ( sqrt(gravity*hbM) ) .* (1.0-δnl)\n",
    "            λP=( abs.(nxM .* uP) + sqrt(gravity*hP) ) .* δnl + ( sqrt(gravity*hbP) ) .* (1.0-δnl)\n",
    "            λ = max.( λM, λP )\n",
    "\n",
    "            #Compute Numerical Flux and Update\n",
    "            fluxh_star = (nxM .* (fluxhM + fluxhP) - λ .* (hsP - hsM)) / 2\n",
    "            fluxU_star = (nxM .* (fluxUM + fluxUP) - λ .* (UP - UM)) / 2\n",
    "            rhsh[vmapM[1, f, e]] -= sJ[1, f, e] .* fluxh_star\n",
    "            rhsU[vmapM[1, f, e]] -= sJ[1, f, e] .* fluxU_star\n",
    "        end #for f ∈ 1:nface\n",
    "    end #e ∈ elems\n",
    "end #function fluxrhs-1d"
   ]
  },
  {
   "cell_type": "markdown",
   "metadata": {},
   "source": [
    "Flux RHS for 2D"
   ]
  },
  {
   "cell_type": "code",
   "execution_count": 21,
   "metadata": {},
   "outputs": [
    {
     "data": {
      "text/plain": [
       "fluxrhs! (generic function with 2 methods)"
      ]
     },
     "execution_count": 21,
     "metadata": {},
     "output_type": "execute_result"
    }
   ],
   "source": [
    "function fluxrhs!(rhs, Q::NamedTuple{S, NTuple{3, T}}, bathymetry, metric, ω, elems, boundary, vmapM, vmapP, gravity, δnl) where {S, T}\n",
    "\n",
    "    (rhsh, rhsU, rhsV) = (rhs.h, rhs.U, rhs.V)\n",
    "    (h, U, V) = (Q.h, Q.U, Q.V)\n",
    "    nface = 4\n",
    "    Nq=size(h,1)\n",
    "    dim=2\n",
    "    (nx, ny, sJ) = (metric.nx, metric.ny, metric.sJ)\n",
    "    fluxhM=Array{DFloat,2}(undef,dim,Nq)\n",
    "    fluxUM=Array{DFloat,2}(undef,dim,Nq)\n",
    "    fluxVM=Array{DFloat,2}(undef,dim,Nq)\n",
    "    fluxhP=Array{DFloat,2}(undef,dim,Nq)\n",
    "    fluxUP=Array{DFloat,2}(undef,dim,Nq)\n",
    "    fluxVP=Array{DFloat,2}(undef,dim,Nq)\n",
    "    for e ∈ elems\n",
    "        for f ∈ 1:nface\n",
    "\n",
    "            #Check Boundary Condition\n",
    "            bc=boundary[f,e]\n",
    "\n",
    "            #Compute fluxes on M/Left/- side\n",
    "            hsM = h[vmapM[:, f, e]]\n",
    "            hbM=bathymetry[vmapM[:, f, e]]\n",
    "            hM=hsM + hbM\n",
    "            UM = U[vmapM[:, f, e]]\n",
    "            uM = UM ./ hM\n",
    "            VM = V[vmapM[:, f, e]]\n",
    "            vM = VM ./ hM\n",
    "\n",
    "            #Left Fluxes\n",
    "            fluxhM[1,:] = UM\n",
    "            fluxhM[2,:] = VM\n",
    "            fluxUM[1,:] = ( hM .* uM .* uM + 0.5 .* gravity .* hsM .^2) .* δnl + gravity .* hsM .* hbM\n",
    "            fluxUM[2,:] = ( hM .* uM .* vM ) .* δnl\n",
    "            fluxVM[1,:] = ( hM .* vM .* uM ) .* δnl\n",
    "            fluxVM[2,:] = ( hM .* vM .* vM + 0.5 .* gravity .* hsM .^2) .* δnl + gravity .* hsM .* hbM\n",
    "\n",
    "            #Compute fluxes on P/right/+ side\n",
    "            hsP = h[vmapP[:, f, e]]\n",
    "            hbP=bathymetry[vmapP[:, f, e]]\n",
    "            UP = U[vmapP[:, f, e]]\n",
    "            VP = V[vmapP[:, f, e]]\n",
    "            if bc == 0 #no boundary or periodic\n",
    "                #do nothing\n",
    "            elseif bc == 1 #No-flux\n",
    "                hsP = hsM\n",
    "                hbP = hbM\n",
    "                UP = -UM\n",
    "                VP = -VM\n",
    "            end\n",
    "            hP=hsP + hbP\n",
    "            uP = UP ./ hP\n",
    "            vP = VP ./ hP\n",
    "\n",
    "            #Right Fluxes\n",
    "            fluxhP[1,:] = UP\n",
    "            fluxhP[2,:] = VP\n",
    "            fluxUP[1,:] = ( hP .* uP .* uP + 0.5 .* gravity .* hsP .^2) .* δnl + gravity .* hsP .* hbP\n",
    "            fluxUP[2,:] = ( hP .* uP .* vP ) .* δnl\n",
    "            fluxVP[1,:] = ( hP .* vP .* uP ) .* δnl\n",
    "            fluxVP[2,:] = ( hP .* vP .* vP + 0.5 .* gravity .* hsP .^2) .* δnl + gravity .* hsP .* hbP\n",
    "\n",
    "            #Compute wave speed\n",
    "            nxM = nx[:, f, e]\n",
    "            nyM = ny[:, f, e]\n",
    "            λM=( abs.(nxM .* uM + nyM .* vM) + sqrt.(gravity*hM) ) .* δnl + ( sqrt.(gravity*hbM) ) .* (1.0-δnl)\n",
    "            λP=( abs.(nxM .* uP + nyM .* vP) + sqrt.(gravity*hP) ) .* δnl + ( sqrt.(gravity*hbP) ) .* (1.0-δnl)\n",
    "            λ = max.( λM, λP )\n",
    "\n",
    "            #Compute Numerical Flux and Update\n",
    "            fluxh_star = (nxM .* (fluxhM[1,:] + fluxhP[1,:]) + nyM .* (fluxhM[2,:] + fluxhP[2,:]) - λ .* (hsP - hsM)) / 2\n",
    "            fluxU_star = (nxM .* (fluxUM[1,:] + fluxUP[1,:]) + nyM .* (fluxUM[2,:] + fluxUP[2,:]) - λ .* (UP - UM)) / 2\n",
    "            fluxV_star = (nxM .* (fluxVM[1,:] + fluxVP[1,:]) + nyM .* (fluxVM[2,:] + fluxVP[2,:]) - λ .* (VP - VM)) / 2\n",
    "            rhsh[vmapM[:, f, e]] -= ω .* sJ[:, f, e] .* fluxh_star\n",
    "            rhsU[vmapM[:, f, e]] -= ω .* sJ[:, f, e] .* fluxU_star\n",
    "            rhsV[vmapM[:, f, e]] -= ω .* sJ[:, f, e] .* fluxV_star\n",
    "        end #f ∈ 1:nface\n",
    "    end #e ∈ elems\n",
    "end #function fluxrhs-2d"
   ]
  },
  {
   "cell_type": "markdown",
   "metadata": {},
   "source": [
    "### Update the solution via RK Method for:\n",
    "Update 1D"
   ]
  },
  {
   "cell_type": "code",
   "execution_count": 22,
   "metadata": {},
   "outputs": [
    {
     "data": {
      "text/plain": [
       "updatesolution! (generic function with 1 method)"
      ]
     },
     "execution_count": 22,
     "metadata": {},
     "output_type": "execute_result"
    }
   ],
   "source": [
    "function updatesolution!(rhs, Q::NamedTuple{S, NTuple{2, T}}, bathymetry, metric, ω, elems, rka, rkb, dt, advection) where {S, T}\n",
    "    #Save original velocity\n",
    "    if advection\n",
    "        h = Q.h + bathymetry\n",
    "        u = Q.U ./ h\n",
    "    end\n",
    "\n",
    "    J = metric.J\n",
    "    M =  ω\n",
    "    for (rhsq, q) ∈ zip(rhs, Q)\n",
    "        for e ∈ elems\n",
    "            q[:, e] += rkb * dt * rhsq[:, e] ./ ( M .* J[:, e])\n",
    "            rhsq[:, e] *= rka\n",
    "        end\n",
    "    end\n",
    "    #Reset velocity\n",
    "    if advection\n",
    "        Q.U .= (Q.h+bathymetry) .* u\n",
    "    end\n",
    "end #function update-1d"
   ]
  },
  {
   "cell_type": "markdown",
   "metadata": {},
   "source": [
    "Update 2D"
   ]
  },
  {
   "cell_type": "code",
   "execution_count": 23,
   "metadata": {},
   "outputs": [
    {
     "data": {
      "text/plain": [
       "updatesolution! (generic function with 2 methods)"
      ]
     },
     "execution_count": 23,
     "metadata": {},
     "output_type": "execute_result"
    }
   ],
   "source": [
    "function updatesolution!(rhs, Q::NamedTuple{S, NTuple{3, T}}, bathymetry, metric, ω, elems, rka, rkb, dt, advection) where {S, T}\n",
    "    #Save original velocity\n",
    "    if (advection)\n",
    "        h = Q.h + bathymetry\n",
    "        u = Q.U ./ h\n",
    "        v = Q.V ./ h\n",
    "    end\n",
    "\n",
    "    J = metric.J\n",
    "    M = reshape(kron(ω, ω), length(ω), length(ω))\n",
    "    for (rhsq, q) ∈ zip(rhs, Q)\n",
    "        for e ∈ elems\n",
    "            q[:, :, e] += rkb * dt * rhsq[:, :, e] ./ (M .* J[:, :, e])\n",
    "            rhsq[:, :, e] *= rka\n",
    "        end\n",
    "    end\n",
    "    #Reset velocity\n",
    "    if (advection)\n",
    "        Q.U .= (Q.h+bathymetry) .* u\n",
    "        Q.V .= (Q.h+bathymetry) .* v\n",
    "    end\n",
    "end #function update-2d"
   ]
  },
  {
   "cell_type": "markdown",
   "metadata": {},
   "source": [
    "### Compute L2 Error Norm for:\n",
    "1D Error"
   ]
  },
  {
   "cell_type": "code",
   "execution_count": 24,
   "metadata": {},
   "outputs": [
    {
     "data": {
      "text/plain": [
       "L2energy (generic function with 1 method)"
      ]
     },
     "execution_count": 24,
     "metadata": {},
     "output_type": "execute_result"
    }
   ],
   "source": [
    "function L2energy(Q::NamedTuple{S, NTuple{2, T}}, metric, ω, elems) where {S, T}\n",
    "  J = metric.J\n",
    "  Nq = length(ω)\n",
    "  M = ω\n",
    "  index = CartesianIndices(ntuple(j->1:Nq, Val(1)))\n",
    "\n",
    "  energy = [zero(J[1])]\n",
    "  for q ∈ Q\n",
    "    for e ∈ elems\n",
    "      for ind ∈ index\n",
    "        energy[1] += M[ind] * J[ind, e] * q[ind, e]^2\n",
    "      end\n",
    "    end\n",
    "  end\n",
    "  energy[1]\n",
    "end #end function L2energy-1d"
   ]
  },
  {
   "cell_type": "markdown",
   "metadata": {},
   "source": [
    "2D Error"
   ]
  },
  {
   "cell_type": "code",
   "execution_count": 25,
   "metadata": {},
   "outputs": [
    {
     "data": {
      "text/plain": [
       "L2energy (generic function with 2 methods)"
      ]
     },
     "execution_count": 25,
     "metadata": {},
     "output_type": "execute_result"
    }
   ],
   "source": [
    "function L2energy(Q::NamedTuple{S, NTuple{3, T}}, metric, ω, elems) where {S, T}\n",
    "  J = metric.J\n",
    "  Nq = length(ω)\n",
    "  M = reshape(kron(ω, ω), Nq, Nq)\n",
    "  index = CartesianIndices(ntuple(j->1:Nq, Val(2)))\n",
    "\n",
    "  energy = [zero(J[1])]\n",
    "  for q ∈ Q\n",
    "    for e ∈ elems\n",
    "      for ind ∈ index\n",
    "        energy[1] += M[ind] * J[ind, e] * q[ind, e]^2\n",
    "      end\n",
    "    end\n",
    "  end\n",
    "  energy[1]\n",
    "end #end function L2energy-2d"
   ]
  },
  {
   "cell_type": "markdown",
   "metadata": {},
   "source": [
    "### Compute how many MPI neighbors we have\n",
    "\"mesh.nabrtorank\" stands for \"Neighbors to rank\""
   ]
  },
  {
   "cell_type": "code",
   "execution_count": 26,
   "metadata": {},
   "outputs": [
    {
     "ename": "UndefVarError",
     "evalue": "UndefVarError: mesh not defined",
     "output_type": "error",
     "traceback": [
      "UndefVarError: mesh not defined",
      "",
      "Stacktrace:",
      " [1] top-level scope at In[26]:1"
     ]
    }
   ],
   "source": [
    "numnabr = length(mesh.nabrtorank)"
   ]
  },
  {
   "cell_type": "markdown",
   "metadata": {},
   "source": [
    "### Create send/recv request arrays\n",
    "\"sendreq\" is the array that we use to send the communication request. It needs to be of the same length as the number of neighboring ranks. Similarly, \"recvreq\" is the array that we use to receive the neighboring rank information."
   ]
  },
  {
   "cell_type": "code",
   "execution_count": 27,
   "metadata": {},
   "outputs": [
    {
     "ename": "UndefVarError",
     "evalue": "UndefVarError: MPI not defined",
     "output_type": "error",
     "traceback": [
      "UndefVarError: MPI not defined",
      "",
      "Stacktrace:",
      " [1] top-level scope at In[27]:1"
     ]
    }
   ],
   "source": [
    "sendreq = fill(MPI.REQUEST_NULL, numnabr)\n",
    "recvreq = fill(MPI.REQUEST_NULL, numnabr)"
   ]
  },
  {
   "cell_type": "markdown",
   "metadata": {},
   "source": [
    "### Create send/recv buffer\n",
    "The dimensions of these arrays are (1) degrees of freedom within an element, (2) number of solution vectors, and (3) the number of \"send elements\" and \"ghost elements\", respectively."
   ]
  },
  {
   "cell_type": "code",
   "execution_count": 28,
   "metadata": {},
   "outputs": [
    {
     "ename": "UndefVarError",
     "evalue": "UndefVarError: Q not defined",
     "output_type": "error",
     "traceback": [
      "UndefVarError: Q not defined",
      "",
      "Stacktrace:",
      " [1] top-level scope at In[28]:1"
     ]
    }
   ],
   "source": [
    "sendQ = Array{DFloat, 3}(undef, (N+1)^dim, length(Q), length(mesh.sendelems))\n",
    "recvQ = Array{DFloat, 3}(undef, (N+1)^dim, length(Q), length(mesh.ghostelems))"
   ]
  },
  {
   "cell_type": "markdown",
   "metadata": {},
   "source": [
    "Build CartesianIndex map for moving between Cartesian and linear storage of\n",
    "dofs"
   ]
  },
  {
   "cell_type": "code",
   "execution_count": 29,
   "metadata": {},
   "outputs": [
    {
     "ename": "UndefVarError",
     "evalue": "UndefVarError: mesh not defined",
     "output_type": "error",
     "traceback": [
      "UndefVarError: mesh not defined",
      "",
      "Stacktrace:",
      " [1] top-level scope at In[29]:2"
     ]
    }
   ],
   "source": [
    "index = CartesianIndices(ntuple(j->1:N+1, dim))\n",
    "nrealelem = length(mesh.realelems)"
   ]
  },
  {
   "cell_type": "markdown",
   "metadata": {},
   "source": [
    "### Dump the initial condition\n",
    "Dump out the initial conditin to VTK prior to entering the time-step loop."
   ]
  },
  {
   "cell_type": "code",
   "execution_count": 30,
   "metadata": {},
   "outputs": [
    {
     "ename": "LoadError",
     "evalue": "ArgumentError: Package WriteVTK not found in current path:\n- Run `import Pkg; Pkg.add(\"WriteVTK\")` to install the WriteVTK package.\n",
     "output_type": "error",
     "traceback": [
      "ArgumentError: Package WriteVTK not found in current path:\n- Run `import Pkg; Pkg.add(\"WriteVTK\")` to install the WriteVTK package.\n",
      "",
      "Stacktrace:",
      " [1] require(::Module, ::Symbol) at ./loading.jl:820",
      " [2] include at ./boot.jl:317 [inlined]",
      " [3] include_relative(::Module, ::String) at ./loading.jl:1041",
      " [4] include(::Module, ::String) at ./sysimg.jl:29",
      " [5] include(::String) at ./client.jl:388",
      " [6] top-level scope at In[30]:1"
     ]
    }
   ],
   "source": [
    "include(\"vtk.jl\")\n",
    "temp=Q.h + bathymetry\n",
    "writemesh(@sprintf(\"SWE%dD_rank_%04d_step_%05d\", dim, mpirank, 0),\n",
    "          coord...; fields=((\"hs+hb\", temp),(\"U\",Q.U),), realelems=mesh.realelems)\n",
    "# ### Begin Time-step loop\n",
    "# Go through nsteps time-steps and for each time-step, loop through the s-stages of the explicit RK method.\n",
    "for step = 1:nsteps\n",
    "    mpirank == 0 && @show step\n",
    "    for s = 1:length(RKA)\n",
    "        # #### Post MPI receives\n",
    "        # We assume that an MPI_Isend has been posted (non-blocking send) and are waiting to receive any message that has\n",
    "        # been posted for receiving.  We are looping through the : (1) number of neighbors, (2) neighbor ranks,\n",
    "        # and (3) neighbor elements.\n",
    "        for (nnabr, nabrrank, nabrelem) ∈ zip(1:numnabr, mesh.nabrtorank,\n",
    "                                              mesh.nabrtorecv)\n",
    "            recvreq[nnabr] = MPI.Irecv!((@view recvQ[:, :, nabrelem]), nabrrank, 777,\n",
    "                                        mpicomm)\n",
    "        end\n",
    "        # #### Wait on (prior) MPI sends\n",
    "        # WE assume that non-blocking sends have been sent and wait for this to happen. FXG: Why do we need to wait?\n",
    "        MPI.Waitall!(sendreq)\n",
    "        # #### Pack data to send buffer\n",
    "        # For all faces \"nf\" and all elements \"ne\" we pack the send data.\n",
    "        for (ne, e) ∈ enumerate(mesh.sendelems)\n",
    "            for (nf, f) ∈ enumerate(Q)\n",
    "                sendQ[:, nf, ne] = f[index[:], e]\n",
    "            end\n",
    "        end\n",
    "        # #### Post MPI sends\n",
    "        # For all: (1) number of neighbors, (2) neighbor ranks, and (3) neighbor elements we perform a non-blocking send.\n",
    "        for (nnabr, nabrrank, nabrelem) ∈ zip(1:numnabr, mesh.nabrtorank,\n",
    "                                              mesh.nabrtosend)\n",
    "            sendreq[nnabr] = MPI.Isend((@view sendQ[:, :, nabrelem]), nabrrank, 777,\n",
    "                                       mpicomm)\n",
    "        end\n",
    "        # #### Compute RHS Volume Integral\n",
    "        # Note that it is not necessary to have received all the MPI messages. Here we are interleaving computation\n",
    "        # with communication in order to curtail latency.  Here we perform the RHS volume integrals.\n",
    "        # call volumerhs\n",
    "        volumerhs!(rhs, Q, bathymetry, metric, D, ω, mesh.realelems, gravity, δnl)\n",
    "        # #### Wait on MPI receives\n",
    "        # We need to wait to receive the messages before we move on to t=e flux integrals.\n",
    "        MPI.Waitall!(recvreq)\n",
    "        # #### Unpack data from receive buffer\n",
    "        # The inverse of the Pack datat to send buffer. We now unpack the receive buffer in order to use it in the RHS\n",
    "        # flux integral.\n",
    "        for elems ∈ mesh.nabrtorecv\n",
    "            for (nf, f) ∈ enumerate(Q)\n",
    "                f[index[:], nrealelem .+ elems] = recvQ[:, nf, elems]\n",
    "            end\n",
    "        end\n",
    "        # #### Compute RHS Flux Integral\n",
    "        # We compute the flux integral on all \"realelems\" which are the elements owned by the current mpirank.\n",
    "        # call fluxrhs\n",
    "        fluxrhs!(rhs, Q, bathymetry, metric, ω, mesh.realelems, mesh.elemtobndy, vmapM, vmapP, gravity, δnl)\n",
    "        # #### Update solution and scale RHS\n",
    "        # We need to update/evolve the solution in time and multiply by the inverse mass matrix.\n",
    "        #call updatesolution\n",
    "        updatesolution!(rhs, Q, bathymetry, metric, ω, mesh.realelems, RKA[s%length(RKA)+1], RKB[s], dt, advection)\n",
    "    end #s-stages\n",
    "    # #### Write VTK Output\n",
    "    # After each time-step, we dump out VTK data for Paraview/VisIt.\n",
    "    temp=Q.h + bathymetry\n",
    "    writemesh(@sprintf(\"SWE%dD_rank_%04d_step_%05d\", dim, mpirank, step),\n",
    "              coord...; fields=((\"hs+hb\", temp),(\"U\",Q.U),), realelems=mesh.realelems)\n",
    "end #step"
   ]
  },
  {
   "cell_type": "markdown",
   "metadata": {},
   "source": [
    "### Compute L2 Error Norms\n",
    "Since we stored the initial condition, we can now compute the L2 error norms for both the solution and energy."
   ]
  },
  {
   "cell_type": "code",
   "execution_count": 31,
   "metadata": {},
   "outputs": [
    {
     "ename": "UndefVarError",
     "evalue": "UndefVarError: Q not defined",
     "output_type": "error",
     "traceback": [
      "UndefVarError: Q not defined",
      "",
      "Stacktrace:",
      " [1] top-level scope at In[31]:8"
     ]
    }
   ],
   "source": [
    "#extract velocity fields\n",
    "if dim == 1\n",
    "    Q.U .= Q.U ./ (Q.h+bathymetry)\n",
    "    Δ.U .= Δ.U ./ (Δ.h+bathymetry)\n",
    "    Q.h .= Q.h\n",
    "    Δ.h .= Δ.h\n",
    "elseif dim == 2\n",
    "    Q.U .= Q.U ./ (Q.h+bathymetry)\n",
    "    Δ.U .= Δ.U ./ (Δ.h+bathymetry)\n",
    "    Q.V .= Q.V ./ (Q.h+bathymetry)\n",
    "    Δ.V .= Δ.V ./ (Δ.h+bathymetry)\n",
    "    Q.h .= Q.h\n",
    "    Δ.h .= Δ.h\n",
    "elseif dim == 3\n",
    "    Q.U .= Q.U ./ Q.h\n",
    "    Δ.U .= Δ.U ./ Δ.h\n",
    "    Q.V .= Q.V ./ Q.h\n",
    "    Δ.V .= Δ.V ./ Δ.h\n",
    "    Q.W .= Q.W ./ Q.h\n",
    "    Δ.W .= Δ.W ./ Δ.h\n",
    "    Q.h .= Q.h\n",
    "    Δ.h .= Δ.h\n",
    "end\n",
    "\n",
    "#Compute Norms\n",
    "for (δ, q) ∈ zip(Δ, Q)\n",
    "    δ .-= q\n",
    "end\n",
    "eng = L2energy(Q, metric, ω, mesh.realelems)\n",
    "eng = MPI.Allreduce(eng, MPI.SUM, mpicomm)\n",
    "mpirank == 0 && @show sqrt(eng)\n",
    "\n",
    "err = L2energy(Δ, metric, ω, mesh.realelems)\n",
    "err = MPI.Allreduce(err, MPI.SUM, mpicomm)\n",
    "mpirank == 0 && @show sqrt(err)\n",
    "\n",
    "nothing"
   ]
  },
  {
   "cell_type": "markdown",
   "metadata": {},
   "source": [
    "*This notebook was generated using [Literate.jl](https://github.com/fredrikekre/Literate.jl).*"
   ]
  }
 ],
 "metadata": {
  "kernelspec": {
   "display_name": "Julia 1.0.0",
   "language": "julia",
   "name": "julia-1.0"
  },
  "language_info": {
   "file_extension": ".jl",
   "mimetype": "application/julia",
   "name": "julia",
   "version": "1.0.0"
  }
 },
 "nbformat": 4,
 "nbformat_minor": 3
}
