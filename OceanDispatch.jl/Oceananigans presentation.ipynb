{
 "cells": [
  {
   "cell_type": "markdown",
   "metadata": {},
   "source": [
    "# <p style=\"text-align: center;\">**Oceananigans.jl**<br><br>Massively parallel non-hydrostatic ocean modeling on GPUs in Julia</p>\n",
    "## <p style=\"text-align: center;\">**GitHub repo**: [ali-ramadhan/OceanDispatch.jl](https://github.com/ali-ramadhan/OceanDispatch.jl)<br><br>**This notebook**: [ali-ramadhan/random-jupyter-notebooks](https://github.com/ali-ramadhan/random-jupyter-notebooks)</p>"
   ]
  },
  {
   "cell_type": "markdown",
   "metadata": {},
   "source": [
    "---\n",
    "## **Acknowledgements**\n",
    "* While I did write the code, I did not do this alone!\n",
    "* **EAPS**: Chris Hill, Jean-Michel Campin, John Marshall, Greg Wagner, Mukund Gupta.\n",
    "* **Julia Lab**: Valentin Churavy, Peter Ahrens, Shashi Gowda, Sung Woo Jeong, Ranjan Anantharaman, Alan Edelman.\n",
    "---"
   ]
  },
  {
   "cell_type": "markdown",
   "metadata": {},
   "source": [
    "### **Julia Packages used**: `FFTW, CUDAnative, CUDAdrv, CuArrays, DistributedArrays, PyPlot, Makie, Interact`\n",
    "---"
   ]
  },
  {
   "cell_type": "markdown",
   "metadata": {},
   "source": [
    "## **Navier-Stokes equations in a non-inertial reference frame**\n",
    "$$\\rho \\frac{D \\mathbf{u}}{D t}  = -\\nabla p + \\mu \\, \\nabla^2 \\mathbf{u} + \\tfrac13 \\mu \\, \\nabla (\\nabla\\cdot\\mathbf{u}) + \\rho\\mathbf{g} - \\rho \\left( 2\\mathbf{\\Omega} \\times \\mathbf{u} + \\mathbf{\\Omega} \\times \\mathbf{\\Omega} \\times \\mathbf{x} + \\frac{d \\mathbf{U}}{dt} + \\frac{d\\mathbf{\\Omega}}{dt} \\times \\mathbf{x} \\right)$$ where $\\displaystyle \\frac{D}{Dt} = \\frac{\\partial}{\\partial t} + \\mathbf{u} \\cdot \\nabla$ is the material derivative, $\\mathbf{g}$ is the acceleration due to gravity, $\\rho$ is the fluid density, $\\mathbf{x}$ is the position vector, $\\mathbf{u} = (u,v,w)$ is the fluid flow velocity, $\\mathbf{U}$ is the frame translation velocity,  $\\mu$ is the viscosity, and $\\Omega$ is the frame angular velocity. Kind of like $F=ma$.\n",
    "---"
   ]
  },
  {
   "cell_type": "markdown",
   "metadata": {},
   "source": [
    "## **Governing equations for non-hydrostatic ocean modeling**\n",
    "### To be more exact: _Rotating, incompressible, Boussinesq equations of motion_\n",
    "## Horizontal momentum: $\\displaystyle \\frac{\\partial \\mathbf{u}_h}{\\partial t} = \\mathbf{G}_{uh} - \\nabla_h p$\n",
    "## Vertical momentum: $\\displaystyle \\frac{\\partial w}{\\partial t} = G_w - \\frac{\\partial p}{\\partial z}$\n",
    "## Continuity equation (mass conservation): $\\displaystyle \\nabla \\cdot \\mathbf{u} = 0$\n",
    "## Temperature: $\\displaystyle \\frac{\\partial T}{\\partial t} = G_T$\n",
    "## Salinity: $\\displaystyle \\frac{\\partial S}{\\partial t} = G_S$\n",
    "## Equation of state: $\\displaystyle \\rho = \\rho(T,S,p)$\n",
    "where $\\mathbf{u} = (\\mathbf{v}_h, w) = (u,v,w)$ is the velocity, $\\mathbf{v}_h = (u,v)$ is the horizontal velocity, $\\nabla = (\\partial_x, \\partial_y, \\partial_z)$ is the del operator, $\\nabla_h = (\\partial_x, \\partial_y)$ is the horizontal del operator. The equation of state for seawater gives the density $\\rho$ in terms of $T$, $S$, and $p$. $\\mathbf{G}_u = (\\mathbf{G}_{uh}, G_w) = (G_u, G_v, G_w)$ represents inertial, Coriolis, gravitational, forcing, and dissipation terms.\n",
    "---"
   ]
  },
  {
   "cell_type": "markdown",
   "metadata": {},
   "source": [
    "## **Source terms**\n",
    "\\begin{align}\n",
    "    G_u &= -\\mathbf{u} \\cdot \\nabla u + fv + F_u \\\\\n",
    "    G_v &= -\\mathbf{u} \\cdot \\nabla v - fu + F_v \\\\\n",
    "    G_w &= -\\mathbf{u} \\cdot \\nabla w -g \\frac{\\delta \\rho}{\\rho_0} + F_w \\\\\n",
    "    G_T &= -\\nabla \\cdot (\\mathbf{u} T) + F_T \\\\\n",
    "    G_S &= -\\nabla \\cdot (\\mathbf{u} S) + F_S\n",
    "\\end{align}\n",
    "---"
   ]
  },
  {
   "cell_type": "markdown",
   "metadata": {},
   "source": [
    "### where $f = 2\\Omega\\sin\\phi$ is the Coriolis frequency, $\\Omega$ is the rotation rate of the Earth, $\\phi$ is the latitude, $g$ is the acceleration due to gravity, $\\delta\\rho = \\rho - \\rho_0$ is the deviation of the density from that of a resting ocean, and $\\rho_0$ is some reference density."
   ]
  },
  {
   "cell_type": "markdown",
   "metadata": {},
   "source": [
    "## **Spatial discretization and finite volumes**\n",
    "---"
   ]
  },
  {
   "cell_type": "markdown",
   "metadata": {},
   "source": [
    "## **Time stepping**\n",
    "---"
   ]
  },
  {
   "cell_type": "markdown",
   "metadata": {},
   "source": [
    "## **Discretized operators**"
   ]
  },
  {
   "cell_type": "markdown",
   "metadata": {},
   "source": [
    "### Difference operators ($\\delta_x$, $\\delta_y$, $\\delta_z$)\n",
    "### $$\\delta_x(f) = f_E - f_W, \\quad\\quad \\delta_y(f) = f_N - f_S, \\quad\\quad \\delta_z(f) = f_T - f_B$$"
   ]
  },
  {
   "cell_type": "code",
   "execution_count": 1,
   "metadata": {},
   "outputs": [
    {
     "data": {
      "text/plain": [
       "δˣc2f (generic function with 1 method)"
      ]
     },
     "execution_count": 1,
     "metadata": {},
     "output_type": "execute_result"
    }
   ],
   "source": [
    "@inline incmod1(a, n) = a == n ? one(a) : a + 1\n",
    "@inline decmod1(a, n) = a == 1 ? n : a - 1\n",
    "\n",
    "function δˣc2f(f)\n",
    "    Nx, Ny, Nz = size(f)\n",
    "    δf = zeros(Nx, Ny, Nz)\n",
    "    for k in 1:Nz, j in 1:Ny, i in 1:Nx\n",
    "        δf[i, j, k] =  f[i, j, k] - f[decmod1(i,Nx), j, k]\n",
    "    end\n",
    "    δf\n",
    "end\n",
    "\n",
    "function δᶻc2f(f)\n",
    "    Nx, Ny, Nz = size(f)\n",
    "    δf = zeros(Nx, Ny, Nz)\n",
    "    for k in 2:Nz, j in 1:Ny, i in 1:Nx\n",
    "        δf[i, j, k] =  -(f[i, j, k] - f[i, j, k-1])\n",
    "    end\n",
    "    @. δf[:, :, 1] = 0\n",
    "    δf\n",
    "end\n",
    "\n",
    "function δˣf2c(f)\n",
    "    Nx, Ny, Nz = size(f)\n",
    "    δf = zeros(Nx, Ny, Nz)\n",
    "    for k in 1:Nz, j in 1:Ny, i in 1:Nx\n",
    "        δf[i, j, k] =  f[incmod1(i, Nx), j, k] - f[i, j, k]\n",
    "    end\n",
    "    δf\n",
    "end\n",
    "\n",
    "function δᶻf2c(f)\n",
    "    Nx, Ny, Nz = size(f)\n",
    "    δf = zeros(Nx, Ny, Nz)\n",
    "    for k in 1:(Nz-1), j in 1:Ny, i in 1:Nx\n",
    "        δf[i, j, k] =  -(f[i, j, k+1] - f[i, j, k])\n",
    "    end\n",
    "    @. δf[:, :, end] = f[:, :, end]\n",
    "    δf\n",
    "end"
   ]
  },
  {
   "cell_type": "markdown",
   "metadata": {},
   "source": [
    "### Averaging operators ($\\overline{\\;\\cdotp\\;}^x$, $\\overline{\\;\\cdotp\\;}^y$, $\\overline{\\;\\cdotp\\;}^z$)"
   ]
  },
  {
   "cell_type": "code",
   "execution_count": null,
   "metadata": {},
   "outputs": [],
   "source": []
  },
  {
   "cell_type": "markdown",
   "metadata": {},
   "source": [
    "### Divergence $\\nabla \\cdotp \\mathbb{f}$"
   ]
  },
  {
   "cell_type": "markdown",
   "metadata": {},
   "source": [
    "## $$\\nabla \\cdot \\mathbf{f} = \\frac{1}{V} \\left[ \\delta_x (A_x f_x)  + \\delta_y (A_y f_y) + \\delta_z (A_z f_z) \\right]$$"
   ]
  },
  {
   "cell_type": "markdown",
   "metadata": {},
   "source": [
    "### Flux divergences $\\nabla \\cdotp (\\mathbf{u} Q)$\n",
    "\n",
    "### Pressure gradient force $\\nabla p$\n",
    "\n",
    "### Laplacian diffusion $\\nabla\\cdotp(\\kappa\\nabla Q)$\n",
    "\n",
    "### Viscous dissipation $\\nabla\\cdotp(\\nu\\nabla u)$\n",
    "\n",
    "---"
   ]
  },
  {
   "cell_type": "markdown",
   "metadata": {},
   "source": [
    "## **Elliptic problem for the pressure**\n",
    "\n",
    "### $$\\nabla^2 (\\phi_s + \\phi_{nh}) = \\nabla \\cdotp \\mathbf{G}_u = \\mathscr{F}$$\n",
    "\n",
    "---"
   ]
  },
  {
   "cell_type": "markdown",
   "metadata": {},
   "source": [
    "## **Fourier-spectral solver for 3D Poisson equation with horizontally periodic and vertically Neumann boundary conditions**\n",
    "### $$ \\hat{\\phi}_{nh} = -\\frac{\\hat{\\mathscr{F}}}{\\mathbf{k}^2} $$\n",
    "where $\\mathbf{k}^2 = k_x^2 + k_y^2 + k_z^2$\n",
    "---"
   ]
  },
  {
   "cell_type": "markdown",
   "metadata": {},
   "source": [
    "## **Profiling results from a similar MITgcm simulation**"
   ]
  },
  {
   "cell_type": "markdown",
   "metadata": {},
   "source": [
    "## **References**\n",
    "### 1. Marshall, J., Hill, C., Perelman, L., Adcroft, A., **Hydrostatic, quasi-hydrostatic, and nonhydrostatic ocean modeling**, _Journal of Geophysical Research_ 102(C3), 5733-5752 (1997).\n",
    "### 2. Marshall, J., Adcroft, A., Hill, C., Perelman, L., & Heisey, C., **A finite-volume, incompressible Navier Stokes model for studies of the ocean on parallel computers**, _Journal of Geophysical Research_ 102(C3), 5753-5766 (1997).\n",
    "### 3. Alistair Adcroft, Jean-Michel Campin, Ed Doddridge, Stephanie Dutkiewicz, Constantinos Evangelinos, David Ferreira, Mick Follows, Gael Forget, Baylor Fox-Kemper, Patrick Heimbach, Chris Hill, Ed Hill, Helen Hill, Oliver Jahn, Jody Klymak, Martin Losch, John Marshall, Guillaume Maze, Matt Mazloff, Dimitris Menemenlis, Andrea Molod, and Jeff Scott. **MITgcm user manual**. (2008-2018)\n",
    "### 4. Frigo, M., & Johnson, S. G., **The design and implementation of FFTW3**, _Proceedings of the IEEE_, 93(2), 216-231 (2005)."
   ]
  },
  {
   "cell_type": "code",
   "execution_count": 1,
   "metadata": {},
   "outputs": [],
   "source": [
    "cd(\"C:\\\\Users\\\\Ali\\\\Documents\\\\Git\\\\OceanDispatch.jl\\\\\")"
   ]
  },
  {
   "cell_type": "code",
   "execution_count": 2,
   "metadata": {},
   "outputs": [],
   "source": [
    "using Pkg\n",
    "using Statistics: mean\n",
    "\n",
    "Pkg.activate(\".\");"
   ]
  },
  {
   "cell_type": "code",
   "execution_count": 3,
   "metadata": {},
   "outputs": [],
   "source": [
    "using OceanDispatch"
   ]
  },
  {
   "cell_type": "code",
   "execution_count": null,
   "metadata": {},
   "outputs": [],
   "source": [
    "Pkg.test(\"OceanDispatch\")"
   ]
  },
  {
   "cell_type": "code",
   "execution_count": 4,
   "metadata": {},
   "outputs": [
    {
     "data": {
      "text/plain": [
       "false"
      ]
     },
     "execution_count": 4,
     "metadata": {},
     "output_type": "execute_result"
    }
   ],
   "source": [
    "Nx, Ny, Nz = 10, 10, 10\n",
    "f = rand(Nx, Ny, Nz)\n",
    "f .= f .- mean(f)\n",
    "ϕ = solve_poisson_3d_ppn(f, Nx, Ny, Nz)\n",
    "laplacian3d_ppn(ϕ) ≈ f"
   ]
  },
  {
   "cell_type": "code",
   "execution_count": null,
   "metadata": {},
   "outputs": [],
   "source": [
    "f = rand(Nx, Ny, Nz)\n",
    "f .= f .- mean(f)\n",
    "ϕ = solve_poisson_3d_ppn(f, Nx, Ny, Nz)\n",
    "laplacian3d_ppn(ϕ) ≈ f"
   ]
  },
  {
   "cell_type": "markdown",
   "metadata": {},
   "source": []
  }
 ],
 "metadata": {
  "kernelspec": {
   "display_name": "Julia 1.0.0",
   "language": "julia",
   "name": "julia-1.0"
  },
  "language_info": {
   "file_extension": ".jl",
   "mimetype": "application/julia",
   "name": "julia",
   "version": "1.0.0"
  }
 },
 "nbformat": 4,
 "nbformat_minor": 2
}
