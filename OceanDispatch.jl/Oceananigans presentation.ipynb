{
 "cells": [
  {
   "cell_type": "markdown",
   "metadata": {},
   "source": [
    "# <p style=\"text-align: center;\">**Oceananigans.jl**</p>\n",
    "## <p style=\"text-align: center;\">Massively parallel non-hydrostatic ocean modeling on GPUs in Julia</p>"
   ]
  },
  {
   "cell_type": "markdown",
   "metadata": {},
   "source": [
    "## **Acknowledgements**\n",
    "* ### While I did write the code, I did not do this alone!\n",
    "* ### **EAPS**: Chris Hill, Jean-Michel Campin, John Marshall, Greg Wagner, Mukund Gupta.\n",
    "* ### **Julia Lab**: Valentin Churavy, Peter Ahrens, Shashi Gowda, Sung Woo Jeong, Ranjan Anantharaman, Alan Edelman."
   ]
  },
  {
   "cell_type": "markdown",
   "metadata": {},
   "source": [
    "### **Julia Packages used**: `FFTW, CUDAnative, CUDAdrv, CuArrays, DistributedArrays, PyPlot, Makie, Interact`"
   ]
  },
  {
   "cell_type": "markdown",
   "metadata": {},
   "source": [
    "## **References**\n",
    "### 1. Marshall, Adcroft, Hill, Perelman, & Heisey, **A finite-volume, incompressible Navier Stokes model for studies of the ocean on parallel computers**, _Journal of Geophysical Research_ 102(C3), pp. 5753-5766 (1997).\n",
    "### 2. Marshall, Hill, Perelman, Adcroft, **Hydrostatic, quasi-hydrostatic, and nonhydrostatic ocean modeling**, _Journal of Geophysical Research_ 102(C3), pp. 5733-5732 (1997)."
   ]
  },
  {
   "cell_type": "code",
   "execution_count": 1,
   "metadata": {},
   "outputs": [],
   "source": [
    "cd(\"C:\\\\Users\\\\Ali\\\\Documents\\\\Git\\\\OceanDispatch.jl\\\\\")"
   ]
  },
  {
   "cell_type": "code",
   "execution_count": 2,
   "metadata": {},
   "outputs": [],
   "source": [
    "using Pkg\n",
    "using Statistics: mean\n",
    "\n",
    "Pkg.activate(\".\");"
   ]
  },
  {
   "cell_type": "code",
   "execution_count": 3,
   "metadata": {},
   "outputs": [],
   "source": [
    "using OceanDispatch"
   ]
  },
  {
   "cell_type": "code",
   "execution_count": null,
   "metadata": {},
   "outputs": [],
   "source": [
    "Pkg.test(\"OceanDispatch\")"
   ]
  },
  {
   "cell_type": "code",
   "execution_count": 4,
   "metadata": {},
   "outputs": [
    {
     "data": {
      "text/plain": [
       "false"
      ]
     },
     "execution_count": 4,
     "metadata": {},
     "output_type": "execute_result"
    }
   ],
   "source": [
    "Nx, Ny, Nz = 10, 10, 10\n",
    "f = rand(Nx, Ny, Nz)\n",
    "f .= f .- mean(f)\n",
    "ϕ = solve_poisson_3d_ppn(f, Nx, Ny, Nz)\n",
    "laplacian3d_ppn(ϕ) ≈ f"
   ]
  },
  {
   "cell_type": "code",
   "execution_count": null,
   "metadata": {},
   "outputs": [],
   "source": [
    "f = rand(Nx, Ny, Nz)\n",
    "f .= f .- mean(f)\n",
    "ϕ = solve_poisson_3d_ppn(f, Nx, Ny, Nz)\n",
    "laplacian3d_ppn(ϕ) ≈ f"
   ]
  },
  {
   "cell_type": "markdown",
   "metadata": {},
   "source": []
  }
 ],
 "metadata": {
  "kernelspec": {
   "display_name": "Julia 1.0.0",
   "language": "julia",
   "name": "julia-1.0"
  },
  "language_info": {
   "file_extension": ".jl",
   "mimetype": "application/julia",
   "name": "julia",
   "version": "1.0.0"
  }
 },
 "nbformat": 4,
 "nbformat_minor": 2
}
