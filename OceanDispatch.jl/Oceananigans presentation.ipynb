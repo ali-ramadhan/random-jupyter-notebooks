{
 "cells": [
  {
   "cell_type": "markdown",
   "metadata": {},
   "source": [
    "# <p style=\"text-align: center;\">**Oceananigans.jl**</p>\n",
    "## <p style=\"text-align: center;\">Massively parallel non-hydrostatic ocean modeling on GPUs in Julia</p>"
   ]
  },
  {
   "cell_type": "markdown",
   "metadata": {},
   "source": [
    "## **Acknowledgements**\n",
    "* ### While I did write the code, I did not do this alone!\n",
    "* ### **EAPS**: Chris Hill, Jean-Michel Campin, John Marshall, Greg Wagner, Mukund Gupta.\n",
    "* ### **Julia Lab**: Valentin Churavy, Peter Ahrens, Shashi Gowda, Sung Woo Jeong, Ranjan Anantharaman, Alan Edelman."
   ]
  },
  {
   "cell_type": "markdown",
   "metadata": {},
   "source": [
    "### **Julia Packages used**: `FFTW, CUDAnative, CUDAdrv, CuArrays, DistributedArrays, PyPlot, Makie, Interact`"
   ]
  },
  {
   "cell_type": "markdown",
   "metadata": {},
   "source": [
    "## **Navier-Stokes equations in a non-inertial reference frame**\n",
    "### $$\\rho \\frac{D \\mathbf{u}}{D t}  = -\\nabla p + \\mu \\, \\nabla^2 \\mathbf{u} + \\tfrac13 \\mu \\, \\nabla (\\nabla\\cdot\\mathbf{u}) + \\rho\\mathbf{g} - \\rho \\left( 2\\mathbf{\\Omega} \\times \\mathbf{u} + \\mathbf{\\Omega} \\times \\mathbf{\\Omega} \\times \\mathbf{x} + \\frac{d \\mathbf{U}}{dt} + \\frac{d\\mathbf{\\Omega}}{dt} \\times \\mathbf{x} \\right)$$ where $\\displaystyle \\frac{D}{Dt} = \\frac{\\partial}{\\partial t} + \\mathbf{u} \\cdot \\nabla$ is the material derivative, $\\mathbf{g}$ is the acceleration due to gravity, $\\rho$ is the fluid density, $\\mathbf{x}$ is the position vector, $\\mathbf{u} = (u,v,w)$ is the fluid flow velocity, $\\mathbf{U}$ is the frame translation velocity,  $\\mu$ is the viscosity, and $\\Omega$ is the frame angular velocity."
   ]
  },
  {
   "cell_type": "markdown",
   "metadata": {},
   "source": [
    "## **Governing equations for non-hydrostatic ocean modeling**"
   ]
  },
  {
   "cell_type": "markdown",
   "metadata": {},
   "source": [
    "## **References**\n",
    "### 1. Marshall, J., Hill, C., Perelman, L., Adcroft, A., **Hydrostatic, quasi-hydrostatic, and nonhydrostatic ocean modeling**, _Journal of Geophysical Research_ 102(C3), 5733-5752 (1997).\n",
    "### 2. Marshall, J., Adcroft, A., Hill, C., Perelman, L., & Heisey, C., **A finite-volume, incompressible Navier Stokes model for studies of the ocean on parallel computers**, _Journal of Geophysical Research_ 102(C3), 5753-5766 (1997).\n",
    "### 3. Frigo, M., & Johnson, S. G., **The design and implementation of FFTW3**, _Proceedings of the IEEE_, 93(2), 216-231 (2005)."
   ]
  },
  {
   "cell_type": "code",
   "execution_count": 1,
   "metadata": {},
   "outputs": [],
   "source": [
    "cd(\"C:\\\\Users\\\\Ali\\\\Documents\\\\Git\\\\OceanDispatch.jl\\\\\")"
   ]
  },
  {
   "cell_type": "code",
   "execution_count": 2,
   "metadata": {},
   "outputs": [],
   "source": [
    "using Pkg\n",
    "using Statistics: mean\n",
    "\n",
    "Pkg.activate(\".\");"
   ]
  },
  {
   "cell_type": "code",
   "execution_count": 3,
   "metadata": {},
   "outputs": [],
   "source": [
    "using OceanDispatch"
   ]
  },
  {
   "cell_type": "code",
   "execution_count": null,
   "metadata": {},
   "outputs": [],
   "source": [
    "Pkg.test(\"OceanDispatch\")"
   ]
  },
  {
   "cell_type": "code",
   "execution_count": 4,
   "metadata": {},
   "outputs": [
    {
     "data": {
      "text/plain": [
       "false"
      ]
     },
     "execution_count": 4,
     "metadata": {},
     "output_type": "execute_result"
    }
   ],
   "source": [
    "Nx, Ny, Nz = 10, 10, 10\n",
    "f = rand(Nx, Ny, Nz)\n",
    "f .= f .- mean(f)\n",
    "ϕ = solve_poisson_3d_ppn(f, Nx, Ny, Nz)\n",
    "laplacian3d_ppn(ϕ) ≈ f"
   ]
  },
  {
   "cell_type": "code",
   "execution_count": null,
   "metadata": {},
   "outputs": [],
   "source": [
    "f = rand(Nx, Ny, Nz)\n",
    "f .= f .- mean(f)\n",
    "ϕ = solve_poisson_3d_ppn(f, Nx, Ny, Nz)\n",
    "laplacian3d_ppn(ϕ) ≈ f"
   ]
  },
  {
   "cell_type": "markdown",
   "metadata": {},
   "source": []
  }
 ],
 "metadata": {
  "kernelspec": {
   "display_name": "Julia 1.0.0",
   "language": "julia",
   "name": "julia-1.0"
  },
  "language_info": {
   "file_extension": ".jl",
   "mimetype": "application/julia",
   "name": "julia",
   "version": "1.0.0"
  }
 },
 "nbformat": 4,
 "nbformat_minor": 2
}
