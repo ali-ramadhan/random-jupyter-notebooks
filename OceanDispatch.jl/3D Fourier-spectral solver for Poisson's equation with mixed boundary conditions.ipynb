{
 "cells": [
  {
   "cell_type": "code",
   "execution_count": 1,
   "metadata": {},
   "outputs": [
    {
     "data": {
      "text/html": [
       "    <script class='js-collapse-script'>\n",
       "        var curMatch =\n",
       "            window.location.href\n",
       "            .match(/(.*?)\\/notebooks\\/.*\\.ipynb/);\n",
       "\n",
       "        curMatch = curMatch ||\n",
       "            window.location.href\n",
       "            .match(/(.*?)\\/apps\\/.*\\.ipynb/);\n",
       "\n",
       "        if ( curMatch ) {\n",
       "            $('head').append('<base href=\"' + curMatch[1] + '/\">');\n",
       "        }\n",
       "    </script>\n"
      ],
      "text/plain": [
       "HTML{String}(\"    <script class='js-collapse-script'>\\n        var curMatch =\\n            window.location.href\\n            .match(/(.*?)\\\\/notebooks\\\\/.*\\\\.ipynb/);\\n\\n        curMatch = curMatch ||\\n            window.location.href\\n            .match(/(.*?)\\\\/apps\\\\/.*\\\\.ipynb/);\\n\\n        if ( curMatch ) {\\n            \\$('head').append('<base href=\\\"' + curMatch[1] + '/\\\">');\\n        }\\n    </script>\\n\")"
      ]
     },
     "metadata": {},
     "output_type": "display_data"
    },
    {
     "data": {
      "text/html": [
       "<script class='js-collapse-script' src='/assetserver/05a54a8cd5b6d9c9183d90a9a0f9abc6032d3417-assets/webio/dist/bundle.js'></script>"
      ],
      "text/plain": [
       "HTML{String}(\"<script class='js-collapse-script' src='/assetserver/05a54a8cd5b6d9c9183d90a9a0f9abc6032d3417-assets/webio/dist/bundle.js'></script>\")"
      ]
     },
     "metadata": {},
     "output_type": "display_data"
    },
    {
     "data": {
      "text/html": [
       "<script class='js-collapse-script' src='/assetserver/05a54a8cd5b6d9c9183d90a9a0f9abc6032d3417-assets/providers/ijulia_setup.js'></script>"
      ],
      "text/plain": [
       "HTML{String}(\"<script class='js-collapse-script' src='/assetserver/05a54a8cd5b6d9c9183d90a9a0f9abc6032d3417-assets/providers/ijulia_setup.js'></script>\")"
      ]
     },
     "metadata": {},
     "output_type": "display_data"
    },
    {
     "data": {
      "text/html": [
       "  <script class='js-collapse-script'>\n",
       "    $('.js-collapse-script').parent('.output_subarea').css('padding', '0');\n",
       "  </script>\n"
      ],
      "text/plain": [
       "HTML{String}(\"  <script class='js-collapse-script'>\\n    \\$('.js-collapse-script').parent('.output_subarea').css('padding', '0');\\n  </script>\\n\")"
      ]
     },
     "metadata": {},
     "output_type": "display_data"
    }
   ],
   "source": [
    "using Statistics: mean\n",
    "\n",
    "import FFTW\n",
    "\n",
    "using Interact\n",
    "using PyPlot"
   ]
  },
  {
   "cell_type": "code",
   "execution_count": null,
   "metadata": {},
   "outputs": [],
   "source": [
    "function solve_poisson_3d_mbc(f, Lx, Ly, Lz, wavenumbers)\n",
    "    Nx, Ny, Nz = size(f)  # Number of grid points (excluding the periodic end point).\n",
    "\n",
    "    # Forward transform the real-valued source term.\n",
    "    fh = FFTW.dct(FFTW.rfft(f, [1, 2]), 3)\n",
    "\n",
    "    # Wavenumber indices.    \n",
    "    l1 = 0:Int(Nx/2)\n",
    "    l2 = Int(-Nx/2 + 1):-1\n",
    "    m1 = 0:Int(Ny/2)\n",
    "    m2 = Int(-Ny/2 + 1):-1\n",
    "    n1 = 0:Int(Nz/2)\n",
    "    n2 = Int(-Nz/2 + 1):-1\n",
    "\n",
    "    if wavenumbers == :second_order\n",
    "        Δx = Lx/Nx\n",
    "        Δy = Ly/Ny\n",
    "        Δz = Lz/Nz\n",
    "        \n",
    "        kx² = reshape((4/Δx^2) .* sin.( (π/Nx) .* cat(l1, l2, dims=1)).^2, (Nx, 1, 1))\n",
    "        ky² = reshape((4/Δy^2) .* sin.( (π/Ny) .* cat(m1, m2, dims=1)).^2, (1, Ny, 1))\n",
    "        # kz² = reshape((2/Δz^2) .* (cos.( (π/Nz) .* cat(n1, n2, dims=1)) .- 1), (1, 1, Nz))\n",
    "        kz² = reshape((2/Δz^2) .* (cos.( (π/Nz) .* (1:(Nz-1))) .- 1), (1, 1, Nz))\n",
    "        \n",
    "        k² = @. -kx² - ky² + kz²\n",
    "        ϕh = fh ./ k²[1:Int(Nx/2 + 1), :, :]\n",
    "    elseif wavenumbers == :analytic\n",
    "        kx = reshape((2π/Lx) * cat(l1, l2, dims=1), (Nx, 1, 1))\n",
    "        ky = reshape((2π/Ly) * cat(m1, m2, dims=1), (1, Ny, 1))\n",
    "        kz = reshape((1π/Lz) * cat(n1, n2, dims=1), (1, 1, Nz))\n",
    "        \n",
    "        k² = @. kx^2 + ky^2 + kz^2\n",
    "        ϕh = - fh ./ k²[1:Int(Nx/2 + 1), :, :]\n",
    "    end\n",
    "\n",
    "    # Setting the DC/zero Fourier component to zero.\n",
    "    ϕh[1, 1, 1] = 0\n",
    "\n",
    "    # Take the inverse transform of the solution's Fourier coefficients.\n",
    "    ϕ = FFTW.irfft(FFTW.idct(ϕh, 3), Nx, [1, 2])\n",
    "end"
   ]
  },
  {
   "cell_type": "code",
   "execution_count": null,
   "metadata": {},
   "outputs": [],
   "source": [
    "A = rand(4,4,4)"
   ]
  },
  {
   "cell_type": "code",
   "execution_count": null,
   "metadata": {},
   "outputs": [],
   "source": [
    "N = 8\n",
    "A = rand(N, N, N)\n",
    "Ã1 = FFTW.dct(FFTW.rfft(A, [1, 2]), 3)\n",
    "Ã2 = FFTW.rfft(FFTW.dct(A, 3), [1, 2])\n",
    "Ã1 ≈ Ã2"
   ]
  },
  {
   "cell_type": "code",
   "execution_count": null,
   "metadata": {},
   "outputs": [],
   "source": [
    "N = 8\n",
    "A = rand(N, N, N)\n",
    "\n",
    "Ã1 = FFTW.dct(FFTW.rfft(A, [1, 2]), 3)\n",
    "Ã2 = FFTW.rfft(FFTW.dct(A, 3), [1, 2])\n",
    "\n",
    "A11 = FFTW.irfft(FFTW.idct(Ã1, 3), N, [1, 2])\n",
    "A12 = FFTW.idct(FFTW.irfft(Ã1, N, [1, 2]), 3)\n",
    "A21 = FFTW.irfft(FFTW.idct(Ã2, 3), N, [1, 2])\n",
    "A22 = FFTW.idct(FFTW.irfft(Ã2, N, [1, 2]), 3)\n",
    "A ≈ A11 && A ≈ A12 && A ≈ A21 && A ≈ A22"
   ]
  },
  {
   "cell_type": "code",
   "execution_count": null,
   "metadata": {},
   "outputs": [],
   "source": [
    "Lx, Ly, Lz = 8, 8, 8              # Domain size.\n",
    "Nx, Ny, Nz = 64, 64, 64           # Number of grid points.\n",
    "Δx, Δy, Δz = Lx/Nx, Ly/Ny, Lz/Nz  # Grid spacing.\n",
    "\n",
    "# Grid point locations.\n",
    "x = Δx * (0:(Nx-1));\n",
    "y = Δy * (0:(Ny-1));\n",
    "z = Δz * (0:(Nz-1));\n",
    "\n",
    "# Primed coordinates to easily calculate a Gaussian centered at\n",
    "# (Lx/2, Ly/2).\n",
    "x′ = reshape(x .- Lx/2, (Nx, 1, 1))\n",
    "y′ = reshape(y .- Ly/2, (1, Ny, 1))\n",
    "z′ = reshape(z .- Lz/2, (1, 1, Nz))\n",
    "\n",
    "f = @. 4 * (x′^2 + y′^2 - 1 - (π/Lz)^2) * cos((2π/Lz) * z′) * exp(-(x′^2 + y′^2))  # Source term\n",
    "f .= f .- mean(f)  # Ensure that source term integrates to zero.\n",
    "\n",
    "ϕa = @. cos((2π/Lz) * z′) * exp(-(x′^2 + y′^2))  # Analytic solution\n",
    "\n",
    "ϕs = solve_poisson_3d_mbc(f, Lx, Ly, Lz)"
   ]
  },
  {
   "cell_type": "code",
   "execution_count": null,
   "metadata": {},
   "outputs": [],
   "source": [
    "# @show size(x)\n",
    "# @show size(y)\n",
    "# @show size(f)\n",
    "# @show minimum(f)\n",
    "# @show maximum(f)\n",
    "fig = figure()\n",
    "@manipulate for n in 1:Nz\n",
    "    withfig(fig) do\n",
    "        # PyPlot.contourf(x, y, f[:, :, n], levels=20, vmin=-6, vmax=0.5); PyPlot.colorbar();\n",
    "        PyPlot.pcolormesh(x, y, f[:, :, n], cmap=\"bwr\", vmin=-4, vmax=4); PyPlot.colorbar();\n",
    "    end\n",
    "end"
   ]
  },
  {
   "cell_type": "code",
   "execution_count": null,
   "metadata": {},
   "outputs": [],
   "source": [
    "@show minimum(ϕs)\n",
    "@show maximum(ϕs)\n",
    "@show minimum(ϕa)\n",
    "@show maximum(ϕa)"
   ]
  },
  {
   "cell_type": "code",
   "execution_count": null,
   "metadata": {},
   "outputs": [],
   "source": [
    "fig = figure()\n",
    "@manipulate for n in 1:Nz\n",
    "    withfig(fig) do\n",
    "        # PyPlot.contourf(x, y, f[:, :, n], levels=20, vmin=-6, vmax=0.5); PyPlot.colorbar();\n",
    "        PyPlot.pcolormesh(x, y, ϕs[:, :, n] - ϕa[:, :, n], vmin=-0.5, vmax=0.5, cmap=\"bwr\"); PyPlot.colorbar();\n",
    "    end\n",
    "end"
   ]
  },
  {
   "cell_type": "code",
   "execution_count": null,
   "metadata": {},
   "outputs": [],
   "source": [
    "mean(abs.(ϕs - ϕa))"
   ]
  },
  {
   "cell_type": "code",
   "execution_count": null,
   "metadata": {},
   "outputs": [],
   "source": [
    "Ns = [8, 16, 32, 64, 128, 256]\n",
    "errors = []\n",
    "for N in Ns\n",
    "    Lx, Ly, Lz = 8, 8, 8              # Domain size.\n",
    "    Nx, Ny, Nz = N, N, N              # Number of grid points.\n",
    "    Δx, Δy, Δz = Lx/Nx, Ly/Ny, Lz/Nz  # Grid spacing.\n",
    "\n",
    "    # Grid point locations.\n",
    "    x = Δx * (0:(Nx-1));\n",
    "    y = Δy * (0:(Ny-1));\n",
    "    z = Δz * (0:(Nz-1));\n",
    "\n",
    "    # Primed coordinates to easily calculate a Gaussian centered at\n",
    "    # (Lx/2, Ly/2).\n",
    "    x′ = reshape(x .- Lx/2, (Nx, 1, 1))\n",
    "    y′ = reshape(y .- Ly/2, (1, Ny, 1))\n",
    "    z′ = reshape(z .- Lz/2, (1, 1, Nz))\n",
    "\n",
    "    f = @. 4 * (x′^2 + y′^2 - 1 - (π/Lz)^2) * cos((2π/Lz) * z′) * exp(-(x′^2 + y′^2))  # Source term\n",
    "    f .= f .- mean(f)  # Ensure that source term integrates to zero.\n",
    "\n",
    "    ϕa = @. cos((2π/Lz) * z′) * exp(-(x′^2 + y′^2))  # Analytic solution\n",
    "\n",
    "    ϕs = solve_poisson_3d_mbc(f, Lx, Ly, Lz, :second_order)\n",
    "    \n",
    "    @show N\n",
    "    @show minimum(ϕs)\n",
    "    @show maximum(ϕs)\n",
    "    @show minimum(ϕa)\n",
    "    @show maximum(ϕa)\n",
    "    @show mean_error = mean(abs.(ϕs - ϕa))\n",
    "    append!(errors, mean_error)\n",
    "end"
   ]
  },
  {
   "cell_type": "code",
   "execution_count": null,
   "metadata": {},
   "outputs": [],
   "source": [
    "PyPlot.loglog(Ns, errors, linestyle=\"--\", marker=\"o\");\n",
    "slope = (log10(errors[end]) - log10(errors[1])) / (log10(Ns[end]) - log10(Ns[1]));\n",
    "PyPlot.xlabel(\"Nx = Ny = Nz = N\")\n",
    "PyPlot.ylabel(\"mean(abs(error))\")\n",
    "@show slope;"
   ]
  },
  {
   "cell_type": "code",
   "execution_count": null,
   "metadata": {},
   "outputs": [],
   "source": [
    "Ns = [8, 16, 32, 64, 128, 256]\n",
    "errors = []\n",
    "for N in Ns\n",
    "    Lx, Ly, Lz = 8, 8, 8              # Domain size.\n",
    "    Nx, Ny, Nz = N, N, N              # Number of grid points.\n",
    "    Δx, Δy, Δz = Lx/Nx, Ly/Ny, Lz/Nz  # Grid spacing.\n",
    "\n",
    "    # Grid point locations.\n",
    "    x = Δx * (0:(Nx-1));\n",
    "    y = Δy * (0:(Ny-1));\n",
    "    z = Δz * (0:(Nz-1));\n",
    "\n",
    "    # Primed coordinates to easily calculate a Gaussian centered at\n",
    "    # (Lx/2, Ly/2).\n",
    "    x′ = reshape(x .- Lx/2, (Nx, 1, 1))\n",
    "    y′ = reshape(y .- Ly/2, (1, Ny, 1))\n",
    "    z′ = reshape(z .- Lz/2, (1, 1, Nz))\n",
    "\n",
    "    f = @. ( 4*(x′^2 + y′^2 - 1) - (π/(2*Lz))^2) * cos((π/2*Lz) * z′) * exp(-(x′^2 + y′^2))  # Source term\n",
    "    f .= f .- mean(f)  # Ensure that source term integrates to zero.\n",
    "\n",
    "    ϕa = @. cos((π/(2*Lz)) * z′) * exp(-(x′^2 + y′^2))  # Analytic solution\n",
    "\n",
    "    ϕs = solve_poisson_3d_mbc(f, Lx, Ly, Lz, :analytic)\n",
    "    ϕs .= ϕs .- minimum(ϕs)\n",
    "    \n",
    "    @show N\n",
    "    @show minimum(ϕs)\n",
    "    @show maximum(ϕs)\n",
    "    @show minimum(ϕa)\n",
    "    @show maximum(ϕa)\n",
    "    @show mean_error = mean(abs.(ϕs - ϕa))\n",
    "    append!(errors, mean_error)\n",
    "end"
   ]
  },
  {
   "cell_type": "code",
   "execution_count": null,
   "metadata": {},
   "outputs": [],
   "source": [
    "@show minimum(ϕs)\n",
    "@show maximum(ϕs)\n",
    "@show minimum(ϕa)\n",
    "@show maximum(ϕa)\n",
    "ϕs .= ϕs .- minimum(ϕs)\n",
    " @show mean(abs.(ϕs - ϕa))"
   ]
  },
  {
   "cell_type": "code",
   "execution_count": null,
   "metadata": {},
   "outputs": [],
   "source": [
    "fig = figure()\n",
    "@manipulate for n in 1:Nz\n",
    "    withfig(fig) do\n",
    "        # PyPlot.contourf(x, y, f[:, :, n], levels=20, vmin=-6, vmax=0.5); PyPlot.colorbar();\n",
    "        PyPlot.pcolormesh(x, y, ϕs[:, :, n], vmin=-0.5, vmax=0.5, cmap=\"bwr\"); PyPlot.colorbar();\n",
    "    end\n",
    "end"
   ]
  },
  {
   "cell_type": "code",
   "execution_count": null,
   "metadata": {},
   "outputs": [],
   "source": [
    "@inline incmod1(a, n) = a == n ? one(a) : a + 1\n",
    "@inline decmod1(a, n) = a == 1 ? n : a - 1\n",
    "\n",
    "function laplacian(f)\n",
    "    Nx, Ny, Nz = size(f)\n",
    "    ∇²f = zeros(Nx, Ny, Nz)\n",
    "#     for k in 2:(Nz-1), j in 1:Ny, i in 1:Nx\n",
    "#        ∇²f[i, j, k] = f[incmod1(i, Nx), j, k] + f[decmod1(i, Nx), j, k] + f[i, incmod1(j, Ny), k] + f[i, decmod1(j, Ny), k] + f[i, j, k+1] + f[i, j, k-1] - 6*f[i, j, k]\n",
    "#     end\n",
    "    for k in 1:Nz, j in 1:Ny, i in 1:Nx\n",
    "       ∇²f[i, j, k] = f[incmod1(i, Nx), j, k] + f[decmod1(i, Nx), j, k] + f[i, incmod1(j, Ny), k] + f[i, decmod1(j, Ny), k] + f[i, j, incmod1(k, Nz)] + f[i, j, decmod1(k, Nz)] - 6*f[i, j, k]\n",
    "    end\n",
    "    ∇²f\n",
    "end"
   ]
  },
  {
   "cell_type": "code",
   "execution_count": null,
   "metadata": {},
   "outputs": [],
   "source": [
    "l1 = 0:Int(Nx/2)\n",
    "l2 = Int(-Nx/2 + 1):-1\n",
    "m1 = 0:Int(Ny/2)\n",
    "m2 = Int(-Ny/2 + 1):-1\n",
    "n1 = 0:Int(Nz/2)\n",
    "n2 = Int(-Nz/2 + 1):-1\n",
    "\n",
    "Δx = Lx/Nx\n",
    "Δy = Ly/Ny\n",
    "Δz = Lz/Nz\n",
    "\n",
    "kz² = reshape((2/Δz^2) .* (cos.( (π/Nz) .* cat(n1, n2, dims=1)) .- 1), (1, 1, Nz))"
   ]
  },
  {
   "cell_type": "code",
   "execution_count": null,
   "metadata": {},
   "outputs": [],
   "source": [
    "Nx, Ny, Nz = 10, 10, 10\n",
    "ff = rand(Nx, Ny, Nz)\n",
    "ff[:, :, 1] = ff[:, :, 2]\n",
    "ff[:, :, end] .= ff[:, :, end-1]\n",
    "ff .= ff .- mean(ff)\n",
    "ff"
   ]
  },
  {
   "cell_type": "code",
   "execution_count": null,
   "metadata": {},
   "outputs": [],
   "source": [
    "ϕr = solve_poisson_3d_mbc(ff, Nx, Ny, Nz, :second_order)"
   ]
  },
  {
   "cell_type": "code",
   "execution_count": null,
   "metadata": {},
   "outputs": [],
   "source": [
    "ffr = laplacian(ϕr)"
   ]
  },
  {
   "cell_type": "code",
   "execution_count": null,
   "metadata": {},
   "outputs": [],
   "source": []
  }
 ],
 "metadata": {
  "@webio": {
   "lastCommId": "75976584E647432A9A847FCD49A30F28",
   "lastKernelId": "88b6c300-161e-43df-8b08-809df5a78ed2"
  },
  "kernelspec": {
   "display_name": "Julia 1.0.0",
   "language": "julia",
   "name": "julia-1.0"
  },
  "language_info": {
   "file_extension": ".jl",
   "mimetype": "application/julia",
   "name": "julia",
   "version": "1.0.0"
  }
 },
 "nbformat": 4,
 "nbformat_minor": 2
}
