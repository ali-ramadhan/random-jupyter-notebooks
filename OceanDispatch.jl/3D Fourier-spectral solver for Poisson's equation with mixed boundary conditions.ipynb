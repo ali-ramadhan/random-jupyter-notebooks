{
 "cells": [
  {
   "cell_type": "code",
   "execution_count": 3,
   "metadata": {},
   "outputs": [
    {
     "data": {
      "text/html": [
       "    <script id=\"webio-setup-323816985277719665\">\n",
       "    // Immediately-invoked-function-expression to avoid global variables.\n",
       "    (function() {\n",
       "        var warning_div = document.getElementById(\"webio-warning-14943226808849853917\");\n",
       "        var hide = function () {\n",
       "            var script = document.getElementById(\"webio-setup-323816985277719665\");\n",
       "            var parent = script && script.parentElement;\n",
       "            var grandparent = parent && parent.parentElement;\n",
       "            if (grandparent) {\n",
       "                grandparent.style.display = \"none\";\n",
       "            }\n",
       "            warning_div.style.display = \"none\";\n",
       "        };\n",
       "        if (window.require && require.defined) {\n",
       "            // Jupyter notebook.\n",
       "            if (require.defined(\"nbextensions/webio/main\")\n",
       "                    || require.defined(\"/assetserver/9093b8cc8b7907b7b9e649a9d83d7b6984e8ee13-dist/main.js\")) {\n",
       "                // Extension already loaded.\n",
       "                hide();\n",
       "                return;\n",
       "            }\n",
       "            console.warn(\"Loading WebIO Jupyter extension on an ad-hoc basis. Consider enabling the WebIO nbextension for a stabler experience (this should happen automatically when building WebIO).\");\n",
       "            require([\"/assetserver/9093b8cc8b7907b7b9e649a9d83d7b6984e8ee13-dist/main.js\"], function (webIOModule) {\n",
       "                webIOModule.load_ipython_extension();\n",
       "            });\n",
       "            warning_div.innerHTML = \"<strong>Loading WebIO Jupyter extension on an ad-hoc basis. Consider enabling the WebIO nbextension for a stabler experience (this should happen automatically when building WebIO).</strong>\";\n",
       "        } else if (window.location.pathname.includes(\"/lab\")) {\n",
       "            // Guessing JupyterLab\n",
       "            warning_div.innerHTML = \"WebIO does not support JupyterLab yet.\";\n",
       "        }\n",
       "    })();\n",
       "    </script>\n",
       "    <div\n",
       "        id=\"webio-warning-14943226808849853917\"\n",
       "        class=\"output_text output_stderr\"\n",
       "        style=\"padding: 1em; font-weight: bold;\"\n",
       "    >\n",
       "        Unable to load WebIO. Please make sure WebIO works for your Jupyter client.\n",
       "        <!-- TODO: link to installation docs. -->\n",
       "    </div>\n"
      ],
      "text/plain": [
       "HTML{String}(\"    <script id=\\\"webio-setup-323816985277719665\\\">\\n    // Immediately-invoked-function-expression to avoid global variables.\\n    (function() {\\n        var warning_div = document.getElementById(\\\"webio-warning-14943226808849853917\\\");\\n        var hide = function () {\\n            var script = document.getElementById(\\\"webio-setup-323816985277719665\\\");\\n            var parent = script && script.parentElement;\\n            var grandparent = parent && parent.parentElement;\\n            if (grandparent) {\\n                grandparent.style.display = \\\"none\\\";\\n            }\\n            warning_div.style.display = \\\"none\\\";\\n        };\\n        if (window.require && require.defined) {\\n            // Jupyter notebook.\\n            if (require.defined(\\\"nbextensions/webio/main\\\")\\n                    || require.defined(\\\"/assetserver/9093b8cc8b7907b7b9e649a9d83d7b6984e8ee13-dist/main.js\\\")) {\\n                // Extension already loaded.\\n                hide();\\n                return;\\n            }\\n            console.warn(\\\"Loading WebIO Jupyter extension on an ad-hoc basis. Consider enabling the WebIO nbextension for a stabler experience (this should happen automatically when building WebIO).\\\");\\n            require([\\\"/assetserver/9093b8cc8b7907b7b9e649a9d83d7b6984e8ee13-dist/main.js\\\"], function (webIOModule) {\\n                webIOModule.load_ipython_extension();\\n            });\\n            warning_div.innerHTML = \\\"<strong>Loading WebIO Jupyter extension on an ad-hoc basis. Consider enabling the WebIO nbextension for a stabler experience (this should happen automatically when building WebIO).</strong>\\\";\\n        } else if (window.location.pathname.includes(\\\"/lab\\\")) {\\n            // Guessing JupyterLab\\n            warning_div.innerHTML = \\\"WebIO does not support JupyterLab yet.\\\";\\n        }\\n    })();\\n    </script>\\n    <div\\n        id=\\\"webio-warning-14943226808849853917\\\"\\n        class=\\\"output_text output_stderr\\\"\\n        style=\\\"padding: 1em; font-weight: bold;\\\"\\n    >\\n        Unable to load WebIO. Please make sure WebIO works for your Jupyter client.\\n        <!-- TODO: link to installation docs. -->\\n    </div>\\n\")"
      ]
     },
     "metadata": {},
     "output_type": "display_data"
    }
   ],
   "source": [
    "using Statistics: mean\n",
    "\n",
    "import FFTW\n",
    "\n",
    "using Interact\n",
    "using PyPlot"
   ]
  },
  {
   "cell_type": "code",
   "execution_count": 52,
   "metadata": {},
   "outputs": [
    {
     "data": {
      "text/plain": [
       "solve_poisson_3d_mbc (generic function with 1 method)"
      ]
     },
     "execution_count": 52,
     "metadata": {},
     "output_type": "execute_result"
    }
   ],
   "source": [
    "function solve_poisson_3d_mbc(f, Lx, Ly, Lz)\n",
    "    Nx, Ny, Nz = size(f)  # Number of grid points (excluding the periodic end point).\n",
    "\n",
    "    # Forward transform the real-valued source term.\n",
    "    fh = FFTW.dct(FFTW.rfft(f, [1, 2]), 3)\n",
    "\n",
    "    # Wavenumber indices.    \n",
    "    l1 = 0:Int(Nx/2)\n",
    "    l2 = Int(-Nx/2 + 1):-1\n",
    "    m1 = 0:Int(Ny/2)\n",
    "    m2 = Int(-Ny/2 + 1):-1\n",
    "    n1 = 0:Int(Nz/2)\n",
    "    n2 = Int(-Nz/2 + 1):-1\n",
    "\n",
    "    kx = reshape((2π/Lx) * cat(l1, l2, dims=1), (Nx, 1, 1))\n",
    "    ky = reshape((2π/Ly) * cat(m1, m2, dims=1), (1, Ny, 1))\n",
    "    kz = reshape((1π/Ly) * cat(n1, n2, dims=1), (1, 1, Nz))\n",
    "\n",
    "    k² = @. kx^2 + ky^2 + kz^2\n",
    "\n",
    "    ϕh = - fh ./ k²[1:Int(Nx/2 + 1), :, :]\n",
    "\n",
    "    # Setting the DC/zero Fourier component to zero.\n",
    "    ϕh[1, 1, 1] = 0\n",
    "\n",
    "    # Take the inverse transform of the solution's Fourier coefficients.\n",
    "    ϕ = FFTW.irfft(FFTW.idct(ϕh, 3), Nx, [1, 2])\n",
    "end"
   ]
  },
  {
   "cell_type": "code",
   "execution_count": 4,
   "metadata": {},
   "outputs": [
    {
     "data": {
      "text/plain": [
       "4×4×4 Array{Float64,3}:\n",
       "[:, :, 1] =\n",
       " 0.521928  0.476561  0.236629  0.305972\n",
       " 0.59484   0.283124  0.259655  0.331654\n",
       " 0.78182   0.445066  0.343444  0.264773\n",
       " 0.850227  0.611142  0.752648  0.969383\n",
       "\n",
       "[:, :, 2] =\n",
       " 0.762161    0.566845  0.524539   0.845089\n",
       " 0.891458    0.615295  0.707637   0.899906\n",
       " 0.475714    0.755312  0.534842   0.378438\n",
       " 0.00129357  0.391395  0.0793755  0.226022\n",
       "\n",
       "[:, :, 3] =\n",
       " 0.550135   0.778756  0.866717  0.774119\n",
       " 0.0416121  0.866279  0.287318  0.501825\n",
       " 0.590813   0.204547  0.536858  0.666823\n",
       " 0.458548   0.38648   0.347895  0.653676\n",
       "\n",
       "[:, :, 4] =\n",
       " 0.102067  0.819246  0.47205    0.290854 \n",
       " 0.873577  0.300231  0.0662235  0.833971 \n",
       " 0.172723  0.126383  0.774349   0.92057  \n",
       " 0.65618   0.471205  0.233224   0.0142325"
      ]
     },
     "execution_count": 4,
     "metadata": {},
     "output_type": "execute_result"
    }
   ],
   "source": [
    "A = rand(4,4,4)"
   ]
  },
  {
   "cell_type": "code",
   "execution_count": 42,
   "metadata": {},
   "outputs": [
    {
     "data": {
      "text/plain": [
       "true"
      ]
     },
     "execution_count": 42,
     "metadata": {},
     "output_type": "execute_result"
    }
   ],
   "source": [
    "N = 8\n",
    "A = rand(N, N, N)\n",
    "Ã1 = FFTW.dct(FFTW.rfft(A, [1, 2]), 3)\n",
    "Ã2 = FFTW.rfft(FFTW.dct(A, 3), [1, 2])\n",
    "Ã1 ≈ Ã2"
   ]
  },
  {
   "cell_type": "code",
   "execution_count": 43,
   "metadata": {},
   "outputs": [
    {
     "data": {
      "text/plain": [
       "true"
      ]
     },
     "execution_count": 43,
     "metadata": {},
     "output_type": "execute_result"
    }
   ],
   "source": [
    "N = 8\n",
    "A = rand(N, N, N)\n",
    "\n",
    "Ã1 = FFTW.dct(FFTW.rfft(A, [1, 2]), 3)\n",
    "Ã2 = FFTW.rfft(FFTW.dct(A, 3), [1, 2])\n",
    "\n",
    "A11 = FFTW.irfft(FFTW.idct(Ã1, 3), N, [1, 2])\n",
    "A12 = FFTW.idct(FFTW.irfft(Ã1, N, [1, 2]), 3)\n",
    "A21 = FFTW.irfft(FFTW.idct(Ã2, 3), N, [1, 2])\n",
    "A22 = FFTW.idct(FFTW.irfft(Ã2, N, [1, 2]), 3)\n",
    "A ≈ A11 && A ≈ A12 && A ≈ A21 && A ≈ A22"
   ]
  },
  {
   "cell_type": "code",
   "execution_count": 53,
   "metadata": {},
   "outputs": [
    {
     "data": {
      "text/plain": [
       "64×64×64 Array{Float64,3}:\n",
       "[:, :, 1] =\n",
       " -0.00386462  -0.00386712  -0.00387459  …  -0.00387459  -0.00386712\n",
       " -0.00386712  -0.00386963  -0.00387713     -0.00387713  -0.00386963\n",
       " -0.00387459  -0.00387713  -0.00388475     -0.00388475  -0.00387713\n",
       " -0.00388699  -0.0038896   -0.00389741     -0.00389741  -0.0038896 \n",
       " -0.00390424  -0.00390693  -0.00391501     -0.00391501  -0.00390693\n",
       " -0.00392623  -0.00392904  -0.00393747  …  -0.00393747  -0.00392904\n",
       " -0.00395283  -0.00395579  -0.00396463     -0.00396463  -0.00395579\n",
       " -0.00398387  -0.00398699  -0.00399633     -0.00399633  -0.00398699\n",
       " -0.00401913  -0.00402244  -0.00403237     -0.00403237  -0.00402244\n",
       " -0.00405838  -0.00406191  -0.00407249     -0.00407249  -0.00406191\n",
       " -0.00410133  -0.00410511  -0.00411644  …  -0.00411644  -0.00410511\n",
       " -0.00414769  -0.00415174  -0.00416389     -0.00416389  -0.00415174\n",
       " -0.00419709  -0.00420144  -0.0042145      -0.0042145   -0.00420144\n",
       "  ⋮                                     ⋱                          \n",
       " -0.00419709  -0.00420144  -0.0042145      -0.0042145   -0.00420144\n",
       " -0.00414769  -0.00415174  -0.00416389     -0.00416389  -0.00415174\n",
       " -0.00410133  -0.00410511  -0.00411644     -0.00411644  -0.00410511\n",
       " -0.00405838  -0.00406191  -0.00407249  …  -0.00407249  -0.00406191\n",
       " -0.00401913  -0.00402244  -0.00403237     -0.00403237  -0.00402244\n",
       " -0.00398387  -0.00398699  -0.00399633     -0.00399633  -0.00398699\n",
       " -0.00395283  -0.00395579  -0.00396463     -0.00396463  -0.00395579\n",
       " -0.00392623  -0.00392904  -0.00393747     -0.00393747  -0.00392904\n",
       " -0.00390424  -0.00390693  -0.00391501  …  -0.00391501  -0.00390693\n",
       " -0.00388699  -0.0038896   -0.00389741     -0.00389741  -0.0038896 \n",
       " -0.00387459  -0.00387713  -0.00388475     -0.00388475  -0.00387713\n",
       " -0.00386712  -0.00386963  -0.00387713     -0.00387713  -0.00386963\n",
       "\n",
       "[:, :, 2] =\n",
       " -0.00385466  -0.00385714  -0.00386458  …  -0.00386458  -0.00385714\n",
       " -0.00385714  -0.00385964  -0.00386712     -0.00386712  -0.00385964\n",
       " -0.00386458  -0.00386712  -0.00387471     -0.00387471  -0.00386712\n",
       " -0.00387693  -0.00387953  -0.00388731     -0.00388731  -0.00387953\n",
       " -0.00389411  -0.0038968   -0.00390484     -0.00390484  -0.0038968 \n",
       " -0.00391602  -0.00391882  -0.0039272   …  -0.0039272   -0.00391882\n",
       " -0.00394251  -0.00394545  -0.00395425     -0.00395425  -0.00394545\n",
       " -0.00397342  -0.00397652  -0.00398582     -0.00398582  -0.00397652\n",
       " -0.00400853  -0.00401183  -0.00402171     -0.00402171  -0.00401183\n",
       " -0.00404761  -0.00405113  -0.00406166     -0.00406166  -0.00405113\n",
       " -0.00409039  -0.00409415  -0.00410542  …  -0.00410542  -0.00409415\n",
       " -0.00413655  -0.00414058  -0.00415267     -0.00415267  -0.00414058\n",
       " -0.00418574  -0.00419007  -0.00420305     -0.00420305  -0.00419007\n",
       "  ⋮                                     ⋱                          \n",
       " -0.00418574  -0.00419007  -0.00420305     -0.00420305  -0.00419007\n",
       " -0.00413655  -0.00414058  -0.00415267     -0.00415267  -0.00414058\n",
       " -0.00409039  -0.00409415  -0.00410542     -0.00410542  -0.00409415\n",
       " -0.00404761  -0.00405113  -0.00406166  …  -0.00406166  -0.00405113\n",
       " -0.00400853  -0.00401183  -0.00402171     -0.00402171  -0.00401183\n",
       " -0.00397342  -0.00397652  -0.00398582     -0.00398582  -0.00397652\n",
       " -0.00394251  -0.00394545  -0.00395425     -0.00395425  -0.00394545\n",
       " -0.00391602  -0.00391882  -0.0039272      -0.0039272   -0.00391882\n",
       " -0.00389411  -0.0038968   -0.00390484  …  -0.00390484  -0.0038968 \n",
       " -0.00387693  -0.00387953  -0.00388731     -0.00388731  -0.00387953\n",
       " -0.00386458  -0.00386712  -0.00387471     -0.00387471  -0.00386712\n",
       " -0.00385714  -0.00385964  -0.00386712     -0.00386712  -0.00385964\n",
       "\n",
       "[:, :, 3] =\n",
       " -0.00383471  -0.00383717  -0.00384455  …  -0.00384455  -0.00383717\n",
       " -0.00383717  -0.00383965  -0.00384707     -0.00384707  -0.00383965\n",
       " -0.00384455  -0.00384707  -0.00385459     -0.00385459  -0.00384707\n",
       " -0.0038568   -0.00385938  -0.00386709     -0.00386709  -0.00385938\n",
       " -0.00387384  -0.00387651  -0.00388448     -0.00388448  -0.00387651\n",
       " -0.00389557  -0.00389835  -0.00390666  …  -0.00390666  -0.00389835\n",
       " -0.00392185  -0.00392476  -0.00393349     -0.00393349  -0.00392476\n",
       " -0.0039525   -0.00395558  -0.0039648      -0.0039648   -0.00395558\n",
       " -0.00398733  -0.0039906   -0.00400038     -0.00400038  -0.0039906 \n",
       " -0.00402609  -0.00402957  -0.00404        -0.00404     -0.00402957\n",
       " -0.00406851  -0.00407223  -0.00408339  …  -0.00408339  -0.00407223\n",
       " -0.00411427  -0.00411826  -0.00413023     -0.00413023  -0.00411826\n",
       " -0.00416305  -0.00416733  -0.00418017     -0.00418017  -0.00416733\n",
       "  ⋮                                     ⋱                          \n",
       " -0.00416305  -0.00416733  -0.00418017     -0.00418017  -0.00416733\n",
       " -0.00411427  -0.00411826  -0.00413023     -0.00413023  -0.00411826\n",
       " -0.00406851  -0.00407223  -0.00408339     -0.00408339  -0.00407223\n",
       " -0.00402609  -0.00402957  -0.00404     …  -0.00404     -0.00402957\n",
       " -0.00398733  -0.0039906   -0.00400038     -0.00400038  -0.0039906 \n",
       " -0.0039525   -0.00395558  -0.0039648      -0.0039648   -0.00395558\n",
       " -0.00392185  -0.00392476  -0.00393349     -0.00393349  -0.00392476\n",
       " -0.00389557  -0.00389835  -0.00390666     -0.00390666  -0.00389835\n",
       " -0.00387384  -0.00387651  -0.00388448  …  -0.00388448  -0.00387651\n",
       " -0.0038568   -0.00385938  -0.00386709     -0.00386709  -0.00385938\n",
       " -0.00384455  -0.00384707  -0.00385459     -0.00385459  -0.00384707\n",
       " -0.00383717  -0.00383965  -0.00384707     -0.00384707  -0.00383965\n",
       "\n",
       "...\n",
       "\n",
       "[:, :, 62] =\n",
       " 0.00383455  0.00383701  0.00384439  …  0.00385664  0.00384439  0.00383701\n",
       " 0.00383701  0.00383949  0.00384691     0.00385921  0.00384691  0.00383949\n",
       " 0.00384439  0.00384691  0.00385443     0.00386693  0.00385443  0.00384691\n",
       " 0.00385664  0.00385921  0.00386693     0.00387973  0.00386693  0.00385921\n",
       " 0.00387368  0.00387634  0.00388432     0.00389756  0.00388432  0.00387634\n",
       " 0.0038954   0.00389818  0.00390649  …  0.0039203   0.00390649  0.00389818\n",
       " 0.00392168  0.00392459  0.00393332     0.00394781  0.00393332  0.00392459\n",
       " 0.00395232  0.0039554   0.00396462     0.00397994  0.00396462  0.0039554 \n",
       " 0.00398714  0.00399041  0.00400019     0.00401647  0.00400019  0.00399041\n",
       " 0.00402589  0.00402937  0.00403981     0.00405716  0.00403981  0.00402937\n",
       " 0.0040683   0.00407202  0.00408318  …  0.00410175  0.00408318  0.00407202\n",
       " 0.00411405  0.00411804  0.00413001     0.00414993  0.00413001  0.00411804\n",
       " 0.00416281  0.00416709  0.00417993     0.00420133  0.00417993  0.00416709\n",
       " ⋮                                   ⋱                                    \n",
       " 0.00416281  0.00416709  0.00417993     0.00420133  0.00417993  0.00416709\n",
       " 0.00411405  0.00411804  0.00413001     0.00414993  0.00413001  0.00411804\n",
       " 0.0040683   0.00407202  0.00408318     0.00410175  0.00408318  0.00407202\n",
       " 0.00402589  0.00402937  0.00403981  …  0.00405716  0.00403981  0.00402937\n",
       " 0.00398714  0.00399041  0.00400019     0.00401647  0.00400019  0.00399041\n",
       " 0.00395232  0.0039554   0.00396462     0.00397994  0.00396462  0.0039554 \n",
       " 0.00392168  0.00392459  0.00393332     0.00394781  0.00393332  0.00392459\n",
       " 0.0038954   0.00389818  0.00390649     0.0039203   0.00390649  0.00389818\n",
       " 0.00387368  0.00387634  0.00388432  …  0.00389756  0.00388432  0.00387634\n",
       " 0.00385664  0.00385921  0.00386693     0.00387973  0.00386693  0.00385921\n",
       " 0.00384439  0.00384691  0.00385443     0.00386693  0.00385443  0.00384691\n",
       " 0.00383701  0.00383949  0.00384691     0.00385921  0.00384691  0.00383949\n",
       "\n",
       "[:, :, 63] =\n",
       " 0.0038545   0.00385698  0.00386442  …  0.00387676  0.00386442  0.00385698\n",
       " 0.00385698  0.00385948  0.00386695     0.00387936  0.00386695  0.00385948\n",
       " 0.00386442  0.00386695  0.00387454     0.00388714  0.00387454  0.00386695\n",
       " 0.00387676  0.00387936  0.00388714     0.00390005  0.00388714  0.00387936\n",
       " 0.00389394  0.00389663  0.00390467     0.00391802  0.00390467  0.00389663\n",
       " 0.00391584  0.00391864  0.00392703  …  0.00394095  0.00392703  0.00391864\n",
       " 0.00394233  0.00394527  0.00395407     0.0039687   0.00395407  0.00394527\n",
       " 0.00397323  0.00397634  0.00398564     0.0040011   0.00398564  0.00397634\n",
       " 0.00400834  0.00401164  0.00402151     0.00403794  0.00402151  0.00401164\n",
       " 0.00404741  0.00405093  0.00406146     0.00407899  0.00406146  0.00405093\n",
       " 0.00409018  0.00409394  0.00410521  …  0.00412397  0.00410521  0.00409394\n",
       " 0.00413632  0.00414035  0.00415244     0.00417257  0.00415244  0.00414035\n",
       " 0.0041855   0.00418982  0.00420281     0.00422444  0.00420281  0.00418982\n",
       " ⋮                                   ⋱                                    \n",
       " 0.0041855   0.00418982  0.00420281     0.00422444  0.00420281  0.00418982\n",
       " 0.00413632  0.00414035  0.00415244     0.00417257  0.00415244  0.00414035\n",
       " 0.00409018  0.00409394  0.00410521     0.00412397  0.00410521  0.00409394\n",
       " 0.00404741  0.00405093  0.00406146  …  0.00407899  0.00406146  0.00405093\n",
       " 0.00400834  0.00401164  0.00402151     0.00403794  0.00402151  0.00401164\n",
       " 0.00397323  0.00397634  0.00398564     0.0040011   0.00398564  0.00397634\n",
       " 0.00394233  0.00394527  0.00395407     0.0039687   0.00395407  0.00394527\n",
       " 0.00391584  0.00391864  0.00392703     0.00394095  0.00392703  0.00391864\n",
       " 0.00389394  0.00389663  0.00390467  …  0.00391802  0.00390467  0.00389663\n",
       " 0.00387676  0.00387936  0.00388714     0.00390005  0.00388714  0.00387936\n",
       " 0.00386442  0.00386695  0.00387454     0.00388714  0.00387454  0.00386695\n",
       " 0.00385698  0.00385948  0.00386695     0.00387936  0.00386695  0.00385948\n",
       "\n",
       "[:, :, 64] =\n",
       " 0.00386446  0.00386696  0.00387442  …  0.00388682  0.00387442  0.00386696\n",
       " 0.00386696  0.00386946  0.00387697     0.00388943  0.00387697  0.00386946\n",
       " 0.00387442  0.00387697  0.00388459     0.00389724  0.00388459  0.00387697\n",
       " 0.00388682  0.00388943  0.00389724     0.0039102   0.00389724  0.00388943\n",
       " 0.00390407  0.00390676  0.00391484     0.00392825  0.00391484  0.00390676\n",
       " 0.00392606  0.00392887  0.00393729  …  0.00395128  0.00393729  0.00392887\n",
       " 0.00395265  0.00395561  0.00396445     0.00397914  0.00396445  0.00395561\n",
       " 0.00398368  0.0039868   0.00399614     0.00401168  0.00399614  0.0039868 \n",
       " 0.00401893  0.00402225  0.00403217     0.00404868  0.00403217  0.00402225\n",
       " 0.00405817  0.0040617   0.00407229     0.0040899   0.00407229  0.0040617 \n",
       " 0.00410112  0.0041049   0.00411623  …  0.00413508  0.00411623  0.0041049 \n",
       " 0.00414746  0.00415151  0.00416366     0.0041839   0.00416366  0.00415151\n",
       " 0.00419685  0.0042012   0.00421425     0.004236    0.00421425  0.0042012 \n",
       " ⋮                                   ⋱                                    \n",
       " 0.00419685  0.0042012   0.00421425     0.004236    0.00421425  0.0042012 \n",
       " 0.00414746  0.00415151  0.00416366     0.0041839   0.00416366  0.00415151\n",
       " 0.00410112  0.0041049   0.00411623     0.00413508  0.00411623  0.0041049 \n",
       " 0.00405817  0.0040617   0.00407229  …  0.0040899   0.00407229  0.0040617 \n",
       " 0.00401893  0.00402225  0.00403217     0.00404868  0.00403217  0.00402225\n",
       " 0.00398368  0.0039868   0.00399614     0.00401168  0.00399614  0.0039868 \n",
       " 0.00395265  0.00395561  0.00396445     0.00397914  0.00396445  0.00395561\n",
       " 0.00392606  0.00392887  0.00393729     0.00395128  0.00393729  0.00392887\n",
       " 0.00390407  0.00390676  0.00391484  …  0.00392825  0.00391484  0.00390676\n",
       " 0.00388682  0.00388943  0.00389724     0.0039102   0.00389724  0.00388943\n",
       " 0.00387442  0.00387697  0.00388459     0.00389724  0.00388459  0.00387697\n",
       " 0.00386696  0.00386946  0.00387697     0.00388943  0.00387697  0.00386946"
      ]
     },
     "execution_count": 53,
     "metadata": {},
     "output_type": "execute_result"
    }
   ],
   "source": [
    "Lx, Ly, Lz = 8, 8, 8              # Domain size.\n",
    "Nx, Ny, Nz = 64, 64, 64           # Number of grid points.\n",
    "Δx, Δy, Δz = Lx/Nx, Ly/Ny, Lz/Nz  # Grid spacing.\n",
    "\n",
    "# Grid point locations.\n",
    "x = Δx * (0:(Nx-1));\n",
    "y = Δy * (0:(Ny-1));\n",
    "z = Δz * (0:(Nz-1));\n",
    "\n",
    "# Primed coordinates to easily calculate a Gaussian centered at\n",
    "# (Lx/2, Ly/2).\n",
    "x′ = reshape(x .- Lx/2, (Nx, 1, 1))\n",
    "y′ = reshape(y .- Ly/2, (1, Ny, 1))\n",
    "z′ = reshape(z .- Lz/2, (1, 1, Nz))\n",
    "\n",
    "f = @. 4 * (x′^2 + y′^2 - 1 - (π/Lz)^2) * cos((2π/Lz) * z′) * exp(-(x′^2 + y′^2))  # Source term\n",
    "f .= f .- mean(f)  # Ensure that source term integrates to zero.\n",
    "\n",
    "ϕa = @. cos((2π/Lz) * z′) * exp(-(x′^2 + y′^2))  # Analytic solution\n",
    "\n",
    "ϕs = solve_poisson_3d_mbc(f, Lx, Ly, Lz)"
   ]
  },
  {
   "cell_type": "code",
   "execution_count": 56,
   "metadata": {},
   "outputs": [
    {
     "data": {
      "application/vnd.webio.node+json": {
       "children": [
        {
         "children": [
          {
           "children": [
            {
             "children": [
              {
               "children": [
                {
                 "children": [
                  "n"
                 ],
                 "instanceArgs": {
                  "namespace": "html",
                  "tag": "label"
                 },
                 "nodeType": "DOM",
                 "props": {
                  "className": "interact ",
                  "style": {
                   "padding": "5px 10px 0px 10px"
                  }
                 },
                 "type": "node"
                }
               ],
               "instanceArgs": {
                "namespace": "html",
                "tag": "div"
               },
               "nodeType": "DOM",
               "props": {
                "attributes": {
                 "style": "text-align:right;width:18%"
                }
               },
               "type": "node"
              },
              {
               "children": [
                {
                 "children": [],
                 "instanceArgs": {
                  "namespace": "html",
                  "tag": "input"
                 },
                 "nodeType": "DOM",
                 "props": {
                  "attributes": {
                   "data-bind": "numericValue: value, valueUpdate: 'input', event: {change : function () {this.changes(this.changes()+1)}}",
                   "orient": "horizontal",
                   "type": "range"
                  },
                  "className": "slider slider is-fullwidth",
                  "max": 64,
                  "min": 1,
                  "step": 1,
                  "style": {}
                 },
                 "type": "node"
                }
               ],
               "instanceArgs": {
                "namespace": "html",
                "tag": "div"
               },
               "nodeType": "DOM",
               "props": {
                "attributes": {
                 "style": "flex-grow:1; margin: 0 2%"
                }
               },
               "type": "node"
              },
              {
               "children": [
                {
                 "children": [],
                 "instanceArgs": {
                  "namespace": "html",
                  "tag": "p"
                 },
                 "nodeType": "DOM",
                 "props": {
                  "attributes": {
                   "data-bind": "text: value"
                  }
                 },
                 "type": "node"
                }
               ],
               "instanceArgs": {
                "namespace": "html",
                "tag": "div"
               },
               "nodeType": "DOM",
               "props": {
                "attributes": {
                 "style": "width:18%"
                }
               },
               "type": "node"
              }
             ],
             "instanceArgs": {
              "namespace": "html",
              "tag": "div"
             },
             "nodeType": "DOM",
             "props": {
              "attributes": {
               "style": "display:flex; justify-content:center; align-items:center;"
              }
             },
             "type": "node"
            }
           ],
           "instanceArgs": {
            "handlers": {
             "_promises": {
              "importsLoaded": [
               "function (ko, koPunches) {\n    ko.punches.enableAll();\n    ko.bindingHandlers.numericValue = {\n        init : function(element, valueAccessor, allBindings, data, context) {\n            var stringified = ko.observable(ko.unwrap(valueAccessor()));\n            stringified.subscribe(function(value) {\n                var val = parseFloat(value);\n                if (!isNaN(val)) {\n                    valueAccessor()(val);\n                }\n            })\n            valueAccessor().subscribe(function(value) {\n                var str = JSON.stringify(value);\n                if ((str == \"0\") && ([\"-0\", \"-0.\"].indexOf(stringified()) >= 0))\n                     return;\n                 if ([\"null\", \"\"].indexOf(str) >= 0)\n                     return;\n                stringified(str);\n            })\n            ko.applyBindingsToNode(element, { value: stringified, valueUpdate: allBindings.get('valueUpdate')}, context);\n        }\n    };\n    var json_data = JSON.parse(\"{\\\"changes\\\":0,\\\"value\\\":32}\");\n    var self = this;\n    function AppViewModel() {\n        for (var key in json_data) {\n            var el = json_data[key];\n            this[key] = Array.isArray(el) ? ko.observableArray(el) : ko.observable(el);\n        }\n        \n        \n        [this[\"changes\"].subscribe((function (val){!(this.valueFromJulia[\"changes\"]) ? (WebIO.setval({\"name\":\"changes\",\"scope\":\"knockout-component-ca63a66b-923b-4eac-80db-549361337774\",\"id\":\"ob_51\",\"type\":\"observable\"},val)) : undefined; return this.valueFromJulia[\"changes\"]=false}),self),this[\"value\"].subscribe((function (val){!(this.valueFromJulia[\"value\"]) ? (WebIO.setval({\"name\":\"value\",\"scope\":\"knockout-component-ca63a66b-923b-4eac-80db-549361337774\",\"id\":\"ob_50\",\"type\":\"observable\"},val)) : undefined; return this.valueFromJulia[\"value\"]=false}),self)]\n        \n    }\n    self.model = new AppViewModel();\n    self.valueFromJulia = {};\n    for (var key in json_data) {\n        self.valueFromJulia[key] = false;\n    }\n    ko.applyBindings(self.model, self.dom);\n}\n"
              ]
             },
             "changes": [
              "(function (val){return (val!=this.model[\"changes\"]()) ? (this.valueFromJulia[\"changes\"]=true, this.model[\"changes\"](val)) : undefined})"
             ],
             "value": [
              "(function (val){return (val!=this.model[\"value\"]()) ? (this.valueFromJulia[\"value\"]=true, this.model[\"value\"](val)) : undefined})"
             ]
            },
            "id": "knockout-component-ca63a66b-923b-4eac-80db-549361337774",
            "imports": {
             "data": [
              {
               "name": "knockout",
               "type": "js",
               "url": "/assetserver/d10dea684c7287acd466465fb49a444aaefd0a90-knockout.js"
              },
              {
               "name": "knockout_punches",
               "type": "js",
               "url": "/assetserver/679b3f1a575e726ae06ec067c6f26a9cfcec2eb5-knockout_punches.js"
              },
              {
               "name": null,
               "type": "js",
               "url": "/assetserver/bd7a992a16365bf84c1a00c7a8f2bd69bea8b31d-all.js"
              },
              {
               "name": null,
               "type": "css",
               "url": "/assetserver/c09c1362a25da710e095846a1811f27ac21bbf6f-style.css"
              },
              {
               "name": null,
               "type": "css",
               "url": "/assetserver/2ccc2c2ab29565bde6604cd2a5b2b134f6b47acb-main.css"
              }
             ],
             "type": "async_block"
            },
            "observables": {
             "changes": {
              "id": "ob_51",
              "sync": false,
              "value": 0
             },
             "value": {
              "id": "ob_50",
              "sync": true,
              "value": 32
             }
            },
            "systemjs_options": null
           },
           "nodeType": "Scope",
           "props": {},
           "type": "node"
          }
         ],
         "instanceArgs": {
          "namespace": "html",
          "tag": "div"
         },
         "nodeType": "DOM",
         "props": {
          "className": "field"
         },
         "type": "node"
        },
        {
         "children": [
          {
           "children": [],
           "instanceArgs": {
            "id": "ob_56",
            "name": "obs-node"
           },
           "nodeType": "ObservableNode",
           "props": {},
           "type": "node"
          }
         ],
         "instanceArgs": {
          "handlers": {},
          "id": "scope-0a0b7b0f-db2d-4e4e-b62c-dee5c127f967",
          "imports": {
           "data": [],
           "type": "async_block"
          },
          "observables": {
           "obs-node": {
            "id": "ob_56",
            "sync": false,
            "value": {
             "children": [
              {
               "children": [],
               "instanceArgs": {
                "namespace": "html",
                "tag": "div"
               },
               "nodeType": "DOM",
               "props": {
                "setInnerHtml": "<img src='data:image/png;base64,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'></img>"
               },
               "type": "node"
              }
             ],
             "instanceArgs": {
              "namespace": "html",
              "tag": "div"
             },
             "nodeType": "DOM",
             "props": {
              "attributes": {
               "style": "display:flex; justify-content:center; align-items:center;"
              }
             },
             "type": "node"
            }
           }
          },
          "systemjs_options": null
         },
         "nodeType": "Scope",
         "props": {},
         "type": "node"
        }
       ],
       "instanceArgs": {
        "namespace": "html",
        "tag": "div"
       },
       "nodeType": "DOM",
       "props": {},
       "type": "node"
      },
      "text/html": [
       "<div\n",
       "    class=\"webio-mountpoint\"\n",
       "    data-webio-mountpoint=\"6800165466819579075\"\n",
       ">\n",
       "    <script>\n",
       "    if (window.require && require.defined && require.defined(\"nbextensions/webio/main\")) {\n",
       "        console.log(\"Jupyter WebIO extension detected, not mounting.\");\n",
       "    } else if (window.WebIO) {\n",
       "        WebIO.mount(\n",
       "            document.querySelector('[data-webio-mountpoint=\"6800165466819579075\"]'),\n",
       "            {\"props\":{},\"nodeType\":\"DOM\",\"type\":\"node\",\"instanceArgs\":{\"namespace\":\"html\",\"tag\":\"div\"},\"children\":[{\"props\":{\"className\":\"field\"},\"nodeType\":\"DOM\",\"type\":\"node\",\"instanceArgs\":{\"namespace\":\"html\",\"tag\":\"div\"},\"children\":[{\"props\":{},\"nodeType\":\"Scope\",\"type\":\"node\",\"instanceArgs\":{\"imports\":{\"data\":[{\"name\":\"knockout\",\"type\":\"js\",\"url\":\"\\/assetserver\\/d10dea684c7287acd466465fb49a444aaefd0a90-knockout.js\"},{\"name\":\"knockout_punches\",\"type\":\"js\",\"url\":\"\\/assetserver\\/679b3f1a575e726ae06ec067c6f26a9cfcec2eb5-knockout_punches.js\"},{\"name\":null,\"type\":\"js\",\"url\":\"\\/assetserver\\/bd7a992a16365bf84c1a00c7a8f2bd69bea8b31d-all.js\"},{\"name\":null,\"type\":\"css\",\"url\":\"\\/assetserver\\/c09c1362a25da710e095846a1811f27ac21bbf6f-style.css\"},{\"name\":null,\"type\":\"css\",\"url\":\"\\/assetserver\\/2ccc2c2ab29565bde6604cd2a5b2b134f6b47acb-main.css\"}],\"type\":\"async_block\"},\"id\":\"knockout-component-ca63a66b-923b-4eac-80db-549361337774\",\"handlers\":{\"_promises\":{\"importsLoaded\":[\"function (ko, koPunches) {\\n    ko.punches.enableAll();\\n    ko.bindingHandlers.numericValue = {\\n        init : function(element, valueAccessor, allBindings, data, context) {\\n            var stringified = ko.observable(ko.unwrap(valueAccessor()));\\n            stringified.subscribe(function(value) {\\n                var val = parseFloat(value);\\n                if (!isNaN(val)) {\\n                    valueAccessor()(val);\\n                }\\n            })\\n            valueAccessor().subscribe(function(value) {\\n                var str = JSON.stringify(value);\\n                if ((str == \\\"0\\\") && ([\\\"-0\\\", \\\"-0.\\\"].indexOf(stringified()) >= 0))\\n                     return;\\n                 if ([\\\"null\\\", \\\"\\\"].indexOf(str) >= 0)\\n                     return;\\n                stringified(str);\\n            })\\n            ko.applyBindingsToNode(element, { value: stringified, valueUpdate: allBindings.get('valueUpdate')}, context);\\n        }\\n    };\\n    var json_data = JSON.parse(\\\"{\\\\\\\"changes\\\\\\\":0,\\\\\\\"value\\\\\\\":32}\\\");\\n    var self = this;\\n    function AppViewModel() {\\n        for (var key in json_data) {\\n            var el = json_data[key];\\n            this[key] = Array.isArray(el) ? ko.observableArray(el) : ko.observable(el);\\n        }\\n        \\n        \\n        [this[\\\"changes\\\"].subscribe((function (val){!(this.valueFromJulia[\\\"changes\\\"]) ? (WebIO.setval({\\\"name\\\":\\\"changes\\\",\\\"scope\\\":\\\"knockout-component-ca63a66b-923b-4eac-80db-549361337774\\\",\\\"id\\\":\\\"ob_51\\\",\\\"type\\\":\\\"observable\\\"},val)) : undefined; return this.valueFromJulia[\\\"changes\\\"]=false}),self),this[\\\"value\\\"].subscribe((function (val){!(this.valueFromJulia[\\\"value\\\"]) ? (WebIO.setval({\\\"name\\\":\\\"value\\\",\\\"scope\\\":\\\"knockout-component-ca63a66b-923b-4eac-80db-549361337774\\\",\\\"id\\\":\\\"ob_50\\\",\\\"type\\\":\\\"observable\\\"},val)) : undefined; return this.valueFromJulia[\\\"value\\\"]=false}),self)]\\n        \\n    }\\n    self.model = new AppViewModel();\\n    self.valueFromJulia = {};\\n    for (var key in json_data) {\\n        self.valueFromJulia[key] = false;\\n    }\\n    ko.applyBindings(self.model, self.dom);\\n}\\n\"]},\"changes\":[\"(function (val){return (val!=this.model[\\\"changes\\\"]()) ? (this.valueFromJulia[\\\"changes\\\"]=true, this.model[\\\"changes\\\"](val)) : undefined})\"],\"value\":[\"(function (val){return (val!=this.model[\\\"value\\\"]()) ? (this.valueFromJulia[\\\"value\\\"]=true, this.model[\\\"value\\\"](val)) : undefined})\"]},\"systemjs_options\":null,\"observables\":{\"changes\":{\"sync\":false,\"id\":\"ob_51\",\"value\":0},\"value\":{\"sync\":true,\"id\":\"ob_50\",\"value\":32}}},\"children\":[{\"props\":{\"attributes\":{\"style\":\"display:flex; justify-content:center; align-items:center;\"}},\"nodeType\":\"DOM\",\"type\":\"node\",\"instanceArgs\":{\"namespace\":\"html\",\"tag\":\"div\"},\"children\":[{\"props\":{\"attributes\":{\"style\":\"text-align:right;width:18%\"}},\"nodeType\":\"DOM\",\"type\":\"node\",\"instanceArgs\":{\"namespace\":\"html\",\"tag\":\"div\"},\"children\":[{\"props\":{\"className\":\"interact \",\"style\":{\"padding\":\"5px 10px 0px 10px\"}},\"nodeType\":\"DOM\",\"type\":\"node\",\"instanceArgs\":{\"namespace\":\"html\",\"tag\":\"label\"},\"children\":[\"n\"]}]},{\"props\":{\"attributes\":{\"style\":\"flex-grow:1; margin: 0 2%\"}},\"nodeType\":\"DOM\",\"type\":\"node\",\"instanceArgs\":{\"namespace\":\"html\",\"tag\":\"div\"},\"children\":[{\"props\":{\"max\":64,\"min\":1,\"attributes\":{\"type\":\"range\",\"data-bind\":\"numericValue: value, valueUpdate: 'input', event: {change : function () {this.changes(this.changes()+1)}}\",\"orient\":\"horizontal\"},\"step\":1,\"className\":\"slider slider is-fullwidth\",\"style\":{}},\"nodeType\":\"DOM\",\"type\":\"node\",\"instanceArgs\":{\"namespace\":\"html\",\"tag\":\"input\"},\"children\":[]}]},{\"props\":{\"attributes\":{\"style\":\"width:18%\"}},\"nodeType\":\"DOM\",\"type\":\"node\",\"instanceArgs\":{\"namespace\":\"html\",\"tag\":\"div\"},\"children\":[{\"props\":{\"attributes\":{\"data-bind\":\"text: value\"}},\"nodeType\":\"DOM\",\"type\":\"node\",\"instanceArgs\":{\"namespace\":\"html\",\"tag\":\"p\"},\"children\":[]}]}]}]}]},{\"props\":{},\"nodeType\":\"Scope\",\"type\":\"node\",\"instanceArgs\":{\"imports\":{\"data\":[],\"type\":\"async_block\"},\"id\":\"scope-a3675e07-942f-4b66-9e19-fa0cb0c90c2c\",\"handlers\":{},\"systemjs_options\":null,\"observables\":{\"obs-node\":{\"sync\":false,\"id\":\"ob_54\",\"value\":{\"props\":{\"attributes\":{\"style\":\"display:flex; justify-content:center; align-items:center;\"}},\"nodeType\":\"DOM\",\"type\":\"node\",\"instanceArgs\":{\"namespace\":\"html\",\"tag\":\"div\"},\"children\":[{\"props\":{\"setInnerHtml\":\"<img src='data:image\\/png;base64,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'><\\/img>\"},\"nodeType\":\"DOM\",\"type\":\"node\",\"instanceArgs\":{\"namespace\":\"html\",\"tag\":\"div\"},\"children\":[]}]}}}},\"children\":[{\"props\":{},\"nodeType\":\"ObservableNode\",\"type\":\"node\",\"instanceArgs\":{\"id\":\"ob_54\",\"name\":\"obs-node\"},\"children\":[]}]}]},\n",
       "        );\n",
       "    } else {\n",
       "        document\n",
       "            .querySelector('[data-webio-mountpoint=\"6800165466819579075\"]')\n",
       "            .innerHTML = '<strong>WebIO not detected.</strong>';\n",
       "    }\n",
       "    </script>\n",
       "</div>\n"
      ],
      "text/plain": [
       "Widget{:manipulate,Any}(OrderedDict{Symbol,Any}(:n=>Widget{:slider,Int64}(OrderedDict{Symbol,Any}(:changes=>Observable{Int64} with 1 listeners. Value:\n",
       "0,:value=>Observable{Int64} with 2 listeners. Value:\n",
       "32), Observable{Int64} with 2 listeners. Value:\n",
       "32, Scope(\"knockout-component-ca63a66b-923b-4eac-80db-549361337774\", Node{DOM}(DOM(:html, :div), Any[Node{DOM}(DOM(:html, :div), Any[Node{DOM}(DOM(:html, :label), Any[\"n\"], Dict{Symbol,Any}(:className=>\"interact \",:style=>Dict{Any,Any}(:padding=>\"5px 10px 0px 10px\")), 1)], Dict{Symbol,Any}(:attributes=>Dict(\"style\"=>\"text-align:right;width:18%\")), 2), Node{DOM}(DOM(:html, :div), Any[Node{DOM}(DOM(:html, :input), Any[], Dict{Symbol,Any}(:max=>64,:min=>1,:attributes=>Dict{Any,Any}(:type=>\"range\",Symbol(\"data-bind\")=>\"numericValue: value, valueUpdate: 'input', event: {change : function () {this.changes(this.changes()+1)}}\",\"orient\"=>\"horizontal\"),:step=>1,:className=>\"slider slider is-fullwidth\",:style=>Dict{Any,Any}()), 0)], Dict{Symbol,Any}(:attributes=>Dict(\"style\"=>\"flex-grow:1; margin: 0 2%\")), 1), Node{DOM}(DOM(:html, :div), Any[Node{DOM}(DOM(:html, :p), Any[], Dict{Symbol,Any}(:attributes=>Dict(\"data-bind\"=>\"text: value\")), 0)], Dict{Symbol,Any}(:attributes=>Dict(\"style\"=>\"width:18%\")), 1)], Dict{Symbol,Any}(:attributes=>Dict(\"style\"=>\"display:flex; justify-content:center; align-items:center;\")), 7), Dict{String,Tuple{Observables.AbstractObservable,Union{Nothing, Bool}}}(\"changes\"=>(Observable{Int64} with 1 listeners. Value:\n",
       "0, nothing),\"value\"=>(Observable{Int64} with 2 listeners. Value:\n",
       "32, nothing)), Set(String[]), nothing, Any[\"knockout\"=>\"C:\\\\Users\\\\Ali\\\\.julia\\\\packages\\\\Knockout\\\\JIqpG\\\\src\\\\..\\\\assets\\\\knockout.js\", \"knockout_punches\"=>\"C:\\\\Users\\\\Ali\\\\.julia\\\\packages\\\\Knockout\\\\JIqpG\\\\src\\\\..\\\\assets\\\\knockout_punches.js\", \"C:\\\\Users\\\\Ali\\\\.julia\\\\packages\\\\InteractBase\\\\Q4IkI\\\\src\\\\..\\\\assets\\\\all.js\", \"C:\\\\Users\\\\Ali\\\\.julia\\\\packages\\\\InteractBase\\\\Q4IkI\\\\src\\\\..\\\\assets\\\\style.css\", \"C:\\\\Users\\\\Ali\\\\.julia\\\\packages\\\\InteractBulma\\\\Ohu5Y\\\\src\\\\..\\\\assets\\\\main.css\"], Dict{Any,Any}(\"_promises\"=>Dict{Any,Any}(\"importsLoaded\"=>Any[JSString(\"function (ko, koPunches) {\\n    ko.punches.enableAll();\\n    ko.bindingHandlers.numericValue = {\\n        init : function(element, valueAccessor, allBindings, data, context) {\\n            var stringified = ko.observable(ko.unwrap(valueAccessor()));\\n            stringified.subscribe(function(value) {\\n                var val = parseFloat(value);\\n                if (!isNaN(val)) {\\n                    valueAccessor()(val);\\n                }\\n            })\\n            valueAccessor().subscribe(function(value) {\\n                var str = JSON.stringify(value);\\n                if ((str == \\\"0\\\") && ([\\\"-0\\\", \\\"-0.\\\"].indexOf(stringified()) >= 0))\\n                     return;\\n                 if ([\\\"null\\\", \\\"\\\"].indexOf(str) >= 0)\\n                     return;\\n                stringified(str);\\n            })\\n            ko.applyBindingsToNode(element, { value: stringified, valueUpdate: allBindings.get('valueUpdate')}, context);\\n        }\\n    };\\n    var json_data = JSON.parse(\\\"{\\\\\\\"changes\\\\\\\":0,\\\\\\\"value\\\\\\\":32}\\\");\\n    var self = this;\\n    function AppViewModel() {\\n        for (var key in json_data) {\\n            var el = json_data[key];\\n            this[key] = Array.isArray(el) ? ko.observableArray(el) : ko.observable(el);\\n        }\\n        \\n        \\n        [this[\\\"changes\\\"].subscribe((function (val){!(this.valueFromJulia[\\\"changes\\\"]) ? (WebIO.setval({\\\"name\\\":\\\"changes\\\",\\\"scope\\\":\\\"knockout-component-ca63a66b-923b-4eac-80db-549361337774\\\",\\\"id\\\":\\\"ob_51\\\",\\\"type\\\":\\\"observable\\\"},val)) : undefined; return this.valueFromJulia[\\\"changes\\\"]=false}),self),this[\\\"value\\\"].subscribe((function (val){!(this.valueFromJulia[\\\"value\\\"]) ? (WebIO.setval({\\\"name\\\":\\\"value\\\",\\\"scope\\\":\\\"knockout-component-ca63a66b-923b-4eac-80db-549361337774\\\",\\\"id\\\":\\\"ob_50\\\",\\\"type\\\":\\\"observable\\\"},val)) : undefined; return this.valueFromJulia[\\\"value\\\"]=false}),self)]\\n        \\n    }\\n    self.model = new AppViewModel();\\n    self.valueFromJulia = {};\\n    for (var key in json_data) {\\n        self.valueFromJulia[key] = false;\\n    }\\n    ko.applyBindings(self.model, self.dom);\\n}\\n\")]),\"changes\"=>Any[JSString(\"(function (val){return (val!=this.model[\\\"changes\\\"]()) ? (this.valueFromJulia[\\\"changes\\\"]=true, this.model[\\\"changes\\\"](val)) : undefined})\")],\"value\"=>Any[JSString(\"(function (val){return (val!=this.model[\\\"value\\\"]()) ? (this.valueFromJulia[\\\"value\\\"]=true, this.model[\\\"value\\\"](val)) : undefined})\")]), ConnectionPool(Channel{Any}(sz_max:9223372036854775807,sz_curr:0), Set(AbstractConnection[]), Channel{AbstractConnection}(sz_max:32,sz_curr:0))), ##52#53{#dom#13{##dom#11#12{Dict{Any,Any},DOM}},typeof(scope)}(#dom#13{##dom#11#12{Dict{Any,Any},DOM}}(##dom#11#12{Dict{Any,Any},DOM}(Dict{Any,Any}(:className=>\"field\"), DOM(:html, :div))), scope))), Observable{Any} with 0 listeners. Value:\n",
       "Figure(PyObject <Figure size 640x480 with 2 Axes>), nothing, getfield(Main, Symbol(\"##47#50\")){Observable{Any}}(Observable{Any} with 0 listeners. Value:\n",
       "Figure(PyObject <Figure size 640x480 with 2 Axes>)))"
      ]
     },
     "execution_count": 56,
     "metadata": {
      "application/vnd.webio.node+json": {
       "kernelId": "88b6c300-161e-43df-8b08-809df5a78ed2"
      }
     },
     "output_type": "execute_result"
    }
   ],
   "source": [
    "# @show size(x)\n",
    "# @show size(y)\n",
    "# @show size(f)\n",
    "# @show minimum(f)\n",
    "# @show maximum(f)\n",
    "fig = figure()\n",
    "@manipulate for n in 1:Nz\n",
    "    withfig(fig) do\n",
    "        # PyPlot.contourf(x, y, f[:, :, n], levels=20, vmin=-6, vmax=0.5); PyPlot.colorbar();\n",
    "        PyPlot.pcolormesh(x, y, f[:, :, n], cmap=\"bwr\", vmin=-4, vmax=4); PyPlot.colorbar();\n",
    "    end\n",
    "end"
   ]
  },
  {
   "cell_type": "code",
   "execution_count": 57,
   "metadata": {},
   "outputs": [
    {
     "name": "stdout",
     "output_type": "stream",
     "text": [
      "minimum(ϕs) = -1.0301367587525077\n",
      "maximum(ϕs) = 1.0001638920398894\n",
      "minimum(ϕa) = -1.0\n",
      "maximum(ϕa) = 1.0\n"
     ]
    },
    {
     "data": {
      "text/plain": [
       "1.0"
      ]
     },
     "execution_count": 57,
     "metadata": {},
     "output_type": "execute_result"
    }
   ],
   "source": [
    "@show minimum(ϕs)\n",
    "@show maximum(ϕs)\n",
    "@show minimum(ϕa)\n",
    "@show maximum(ϕa)"
   ]
  },
  {
   "cell_type": "code",
   "execution_count": 58,
   "metadata": {},
   "outputs": [
    {
     "data": {
      "application/vnd.webio.node+json": {
       "children": [
        {
         "children": [
          {
           "children": [
            {
             "children": [
              {
               "children": [
                {
                 "children": [
                  "n"
                 ],
                 "instanceArgs": {
                  "namespace": "html",
                  "tag": "label"
                 },
                 "nodeType": "DOM",
                 "props": {
                  "className": "interact ",
                  "style": {
                   "padding": "5px 10px 0px 10px"
                  }
                 },
                 "type": "node"
                }
               ],
               "instanceArgs": {
                "namespace": "html",
                "tag": "div"
               },
               "nodeType": "DOM",
               "props": {
                "attributes": {
                 "style": "text-align:right;width:18%"
                }
               },
               "type": "node"
              },
              {
               "children": [
                {
                 "children": [],
                 "instanceArgs": {
                  "namespace": "html",
                  "tag": "input"
                 },
                 "nodeType": "DOM",
                 "props": {
                  "attributes": {
                   "data-bind": "numericValue: value, valueUpdate: 'input', event: {change : function () {this.changes(this.changes()+1)}}",
                   "orient": "horizontal",
                   "type": "range"
                  },
                  "className": "slider slider is-fullwidth",
                  "max": 64,
                  "min": 1,
                  "step": 1,
                  "style": {}
                 },
                 "type": "node"
                }
               ],
               "instanceArgs": {
                "namespace": "html",
                "tag": "div"
               },
               "nodeType": "DOM",
               "props": {
                "attributes": {
                 "style": "flex-grow:1; margin: 0 2%"
                }
               },
               "type": "node"
              },
              {
               "children": [
                {
                 "children": [],
                 "instanceArgs": {
                  "namespace": "html",
                  "tag": "p"
                 },
                 "nodeType": "DOM",
                 "props": {
                  "attributes": {
                   "data-bind": "text: value"
                  }
                 },
                 "type": "node"
                }
               ],
               "instanceArgs": {
                "namespace": "html",
                "tag": "div"
               },
               "nodeType": "DOM",
               "props": {
                "attributes": {
                 "style": "width:18%"
                }
               },
               "type": "node"
              }
             ],
             "instanceArgs": {
              "namespace": "html",
              "tag": "div"
             },
             "nodeType": "DOM",
             "props": {
              "attributes": {
               "style": "display:flex; justify-content:center; align-items:center;"
              }
             },
             "type": "node"
            }
           ],
           "instanceArgs": {
            "handlers": {
             "_promises": {
              "importsLoaded": [
               "function (ko, koPunches) {\n    ko.punches.enableAll();\n    ko.bindingHandlers.numericValue = {\n        init : function(element, valueAccessor, allBindings, data, context) {\n            var stringified = ko.observable(ko.unwrap(valueAccessor()));\n            stringified.subscribe(function(value) {\n                var val = parseFloat(value);\n                if (!isNaN(val)) {\n                    valueAccessor()(val);\n                }\n            })\n            valueAccessor().subscribe(function(value) {\n                var str = JSON.stringify(value);\n                if ((str == \"0\") && ([\"-0\", \"-0.\"].indexOf(stringified()) >= 0))\n                     return;\n                 if ([\"null\", \"\"].indexOf(str) >= 0)\n                     return;\n                stringified(str);\n            })\n            ko.applyBindingsToNode(element, { value: stringified, valueUpdate: allBindings.get('valueUpdate')}, context);\n        }\n    };\n    var json_data = JSON.parse(\"{\\\"changes\\\":0,\\\"value\\\":32}\");\n    var self = this;\n    function AppViewModel() {\n        for (var key in json_data) {\n            var el = json_data[key];\n            this[key] = Array.isArray(el) ? ko.observableArray(el) : ko.observable(el);\n        }\n        \n        \n        [this[\"changes\"].subscribe((function (val){!(this.valueFromJulia[\"changes\"]) ? (WebIO.setval({\"name\":\"changes\",\"scope\":\"knockout-component-f87b6226-17be-47d3-a871-dfba348b4252\",\"id\":\"ob_58\",\"type\":\"observable\"},val)) : undefined; return this.valueFromJulia[\"changes\"]=false}),self),this[\"value\"].subscribe((function (val){!(this.valueFromJulia[\"value\"]) ? (WebIO.setval({\"name\":\"value\",\"scope\":\"knockout-component-f87b6226-17be-47d3-a871-dfba348b4252\",\"id\":\"ob_57\",\"type\":\"observable\"},val)) : undefined; return this.valueFromJulia[\"value\"]=false}),self)]\n        \n    }\n    self.model = new AppViewModel();\n    self.valueFromJulia = {};\n    for (var key in json_data) {\n        self.valueFromJulia[key] = false;\n    }\n    ko.applyBindings(self.model, self.dom);\n}\n"
              ]
             },
             "changes": [
              "(function (val){return (val!=this.model[\"changes\"]()) ? (this.valueFromJulia[\"changes\"]=true, this.model[\"changes\"](val)) : undefined})"
             ],
             "value": [
              "(function (val){return (val!=this.model[\"value\"]()) ? (this.valueFromJulia[\"value\"]=true, this.model[\"value\"](val)) : undefined})"
             ]
            },
            "id": "knockout-component-f87b6226-17be-47d3-a871-dfba348b4252",
            "imports": {
             "data": [
              {
               "name": "knockout",
               "type": "js",
               "url": "/assetserver/d10dea684c7287acd466465fb49a444aaefd0a90-knockout.js"
              },
              {
               "name": "knockout_punches",
               "type": "js",
               "url": "/assetserver/679b3f1a575e726ae06ec067c6f26a9cfcec2eb5-knockout_punches.js"
              },
              {
               "name": null,
               "type": "js",
               "url": "/assetserver/bd7a992a16365bf84c1a00c7a8f2bd69bea8b31d-all.js"
              },
              {
               "name": null,
               "type": "css",
               "url": "/assetserver/c09c1362a25da710e095846a1811f27ac21bbf6f-style.css"
              },
              {
               "name": null,
               "type": "css",
               "url": "/assetserver/2ccc2c2ab29565bde6604cd2a5b2b134f6b47acb-main.css"
              }
             ],
             "type": "async_block"
            },
            "observables": {
             "changes": {
              "id": "ob_58",
              "sync": false,
              "value": 0
             },
             "value": {
              "id": "ob_57",
              "sync": true,
              "value": 32
             }
            },
            "systemjs_options": null
           },
           "nodeType": "Scope",
           "props": {},
           "type": "node"
          }
         ],
         "instanceArgs": {
          "namespace": "html",
          "tag": "div"
         },
         "nodeType": "DOM",
         "props": {
          "className": "field"
         },
         "type": "node"
        },
        {
         "children": [
          {
           "children": [],
           "instanceArgs": {
            "id": "ob_63",
            "name": "obs-node"
           },
           "nodeType": "ObservableNode",
           "props": {},
           "type": "node"
          }
         ],
         "instanceArgs": {
          "handlers": {},
          "id": "scope-efdaa92b-7b03-4c48-96d8-278f753f2fcf",
          "imports": {
           "data": [],
           "type": "async_block"
          },
          "observables": {
           "obs-node": {
            "id": "ob_63",
            "sync": false,
            "value": {
             "children": [
              {
               "children": [],
               "instanceArgs": {
                "namespace": "html",
                "tag": "div"
               },
               "nodeType": "DOM",
               "props": {
                "setInnerHtml": "<img src='data:image/png;base64,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'></img>"
               },
               "type": "node"
              }
             ],
             "instanceArgs": {
              "namespace": "html",
              "tag": "div"
             },
             "nodeType": "DOM",
             "props": {
              "attributes": {
               "style": "display:flex; justify-content:center; align-items:center;"
              }
             },
             "type": "node"
            }
           }
          },
          "systemjs_options": null
         },
         "nodeType": "Scope",
         "props": {},
         "type": "node"
        }
       ],
       "instanceArgs": {
        "namespace": "html",
        "tag": "div"
       },
       "nodeType": "DOM",
       "props": {},
       "type": "node"
      },
      "text/html": [
       "<div\n",
       "    class=\"webio-mountpoint\"\n",
       "    data-webio-mountpoint=\"2230383143405096596\"\n",
       ">\n",
       "    <script>\n",
       "    if (window.require && require.defined && require.defined(\"nbextensions/webio/main\")) {\n",
       "        console.log(\"Jupyter WebIO extension detected, not mounting.\");\n",
       "    } else if (window.WebIO) {\n",
       "        WebIO.mount(\n",
       "            document.querySelector('[data-webio-mountpoint=\"2230383143405096596\"]'),\n",
       "            {\"props\":{},\"nodeType\":\"DOM\",\"type\":\"node\",\"instanceArgs\":{\"namespace\":\"html\",\"tag\":\"div\"},\"children\":[{\"props\":{\"className\":\"field\"},\"nodeType\":\"DOM\",\"type\":\"node\",\"instanceArgs\":{\"namespace\":\"html\",\"tag\":\"div\"},\"children\":[{\"props\":{},\"nodeType\":\"Scope\",\"type\":\"node\",\"instanceArgs\":{\"imports\":{\"data\":[{\"name\":\"knockout\",\"type\":\"js\",\"url\":\"\\/assetserver\\/d10dea684c7287acd466465fb49a444aaefd0a90-knockout.js\"},{\"name\":\"knockout_punches\",\"type\":\"js\",\"url\":\"\\/assetserver\\/679b3f1a575e726ae06ec067c6f26a9cfcec2eb5-knockout_punches.js\"},{\"name\":null,\"type\":\"js\",\"url\":\"\\/assetserver\\/bd7a992a16365bf84c1a00c7a8f2bd69bea8b31d-all.js\"},{\"name\":null,\"type\":\"css\",\"url\":\"\\/assetserver\\/c09c1362a25da710e095846a1811f27ac21bbf6f-style.css\"},{\"name\":null,\"type\":\"css\",\"url\":\"\\/assetserver\\/2ccc2c2ab29565bde6604cd2a5b2b134f6b47acb-main.css\"}],\"type\":\"async_block\"},\"id\":\"knockout-component-f87b6226-17be-47d3-a871-dfba348b4252\",\"handlers\":{\"_promises\":{\"importsLoaded\":[\"function (ko, koPunches) {\\n    ko.punches.enableAll();\\n    ko.bindingHandlers.numericValue = {\\n        init : function(element, valueAccessor, allBindings, data, context) {\\n            var stringified = ko.observable(ko.unwrap(valueAccessor()));\\n            stringified.subscribe(function(value) {\\n                var val = parseFloat(value);\\n                if (!isNaN(val)) {\\n                    valueAccessor()(val);\\n                }\\n            })\\n            valueAccessor().subscribe(function(value) {\\n                var str = JSON.stringify(value);\\n                if ((str == \\\"0\\\") && ([\\\"-0\\\", \\\"-0.\\\"].indexOf(stringified()) >= 0))\\n                     return;\\n                 if ([\\\"null\\\", \\\"\\\"].indexOf(str) >= 0)\\n                     return;\\n                stringified(str);\\n            })\\n            ko.applyBindingsToNode(element, { value: stringified, valueUpdate: allBindings.get('valueUpdate')}, context);\\n        }\\n    };\\n    var json_data = JSON.parse(\\\"{\\\\\\\"changes\\\\\\\":0,\\\\\\\"value\\\\\\\":32}\\\");\\n    var self = this;\\n    function AppViewModel() {\\n        for (var key in json_data) {\\n            var el = json_data[key];\\n            this[key] = Array.isArray(el) ? ko.observableArray(el) : ko.observable(el);\\n        }\\n        \\n        \\n        [this[\\\"changes\\\"].subscribe((function (val){!(this.valueFromJulia[\\\"changes\\\"]) ? (WebIO.setval({\\\"name\\\":\\\"changes\\\",\\\"scope\\\":\\\"knockout-component-f87b6226-17be-47d3-a871-dfba348b4252\\\",\\\"id\\\":\\\"ob_58\\\",\\\"type\\\":\\\"observable\\\"},val)) : undefined; return this.valueFromJulia[\\\"changes\\\"]=false}),self),this[\\\"value\\\"].subscribe((function (val){!(this.valueFromJulia[\\\"value\\\"]) ? (WebIO.setval({\\\"name\\\":\\\"value\\\",\\\"scope\\\":\\\"knockout-component-f87b6226-17be-47d3-a871-dfba348b4252\\\",\\\"id\\\":\\\"ob_57\\\",\\\"type\\\":\\\"observable\\\"},val)) : undefined; return this.valueFromJulia[\\\"value\\\"]=false}),self)]\\n        \\n    }\\n    self.model = new AppViewModel();\\n    self.valueFromJulia = {};\\n    for (var key in json_data) {\\n        self.valueFromJulia[key] = false;\\n    }\\n    ko.applyBindings(self.model, self.dom);\\n}\\n\"]},\"changes\":[\"(function (val){return (val!=this.model[\\\"changes\\\"]()) ? (this.valueFromJulia[\\\"changes\\\"]=true, this.model[\\\"changes\\\"](val)) : undefined})\"],\"value\":[\"(function (val){return (val!=this.model[\\\"value\\\"]()) ? (this.valueFromJulia[\\\"value\\\"]=true, this.model[\\\"value\\\"](val)) : undefined})\"]},\"systemjs_options\":null,\"observables\":{\"changes\":{\"sync\":false,\"id\":\"ob_58\",\"value\":0},\"value\":{\"sync\":true,\"id\":\"ob_57\",\"value\":32}}},\"children\":[{\"props\":{\"attributes\":{\"style\":\"display:flex; justify-content:center; align-items:center;\"}},\"nodeType\":\"DOM\",\"type\":\"node\",\"instanceArgs\":{\"namespace\":\"html\",\"tag\":\"div\"},\"children\":[{\"props\":{\"attributes\":{\"style\":\"text-align:right;width:18%\"}},\"nodeType\":\"DOM\",\"type\":\"node\",\"instanceArgs\":{\"namespace\":\"html\",\"tag\":\"div\"},\"children\":[{\"props\":{\"className\":\"interact \",\"style\":{\"padding\":\"5px 10px 0px 10px\"}},\"nodeType\":\"DOM\",\"type\":\"node\",\"instanceArgs\":{\"namespace\":\"html\",\"tag\":\"label\"},\"children\":[\"n\"]}]},{\"props\":{\"attributes\":{\"style\":\"flex-grow:1; margin: 0 2%\"}},\"nodeType\":\"DOM\",\"type\":\"node\",\"instanceArgs\":{\"namespace\":\"html\",\"tag\":\"div\"},\"children\":[{\"props\":{\"max\":64,\"min\":1,\"attributes\":{\"type\":\"range\",\"data-bind\":\"numericValue: value, valueUpdate: 'input', event: {change : function () {this.changes(this.changes()+1)}}\",\"orient\":\"horizontal\"},\"step\":1,\"className\":\"slider slider is-fullwidth\",\"style\":{}},\"nodeType\":\"DOM\",\"type\":\"node\",\"instanceArgs\":{\"namespace\":\"html\",\"tag\":\"input\"},\"children\":[]}]},{\"props\":{\"attributes\":{\"style\":\"width:18%\"}},\"nodeType\":\"DOM\",\"type\":\"node\",\"instanceArgs\":{\"namespace\":\"html\",\"tag\":\"div\"},\"children\":[{\"props\":{\"attributes\":{\"data-bind\":\"text: value\"}},\"nodeType\":\"DOM\",\"type\":\"node\",\"instanceArgs\":{\"namespace\":\"html\",\"tag\":\"p\"},\"children\":[]}]}]}]}]},{\"props\":{},\"nodeType\":\"Scope\",\"type\":\"node\",\"instanceArgs\":{\"imports\":{\"data\":[],\"type\":\"async_block\"},\"id\":\"scope-93b866df-481b-4b02-a3b4-c8f490a556f4\",\"handlers\":{},\"systemjs_options\":null,\"observables\":{\"obs-node\":{\"sync\":false,\"id\":\"ob_61\",\"value\":{\"props\":{\"attributes\":{\"style\":\"display:flex; justify-content:center; align-items:center;\"}},\"nodeType\":\"DOM\",\"type\":\"node\",\"instanceArgs\":{\"namespace\":\"html\",\"tag\":\"div\"},\"children\":[{\"props\":{\"setInnerHtml\":\"<img src='data:image\\/png;base64,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'><\\/img>\"},\"nodeType\":\"DOM\",\"type\":\"node\",\"instanceArgs\":{\"namespace\":\"html\",\"tag\":\"div\"},\"children\":[]}]}}}},\"children\":[{\"props\":{},\"nodeType\":\"ObservableNode\",\"type\":\"node\",\"instanceArgs\":{\"id\":\"ob_61\",\"name\":\"obs-node\"},\"children\":[]}]}]},\n",
       "        );\n",
       "    } else {\n",
       "        document\n",
       "            .querySelector('[data-webio-mountpoint=\"2230383143405096596\"]')\n",
       "            .innerHTML = '<strong>WebIO not detected.</strong>';\n",
       "    }\n",
       "    </script>\n",
       "</div>\n"
      ],
      "text/plain": [
       "Widget{:manipulate,Any}(OrderedDict{Symbol,Any}(:n=>Widget{:slider,Int64}(OrderedDict{Symbol,Any}(:changes=>Observable{Int64} with 1 listeners. Value:\n",
       "0,:value=>Observable{Int64} with 2 listeners. Value:\n",
       "32), Observable{Int64} with 2 listeners. Value:\n",
       "32, Scope(\"knockout-component-f87b6226-17be-47d3-a871-dfba348b4252\", Node{DOM}(DOM(:html, :div), Any[Node{DOM}(DOM(:html, :div), Any[Node{DOM}(DOM(:html, :label), Any[\"n\"], Dict{Symbol,Any}(:className=>\"interact \",:style=>Dict{Any,Any}(:padding=>\"5px 10px 0px 10px\")), 1)], Dict{Symbol,Any}(:attributes=>Dict(\"style\"=>\"text-align:right;width:18%\")), 2), Node{DOM}(DOM(:html, :div), Any[Node{DOM}(DOM(:html, :input), Any[], Dict{Symbol,Any}(:max=>64,:min=>1,:attributes=>Dict{Any,Any}(:type=>\"range\",Symbol(\"data-bind\")=>\"numericValue: value, valueUpdate: 'input', event: {change : function () {this.changes(this.changes()+1)}}\",\"orient\"=>\"horizontal\"),:step=>1,:className=>\"slider slider is-fullwidth\",:style=>Dict{Any,Any}()), 0)], Dict{Symbol,Any}(:attributes=>Dict(\"style\"=>\"flex-grow:1; margin: 0 2%\")), 1), Node{DOM}(DOM(:html, :div), Any[Node{DOM}(DOM(:html, :p), Any[], Dict{Symbol,Any}(:attributes=>Dict(\"data-bind\"=>\"text: value\")), 0)], Dict{Symbol,Any}(:attributes=>Dict(\"style\"=>\"width:18%\")), 1)], Dict{Symbol,Any}(:attributes=>Dict(\"style\"=>\"display:flex; justify-content:center; align-items:center;\")), 7), Dict{String,Tuple{Observables.AbstractObservable,Union{Nothing, Bool}}}(\"changes\"=>(Observable{Int64} with 1 listeners. Value:\n",
       "0, nothing),\"value\"=>(Observable{Int64} with 2 listeners. Value:\n",
       "32, nothing)), Set(String[]), nothing, Any[\"knockout\"=>\"C:\\\\Users\\\\Ali\\\\.julia\\\\packages\\\\Knockout\\\\JIqpG\\\\src\\\\..\\\\assets\\\\knockout.js\", \"knockout_punches\"=>\"C:\\\\Users\\\\Ali\\\\.julia\\\\packages\\\\Knockout\\\\JIqpG\\\\src\\\\..\\\\assets\\\\knockout_punches.js\", \"C:\\\\Users\\\\Ali\\\\.julia\\\\packages\\\\InteractBase\\\\Q4IkI\\\\src\\\\..\\\\assets\\\\all.js\", \"C:\\\\Users\\\\Ali\\\\.julia\\\\packages\\\\InteractBase\\\\Q4IkI\\\\src\\\\..\\\\assets\\\\style.css\", \"C:\\\\Users\\\\Ali\\\\.julia\\\\packages\\\\InteractBulma\\\\Ohu5Y\\\\src\\\\..\\\\assets\\\\main.css\"], Dict{Any,Any}(\"_promises\"=>Dict{Any,Any}(\"importsLoaded\"=>Any[JSString(\"function (ko, koPunches) {\\n    ko.punches.enableAll();\\n    ko.bindingHandlers.numericValue = {\\n        init : function(element, valueAccessor, allBindings, data, context) {\\n            var stringified = ko.observable(ko.unwrap(valueAccessor()));\\n            stringified.subscribe(function(value) {\\n                var val = parseFloat(value);\\n                if (!isNaN(val)) {\\n                    valueAccessor()(val);\\n                }\\n            })\\n            valueAccessor().subscribe(function(value) {\\n                var str = JSON.stringify(value);\\n                if ((str == \\\"0\\\") && ([\\\"-0\\\", \\\"-0.\\\"].indexOf(stringified()) >= 0))\\n                     return;\\n                 if ([\\\"null\\\", \\\"\\\"].indexOf(str) >= 0)\\n                     return;\\n                stringified(str);\\n            })\\n            ko.applyBindingsToNode(element, { value: stringified, valueUpdate: allBindings.get('valueUpdate')}, context);\\n        }\\n    };\\n    var json_data = JSON.parse(\\\"{\\\\\\\"changes\\\\\\\":0,\\\\\\\"value\\\\\\\":32}\\\");\\n    var self = this;\\n    function AppViewModel() {\\n        for (var key in json_data) {\\n            var el = json_data[key];\\n            this[key] = Array.isArray(el) ? ko.observableArray(el) : ko.observable(el);\\n        }\\n        \\n        \\n        [this[\\\"changes\\\"].subscribe((function (val){!(this.valueFromJulia[\\\"changes\\\"]) ? (WebIO.setval({\\\"name\\\":\\\"changes\\\",\\\"scope\\\":\\\"knockout-component-f87b6226-17be-47d3-a871-dfba348b4252\\\",\\\"id\\\":\\\"ob_58\\\",\\\"type\\\":\\\"observable\\\"},val)) : undefined; return this.valueFromJulia[\\\"changes\\\"]=false}),self),this[\\\"value\\\"].subscribe((function (val){!(this.valueFromJulia[\\\"value\\\"]) ? (WebIO.setval({\\\"name\\\":\\\"value\\\",\\\"scope\\\":\\\"knockout-component-f87b6226-17be-47d3-a871-dfba348b4252\\\",\\\"id\\\":\\\"ob_57\\\",\\\"type\\\":\\\"observable\\\"},val)) : undefined; return this.valueFromJulia[\\\"value\\\"]=false}),self)]\\n        \\n    }\\n    self.model = new AppViewModel();\\n    self.valueFromJulia = {};\\n    for (var key in json_data) {\\n        self.valueFromJulia[key] = false;\\n    }\\n    ko.applyBindings(self.model, self.dom);\\n}\\n\")]),\"changes\"=>Any[JSString(\"(function (val){return (val!=this.model[\\\"changes\\\"]()) ? (this.valueFromJulia[\\\"changes\\\"]=true, this.model[\\\"changes\\\"](val)) : undefined})\")],\"value\"=>Any[JSString(\"(function (val){return (val!=this.model[\\\"value\\\"]()) ? (this.valueFromJulia[\\\"value\\\"]=true, this.model[\\\"value\\\"](val)) : undefined})\")]), ConnectionPool(Channel{Any}(sz_max:9223372036854775807,sz_curr:0), Set(AbstractConnection[]), Channel{AbstractConnection}(sz_max:32,sz_curr:0))), ##52#53{#dom#13{##dom#11#12{Dict{Any,Any},DOM}},typeof(scope)}(#dom#13{##dom#11#12{Dict{Any,Any},DOM}}(##dom#11#12{Dict{Any,Any},DOM}(Dict{Any,Any}(:className=>\"field\"), DOM(:html, :div))), scope))), Observable{Any} with 0 listeners. Value:\n",
       "Figure(PyObject <Figure size 640x480 with 2 Axes>), nothing, getfield(Main, Symbol(\"##53#56\")){Observable{Any}}(Observable{Any} with 0 listeners. Value:\n",
       "Figure(PyObject <Figure size 640x480 with 2 Axes>)))"
      ]
     },
     "execution_count": 58,
     "metadata": {
      "application/vnd.webio.node+json": {
       "kernelId": "88b6c300-161e-43df-8b08-809df5a78ed2"
      }
     },
     "output_type": "execute_result"
    }
   ],
   "source": [
    "fig = figure()\n",
    "@manipulate for n in 1:Nz\n",
    "    withfig(fig) do\n",
    "        # PyPlot.contourf(x, y, f[:, :, n], levels=20, vmin=-6, vmax=0.5); PyPlot.colorbar();\n",
    "        PyPlot.pcolormesh(x, y, ϕs[:, :, n] - ϕa[:, :, n], vmin=-0.5, vmax=0.5, cmap=\"bwr\"); PyPlot.colorbar();\n",
    "    end\n",
    "end"
   ]
  },
  {
   "cell_type": "code",
   "execution_count": 59,
   "metadata": {},
   "outputs": [
    {
     "data": {
      "text/plain": [
       "0.0037849693370245476"
      ]
     },
     "execution_count": 59,
     "metadata": {},
     "output_type": "execute_result"
    }
   ],
   "source": [
    "mean(abs.(ϕs - ϕa))"
   ]
  },
  {
   "cell_type": "code",
   "execution_count": 74,
   "metadata": {},
   "outputs": [
    {
     "name": "stdout",
     "output_type": "stream",
     "text": [
      "N = 8\n",
      "minimum(ϕs) = -1.2092484103972154\n",
      "maximum(ϕs) = 1.0590654009627474\n",
      "minimum(ϕa) = -1.0\n",
      "maximum(ϕa) = 1.0\n",
      "mean_error = mean(abs.(ϕs - ϕa)) = 0.031089741693934313\n",
      "N = 16\n",
      "minimum(ϕs) = -1.0988381633427533\n",
      "maximum(ϕs) = 1.0027195346402635\n",
      "minimum(ϕa) = -1.0\n",
      "maximum(ϕa) = 1.0\n",
      "mean_error = mean(abs.(ϕs - ϕa)) = 0.015144764824870705\n",
      "N = 32\n",
      "minimum(ϕs) = -1.0562627045838164\n",
      "maximum(ϕs) = 1.000661839296368\n",
      "minimum(ϕa) = -1.0\n",
      "maximum(ϕa) = 1.0\n",
      "mean_error = mean(abs.(ϕs - ϕa)) = 0.007570088842526057\n",
      "N = 64\n",
      "minimum(ϕs) = -1.0301367587525077\n",
      "maximum(ϕs) = 1.0001638920398894\n",
      "minimum(ϕa) = -1.0\n",
      "maximum(ϕa) = 1.0\n",
      "mean_error = mean(abs.(ϕs - ϕa)) = 0.0037849693370245476\n",
      "N = 128\n",
      "minimum(ϕs) = -1.0156143927198733\n",
      "maximum(ϕs) = 1.0000409088132491\n",
      "minimum(ϕa) = -1.0\n",
      "maximum(ϕa) = 1.0\n",
      "mean_error = mean(abs.(ϕs - ϕa)) = 0.0018924819551114167\n",
      "N = 256\n",
      "minimum(ϕs) = -1.007950234880647\n",
      "maximum(ϕs) = 1.0000102645372686\n",
      "minimum(ϕa) = -1.0\n",
      "maximum(ϕa) = 1.0\n",
      "mean_error = mean(abs.(ϕs - ϕa)) = 0.000946240846650779\n"
     ]
    }
   ],
   "source": [
    "Ns = [8, 16, 32, 64, 128, 256]\n",
    "errors = []\n",
    "for N in Ns\n",
    "    Lx, Ly, Lz = 8, 8, 8              # Domain size.\n",
    "    Nx, Ny, Nz = N, N, N              # Number of grid points.\n",
    "    Δx, Δy, Δz = Lx/Nx, Ly/Ny, Lz/Nz  # Grid spacing.\n",
    "\n",
    "    # Grid point locations.\n",
    "    x = Δx * (0:(Nx-1));\n",
    "    y = Δy * (0:(Ny-1));\n",
    "    z = Δz * (0:(Nz-1));\n",
    "\n",
    "    # Primed coordinates to easily calculate a Gaussian centered at\n",
    "    # (Lx/2, Ly/2).\n",
    "    x′ = reshape(x .- Lx/2, (Nx, 1, 1))\n",
    "    y′ = reshape(y .- Ly/2, (1, Ny, 1))\n",
    "    z′ = reshape(z .- Lz/2, (1, 1, Nz))\n",
    "\n",
    "    f = @. 4 * (x′^2 + y′^2 - 1 - (π/Lz)^2) * cos((2π/Lz) * z′) * exp(-(x′^2 + y′^2))  # Source term\n",
    "    f .= f .- mean(f)  # Ensure that source term integrates to zero.\n",
    "\n",
    "    ϕa = @. cos((2π/Lz) * z′) * exp(-(x′^2 + y′^2))  # Analytic solution\n",
    "\n",
    "    ϕs = solve_poisson_3d_mbc(f, Lx, Ly, Lz)\n",
    "    \n",
    "    @show N\n",
    "    @show minimum(ϕs)\n",
    "    @show maximum(ϕs)\n",
    "    @show minimum(ϕa)\n",
    "    @show maximum(ϕa)\n",
    "    @show mean_error = mean(abs.(ϕs - ϕa))\n",
    "    append!(errors, mean_error)\n",
    "end"
   ]
  },
  {
   "cell_type": "code",
   "execution_count": 80,
   "metadata": {},
   "outputs": [
    {
     "data": {
      "image/png": "[encoded data removed]",
      "text/plain": [
       "Figure(PyObject <Figure size 640x480 with 1 Axes>)"
      ]
     },
     "metadata": {},
     "output_type": "display_data"
    },
    {
     "name": "stdout",
     "output_type": "stream",
     "text": [
      "slope = -1.0076174761175745\n"
     ]
    }
   ],
   "source": [
    "PyPlot.loglog(Ns, errors, linestyle=\"--\", marker=\"o\");\n",
    "slope = (log10(errors[end]) - log10(errors[1])) / (log10(Ns[end]) - log10(Ns[1]));\n",
    "PyPlot.xlabel(\"Nx = Ny = Nz = N\")\n",
    "PyPlot.ylabel(\"mean(abs(error))\")\n",
    "@show slope;"
   ]
  },
  {
   "cell_type": "code",
   "execution_count": 94,
   "metadata": {},
   "outputs": [
    {
     "name": "stdout",
     "output_type": "stream",
     "text": [
      "N = 8\n",
      "minimum(ϕs) = 0.0\n",
      "maximum(ϕs) = 1.0898136684033521\n",
      "minimum(ϕa) = 8.954917337833549e-15\n",
      "maximum(ϕa) = 1.0\n",
      "mean_error = mean(abs.(ϕs - ϕa)) = 0.016071919775989915\n",
      "N = 16\n",
      "minimum(ϕs) = 0.0\n",
      "maximum(ϕs) = 1.0270682982954928\n",
      "minimum(ϕa) = 8.954917337833549e-15\n",
      "maximum(ϕa) = 1.0\n",
      "mean_error = mean(abs.(ϕs - ϕa)) = 0.011136613902096838\n",
      "N = 32\n",
      "minimum(ϕs) = 0.0\n",
      "maximum(ϕs) = 1.9338152225570275\n",
      "minimum(ϕa) = 8.954917337833549e-15\n",
      "maximum(ϕa) = 1.0\n",
      "mean_error = mean(abs.(ϕs - ϕa)) = 0.9327254717523104\n",
      "N = 64\n",
      "minimum(ϕs) = 0.0\n",
      "maximum(ϕs) = 0.22363159026001872\n",
      "minimum(ϕa) = 8.954917337833549e-15\n",
      "maximum(ϕa) = 1.0\n",
      "mean_error = mean(abs.(ϕs - ϕa)) = 0.12220012061931321\n",
      "N = 128\n",
      "minimum(ϕs) = 0.0\n",
      "maximum(ϕs) = 0.13343721159712454\n",
      "minimum(ϕa) = 8.954917337833549e-15\n",
      "maximum(ϕa) = 1.0\n",
      "mean_error = mean(abs.(ϕs - ϕa)) = 0.08146274512652298\n",
      "N = 256\n",
      "minimum(ϕs) = 0.0\n",
      "maximum(ϕs) = 0.09134507707315692\n",
      "minimum(ϕa) = 8.954917337833549e-15\n",
      "maximum(ϕa) = 1.0\n",
      "mean_error = mean(abs.(ϕs - ϕa)) = 0.06865052524165342\n"
     ]
    }
   ],
   "source": [
    "Ns = [8, 16, 32, 64, 128, 256]\n",
    "errors = []\n",
    "for N in Ns\n",
    "    Lx, Ly, Lz = 8, 8, 8              # Domain size.\n",
    "    Nx, Ny, Nz = N, N, N              # Number of grid points.\n",
    "    Δx, Δy, Δz = Lx/Nx, Ly/Ny, Lz/Nz  # Grid spacing.\n",
    "\n",
    "    # Grid point locations.\n",
    "    x = Δx * (0:(Nx-1));\n",
    "    y = Δy * (0:(Ny-1));\n",
    "    z = Δz * (0:(Nz-1));\n",
    "\n",
    "    # Primed coordinates to easily calculate a Gaussian centered at\n",
    "    # (Lx/2, Ly/2).\n",
    "    x′ = reshape(x .- Lx/2, (Nx, 1, 1))\n",
    "    y′ = reshape(y .- Ly/2, (1, Ny, 1))\n",
    "    z′ = reshape(z .- Lz/2, (1, 1, Nz))\n",
    "\n",
    "    f = @. ( 4*(x′^2 + y′^2 - 1) - (π/(2*Lz))^2) * cos((π/2*Lz) * z′) * exp(-(x′^2 + y′^2))  # Source term\n",
    "    f .= f .- mean(f)  # Ensure that source term integrates to zero.\n",
    "\n",
    "    ϕa = @. cos((π/(2*Lz)) * z′) * exp(-(x′^2 + y′^2))  # Analytic solution\n",
    "\n",
    "    ϕs = solve_poisson_3d_mbc(f, Lx, Ly, Lz)\n",
    "    ϕs .= ϕs .- minimum(ϕs)\n",
    "    \n",
    "    @show N\n",
    "    @show minimum(ϕs)\n",
    "    @show maximum(ϕs)\n",
    "    @show minimum(ϕa)\n",
    "    @show maximum(ϕa)\n",
    "    @show mean_error = mean(abs.(ϕs - ϕa))\n",
    "    append!(errors, mean_error)\n",
    "end"
   ]
  },
  {
   "cell_type": "code",
   "execution_count": 90,
   "metadata": {},
   "outputs": [
    {
     "name": "stdout",
     "output_type": "stream",
     "text": [
      "minimum(ϕs) = 0.0\n",
      "maximum(ϕs) = 1.0147424961375815\n",
      "minimum(ϕa) = 7.754564901785182e-31\n",
      "maximum(ϕa) = 1.0\n",
      "mean(abs.(ϕs - ϕa)) = 0.01889949869856986\n"
     ]
    },
    {
     "data": {
      "text/plain": [
       "0.01889949869856986"
      ]
     },
     "execution_count": 90,
     "metadata": {},
     "output_type": "execute_result"
    }
   ],
   "source": [
    "@show minimum(ϕs)\n",
    "@show maximum(ϕs)\n",
    "@show minimum(ϕa)\n",
    "@show maximum(ϕa)\n",
    "ϕs .= ϕs .- minimum(ϕs)\n",
    " @show mean(abs.(ϕs - ϕa))"
   ]
  },
  {
   "cell_type": "code",
   "execution_count": 88,
   "metadata": {},
   "outputs": [
    {
     "data": {
      "application/vnd.webio.node+json": {
       "children": [
        {
         "children": [
          {
           "children": [
            {
             "children": [
              {
               "children": [
                {
                 "children": [
                  "n"
                 ],
                 "instanceArgs": {
                  "namespace": "html",
                  "tag": "label"
                 },
                 "nodeType": "DOM",
                 "props": {
                  "className": "interact ",
                  "style": {
                   "padding": "5px 10px 0px 10px"
                  }
                 },
                 "type": "node"
                }
               ],
               "instanceArgs": {
                "namespace": "html",
                "tag": "div"
               },
               "nodeType": "DOM",
               "props": {
                "attributes": {
                 "style": "text-align:right;width:18%"
                }
               },
               "type": "node"
              },
              {
               "children": [
                {
                 "children": [],
                 "instanceArgs": {
                  "namespace": "html",
                  "tag": "input"
                 },
                 "nodeType": "DOM",
                 "props": {
                  "attributes": {
                   "data-bind": "numericValue: value, valueUpdate: 'input', event: {change : function () {this.changes(this.changes()+1)}}",
                   "orient": "horizontal",
                   "type": "range"
                  },
                  "className": "slider slider is-fullwidth",
                  "max": 64,
                  "min": 1,
                  "step": 1,
                  "style": {}
                 },
                 "type": "node"
                }
               ],
               "instanceArgs": {
                "namespace": "html",
                "tag": "div"
               },
               "nodeType": "DOM",
               "props": {
                "attributes": {
                 "style": "flex-grow:1; margin: 0 2%"
                }
               },
               "type": "node"
              },
              {
               "children": [
                {
                 "children": [],
                 "instanceArgs": {
                  "namespace": "html",
                  "tag": "p"
                 },
                 "nodeType": "DOM",
                 "props": {
                  "attributes": {
                   "data-bind": "text: value"
                  }
                 },
                 "type": "node"
                }
               ],
               "instanceArgs": {
                "namespace": "html",
                "tag": "div"
               },
               "nodeType": "DOM",
               "props": {
                "attributes": {
                 "style": "width:18%"
                }
               },
               "type": "node"
              }
             ],
             "instanceArgs": {
              "namespace": "html",
              "tag": "div"
             },
             "nodeType": "DOM",
             "props": {
              "attributes": {
               "style": "display:flex; justify-content:center; align-items:center;"
              }
             },
             "type": "node"
            }
           ],
           "instanceArgs": {
            "handlers": {
             "_promises": {
              "importsLoaded": [
               "function (ko, koPunches) {\n    ko.punches.enableAll();\n    ko.bindingHandlers.numericValue = {\n        init : function(element, valueAccessor, allBindings, data, context) {\n            var stringified = ko.observable(ko.unwrap(valueAccessor()));\n            stringified.subscribe(function(value) {\n                var val = parseFloat(value);\n                if (!isNaN(val)) {\n                    valueAccessor()(val);\n                }\n            })\n            valueAccessor().subscribe(function(value) {\n                var str = JSON.stringify(value);\n                if ((str == \"0\") && ([\"-0\", \"-0.\"].indexOf(stringified()) >= 0))\n                     return;\n                 if ([\"null\", \"\"].indexOf(str) >= 0)\n                     return;\n                stringified(str);\n            })\n            ko.applyBindingsToNode(element, { value: stringified, valueUpdate: allBindings.get('valueUpdate')}, context);\n        }\n    };\n    var json_data = JSON.parse(\"{\\\"changes\\\":0,\\\"value\\\":32}\");\n    var self = this;\n    function AppViewModel() {\n        for (var key in json_data) {\n            var el = json_data[key];\n            this[key] = Array.isArray(el) ? ko.observableArray(el) : ko.observable(el);\n        }\n        \n        \n        [this[\"changes\"].subscribe((function (val){!(this.valueFromJulia[\"changes\"]) ? (WebIO.setval({\"name\":\"changes\",\"scope\":\"knockout-component-f8287fc9-7450-4e4f-a7ef-28566c0dfc9f\",\"id\":\"ob_86\",\"type\":\"observable\"},val)) : undefined; return this.valueFromJulia[\"changes\"]=false}),self),this[\"value\"].subscribe((function (val){!(this.valueFromJulia[\"value\"]) ? (WebIO.setval({\"name\":\"value\",\"scope\":\"knockout-component-f8287fc9-7450-4e4f-a7ef-28566c0dfc9f\",\"id\":\"ob_85\",\"type\":\"observable\"},val)) : undefined; return this.valueFromJulia[\"value\"]=false}),self)]\n        \n    }\n    self.model = new AppViewModel();\n    self.valueFromJulia = {};\n    for (var key in json_data) {\n        self.valueFromJulia[key] = false;\n    }\n    ko.applyBindings(self.model, self.dom);\n}\n"
              ]
             },
             "changes": [
              "(function (val){return (val!=this.model[\"changes\"]()) ? (this.valueFromJulia[\"changes\"]=true, this.model[\"changes\"](val)) : undefined})"
             ],
             "value": [
              "(function (val){return (val!=this.model[\"value\"]()) ? (this.valueFromJulia[\"value\"]=true, this.model[\"value\"](val)) : undefined})"
             ]
            },
            "id": "knockout-component-f8287fc9-7450-4e4f-a7ef-28566c0dfc9f",
            "imports": {
             "data": [
              {
               "name": "knockout",
               "type": "js",
               "url": "/assetserver/d10dea684c7287acd466465fb49a444aaefd0a90-knockout.js"
              },
              {
               "name": "knockout_punches",
               "type": "js",
               "url": "/assetserver/679b3f1a575e726ae06ec067c6f26a9cfcec2eb5-knockout_punches.js"
              },
              {
               "name": null,
               "type": "js",
               "url": "/assetserver/bd7a992a16365bf84c1a00c7a8f2bd69bea8b31d-all.js"
              },
              {
               "name": null,
               "type": "css",
               "url": "/assetserver/c09c1362a25da710e095846a1811f27ac21bbf6f-style.css"
              },
              {
               "name": null,
               "type": "css",
               "url": "/assetserver/2ccc2c2ab29565bde6604cd2a5b2b134f6b47acb-main.css"
              }
             ],
             "type": "async_block"
            },
            "observables": {
             "changes": {
              "id": "ob_86",
              "sync": false,
              "value": 0
             },
             "value": {
              "id": "ob_85",
              "sync": true,
              "value": 32
             }
            },
            "systemjs_options": null
           },
           "nodeType": "Scope",
           "props": {},
           "type": "node"
          }
         ],
         "instanceArgs": {
          "namespace": "html",
          "tag": "div"
         },
         "nodeType": "DOM",
         "props": {
          "className": "field"
         },
         "type": "node"
        },
        {
         "children": [
          {
           "children": [],
           "instanceArgs": {
            "id": "ob_91",
            "name": "obs-node"
           },
           "nodeType": "ObservableNode",
           "props": {},
           "type": "node"
          }
         ],
         "instanceArgs": {
          "handlers": {},
          "id": "scope-315239d4-cee3-4dfc-941d-7753dd88e1ec",
          "imports": {
           "data": [],
           "type": "async_block"
          },
          "observables": {
           "obs-node": {
            "id": "ob_91",
            "sync": false,
            "value": {
             "children": [
              {
               "children": [],
               "instanceArgs": {
                "namespace": "html",
                "tag": "div"
               },
               "nodeType": "DOM",
               "props": {
                "setInnerHtml": "<img src='data:image/png;base64,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'></img>"
               },
               "type": "node"
              }
             ],
             "instanceArgs": {
              "namespace": "html",
              "tag": "div"
             },
             "nodeType": "DOM",
             "props": {
              "attributes": {
               "style": "display:flex; justify-content:center; align-items:center;"
              }
             },
             "type": "node"
            }
           }
          },
          "systemjs_options": null
         },
         "nodeType": "Scope",
         "props": {},
         "type": "node"
        }
       ],
       "instanceArgs": {
        "namespace": "html",
        "tag": "div"
       },
       "nodeType": "DOM",
       "props": {},
       "type": "node"
      },
      "text/html": [
       "<div\n",
       "    class=\"webio-mountpoint\"\n",
       "    data-webio-mountpoint=\"981654686829568073\"\n",
       ">\n",
       "    <script>\n",
       "    if (window.require && require.defined && require.defined(\"nbextensions/webio/main\")) {\n",
       "        console.log(\"Jupyter WebIO extension detected, not mounting.\");\n",
       "    } else if (window.WebIO) {\n",
       "        WebIO.mount(\n",
       "            document.querySelector('[data-webio-mountpoint=\"981654686829568073\"]'),\n",
       "            {\"props\":{},\"nodeType\":\"DOM\",\"type\":\"node\",\"instanceArgs\":{\"namespace\":\"html\",\"tag\":\"div\"},\"children\":[{\"props\":{\"className\":\"field\"},\"nodeType\":\"DOM\",\"type\":\"node\",\"instanceArgs\":{\"namespace\":\"html\",\"tag\":\"div\"},\"children\":[{\"props\":{},\"nodeType\":\"Scope\",\"type\":\"node\",\"instanceArgs\":{\"imports\":{\"data\":[{\"name\":\"knockout\",\"type\":\"js\",\"url\":\"\\/assetserver\\/d10dea684c7287acd466465fb49a444aaefd0a90-knockout.js\"},{\"name\":\"knockout_punches\",\"type\":\"js\",\"url\":\"\\/assetserver\\/679b3f1a575e726ae06ec067c6f26a9cfcec2eb5-knockout_punches.js\"},{\"name\":null,\"type\":\"js\",\"url\":\"\\/assetserver\\/bd7a992a16365bf84c1a00c7a8f2bd69bea8b31d-all.js\"},{\"name\":null,\"type\":\"css\",\"url\":\"\\/assetserver\\/c09c1362a25da710e095846a1811f27ac21bbf6f-style.css\"},{\"name\":null,\"type\":\"css\",\"url\":\"\\/assetserver\\/2ccc2c2ab29565bde6604cd2a5b2b134f6b47acb-main.css\"}],\"type\":\"async_block\"},\"id\":\"knockout-component-f8287fc9-7450-4e4f-a7ef-28566c0dfc9f\",\"handlers\":{\"_promises\":{\"importsLoaded\":[\"function (ko, koPunches) {\\n    ko.punches.enableAll();\\n    ko.bindingHandlers.numericValue = {\\n        init : function(element, valueAccessor, allBindings, data, context) {\\n            var stringified = ko.observable(ko.unwrap(valueAccessor()));\\n            stringified.subscribe(function(value) {\\n                var val = parseFloat(value);\\n                if (!isNaN(val)) {\\n                    valueAccessor()(val);\\n                }\\n            })\\n            valueAccessor().subscribe(function(value) {\\n                var str = JSON.stringify(value);\\n                if ((str == \\\"0\\\") && ([\\\"-0\\\", \\\"-0.\\\"].indexOf(stringified()) >= 0))\\n                     return;\\n                 if ([\\\"null\\\", \\\"\\\"].indexOf(str) >= 0)\\n                     return;\\n                stringified(str);\\n            })\\n            ko.applyBindingsToNode(element, { value: stringified, valueUpdate: allBindings.get('valueUpdate')}, context);\\n        }\\n    };\\n    var json_data = JSON.parse(\\\"{\\\\\\\"changes\\\\\\\":0,\\\\\\\"value\\\\\\\":32}\\\");\\n    var self = this;\\n    function AppViewModel() {\\n        for (var key in json_data) {\\n            var el = json_data[key];\\n            this[key] = Array.isArray(el) ? ko.observableArray(el) : ko.observable(el);\\n        }\\n        \\n        \\n        [this[\\\"changes\\\"].subscribe((function (val){!(this.valueFromJulia[\\\"changes\\\"]) ? (WebIO.setval({\\\"name\\\":\\\"changes\\\",\\\"scope\\\":\\\"knockout-component-f8287fc9-7450-4e4f-a7ef-28566c0dfc9f\\\",\\\"id\\\":\\\"ob_86\\\",\\\"type\\\":\\\"observable\\\"},val)) : undefined; return this.valueFromJulia[\\\"changes\\\"]=false}),self),this[\\\"value\\\"].subscribe((function (val){!(this.valueFromJulia[\\\"value\\\"]) ? (WebIO.setval({\\\"name\\\":\\\"value\\\",\\\"scope\\\":\\\"knockout-component-f8287fc9-7450-4e4f-a7ef-28566c0dfc9f\\\",\\\"id\\\":\\\"ob_85\\\",\\\"type\\\":\\\"observable\\\"},val)) : undefined; return this.valueFromJulia[\\\"value\\\"]=false}),self)]\\n        \\n    }\\n    self.model = new AppViewModel();\\n    self.valueFromJulia = {};\\n    for (var key in json_data) {\\n        self.valueFromJulia[key] = false;\\n    }\\n    ko.applyBindings(self.model, self.dom);\\n}\\n\"]},\"changes\":[\"(function (val){return (val!=this.model[\\\"changes\\\"]()) ? (this.valueFromJulia[\\\"changes\\\"]=true, this.model[\\\"changes\\\"](val)) : undefined})\"],\"value\":[\"(function (val){return (val!=this.model[\\\"value\\\"]()) ? (this.valueFromJulia[\\\"value\\\"]=true, this.model[\\\"value\\\"](val)) : undefined})\"]},\"systemjs_options\":null,\"observables\":{\"changes\":{\"sync\":false,\"id\":\"ob_86\",\"value\":0},\"value\":{\"sync\":true,\"id\":\"ob_85\",\"value\":32}}},\"children\":[{\"props\":{\"attributes\":{\"style\":\"display:flex; justify-content:center; align-items:center;\"}},\"nodeType\":\"DOM\",\"type\":\"node\",\"instanceArgs\":{\"namespace\":\"html\",\"tag\":\"div\"},\"children\":[{\"props\":{\"attributes\":{\"style\":\"text-align:right;width:18%\"}},\"nodeType\":\"DOM\",\"type\":\"node\",\"instanceArgs\":{\"namespace\":\"html\",\"tag\":\"div\"},\"children\":[{\"props\":{\"className\":\"interact \",\"style\":{\"padding\":\"5px 10px 0px 10px\"}},\"nodeType\":\"DOM\",\"type\":\"node\",\"instanceArgs\":{\"namespace\":\"html\",\"tag\":\"label\"},\"children\":[\"n\"]}]},{\"props\":{\"attributes\":{\"style\":\"flex-grow:1; margin: 0 2%\"}},\"nodeType\":\"DOM\",\"type\":\"node\",\"instanceArgs\":{\"namespace\":\"html\",\"tag\":\"div\"},\"children\":[{\"props\":{\"max\":64,\"min\":1,\"attributes\":{\"type\":\"range\",\"data-bind\":\"numericValue: value, valueUpdate: 'input', event: {change : function () {this.changes(this.changes()+1)}}\",\"orient\":\"horizontal\"},\"step\":1,\"className\":\"slider slider is-fullwidth\",\"style\":{}},\"nodeType\":\"DOM\",\"type\":\"node\",\"instanceArgs\":{\"namespace\":\"html\",\"tag\":\"input\"},\"children\":[]}]},{\"props\":{\"attributes\":{\"style\":\"width:18%\"}},\"nodeType\":\"DOM\",\"type\":\"node\",\"instanceArgs\":{\"namespace\":\"html\",\"tag\":\"div\"},\"children\":[{\"props\":{\"attributes\":{\"data-bind\":\"text: value\"}},\"nodeType\":\"DOM\",\"type\":\"node\",\"instanceArgs\":{\"namespace\":\"html\",\"tag\":\"p\"},\"children\":[]}]}]}]}]},{\"props\":{},\"nodeType\":\"Scope\",\"type\":\"node\",\"instanceArgs\":{\"imports\":{\"data\":[],\"type\":\"async_block\"},\"id\":\"scope-838c8481-183f-49a1-898b-e584aee5e53b\",\"handlers\":{},\"systemjs_options\":null,\"observables\":{\"obs-node\":{\"sync\":false,\"id\":\"ob_89\",\"value\":{\"props\":{\"attributes\":{\"style\":\"display:flex; justify-content:center; align-items:center;\"}},\"nodeType\":\"DOM\",\"type\":\"node\",\"instanceArgs\":{\"namespace\":\"html\",\"tag\":\"div\"},\"children\":[{\"props\":{\"setInnerHtml\":\"<img src='data:image\\/png;base64,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'><\\/img>\"},\"nodeType\":\"DOM\",\"type\":\"node\",\"instanceArgs\":{\"namespace\":\"html\",\"tag\":\"div\"},\"children\":[]}]}}}},\"children\":[{\"props\":{},\"nodeType\":\"ObservableNode\",\"type\":\"node\",\"instanceArgs\":{\"id\":\"ob_89\",\"name\":\"obs-node\"},\"children\":[]}]}]},\n",
       "        );\n",
       "    } else {\n",
       "        document\n",
       "            .querySelector('[data-webio-mountpoint=\"981654686829568073\"]')\n",
       "            .innerHTML = '<strong>WebIO not detected.</strong>';\n",
       "    }\n",
       "    </script>\n",
       "</div>\n"
      ],
      "text/plain": [
       "Widget{:manipulate,Any}(OrderedDict{Symbol,Any}(:n=>Widget{:slider,Int64}(OrderedDict{Symbol,Any}(:changes=>Observable{Int64} with 1 listeners. Value:\n",
       "0,:value=>Observable{Int64} with 2 listeners. Value:\n",
       "32), Observable{Int64} with 2 listeners. Value:\n",
       "32, Scope(\"knockout-component-f8287fc9-7450-4e4f-a7ef-28566c0dfc9f\", Node{DOM}(DOM(:html, :div), Any[Node{DOM}(DOM(:html, :div), Any[Node{DOM}(DOM(:html, :label), Any[\"n\"], Dict{Symbol,Any}(:className=>\"interact \",:style=>Dict{Any,Any}(:padding=>\"5px 10px 0px 10px\")), 1)], Dict{Symbol,Any}(:attributes=>Dict(\"style\"=>\"text-align:right;width:18%\")), 2), Node{DOM}(DOM(:html, :div), Any[Node{DOM}(DOM(:html, :input), Any[], Dict{Symbol,Any}(:max=>64,:min=>1,:attributes=>Dict{Any,Any}(:type=>\"range\",Symbol(\"data-bind\")=>\"numericValue: value, valueUpdate: 'input', event: {change : function () {this.changes(this.changes()+1)}}\",\"orient\"=>\"horizontal\"),:step=>1,:className=>\"slider slider is-fullwidth\",:style=>Dict{Any,Any}()), 0)], Dict{Symbol,Any}(:attributes=>Dict(\"style\"=>\"flex-grow:1; margin: 0 2%\")), 1), Node{DOM}(DOM(:html, :div), Any[Node{DOM}(DOM(:html, :p), Any[], Dict{Symbol,Any}(:attributes=>Dict(\"data-bind\"=>\"text: value\")), 0)], Dict{Symbol,Any}(:attributes=>Dict(\"style\"=>\"width:18%\")), 1)], Dict{Symbol,Any}(:attributes=>Dict(\"style\"=>\"display:flex; justify-content:center; align-items:center;\")), 7), Dict{String,Tuple{Observables.AbstractObservable,Union{Nothing, Bool}}}(\"changes\"=>(Observable{Int64} with 1 listeners. Value:\n",
       "0, nothing),\"value\"=>(Observable{Int64} with 2 listeners. Value:\n",
       "32, nothing)), Set(String[]), nothing, Any[\"knockout\"=>\"C:\\\\Users\\\\Ali\\\\.julia\\\\packages\\\\Knockout\\\\JIqpG\\\\src\\\\..\\\\assets\\\\knockout.js\", \"knockout_punches\"=>\"C:\\\\Users\\\\Ali\\\\.julia\\\\packages\\\\Knockout\\\\JIqpG\\\\src\\\\..\\\\assets\\\\knockout_punches.js\", \"C:\\\\Users\\\\Ali\\\\.julia\\\\packages\\\\InteractBase\\\\Q4IkI\\\\src\\\\..\\\\assets\\\\all.js\", \"C:\\\\Users\\\\Ali\\\\.julia\\\\packages\\\\InteractBase\\\\Q4IkI\\\\src\\\\..\\\\assets\\\\style.css\", \"C:\\\\Users\\\\Ali\\\\.julia\\\\packages\\\\InteractBulma\\\\Ohu5Y\\\\src\\\\..\\\\assets\\\\main.css\"], Dict{Any,Any}(\"_promises\"=>Dict{Any,Any}(\"importsLoaded\"=>Any[JSString(\"function (ko, koPunches) {\\n    ko.punches.enableAll();\\n    ko.bindingHandlers.numericValue = {\\n        init : function(element, valueAccessor, allBindings, data, context) {\\n            var stringified = ko.observable(ko.unwrap(valueAccessor()));\\n            stringified.subscribe(function(value) {\\n                var val = parseFloat(value);\\n                if (!isNaN(val)) {\\n                    valueAccessor()(val);\\n                }\\n            })\\n            valueAccessor().subscribe(function(value) {\\n                var str = JSON.stringify(value);\\n                if ((str == \\\"0\\\") && ([\\\"-0\\\", \\\"-0.\\\"].indexOf(stringified()) >= 0))\\n                     return;\\n                 if ([\\\"null\\\", \\\"\\\"].indexOf(str) >= 0)\\n                     return;\\n                stringified(str);\\n            })\\n            ko.applyBindingsToNode(element, { value: stringified, valueUpdate: allBindings.get('valueUpdate')}, context);\\n        }\\n    };\\n    var json_data = JSON.parse(\\\"{\\\\\\\"changes\\\\\\\":0,\\\\\\\"value\\\\\\\":32}\\\");\\n    var self = this;\\n    function AppViewModel() {\\n        for (var key in json_data) {\\n            var el = json_data[key];\\n            this[key] = Array.isArray(el) ? ko.observableArray(el) : ko.observable(el);\\n        }\\n        \\n        \\n        [this[\\\"changes\\\"].subscribe((function (val){!(this.valueFromJulia[\\\"changes\\\"]) ? (WebIO.setval({\\\"name\\\":\\\"changes\\\",\\\"scope\\\":\\\"knockout-component-f8287fc9-7450-4e4f-a7ef-28566c0dfc9f\\\",\\\"id\\\":\\\"ob_86\\\",\\\"type\\\":\\\"observable\\\"},val)) : undefined; return this.valueFromJulia[\\\"changes\\\"]=false}),self),this[\\\"value\\\"].subscribe((function (val){!(this.valueFromJulia[\\\"value\\\"]) ? (WebIO.setval({\\\"name\\\":\\\"value\\\",\\\"scope\\\":\\\"knockout-component-f8287fc9-7450-4e4f-a7ef-28566c0dfc9f\\\",\\\"id\\\":\\\"ob_85\\\",\\\"type\\\":\\\"observable\\\"},val)) : undefined; return this.valueFromJulia[\\\"value\\\"]=false}),self)]\\n        \\n    }\\n    self.model = new AppViewModel();\\n    self.valueFromJulia = {};\\n    for (var key in json_data) {\\n        self.valueFromJulia[key] = false;\\n    }\\n    ko.applyBindings(self.model, self.dom);\\n}\\n\")]),\"changes\"=>Any[JSString(\"(function (val){return (val!=this.model[\\\"changes\\\"]()) ? (this.valueFromJulia[\\\"changes\\\"]=true, this.model[\\\"changes\\\"](val)) : undefined})\")],\"value\"=>Any[JSString(\"(function (val){return (val!=this.model[\\\"value\\\"]()) ? (this.valueFromJulia[\\\"value\\\"]=true, this.model[\\\"value\\\"](val)) : undefined})\")]), ConnectionPool(Channel{Any}(sz_max:9223372036854775807,sz_curr:0), Set(AbstractConnection[]), Channel{AbstractConnection}(sz_max:32,sz_curr:0))), ##52#53{#dom#13{##dom#11#12{Dict{Any,Any},DOM}},typeof(scope)}(#dom#13{##dom#11#12{Dict{Any,Any},DOM}}(##dom#11#12{Dict{Any,Any},DOM}(Dict{Any,Any}(:className=>\"field\"), DOM(:html, :div))), scope))), Observable{Any} with 0 listeners. Value:\n",
       "Figure(PyObject <Figure size 640x480 with 2 Axes>), nothing, getfield(Main, Symbol(\"##77#80\")){Observable{Any}}(Observable{Any} with 0 listeners. Value:\n",
       "Figure(PyObject <Figure size 640x480 with 2 Axes>)))"
      ]
     },
     "execution_count": 88,
     "metadata": {
      "application/vnd.webio.node+json": {
       "kernelId": "88b6c300-161e-43df-8b08-809df5a78ed2"
      }
     },
     "output_type": "execute_result"
    }
   ],
   "source": [
    "fig = figure()\n",
    "@manipulate for n in 1:Nz\n",
    "    withfig(fig) do\n",
    "        # PyPlot.contourf(x, y, f[:, :, n], levels=20, vmin=-6, vmax=0.5); PyPlot.colorbar();\n",
    "        PyPlot.pcolormesh(x, y, ϕs[:, :, n], vmin=-0.5, vmax=0.5, cmap=\"bwr\"); PyPlot.colorbar();\n",
    "    end\n",
    "end"
   ]
  },
  {
   "cell_type": "code",
   "execution_count": null,
   "metadata": {
    "collapsed": true
   },
   "outputs": [],
   "source": []
  },
  {
   "cell_type": "code",
   "execution_count": null,
   "metadata": {
    "collapsed": true
   },
   "outputs": [],
   "source": []
  }
 ],
 "metadata": {
  "@webio": {
   "lastCommId": "75976584E647432A9A847FCD49A30F28",
   "lastKernelId": "88b6c300-161e-43df-8b08-809df5a78ed2"
  },
  "kernelspec": {
   "display_name": "Julia 1.0.0",
   "language": "julia",
   "name": "julia-1.0"
  },
  "language_info": {
   "file_extension": ".jl",
   "mimetype": "application/julia",
   "name": "julia",
   "version": "1.0.0"
  }
 },
 "nbformat": 4,
 "nbformat_minor": 2
}
