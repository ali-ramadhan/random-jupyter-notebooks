{
 "cells": [
  {
   "cell_type": "code",
   "execution_count": 1,
   "metadata": {},
   "outputs": [],
   "source": [
    "using Random, Statistics\n",
    "using FFTW"
   ]
  },
  {
   "cell_type": "code",
   "execution_count": 2,
   "metadata": {},
   "outputs": [
    {
     "data": {
      "text/plain": [
       "8-element Array{Float64,1}:\n",
       "  0.4900442230630878 \n",
       "  0.5767532530121119 \n",
       " -0.16903748678063935\n",
       " -0.15627443844806   \n",
       " -0.05472317558312356\n",
       " -0.1301267268724019 \n",
       " -0.2913016189822949 \n",
       " -0.2653340294086798 "
      ]
     },
     "execution_count": 2,
     "metadata": {},
     "output_type": "execute_result"
    }
   ],
   "source": [
    "N = 8\n",
    "R = rand(MersenneTwister(0), N)\n",
    "R = R .- mean(R)"
   ]
  },
  {
   "cell_type": "code",
   "execution_count": 3,
   "metadata": {},
   "outputs": [
    {
     "data": {
      "text/plain": [
       "8-element Array{Float64,1}:\n",
       "  0.4900442230630878 \n",
       " -0.16903748678063935\n",
       " -0.05472317558312356\n",
       " -0.2913016189822949 \n",
       " -0.2653340294086798 \n",
       " -0.1301267268724019 \n",
       " -0.15627443844806   \n",
       "  0.5767532530121119 "
      ]
     },
     "execution_count": 3,
     "metadata": {},
     "output_type": "execute_result"
    }
   ],
   "source": [
    "R2 = copy(R)\n",
    "R2 .= cat(R2[1:2:N], R2[N:-2:2]; dims=1)"
   ]
  },
  {
   "cell_type": "code",
   "execution_count": 6,
   "metadata": {},
   "outputs": [
    {
     "data": {
      "text/plain": [
       "8-element Array{Float64,1}:\n",
       "  4.440892098500626e-16\n",
       "  2.8423915810257907   \n",
       "  1.2525286497647694   \n",
       "  1.1066138351200558   \n",
       "  0.038785032156569685 \n",
       " -1.0474753422685552   \n",
       " -0.7467529134050761   \n",
       " -0.5353031832400937   "
      ]
     },
     "execution_count": 6,
     "metadata": {},
     "output_type": "execute_result"
    }
   ],
   "source": [
    "@inline W(M, k) = exp(-2im*π*k/M)\n",
    "\n",
    "R3 = fft(R2)\n",
    "\n",
    "R4 = zeros(N)\n",
    "for k in 0:N-1\n",
    "    R4[k+1] = 2 * real(W(4N, k) * R3[k+1])\n",
    "end\n",
    "\n",
    "R4"
   ]
  },
  {
   "cell_type": "code",
   "execution_count": 11,
   "metadata": {},
   "outputs": [
    {
     "data": {
      "text/plain": [
       "8-element Array{Float64,1}:\n",
       "  4.440892098500626e-16\n",
       "  2.842391581025791    \n",
       "  1.2525286497647694   \n",
       "  1.1066138351200558   \n",
       "  0.038785032156569685 \n",
       " -1.0474753422685554   \n",
       " -0.7467529134050761   \n",
       " -0.5353031832400938   "
      ]
     },
     "execution_count": 11,
     "metadata": {},
     "output_type": "execute_result"
    }
   ],
   "source": [
    "R_FCT = FFTW.r2r(R, FFTW.REDFT10)"
   ]
  },
  {
   "cell_type": "code",
   "execution_count": 12,
   "metadata": {},
   "outputs": [
    {
     "data": {
      "text/plain": [
       "true"
      ]
     },
     "execution_count": 12,
     "metadata": {},
     "output_type": "execute_result"
    }
   ],
   "source": [
    "R4 ≈ R_FCT"
   ]
  },
  {
   "cell_type": "code",
   "execution_count": null,
   "metadata": {},
   "outputs": [],
   "source": []
  }
 ],
 "metadata": {
  "kernelspec": {
   "display_name": "Julia 1.1.0",
   "language": "julia",
   "name": "julia-1.1"
  },
  "language_info": {
   "file_extension": ".jl",
   "mimetype": "application/julia",
   "name": "julia",
   "version": "1.1.0"
  }
 },
 "nbformat": 4,
 "nbformat_minor": 2
}
