{
 "cells": [
  {
   "cell_type": "code",
   "execution_count": 2,
   "metadata": {},
   "outputs": [
    {
     "data": {
      "text/plain": [
       "\"/home/gridsan/aramadhan/Oceananigans.jl/Project.toml\""
      ]
     },
     "execution_count": 2,
     "metadata": {},
     "output_type": "execute_result"
    }
   ],
   "source": [
    "cd(\"/home/gridsan/aramadhan/Oceananigans.jl/\")\n",
    "pwd()\n",
    "using Pkg\n",
    "Pkg.activate(\".\")"
   ]
  },
  {
   "cell_type": "code",
   "execution_count": 3,
   "metadata": {},
   "outputs": [],
   "source": [
    "using CuArrays"
   ]
  },
  {
   "cell_type": "code",
   "execution_count": 4,
   "metadata": {},
   "outputs": [
    {
     "data": {
      "text/plain": [
       "1×8×1 CuArray{Complex{Float64},3}:\n",
       "[:, :, 1] =\n",
       " 2.0-0.0im  1.96157-0.390181im  1.84776-0.765367im  …  0.390181-1.96157im"
      ]
     },
     "execution_count": 4,
     "metadata": {},
     "output_type": "execute_result"
    }
   ],
   "source": [
    "Ny = 8\n",
    "factors_y = 2 * exp.(collect(-1im*π*(0:Ny-1) / (2Ny)))\n",
    "dct_factors_y = CuArray{Complex{Float64}}(reshape(factors_y, 1, Ny, 1))"
   ]
  },
  {
   "cell_type": "code",
   "execution_count": 5,
   "metadata": {},
   "outputs": [
    {
     "data": {
      "text/plain": [
       "ω (generic function with 1 method)"
      ]
     },
     "execution_count": 5,
     "metadata": {},
     "output_type": "execute_result"
    }
   ],
   "source": [
    "@inline ω(M, k) = exp(-2im*π*k/M)"
   ]
  },
  {
   "cell_type": "code",
   "execution_count": 17,
   "metadata": {},
   "outputs": [
    {
     "data": {
      "text/plain": [
       "1×8×1 CuArray{Complex{Float64},3}:\n",
       "[:, :, 1] =\n",
       " 2.0-0.0im  1.96157-0.390181im  1.84776-0.765367im  …  0.390181-1.96157im"
      ]
     },
     "execution_count": 17,
     "metadata": {},
     "output_type": "execute_result"
    }
   ],
   "source": [
    "ky = reshape(0:Ny-1, 1, Ny, 1)\n",
    "ωs = 2 .* ω.(4Ny, ky) |> CuArray"
   ]
  },
  {
   "cell_type": "code",
   "execution_count": 21,
   "metadata": {},
   "outputs": [
    {
     "data": {
      "text/plain": [
       "1×8×1 BitArray{3}:\n",
       "[:, :, 1] =\n",
       " true  true  true  true  true  true  true  true"
      ]
     },
     "execution_count": 21,
     "metadata": {},
     "output_type": "execute_result"
    }
   ],
   "source": [
    "Array(ωs) .≈ Array(dct_factors_y)"
   ]
  },
  {
   "cell_type": "code",
   "execution_count": null,
   "metadata": {},
   "outputs": [],
   "source": []
  }
 ],
 "metadata": {
  "kernelspec": {
   "display_name": "Julia 1.1.0",
   "language": "julia",
   "name": "julia-1.1"
  },
  "language_info": {
   "file_extension": ".jl",
   "mimetype": "application/julia",
   "name": "julia",
   "version": "1.1.0"
  }
 },
 "nbformat": 4,
 "nbformat_minor": 2
}
