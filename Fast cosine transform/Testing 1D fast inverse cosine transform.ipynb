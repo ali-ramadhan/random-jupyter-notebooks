{
 "cells": [
  {
   "cell_type": "code",
   "execution_count": 1,
   "metadata": {},
   "outputs": [],
   "source": [
    "using Random, Statistics\n",
    "using FFTW"
   ]
  },
  {
   "cell_type": "code",
   "execution_count": 44,
   "metadata": {},
   "outputs": [
    {
     "data": {
      "text/plain": [
       "8-element Array{Float64,1}:\n",
       "  0.4900442230630878 \n",
       "  0.5767532530121119 \n",
       " -0.16903748678063935\n",
       " -0.15627443844806   \n",
       " -0.05472317558312356\n",
       " -0.1301267268724019 \n",
       " -0.2913016189822949 \n",
       " -0.2653340294086798 "
      ]
     },
     "execution_count": 44,
     "metadata": {},
     "output_type": "execute_result"
    }
   ],
   "source": [
    "N = 8\n",
    "R = rand(MersenneTwister(0), N)\n",
    "R = R .- mean(R)"
   ]
  },
  {
   "cell_type": "code",
   "execution_count": 45,
   "metadata": {},
   "outputs": [
    {
     "data": {
      "text/plain": [
       "8-element Array{Float64,1}:\n",
       "  0.4900442230630878 \n",
       " -0.16903748678063935\n",
       " -0.05472317558312356\n",
       " -0.2913016189822949 \n",
       " -0.2653340294086798 \n",
       " -0.1301267268724019 \n",
       " -0.15627443844806   \n",
       "  0.5767532530121119 "
      ]
     },
     "execution_count": 45,
     "metadata": {},
     "output_type": "execute_result"
    }
   ],
   "source": [
    "R2 = copy(R)\n",
    "R2 .= cat(R2[1:2:N], R2[N:-2:2]; dims=1)"
   ]
  },
  {
   "cell_type": "code",
   "execution_count": 46,
   "metadata": {},
   "outputs": [
    {
     "data": {
      "text/plain": [
       "8-element Array{Float64,1}:\n",
       "  4.440892098500626e-16\n",
       "  2.8423915810257907   \n",
       "  1.2525286497647694   \n",
       "  1.1066138351200558   \n",
       "  0.038785032156569685 \n",
       " -1.0474753422685552   \n",
       " -0.7467529134050761   \n",
       " -0.5353031832400937   "
      ]
     },
     "execution_count": 46,
     "metadata": {},
     "output_type": "execute_result"
    }
   ],
   "source": [
    "@inline W(M, k) = exp(-2im*π*k/M)\n",
    "\n",
    "R3 = fft(R2)\n",
    "\n",
    "R4 = zeros(N)\n",
    "for k in 0:N-1\n",
    "    R4[k+1] = 2 * real(W(4N, k) * R3[k+1])\n",
    "end\n",
    "\n",
    "R4"
   ]
  },
  {
   "cell_type": "code",
   "execution_count": 47,
   "metadata": {},
   "outputs": [
    {
     "data": {
      "text/plain": [
       "8-element Array{Complex{Float64},1}:\n",
       " 2.220446049250313e-16 - 0.0im                 \n",
       "    2.7877758238121615 + 0.5545230888382534im  \n",
       "    1.1571855834016684 + 0.4793219628275934im  \n",
       "    0.9201157764559056 + 0.614801706240365im   \n",
       "   0.02742515924644873 + 0.027425159246448727im\n",
       "   -0.5819461199864289 - 0.8709439167325115im  \n",
       "   -0.2857699680304852 - 0.689909732538123im   \n",
       "  -0.10443247039456843 - 0.5250174826748771im  "
      ]
     },
     "execution_count": 47,
     "metadata": {},
     "output_type": "execute_result"
    }
   ],
   "source": [
    "ω_4N_k⁻ = W.(4N, 0:-1:-(N-1))\n",
    "ω_4N_k⁻[1] *= 1/2\n",
    "\n",
    "R5 = ω_4N_k⁻ .* R4"
   ]
  },
  {
   "cell_type": "code",
   "execution_count": 50,
   "metadata": {},
   "outputs": [
    {
     "data": {
      "text/plain": [
       "8-element view(::Array{Float64,1}, [1, 3, 5, 7, 8, 6, 4, 2]) with eltype Float64:\n",
       "  0.4900442230630877  \n",
       " -0.16903748678063935 \n",
       " -0.054723175583123534\n",
       " -0.2913016189822949  \n",
       " -0.2653340294086797  \n",
       " -0.1301267268724019  \n",
       " -0.15627443844806002 \n",
       "  0.5767532530121119  "
      ]
     },
     "execution_count": 50,
     "metadata": {},
     "output_type": "execute_result"
    }
   ],
   "source": [
    "R6 = ifft(R5)\n",
    "\n",
    "R7 = zeros(N)\n",
    "R7_p = view(R7, [1:2:N..., N:-2:2...])\n",
    "\n",
    "@. R7_p = real(R6)"
   ]
  },
  {
   "cell_type": "code",
   "execution_count": 51,
   "metadata": {},
   "outputs": [
    {
     "data": {
      "text/plain": [
       "8-element BitArray{1}:\n",
       " true\n",
       " true\n",
       " true\n",
       " true\n",
       " true\n",
       " true\n",
       " true\n",
       " true"
      ]
     },
     "execution_count": 51,
     "metadata": {},
     "output_type": "execute_result"
    }
   ],
   "source": [
    "R7 .≈ R"
   ]
  },
  {
   "cell_type": "code",
   "execution_count": null,
   "metadata": {},
   "outputs": [],
   "source": []
  }
 ],
 "metadata": {
  "kernelspec": {
   "display_name": "Julia 1.1.0",
   "language": "julia",
   "name": "julia-1.1"
  },
  "language_info": {
   "file_extension": ".jl",
   "mimetype": "application/julia",
   "name": "julia",
   "version": "1.1.0"
  }
 },
 "nbformat": 4,
 "nbformat_minor": 2
}
