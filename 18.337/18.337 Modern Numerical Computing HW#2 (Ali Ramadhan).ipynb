{
 "cells": [
  {
   "cell_type": "markdown",
   "metadata": {},
   "source": [
    "# HW #2 Julia's Type System"
   ]
  },
  {
   "cell_type": "markdown",
   "metadata": {},
   "source": [
    "One of the big advantages of Julia for scientific computing is Julia's novel type system.  Historically, practitioners of scientific computing have been ignorant of type systems.  Conversely, experts on type systems have been historically ignorant of scientific computing. The result has been that before Julia, the benefits of a type system have been available in only limited cases and not widely understood.\n",
    "\n",
    "Along the way we'll learn elements of Julia's syntax that are not obvious to the newcomer but are really useful.\n",
    "We hope by the end of this homework, the uses of all sorts of \"dots\"  `.`, `...`,`:`,`::`  will be clear.\n",
    "(One might refer to the <a href=\"https://docs.julialang.org/en/v1/base/punctuation/\"> Punctuation doc </a>\n",
    "which can be really helpful.)  Dots in a language are great once you understand them as they use very little \"ink\" so they don't distract, but if they are mysterious, then the language just seems unreadable.\n",
    "\n",
    "The dot `.` is used for decimal points, field names, and broadcast. <br>\n",
    "The triple dots `...` is used for slurping and splatting. (Love those names.) <br>\n",
    "The `:` is used for ranges, in indexing, and to create a symbol (offically known as a quoted expression). <br>\n",
    "The `::` is used for type annotation.\n",
    "\n",
    "\n",
    "\n",
    "Jupyter Tip: Esc + A and Esc + B (insert cell above/below -- teach your fingers this and you'll thank your fingers)\n",
    "\n",
    "**Warning**: Structs can't be redefined.  You'll have to reload the kernel and re-execute."
   ]
  },
  {
   "cell_type": "markdown",
   "metadata": {},
   "source": [
    "# Built in types in Julia"
   ]
  },
  {
   "cell_type": "markdown",
   "metadata": {},
   "source": [
    "Some useful commands are <a  href=\"https://docs.julialang.org/en/v1/base/base/#Core.typeof\"> typeof </a>,\n",
    "<a href=\"https://docs.julialang.org/en/v1/base/base/#Core.isa\"> isa </a>, \n",
    "<a href=\"https://docs.julialang.org/en/v1/base/io-network/#Base.dump\"> dump </a>, \n",
    "and <a href=\"https://docs.julialang.org/en/v1/base/numbers/#Base.bitstring\"> bitstring </a>."
   ]
  },
  {
   "cell_type": "markdown",
   "metadata": {},
   "source": [
    "1. Create a \"vector\"  `v` of type `Array{Int64,1}` which has at least two positive and two negative integers."
   ]
  },
  {
   "cell_type": "code",
   "execution_count": 2,
   "metadata": {},
   "outputs": [
    {
     "data": {
      "text/plain": [
       "6-element Array{Int64,1}:\n",
       "   4\n",
       "  15\n",
       " -12\n",
       "   0\n",
       "  -1\n",
       "   0"
      ]
     },
     "execution_count": 2,
     "metadata": {},
     "output_type": "execute_result"
    }
   ],
   "source": [
    "v = [4, 15, -12, 0, -1, -0]"
   ]
  },
  {
   "cell_type": "markdown",
   "metadata": {},
   "source": [
    "2. Run the `bitstring` command on each element of v and interpret with precision the bits that you see.\n",
    "\n",
    "**Interpretation**:\n",
    "* 4 and 15 are easy as 4 is 100 in base 2 and 15 is 1111 in base 2.\n",
    "* As 0 and -0 are just 0 in base 2, we can see that Julia does not use represent negative integers using one's complement.\n",
    "* Negative numbers are represented using two's complement."
   ]
  },
  {
   "cell_type": "code",
   "execution_count": 88,
   "metadata": {},
   "outputs": [
    {
     "data": {
      "text/plain": [
       "7-element Array{String,1}:\n",
       " \"0100000000000100000000000000000000000000000000000000000000000000\"\n",
       " \"0100000001000111110011001100110011001100110011001100110011001101\"\n",
       " \"1011111111000010010010010010010010010010010010010010010010010010\"\n",
       " \"0000000000000000000000000000000000000000000000000000000000000000\"\n",
       " \"1111110111011101110011110001110011001101111101111011110000101101\"\n",
       " \"0000000000000000000000000000000000000000000000000000000000000000\"\n",
       " \"0011100100001011100001011111100011000101010001000101111100000010\""
      ]
     },
     "execution_count": 88,
     "metadata": {},
     "output_type": "execute_result"
    }
   ],
   "source": [
    "bitstring.(v)"
   ]
  },
  {
   "cell_type": "markdown",
   "metadata": {},
   "source": [
    "3. Create a \"vector\" `v` of type `Array{Float64,1}` which has at least two positive and two negative values. Including a few that are not exactly mathematical integers."
   ]
  },
  {
   "cell_type": "code",
   "execution_count": 10,
   "metadata": {},
   "outputs": [
    {
     "data": {
      "text/plain": [
       "7-element Array{Float64,1}:\n",
       "  2.5                   \n",
       " 47.6                   \n",
       " -0.14285714285714285   \n",
       "  0.0                   \n",
       " -1.9495016921159666e298\n",
       "  0.0                   \n",
       "  6.626e-34             "
      ]
     },
     "execution_count": 10,
     "metadata": {},
     "output_type": "execute_result"
    }
   ],
   "source": [
    "v = [5/2, 47.6, -1/7, 0, -π^600, -0, 6.626e-34]"
   ]
  },
  {
   "cell_type": "markdown",
   "metadata": {},
   "source": [
    "4. Interpret the bitstring for floats. Please read and digest the wikipedia article on the <a href=\"https://en.wikipedia.org/wiki/Double-precision_floating-point_format#IEEE_754_double-precision_binary_floating-point_format:_binary64\">IEEE 754 double-precision binary floating-point format </a>.\n",
    "\n",
    "**Interpretation**:\n",
    "* The first bit stores the sign (0 for +, 1 for -) so we see that -1/7 and -π^600 start with a 1.\n",
    "* The next 11 bits store a number e from 0 to 2048 to calculate the exponent as e-1023. Thus 2.5, 47.6, and -1/7 have exponents close to 1024, while -π^600 has a number larger than 1024 (it's 2013) and 6.626e-34 is smaller than 1024 (it's 912).\n",
    "* The next 52 bits store the fraction. We see that only 1 bit is required to represent the fraction 0.5 in 2.5, a regular pattern represents the fraction in 47.6 and -1/7, while the fractions in -π^600 and 6.626e-34 are irregular.\n",
    "* 0 and -0 have the same representation as zero is signed."
   ]
  },
  {
   "cell_type": "code",
   "execution_count": 12,
   "metadata": {},
   "outputs": [
    {
     "data": {
      "text/plain": [
       "7-element Array{String,1}:\n",
       " \"0100000000000100000000000000000000000000000000000000000000000000\"\n",
       " \"0100000001000111110011001100110011001100110011001100110011001101\"\n",
       " \"1011111111000010010010010010010010010010010010010010010010010010\"\n",
       " \"0000000000000000000000000000000000000000000000000000000000000000\"\n",
       " \"1111110111011101110011110001110011001101111101111011110000101101\"\n",
       " \"0000000000000000000000000000000000000000000000000000000000000000\"\n",
       " \"0011100100001011100001011111100011000101010001000101111100000010\""
      ]
     },
     "execution_count": 12,
     "metadata": {},
     "output_type": "execute_result"
    }
   ],
   "source": [
    "bitstring.(v)"
   ]
  },
  {
   "cell_type": "markdown",
   "metadata": {},
   "source": [
    "5. The machine learning world is more interested in approximate than exact answers has motivated increased use of half precision (float16, binary16).  This can save time and memory. Explain the format of half precision for a few numbers such as 1.0.  <a href=\"https://en.wikipedia.org/wiki/Half-precision_floating-point_format#IEEE_754_half-precision_binary_floating-point_format:_binary16\"> Wikipedia article on half precision. </a>\n",
    "\n",
    "**Explanation**: Float16 is basically the same as Float64 described above except that the exponent is 5 bits with a 10 bit fraction."
   ]
  },
  {
   "cell_type": "code",
   "execution_count": 6,
   "metadata": {},
   "outputs": [
    {
     "data": {
      "text/plain": [
       "\"0011110000000000\""
      ]
     },
     "execution_count": 6,
     "metadata": {},
     "output_type": "execute_result"
    }
   ],
   "source": [
    "bitstring(Float16(1.0))"
   ]
  },
  {
   "cell_type": "markdown",
   "metadata": {},
   "source": [
    "# Composite Types"
   ]
  },
  {
   "cell_type": "markdown",
   "metadata": {},
   "source": [
    "Let's create a function that takes an Int as input and returns a vector containing an Int64, Float64, Float16, and String."
   ]
  },
  {
   "cell_type": "code",
   "execution_count": 89,
   "metadata": {},
   "outputs": [
    {
     "data": {
      "text/plain": [
       "vector_of_types (generic function with 1 method)"
      ]
     },
     "execution_count": 89,
     "metadata": {},
     "output_type": "execute_result"
    }
   ],
   "source": [
    "function vector_of_types(n::Int)\n",
    "    [Int64(n), Float64(n), Float16(n), string(n)]\n",
    "end"
   ]
  },
  {
   "cell_type": "code",
   "execution_count": 14,
   "metadata": {},
   "outputs": [
    {
     "data": {
      "text/plain": [
       "4-element Array{Any,1}:\n",
       "         17    \n",
       "         17.0  \n",
       " Float16(17.0) \n",
       "           \"17\""
      ]
     },
     "execution_count": 14,
     "metadata": {},
     "output_type": "execute_result"
    }
   ],
   "source": [
    "vector_of_types(17)"
   ]
  },
  {
   "cell_type": "markdown",
   "metadata": {},
   "source": [
    "Notice this has type `Array{Any,1}`"
   ]
  },
  {
   "cell_type": "code",
   "execution_count": 15,
   "metadata": {},
   "outputs": [
    {
     "data": {
      "text/plain": [
       "Array{Any,1}"
      ]
     },
     "execution_count": 15,
     "metadata": {},
     "output_type": "execute_result"
    }
   ],
   "source": [
    "typeof(vector_of_types(17))"
   ]
  },
  {
   "cell_type": "markdown",
   "metadata": {},
   "source": [
    "Let's now create a composite type"
   ]
  },
  {
   "cell_type": "code",
   "execution_count": 16,
   "metadata": {},
   "outputs": [],
   "source": [
    "struct FourTypes\n",
    "    n::Int64\n",
    "    x::Float64\n",
    "    y::Float16\n",
    "    z::String\n",
    "end"
   ]
  },
  {
   "cell_type": "markdown",
   "metadata": {},
   "source": [
    "Create an `f` of this type using a <a href=\"https://docs.julialang.org/en/v1/manual/constructors/#\"> constructor. </a>"
   ]
  },
  {
   "cell_type": "code",
   "execution_count": 17,
   "metadata": {},
   "outputs": [
    {
     "data": {
      "text/plain": [
       "FourTypes(17, 17.0, Float16(17.0), \"17\")"
      ]
     },
     "execution_count": 17,
     "metadata": {},
     "output_type": "execute_result"
    }
   ],
   "source": [
    "f = FourTypes(17,17.0,Float16(17),\"17\")  "
   ]
  },
  {
   "cell_type": "markdown",
   "metadata": {},
   "source": [
    "6. Why is the following properly an error?\n",
    "\n",
    "**Answer**: The constructor was expecting the fourth argument to be of type String."
   ]
  },
  {
   "cell_type": "code",
   "execution_count": 18,
   "metadata": {},
   "outputs": [
    {
     "ename": "MethodError",
     "evalue": "MethodError: Cannot `convert` an object of type Int64 to an object of type String\nClosest candidates are:\n  convert(::Type{T<:AbstractString}, !Matched::T<:AbstractString) where T<:AbstractString at strings/basic.jl:207\n  convert(::Type{T<:AbstractString}, !Matched::AbstractString) where T<:AbstractString at strings/basic.jl:208\n  convert(::Type{T}, !Matched::T) where T at essentials.jl:154",
     "output_type": "error",
     "traceback": [
      "MethodError: Cannot `convert` an object of type Int64 to an object of type String\nClosest candidates are:\n  convert(::Type{T<:AbstractString}, !Matched::T<:AbstractString) where T<:AbstractString at strings/basic.jl:207\n  convert(::Type{T<:AbstractString}, !Matched::AbstractString) where T<:AbstractString at strings/basic.jl:208\n  convert(::Type{T}, !Matched::T) where T at essentials.jl:154",
      "",
      "Stacktrace:",
      " [1] FourTypes(::Int64, ::Int64, ::Int64, ::Int64) at .\\In[16]:2",
      " [2] top-level scope at In[18]:1"
     ]
    }
   ],
   "source": [
    "f = FourTypes(17,17,17,17)"
   ]
  },
  {
   "cell_type": "markdown",
   "metadata": {},
   "source": [
    "I love the <a href=\"https://docs.julialang.org/en/v0.6.1/manual/faq/#The-two-uses-of-the-...-operator:-slurping-and-splatting-1\"> splat </a> operator.  Here's an example."
   ]
  },
  {
   "cell_type": "code",
   "execution_count": 19,
   "metadata": {},
   "outputs": [
    {
     "data": {
      "text/plain": [
       "FourTypes(17, 17.0, Float16(17.0), \"17\")"
      ]
     },
     "execution_count": 19,
     "metadata": {},
     "output_type": "execute_result"
    }
   ],
   "source": [
    "f = FourTypes(vector_of_types(17)...) "
   ]
  },
  {
   "cell_type": "code",
   "execution_count": 20,
   "metadata": {},
   "outputs": [
    {
     "name": "stdout",
     "output_type": "stream",
     "text": [
      "FourTypes\n",
      "  n: Int64 17\n",
      "  x: Float64 17.0\n",
      "  y: Float16 Float16(17.0)\n",
      "  z: String \"17\"\n"
     ]
    }
   ],
   "source": [
    "dump(f)"
   ]
  },
  {
   "cell_type": "code",
   "execution_count": 21,
   "metadata": {},
   "outputs": [
    {
     "data": {
      "text/plain": [
       "FourTypes"
      ]
     },
     "execution_count": 21,
     "metadata": {},
     "output_type": "execute_result"
    }
   ],
   "source": [
    "typeof(f)"
   ]
  },
  {
   "cell_type": "markdown",
   "metadata": {},
   "source": [
    "6. Create a new type called `FourVectorTypes` with field `vn`,`vx`,`vy`,`vz` which contains respectively vectors of int64s, float64s, float16s, strings"
   ]
  },
  {
   "cell_type": "code",
   "execution_count": 22,
   "metadata": {},
   "outputs": [],
   "source": [
    "struct FourVectorTypes\n",
    "    vn::Vector{Int64}\n",
    "    vx::Vector{Float64}\n",
    "    vy::Vector{Float16}\n",
    "    vz::Vector{String}\n",
    "end"
   ]
  },
  {
   "cell_type": "code",
   "execution_count": 23,
   "metadata": {},
   "outputs": [
    {
     "data": {
      "text/plain": [
       "FourVectorTypes([1, 2, 3], [1.0, 2.0, 3.0], Float16[1.0, 2.0, 3.0], [\"1\", \"2\", \"3\", \"4\"])"
      ]
     },
     "execution_count": 23,
     "metadata": {},
     "output_type": "execute_result"
    }
   ],
   "source": [
    "## Test your type\n",
    "FourVectorTypes([1,2,3],[1.0,2,3],Float16.([1,2,3]),[\"1\",\"2\",\"3\",\"4\"])"
   ]
  },
  {
   "cell_type": "markdown",
   "metadata": {},
   "source": [
    "7. play with <a href=\"https://docs.julialang.org/en/v1/base/base/#Base.isbits\">isbits</a> and\n",
    "<a href=\"https://docs.julialang.org/en/v1/base/base/#Base.sizeof-Tuple{Type}\">sizeof </a> and tell us what\n",
    "you learn for some built-in types and composite types.  Try a type with an Int64 and a Float32.  Any surprise?\n",
    "\n",
    "**No surprises.** sizeof returns the sizes as expected, and spits an error for types of indeterminate sizes such as strings and arrays. isbits returns true for immutable basic types and false otherwise."
   ]
  },
  {
   "cell_type": "code",
   "execution_count": 39,
   "metadata": {},
   "outputs": [
    {
     "data": {
      "text/plain": [
       "8-element Array{Int64,1}:\n",
       "  2\n",
       "  8\n",
       "  1\n",
       "  4\n",
       " 16\n",
       " 16\n",
       "  2\n",
       " 32"
      ]
     },
     "execution_count": 39,
     "metadata": {},
     "output_type": "execute_result"
    }
   ],
   "source": [
    "sizeof.([Float16, Float64, Int8, Int32, UInt128, Complex{Float64}, Complex{Int8}, Complex{Int128}])"
   ]
  },
  {
   "cell_type": "code",
   "execution_count": 40,
   "metadata": {},
   "outputs": [
    {
     "data": {
      "text/plain": [
       "7-element BitArray{1}:\n",
       "  true\n",
       "  true\n",
       "  true\n",
       "  true\n",
       "  true\n",
       " false\n",
       " false"
      ]
     },
     "execution_count": 40,
     "metadata": {},
     "output_type": "execute_result"
    }
   ],
   "source": [
    "isbits.([1, -2.0, 1/7, -1//13, Complex(4, -1), \"ABC\", [1,4,4]])"
   ]
  },
  {
   "cell_type": "markdown",
   "metadata": {},
   "source": [
    "# ... but Julia seems to be doing something more interesting or what are all those curly braces and that crazy letter \"T\" we keep seeing?"
   ]
  },
  {
   "cell_type": "code",
   "execution_count": 41,
   "metadata": {},
   "outputs": [],
   "source": [
    "struct MyTypeAndMe{T}\n",
    "    n::T\n",
    "end"
   ]
  },
  {
   "cell_type": "code",
   "execution_count": 42,
   "metadata": {},
   "outputs": [
    {
     "data": {
      "text/plain": [
       "MyTypeAndMe{Int64}(17)"
      ]
     },
     "execution_count": 42,
     "metadata": {},
     "output_type": "execute_result"
    }
   ],
   "source": [
    "MyTypeAndMe(17)"
   ]
  },
  {
   "cell_type": "code",
   "execution_count": 43,
   "metadata": {},
   "outputs": [
    {
     "data": {
      "text/plain": [
       "MyTypeAndMe{Int64}"
      ]
     },
     "execution_count": 43,
     "metadata": {},
     "output_type": "execute_result"
    }
   ],
   "source": [
    "typeof(MyTypeAndMe(17))"
   ]
  },
  {
   "cell_type": "code",
   "execution_count": 44,
   "metadata": {},
   "outputs": [
    {
     "data": {
      "text/plain": [
       "MyTypeAndMe{Float64}"
      ]
     },
     "execution_count": 44,
     "metadata": {},
     "output_type": "execute_result"
    }
   ],
   "source": [
    "typeof(MyTypeAndMe(17.0))"
   ]
  },
  {
   "cell_type": "code",
   "execution_count": 45,
   "metadata": {},
   "outputs": [
    {
     "data": {
      "text/plain": [
       "MyTypeAndMe{Float16}"
      ]
     },
     "execution_count": 45,
     "metadata": {},
     "output_type": "execute_result"
    }
   ],
   "source": [
    "typeof(MyTypeAndMe(Float16(17)))"
   ]
  },
  {
   "cell_type": "code",
   "execution_count": 46,
   "metadata": {},
   "outputs": [
    {
     "data": {
      "text/plain": [
       "MyTypeAndMe{String}"
      ]
     },
     "execution_count": 46,
     "metadata": {},
     "output_type": "execute_result"
    }
   ],
   "source": [
    "typeof(MyTypeAndMe(\"17\"))"
   ]
  },
  {
   "cell_type": "markdown",
   "metadata": {},
   "source": [
    "One can read the doc on <a href=\"https://docs.julialang.org/en/v1/manual/types/#Parametric-Types-1\"> parametric types, </a> but warning: you may find it a little confusing. (I did!)  <br>\n",
    "\n",
    "Maybe best to understand that `NumAndType(x)` creates an object whose type is `NumAndType(`typeof(x)`)` and whose \"n field\" is `x`."
   ]
  },
  {
   "cell_type": "code",
   "execution_count": 47,
   "metadata": {},
   "outputs": [
    {
     "data": {
      "text/plain": [
       "MyTypeAndMe{Int64}(42)"
      ]
     },
     "execution_count": 47,
     "metadata": {},
     "output_type": "execute_result"
    }
   ],
   "source": [
    "s = MyTypeAndMe(42)"
   ]
  },
  {
   "cell_type": "code",
   "execution_count": 48,
   "metadata": {},
   "outputs": [
    {
     "data": {
      "text/plain": [
       "42"
      ]
     },
     "execution_count": 48,
     "metadata": {},
     "output_type": "execute_result"
    }
   ],
   "source": [
    "s.n"
   ]
  },
  {
   "cell_type": "code",
   "execution_count": 49,
   "metadata": {},
   "outputs": [
    {
     "name": "stdout",
     "output_type": "stream",
     "text": [
      "MyTypeAndMe{Int64}\n",
      "  n: Int64 42\n"
     ]
    }
   ],
   "source": [
    "dump(s)"
   ]
  },
  {
   "cell_type": "code",
   "execution_count": 50,
   "metadata": {},
   "outputs": [
    {
     "data": {
      "text/plain": [
       "MyTypeAndMe{Int64}"
      ]
     },
     "execution_count": 50,
     "metadata": {},
     "output_type": "execute_result"
    }
   ],
   "source": [
    "typeof(s)"
   ]
  },
  {
   "cell_type": "markdown",
   "metadata": {},
   "source": [
    "8.  Explain s.n, dump(s), and typeof(s) for the following.\n",
    "\n",
    "**Explanation**: s.n will have type T = Array{Float64,1} since we fed it with rand(5) which returns an Array{Float64,1} by default, which also explains why we're getting the five Float64 elements of s.n through dumps(s) and why typeof(s) returns MyTypeAndMe{Array{Float64,1}}."
   ]
  },
  {
   "cell_type": "code",
   "execution_count": 51,
   "metadata": {},
   "outputs": [
    {
     "data": {
      "text/plain": [
       "MyTypeAndMe{Array{Float64,1}}([0.460352, 0.27565, 0.561169, 0.391871, 0.451187])"
      ]
     },
     "execution_count": 51,
     "metadata": {},
     "output_type": "execute_result"
    }
   ],
   "source": [
    "s = MyTypeAndMe(rand(5))"
   ]
  },
  {
   "cell_type": "code",
   "execution_count": 52,
   "metadata": {},
   "outputs": [
    {
     "data": {
      "text/plain": [
       "5-element Array{Float64,1}:\n",
       " 0.4603516556245466\n",
       " 0.2756498245363379\n",
       " 0.5611694340814712\n",
       " 0.3918707849260812\n",
       " 0.4511867983088462"
      ]
     },
     "execution_count": 52,
     "metadata": {},
     "output_type": "execute_result"
    }
   ],
   "source": [
    "s.n"
   ]
  },
  {
   "cell_type": "code",
   "execution_count": 53,
   "metadata": {},
   "outputs": [
    {
     "name": "stdout",
     "output_type": "stream",
     "text": [
      "MyTypeAndMe{Array{Float64,1}}\n",
      "  n: Array{Float64}((5,)) [0.460352, 0.27565, 0.561169, 0.391871, 0.451187]\n"
     ]
    }
   ],
   "source": [
    "dump(s)"
   ]
  },
  {
   "cell_type": "code",
   "execution_count": 54,
   "metadata": {},
   "outputs": [
    {
     "data": {
      "text/plain": [
       "MyTypeAndMe{Array{Float64,1}}"
      ]
     },
     "execution_count": 54,
     "metadata": {},
     "output_type": "execute_result"
    }
   ],
   "source": [
    "typeof(s)"
   ]
  },
  {
   "cell_type": "markdown",
   "metadata": {},
   "source": [
    "# A Use Case for Parameterized Types"
   ]
  },
  {
   "cell_type": "markdown",
   "metadata": {},
   "source": [
    "In mathematics there is the concept of field extensions such as $\\mathbb{Q}[\\sqrt{2}]$ which means arithmetic operations with $a+b\\sqrt{2}$ where $a$ an $b$ are rational. One can also talk about $\\mathbb{Z}[\\sqrt{2}]$ where\n",
    "one extends the integers allowing only plus, minus, and multiply perhaps. Let's make this general in Julia:"
   ]
  },
  {
   "cell_type": "code",
   "execution_count": 55,
   "metadata": {},
   "outputs": [],
   "source": [
    "struct ExtendSqrt2{T}\n",
    "    a::T\n",
    "    b::T\n",
    "end"
   ]
  },
  {
   "cell_type": "code",
   "execution_count": 56,
   "metadata": {},
   "outputs": [],
   "source": [
    "Base.:show(io::IO,  x::ExtendSqrt2) = print(io, \"$(x.a)+$(x.b)√2\")"
   ]
  },
  {
   "cell_type": "code",
   "execution_count": 57,
   "metadata": {},
   "outputs": [
    {
     "data": {
      "text/plain": [
       "3+4√2"
      ]
     },
     "execution_count": 57,
     "metadata": {},
     "output_type": "execute_result"
    }
   ],
   "source": [
    "ExtendSqrt2(3,4)"
   ]
  },
  {
   "cell_type": "code",
   "execution_count": 58,
   "metadata": {},
   "outputs": [
    {
     "data": {
      "text/plain": [
       "ExtendSqrt2{Int64}"
      ]
     },
     "execution_count": 58,
     "metadata": {},
     "output_type": "execute_result"
    }
   ],
   "source": [
    "typeof(ExtendSqrt2(3,4))"
   ]
  },
  {
   "cell_type": "code",
   "execution_count": 59,
   "metadata": {},
   "outputs": [
    {
     "data": {
      "text/plain": [
       "3.5+4.1√2"
      ]
     },
     "execution_count": 59,
     "metadata": {},
     "output_type": "execute_result"
    }
   ],
   "source": [
    "ExtendSqrt2(3.5,4.1)"
   ]
  },
  {
   "cell_type": "code",
   "execution_count": 60,
   "metadata": {},
   "outputs": [
    {
     "data": {
      "text/plain": [
       "ExtendSqrt2{Float64}"
      ]
     },
     "execution_count": 60,
     "metadata": {},
     "output_type": "execute_result"
    }
   ],
   "source": [
    "typeof(ExtendSqrt2(3.5,4.1))"
   ]
  },
  {
   "cell_type": "code",
   "execution_count": 61,
   "metadata": {},
   "outputs": [
    {
     "data": {
      "text/plain": [
       "1//3+1//2√2"
      ]
     },
     "execution_count": 61,
     "metadata": {},
     "output_type": "execute_result"
    }
   ],
   "source": [
    "ExtendSqrt2(1//3,1//2)"
   ]
  },
  {
   "cell_type": "code",
   "execution_count": 62,
   "metadata": {},
   "outputs": [
    {
     "data": {
      "text/plain": [
       "ExtendSqrt2{Rational{Int64}}"
      ]
     },
     "execution_count": 62,
     "metadata": {},
     "output_type": "execute_result"
    }
   ],
   "source": [
    "typeof(ExtendSqrt2(1//3,1//2))"
   ]
  },
  {
   "cell_type": "markdown",
   "metadata": {},
   "source": [
    "9. Extend +,-,* by defining Base.:+ etc. Demonstrate that these work.   <br>\n",
    "\n",
    "10. Create a matrix whose elements are ExtendSqrt2 and an ExtendSqrt2 consisting of two matrices.  What are the two different types?  What are the operations?\n",
    "\n",
    "**Answer**: As expected, a matrix whose elements are ExtendSqrt2 has type Array{ExtendSqrt2{Int64},2}, and an ExtendSqrt2 consisting of two matrices has the \"inverse\" type ExtendSqrt2{Array{Int64,2}}."
   ]
  },
  {
   "cell_type": "code",
   "execution_count": 63,
   "metadata": {},
   "outputs": [],
   "source": [
    "Base.:*(x::ExtendSqrt2, y::ExtendSqrt2) = ExtendSqrt2(x.a*y.a + 2x.b*y.b, x.a*y.b + y.a*x.b)\n",
    "Base.:+(x::ExtendSqrt2, y::ExtendSqrt2) = ExtendSqrt2(x.a + y.a, x.b + y.b)\n",
    "Base.:-(x::ExtendSqrt2, y::ExtendSqrt2) = ExtendSqrt2(x.a - y.a, x.b - y.b)"
   ]
  },
  {
   "cell_type": "code",
   "execution_count": 65,
   "metadata": {},
   "outputs": [
    {
     "data": {
      "text/plain": [
       "3×3 Array{ExtendSqrt2{Int64},2}:\n",
       " 18+17√2  30+20√2  42+23√2\n",
       " 24+20√2  36+26√2  48+32√2\n",
       " 30+23√2  42+32√2  54+41√2"
      ]
     },
     "execution_count": 65,
     "metadata": {},
     "output_type": "execute_result"
    }
   ],
   "source": [
    "[ExtendSqrt2(i,j) for i=1:3,j=1:3]^2  # Demonstrates that * works!"
   ]
  },
  {
   "cell_type": "code",
   "execution_count": 67,
   "metadata": {},
   "outputs": [
    {
     "data": {
      "text/plain": [
       "-3+9√2"
      ]
     },
     "execution_count": 67,
     "metadata": {},
     "output_type": "execute_result"
    }
   ],
   "source": [
    "ExtendSqrt2(2,4) + ExtendSqrt2(-5, 5)  # Demonstrates that + works."
   ]
  },
  {
   "cell_type": "code",
   "execution_count": 71,
   "metadata": {},
   "outputs": [
    {
     "data": {
      "text/plain": [
       "12+4√2"
      ]
     },
     "execution_count": 71,
     "metadata": {},
     "output_type": "execute_result"
    }
   ],
   "source": [
    "ExtendSqrt2(10,3) - ExtendSqrt2(-2,-1)  # Demonstrates that - works."
   ]
  },
  {
   "cell_type": "code",
   "execution_count": 72,
   "metadata": {},
   "outputs": [
    {
     "data": {
      "text/plain": [
       "Array{ExtendSqrt2{Int64},2}"
      ]
     },
     "execution_count": 72,
     "metadata": {},
     "output_type": "execute_result"
    }
   ],
   "source": [
    "typeof([ExtendSqrt2(i,j) for i=1:3,j=1:3])"
   ]
  },
  {
   "cell_type": "code",
   "execution_count": 76,
   "metadata": {},
   "outputs": [
    {
     "data": {
      "text/plain": [
       "ExtendSqrt2{Array{Int64,2}}"
      ]
     },
     "execution_count": 76,
     "metadata": {},
     "output_type": "execute_result"
    }
   ],
   "source": [
    "typeof(ExtendSqrt2([1 2; 3 4], [5 6; 7 8]))"
   ]
  },
  {
   "cell_type": "markdown",
   "metadata": {},
   "source": [
    "# Another Julia type is a symbol"
   ]
  },
  {
   "cell_type": "code",
   "execution_count": 77,
   "metadata": {},
   "outputs": [
    {
     "data": {
      "text/plain": [
       ":abc"
      ]
     },
     "execution_count": 77,
     "metadata": {},
     "output_type": "execute_result"
    }
   ],
   "source": [
    "s = :abc"
   ]
  },
  {
   "cell_type": "code",
   "execution_count": 78,
   "metadata": {},
   "outputs": [
    {
     "data": {
      "text/plain": [
       "Symbol"
      ]
     },
     "execution_count": 78,
     "metadata": {},
     "output_type": "execute_result"
    }
   ],
   "source": [
    "typeof(s)"
   ]
  },
  {
   "cell_type": "code",
   "execution_count": 79,
   "metadata": {},
   "outputs": [
    {
     "ename": "UndefVarError",
     "evalue": "UndefVarError: MeAndMyType not defined",
     "output_type": "error",
     "traceback": [
      "UndefVarError: MeAndMyType not defined",
      "",
      "Stacktrace:",
      " [1] top-level scope at In[79]:1"
     ]
    }
   ],
   "source": [
    "MeAndMyType(:abc)"
   ]
  },
  {
   "cell_type": "markdown",
   "metadata": {},
   "source": [
    "# Creatively using these ideas."
   ]
  },
  {
   "cell_type": "markdown",
   "metadata": {},
   "source": [
    "Today's scientific computing and machine learning needs computational graphs for automatic differentiation, optimization and so many more uses. See if this makes sense to you.  We will get back to this later in the semester."
   ]
  },
  {
   "cell_type": "code",
   "execution_count": 80,
   "metadata": {},
   "outputs": [],
   "source": [
    "abstract type HW2 end # This creates an abstract type called HW2 so we don't mix things up"
   ]
  },
  {
   "cell_type": "markdown",
   "metadata": {},
   "source": [
    "If you wish to read about <a href=https://docs.julialang.org/en/v1/manual/types/#Abstract-Types-1> Abstract Types </a> .  Don't worry if this doesn't fully make sense yet."
   ]
  },
  {
   "cell_type": "code",
   "execution_count": 81,
   "metadata": {},
   "outputs": [],
   "source": [
    "struct Plus{A, B} <: HW2\n",
    "    a::A\n",
    "    b::B\n",
    "end"
   ]
  },
  {
   "cell_type": "code",
   "execution_count": 82,
   "metadata": {},
   "outputs": [],
   "source": [
    "Base.:+(x::Symbol, y::Symbol) = Plus(x,y)\n",
    "Base.:+(x::HW2, y::Symbol) = Plus(x,y)"
   ]
  },
  {
   "cell_type": "code",
   "execution_count": 87,
   "metadata": {},
   "outputs": [
    {
     "data": {
      "text/plain": [
       "Plus{Symbol,Symbol}(:a, :b)"
      ]
     },
     "execution_count": 87,
     "metadata": {},
     "output_type": "execute_result"
    }
   ],
   "source": [
    ":a + :b"
   ]
  },
  {
   "cell_type": "code",
   "execution_count": 84,
   "metadata": {},
   "outputs": [
    {
     "data": {
      "text/plain": [
       "Plus{Plus{Symbol,Symbol},Symbol}(Plus{Symbol,Symbol}(:a, :b), :c)"
      ]
     },
     "execution_count": 84,
     "metadata": {},
     "output_type": "execute_result"
    }
   ],
   "source": [
    ":a + :b + :c"
   ]
  },
  {
   "cell_type": "code",
   "execution_count": 85,
   "metadata": {},
   "outputs": [
    {
     "data": {
      "text/plain": [
       "Plus{Plus{Plus{Symbol,Symbol},Symbol},Symbol}(Plus{Plus{Symbol,Symbol},Symbol}(Plus{Symbol,Symbol}(:a, :b), :c), :d)"
      ]
     },
     "execution_count": 85,
     "metadata": {},
     "output_type": "execute_result"
    }
   ],
   "source": [
    ":a + :b + :c + :d"
   ]
  },
  {
   "cell_type": "markdown",
   "metadata": {},
   "source": [
    "11. Explain the types and values of the above summations of symbols. Explain how this could be used in a computational graph.\n",
    "\n",
    "**Answer**: :a + :b is of type Plus{Symbol, Symbol} and could be represented by a tree with Plus at the root and :a, :b at the leaves. The types get recursively long pretty quickly but could be stored as a tree that can be traversed recursively to perform some calculation (on numbers or symbols) or execute some expression. I suppose this foreshadows the upcoming symbolic calculator."
   ]
  },
  {
   "cell_type": "markdown",
   "metadata": {},
   "source": [
    "# A mini-symbolic calculator"
   ]
  },
  {
   "cell_type": "markdown",
   "metadata": {},
   "source": [
    "We are not asking you to anything here but to show you how one can begin building a full symbolic calculator with just a screenful of lines in Julia. By the end of the course you will learn how it all works."
   ]
  },
  {
   "cell_type": "code",
   "execution_count": 52,
   "metadata": {},
   "outputs": [
    {
     "data": {
      "text/plain": [
       "evaluate (generic function with 6 methods)"
      ]
     },
     "execution_count": 52,
     "metadata": {},
     "output_type": "execute_result"
    }
   ],
   "source": [
    "abstract type Op end\n",
    "\n",
    "struct Add{A, B}  <: Op\n",
    "    a::A\n",
    "    b::B\n",
    "end\n",
    "\n",
    "struct Subtract{A, B}  <: Op\n",
    "    a::A\n",
    "    b::B\n",
    "end\n",
    "\n",
    "struct Max{A, B}  <: Op\n",
    "    a::A\n",
    "    b::B\n",
    "end\n",
    "\n",
    "struct Mul{A,B}  <: Op\n",
    "    a::A\n",
    "    b::B\n",
    "end\n",
    "\n",
    "struct LazyVar <: Op\n",
    "   s :: Symbol\n",
    "end\n",
    "\n",
    "Base.:show(io::IO, format::MIME\"text/html\", x::LazyVar) = print(io,\"<b>\", x.s, \"</b>\")\n",
    "\n",
    "macro var(v)    \n",
    "   esc(:($v = $(LazyVar(v))))\n",
    "end\n",
    "\n",
    "function evaluate(x::Add; vals...) \n",
    "      evaluate(x.a; vals...) + evaluate(x.b; vals...)\n",
    "end\n",
    "Base.:+(x::Op, y::Op) = Add(x,y)\n",
    "Base.:+(x::Op, y::Number) = Add(x,y)\n",
    "Base.:+(x::Number, y::Op) = Add(x,y)\n",
    "\n",
    "\n",
    "#sub\n",
    "function evaluate(x::Subtract; vals...) \n",
    "      evaluate(x.a; vals...) - evaluate(x.b; vals...)\n",
    "end\n",
    "Base.:-(x::Op, y::Op) = Subtract(x,y)\n",
    "\n",
    "#max\n",
    "function evaluate(x::Max; vals...) \n",
    "     max(evaluate(x.a; vals...), evaluate(x.b; vals...))\n",
    "end\n",
    "Base.:max(x::Op, y::Op) = Max(x,y)\n",
    "   \n",
    "\n",
    "#mul\n",
    "function evaluate(x::Mul; vals...) \n",
    "      evaluate(x.a; vals...) * evaluate(x.b; vals...)\n",
    "end\n",
    "Base.:*(x::Op, y::Op ) = Mul(x,y)\n",
    "Base.:*(x::Number,y::Op) = Mul(x,y)\n",
    "Base.:*(x::Op,y::Number) = Mul(x,y)\n",
    "\n",
    "evaluate(x::LazyVar; vals...) = vals.data[x.s]  \n",
    "evaluate(x; vals...) = x"
   ]
  },
  {
   "cell_type": "code",
   "execution_count": 53,
   "metadata": {},
   "outputs": [
    {
     "data": {
      "text/html": [
       "<b>x</b>"
      ],
      "text/plain": [
       "LazyVar(:x)"
      ]
     },
     "execution_count": 53,
     "metadata": {},
     "output_type": "execute_result"
    }
   ],
   "source": [
    "@var x"
   ]
  },
  {
   "cell_type": "code",
   "execution_count": 54,
   "metadata": {},
   "outputs": [
    {
     "data": {
      "text/html": [
       "<b>y</b>"
      ],
      "text/plain": [
       "LazyVar(:y)"
      ]
     },
     "execution_count": 54,
     "metadata": {},
     "output_type": "execute_result"
    }
   ],
   "source": [
    "@var y"
   ]
  },
  {
   "cell_type": "code",
   "execution_count": 55,
   "metadata": {},
   "outputs": [
    {
     "data": {
      "text/plain": [
       "Mul{Mul{LazyVar,LazyVar},Add{LazyVar,Mul{Int64,LazyVar}}}(Mul{LazyVar,LazyVar}(LazyVar(:y), LazyVar(:x)), Add{LazyVar,Mul{Int64,LazyVar}}(LazyVar(:x), Mul{Int64,LazyVar}(3, LazyVar(:y))))"
      ]
     },
     "execution_count": 55,
     "metadata": {},
     "output_type": "execute_result"
    }
   ],
   "source": [
    "u = x + 3*y\n",
    "v = max(u,10*y)\n",
    "w = y*x*u"
   ]
  },
  {
   "cell_type": "code",
   "execution_count": 56,
   "metadata": {},
   "outputs": [
    {
     "name": "stdout",
     "output_type": "stream",
     "text": [
      "17\n",
      "40\n",
      "340\n"
     ]
    }
   ],
   "source": [
    "for t∈[u,v,w]\n",
    " println(evaluate(t,x=5,y=4))\n",
    "end"
   ]
  }
 ],
 "metadata": {
  "kernelspec": {
   "display_name": "Julia 1.0.0",
   "language": "julia",
   "name": "julia-1.0"
  },
  "language_info": {
   "file_extension": ".jl",
   "mimetype": "application/julia",
   "name": "julia",
   "version": "1.0.0"
  }
 },
 "nbformat": 4,
 "nbformat_minor": 2
}
