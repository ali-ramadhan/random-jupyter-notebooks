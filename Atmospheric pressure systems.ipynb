{
 "cells": [
  {
   "cell_type": "code",
   "execution_count": 88,
   "metadata": {},
   "outputs": [],
   "source": [
    "import numpy as np\n",
    "import matplotlib.pyplot as plt\n",
    "import ipywidgets as widgets\n",
    "\n",
    "%matplotlib inline"
   ]
  },
  {
   "cell_type": "code",
   "execution_count": 89,
   "metadata": {},
   "outputs": [
    {
     "data": {
      "application/vnd.jupyter.widget-view+json": {
       "model_id": "6c2bbcfb58a448fe9777a9500bc7917e",
       "version_major": 2,
       "version_minor": 0
      },
      "text/plain": [
       "interactive(children=(IntSlider(value=5, description='x', max=15, min=-5), Output()), _dom_classes=('widget-in…"
      ]
     },
     "metadata": {},
     "output_type": "display_data"
    }
   ],
   "source": [
    "@widgets.interact\n",
    "def square(x=5):\n",
    "    print(x)"
   ]
  },
  {
   "cell_type": "code",
   "execution_count": 90,
   "metadata": {},
   "outputs": [
    {
     "data": {
      "application/vnd.jupyter.widget-view+json": {
       "model_id": "c707e9c437ec4e868fc207fc69604e0a",
       "version_major": 2,
       "version_minor": 0
      },
      "text/plain": [
       "interactive(children=(FloatSlider(value=1.0, description='freq', max=3.0, min=-1.0), Dropdown(description='col…"
      ]
     },
     "metadata": {},
     "output_type": "display_data"
    }
   ],
   "source": [
    "@widgets.interact_manual(color=['blue', 'red', 'green'], lw=(1., 10.))\n",
    "def plot(freq=1., color='blue', lw=2, grid=True):\n",
    "    t = np.linspace(-1., +1., 1000)\n",
    "    fig, ax = plt.subplots(1, 1, figsize=(8, 6))\n",
    "    ax.plot(t, np.sin(2 * np.pi * freq * t), lw=lw, color=color)\n",
    "    ax.grid(grid)"
   ]
  },
  {
   "cell_type": "code",
   "execution_count": 91,
   "metadata": {},
   "outputs": [],
   "source": [
    "rho = 1.225 # [kg/m3]\n",
    "f = 1e-4  # [1/s]\n",
    "p_0 = 1000  # [hPa]"
   ]
  },
  {
   "cell_type": "code",
   "execution_count": 92,
   "metadata": {},
   "outputs": [],
   "source": [
    "def generate_gaussian_pressure_system(Nx, Ny, Lx, Ly, p_c, sigma):\n",
    "    x, y = np.meshgrid(np.linspace(-Lx/2, Lx/2, Nx), np.linspace(-Ly/2, Ly/2, Ny))\n",
    "    d = np.sqrt(x*x + y*y)\n",
    "    mu = 0\n",
    "    p = p_0 + (p_c - p_0)*np.exp(-((d - mu)**2 / ( 2.0 * sigma**2 )))\n",
    "    return x, y, p"
   ]
  },
  {
   "cell_type": "code",
   "execution_count": 93,
   "metadata": {},
   "outputs": [],
   "source": [
    "def calculate_geostrophic_velocity(x, y, p):\n",
    "    u, v = np.zeros(p.shape), np.zeros(p.shape)\n",
    "    dx, dy = x[0, 1] - x[0, 0], y[1, 0] - y[0, 0]\n",
    "    delta_x_p, delta_y_p = np.gradient(p)\n",
    "    u = - (1 / (f*rho)) * delta_x_p / dy\n",
    "    v =   (1 / (f*rho)) * delta_y_p / dx\n",
    "    return u, v"
   ]
  },
  {
   "cell_type": "code",
   "execution_count": 96,
   "metadata": {},
   "outputs": [
    {
     "data": {
      "application/vnd.jupyter.widget-view+json": {
       "model_id": "cd11490bfd7d42b4bb4de512cd508edc",
       "version_major": 2,
       "version_minor": 0
      },
      "text/plain": [
       "interactive(children=(IntSlider(value=980, description='p_c', max=1030, min=950), FloatSlider(value=20000.0, d…"
      ]
     },
     "metadata": {},
     "output_type": "display_data"
    }
   ],
   "source": [
    "@widgets.interact(p_c=(950, 1030), sigma=(10e3, 30e3), hemisphere=[\"Northern\", \"Southern\"])\n",
    "def plot(p_c=980, sigma=20e3, hemisphere=\"Northern\"):\n",
    "    Nx, Ny = 100, 100\n",
    "    Lx, Ly = 100e3, 100e3\n",
    "    \n",
    "    x, y, p = generate_gaussian_pressure_system(Nx, Ny, Lx, Ly, p_c, sigma)\n",
    "    u, v  = calculate_geostrophic_velocity(x, y, p)\n",
    "    \n",
    "    fig = plt.figure(figsize=(10, 20), dpi=100)\n",
    "    \n",
    "    ax1 = plt.subplot(311)\n",
    "    plt.contourf(x/1000, y/1000, p, vmin=950, vmax=1050, cmap=\"seismic\")\n",
    "    plt.title(\"Pressure field\")\n",
    "    plt.xlabel(\"x (km)\")\n",
    "    plt.ylabel(\"y (km)\")\n",
    "    plt.colorbar()\n",
    "    \n",
    "    ax2 = plt.subplot(312)\n",
    "    speed = u*u + v*v\n",
    "    plt.contourf(x, y, speed, cmap=\"plasma\")\n",
    "    plt.title(\"Velocity magnitude field\")\n",
    "    plt.xlabel(\"x (m)\")\n",
    "    plt.ylabel(\"y (m)\")\n",
    "    plt.colorbar()\n",
    "    \n",
    "    plt.quiver(x[::15], y[::15], u[::15], v[::15])\n",
    "    # lw = 5*speed / speed.max()\n",
    "    # plt.streamplot(x, y, u, v, linewidth=lw)"
   ]
  },
  {
   "cell_type": "code",
   "execution_count": null,
   "metadata": {},
   "outputs": [],
   "source": []
  }
 ],
 "metadata": {
  "kernelspec": {
   "display_name": "Python 3",
   "language": "python",
   "name": "python3"
  },
  "language_info": {
   "codemirror_mode": {
    "name": "ipython",
    "version": 3
   },
   "file_extension": ".py",
   "mimetype": "text/x-python",
   "name": "python",
   "nbconvert_exporter": "python",
   "pygments_lexer": "ipython3",
   "version": "3.7.1"
  }
 },
 "nbformat": 4,
 "nbformat_minor": 2
}
