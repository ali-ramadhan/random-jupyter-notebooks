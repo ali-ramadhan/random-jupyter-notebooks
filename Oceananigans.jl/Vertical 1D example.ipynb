{
 "cells": [
  {
   "cell_type": "code",
   "execution_count": 1,
   "metadata": {},
   "outputs": [],
   "source": [
    "using Pkg\n",
    "# cd(\"D:\\\\Home\\\\Git\\\\Oceananigans.jl\")\n",
    "cd(\"C:\\\\Users\\\\Ali\\\\Documents\\\\Git\\\\Oceananigans.jl\\\\\")\n",
    "Pkg.activate(\".\");"
   ]
  },
  {
   "cell_type": "code",
   "execution_count": 2,
   "metadata": {},
   "outputs": [
    {
     "name": "stderr",
     "output_type": "stream",
     "text": [
      "┌ Info: Recompiling stale cache file C:\\Users\\Ali\\.julia\\compiled\\v1.0\\Oceananigans\\VuIZ2.ji for Oceananigans [6e00b360-fae3-11e8-3922-3d7cb9e50aad]\n",
      "└ @ Base loading.jl:1184\n"
     ]
    }
   ],
   "source": [
    "using Plots\n",
    "using Oceananigans"
   ]
  },
  {
   "cell_type": "code",
   "execution_count": 16,
   "metadata": {},
   "outputs": [
    {
     "name": "stdout",
     "output_type": "stream",
     "text": [
      "Planning Fourier transforms... (planner_flag=FFTW.PATIENT)\n",
      "FFT!:    0.000035 seconds (44 allocations: 3.031 KiB)\n",
      "IFFT!:   0.000025 seconds (51 allocations: 3.422 KiB)\n",
      "DCT!:    0.000090 seconds (57 allocations: 4.016 KiB)\n",
      "IDCT!:   0.000145 seconds (57 allocations: 4.016 KiB)\n",
      "t = 600000 / 600000   \n"
     ]
    }
   ],
   "source": [
    "Nx, Ny, Nz = 1, 1, 100\n",
    "Lx, Ly, Lz = 1, 1, 2000\n",
    "Nt, Δt, ΔR = 10000, 60, 100\n",
    "\n",
    "problem = Problem((Nx, Ny, Nz), (Lx, Ly, Lz));\n",
    "\n",
    "@. problem.tr.T.data[:, :, 1:Int(problem.g.Nz/2)]   = 282.99;\n",
    "@. problem.tr.T.data[:, :, Int(problem.g.Nz/2):end] = 283.01;\n",
    "\n",
    "R  = SavedFields(problem.g, Nt, ΔR);\n",
    "time_stepping!(problem; Nt=Nt, Δt=Δt, R=R)"
   ]
  },
  {
   "cell_type": "code",
   "execution_count": 17,
   "metadata": {},
   "outputs": [
    {
     "data": {
      "text/plain": [
       "make_movie (generic function with 1 method)"
      ]
     },
     "execution_count": 17,
     "metadata": {},
     "output_type": "execute_result"
    }
   ],
   "source": [
    "function make_movie(problem::Problem, R::SavedFields, Nt, Δt)\n",
    "    g = problem.g\n",
    "\n",
    "    print(\"Creating tracer movie... ($(Int(Nt/R.ΔR)) frames)\\n\")\n",
    "\n",
    "    Plots.gr()\n",
    "\n",
    "    animT = @animate for tidx in 1:Int(Nt/R.ΔR)\n",
    "        print(\"\\rframe = $tidx / $(Int(Nt/R.ΔR))   \")\n",
    "        Plots.plot(R.T[tidx, 1, 1, :] .- 283, g.zC, title=\"T change @ t=$(tidx*R.ΔR*Δt)\")\n",
    "    end\n",
    "    mp4(animT, \"heavy_light_1D_$(round(Int, time())).mp4\", fps = 30)\n",
    "end"
   ]
  },
  {
   "cell_type": "code",
   "execution_count": 18,
   "metadata": {},
   "outputs": [
    {
     "name": "stdout",
     "output_type": "stream",
     "text": [
      "Creating tracer movie... (100 frames)\n",
      "frame = 100 / 100   "
     ]
    },
    {
     "name": "stderr",
     "output_type": "stream",
     "text": [
      "┌ Info: Saved animation to \n",
      "│   fn = C:\\Users\\Ali\\Documents\\Git\\Oceananigans.jl\\heavy_light_1D_1549053797.mp4\n",
      "└ @ Plots C:\\Users\\Ali\\.julia\\packages\\Plots\\y6yik\\src\\animation.jl:90\n"
     ]
    },
    {
     "data": {
      "text/html": [
       "<video controls><source src=\"heavy_light_1D_1549053797.mp4?0.4794802674273173>\" type=\"video/mp4\"></video>"
      ],
      "text/plain": [
       "Plots.AnimatedGif(\"C:\\\\Users\\\\Ali\\\\Documents\\\\Git\\\\Oceananigans.jl\\\\heavy_light_1D_1549053797.mp4\")"
      ]
     },
     "execution_count": 18,
     "metadata": {},
     "output_type": "execute_result"
    }
   ],
   "source": [
    "make_movies(problem, R, Nt, Δt)"
   ]
  },
  {
   "cell_type": "code",
   "execution_count": null,
   "metadata": {},
   "outputs": [],
   "source": []
  }
 ],
 "metadata": {
  "kernelspec": {
   "display_name": "Julia 1.0.0",
   "language": "julia",
   "name": "julia-1.0"
  },
  "language_info": {
   "file_extension": ".jl",
   "mimetype": "application/julia",
   "name": "julia",
   "version": "1.0.0"
  }
 },
 "nbformat": 4,
 "nbformat_minor": 2
}
