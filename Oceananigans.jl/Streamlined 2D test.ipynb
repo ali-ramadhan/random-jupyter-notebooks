{
 "cells": [
  {
   "cell_type": "code",
   "execution_count": 3,
   "metadata": {},
   "outputs": [
    {
     "data": {
      "text/html": [
       "    <script id=\"webio-setup-14982714682975369936\">\n",
       "    // Immediately-invoked-function-expression to avoid global variables.\n",
       "    (function() {\n",
       "        var warning_div = document.getElementById(\"webio-warning-15256191878928878413\");\n",
       "        var hide = function () {\n",
       "            var script = document.getElementById(\"webio-setup-14982714682975369936\");\n",
       "            var parent = script && script.parentElement;\n",
       "            var grandparent = parent && parent.parentElement;\n",
       "            if (grandparent) {\n",
       "                grandparent.style.display = \"none\";\n",
       "            }\n",
       "            warning_div.style.display = \"none\";\n",
       "        };\n",
       "        if (window.require && require.defined) {\n",
       "            // Jupyter notebook.\n",
       "            if (require.defined(\"nbextensions/webio/main\")\n",
       "                    || require.defined(\"/assetserver/28f5f30a59da434290b7f09bd0d0ddea74a5f34e-dist/main.js\")) {\n",
       "                // Extension already loaded.\n",
       "                hide();\n",
       "                return;\n",
       "            }\n",
       "            console.warn(\"Loading WebIO Jupyter extension on an ad-hoc basis. Consider enabling the WebIO nbextension for a stabler experience (this should happen automatically when building WebIO).\");\n",
       "            require([\"/assetserver/28f5f30a59da434290b7f09bd0d0ddea74a5f34e-dist/main.js\"], function (webIOModule) {\n",
       "                webIOModule.load_ipython_extension();\n",
       "            });\n",
       "            warning_div.innerHTML = \"<strong>Loading WebIO Jupyter extension on an ad-hoc basis. Consider enabling the WebIO nbextension for a stabler experience (this should happen automatically when building WebIO).</strong>\";\n",
       "        } else if (window.location.pathname.includes(\"/lab\")) {\n",
       "            // Guessing JupyterLab\n",
       "            warning_div.innerHTML = \"WebIO does not support JupyterLab yet.\";\n",
       "        }\n",
       "    })();\n",
       "    </script>\n",
       "    <div\n",
       "        id=\"webio-warning-15256191878928878413\"\n",
       "        class=\"output_text output_stderr\"\n",
       "        style=\"padding: 1em; font-weight: bold;\"\n",
       "    >\n",
       "        Unable to load WebIO. Please make sure WebIO works for your Jupyter client.\n",
       "        <!-- TODO: link to installation docs. -->\n",
       "    </div>\n"
      ],
      "text/plain": [
       "HTML{String}(\"    <script id=\\\"webio-setup-14982714682975369936\\\">\\n    // Immediately-invoked-function-expression to avoid global variables.\\n    (function() {\\n        var warning_div = document.getElementById(\\\"webio-warning-15256191878928878413\\\");\\n        var hide = function () {\\n            var script = document.getElementById(\\\"webio-setup-14982714682975369936\\\");\\n            var parent = script && script.parentElement;\\n            var grandparent = parent && parent.parentElement;\\n            if (grandparent) {\\n                grandparent.style.display = \\\"none\\\";\\n            }\\n            warning_div.style.display = \\\"none\\\";\\n        };\\n        if (window.require && require.defined) {\\n            // Jupyter notebook.\\n            if (require.defined(\\\"nbextensions/webio/main\\\")\\n                    || require.defined(\\\"/assetserver/28f5f30a59da434290b7f09bd0d0ddea74a5f34e-dist/main.js\\\")) {\\n                // Extension already loaded.\\n                hide();\\n                return;\\n            }\\n            console.warn(\\\"Loading WebIO Jupyter extension on an ad-hoc basis. Consider enabling the WebIO nbextension for a stabler experience (this should happen automatically when building WebIO).\\\");\\n            require([\\\"/assetserver/28f5f30a59da434290b7f09bd0d0ddea74a5f34e-dist/main.js\\\"], function (webIOModule) {\\n                webIOModule.load_ipython_extension();\\n            });\\n            warning_div.innerHTML = \\\"<strong>Loading WebIO Jupyter extension on an ad-hoc basis. Consider enabling the WebIO nbextension for a stabler experience (this should happen automatically when building WebIO).</strong>\\\";\\n        } else if (window.location.pathname.includes(\\\"/lab\\\")) {\\n            // Guessing JupyterLab\\n            warning_div.innerHTML = \\\"WebIO does not support JupyterLab yet.\\\";\\n        }\\n    })();\\n    </script>\\n    <div\\n        id=\\\"webio-warning-15256191878928878413\\\"\\n        class=\\\"output_text output_stderr\\\"\\n        style=\\\"padding: 1em; font-weight: bold;\\\"\\n    >\\n        Unable to load WebIO. Please make sure WebIO works for your Jupyter client.\\n        <!-- TODO: link to installation docs. -->\\n    </div>\\n\")"
      ]
     },
     "metadata": {},
     "output_type": "display_data"
    },
    {
     "data": {
      "text/plain": [
       "Plots.GRBackend()"
      ]
     },
     "execution_count": 3,
     "metadata": {},
     "output_type": "execute_result"
    }
   ],
   "source": [
    "using Pkg\n",
    "# cd(\"D:\\\\Home\\\\Git\\\\Oceananigans.jl\")\n",
    "cd(\"C:\\\\Users\\\\Ali\\\\Documents\\\\Git\\\\Oceananigans.jl\\\\\")\n",
    "Pkg.activate(\".\");\n",
    "\n",
    "using Statistics, Printf\n",
    "using Oceananigans, Oceananigans.Operators\n",
    "\n",
    "import PyPlot\n",
    "using Interact, Plots\n",
    "Plots.gr()"
   ]
  },
  {
   "cell_type": "code",
   "execution_count": 4,
   "metadata": {},
   "outputs": [
    {
     "data": {
      "text/plain": [
       "ρ (generic function with 1 method)"
      ]
     },
     "execution_count": 4,
     "metadata": {},
     "output_type": "execute_result"
    }
   ],
   "source": [
    "include(\"src/operators/operators_old.jl\")\n",
    "include(\"src/equation_of_state_old.jl\")"
   ]
  },
  {
   "cell_type": "code",
   "execution_count": 11,
   "metadata": {},
   "outputs": [
    {
     "data": {
      "text/plain": [
       "time_stepping (generic function with 1 method)"
      ]
     },
     "execution_count": 11,
     "metadata": {},
     "output_type": "execute_result"
    }
   ],
   "source": [
    "const NumType = Float64  # Number data type.\n",
    "const g = 9.80665  # Standard acceleration due to gravity [m/s²].\n",
    "const f = 1e-4  # Nominal value for the Coriolis frequency [rad/s].\n",
    "const χ = 0.1  # Adams-Bashforth (AB2) parameter.\n",
    "\n",
    "Nˣ, Nʸ, Nᶻ = 100, 1, 50\n",
    "Lˣ, Lʸ, Lᶻ = 2000, 2000, 1000  # Domain size [m].\n",
    "\n",
    "Nᵗ = 1200\n",
    "Δt = 10  # Time step [s].\n",
    "\n",
    "Δx, Δy, Δz = Lˣ/Nˣ, Lʸ/Nʸ, Lᶻ/Nᶻ  # Grid spacing [m].\n",
    "Aˣ, Aʸ, Aᶻ = Δy*Δz, Δx*Δz, Δx*Δy  # Cell face areas [m²].\n",
    "V = Δx*Δy*Δz  # Volume of a cell [m³].\n",
    "M = ρ₀*V  # Mass of water in a cell [kg].\n",
    "\n",
    "xC = Δx/2:Δx:Lˣ\n",
    "yC = Δy/2:Δy:Lʸ\n",
    "zC = -Δz/2:-Δz:-Lᶻ\n",
    "\n",
    "uⁿ = Array{NumType, 3}(undef, Nˣ, Nʸ, Nᶻ)  # Velocity in x-direction [m/s].\n",
    "vⁿ = Array{NumType, 3}(undef, Nˣ, Nʸ, Nᶻ)  # Velocity in y-direction [m/s].\n",
    "wⁿ = Array{NumType, 3}(undef, Nˣ, Nʸ, Nᶻ)  # Velocity in z-direction [m/s].\n",
    "Tⁿ = Array{NumType, 3}(undef, Nˣ, Nʸ, Nᶻ)  # Potential temperature [K].\n",
    "Sⁿ = Array{NumType, 3}(undef, Nˣ, Nʸ, Nᶻ)  # Salinity [g/kg].\n",
    "pʰʸ = Array{NumType, 3}(undef, Nˣ, Nʸ, Nᶻ) # Hydrostatic pressure [Pa].\n",
    "pⁿ = Array{NumType, 3}(undef, Nˣ, Nʸ, Nᶻ)  # Pressure [Pa].\n",
    "ρⁿ = Array{NumType, 3}(undef, Nˣ, Nʸ, Nᶻ)  # Density [kg/m³].\n",
    "\n",
    "Gᵘⁿ = Array{NumType, 3}(undef, Nˣ, Nʸ, Nᶻ)\n",
    "Gᵛⁿ = Array{NumType, 3}(undef, Nˣ, Nʸ, Nᶻ)\n",
    "Gʷⁿ = Array{NumType, 3}(undef, Nˣ, Nʸ, Nᶻ)\n",
    "Gᵀⁿ = Array{NumType, 3}(undef, Nˣ, Nʸ, Nᶻ)\n",
    "Gˢⁿ = Array{NumType, 3}(undef, Nˣ, Nʸ, Nᶻ)\n",
    "\n",
    "Gᵘⁿ⁻¹ = Array{NumType, 3}(undef, Nˣ, Nʸ, Nᶻ)\n",
    "Gᵛⁿ⁻¹ = Array{NumType, 3}(undef, Nˣ, Nʸ, Nᶻ)\n",
    "Gʷⁿ⁻¹ = Array{NumType, 3}(undef, Nˣ, Nʸ, Nᶻ)\n",
    "Gᵀⁿ⁻¹ = Array{NumType, 3}(undef, Nˣ, Nʸ, Nᶻ)\n",
    "Gˢⁿ⁻¹ = Array{NumType, 3}(undef, Nˣ, Nʸ, Nᶻ)\n",
    "\n",
    "Gᵘⁿ⁺ʰ = Array{NumType, 3}(undef, Nˣ, Nʸ, Nᶻ)\n",
    "Gᵛⁿ⁺ʰ = Array{NumType, 3}(undef, Nˣ, Nʸ, Nᶻ)\n",
    "Gʷⁿ⁺ʰ = Array{NumType, 3}(undef, Nˣ, Nʸ, Nᶻ)\n",
    "Gᵀⁿ⁺ʰ = Array{NumType, 3}(undef, Nˣ, Nʸ, Nᶻ)\n",
    "Gˢⁿ⁺ʰ = Array{NumType, 3}(undef, Nˣ, Nʸ, Nᶻ)\n",
    "\n",
    "pʰʸ′ = Array{NumType, 3}(undef, Nˣ, Nʸ, Nᶻ)\n",
    "pⁿʰ⁺ˢ = Array{NumType, 3}(undef, Nˣ, Nʸ, Nᶻ)\n",
    "g′ = Array{NumType, 3}(undef, Nˣ, Nʸ, Nᶻ)\n",
    "δρ = Array{NumType, 3}(undef, Nˣ, Nʸ, Nᶻ)\n",
    "\n",
    "uⁿ .= 0; vⁿ .= 0; wⁿ .= 0; Sⁿ .= 35;\n",
    "\n",
    "# Tⁿ = repeat(reshape(T_ref, 1, 1, 50), Nˣ, Nʸ, 1)\n",
    "Tⁿ .= 283\n",
    "\n",
    "pHY_profile = [-ρ₀*g*h for h in zC]\n",
    "pʰʸ = repeat(reshape(pHY_profile, 1, 1, Nᶻ), Nˣ, Nʸ, 1)\n",
    "pⁿ = copy(pʰʸ)  # Initial pressure is just the hydrostatic pressure.\n",
    "\n",
    "ρⁿ .= ρ.(Tⁿ, Sⁿ, pⁿ);\n",
    "\n",
    "# Tⁿ[Int(Nˣ/2)-5:Int(Nˣ/2)+5, 1, 10-2:10+5] .= 283.01\n",
    "\n",
    "# hot_buble_perturbation = reshape(0.01 * exp.(-100 * ((xC .- Lˣ/2).^2 .+ (zC .+ Lᶻ/2)'.^2) / (Lˣ^2 + Lᶻ^2)), (Nˣ, Nʸ, Nᶻ))\n",
    "# @. Tⁿ = 282.99 + 2*hot_buble_perturbation\n",
    "\n",
    "Fᵀ = zeros(Nˣ, Nʸ, Nᶻ)\n",
    "@. Fᵀ[Int(Nˣ/10):Int(9Nˣ/10), 1, 1] = -0.5e-5 + 1e-6*rand()\n",
    "\n",
    "ΔR = 10\n",
    "Ru = Array{NumType, 4}(undef, Int(Nᵗ/ΔR), Nˣ, Nʸ, Nᶻ)\n",
    "# Rv = Array{NumType, 4}(undef, Nᵗ, Nˣ, Nʸ, Nᶻ)\n",
    "Rw = Array{NumType, 4}(undef, Int(Nᵗ/ΔR), Nˣ, Nʸ, Nᶻ)\n",
    "RT = Array{NumType, 4}(undef, Int(Nᵗ/ΔR), Nˣ, Nʸ, Nᶻ)\n",
    "# RS = Array{NumType, 4}(undef, Nᵗ, Nˣ, Nʸ, Nᶻ)\n",
    "Rρ = Array{NumType, 4}(undef, Int(Nᵗ/ΔR), Nˣ, Nʸ, Nᶻ)\n",
    "# RpHY′ = Array{NumType, 4}(undef, Nᵗ, Nˣ, Nʸ, Nᶻ)\n",
    "RpNHS = Array{NumType, 4}(undef, Int(Nᵗ/ΔR), Nˣ, Nʸ, Nᶻ)\n",
    "\n",
    "κʰ = 4e-2  # Horizontal Laplacian heat diffusion [m²/s]. diffKhT in MITgcm.\n",
    "κᵛ = 4e-2  # Vertical Laplacian heat diffusion [m²/s]. diffKzT in MITgcm.\n",
    "\n",
    "𝜈ʰ = 4e-2  # Horizontal eddy viscosity [Pa·s]. viscAh in MITgcm.\n",
    "𝜈ᵛ = 4e-2  # Vertical eddy viscosity [Pa·s]. viscAz in MITgcm.\n",
    "\n",
    "function time_stepping(uⁿ, vⁿ, wⁿ, Tⁿ, Sⁿ, pⁿ, pʰʸ, pʰʸ′, pⁿʰ⁺ˢ, g′, ρⁿ, δρ, Gᵘⁿ, Gᵛⁿ, Gʷⁿ, Gᵀⁿ, Gˢⁿ, Gᵘⁿ⁻¹, Gᵛⁿ⁻¹, Gʷⁿ⁻¹, Gᵀⁿ⁻¹, Gˢⁿ⁻¹, Gᵘⁿ⁺ʰ, Gᵛⁿ⁺ʰ, Gʷⁿ⁺ʰ, Gᵀⁿ⁺ʰ, Gˢⁿ⁺ʰ)\n",
    "    for n in 1:Nᵗ\n",
    "        # Calculate new density and density deviation.\n",
    "        @. δρ = ρ(Tⁿ, Sⁿ, pⁿ) - ρ₀\n",
    "        @. ρⁿ = ρ₀ + δρ\n",
    "        \n",
    "        δρ̅ᶻ = avgᶻc2f(δρ)\n",
    "        for j in 1:Nʸ, i in 1:Nˣ\n",
    "          pʰʸ′[i, j, 1] = δρ[i, j, 1] * g * Δz / 2\n",
    "        end\n",
    "        for k in 2:Nᶻ, j in 1:Nʸ, i in 1:Nˣ\n",
    "          pʰʸ′[i, j, k] = pʰʸ′[i, j, k-1] + (δρ̅ᶻ[i, j, k] * g * Δz)\n",
    "        end\n",
    "        \n",
    "        Gᵘⁿ⁻¹ = Gᵘⁿ; Gᵛⁿ⁻¹ = Gᵛⁿ; Gʷⁿ⁻¹ = Gʷⁿ; Gᵀⁿ⁻¹ = Gᵀⁿ; Gˢⁿ⁻¹ = Gˢⁿ;\n",
    "\n",
    "        # Gᵘⁿ .= -(1/Δx) .* δˣc2f(pʰʸ′ ./ ρ₀) .+ 𝜈ʰ∇²u(uⁿ)\n",
    "        # Gᵛⁿ .= -(1/Δy) .* δʸc2f(pʰʸ′ ./ ρ₀) .+ 𝜈ʰ∇²v(vⁿ)\n",
    "        # Gʷⁿ .=                                 𝜈ᵛ∇²w(wⁿ)\n",
    "        Gᵘⁿ .= .- ũ∇u(uⁿ, vⁿ, wⁿ) .+ f .* avgʸc2f(avgˣf2c(vⁿ)) .- (1/Δx) .* δˣc2f(pʰʸ′ ./ ρ₀) .+ 𝜈ʰ∇²u(uⁿ)\n",
    "        Gᵛⁿ .= .- ũ∇v(uⁿ, vⁿ, wⁿ) .- f .* avgˣc2f(avgʸf2c(uⁿ)) .- (1/Δy) .* δʸc2f(pʰʸ′ ./ ρ₀) .+ 𝜈ʰ∇²v(vⁿ)\n",
    "        Gʷⁿ .= -ũ∇w(uⁿ, vⁿ, wⁿ)                                .+ 𝜈ᵛ∇²w(wⁿ)\n",
    "        Gᵀⁿ .= -div_flux_f2c(uⁿ, vⁿ, wⁿ, Tⁿ) .+ κ∇²(Tⁿ) + Fᵀ\n",
    "        Gˢⁿ .= -div_flux_f2c(uⁿ, vⁿ, wⁿ, Sⁿ) .+ κ∇²(Sⁿ)\n",
    "        \n",
    "        @. begin\n",
    "            Gᵘⁿ⁺ʰ = (3/2 + χ)*Gᵘⁿ - (1/2 + χ)*Gᵘⁿ⁻¹\n",
    "            Gᵛⁿ⁺ʰ = (3/2 + χ)*Gᵛⁿ - (1/2 + χ)*Gᵛⁿ⁻¹\n",
    "            Gʷⁿ⁺ʰ = (3/2 + χ)*Gʷⁿ - (1/2 + χ)*Gʷⁿ⁻¹\n",
    "            Gᵀⁿ⁺ʰ = (3/2 + χ)*Gᵀⁿ - (1/2 + χ)*Gᵀⁿ⁻¹\n",
    "            Gˢⁿ⁺ʰ = (3/2 + χ)*Gˢⁿ - (1/2 + χ)*Gˢⁿ⁻¹\n",
    "        end\n",
    "        \n",
    "        RHS = div_f2c(Gᵘⁿ⁺ʰ, Gᵛⁿ⁺ʰ, Gʷⁿ⁺ʰ)  # Right hand side or source term.\n",
    "        pⁿʰ⁺ˢ = solve_poisson_3d_ppn(RHS, Nˣ, Nʸ, Nᶻ, Δx, Δy, Δz)\n",
    "        \n",
    "#         RHS_rec = laplacian3d_ppn(pⁿʰ⁺ˢ) ./ (Δx)^2  # TODO: This assumes Δx == Δy == Δz.\n",
    "#         error = RHS_rec .- RHS\n",
    "#         @info begin\n",
    "#             string(\"Fourier-spectral solver diagnostics:\\n\",\n",
    "#                     @sprintf(\"RHS:     min=%.6g, max=%.6g, mean=%.6g, absmean=%.6g, std=%.6g\\n\", minimum(RHS), maximum(RHS), mean(RHS), mean(abs.(RHS)), std(RHS)),\n",
    "#                     @sprintf(\"RHS_rec: min=%.6g, max=%.6g, mean=%.6g, absmean=%.6g, std=%.6g\\n\", minimum(RHS_rec), maximum(RHS_rec), mean(RHS_rec), mean(abs.(RHS_rec)), std(RHS_rec)),\n",
    "#                     @sprintf(\"error:   min=%.6g, max=%.6g, mean=%.6g, absmean=%.6g, std=%.6g\\n\", minimum(error), maximum(error), mean(error), mean(abs.(error)), std(error))\n",
    "#                     )\n",
    "#         end\n",
    "        \n",
    "        @. pⁿ = pʰʸ′ + pⁿʰ⁺ˢ\n",
    "\n",
    "        uⁿ .= uⁿ .+ ( Gᵘⁿ⁺ʰ .- (1/Δx) .* δˣc2f(pⁿʰ⁺ˢ) ) .* Δt\n",
    "        vⁿ .= vⁿ .+ ( Gᵛⁿ⁺ʰ .- (1/Δy) .* δʸc2f(pⁿʰ⁺ˢ) ) .* Δt\n",
    "        wⁿ .= wⁿ .+ ( Gʷⁿ⁺ʰ .- (1/Δz) .* δᶻc2f(pⁿʰ⁺ˢ) ) .* Δt\n",
    "\n",
    "        @. Sⁿ = Sⁿ + (Gˢⁿ⁺ʰ * Δt)\n",
    "        @. Tⁿ = Tⁿ + (Gᵀⁿ⁺ʰ * Δt)\n",
    "        \n",
    "        div_u1 = div_f2c(uⁿ, vⁿ, wⁿ)\n",
    "        \n",
    "        if n % ΔR == 0\n",
    "            print(\"\\rt=$(n*Δt)/$(Nᵗ*Δt)\")\n",
    "#             @info begin\n",
    "#             string(\"Time: $(n*Δt)\\n\",\n",
    "#                    @sprintf(\"uⁿ:   min=%.6g, max=%.6g, mean=%.6g, absmean=%.6g, std=%.6g\\n\", minimum(uⁿ), maximum(uⁿ), mean(uⁿ), mean(abs.(uⁿ)), std(uⁿ)),\n",
    "#                    @sprintf(\"vⁿ:   min=%.6g, max=%.6g, mean=%.6g, absmean=%.6g, std=%.6g\\n\", minimum(vⁿ), maximum(vⁿ), mean(vⁿ), mean(abs.(vⁿ)), std(vⁿ)),\n",
    "#                    @sprintf(\"wⁿ:   min=%.6g, max=%.6g, mean=%.6g, absmean=%.6g, std=%.6g\\n\", minimum(wⁿ), maximum(wⁿ), mean(wⁿ), mean(abs.(wⁿ)), std(wⁿ)),\n",
    "#                    @sprintf(\"Tⁿ:   min=%.6g, max=%.6g, mean=%.6g, absmean=%.6g, std=%.6g\\n\", minimum(Tⁿ), maximum(Tⁿ), mean(Tⁿ), mean(abs.(Tⁿ)), std(Tⁿ)),\n",
    "#                    @sprintf(\"Sⁿ:   min=%.6g, max=%.6g, mean=%.6g, absmean=%.6g, std=%.6g\\n\", minimum(Sⁿ), maximum(Sⁿ), mean(Sⁿ), mean(abs.(Sⁿ)), std(Sⁿ)),\n",
    "#                    @sprintf(\"pʰʸ:  min=%.6g, max=%.6g, mean=%.6g, absmean=%.6g, std=%.6g\\n\", minimum(pʰʸ), maximum(pʰʸ), mean(pʰʸ), mean(abs.(pʰʸ)), std(pʰʸ)),\n",
    "#                    @sprintf(\"pʰʸ′: min=%.6g, max=%.6g, mean=%.6g, absmean=%.6g, std=%.6g\\n\", minimum(pʰʸ′), maximum(pʰʸ′), mean(pʰʸ′), mean(abs.(pʰʸ′)), std(pʰʸ′)),\n",
    "#                    @sprintf(\"pⁿʰ⁺ˢ:min=%.6g, max=%.6g, mean=%.6g, absmean=%.6g, std=%.6g\\n\", minimum(pⁿʰ⁺ˢ), maximum(pⁿʰ⁺ˢ), mean(pⁿʰ⁺ˢ), mean(abs.(pⁿʰ⁺ˢ)), std(pⁿʰ⁺ˢ)),\n",
    "#                    @sprintf(\"pⁿ:   min=%.6g, max=%.6g, mean=%.6g, absmean=%.6g, std=%.6g\\n\", minimum(pⁿ), maximum(pⁿ), mean(pⁿ), mean(abs.(pⁿ)), std(pⁿ)),\n",
    "#                    @sprintf(\"ρⁿ:   min=%.6g, max=%.6g, mean=%.6g, absmean=%.6g, std=%.6g\\n\", minimum(ρⁿ), maximum(ρⁿ), mean(ρⁿ), mean(abs.(ρⁿ)), std(ρⁿ)),\n",
    "#                    @sprintf(\"δρ:   min=%.6g, max=%.6g, mean=%.6g, absmean=%.6g, std=%.6g\\n\", minimum(δρ), maximum(δρ), mean(δρ), mean(abs.(δρ)), std(δρ)),\n",
    "#                    @sprintf(\"∇⋅u1:  min=%.6g, max=%.6g, mean=%.6g, absmean=%.6g, std=%.6g\\n\", minimum(div_u1), maximum(div_u1), mean(div_u1), mean(abs.(div_u1)), std(div_u1))\n",
    "#                   )\n",
    "#             end  # @info\n",
    "\n",
    "            Ridx = Int(n/ΔR)\n",
    "            Ru[Ridx, :, :, :] = copy(uⁿ)\n",
    "            # Rv[n, :, :, :] = copy(vⁿ)\n",
    "            Rw[Ridx, :, :, :] = copy(wⁿ)\n",
    "            RT[Ridx, :, :, :] = copy(Tⁿ)\n",
    "            # RS[n, :, :, :] = copy(Sⁿ)\n",
    "            Rρ[Ridx, :, :, :] = copy(ρⁿ)\n",
    "            # RpHY′[n, :, :, :] = copy(pʰʸ′)\n",
    "            RpNHS[Ridx, :, :, :] = copy(pⁿʰ⁺ˢ)\n",
    "        end\n",
    "    end\n",
    "end"
   ]
  },
  {
   "cell_type": "code",
   "execution_count": 12,
   "metadata": {},
   "outputs": [
    {
     "name": "stdout",
     "output_type": "stream",
     "text": [
      "t=12000/12000  8.292813 seconds (67.71 M allocations: 9.815 GiB, 12.77% gc time)\n"
     ]
    }
   ],
   "source": [
    "@time time_stepping(uⁿ, vⁿ, wⁿ, Tⁿ, Sⁿ, pⁿ, pʰʸ, pʰʸ′, pⁿʰ⁺ˢ, g′, ρⁿ, δρ, Gᵘⁿ, Gᵛⁿ, Gʷⁿ, Gᵀⁿ, Gˢⁿ, Gᵘⁿ⁻¹, Gᵛⁿ⁻¹, Gʷⁿ⁻¹, Gᵀⁿ⁻¹, Gˢⁿ⁻¹, Gᵘⁿ⁺ʰ, Gᵛⁿ⁺ʰ, Gʷⁿ⁺ʰ, Gᵀⁿ⁺ʰ, Gˢⁿ⁺ʰ)"
   ]
  },
  {
   "cell_type": "code",
   "execution_count": 13,
   "metadata": {},
   "outputs": [
    {
     "data": {
      "image/png": "[encoded data removed]",
      "text/plain": [
       "PyPlot.Figure(PyObject <matplotlib.figure.Figure object at 0x0000000032B6CCC0>)"
      ]
     },
     "metadata": {},
     "output_type": "display_data"
    }
   ],
   "source": [
    "PyPlot.pcolormesh(xC, zC, rotr90(RT[end, :, 1, :]), cmap=\"plasma\"); PyPlot.colorbar();"
   ]
  },
  {
   "cell_type": "code",
   "execution_count": null,
   "metadata": {},
   "outputs": [],
   "source": [
    "PyPlot.pcolormesh(xC, zC, rotr90(Rw[end, :, 1, :]), vmin=-0.1, vmax=0.1, cmap=\"seismic\"); PyPlot.colorbar();"
   ]
  },
  {
   "cell_type": "code",
   "execution_count": null,
   "metadata": {},
   "outputs": [],
   "source": [
    "anim = @animate for tidx in 1:Int(Nᵗ/ΔR)\n",
    "    print(\"\\rframe = $tidx / $(Int(Nᵗ/ΔR))   \")\n",
    "    Plots.heatmap(xC, zC, rotl90(RT[tidx, :, 1, :]) .- 283, color=:plasma,\n",
    "        clims=(-0.03, 0),\n",
    "        # clims=(-maximum(RT[tidx, :, 1, :] .- 283), maximum(RT[tidx, :, 1, :] .- 283)),\n",
    "        title=\"T change @ t=$(tidx*ΔR*Δt)\")\n",
    "end\n",
    "mp4(anim, \"tracer_T_$(round(Int, time())).mp4\", fps = 30)"
   ]
  },
  {
   "cell_type": "code",
   "execution_count": null,
   "metadata": {},
   "outputs": [],
   "source": []
  }
 ],
 "metadata": {
  "kernelspec": {
   "display_name": "Julia 1.0.0",
   "language": "julia",
   "name": "julia-1.0"
  },
  "language_info": {
   "file_extension": ".jl",
   "mimetype": "application/julia",
   "name": "julia",
   "version": "1.0.0"
  }
 },
 "nbformat": 4,
 "nbformat_minor": 2
}
