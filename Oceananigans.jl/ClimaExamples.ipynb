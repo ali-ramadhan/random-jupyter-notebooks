{
 "cells": [
  {
   "cell_type": "markdown",
   "metadata": {},
   "source": [
    "# Some Abstract Ideas"
   ]
  },
  {
   "cell_type": "markdown",
   "metadata": {},
   "source": [
    "## Abstract Number Types"
   ]
  },
  {
   "cell_type": "markdown",
   "metadata": {},
   "source": [
    "### SVectors"
   ]
  },
  {
   "cell_type": "markdown",
   "metadata": {},
   "source": [
    "Say we're using a really simple time stepper to update the velocity of the particles stored in a vector `v`. To start out, we could initialize the vector `v` as:"
   ]
  },
  {
   "cell_type": "code",
   "execution_count": null,
   "metadata": {},
   "outputs": [],
   "source": [
    "v = zeros(Float64, 3, nparticles)\n",
    "dvdt = rand(3,3)\n",
    "dt = 0.5"
   ]
  },
  {
   "cell_type": "markdown",
   "metadata": {},
   "source": [
    "Then the time stepper could be written as:"
   ]
  },
  {
   "cell_type": "code",
   "execution_count": null,
   "metadata": {},
   "outputs": [],
   "source": [
    "for i in eachindex(v)\n",
    "  v[1, i] += dvdt[1] #X coordinate of velocity\n",
    "  v[2, i] += dvdt[2] #Y coordinate of velocity\n",
    "  v[3, i] += dvdt[3] #Z coordinate of velocity\n",
    "end"
   ]
  },
  {
   "cell_type": "markdown",
   "metadata": {},
   "source": [
    "We could collapse this with another for-loop like"
   ]
  },
  {
   "cell_type": "code",
   "execution_count": null,
   "metadata": {},
   "outputs": [],
   "source": [
    "for i in eachindex(v)\n",
    "  for pos in 1:3\n",
    "  v[pos, i] += dvdt[pos] #X coordinate of velocity\n",
    "end"
   ]
  },
  {
   "cell_type": "markdown",
   "metadata": {},
   "source": [
    "We can do better. Suppose instead we initialize our array of velocities as precisely that: an array of velocity vectors. Note that we are using SVectors so the compiler will make our tiny loops unroll and be fast.\n",
    "We would initialize as"
   ]
  },
  {
   "cell_type": "code",
   "execution_count": null,
   "metadata": {},
   "outputs": [],
   "source": [
    "using StaticArrays\n",
    "v = zeros(SVector{3, Float64}, 3, nparticles)\n",
    "dvdt = SVector{3, Float64}(rand(3))\n",
    "dt = 0.5"
   ]
  },
  {
   "cell_type": "markdown",
   "metadata": {},
   "source": [
    "Then we can write our loop as"
   ]
  },
  {
   "cell_type": "code",
   "execution_count": null,
   "metadata": {},
   "outputs": [],
   "source": [
    "for i in eachindex(v)\n",
    "  v[i] += dvdt * dt #forward euler step of velocity\n",
    "end"
   ]
  },
  {
   "cell_type": "markdown",
   "metadata": {},
   "source": [
    "This works because `+` is defined on two vector types and `*` is defined between scalar and vector types! Way cool!"
   ]
  },
  {
   "cell_type": "markdown",
   "metadata": {},
   "source": [
    "### Unitful\n",
    "Probably not good for the undimensionalized innards of clima, but really great for user interfaces before dedimensionalization and for conversion between units!\n",
    "\n",
    "(see https://github.com/ajkeller34/Unitful.jl)"
   ]
  },
  {
   "cell_type": "code",
   "execution_count": null,
   "metadata": {},
   "outputs": [],
   "source": [
    "julia> 1u\"kg\" == 1000u\"g\"             # Equivalence implies unit conversion\n",
    "true\n",
    "\n",
    "julia> !(1u\"kg\" === 1000u\"g\")         # ...and yet we can distinguish these...\n",
    "true\n",
    "\n",
    "julia> 1u\"kg\" === 1u\"kg\"              # ...and these are indistinguishable.\n",
    "true"
   ]
  },
  {
   "cell_type": "markdown",
   "metadata": {},
   "source": [
    "### Finite Elements\n",
    "(see https://github.com/JuliaFEM/FEMBasis.jl)"
   ]
  },
  {
   "cell_type": "code",
   "execution_count": null,
   "metadata": {},
   "outputs": [],
   "source": [
    "struct GaussLobattoElement{D#=Number of dimensions=#, N#=Order of Polynomials=#}\n",
    "    points::SArray\n",
    "end\n",
    "\n",
    "function Base.:+(a::GaussLobattoElement{D, N}, b::GaussLobattoElement{D, N}) where {D, N}\n",
    "    GaussLobattoElement(a.points .+ b.points)\n",
    "end\n",
    "\n",
    "function Base.:*(a::GaussLobattoElement, s::Number)\n",
    "    GaussLobattoElement(a.points .* s)\n",
    "end\n",
    "\n",
    "function deriv(a::GaussLobattoElement)\n",
    "    #maybe some more complicated stuff here involving test/trial functions\n",
    "end"
   ]
  },
  {
   "cell_type": "markdown",
   "metadata": {},
   "source": [
    "### States (Separate Space and Time)\n",
    "(see https://github.com/JuliaDiffEq/SimpleDiffEq.jl, https://github.com/JuliaDiffEq/RecursiveArrayTools.jl, http://www.stochasticlifestyle.com/solving-systems-stochastic-pdes-using-gpus-julia/)"
   ]
  },
  {
   "cell_type": "markdown",
   "metadata": {},
   "source": [
    "The big idea behind the DiffEquations.jl interface is that we can separate space discretization from time discretization by considering the stepped state of the simulation as a number itself."
   ]
  },
  {
   "cell_type": "markdown",
   "metadata": {},
   "source": [
    "![Image Test](https://wikimedia.org/api/rest_v1/media/math/render/svg/81398071e8f180ac143bfdf4598ff47bf79eb689)\n",
    "![Image Test](https://wikimedia.org/api/rest_v1/media/math/render/svg/95bdbb2e3aa83735085c0aadd577162c69e4056a)"
   ]
  },
  {
   "cell_type": "code",
   "execution_count": null,
   "metadata": {},
   "outputs": [],
   "source": [
    "struct DycoreState\n",
    "    ρ\n",
    "    U\n",
    "    E\n",
    "end\n",
    "\n",
    "Base.:+(a::DycoreState, b::DycoreState) = DycoreState(a.ρ + b.ρ, a.U + b.U, a.E + b.E)\n",
    "\n",
    "Base.:*(a::DycoreState, s::Number) = DycoreState(a.ρ * s, a.U * s, a.E * s)\n",
    "\n",
    "Base.LinearAlgebra.norm(a::DycoreState) = norm(a.ρ) + norm(a.U) + norm(a.E) #I don't know how math works\n",
    "\n",
    "f(t, state::DycoreState, params)::DycoreState = #math skills still lacking... Navier Stokes or something here\n",
    "\n",
    "\n",
    "#Now we can time step without thinking about what a state is!\n",
    "\n",
    "\n",
    "function step_euler(f, state, t, dt, params)\n",
    "    return state + dt * f(t, state, params)\n",
    "end\n",
    "    \n",
    "function step_rk(f, state, global_parameters, dt, T_final)\n",
    "    k1 = dt * f(t,        state,        params)\n",
    "    k2 = dt * f(t + dt/2, state + k1/2, params)\n",
    "    k3 = dt * f(t + dt/2, state + k2/2, params)\n",
    "    k4 = dt * f(t + dt,   state + k,    params)\n",
    "    return state + 1/6(k1 + 2k2 + 3k3 + k4)\n",
    "    \n",
    "end\n"
   ]
  },
  {
   "cell_type": "markdown",
   "metadata": {},
   "source": [
    "# Fields"
   ]
  },
  {
   "cell_type": "code",
   "execution_count": null,
   "metadata": {},
   "outputs": [],
   "source": [
    "type AbstractField{T, D} end\n",
    "\n",
    "struct ConstantField{T, D}\n",
    "    val::T\n",
    "end\n",
    "\n",
    "get_value(f::ConstantField{T, D}, x:::NTuple{D}) where {T, D} = f.val\n",
    "\n",
    "\n",
    "struct DeformedField{T, D, X::Field{NTuple{D}, D}, F<:Field{T, D}}\n",
    "    ξ::X\n",
    "    parent::F\n",
    "end\n",
    "\n",
    "get_value(f::DeformedField{T, D}, x::Vararg{Any, D}) where {T, D} = get_value(f.parent, f.ξ(x))\n",
    "\n",
    "function Base.:+(a::DeformedField, b::DeformedField)\n",
    "    @assert a.ξ == b.ξ\n",
    "    DeformedField(a.ξ, a.parent + b.parent)\n",
    "end\n",
    "\n",
    "function Base.:+(a::DeformedField, s::Number)\n",
    "    DeformedField(a.ξ, a.parent * s)\n",
    "end"
   ]
  },
  {
   "cell_type": "markdown",
   "metadata": {},
   "source": [
    "### Fields over Grids"
   ]
  },
  {
   "cell_type": "code",
   "execution_count": null,
   "metadata": {},
   "outputs": [],
   "source": [
    "struct CartesianGrid{D, E<:CartesianIndices}\n",
    "    elems::E\n",
    "end\n",
    "\n",
    "get_elem(CartesianGrid, x) = CartesianIndex(map(Int, map(floor, x)))\n",
    "\n",
    "struct GridField{T, D, F::AbstractArray{<:Field{T, D}}, G<:Grid{D}}\n",
    "    subfields::F\n",
    "    grid::G\n",
    "end\n",
    "\n",
    "get_value(f::GridField, x) = get_value(f.subfields[get_elem(f.grid, x)], x)\n",
    "\n",
    "\n",
    "\n",
    "function Base.:+(a::GridField, b::GridField)\n",
    "    @assert a.grid == b.grid\n",
    "    GridField(a.subfields .+ b.subfields, a.grid)\n",
    "end\n",
    "\n",
    "function Base.:*(a::GridField, s::Number)\n",
    "    GridField(a.subfields .* s, a.grid)\n",
    "end"
   ]
  },
  {
   "cell_type": "markdown",
   "metadata": {},
   "source": [
    "# A couple main loops to spark conversation"
   ]
  },
  {
   "cell_type": "markdown",
   "metadata": {},
   "source": [
    "### GCM"
   ]
  },
  {
   "cell_type": "code",
   "execution_count": null,
   "metadata": {},
   "outputs": [],
   "source": [
    "C     >>>>>>>>>>>>>>>>>>>>>>>>>>>   LOOP   <<<<<<<<<<<<<<<<<<<<<<<<<<<<\n",
    "C     >>>>>>>>>>>>>>>>>>>>>>>>>>>  STARTS  <<<<<<<<<<<<<<<<<<<<<<<<<<<<\n",
    "# ifdef ALLOW_OPENAD_DIVA\n",
    "      DO iloop = 1, nTimeSteps_l2\n",
    "# else\n",
    "      DO iloop = 1, nTimeSteps\n",
    "# endif\n",
    "\n",
    "#endif /* ALLOW_OPENAD */\n",
    "\n",
    "#ifdef ALLOW_DEBUG\n",
    "      IF (debugMode) CALL DEBUG_CALL('FORWARD_STEP',myThid)\n",
    "#endif\n",
    "\n",
    "#ifndef ALLOW_OPENAD\n",
    "# ifdef ALLOW_ATM2D\n",
    "        CALL TIMER_START('FORWARD_STEP_ATM2D  [MAIN_DO_LOOP]',myThid)\n",
    "        CALL FORWARD_STEP_ATM2D( iloop, myTime, myIter, myThid )\n",
    "        CALL TIMER_STOP ('FORWARD_STEP_ATM2D  [MAIN_DO_LOOP]',myThid)\n",
    "# else\n",
    "        CALL TIMER_START('FORWARD_STEP        [MAIN_DO_LOOP]',myThid)\n",
    "        CALL FORWARD_STEP( iloop, myTime, myIter, myThid )\n",
    "        CALL TIMER_STOP ('FORWARD_STEP        [MAIN_DO_LOOP]',myThid)\n",
    "# endif\n",
    "#else\n",
    "# ifdef ALLOW_OPENAD_DIVA\n",
    "       CALL TIMER_START('INNER_DO_LOOP       [MAIN_DO_LOOP]',myThid)\n",
    "       nTimeSteps_l2 = 2\n",
    "       CALL INNER_DO_LOOP( iloop, myTime, myIter, myThid )\n",
    "       CALL TIMER_STOP ('INNER_DO_LOOP       [MAIN_DO_LOOP]',myThid)\n",
    "# else\n",
    "       CALL TIMER_START('FORWARD_STEP        [MAIN_DO_LOOP]',myThid)\n",
    "       nTimeSteps_l2 = 2\n",
    "       CALL FORWARD_STEP( iloop, myTime, myIter, myThid )\n",
    "       CALL TIMER_STOP ('FORWARD_STEP        [MAIN_DO_LOOP]',myThid)\n",
    "# endif\n",
    "#endif /* ndef ALLOW_OPENAD */\n",
    "\n",
    "#ifdef ALLOW_OPENAD\n",
    "      ENDDO\n",
    "C     >>>>>>>>>>>>>>>>>>>>>>>>>>>   LOOP   <<<<<<<<<<<<<<<<<<<<<<<<<<<<\n",
    "C     >>>>>>>>>>>>>>>>>>>>>>>>>>>  STOPS   <<<<<<<<<<<<<<<<<<<<<<<<<<<<\n",
    "#endif /* ALLOW_OPENAD */"
   ]
  },
  {
   "cell_type": "markdown",
   "metadata": {},
   "source": [
    "### Charlie's personal pseudocode"
   ]
  },
  {
   "cell_type": "code",
   "execution_count": null,
   "metadata": {},
   "outputs": [],
   "source": [
    "clima.paramlist = CLIMA.init_parameters()\n",
    "clima.dycore = DyCore.init()\n",
    "N_x, N_y = clima.dycore.N_x, clima.dycore.N_y\n",
    "clima.turb_conv = [TurbConv.init(clima.paramlist) for i in 1:N_x for j in 1:N_y]\n",
    "for i in 1:clima.n_steps\n",
    " # computes RHS terms (dycore_sources) for the dycore\n",
    " compute_sources.(clima.turb_conv,\n",
    "                 clima.dycore.Q[:u],\n",
    "                 clima.dycore.Q[:v],\n",
    "                 clima.dycore.Q[:w],\n",
    "                 clima.dycore.Q[:energy],\n",
    "                 ...\n",
    "                 clima.paramlist)\n",
    " for v in (:u, :v, :w, :energy, ...)\n",
    "   dycore.RHS[i,j,k,v] += interp(\n",
    "       clima.turb_conv[i,j].dycore_sources[v],\n",
    "       clima.dycore.mesh)\n",
    " end\n",
    " # updates state vector dycore.Q from dycore.RHS\n",
    " update_solution(clima.dycore)\n",
    "end"
   ]
  },
  {
   "cell_type": "markdown",
   "metadata": {},
   "source": [
    "### Main Loop with Subdivisions"
   ]
  },
  {
   "cell_type": "code",
   "execution_count": null,
   "metadata": {},
   "outputs": [],
   "source": [
    "struct Atmosphere\n",
    "    core\n",
    "    tracers\n",
    "end\n",
    "\n",
    "struct AtmosCore{N}\n",
    "    ρ::AbstractField\n",
    "    U::AbstractField{<:SVector{N}}\n",
    "    E::AbstractField\n",
    "    subscale\n",
    "end\n",
    "\n",
    "struct Ocean\n",
    "    core::OceanCore\n",
    "    tracers::Tracers\n",
    "end\n",
    "\n",
    "mutable struct Steppable\n",
    "    state\n",
    "    stepper\n",
    "    dt\n",
    "    t\n",
    "    callbacks\n",
    "end\n",
    "\n",
    "function update!(s::Steppable, t)\n",
    "    for i in 1:ceil((t - t(state)) / dt(state))\n",
    "        s.state = s.stepper(s.state, dt)\n",
    "        do_callbacks(state, niters(state))\n",
    "        do_other_interesting_per_loop_stuff\n",
    "    end\n",
    "end\n",
    "\n",
    "function step!(atm::Atmosphere, dt)\n",
    "    update!(atm.core, dt(clm))\n",
    "    update!(atm.tracers, atm.core, dt(clm))\n",
    "end\n",
    "    \n",
    "function step!(atm::AtmosCore, dt)\n",
    "    #update the atmospheric core\n",
    "    update!(atm.subscale, dt)\n",
    "    atm.core.rhs += rhs(atm.subscale)\n",
    "end"
   ]
  },
  {
   "cell_type": "markdown",
   "metadata": {},
   "source": [
    "### Dycore Control"
   ]
  },
  {
   "cell_type": "code",
   "execution_count": null,
   "metadata": {},
   "outputs": [],
   "source": [
    "runner = AD.Runner(mpicomm,\n",
    "                   #Space Discretization and Parameters\n",
    "                   :VanillaEuler,\n",
    "                   (DFloat = DFloat,\n",
    "                    DeviceArray = backend,\n",
    "                    meshgenerator = (part, numparts) ->\n",
    "                    meshgenerator(part, numparts, Ne, dim,\n",
    "                                  DFloat),\n",
    "                    dim = dim,\n",
    "                    gravity = false,\n",
    "                    N = N,\n",
    "                   ),\n",
    "                   # Time Discretization and Parameters\n",
    "                   :LSRK,\n",
    "                   (),\n",
    "                  )\n",
    "\n",
    "# Set the initial condition with a function\n",
    "AD.initspacestate!(runner, host=true) do (x...)\n",
    "  isentropicvortex(DFloat(timeinitial), x...)\n",
    "end\n",
    "\n",
    "base_dt = 1e-3\n",
    "nsteps = ceil(Int64, timeend / base_dt)\n",
    "dt = timeend / nsteps\n",
    "\n",
    "# Set the time step\n",
    "AD.inittimestate!(runner, dt)\n",
    "\n",
    "eng0 = AD.L2solutionnorm(runner; host=true)\n",
    "# mpirank == 0 && @show eng0\n",
    "\n",
    "cberr =\n",
    "  AD.GenericCallbacks.EveryXWallTimeSeconds(2, mpicomm) do\n",
    "    err = AD.L2errornorm(runner, isentropicvortex; host=true)\n",
    "    println(io, \"VanillaEuler with errnorm2(Q) = \", err, \" at time = \",\n",
    "            AD.solutiontime(runner))\n",
    "  end\n",
    "\n",
    "AD.run!(runner; numberofsteps=nsteps, callbacks=(cbinfo, cbvtk,\n",
    "                                                 cberr))"
   ]
  }
 ],
 "metadata": {
  "kernelspec": {
   "display_name": "Julia 1.0.0",
   "language": "julia",
   "name": "julia-1.0"
  },
  "language_info": {
   "file_extension": ".jl",
   "mimetype": "application/julia",
   "name": "julia",
   "version": "1.0.0"
  }
 },
 "nbformat": 4,
 "nbformat_minor": 2
}
