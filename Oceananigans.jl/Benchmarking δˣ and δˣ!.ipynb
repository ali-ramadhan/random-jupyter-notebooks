{
 "cells": [
  {
   "cell_type": "code",
   "execution_count": 1,
   "metadata": {},
   "outputs": [],
   "source": [
    "using BenchmarkTools"
   ]
  },
  {
   "cell_type": "code",
   "execution_count": 41,
   "metadata": {},
   "outputs": [
    {
     "name": "stderr",
     "output_type": "stream",
     "text": [
      "WARNING: redefining constant Nx\n",
      "WARNING: redefining constant Ny\n",
      "WARNING: redefining constant Nz\n"
     ]
    },
    {
     "data": {
      "text/plain": [
       "200"
      ]
     },
     "execution_count": 41,
     "metadata": {},
     "output_type": "execute_result"
    }
   ],
   "source": [
    "const Nx = 200\n",
    "const Ny = 200\n",
    "const Nz = 200"
   ]
  },
  {
   "cell_type": "code",
   "execution_count": 42,
   "metadata": {},
   "outputs": [
    {
     "data": {
      "text/plain": [
       "δˣ (generic function with 1 method)"
      ]
     },
     "execution_count": 42,
     "metadata": {},
     "output_type": "execute_result"
    }
   ],
   "source": [
    "δˣ(f) = (f .- circshift(f, (1, 0, 0)))"
   ]
  },
  {
   "cell_type": "code",
   "execution_count": 43,
   "metadata": {},
   "outputs": [
    {
     "data": {
      "text/plain": [
       "δˣ!! (generic function with 1 method)"
      ]
     },
     "execution_count": 43,
     "metadata": {},
     "output_type": "execute_result"
    }
   ],
   "source": [
    "@inline incmod1(a, n) = a == n ? one(a) : a + 1\n",
    "@inline decmod1(a, n) = a == 1 ? n : a - 1\n",
    "\n",
    "function δˣ!(f, δˣf)\n",
    "    for k in 1:Nz, j in 1:Ny, i in 1:Nx\n",
    "      @inbounds δˣf[i, j, k] = f[i, j, k] - f[decmod1(i, Nx), j, k]\n",
    "    end\n",
    "end\n",
    "\n",
    "function δˣ!!(f, δˣf)\n",
    "    for i in 1:Nx, j in 1:Ny, k in 1:Nz\n",
    "      @inbounds δˣf[i, j, k] = f[i, j, k] - f[decmod1(i, Nx), j, k]\n",
    "    end\n",
    "end"
   ]
  },
  {
   "cell_type": "code",
   "execution_count": 44,
   "metadata": {},
   "outputs": [
    {
     "data": {
      "text/plain": [
       "test_circ (generic function with 2 methods)"
      ]
     },
     "execution_count": 44,
     "metadata": {},
     "output_type": "execute_result"
    }
   ],
   "source": [
    "function test_circ(Nx, Ny, Nz, n)\n",
    "    A = reshape(collect(0:Nx*Ny*Nz-1), (Nx, Ny, Nz))\n",
    "    for i in 1:n; δˣ(A); end\n",
    "    nothing\n",
    "end"
   ]
  },
  {
   "cell_type": "code",
   "execution_count": 45,
   "metadata": {},
   "outputs": [
    {
     "data": {
      "text/plain": [
       "test_bang (generic function with 1 method)"
      ]
     },
     "execution_count": 45,
     "metadata": {},
     "output_type": "execute_result"
    }
   ],
   "source": [
    "function test_bang(Nx, Ny, Nz, n)\n",
    "    A = reshape(collect(0:Nx*Ny*Nz-1), (Nx, Ny, Nz))\n",
    "    B = zeros((Nx, Ny, Nz))\n",
    "    for i in 1:n; δˣ!(A, B); end\n",
    "    nothing\n",
    "end"
   ]
  },
  {
   "cell_type": "code",
   "execution_count": 46,
   "metadata": {},
   "outputs": [
    {
     "data": {
      "text/plain": [
       "test_bangbang (generic function with 1 method)"
      ]
     },
     "execution_count": 46,
     "metadata": {},
     "output_type": "execute_result"
    }
   ],
   "source": [
    "function test_bangbang(Nx, Ny, Nz, n)\n",
    "    A = reshape(collect(0:Nx*Ny*Nz-1), (Nx, Ny, Nz))\n",
    "    B = zeros((Nx, Ny, Nz))\n",
    "    δˣ!!(A, B)\n",
    "    nothing\n",
    "end"
   ]
  },
  {
   "cell_type": "code",
   "execution_count": 47,
   "metadata": {},
   "outputs": [
    {
     "name": "stdout",
     "output_type": "stream",
     "text": [
      "  74.726 ms (26 allocations: 183.11 MiB)\n"
     ]
    }
   ],
   "source": [
    "@btime test_circ(Nx, Ny, Nz)"
   ]
  },
  {
   "cell_type": "code",
   "execution_count": 48,
   "metadata": {},
   "outputs": [
    {
     "name": "stdout",
     "output_type": "stream",
     "text": [
      "  0.154005 seconds (46.25 k allocations: 124.400 MiB, 13.91% gc time)\n"
     ]
    }
   ],
   "source": [
    "@time test_bang(Nz, Ny, Nz, 3)"
   ]
  },
  {
   "cell_type": "code",
   "execution_count": 49,
   "metadata": {},
   "outputs": [
    {
     "name": "stdout",
     "output_type": "stream",
     "text": [
      "  0.188071 seconds (35.70 k allocations: 123.874 MiB, 10.41% gc time)\n"
     ]
    }
   ],
   "source": [
    "@time test_bangbang(Nz, Ny, Nz, 3)"
   ]
  },
  {
   "cell_type": "code",
   "execution_count": 50,
   "metadata": {},
   "outputs": [],
   "source": [
    "A = reshape(collect(0:Nx*Ny*Nz-1), (Nx, Ny, Nz));\n",
    "B = zeros((Nx, Ny, Nz));"
   ]
  },
  {
   "cell_type": "code",
   "execution_count": 51,
   "metadata": {},
   "outputs": [
    {
     "name": "stdout",
     "output_type": "stream",
     "text": [
      "  54.556 ms (22 allocations: 122.07 MiB)\n"
     ]
    }
   ],
   "source": [
    "@btime δˣ($A);"
   ]
  },
  {
   "cell_type": "code",
   "execution_count": 52,
   "metadata": {},
   "outputs": [
    {
     "name": "stdout",
     "output_type": "stream",
     "text": [
      "  16.862 ms (0 allocations: 0 bytes)\n"
     ]
    }
   ],
   "source": [
    "@btime δˣ!($A, $B)"
   ]
  },
  {
   "cell_type": "code",
   "execution_count": 53,
   "metadata": {},
   "outputs": [
    {
     "name": "stdout",
     "output_type": "stream",
     "text": [
      "  92.987 ms (0 allocations: 0 bytes)\n"
     ]
    }
   ],
   "source": [
    "@btime δˣ!!($A, $B)"
   ]
  },
  {
   "cell_type": "code",
   "execution_count": 54,
   "metadata": {},
   "outputs": [
    {
     "data": {
      "text/plain": [
       "δˣb! (generic function with 1 method)"
      ]
     },
     "execution_count": 54,
     "metadata": {},
     "output_type": "execute_result"
    }
   ],
   "source": [
    "function δˣb!(f, δˣf)\n",
    "    for k in 1:Nz, j in 1:Ny, i in 1:Nx\n",
    "      δˣf[i, j, k] = f[i, j, k] - f[decmod1(i, Nx), j, k]\n",
    "    end\n",
    "end"
   ]
  },
  {
   "cell_type": "code",
   "execution_count": 55,
   "metadata": {},
   "outputs": [
    {
     "name": "stdout",
     "output_type": "stream",
     "text": [
      "  19.870 ms (0 allocations: 0 bytes)\n"
     ]
    }
   ],
   "source": [
    "@btime δˣb!($A, $B)"
   ]
  },
  {
   "cell_type": "code",
   "execution_count": 58,
   "metadata": {},
   "outputs": [
    {
     "data": {
      "text/plain": [
       "true"
      ]
     },
     "execution_count": 58,
     "metadata": {},
     "output_type": "execute_result"
    }
   ],
   "source": [
    "δˣ(A) == B"
   ]
  },
  {
   "cell_type": "code",
   "execution_count": 60,
   "metadata": {},
   "outputs": [
    {
     "data": {
      "text/plain": [
       "DataType"
      ]
     },
     "execution_count": 60,
     "metadata": {},
     "output_type": "execute_result"
    }
   ],
   "source": [
    "typeof(Float64)"
   ]
  },
  {
   "cell_type": "code",
   "execution_count": 61,
   "metadata": {},
   "outputs": [
    {
     "ename": "UndefVarError",
     "evalue": "UndefVarError: g not defined",
     "output_type": "error",
     "traceback": [
      "UndefVarError: g not defined",
      "",
      "Stacktrace:",
      " [1] top-level scope at In[61]:1"
     ]
    }
   ],
   "source": [
    "g"
   ]
  },
  {
   "cell_type": "code",
   "execution_count": null,
   "metadata": {
    "collapsed": true
   },
   "outputs": [],
   "source": []
  }
 ],
 "metadata": {
  "kernelspec": {
   "display_name": "Julia 1.0.0",
   "language": "julia",
   "name": "julia-1.0"
  },
  "language_info": {
   "file_extension": ".jl",
   "mimetype": "application/julia",
   "name": "julia",
   "version": "1.0.0"
  }
 },
 "nbformat": 4,
 "nbformat_minor": 2
}
