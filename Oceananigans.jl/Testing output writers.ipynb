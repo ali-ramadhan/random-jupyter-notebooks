{
 "cells": [
  {
   "cell_type": "code",
   "execution_count": 1,
   "metadata": {},
   "outputs": [],
   "source": [
    "using Pkg\n",
    "# cd(\"D:\\\\Home\\\\Git\\\\Oceananigans.jl\")\n",
    "# cd(\"C:\\\\Users\\\\Ali\\\\Documents\\\\Git\\\\Oceananigans.jl\\\\\")\n",
    "cd(\"/home/gridsan/aramadhan/Oceananigans.jl/\")\n",
    "Pkg.activate(\".\");"
   ]
  },
  {
   "cell_type": "code",
   "execution_count": 2,
   "metadata": {},
   "outputs": [],
   "source": [
    "using Oceananigans"
   ]
  },
  {
   "cell_type": "code",
   "execution_count": 3,
   "metadata": {},
   "outputs": [
    {
     "name": "stdout",
     "output_type": "stream",
     "text": [
      "Planning Fourier transforms... (planner_flag=FFTW.PATIENT)\n",
      "FFT!:    0.810180 seconds (44 allocations: 3.031 KiB)\n",
      "IFFT!:   0.833096 seconds (16.84 k allocations: 733.125 KiB)\n",
      "DCT!:    0.189930 seconds (11.51 k allocations: 596.992 KiB)\n",
      "IDCT!:   0.184277 seconds (10.94 k allocations: 560.945 KiB)\n"
     ]
    }
   ],
   "source": [
    "Nx, Ny, Nz = 100, 100, 50\n",
    "Lx, Ly, Lz = 2000, 2000, 1000\n",
    "model = Model((Nx, Ny, Nz), (Lx, Ly, Lz));"
   ]
  },
  {
   "cell_type": "code",
   "execution_count": null,
   "metadata": {},
   "outputs": [],
   "source": [
    "using Serialization"
   ]
  },
  {
   "cell_type": "code",
   "execution_count": null,
   "metadata": {},
   "outputs": [],
   "source": [
    "model.ssp = nothing\n",
    "@time serialize(\"model.jlser\", model)"
   ]
  },
  {
   "cell_type": "code",
   "execution_count": null,
   "metadata": {},
   "outputs": [],
   "source": [
    "filesize(\"model.jlser\") / 1024^2"
   ]
  },
  {
   "cell_type": "code",
   "execution_count": null,
   "metadata": {},
   "outputs": [],
   "source": [
    "@time model2 = deserialize(\"model.jlser\");  # This seg faults when reading the FFTW plans."
   ]
  },
  {
   "cell_type": "code",
   "execution_count": 4,
   "metadata": {},
   "outputs": [],
   "source": [
    "import JLD"
   ]
  },
  {
   "cell_type": "code",
   "execution_count": 6,
   "metadata": {},
   "outputs": [
    {
     "name": "stdout",
     "output_type": "stream",
     "text": [
      "  8.488431 seconds (29.10 M allocations: 1.331 GiB, 6.69% gc time)\n"
     ]
    }
   ],
   "source": [
    "model.ssp = nothing\n",
    "@time begin\n",
    "    f = JLD.jldopen(\"model3.jld\", \"w\")\n",
    "    JLD.@write f model\n",
    "    close(f)\n",
    "end"
   ]
  },
  {
   "cell_type": "code",
   "execution_count": 7,
   "metadata": {},
   "outputs": [
    {
     "data": {
      "text/plain": [
       "190.9367551803589"
      ]
     },
     "execution_count": 7,
     "metadata": {},
     "output_type": "execute_result"
    }
   ],
   "source": [
    "filesize(\"model3.jld\") / 1024^2"
   ]
  },
  {
   "cell_type": "code",
   "execution_count": 8,
   "metadata": {},
   "outputs": [
    {
     "name": "stdout",
     "output_type": "stream",
     "text": [
      "  0.346759 seconds (2.11 M allocations: 67.080 MiB, 5.63% gc time)\n"
     ]
    }
   ],
   "source": [
    "@time begin\n",
    "    f = JLD.jldopen(\"model_compressed.jld\", \"w\", compress=true)\n",
    "    JLD.@write f model\n",
    "    close(f)\n",
    "end"
   ]
  },
  {
   "cell_type": "code",
   "execution_count": 9,
   "metadata": {},
   "outputs": [
    {
     "data": {
      "text/plain": [
       "2.0384092330932617"
      ]
     },
     "execution_count": 9,
     "metadata": {},
     "output_type": "execute_result"
    }
   ],
   "source": [
    "filesize(\"model_compressed.jld\") / 1024^2"
   ]
  },
  {
   "cell_type": "code",
   "execution_count": 11,
   "metadata": {},
   "outputs": [
    {
     "name": "stdout",
     "output_type": "stream",
     "text": [
      "  0.365751 seconds (12.15 k allocations: 191.317 MiB, 53.48% gc time)\n"
     ]
    }
   ],
   "source": [
    "@time begin\n",
    "    f = JLD.jldopen(\"model_compressed.jld\", \"r\")\n",
    "    model3 = read(f, \"model\");\n",
    "    close(f)\n",
    "end"
   ]
  },
  {
   "cell_type": "code",
   "execution_count": 21,
   "metadata": {},
   "outputs": [],
   "source": [
    "using NetCDF"
   ]
  },
  {
   "cell_type": "code",
   "execution_count": 37,
   "metadata": {},
   "outputs": [
    {
     "data": {
      "text/plain": [
       "262144"
      ]
     },
     "execution_count": 37,
     "metadata": {},
     "output_type": "execute_result"
    }
   ],
   "source": [
    "xC = collect(model.grid.xC)\n",
    "yC = collect(model.grid.yC)\n",
    "zC = collect(model.grid.zC)\n",
    "xF = collect(model.grid.xF)\n",
    "yF = collect(model.grid.yF)\n",
    "zF = collect(model.grid.zF)\n",
    "\n",
    "xC_attr = Dict(\"longname\" => \"Locations of the cell centers in the x-direction.\", \"units\" => \"m\")\n",
    "yC_attr = Dict(\"longname\" => \"Locations of the cell centers in the y-direction.\", \"units\" => \"m\")\n",
    "zC_attr = Dict(\"longname\" => \"Locations of the cell centers in the z-direction.\", \"units\" => \"m\")\n",
    "xF_attr = Dict(\"longname\" => \"Locations of the cell faces in the x-direction.\", \"units\" => \"m\")\n",
    "yF_attr = Dict(\"longname\" => \"Locations of the cell faces in the y-direction.\", \"units\" => \"m\")\n",
    "zF_attr = Dict(\"longname\" => \"Locations of the cell faces in the z-direction.\", \"units\" => \"m\")\n",
    "\n",
    "T_attr = Dict(\"longname\" => \"Temperature\", \"units\" => \"K\")\n",
    "u_attr = Dict(\"longname\" => \"Velocity in the x-direction\", \"units\" => \"m/s\")\n",
    "\n",
    "nc_filename = \"deep_convection.nc\"\n",
    "isfile(nc_filename) && rm(nc_filename)\n",
    "\n",
    "nccreate(nc_filename, \"T\", \"xC\", xC, xC_attr, \"yC\", yC, yC_attr, \"zC\", zC, zC_attr, atts=T_attr, compress=5)\n",
    "ncwrite(model.tracers.T.data, nc_filename, \"T\")\n",
    "\n",
    "nccreate(nc_filename, \"u\", \"xF\", xF, xF_attr, \"yC\", yC, yC_attr, \"zC\", zC, zC_attr, atts=u_attr, compress=5)\n",
    "ncwrite(model.velocities.u.data, nc_filename, \"u\")\n",
    "\n",
    "ncclose(nc_filename)"
   ]
  },
  {
   "cell_type": "code",
   "execution_count": 38,
   "metadata": {},
   "outputs": [
    {
     "data": {
      "text/plain": [
       "\n",
       "##### NetCDF File #####\n",
       "\n",
       "/home/gridsan/aramadhan/Oceananigans.jl/deep_convection.nc\n",
       "\n",
       "##### Dimensions #####\n",
       "\n",
       "Name                                                Length                    \n",
       "--------------------------------------------------------------------------------\n",
       "zC                                                  50                        \n",
       "xC                                                  100                       \n",
       "xF                                                  101                       \n",
       "yC                                                  100                       \n",
       "\n",
       "##### Variables #####\n",
       "\n",
       "Name                            Type            Dimensions                      \n",
       "\n",
       "##### Attributes #####\n",
       "\n",
       "Variable            Name                Value                                   \n",
       "--------------------------------------------------------------------------------\n",
       "zC                  units               m                                       \n",
       "zC                  longname            Locations of the cell centers in the z..\n",
       "xC                  units               m                                       \n",
       "xC                  longname            Locations of the cell centers in the x..\n",
       "T                   units               K                                       \n",
       "T                   longname            Temperature                             \n",
       "u                   units               m/s                                     \n",
       "u                   longname            Velocity in the x-direction             \n",
       "xF                  units               m                                       \n",
       "xF                  longname            Locations of the cell faces in the x-d..\n",
       "yC                  units               m                                       \n",
       "yC                  longname            Locations of the cell centers in the y..\n"
      ]
     },
     "execution_count": 38,
     "metadata": {},
     "output_type": "execute_result"
    },
    {
     "name": "stdout",
     "output_type": "stream",
     "text": [
      "--------------------------------------------------------------------------------\n",
      "zC                              DOUBLE          zC                              \n",
      "xC                              DOUBLE          xC                              \n",
      "T                               DOUBLE          xC yC zC                        \n",
      "u                               DOUBLE          xF yC zC                        \n",
      "xF                              DOUBLE          xF                              \n",
      "yC                              DOUBLE          yC                              \n"
     ]
    }
   ],
   "source": [
    "ncinfo(nc_filename)"
   ]
  },
  {
   "cell_type": "code",
   "execution_count": 34,
   "metadata": {},
   "outputs": [
    {
     "ename": "InexactError",
     "evalue": "InexactError: trunc(Int32, 8589934592)",
     "output_type": "error",
     "traceback": [
      "InexactError: trunc(Int32, 8589934592)",
      "",
      "Stacktrace:",
      " [1] throw_inexacterror(::Symbol, ::Any, ::Int64) at ./boot.jl:583",
      " [2] checked_trunc_sint at ./boot.jl:605 [inlined]",
      " [3] toInt32 at ./boot.jl:642 [inlined]",
      " [4] Type at ./boot.jl:732 [inlined]",
      " [5] convert at ./number.jl:7 [inlined]",
      " [6] setindex! at ./array.jl:767 [inlined]",
      " [7] copyto!(::IndexLinear, ::Array{Int32,1}, ::IndexLinear, ::Array{Int64,1}) at ./abstractarray.jl:753",
      " [8] Type at ./abstractarray.jl:745 [inlined]",
      " [9] convert at ./array.jl:474 [inlined]",
      " [10] NcVar{Float64,3,6}(::Int64, ::Int64, ::Int64, ::Int64, ::Int64, ::String, ::Array{Int64,1}, ::Array{NcDim,1}, ::Dict{String,String}, ::Int64, ::Tuple{Int32,Int32,Int32}) at /home/gridsan/aramadhan/.julia/packages/NetCDF/61OwG/src/NetCDF.jl:113",
      " [11] NcVar(::String, ::Array{NcDim,1}, ::Dict{String,String}, ::DataType) at /home/gridsan/aramadhan/.julia/packages/NetCDF/61OwG/src/NetCDF.jl:146",
      " [12] top-level scope at In[34]:19"
     ]
    }
   ],
   "source": [
    "xC = collect(model.grid.xC)\n",
    "yC = collect(model.grid.yC)\n",
    "zC = collect(model.grid.zC)\n",
    "xF = collect(model.grid.xF)\n",
    "yF = collect(model.grid.yF)\n",
    "zF = collect(model.grid.zF)\n",
    "\n",
    "xC_attr = Dict(\"longname\" => \"Locations of the cell centers in the x-direction.\", \"units\" => \"meters\")\n",
    "yC_attr = Dict(\"longname\" => \"Locations of the cell centers in the y-direction.\", \"units\" => \"meters\")\n",
    "zC_attr = Dict(\"longname\" => \"Locations of the cell centers in the z-direction.\", \"units\" => \"meters\")\n",
    "xF_attr = Dict(\"longname\" => \"Locations of the cell faces in the x-direction.\", \"units\" => \"meters\")\n",
    "yF_attr = Dict(\"longname\" => \"Locations of the cell faces in the y-direction.\", \"units\" => \"meters\")\n",
    "zF_attr = Dict(\"longname\" => \"Locations of the cell faces in the z-direction.\", \"units\" => \"meters\")\n",
    "\n",
    "T_attr = Dict(\"longname\" => \"Temperature\", \"units\" => \"degrees Kelvin\")\n",
    "\n",
    "xC_dim = NcDim(\"xC\", xC, xC_attr)\n",
    "yC_dim = NcDim(\"yC\", yC, yC_attr)\n",
    "zC_dim = NcDim(\"zC\", zC, zC_attr)\n",
    "xF_dim = NcDim(\"xF\", xF, xF_attr)\n",
    "yF_dim = NcDim(\"yF\", yF, yF_attr)\n",
    "zF_dim = NcDim(\"zF\", zF, zF_attr)\n",
    "\n",
    "T_var = NcVar(\"T\", [xC_dim, yC_dim, zC_dim], T_attr, eltype(model.tracers.T.data))\n",
    "\n",
    "nc_filename = \"deep_convection.nc\"\n",
    "isfile(nc_filename) && rm(nc_filename)\n",
    "\n",
    "nc = NetCDF.create(\"deep_convection_low.nc\", T_var)\n",
    "NetCDF.putvar(nc, \"T\", model.tracers.T.data)\n",
    "NetCDF.close(nc)"
   ]
  },
  {
   "cell_type": "code",
   "execution_count": 28,
   "metadata": {},
   "outputs": [
    {
     "data": {
      "text/plain": [
       "Float64"
      ]
     },
     "execution_count": 28,
     "metadata": {},
     "output_type": "execute_result"
    }
   ],
   "source": [
    "eltype(model.tracers.T.data)"
   ]
  },
  {
   "cell_type": "code",
   "execution_count": null,
   "metadata": {},
   "outputs": [],
   "source": []
  }
 ],
 "metadata": {
  "kernelspec": {
   "display_name": "Julia 1.1.0",
   "language": "julia",
   "name": "julia-1.1"
  },
  "language_info": {
   "file_extension": ".jl",
   "mimetype": "application/julia",
   "name": "julia",
   "version": "1.1.0"
  }
 },
 "nbformat": 4,
 "nbformat_minor": 2
}
