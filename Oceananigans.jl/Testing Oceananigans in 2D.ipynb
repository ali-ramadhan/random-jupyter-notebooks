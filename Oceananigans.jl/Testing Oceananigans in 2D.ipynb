{
 "cells": [
  {
   "cell_type": "code",
   "execution_count": 5,
   "metadata": {},
   "outputs": [],
   "source": [
    "using Pkg\n",
    "cd(\"D:\\\\Home\\\\Git\\\\Oceananigans.jl\")\n",
    "# cd(\"C:\\\\Users\\\\Ali\\\\Documents\\\\Git\\\\Oceananigans.jl\\\\\")\n",
    "Pkg.activate(\".\");"
   ]
  },
  {
   "cell_type": "code",
   "execution_count": 18,
   "metadata": {},
   "outputs": [],
   "source": [
    "using Statistics, Printf\n",
    "using Oceananigans, Oceananigans.Operators"
   ]
  },
  {
   "cell_type": "code",
   "execution_count": 27,
   "metadata": {},
   "outputs": [
    {
     "name": "stdout",
     "output_type": "stream",
     "text": [
      "\u001b[32m\u001b[1m   Testing\u001b[22m\u001b[39m Oceananigans\n",
      "\u001b[32m\u001b[1m Resolving\u001b[22m\u001b[39m package versions...\n",
      "Test Summary: | Pass  Total\n",
      "Oceananigans  |  313    313\n",
      "\u001b[32m\u001b[1m   Testing\u001b[22m\u001b[39m Oceananigans tests passed \n"
     ]
    }
   ],
   "source": [
    "Pkg.test(\"Oceananigans\")"
   ]
  },
  {
   "cell_type": "code",
   "execution_count": 15,
   "metadata": {},
   "outputs": [
    {
     "data": {
      "text/plain": [
       "laplacian3d_ppn (generic function with 1 method)"
      ]
     },
     "execution_count": 15,
     "metadata": {},
     "output_type": "execute_result"
    }
   ],
   "source": [
    "@inline incmod1(a, n) = a == n ? one(a) : a + 1\n",
    "@inline decmod1(a, n) = a == 1 ? n : a - 1\n",
    "\n",
    "function laplacian3d_ppn(f)\n",
    "    Nx, Ny, Nz = size(f)\n",
    "    ∇²f = zeros(Nx, Ny, Nz)\n",
    "    for k in 2:(Nz-1), j in 1:Ny, i in 1:Nx\n",
    "       ∇²f[i, j, k] = f[incmod1(i, Nx), j, k] + f[decmod1(i, Nx), j, k] + f[i, incmod1(j, Ny), k] + f[i, decmod1(j, Ny), k] + f[i, j, k+1] + f[i, j, k-1] - 6*f[i, j, k]\n",
    "    end\n",
    "    for j in 1:Ny, i in 1:Nx\n",
    "        ∇²f[i, j,   1] = -(f[i, j,     1] - f[i, j,   2]) + f[incmod1(i, Nx), j,   1] + f[decmod1(i, Nx), j,   1] + f[i, incmod1(j, Ny),   1] + f[i, decmod1(j, Ny),   1] - 4*f[i, j,   1]\n",
    "        ∇²f[i, j, end] =  (f[i, j, end-1] - f[i, j, end]) + f[incmod1(i, Nx), j, end] + f[decmod1(i, Nx), j, end] + f[i, incmod1(j, Ny), end] + f[i, decmod1(j, Ny), end] - 4*f[i, j, end]\n",
    "    end\n",
    "    ∇²f\n",
    "end"
   ]
  },
  {
   "cell_type": "code",
   "execution_count": 16,
   "metadata": {},
   "outputs": [
    {
     "data": {
      "text/plain": [
       "true"
      ]
     },
     "execution_count": 16,
     "metadata": {},
     "output_type": "execute_result"
    }
   ],
   "source": [
    "Nx, Ny, Nz = 10, 1, 10\n",
    "f = rand(Nx, Ny, Nz)\n",
    "f .= f .- mean(f)\n",
    "ϕ = solve_poisson_3d_ppn(f, Nx, Ny, Nz, 1, 1, 1)\n",
    "laplacian3d_ppn(ϕ) ≈ f"
   ]
  },
  {
   "cell_type": "code",
   "execution_count": null,
   "metadata": {},
   "outputs": [],
   "source": [
    "# g =  RegularCartesianGrid((10, 1, 10), (2000, 2000, 1000), Float64)"
   ]
  },
  {
   "cell_type": "code",
   "execution_count": 20,
   "metadata": {},
   "outputs": [
    {
     "data": {
      "text/plain": [
       "ρ (generic function with 1 method)"
      ]
     },
     "execution_count": 20,
     "metadata": {},
     "output_type": "execute_result"
    }
   ],
   "source": [
    "include(\"src/operators/operators_old.jl\")\n",
    "include(\"src/equation_of_state.jl\")"
   ]
  },
  {
   "cell_type": "code",
   "execution_count": 21,
   "metadata": {},
   "outputs": [],
   "source": [
    "A3 = rand(10, 10, 10);\n",
    "A2 = A3[:, 1:1, :];"
   ]
  },
  {
   "cell_type": "code",
   "execution_count": 22,
   "metadata": {},
   "outputs": [
    {
     "name": "stdout",
     "output_type": "stream",
     "text": [
      "slice == δˣf2c(A2) = true\n",
      "slice == δˣc2f(A2) = true\n",
      "slice == δʸf2c(A2) = false\n",
      "slice == δʸc2f(A2) = false\n",
      "slice == δᶻf2c(A2) = true\n",
      "slice == δᶻc2f(A2) = true\n"
     ]
    }
   ],
   "source": [
    "slice = δˣf2c(A3)[:, 1:1, :]; @show slice == δˣf2c(A2);\n",
    "slice = δˣc2f(A3)[:, 1:1, :]; @show slice == δˣc2f(A2);\n",
    "slice = δʸf2c(A3)[:, 1:1, :]; @show slice == δʸf2c(A2);  # Should be zero. zeros(Nx, Ny, Nz)\n",
    "slice = δʸc2f(A3)[:, 1:1, :]; @show slice == δʸc2f(A2);  # Should be zero. zeros(Nx, Ny, Nz)\n",
    "slice = δᶻf2c(A3)[:, 1:1, :]; @show slice == δᶻf2c(A2);\n",
    "slice = δᶻc2f(A3)[:, 1:1, :]; @show slice == δᶻc2f(A2);"
   ]
  },
  {
   "cell_type": "code",
   "execution_count": 23,
   "metadata": {},
   "outputs": [
    {
     "name": "stdout",
     "output_type": "stream",
     "text": [
      "slice == avgˣf2c(A2) = true\n",
      "slice == avgˣc2f(A2) = true\n",
      "slice == avgʸc2f(A2) = false\n",
      "slice == avgʸc2f(A2) = false\n",
      "avgʸf2c(A2) == A2 = true\n",
      "avgʸc2f(A2) == A2 = true\n",
      "slice == avgᶻf2c(A2) = true\n",
      "slice == avgᶻc2f(A2) = true\n"
     ]
    }
   ],
   "source": [
    "slice = avgˣf2c(A3)[:, 1:1, :]; @show slice == avgˣf2c(A2);\n",
    "slice = avgˣc2f(A3)[:, 1:1, :]; @show slice == avgˣc2f(A2);\n",
    "slice = avgʸc2f(A3)[:, 1:1, :]; @show slice == avgʸc2f(A2);\n",
    "slice = avgʸc2f(A3)[:, 1:1, :]; @show slice == avgʸc2f(A2);\n",
    "slice = avgʸc2f(A3)[:, 1:1, :]; @show avgʸf2c(A2) == A2;\n",
    "slice = avgʸc2f(A3)[:, 1:1, :]; @show avgʸc2f(A2) == A2;\n",
    "slice = avgᶻf2c(A3)[:, 1:1, :]; @show slice == avgᶻf2c(A2);\n",
    "slice = avgᶻc2f(A3)[:, 1:1, :]; @show slice == avgᶻc2f(A2);"
   ]
  },
  {
   "cell_type": "code",
   "execution_count": 30,
   "metadata": {},
   "outputs": [],
   "source": [
    "const NumType = Float64  # Number data type.\n",
    "const g = 9.80665  # Standard acceleration due to gravity [m/s²].\n",
    "const χ = 0.1  # Adams-Bashforth (AB2) parameter.\n",
    "\n",
    "Nˣ, Nʸ, Nᶻ = 100, 1, 100\n",
    "Lˣ, Lʸ, Lᶻ = 2000, 2000, 2000  # Domain size [m].\n",
    "\n",
    "Nᵗ = 18000\n",
    "Δt = 5  # Time step [s].\n",
    "\n",
    "Δx, Δy, Δz = Lˣ/Nˣ, Lʸ/Nʸ, Lᶻ/Nᶻ  # Grid spacing [m].\n",
    "Aˣ, Aʸ, Aᶻ = Δy*Δz, Δx*Δz, Δx*Δy  # Cell face areas [m²].\n",
    "V = Δx*Δy*Δz  # Volume of a cell [m³].\n",
    "M = ρ₀*V  # Mass of water in a cell [kg].\n",
    "\n",
    "xC = Δx/2:Δx:Lˣ\n",
    "yC = Δy/2:Δy:Lʸ\n",
    "zC = -Δz/2:-Δz:-Lᶻ\n",
    "\n",
    "uⁿ = Array{NumType, 3}(undef, Nˣ, Nʸ, Nᶻ)  # Velocity in x-direction [m/s].\n",
    "vⁿ = Array{NumType, 3}(undef, Nˣ, Nʸ, Nᶻ)  # Velocity in y-direction [m/s].\n",
    "wⁿ = Array{NumType, 3}(undef, Nˣ, Nʸ, Nᶻ)  # Velocity in z-direction [m/s].\n",
    "Tⁿ = Array{NumType, 3}(undef, Nˣ, Nʸ, Nᶻ)  # Potential temperature [K].\n",
    "Sⁿ = Array{NumType, 3}(undef, Nˣ, Nʸ, Nᶻ)  # Salinity [g/kg].\n",
    "pʰʸ = Array{NumType, 3}(undef, Nˣ, Nʸ, Nᶻ) # Hydrostatic pressure [Pa].\n",
    "pⁿ = Array{NumType, 3}(undef, Nˣ, Nʸ, Nᶻ)  # Pressure [Pa].\n",
    "ρⁿ = Array{NumType, 3}(undef, Nˣ, Nʸ, Nᶻ)  # Density [kg/m³].\n",
    "\n",
    "Gᵘⁿ = Array{NumType, 3}(undef, Nˣ, Nʸ, Nᶻ)\n",
    "Gᵛⁿ = Array{NumType, 3}(undef, Nˣ, Nʸ, Nᶻ)\n",
    "Gʷⁿ = Array{NumType, 3}(undef, Nˣ, Nʸ, Nᶻ)\n",
    "Gᵀⁿ = Array{NumType, 3}(undef, Nˣ, Nʸ, Nᶻ)\n",
    "Gˢⁿ = Array{NumType, 3}(undef, Nˣ, Nʸ, Nᶻ)\n",
    "\n",
    "Gᵘⁿ⁻¹ = Array{NumType, 3}(undef, Nˣ, Nʸ, Nᶻ)\n",
    "Gᵛⁿ⁻¹ = Array{NumType, 3}(undef, Nˣ, Nʸ, Nᶻ)\n",
    "Gʷⁿ⁻¹ = Array{NumType, 3}(undef, Nˣ, Nʸ, Nᶻ)\n",
    "Gᵀⁿ⁻¹ = Array{NumType, 3}(undef, Nˣ, Nʸ, Nᶻ)\n",
    "Gˢⁿ⁻¹ = Array{NumType, 3}(undef, Nˣ, Nʸ, Nᶻ)\n",
    "\n",
    "Gᵘⁿ⁺ʰ = Array{NumType, 3}(undef, Nˣ, Nʸ, Nᶻ)\n",
    "Gᵛⁿ⁺ʰ = Array{NumType, 3}(undef, Nˣ, Nʸ, Nᶻ)\n",
    "Gʷⁿ⁺ʰ = Array{NumType, 3}(undef, Nˣ, Nʸ, Nᶻ)\n",
    "Gᵀⁿ⁺ʰ = Array{NumType, 3}(undef, Nˣ, Nʸ, Nᶻ)\n",
    "Gˢⁿ⁺ʰ = Array{NumType, 3}(undef, Nˣ, Nʸ, Nᶻ)\n",
    "\n",
    "pʰʸ′ = Array{NumType, 3}(undef, Nˣ, Nʸ, Nᶻ)\n",
    "pⁿʰ⁺ˢ = Array{NumType, 3}(undef, Nˣ, Nʸ, Nᶻ)\n",
    "g′ = Array{NumType, 3}(undef, Nˣ, Nʸ, Nᶻ)\n",
    "δρ = Array{NumType, 3}(undef, Nˣ, Nʸ, Nᶻ);"
   ]
  },
  {
   "cell_type": "code",
   "execution_count": 31,
   "metadata": {},
   "outputs": [],
   "source": [
    "uⁿ .= 0; vⁿ .= 0; wⁿ .= 0; Sⁿ .= 35;\n",
    "\n",
    "# Tⁿ = repeat(reshape(T_ref, 1, 1, 50), Nˣ, Nʸ, 1)\n",
    "Tⁿ .= 283\n",
    "\n",
    "pHY_profile = [-ρ₀*g*h for h in zC]\n",
    "pʰʸ = repeat(reshape(pHY_profile, 1, 1, Nᶻ), Nˣ, Nʸ, 1)\n",
    "pⁿ = copy(pʰʸ)  # Initial pressure is just the hydrostatic pressure.\n",
    "\n",
    "ρⁿ .= ρ.(Tⁿ, Sⁿ, pⁿ);\n",
    "\n",
    "Tⁿ[Int(Nˣ/2)-2:Int(Nˣ/2)+2, 1, 10-2:10+2] .= 283.1;"
   ]
  },
  {
   "cell_type": "code",
   "execution_count": 32,
   "metadata": {},
   "outputs": [],
   "source": [
    "# # PyPlot.pcolormesh( 0.2 * exp.(10*((xC .- Lˣ/2).^2 .+ (zC .+ Lᶻ/2)'.^2).^(-0.5)) ) ; PyPlot.colorbar();\n",
    "# ΔT = 0.05 * exp.(10*((xC .- Lˣ/2).^2 .+ (zC .+ Lᶻ/2)'.^2).^(-0.5))\n",
    "# ΔT = reshape(ΔT, (100, 1, 100))\n",
    "# Tⁿ .= Tⁿ .+ ΔT;\n",
    "# PyPlot.pcolormesh(Tⁿ[:, 1, :] .- 283) ; PyPlot.colorbar();"
   ]
  },
  {
   "cell_type": "code",
   "execution_count": 33,
   "metadata": {},
   "outputs": [],
   "source": [
    "ΔR = 10\n",
    "Ru = Array{NumType, 4}(undef, Int(Nᵗ/ΔR), Nˣ, Nʸ, Nᶻ)\n",
    "# Rv = Array{NumType, 4}(undef, Nᵗ, Nˣ, Nʸ, Nᶻ)\n",
    "Rw = Array{NumType, 4}(undef, Int(Nᵗ/ΔR), Nˣ, Nʸ, Nᶻ)\n",
    "RT = Array{NumType, 4}(undef, Int(Nᵗ/ΔR), Nˣ, Nʸ, Nᶻ)\n",
    "# RS = Array{NumType, 4}(undef, Nᵗ, Nˣ, Nʸ, Nᶻ)\n",
    "Rρ = Array{NumType, 4}(undef, Int(Nᵗ/ΔR), Nˣ, Nʸ, Nᶻ)\n",
    "# RpHY′ = Array{NumType, 4}(undef, Nᵗ, Nˣ, Nʸ, Nᶻ)\n",
    "RpNHS = Array{NumType, 4}(undef, Int(Nᵗ/ΔR), Nˣ, Nʸ, Nᶻ);"
   ]
  },
  {
   "cell_type": "code",
   "execution_count": 34,
   "metadata": {},
   "outputs": [
    {
     "data": {
      "text/plain": [
       "0.04"
      ]
     },
     "execution_count": 34,
     "metadata": {},
     "output_type": "execute_result"
    }
   ],
   "source": [
    "κʰ = 4e-2  # Horizontal Laplacian heat diffusion [m²/s]. diffKhT in MITgcm.\n",
    "κᵛ = 4e-2  # Vertical Laplacian heat diffusion [m²/s]. diffKzT in MITgcm."
   ]
  },
  {
   "cell_type": "code",
   "execution_count": 35,
   "metadata": {},
   "outputs": [
    {
     "data": {
      "text/plain": [
       "time_stepping (generic function with 1 method)"
      ]
     },
     "execution_count": 35,
     "metadata": {},
     "output_type": "execute_result"
    }
   ],
   "source": [
    "function time_stepping(uⁿ, vⁿ, wⁿ, Tⁿ, Sⁿ, pⁿ, pʰʸ, pʰʸ′, pⁿʰ⁺ˢ, g′, ρⁿ, δρ, Gᵘⁿ, Gᵛⁿ, Gʷⁿ, Gᵀⁿ, Gˢⁿ, Gᵘⁿ⁻¹, Gᵛⁿ⁻¹, Gʷⁿ⁻¹, Gᵀⁿ⁻¹, Gˢⁿ⁻¹, Gᵘⁿ⁺ʰ, Gᵛⁿ⁺ʰ, Gʷⁿ⁺ʰ, Gᵀⁿ⁺ʰ, Gˢⁿ⁺ʰ)\n",
    "    for n in 1:Nᵗ\n",
    "        # Calculate new density and density deviation.\n",
    "        @. δρ = ρ(Tⁿ, Sⁿ, pⁿ) - ρ₀\n",
    "        @. ρⁿ = ρ₀ + δρ\n",
    "        \n",
    "        δρ̅ᶻ = avgᶻc2f(δρ)\n",
    "        for j in 1:Nʸ, i in 1:Nˣ\n",
    "          pʰʸ′[i, j, 1] = δρ[i, j, 1] * g * Δz / 2\n",
    "        end\n",
    "        for k in 2:Nᶻ, j in 1:Nʸ, i in 1:Nˣ\n",
    "          pʰʸ′[i, j, k] = pʰʸ′[i, j, k-1] + (δρ̅ᶻ[i, j, k] * g * Δz)\n",
    "        end\n",
    "        \n",
    "        Gᵘⁿ⁻¹ = Gᵘⁿ; Gᵛⁿ⁻¹ = Gᵛⁿ; Gʷⁿ⁻¹ = Gʷⁿ; Gᵀⁿ⁻¹ = Gᵀⁿ; Gˢⁿ⁻¹ = Gˢⁿ;\n",
    "\n",
    "        Gᵘⁿ .= -(1/Δx) .* δˣc2f(pʰʸ′ ./ ρ₀) .+ 𝜈ʰ∇²u(uⁿ)\n",
    "        Gᵛⁿ .= -(1/Δy) .* δʸc2f(pʰʸ′ ./ ρ₀) .+ 𝜈ʰ∇²v(vⁿ)\n",
    "        Gʷⁿ .= 𝜈ᵛ∇²w(wⁿ)\n",
    "        Gᵀⁿ .= -div_flux_f2c(uⁿ, vⁿ, wⁿ, Tⁿ) .+ κ∇²(Tⁿ)\n",
    "        Gˢⁿ .= -div_flux_f2c(uⁿ, vⁿ, wⁿ, Sⁿ) .+ κ∇²(Sⁿ)\n",
    "        \n",
    "        @. begin\n",
    "            Gᵘⁿ⁺ʰ = (3/2 + χ)*Gᵘⁿ - (1/2 + χ)*Gᵘⁿ⁻¹\n",
    "            Gᵛⁿ⁺ʰ = (3/2 + χ)*Gᵛⁿ - (1/2 + χ)*Gᵛⁿ⁻¹\n",
    "            Gʷⁿ⁺ʰ = (3/2 + χ)*Gʷⁿ - (1/2 + χ)*Gʷⁿ⁻¹\n",
    "            Gᵀⁿ⁺ʰ = (3/2 + χ)*Gᵀⁿ - (1/2 + χ)*Gᵀⁿ⁻¹\n",
    "            Gˢⁿ⁺ʰ = (3/2 + χ)*Gˢⁿ - (1/2 + χ)*Gˢⁿ⁻¹\n",
    "        end\n",
    "        \n",
    "        RHS = div_f2c(Gᵘⁿ⁺ʰ, Gᵛⁿ⁺ʰ, Gʷⁿ⁺ʰ)  # Right hand side or source term.\n",
    "        pⁿʰ⁺ˢ = solve_poisson_3d_ppn(RHS, Nˣ, Nʸ, Nᶻ, Δx, Δy, Δz)\n",
    "        \n",
    "#         RHS_rec = laplacian3d_ppn(pⁿʰ⁺ˢ) ./ (Δx)^2  # TODO: This assumes Δx == Δy == Δz.\n",
    "#         error = RHS_rec .- RHS\n",
    "#         @info begin\n",
    "#             string(\"Fourier-spectral solver diagnostics:\\n\",\n",
    "#                     @sprintf(\"RHS:     min=%.6g, max=%.6g, mean=%.6g, absmean=%.6g, std=%.6g\\n\", minimum(RHS), maximum(RHS), mean(RHS), mean(abs.(RHS)), std(RHS)),\n",
    "#                     @sprintf(\"RHS_rec: min=%.6g, max=%.6g, mean=%.6g, absmean=%.6g, std=%.6g\\n\", minimum(RHS_rec), maximum(RHS_rec), mean(RHS_rec), mean(abs.(RHS_rec)), std(RHS_rec)),\n",
    "#                     @sprintf(\"error:   min=%.6g, max=%.6g, mean=%.6g, absmean=%.6g, std=%.6g\\n\", minimum(error), maximum(error), mean(error), mean(abs.(error)), std(error))\n",
    "#                     )\n",
    "#         end\n",
    "        \n",
    "        @. pⁿ = pʰʸ′ + pⁿʰ⁺ˢ\n",
    "\n",
    "        uⁿ .= uⁿ .+ ( Gᵘⁿ⁺ʰ .- (1/Δx) .* δˣc2f(pⁿʰ⁺ˢ) ) .* Δt\n",
    "        vⁿ .= vⁿ .+ ( Gᵛⁿ⁺ʰ .- (1/Δy) .* δʸc2f(pⁿʰ⁺ˢ) ) .* Δt\n",
    "        wⁿ .= wⁿ .+ ( Gʷⁿ⁺ʰ .- (1/Δz) .* δᶻc2f(pⁿʰ⁺ˢ) ) .* Δt\n",
    "\n",
    "        @. Sⁿ = Sⁿ + (Gˢⁿ⁺ʰ * Δt)\n",
    "        @. Tⁿ = Tⁿ + (Gᵀⁿ⁺ʰ * Δt)\n",
    "        \n",
    "        div_u1 = div_f2c(uⁿ, vⁿ, wⁿ)\n",
    "        \n",
    "        if n % ΔR == 0\n",
    "            print(\"\\rt=$(n*Δt)/$(Nᵗ*Δt)\")\n",
    "#             @info begin\n",
    "#             string(\"Time: $(n*Δt)\\n\",\n",
    "#                    @sprintf(\"uⁿ:   min=%.6g, max=%.6g, mean=%.6g, absmean=%.6g, std=%.6g\\n\", minimum(uⁿ), maximum(uⁿ), mean(uⁿ), mean(abs.(uⁿ)), std(uⁿ)),\n",
    "#                    @sprintf(\"vⁿ:   min=%.6g, max=%.6g, mean=%.6g, absmean=%.6g, std=%.6g\\n\", minimum(vⁿ), maximum(vⁿ), mean(vⁿ), mean(abs.(vⁿ)), std(vⁿ)),\n",
    "#                    @sprintf(\"wⁿ:   min=%.6g, max=%.6g, mean=%.6g, absmean=%.6g, std=%.6g\\n\", minimum(wⁿ), maximum(wⁿ), mean(wⁿ), mean(abs.(wⁿ)), std(wⁿ)),\n",
    "#                    @sprintf(\"Tⁿ:   min=%.6g, max=%.6g, mean=%.6g, absmean=%.6g, std=%.6g\\n\", minimum(Tⁿ), maximum(Tⁿ), mean(Tⁿ), mean(abs.(Tⁿ)), std(Tⁿ)),\n",
    "#                    @sprintf(\"Sⁿ:   min=%.6g, max=%.6g, mean=%.6g, absmean=%.6g, std=%.6g\\n\", minimum(Sⁿ), maximum(Sⁿ), mean(Sⁿ), mean(abs.(Sⁿ)), std(Sⁿ)),\n",
    "#                    @sprintf(\"pʰʸ:  min=%.6g, max=%.6g, mean=%.6g, absmean=%.6g, std=%.6g\\n\", minimum(pʰʸ), maximum(pʰʸ), mean(pʰʸ), mean(abs.(pʰʸ)), std(pʰʸ)),\n",
    "#                    @sprintf(\"pʰʸ′: min=%.6g, max=%.6g, mean=%.6g, absmean=%.6g, std=%.6g\\n\", minimum(pʰʸ′), maximum(pʰʸ′), mean(pʰʸ′), mean(abs.(pʰʸ′)), std(pʰʸ′)),\n",
    "#                    @sprintf(\"pⁿʰ⁺ˢ:min=%.6g, max=%.6g, mean=%.6g, absmean=%.6g, std=%.6g\\n\", minimum(pⁿʰ⁺ˢ), maximum(pⁿʰ⁺ˢ), mean(pⁿʰ⁺ˢ), mean(abs.(pⁿʰ⁺ˢ)), std(pⁿʰ⁺ˢ)),\n",
    "#                    @sprintf(\"pⁿ:   min=%.6g, max=%.6g, mean=%.6g, absmean=%.6g, std=%.6g\\n\", minimum(pⁿ), maximum(pⁿ), mean(pⁿ), mean(abs.(pⁿ)), std(pⁿ)),\n",
    "#                    @sprintf(\"ρⁿ:   min=%.6g, max=%.6g, mean=%.6g, absmean=%.6g, std=%.6g\\n\", minimum(ρⁿ), maximum(ρⁿ), mean(ρⁿ), mean(abs.(ρⁿ)), std(ρⁿ)),\n",
    "#                    @sprintf(\"δρ:   min=%.6g, max=%.6g, mean=%.6g, absmean=%.6g, std=%.6g\\n\", minimum(δρ), maximum(δρ), mean(δρ), mean(abs.(δρ)), std(δρ)),\n",
    "#                    @sprintf(\"∇⋅u1:  min=%.6g, max=%.6g, mean=%.6g, absmean=%.6g, std=%.6g\\n\", minimum(div_u1), maximum(div_u1), mean(div_u1), mean(abs.(div_u1)), std(div_u1))\n",
    "#                   )\n",
    "#             end  # @info\n",
    "\n",
    "            Ridx = Int(n/ΔR)\n",
    "            Ru[Ridx, :, :, :] = copy(uⁿ)\n",
    "            # Rv[n, :, :, :] = copy(vⁿ)\n",
    "            Rw[Ridx, :, :, :] = copy(wⁿ)\n",
    "            RT[Ridx, :, :, :] = copy(Tⁿ)\n",
    "            # RS[n, :, :, :] = copy(Sⁿ)\n",
    "            Rρ[Ridx, :, :, :] = copy(ρⁿ)\n",
    "            # RpHY′[n, :, :, :] = copy(pʰʸ′)\n",
    "            RpNHS[Ridx, :, :, :] = copy(pⁿʰ⁺ˢ)\n",
    "        end\n",
    "    end\n",
    "end"
   ]
  },
  {
   "cell_type": "code",
   "execution_count": 36,
   "metadata": {},
   "outputs": [
    {
     "name": "stdout",
     "output_type": "stream",
     "text": [
      "t=90000/90000167.469982 seconds (2.01 G allocations: 216.644 GiB, 15.41% gc time)\n"
     ]
    }
   ],
   "source": [
    "@time time_stepping(uⁿ, vⁿ, wⁿ, Tⁿ, Sⁿ, pⁿ, pʰʸ, pʰʸ′, pⁿʰ⁺ˢ, g′, ρⁿ, δρ, Gᵘⁿ, Gᵛⁿ, Gʷⁿ, Gᵀⁿ, Gˢⁿ, Gᵘⁿ⁻¹, Gᵛⁿ⁻¹, Gʷⁿ⁻¹, Gᵀⁿ⁻¹, Gˢⁿ⁻¹, Gᵘⁿ⁺ʰ, Gᵛⁿ⁺ʰ, Gʷⁿ⁺ʰ, Gᵀⁿ⁺ʰ, Gˢⁿ⁺ʰ)"
   ]
  },
  {
   "cell_type": "code",
   "execution_count": 28,
   "metadata": {},
   "outputs": [
    {
     "data": {
      "text/html": [
       "    <script id=\"webio-setup-1648960208355222539\">\n",
       "    // Immediately-invoked-function-expression to avoid global variables.\n",
       "    (function() {\n",
       "        var warning_div = document.getElementById(\"webio-warning-9601071237488781995\");\n",
       "        var hide = function () {\n",
       "            var script = document.getElementById(\"webio-setup-1648960208355222539\");\n",
       "            var parent = script && script.parentElement;\n",
       "            var grandparent = parent && parent.parentElement;\n",
       "            if (grandparent) {\n",
       "                grandparent.style.display = \"none\";\n",
       "            }\n",
       "            warning_div.style.display = \"none\";\n",
       "        };\n",
       "        if (window.require && require.defined) {\n",
       "            // Jupyter notebook.\n",
       "            if (require.defined(\"nbextensions/webio/main\")\n",
       "                    || require.defined(\"/assetserver/28f5f30a59da434290b7f09bd0d0ddea74a5f34e-dist/main.js\")) {\n",
       "                // Extension already loaded.\n",
       "                hide();\n",
       "                return;\n",
       "            }\n",
       "            console.warn(\"Loading WebIO Jupyter extension on an ad-hoc basis. Consider enabling the WebIO nbextension for a stabler experience (this should happen automatically when building WebIO).\");\n",
       "            require([\"/assetserver/28f5f30a59da434290b7f09bd0d0ddea74a5f34e-dist/main.js\"], function (webIOModule) {\n",
       "                webIOModule.load_ipython_extension();\n",
       "            });\n",
       "            warning_div.innerHTML = \"<strong>Loading WebIO Jupyter extension on an ad-hoc basis. Consider enabling the WebIO nbextension for a stabler experience (this should happen automatically when building WebIO).</strong>\";\n",
       "        } else if (window.location.pathname.includes(\"/lab\")) {\n",
       "            // Guessing JupyterLab\n",
       "            warning_div.innerHTML = \"WebIO does not support JupyterLab yet.\";\n",
       "        }\n",
       "    })();\n",
       "    </script>\n",
       "    <div\n",
       "        id=\"webio-warning-9601071237488781995\"\n",
       "        class=\"output_text output_stderr\"\n",
       "        style=\"padding: 1em; font-weight: bold;\"\n",
       "    >\n",
       "        Unable to load WebIO. Please make sure WebIO works for your Jupyter client.\n",
       "        <!-- TODO: link to installation docs. -->\n",
       "    </div>\n"
      ],
      "text/plain": [
       "HTML{String}(\"    <script id=\\\"webio-setup-1648960208355222539\\\">\\n    // Immediately-invoked-function-expression to avoid global variables.\\n    (function() {\\n        var warning_div = document.getElementById(\\\"webio-warning-9601071237488781995\\\");\\n        var hide = function () {\\n            var script = document.getElementById(\\\"webio-setup-1648960208355222539\\\");\\n            var parent = script && script.parentElement;\\n            var grandparent = parent && parent.parentElement;\\n            if (grandparent) {\\n                grandparent.style.display = \\\"none\\\";\\n            }\\n            warning_div.style.display = \\\"none\\\";\\n        };\\n        if (window.require && require.defined) {\\n            // Jupyter notebook.\\n            if (require.defined(\\\"nbextensions/webio/main\\\")\\n                    || require.defined(\\\"/assetserver/28f5f30a59da434290b7f09bd0d0ddea74a5f34e-dist/main.js\\\")) {\\n                // Extension already loaded.\\n                hide();\\n                return;\\n            }\\n            console.warn(\\\"Loading WebIO Jupyter extension on an ad-hoc basis. Consider enabling the WebIO nbextension for a stabler experience (this should happen automatically when building WebIO).\\\");\\n            require([\\\"/assetserver/28f5f30a59da434290b7f09bd0d0ddea74a5f34e-dist/main.js\\\"], function (webIOModule) {\\n                webIOModule.load_ipython_extension();\\n            });\\n            warning_div.innerHTML = \\\"<strong>Loading WebIO Jupyter extension on an ad-hoc basis. Consider enabling the WebIO nbextension for a stabler experience (this should happen automatically when building WebIO).</strong>\\\";\\n        } else if (window.location.pathname.includes(\\\"/lab\\\")) {\\n            // Guessing JupyterLab\\n            warning_div.innerHTML = \\\"WebIO does not support JupyterLab yet.\\\";\\n        }\\n    })();\\n    </script>\\n    <div\\n        id=\\\"webio-warning-9601071237488781995\\\"\\n        class=\\\"output_text output_stderr\\\"\\n        style=\\\"padding: 1em; font-weight: bold;\\\"\\n    >\\n        Unable to load WebIO. Please make sure WebIO works for your Jupyter client.\\n        <!-- TODO: link to installation docs. -->\\n    </div>\\n\")"
      ]
     },
     "metadata": {},
     "output_type": "display_data"
    },
    {
     "name": "stderr",
     "output_type": "stream",
     "text": [
      "┌ Info: Recompiling stale cache file C:\\Users\\Ali\\.julia\\compiled\\v1.0\\Plots\\ld3vC.ji for Plots [91a5bcdd-55d7-5caf-9e0b-520d859cae80]\n",
      "└ @ Base loading.jl:1184\n"
     ]
    },
    {
     "data": {
      "text/plain": [
       "Plots.GRBackend()"
      ]
     },
     "execution_count": 28,
     "metadata": {},
     "output_type": "execute_result"
    }
   ],
   "source": [
    "import PyPlot\n",
    "using Interact, Plots\n",
    "Plots.gr()"
   ]
  },
  {
   "cell_type": "code",
   "execution_count": 29,
   "metadata": {},
   "outputs": [
    {
     "ename": "UndefVarError",
     "evalue": "UndefVarError: RT not defined",
     "output_type": "error",
     "traceback": [
      "UndefVarError: RT not defined",
      "",
      "Stacktrace:",
      " [1] top-level scope at In[29]:1"
     ]
    }
   ],
   "source": [
    "PyPlot.pcolormesh(xC, zC, rotr90(RT[1200, :, 1, :]) .- 283, vmin=-0.01, vmax=0.01, cmap=\"seismic\"); PyPlot.colorbar();"
   ]
  },
  {
   "cell_type": "code",
   "execution_count": 33,
   "metadata": {},
   "outputs": [
    {
     "name": "stderr",
     "output_type": "stream",
     "text": [
      "┌ Info: Saved animation to \n",
      "│   fn = C:\\Users\\Ali\\Documents\\Git\\Oceananigans.jl\\tracer.mp4\n",
      "└ @ Plots C:\\Users\\Ali\\.julia\\packages\\Plots\\y6yik\\src\\animation.jl:90\n"
     ]
    },
    {
     "data": {
      "text/html": [
       "<video controls><source src=\"tracer.mp4?0.7037190637550594>\" type=\"video/mp4\"></video>"
      ],
      "text/plain": [
       "Plots.AnimatedGif(\"C:\\\\Users\\\\Ali\\\\Documents\\\\Git\\\\Oceananigans.jl\\\\tracer.mp4\")"
      ]
     },
     "execution_count": 33,
     "metadata": {},
     "output_type": "execute_result"
    }
   ],
   "source": [
    "anim = @animate for tidx in 1:Int(Nᵗ/ΔR)\n",
    "    Plots.heatmap(xC, zC, rotl90(RT[tidx, :, 1, :]) .- 283, color=:balance,\n",
    "        clims=(-maximum(RT[tidx, :, 1, :] .- 283), maximum(RT[tidx, :, 1, :] .- 283)),\n",
    "        title=\"T change @ t=$(tidx*ΔR*Δt)\")\n",
    "end\n",
    "mp4(anim, \"tracer.mp4\", fps = 60)"
   ]
  },
  {
   "cell_type": "code",
   "execution_count": null,
   "metadata": {},
   "outputs": [],
   "source": [
    "Plots.heatmap(xC, zC, rotl90(RT[end, :, 1, :]) .- 283, clims=(-0.1, 0.1), color=:balance)"
   ]
  },
  {
   "cell_type": "code",
   "execution_count": null,
   "metadata": {},
   "outputs": [],
   "source": [
    "matshow(RT[end, :, 1, :])"
   ]
  },
  {
   "cell_type": "code",
   "execution_count": null,
   "metadata": {},
   "outputs": [],
   "source": [
    "sum(RT[10, :, 1, :] .- 283)"
   ]
  },
  {
   "cell_type": "code",
   "execution_count": null,
   "metadata": {},
   "outputs": [],
   "source": []
  }
 ],
 "metadata": {
  "kernelspec": {
   "display_name": "Julia 1.0.0",
   "language": "julia",
   "name": "julia-1.0"
  },
  "language_info": {
   "file_extension": ".jl",
   "mimetype": "application/julia",
   "name": "julia",
   "version": "1.0.0"
  }
 },
 "nbformat": 4,
 "nbformat_minor": 2
}
