{
 "cells": [
  {
   "cell_type": "code",
   "execution_count": 2,
   "metadata": {},
   "outputs": [],
   "source": [
    "using Pkg"
   ]
  },
  {
   "cell_type": "code",
   "execution_count": 3,
   "metadata": {},
   "outputs": [
    {
     "data": {
      "text/plain": [
       "\"D:\\\\Home\\\\Git\\\\Oceananigans.jl\\\\Project.toml\""
      ]
     },
     "execution_count": 3,
     "metadata": {},
     "output_type": "execute_result"
    }
   ],
   "source": [
    "cd(\"D:\\\\Home\\\\Git\\\\Oceananigans.jl\\\\\")\n",
    "pwd()\n",
    "Pkg.activate(\".\")"
   ]
  },
  {
   "cell_type": "code",
   "execution_count": 26,
   "metadata": {},
   "outputs": [],
   "source": [
    "using Oceananigans, Oceananigans.Operators, BenchmarkTools"
   ]
  },
  {
   "cell_type": "code",
   "execution_count": 18,
   "metadata": {},
   "outputs": [
    {
     "data": {
      "text/plain": [
       "TemporaryFields"
      ]
     },
     "execution_count": 18,
     "metadata": {},
     "output_type": "execute_result"
    }
   ],
   "source": [
    "abstract type FieldSet end\n",
    "\n",
    "struct VelocityFields <: FieldSet\n",
    "    u::FaceFieldX\n",
    "    v::FaceFieldY\n",
    "    w::FaceFieldZ\n",
    "end\n",
    "\n",
    "function VelocityFields(g, T=Float64)\n",
    "    u = FaceFieldX(g, T)\n",
    "    v = FaceFieldY(g, T)\n",
    "    w = FaceFieldZ(g, T)\n",
    "    VelocityFields(u, v, w)\n",
    "end\n",
    "\n",
    "struct TemporaryFields <: FieldSet\n",
    "    fC1::CellField\n",
    "    fC2::CellField\n",
    "    fC3::CellField\n",
    "    ffX::FaceFieldX\n",
    "    ffY::FaceFieldY\n",
    "    ffZ::FaceFieldZ\n",
    "end\n",
    "\n",
    "function TemporaryFields(g, T=Float64)\n",
    "    fC1 = CellField(g, T)\n",
    "    fC2 = CellField(g, T)\n",
    "    fC3 = CellField(g, T)\n",
    "    fFX = FaceFieldX(g, T)\n",
    "    fFY = FaceFieldY(g, T)\n",
    "    fFZ = FaceFieldZ(g, T)\n",
    "    TemporaryFields(fC1, fC2, fC3, fFX, fFY, fFZ)\n",
    "end"
   ]
  },
  {
   "cell_type": "code",
   "execution_count": 40,
   "metadata": {},
   "outputs": [
    {
     "data": {
      "text/plain": [
       "div2! (generic function with 1 method)"
      ]
     },
     "execution_count": 40,
     "metadata": {},
     "output_type": "execute_result"
    }
   ],
   "source": [
    "function div2!(g::RegularCartesianGrid, fx::FaceFieldX, fy::FaceFieldY, fz::FaceFieldZ, div::CellField, tmp::TemporaryFields)\n",
    "    δx!(g, fx, tmp.fC1)  # tmp.fC1 now stores δx(fx)\n",
    "    δy!(g, fy, tmp.fC2)  # tmp.fC2 now stores δy(fy)\n",
    "    δz!(g, fz, tmp.fC3)  # tmp.fC3 now stores δz(fz)\n",
    "    @. div.data = (1/g.V) * ( g.Ax * tmp.fC1.data + g.Ay * tmp.fC2.data + g.Az * tmp.fC3.data )\n",
    "    nothing\n",
    "end"
   ]
  },
  {
   "cell_type": "code",
   "execution_count": 41,
   "metadata": {},
   "outputs": [],
   "source": [
    "g = RegularCartesianGrid((100, 100, 100), (1000, 1000, 1000), Float64);\n",
    "U = VelocityFields(g);\n",
    "tmp = TemporaryFields(g);\n",
    "divv = CellField(g);"
   ]
  },
  {
   "cell_type": "code",
   "execution_count": 42,
   "metadata": {},
   "outputs": [
    {
     "data": {
      "text/plain": [
       "BenchmarkTools.Trial: \n",
       "  memory estimate:  78.63 KiB\n",
       "  allocs estimate:  20\n",
       "  --------------\n",
       "  minimum time:     4.337 ms (0.00% GC)\n",
       "  median time:      5.224 ms (0.00% GC)\n",
       "  mean time:        5.419 ms (0.26% GC)\n",
       "  maximum time:     11.681 ms (0.00% GC)\n",
       "  --------------\n",
       "  samples:          921\n",
       "  evals/sample:     1"
      ]
     },
     "execution_count": 42,
     "metadata": {},
     "output_type": "execute_result"
    }
   ],
   "source": [
    "@benchmark div2!(g, U.u, U.v, U.w, divv, tmp)"
   ]
  },
  {
   "cell_type": "code",
   "execution_count": 33,
   "metadata": {},
   "outputs": [
    {
     "data": {
      "text/plain": [
       "BenchmarkTools.Trial: \n",
       "  memory estimate:  0 bytes\n",
       "  allocs estimate:  0\n",
       "  --------------\n",
       "  minimum time:     1.092 ms (0.00% GC)\n",
       "  median time:      1.198 ms (0.00% GC)\n",
       "  mean time:        1.251 ms (0.00% GC)\n",
       "  maximum time:     2.605 ms (0.00% GC)\n",
       "  --------------\n",
       "  samples:          3975\n",
       "  evals/sample:     1"
      ]
     },
     "execution_count": 33,
     "metadata": {},
     "output_type": "execute_result"
    }
   ],
   "source": [
    "@benchmark δx!(g, U.u, tmp.fC1)"
   ]
  },
  {
   "cell_type": "code",
   "execution_count": 43,
   "metadata": {},
   "outputs": [
    {
     "data": {
      "text/plain": [
       "div3! (generic function with 1 method)"
      ]
     },
     "execution_count": 43,
     "metadata": {},
     "output_type": "execute_result"
    }
   ],
   "source": [
    "function div3!(g::RegularCartesianGrid, fx::FaceFieldX, fy::FaceFieldY, fz::FaceFieldZ, div::CellField, tmp::TemporaryFields)\n",
    "    δxfx = CellField(g)\n",
    "    δyfy = CellField(g)\n",
    "    δzfz = CellField(g)\n",
    "    δx!(g, fx, δxfx)\n",
    "    δy!(g, fy, δyfy)\n",
    "    δz!(g, fz, δzfz)\n",
    "    @. div.data = (1/g.V) * ( g.Ax * δxfx.data + g.Ay * δyfy.data + g.Az * δzfz.data )\n",
    "    nothing\n",
    "end"
   ]
  },
  {
   "cell_type": "code",
   "execution_count": 44,
   "metadata": {},
   "outputs": [
    {
     "data": {
      "text/plain": [
       "BenchmarkTools.Trial: \n",
       "  memory estimate:  22.97 MiB\n",
       "  allocs estimate:  35\n",
       "  --------------\n",
       "  minimum time:     15.457 ms (3.53% GC)\n",
       "  median time:      16.652 ms (22.98% GC)\n",
       "  mean time:        16.909 ms (23.03% GC)\n",
       "  maximum time:     22.654 ms (17.79% GC)\n",
       "  --------------\n",
       "  samples:          296\n",
       "  evals/sample:     1"
      ]
     },
     "execution_count": 44,
     "metadata": {},
     "output_type": "execute_result"
    }
   ],
   "source": [
    "@benchmark div3!(g, U.u, U.v, U.w, divv, tmp)"
   ]
  },
  {
   "cell_type": "code",
   "execution_count": null,
   "metadata": {},
   "outputs": [],
   "source": []
  }
 ],
 "metadata": {
  "kernelspec": {
   "display_name": "Julia 1.0.0",
   "language": "julia",
   "name": "julia-1.0"
  },
  "language_info": {
   "file_extension": ".jl",
   "mimetype": "application/julia",
   "name": "julia",
   "version": "1.0.0"
  }
 },
 "nbformat": 4,
 "nbformat_minor": 2
}
