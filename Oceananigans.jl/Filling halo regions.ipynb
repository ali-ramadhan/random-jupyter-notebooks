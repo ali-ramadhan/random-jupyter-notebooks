{
 "cells": [
  {
   "cell_type": "code",
   "execution_count": null,
   "metadata": {},
   "outputs": [],
   "source": [
    "using Pkg\n",
    "cd(\"/home/gridsan/aramadhan/Oceananigans.jl/\")\n",
    "Pkg.activate(\".\");"
   ]
  },
  {
   "cell_type": "code",
   "execution_count": null,
   "metadata": {},
   "outputs": [],
   "source": [
    "import GPUifyLoops\n",
    "using GPUifyLoops: @launch, @loop, @unroll, @synchronize\n",
    "using Oceananigans\n",
    "using CUDAnative"
   ]
  },
  {
   "cell_type": "code",
   "execution_count": null,
   "metadata": {},
   "outputs": [],
   "source": [
    "function fill_halo_regions!(grid::Grid, fields...)\n",
    "    Nx, Ny, Nz = grid.Nx, grid.Ny, grid.Nz  # Number of grid points.\n",
    "    Hx, Hy, Hz = grid.Hx, grid.Hy, grid.Hz  # Size of halo regions.\n",
    "    \n",
    "    for f in fields\n",
    "        for k in 1:Nz\n",
    "            for j in 1:Ny\n",
    "                for h in 1:Hx\n",
    "                    f[1-h,  j, k] = f[Nx-h+1, j, k]\n",
    "                    f[Nx+h, j, k] = f[h,      j, k]\n",
    "                end\n",
    "            end\n",
    "            for i in 1:Nx\n",
    "                for h in 1:Hy\n",
    "                    f[i, 1-h,  k] = f[i, Ny-h+1, k]\n",
    "                    f[i, Ny+h, k] = f[i,      h, k]\n",
    "                end\n",
    "            end\n",
    "        end\n",
    "    end\n",
    "end"
   ]
  },
  {
   "cell_type": "code",
   "execution_count": null,
   "metadata": {},
   "outputs": [],
   "source": [
    "function fill_halo_regions_x!(grid::RegularCartesianGrid, fields...)\n",
    "    Nx, Ny, Nz = grid.Nx, grid.Ny, grid.Nz  # Number of grid points.\n",
    "    Hx, Hy, Hz = grid.Hx, grid.Hy, grid.Hz  # Size of halo regions.\n",
    "    \n",
    "    @loop for k in (1:Nz; blockIdx().z)\n",
    "        @loop for j in (1:Ny; (blockIdx().y - 1) * blockDim().y + threadIdx().y)\n",
    "            @unroll for f in fields\n",
    "                @unroll for h in 1:Hx\n",
    "                    f[1-h,  j, k] = f[Nx-h+1, j, k]\n",
    "                    f[Nx+h, j, k] = f[h,      j, k]\n",
    "                end\n",
    "            end\n",
    "        end\n",
    "    end\n",
    "    \n",
    "    @synchronize\n",
    "end"
   ]
  },
  {
   "cell_type": "code",
   "execution_count": null,
   "metadata": {},
   "outputs": [],
   "source": [
    "function fill_halo_regions_y!(grid::Grid, fields...)\n",
    "    Nx, Ny, Nz = grid.Nx, grid.Ny, grid.Nz  # Number of grid points.\n",
    "    Hx, Hy, Hz = grid.Hx, grid.Hy, grid.Hz  # Size of halo regions.\n",
    "    \n",
    "    @loop for k in (1:Nz; blockIdx().z)\n",
    "        @loop for i in (1:grid.Nx; (blockIdx().x - 1) * blockDim().x + threadIdx().x)\n",
    "            @unroll for f in fields\n",
    "                @unroll for h in 1:Hx\n",
    "                    f[i,  1-h, k] = f[i, Ny-h+1, k]\n",
    "                    f[i, Ny+h, k] = f[i,      h, k]\n",
    "                end\n",
    "            end\n",
    "        end\n",
    "    end\n",
    "    \n",
    "    @synchronize\n",
    "end"
   ]
  },
  {
   "cell_type": "code",
   "execution_count": null,
   "metadata": {},
   "outputs": [],
   "source": [
    "Nx, Ny, Nz = 5, 5, 5\n",
    "model = Model(N=(Nx, Ny, Nz), L=(100, 100, 100));"
   ]
  },
  {
   "cell_type": "code",
   "execution_count": null,
   "metadata": {},
   "outputs": [],
   "source": [
    "T, S = model.tracers.T.data, model.tracers.S.data\n",
    "T .= 0\n",
    "S .= 0\n",
    "@views T[1:Nx, 1:Ny, 1:Nz] .= rand.()\n",
    "@views S[1:Nx, 1:Ny, 1:Nz] .= rand.();"
   ]
  },
  {
   "cell_type": "code",
   "execution_count": null,
   "metadata": {},
   "outputs": [],
   "source": [
    "T;"
   ]
  },
  {
   "cell_type": "code",
   "execution_count": null,
   "metadata": {},
   "outputs": [],
   "source": [
    "fill_halo_regions_x!(model.grid, T, S)"
   ]
  },
  {
   "cell_type": "code",
   "execution_count": null,
   "metadata": {},
   "outputs": [],
   "source": [
    "S"
   ]
  },
  {
   "cell_type": "code",
   "execution_count": null,
   "metadata": {},
   "outputs": [],
   "source": [
    "Nx, Ny, Nz = 5, 5, 5\n",
    "model = Model(N=(Nx, Ny, Nz), L=(100, 100, 100), arch=GPU());"
   ]
  },
  {
   "cell_type": "code",
   "execution_count": null,
   "metadata": {},
   "outputs": [],
   "source": [
    "max_threads = 1024\n",
    "\n",
    "Tx  = min(max_threads, Nx)\n",
    "Ty  = min(fld(max_threads, Tx), Ny)\n",
    "Tz  = min(fld(max_threads, Tx*Ty), Nz)\n",
    "\n",
    "Bx, By, Bz = cld(Nx, Tx), cld(Ny, Ty), cld(Nz, Tz)\n",
    "\n",
    "@show Tx, Ty, Tz\n",
    "@show Bx, By, Bz;"
   ]
  },
  {
   "cell_type": "code",
   "execution_count": null,
   "metadata": {},
   "outputs": [],
   "source": [
    "T = model.tracers.T.data"
   ]
  },
  {
   "cell_type": "code",
   "execution_count": null,
   "metadata": {},
   "outputs": [],
   "source": [
    "@launch device(GPU()) fill_halo_regions_x!(model.grid, model.tracers.T.data, threads=(Tx, Ty, Tz), blocks=(Bx, By, Bz))"
   ]
  },
  {
   "cell_type": "code",
   "execution_count": null,
   "metadata": {},
   "outputs": [],
   "source": [
    "function fill_halo_regions_x!(Nx, Ny, Nz, f)    \n",
    "    @loop for k in (1:Nz; blockIdx().z)\n",
    "        @loop for j in (1:Ny; (blockIdx().y - 1) * blockDim().y + threadIdx().y)\n",
    "            f[0,    j, k] = f[Nx, j, k]\n",
    "            f[Nx+1, j, k] = f[1, j, k]\n",
    "        end\n",
    "    end\n",
    "    \n",
    "    @synchronize\n",
    "end"
   ]
  },
  {
   "cell_type": "code",
   "execution_count": null,
   "metadata": {},
   "outputs": [],
   "source": [
    "using OffsetArrays\n",
    "using CuArrays"
   ]
  },
  {
   "cell_type": "code",
   "execution_count": null,
   "metadata": {},
   "outputs": [],
   "source": [
    "Nx, Ny, Nz = 5, 5, 5\n",
    "\n",
    "underlying_data = zeros(Nx+2, Ny+2, Nz)\n",
    "data = OffsetArray(underlying_data, 0:Nx+1, 0:Ny+1, 1:Nz)\n",
    "\n",
    "@. @views data[1:Nx, 1:Ny, 1:Nz] = rand();"
   ]
  },
  {
   "cell_type": "code",
   "execution_count": null,
   "metadata": {},
   "outputs": [],
   "source": [
    "@launch GPUifyLoops.CPU() fill_halo_regions_x!(Nx, Ny, Nz, data, threads=(Tx, Ty, Tz), blocks=(Bx, By, Bz))"
   ]
  },
  {
   "cell_type": "code",
   "execution_count": null,
   "metadata": {},
   "outputs": [],
   "source": [
    "data"
   ]
  },
  {
   "cell_type": "code",
   "execution_count": null,
   "metadata": {},
   "outputs": [],
   "source": [
    "underlying_data = CuArray(zeros(Nx+2, Ny+2, Nz))\n",
    "data = OffsetArray(underlying_data, 0:Nx+1, 0:Ny+1, 1:Nz)\n",
    "\n",
    "@. @views data[1:Nx, 1:Ny, 1:Nz] = rand();"
   ]
  },
  {
   "cell_type": "code",
   "execution_count": null,
   "metadata": {},
   "outputs": [],
   "source": [
    "@launch GPUifyLoops.CUDA() fill_halo_regions_x!(Nx, Ny, Nz, data, threads=(Tx, Ty, Tz), blocks=(Bx, By, Bz))"
   ]
  },
  {
   "cell_type": "code",
   "execution_count": null,
   "metadata": {},
   "outputs": [],
   "source": []
  }
 ],
 "metadata": {
  "kernelspec": {
   "display_name": "Julia 1.1.0",
   "language": "julia",
   "name": "julia-1.1"
  },
  "language_info": {
   "file_extension": ".jl",
   "mimetype": "application/julia",
   "name": "julia",
   "version": "1.1.0"
  }
 },
 "nbformat": 4,
 "nbformat_minor": 2
}
