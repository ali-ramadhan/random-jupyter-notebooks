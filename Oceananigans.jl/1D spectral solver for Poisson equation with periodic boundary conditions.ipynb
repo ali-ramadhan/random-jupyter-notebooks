{
 "cells": [
  {
   "cell_type": "code",
   "execution_count": 2,
   "metadata": {},
   "outputs": [
    {
     "data": {
      "text/html": [
       "    <script class='js-collapse-script'>\n",
       "        var curMatch =\n",
       "            window.location.href\n",
       "            .match(/(.*?)\\/notebooks\\/.*\\.ipynb/);\n",
       "\n",
       "        curMatch = curMatch ||\n",
       "            window.location.href\n",
       "            .match(/(.*?)\\/apps\\/.*\\.ipynb/);\n",
       "\n",
       "        if ( curMatch ) {\n",
       "            $('head').append('<base href=\"' + curMatch[1] + '/\">');\n",
       "        }\n",
       "    </script>\n"
      ],
      "text/plain": [
       "HTML{String}(\"    <script class='js-collapse-script'>\\n        var curMatch =\\n            window.location.href\\n            .match(/(.*?)\\\\/notebooks\\\\/.*\\\\.ipynb/);\\n\\n        curMatch = curMatch ||\\n            window.location.href\\n            .match(/(.*?)\\\\/apps\\\\/.*\\\\.ipynb/);\\n\\n        if ( curMatch ) {\\n            \\$('head').append('<base href=\\\"' + curMatch[1] + '/\\\">');\\n        }\\n    </script>\\n\")"
      ]
     },
     "metadata": {},
     "output_type": "display_data"
    },
    {
     "data": {
      "text/html": [
       "<script class='js-collapse-script' src='/assetserver/05a54a8cd5b6d9c9183d90a9a0f9abc6032d3417-assets/webio/dist/bundle.js'></script>"
      ],
      "text/plain": [
       "HTML{String}(\"<script class='js-collapse-script' src='/assetserver/05a54a8cd5b6d9c9183d90a9a0f9abc6032d3417-assets/webio/dist/bundle.js'></script>\")"
      ]
     },
     "metadata": {},
     "output_type": "display_data"
    },
    {
     "data": {
      "text/html": [
       "<script class='js-collapse-script' src='/assetserver/05a54a8cd5b6d9c9183d90a9a0f9abc6032d3417-assets/providers/ijulia_setup.js'></script>"
      ],
      "text/plain": [
       "HTML{String}(\"<script class='js-collapse-script' src='/assetserver/05a54a8cd5b6d9c9183d90a9a0f9abc6032d3417-assets/providers/ijulia_setup.js'></script>\")"
      ]
     },
     "metadata": {},
     "output_type": "display_data"
    },
    {
     "data": {
      "text/html": [
       "  <script class='js-collapse-script'>\n",
       "    $('.js-collapse-script').parent('.output_subarea').css('padding', '0');\n",
       "  </script>\n"
      ],
      "text/plain": [
       "HTML{String}(\"  <script class='js-collapse-script'>\\n    \\$('.js-collapse-script').parent('.output_subarea').css('padding', '0');\\n  </script>\\n\")"
      ]
     },
     "metadata": {},
     "output_type": "display_data"
    }
   ],
   "source": [
    "import FFTW\n",
    "\n",
    "using Interact\n",
    "using PyPlot"
   ]
  },
  {
   "cell_type": "code",
   "execution_count": 10,
   "metadata": {},
   "outputs": [
    {
     "data": {
      "text/plain": [
       "solve_poisson_1d_pbc (generic function with 2 methods)"
      ]
     },
     "execution_count": 10,
     "metadata": {},
     "output_type": "execute_result"
    }
   ],
   "source": [
    "# Solve a 1D Poisson equation ∇²ϕ = d²ϕ/dx² = f(x) with periodic boundary\n",
    "# conditions and domain length L using the Fourier-spectral method. Solutions to\n",
    "# Poisson's equation with periodic boundary conditions are unique up to a\n",
    "# constant so you may need to appropriately normalize the solution if you care\n",
    "# about the numerical value of the solution itself and not just derivatives of\n",
    "# the solution.\n",
    "function solve_poisson_1d_pbc(f, L, wavenumbers)\n",
    "    N = length(f)  # Number of grid points (excluding the periodic end point).\n",
    "    n = 0:N        # Wavenumber indices.\n",
    "\n",
    "    if wavenumbers == :second_order\n",
    "        # Wavenumbers if Laplacian is discretized using second-order\n",
    "        # centered-difference scheme. Gives second-order convergence and ensures\n",
    "        # that ∇²ϕ == f(x) to machine precision.\n",
    "        Δx = L / N\n",
    "        k² = @. (4 / Δx^2) * sin(π*n / N)^2\n",
    "    elseif wavenumbers == :analytic\n",
    "        # Wavenumbers if the derivatives are not discretized, should give\n",
    "        # spectral convergence so that ϕ is accurate but ∇²ϕ ≈ f(x) as the ∇²\n",
    "        # operator must be discretized.\n",
    "        k² = @. ((2*π / L) * n)^2\n",
    "    end\n",
    "\n",
    "    # Forward transform the real-valued source term.\n",
    "    fh = FFTW.rfft(f)\n",
    "\n",
    "    # Calculate the Fourier coefficients of the source term.\n",
    "    # We only need to compute the first (N-1)/2 + 1 Fourier coefficients\n",
    "    # as ϕh(N-i) = ϕh(i) for a real-valued f.\n",
    "    ϕh = - fh ./ k²[1:Int(N/2 + 1)]\n",
    "\n",
    "    # Setting the DC/zero Fourier component to zero.\n",
    "    ϕh[1] = 0\n",
    "\n",
    "    # Take the inverse transform of the . We need to specify that the input f\n",
    "    # had a length of N as an rrft of length N/2 may have come from an array\n",
    "    # of length N (if N is even) or N-1 (if N is odd).\n",
    "    ϕ = FFTW.irfft(ϕh, N)\n",
    "end"
   ]
  },
  {
   "cell_type": "code",
   "execution_count": 3,
   "metadata": {},
   "outputs": [
    {
     "data": {
      "image/png": "[encoded data removed]",
      "text/plain": [
       "Figure(PyObject <matplotlib.figure.Figure object at 0x00000000320C4BE0>)"
      ]
     },
     "metadata": {},
     "output_type": "display_data"
    }
   ],
   "source": [
    "H = 12\n",
    "Nz = 100\n",
    "Δz = H / Nz\n",
    "z = Δz * (0:(Nz-1))\n",
    "\n",
    "f = cos.(2*π*z ./ H)\n",
    "ϕs = -(H / (2π))^2 * cos.((2π / H) .* z)\n",
    "\n",
    "PyPlot.plot(z, f);"
   ]
  },
  {
   "cell_type": "code",
   "execution_count": 4,
   "metadata": {},
   "outputs": [
    {
     "data": {
      "text/plain": [
       "51-element Array{Complex{Float64},1}:\n",
       " -2.6645352591003757e-15 + 0.0im                   \n",
       "                    50.0 - 4.533509791047258e-15im \n",
       "   -2.29527681353744e-15 - 4.4356721081793526e-15im\n",
       "  2.8878224431804872e-15 - 3.88157458140812e-15im  \n",
       "   5.366937815981507e-15 + 2.3000803655732416e-15im\n",
       " -1.2891812564629638e-15 - 2.4218730928321553e-16im\n",
       " -2.4927320736835633e-15 - 4.547266848879591e-16im \n",
       "  -2.195846040186857e-17 + 2.350997288907644e-16im \n",
       "   1.605578720172921e-16 - 1.211658251011312e-15im \n",
       "  4.0400128819420574e-15 + 1.9586377435532932e-15im\n",
       "    9.13656946627439e-17 + 1.3869316562667265e-15im\n",
       " -1.1658071396441137e-15 + 1.295949624633798e-16im \n",
       "   -6.88405064177565e-16 - 2.554762762188651e-16im \n",
       "                         ⋮                         \n",
       " -2.5125022304515263e-15 + 8.02419359486236e-16im  \n",
       "  -9.733570534991373e-16 - 3.377707704043929e-15im \n",
       "  2.5125022304515263e-15 - 2.890652065502909e-15im \n",
       "  1.5268733983023799e-15 + 3.2071562320802228e-15im\n",
       " -1.6814909758496512e-15 + 9.811570802031361e-16im \n",
       "   8.059008685303772e-16 - 1.8969200281145625e-15im\n",
       "   4.596075184259623e-16 + 6.831829887014123e-16im \n",
       "  2.0683048737675666e-15 - 1.7247904919709706e-15im\n",
       "  -8.781467010052032e-16 - 1.590561832831076e-16im \n",
       "  -3.907132150211859e-16 + 1.0786173957554927e-15im\n",
       " -1.7763568394002505e-15 - 1.0340050932323644e-15im\n",
       "                     0.0 + 0.0im                   "
      ]
     },
     "execution_count": 4,
     "metadata": {},
     "output_type": "execute_result"
    }
   ],
   "source": [
    "fh = FFTW.rfft(f)"
   ]
  },
  {
   "cell_type": "code",
   "execution_count": 5,
   "metadata": {},
   "outputs": [
    {
     "data": {
      "text/plain": [
       "51-element Array{Complex{Float64},1}:\n",
       "                     0.0 + 0.0im                   \n",
       "     -182.43814240158895 + 1.6541702096761547e-14im\n",
       "  2.0957979800831355e-15 + 4.050174946134772e-15im \n",
       "  -1.173861904350222e-15 + 1.5778090999912551e-15im\n",
       " -1.2299758238974968e-15 - 5.271242819792253e-16im \n",
       "  1.8964945573774546e-16 + 3.5627799552537456e-17im\n",
       "   2.555792195469034e-16 + 4.662301755482145e-17im \n",
       "  1.6611959489539347e-18 - 1.7785705832102524e-17im\n",
       "  -9.345829499397742e-18 + 7.052878369159378e-17im \n",
       "  -1.868549182233666e-16 - 9.05890911973827e-17im  \n",
       " -3.4444583140724414e-18 - 5.228689271298447e-17im \n",
       "   3.657645219692039e-17 - 4.065958929493708e-18im \n",
       "  1.8287611559216356e-17 + 6.7867759044848835e-18im\n",
       "                         ⋮                         \n",
       "  1.0217385344652763e-17 - 3.2631325475109864e-18im\n",
       "   3.874021530469511e-18 + 1.3443486459627857e-17im\n",
       "   -9.80845966116736e-18 + 1.1284704083172118e-17im\n",
       "  -5.859110658562561e-18 - 1.2306903299218536e-17im\n",
       "   6.355818503545463e-18 - 3.708646918006013e-18im \n",
       " -3.0068177821888563e-18 + 7.077412489114423e-18im \n",
       " -1.6960934268325011e-18 - 2.5211558340660803e-18im\n",
       "   -7.56472745738041e-18 + 6.3083398189138225e-18im\n",
       "    3.18957620542293e-18 + 5.777187535345333e-19im \n",
       "  1.4121351277094227e-18 - 3.898392619820133e-18im \n",
       "   6.401200275104804e-18 + 3.726094633943877e-18im \n",
       "                    -0.0 - 0.0im                   "
      ]
     },
     "execution_count": 5,
     "metadata": {},
     "output_type": "execute_result"
    }
   ],
   "source": [
    "n = 0:Nz\n",
    "kz² = @. (4 / Δz^2) * sin(π*n / Nz)^2\n",
    "\n",
    "ϕh = - fh ./ kz²[1:Int(Nz/2 + 1)]; ϕh[1] = 0; ϕh"
   ]
  },
  {
   "cell_type": "code",
   "execution_count": 6,
   "metadata": {},
   "outputs": [
    {
     "data": {
      "text/plain": [
       "100-element Array{Float64,1}:\n",
       " -3.648762848031779 \n",
       " -3.6415628480317785\n",
       " -3.619991263142412 \n",
       " -3.584133226554117 \n",
       " -3.5341302535553276\n",
       " -3.4701796830362865\n",
       " -3.3925338986825957\n",
       " -3.3014993329321136\n",
       " -3.197435257626121 \n",
       " -3.0807523661274963\n",
       " -2.9519111525016433\n",
       " -2.811420094156791 \n",
       " -2.6598336451159663\n",
       "  ⋮                 \n",
       " -2.6598336451159663\n",
       " -2.8114200941567904\n",
       " -2.9519111525016433\n",
       " -3.080752366127496 \n",
       " -3.1974352576261205\n",
       " -3.3014993329321136\n",
       " -3.392533898682595 \n",
       " -3.4701796830362865\n",
       " -3.534130253555328 \n",
       " -3.584133226554117 \n",
       " -3.6199912631424116\n",
       " -3.6415628480317785"
      ]
     },
     "execution_count": 6,
     "metadata": {},
     "output_type": "execute_result"
    }
   ],
   "source": [
    "ϕ = FFTW.irfft(ϕh, Nz)"
   ]
  },
  {
   "cell_type": "code",
   "execution_count": 7,
   "metadata": {},
   "outputs": [
    {
     "data": {
      "image/png": "[encoded data removed]",
      "text/plain": [
       "Figure(PyObject <matplotlib.figure.Figure object at 0x00000000044053C8>)"
      ]
     },
     "metadata": {},
     "output_type": "display_data"
    }
   ],
   "source": [
    "PyPlot.plot(z, ϕ, label=\"Spectral\"); PyPlot.plot(z, ϕs, label=\"Analytic\"); PyPlot.legend();"
   ]
  },
  {
   "cell_type": "code",
   "execution_count": 8,
   "metadata": {},
   "outputs": [
    {
     "ename": "UndefVarError",
     "evalue": "UndefVarError: ϕa not defined",
     "output_type": "error",
     "traceback": [
      "UndefVarError: ϕa not defined",
      "",
      "Stacktrace:",
      " [1] top-level scope at In[8]:1"
     ]
    }
   ],
   "source": [
    "PyPlot.plot(z, ϕ - ϕa);"
   ]
  },
  {
   "cell_type": "code",
   "execution_count": 9,
   "metadata": {},
   "outputs": [
    {
     "data": {
      "text/plain": [
       "100"
      ]
     },
     "execution_count": 9,
     "metadata": {},
     "output_type": "execute_result"
    }
   ],
   "source": [
    "N = length(f)  # Number of grid points."
   ]
  },
  {
   "cell_type": "code",
   "execution_count": 10,
   "metadata": {},
   "outputs": [
    {
     "data": {
      "text/plain": [
       "0:99"
      ]
     },
     "execution_count": 10,
     "metadata": {},
     "output_type": "execute_result"
    }
   ],
   "source": [
    "n = 0:(N-1)    # Wavenumber indices."
   ]
  },
  {
   "cell_type": "code",
   "execution_count": 11,
   "metadata": {},
   "outputs": [
    {
     "name": "stdout",
     "output_type": "stream",
     "text": [
      "size(f) = (100,)\n",
      "size(n) = (100,)\n",
      "size(k²) = (100,)\n"
     ]
    }
   ],
   "source": [
    "k² = @. (4 / Δz^2) * sin(π*n / N)^2  # Wavenumber squared.\n",
    "@show size(f);\n",
    "@show size(n);\n",
    "@show size(k²);"
   ]
  },
  {
   "cell_type": "code",
   "execution_count": 12,
   "metadata": {},
   "outputs": [
    {
     "data": {
      "text/plain": [
       "51-element Array{Float64,1}:\n",
       "   0.0                \n",
       "   0.27406549607339414\n",
       "   1.0951803729891902 \n",
       "   2.460104065459905  \n",
       "   4.363449843245679  \n",
       "   6.79770607011756   \n",
       "   9.753265848853967  \n",
       "  13.218464935275064  \n",
       "  17.179627771685613  \n",
       "  21.621121458053466  \n",
       "  26.525417447923964  \n",
       "  31.873160725584825  \n",
       "  37.64324619147061   \n",
       "   ⋮                  \n",
       " 245.90461705219298   \n",
       " 251.2523603298538    \n",
       " 256.1566563197242    \n",
       " 260.59815000609217   \n",
       " 264.55931284250266   \n",
       " 268.02451192892374   \n",
       " 270.9800717076602    \n",
       " 273.4143279345321    \n",
       " 275.31767371231786   \n",
       " 276.68259740478857   \n",
       " 277.5037122817044    \n",
       " 277.77777777777777   "
      ]
     },
     "execution_count": 12,
     "metadata": {},
     "output_type": "execute_result"
    }
   ],
   "source": [
    "k²[1:Int(N/2 + 1)]"
   ]
  },
  {
   "cell_type": "code",
   "execution_count": 13,
   "metadata": {},
   "outputs": [
    {
     "data": {
      "image/png": "[encoded data removed]",
      "text/plain": [
       "Figure(PyObject <matplotlib.figure.Figure object at 0x00000000046C0F98>)"
      ]
     },
     "metadata": {},
     "output_type": "display_data"
    }
   ],
   "source": [
    "PyPlot.plot(z, solve_poisson_1d_pbc(f, Δz), label=\"Spectral\"); PyPlot.plot(z, ϕs, label=\"Analytic\"); PyPlot.legend();"
   ]
  },
  {
   "cell_type": "code",
   "execution_count": 14,
   "metadata": {},
   "outputs": [
    {
     "data": {
      "text/plain": [
       "true"
      ]
     },
     "execution_count": 14,
     "metadata": {},
     "output_type": "execute_result"
    }
   ],
   "source": [
    "using Statistics: mean\n",
    "# minimum(solve_poisson_1d_pbc(f, Δz) - ϕs)\n",
    "all(isapprox.(solve_poisson_1d_pbc(f, Δz), ϕs; atol=0.0015))"
   ]
  },
  {
   "cell_type": "code",
   "execution_count": 15,
   "metadata": {},
   "outputs": [
    {
     "data": {
      "text/latex": [
       "\\begin{verbatim}\n",
       "isapprox(x, y; rtol::Real=atol>0 ? 0 : √eps, atol::Real=0, nans::Bool=false, norm::Function)\n",
       "\\end{verbatim}\n",
       "Inexact equality comparison: \\texttt{true} if \\texttt{norm(x-y) <= max(atol, rtol*max(norm(x), norm(y)))}. The default \\texttt{atol} is zero and the default \\texttt{rtol} depends on the types of \\texttt{x} and \\texttt{y}. The keyword argument \\texttt{nans} determines whether or not NaN values are considered equal (defaults to false).\n",
       "\n",
       "For real or complex floating-point values, if an \\texttt{atol > 0} is not specified, \\texttt{rtol} defaults to the square root of \\href{@ref}{\\texttt{eps}} of the type of \\texttt{x} or \\texttt{y}, whichever is bigger (least precise). This corresponds to requiring equality of about half of the significand digits. Otherwise, e.g. for integer arguments or if an \\texttt{atol > 0} is supplied, \\texttt{rtol} defaults to zero.\n",
       "\n",
       "\\texttt{x} and \\texttt{y} may also be arrays of numbers, in which case \\texttt{norm} defaults to \\texttt{vecnorm} but may be changed by passing a \\texttt{norm::Function} keyword argument. (For numbers, \\texttt{norm} is the same thing as \\texttt{abs}.) When \\texttt{x} and \\texttt{y} are arrays, if \\texttt{norm(x-y)} is not finite (i.e. \\texttt{±Inf} or \\texttt{NaN}), the comparison falls back to checking whether all elements of \\texttt{x} and \\texttt{y} are approximately equal component-wise.\n",
       "\n",
       "The binary operator \\texttt{≈} is equivalent to \\texttt{isapprox} with the default arguments, and \\texttt{x ≉ y} is equivalent to \\texttt{!isapprox(x,y)}.\n",
       "\n",
       "Note that \\texttt{x ≈ 0} (i.e., comparing to zero with the default tolerances) is equivalent to \\texttt{x == 0} since the default \\texttt{atol} is \\texttt{0}.  In such cases, you should either supply an appropriate \\texttt{atol} (or use \\texttt{norm(x) ≤ atol}) or rearrange your code (e.g. use \\texttt{x ≈ y} rather than \\texttt{x - y ≈ 0}).   It is not possible to pick a nonzero \\texttt{atol} automatically because it depends on the overall scaling (the \"units\") of your problem: for example, in \\texttt{x - y ≈ 0}, \\texttt{atol=1e-9} is an absurdly small tolerance if \\texttt{x} is the \\href{https://en.wikipedia.org/wiki/Earth_radius}{radius of the Earth} in meters, but an absurdly large tolerance if \\texttt{x} is the \\href{https://en.wikipedia.org/wiki/Bohr_radius}{radius of a Hydrogen atom} in meters.\n",
       "\n",
       "\\section{Examples}\n",
       "\\begin{verbatim}\n",
       "julia> 0.1 ≈ (0.1 - 1e-10)\n",
       "true\n",
       "\n",
       "julia> isapprox(10, 11; atol = 2)\n",
       "true\n",
       "\n",
       "julia> isapprox([10.0^9, 1.0], [10.0^9, 2.0])\n",
       "true\n",
       "\n",
       "julia> 1e-10 ≈ 0\n",
       "false\n",
       "\n",
       "julia> isapprox(1e-10, 0, atol=1e-8)\n",
       "true\n",
       "\\end{verbatim}\n",
       "\\begin{verbatim}\n",
       "isapprox(x::FixedPoint, y::FixedPoint; rtol=0, atol=max(eps(x), eps(y)))\n",
       "\\end{verbatim}\n",
       "For FixedPoint numbers, the default criterion is that \\texttt{x} and \\texttt{y} differ by no more than \\texttt{eps}, the separation between adjacent fixed-point numbers.\n",
       "\n"
      ],
      "text/markdown": [
       "```\n",
       "isapprox(x, y; rtol::Real=atol>0 ? 0 : √eps, atol::Real=0, nans::Bool=false, norm::Function)\n",
       "```\n",
       "\n",
       "Inexact equality comparison: `true` if `norm(x-y) <= max(atol, rtol*max(norm(x), norm(y)))`. The default `atol` is zero and the default `rtol` depends on the types of `x` and `y`. The keyword argument `nans` determines whether or not NaN values are considered equal (defaults to false).\n",
       "\n",
       "For real or complex floating-point values, if an `atol > 0` is not specified, `rtol` defaults to the square root of [`eps`](@ref) of the type of `x` or `y`, whichever is bigger (least precise). This corresponds to requiring equality of about half of the significand digits. Otherwise, e.g. for integer arguments or if an `atol > 0` is supplied, `rtol` defaults to zero.\n",
       "\n",
       "`x` and `y` may also be arrays of numbers, in which case `norm` defaults to `vecnorm` but may be changed by passing a `norm::Function` keyword argument. (For numbers, `norm` is the same thing as `abs`.) When `x` and `y` are arrays, if `norm(x-y)` is not finite (i.e. `±Inf` or `NaN`), the comparison falls back to checking whether all elements of `x` and `y` are approximately equal component-wise.\n",
       "\n",
       "The binary operator `≈` is equivalent to `isapprox` with the default arguments, and `x ≉ y` is equivalent to `!isapprox(x,y)`.\n",
       "\n",
       "Note that `x ≈ 0` (i.e., comparing to zero with the default tolerances) is equivalent to `x == 0` since the default `atol` is `0`.  In such cases, you should either supply an appropriate `atol` (or use `norm(x) ≤ atol`) or rearrange your code (e.g. use `x ≈ y` rather than `x - y ≈ 0`).   It is not possible to pick a nonzero `atol` automatically because it depends on the overall scaling (the \"units\") of your problem: for example, in `x - y ≈ 0`, `atol=1e-9` is an absurdly small tolerance if `x` is the [radius of the Earth](https://en.wikipedia.org/wiki/Earth_radius) in meters, but an absurdly large tolerance if `x` is the [radius of a Hydrogen atom](https://en.wikipedia.org/wiki/Bohr_radius) in meters.\n",
       "\n",
       "# Examples\n",
       "\n",
       "```jldoctest\n",
       "julia> 0.1 ≈ (0.1 - 1e-10)\n",
       "true\n",
       "\n",
       "julia> isapprox(10, 11; atol = 2)\n",
       "true\n",
       "\n",
       "julia> isapprox([10.0^9, 1.0], [10.0^9, 2.0])\n",
       "true\n",
       "\n",
       "julia> 1e-10 ≈ 0\n",
       "false\n",
       "\n",
       "julia> isapprox(1e-10, 0, atol=1e-8)\n",
       "true\n",
       "```\n",
       "\n",
       "```\n",
       "isapprox(x::FixedPoint, y::FixedPoint; rtol=0, atol=max(eps(x), eps(y)))\n",
       "```\n",
       "\n",
       "For FixedPoint numbers, the default criterion is that `x` and `y` differ by no more than `eps`, the separation between adjacent fixed-point numbers.\n"
      ],
      "text/plain": [
       "\u001b[36m  isapprox(x, y; rtol::Real=atol>0 ? 0 : √eps, atol::Real=0, nans::Bool=false, norm::Function)\u001b[39m\n",
       "\n",
       "  Inexact equality comparison: \u001b[36mtrue\u001b[39m if \u001b[36mnorm(x-y) <= max(atol,\n",
       "  rtol*max(norm(x), norm(y)))\u001b[39m. The default \u001b[36matol\u001b[39m is zero and the default \u001b[36mrtol\u001b[39m\n",
       "  depends on the types of \u001b[36mx\u001b[39m and \u001b[36my\u001b[39m. The keyword argument \u001b[36mnans\u001b[39m determines\n",
       "  whether or not NaN values are considered equal (defaults to false).\n",
       "\n",
       "  For real or complex floating-point values, if an \u001b[36matol > 0\u001b[39m is not specified,\n",
       "  \u001b[36mrtol\u001b[39m defaults to the square root of \u001b[36meps\u001b[39m of the type of \u001b[36mx\u001b[39m or \u001b[36my\u001b[39m, whichever is\n",
       "  bigger (least precise). This corresponds to requiring equality of about half\n",
       "  of the significand digits. Otherwise, e.g. for integer arguments or if an\n",
       "  \u001b[36matol > 0\u001b[39m is supplied, \u001b[36mrtol\u001b[39m defaults to zero.\n",
       "\n",
       "  \u001b[36mx\u001b[39m and \u001b[36my\u001b[39m may also be arrays of numbers, in which case \u001b[36mnorm\u001b[39m defaults to\n",
       "  \u001b[36mvecnorm\u001b[39m but may be changed by passing a \u001b[36mnorm::Function\u001b[39m keyword argument.\n",
       "  (For numbers, \u001b[36mnorm\u001b[39m is the same thing as \u001b[36mabs\u001b[39m.) When \u001b[36mx\u001b[39m and \u001b[36my\u001b[39m are arrays, if\n",
       "  \u001b[36mnorm(x-y)\u001b[39m is not finite (i.e. \u001b[36m±Inf\u001b[39m or \u001b[36mNaN\u001b[39m), the comparison falls back to\n",
       "  checking whether all elements of \u001b[36mx\u001b[39m and \u001b[36my\u001b[39m are approximately equal\n",
       "  component-wise.\n",
       "\n",
       "  The binary operator \u001b[36m≈\u001b[39m is equivalent to \u001b[36misapprox\u001b[39m with the default arguments,\n",
       "  and \u001b[36mx ≉ y\u001b[39m is equivalent to \u001b[36m!isapprox(x,y)\u001b[39m.\n",
       "\n",
       "  Note that \u001b[36mx ≈ 0\u001b[39m (i.e., comparing to zero with the default tolerances) is\n",
       "  equivalent to \u001b[36mx == 0\u001b[39m since the default \u001b[36matol\u001b[39m is \u001b[36m0\u001b[39m. In such cases, you should\n",
       "  either supply an appropriate \u001b[36matol\u001b[39m (or use \u001b[36mnorm(x) ≤ atol\u001b[39m) or rearrange your\n",
       "  code (e.g. use \u001b[36mx ≈ y\u001b[39m rather than \u001b[36mx - y ≈ 0\u001b[39m). It is not possible to pick a\n",
       "  nonzero \u001b[36matol\u001b[39m automatically because it depends on the overall scaling (the\n",
       "  \"units\") of your problem: for example, in \u001b[36mx - y ≈ 0\u001b[39m, \u001b[36matol=1e-9\u001b[39m is an\n",
       "  absurdly small tolerance if \u001b[36mx\u001b[39m is the radius of the Earth\n",
       "  (https://en.wikipedia.org/wiki/Earth_radius) in meters, but an absurdly\n",
       "  large tolerance if \u001b[36mx\u001b[39m is the radius of a Hydrogen atom\n",
       "  (https://en.wikipedia.org/wiki/Bohr_radius) in meters.\n",
       "\n",
       "\u001b[1m  Examples\u001b[22m\n",
       "\u001b[1m  ≡≡≡≡≡≡≡≡≡≡\u001b[22m\n",
       "\n",
       "\u001b[36m  julia> 0.1 ≈ (0.1 - 1e-10)\u001b[39m\n",
       "\u001b[36m  true\u001b[39m\n",
       "\u001b[36m  \u001b[39m\n",
       "\u001b[36m  julia> isapprox(10, 11; atol = 2)\u001b[39m\n",
       "\u001b[36m  true\u001b[39m\n",
       "\u001b[36m  \u001b[39m\n",
       "\u001b[36m  julia> isapprox([10.0^9, 1.0], [10.0^9, 2.0])\u001b[39m\n",
       "\u001b[36m  true\u001b[39m\n",
       "\u001b[36m  \u001b[39m\n",
       "\u001b[36m  julia> 1e-10 ≈ 0\u001b[39m\n",
       "\u001b[36m  false\u001b[39m\n",
       "\u001b[36m  \u001b[39m\n",
       "\u001b[36m  julia> isapprox(1e-10, 0, atol=1e-8)\u001b[39m\n",
       "\u001b[36m  true\u001b[39m\n",
       "\n",
       "\u001b[36m  isapprox(x::FixedPoint, y::FixedPoint; rtol=0, atol=max(eps(x), eps(y)))\u001b[39m\n",
       "\n",
       "  For FixedPoint numbers, the default criterion is that \u001b[36mx\u001b[39m and \u001b[36my\u001b[39m differ by no\n",
       "  more than \u001b[36meps\u001b[39m, the separation between adjacent fixed-point numbers."
      ]
     },
     "execution_count": 15,
     "metadata": {},
     "output_type": "execute_result"
    }
   ],
   "source": [
    "@doc ≈"
   ]
  },
  {
   "cell_type": "code",
   "execution_count": 80,
   "metadata": {},
   "outputs": [
    {
     "data": {
      "image/png": "[encoded data removed]",
      "text/plain": [
       "Figure(PyObject <matplotlib.figure.Figure object at 0x000000002E798BA8>)"
      ]
     },
     "metadata": {},
     "output_type": "display_data"
    },
    {
     "data": {
      "text/plain": [
       "PyObject <matplotlib.legend.Legend object at 0x000000003029D748>"
      ]
     },
     "execution_count": 80,
     "metadata": {},
     "output_type": "execute_result"
    }
   ],
   "source": [
    "Ns = [4, 8, 10, 50, 100, 500, 1000, 2000, 5000, 10000]\n",
    "error = []\n",
    "\n",
    "for Nz in Ns\n",
    "    H = 12           # Length of domain.\n",
    "    Δz = H / Nz      # Grid spacing.\n",
    "    z = Δz * (0:(Nz-1))  # Grid point locations.\n",
    "\n",
    "    f = cos.(2*π*z ./ H)  # Source term.\n",
    "    ϕa = @. -(H / (2π))^2 * cos((2π / H) * z)  # Analytic solution.\n",
    "\n",
    "    ϕs = solve_poisson_1d_pbc(f, H)\n",
    "\n",
    "    # Maximum error should be around 0.06.\n",
    "    PyPlot.plot(z, ϕs, label=string(Nz));\n",
    "    append!(error, maximum(abs.(ϕs - ϕa)))\n",
    "end\n",
    "PyPlot.legend()"
   ]
  },
  {
   "cell_type": "code",
   "execution_count": 81,
   "metadata": {},
   "outputs": [
    {
     "data": {
      "text/plain": [
       "10-element Array{Any,1}:\n",
       " 0.8524373888758419   \n",
       " 0.19342764654557199  \n",
       " 0.12240633267568946  \n",
       " 0.0048037923043295905\n",
       " 0.0012002369076196118\n",
       " 4.800037899554965e-5 \n",
       " 1.2000023687619432e-5\n",
       " 3.000001480124581e-6 \n",
       " 4.800000379390212e-7 \n",
       " 1.2000000193523874e-7"
      ]
     },
     "execution_count": 81,
     "metadata": {},
     "output_type": "execute_result"
    }
   ],
   "source": [
    "error"
   ]
  },
  {
   "cell_type": "code",
   "execution_count": 82,
   "metadata": {},
   "outputs": [
    {
     "data": {
      "image/png": "[encoded data removed]",
      "text/plain": [
       "Figure(PyObject <matplotlib.figure.Figure object at 0x0000000030474DD8>)"
      ]
     },
     "metadata": {},
     "output_type": "display_data"
    },
    {
     "data": {
      "text/plain": [
       "1-element Array{PyCall.PyObject,1}:\n",
       " PyObject <matplotlib.lines.Line2D object at 0x00000000304ADA90>"
      ]
     },
     "execution_count": 82,
     "metadata": {},
     "output_type": "execute_result"
    }
   ],
   "source": [
    "PyPlot.loglog(Ns, error, linestyle=\"--\", marker=\"o\")"
   ]
  },
  {
   "cell_type": "code",
   "execution_count": 83,
   "metadata": {},
   "outputs": [
    {
     "data": {
      "text/plain": [
       "-2.0163632140572307"
      ]
     },
     "execution_count": 83,
     "metadata": {},
     "output_type": "execute_result"
    }
   ],
   "source": [
    "(log10(error[end]) - log10(error[1])) / (log10(Ns[end]) - log10(Ns[1]))"
   ]
  },
  {
   "cell_type": "code",
   "execution_count": 84,
   "metadata": {},
   "outputs": [
    {
     "data": {
      "text/plain": [
       "laplacian1d (generic function with 1 method)"
      ]
     },
     "execution_count": 84,
     "metadata": {},
     "output_type": "execute_result"
    }
   ],
   "source": [
    "laplacian1d(f) = circshift(f, 1) - 2 .* f + circshift(f, -1)"
   ]
  },
  {
   "cell_type": "code",
   "execution_count": 125,
   "metadata": {},
   "outputs": [
    {
     "data": {
      "text/plain": [
       "100-element Array{Float64,1}:\n",
       " -0.22066419533407006 \n",
       " -0.10039722494206332 \n",
       "  0.20353049476350565 \n",
       "  0.016333938640534507\n",
       " -0.41820294902822647 \n",
       "  0.38311774124638814 \n",
       "  0.3262567924918142  \n",
       "  0.06120885256817438 \n",
       "  0.3313730343266656  \n",
       "  0.07939820791818913 \n",
       "  0.12671021066666394 \n",
       "  0.41349396291906565 \n",
       "  0.07909064195519039 \n",
       "  ⋮                   \n",
       " -0.11095138532746357 \n",
       " -0.19622147813013574 \n",
       "  0.2648328465836553  \n",
       "  0.22669603598912452 \n",
       " -0.0928755507288826  \n",
       "  0.3735990214598092  \n",
       " -0.4663085573920525  \n",
       " -0.4829426340697474  \n",
       "  0.48307663388157857 \n",
       "  0.17197732783592973 \n",
       " -0.4284420607550364  \n",
       "  0.36231438463904436 "
      ]
     },
     "execution_count": 125,
     "metadata": {},
     "output_type": "execute_result"
    }
   ],
   "source": [
    "N = 100\n",
    "A = rand(N)\n",
    "A .= A .- mean(A)"
   ]
  },
  {
   "cell_type": "code",
   "execution_count": 126,
   "metadata": {},
   "outputs": [
    {
     "data": {
      "text/plain": [
       "100-element Array{Float64,1}:\n",
       " -2.480702599595551  \n",
       " -2.288616562212209  \n",
       " -2.1969277497709254 \n",
       " -1.9017084425661415 \n",
       " -1.5901551967208196 \n",
       " -1.6968048999037249 \n",
       " -1.4203368618402419 \n",
       " -0.8176120312849473 \n",
       " -0.15367834816147394\n",
       "  0.84162836928866   \n",
       "  1.9163332946569873 \n",
       "  3.117748430691975  \n",
       "  4.732657529646032  \n",
       "  ⋮                  \n",
       " -5.9886833026018875 \n",
       " -5.791639039197756  \n",
       " -5.790816253923768  \n",
       " -5.52516062206612   \n",
       " -5.032808954219351  \n",
       " -4.63333283710146   \n",
       " -3.8602576985237578 \n",
       " -3.553491117338116  \n",
       " -3.7296671702222186 \n",
       " -3.4227665892247416 \n",
       " -2.9438886803913342 \n",
       " -2.8934528323129642 "
      ]
     },
     "execution_count": 126,
     "metadata": {},
     "output_type": "execute_result"
    }
   ],
   "source": [
    "B = solve_poisson_1d_pbc(A, N)"
   ]
  },
  {
   "cell_type": "code",
   "execution_count": 127,
   "metadata": {},
   "outputs": [
    {
     "data": {
      "text/plain": [
       "100-element Array{Float64,1}:\n",
       " -0.22066419533407133 \n",
       " -0.10039722494205838 \n",
       "  0.20353049476350038 \n",
       "  0.016333938640537893\n",
       " -0.4182029490282271  \n",
       "  0.3831177412463882  \n",
       "  0.3262567924918116  \n",
       "  0.06120885256817879 \n",
       "  0.33137303432666065 \n",
       "  0.07939820791819341 \n",
       "  0.12671021066666066 \n",
       "  0.4134939629190688  \n",
       "  0.07909064195518756 \n",
       "  ⋮                   \n",
       " -0.11095138532745974 \n",
       " -0.196221478130143   \n",
       "  0.26483284658365935 \n",
       "  0.22669603598912147 \n",
       " -0.09287555072887876 \n",
       "  0.37359902145981216 \n",
       " -0.4663085573920607  \n",
       " -0.4829426340697447  \n",
       "  0.48307663388157973 \n",
       "  0.17197732783593045 \n",
       " -0.42844206075503743 \n",
       "  0.3623143846390433  "
      ]
     },
     "execution_count": 127,
     "metadata": {},
     "output_type": "execute_result"
    }
   ],
   "source": [
    "Ar = laplacian1d(B)"
   ]
  },
  {
   "cell_type": "code",
   "execution_count": 129,
   "metadata": {},
   "outputs": [
    {
     "data": {
      "text/plain": [
       "true"
      ]
     },
     "execution_count": 129,
     "metadata": {},
     "output_type": "execute_result"
    }
   ],
   "source": [
    "A ≈ Ar"
   ]
  },
  {
   "cell_type": "code",
   "execution_count": 3,
   "metadata": {},
   "outputs": [
    {
     "data": {
      "text/plain": [
       "solve_poisson_1d_nbc (generic function with 1 method)"
      ]
     },
     "execution_count": 3,
     "metadata": {},
     "output_type": "execute_result"
    }
   ],
   "source": [
    "function solve_poisson_1d_nbc(f, L)\n",
    "    @show N = length(f)  # Number of grid points (excluding the periodic end point).\n",
    "    n = 0:(N-1)        # Wavenumber indices.\n",
    "\n",
    "    # Wavenumbers for second-order convergence.\n",
    "    @show Δx = L / N\n",
    "    k² = @. (2 / Δx^2) * (cos(π*n / N) - 1)\n",
    "\n",
    "    # Wavenumbers for spectral convergence.\n",
    "    # k² = @. ((2*π / L) * n)^2\n",
    "\n",
    "    # Forward transform the real-valued source term.\n",
    "    fh = FFTW.dct(f)\n",
    "\n",
    "    # Calculate the Fourier coefficients of the source term.\n",
    "    # We only need to compute the first (N-1)/2 + 1 Fourier coefficients\n",
    "    # as ϕh(N-i) = ϕh(i) for a real-valued f.\n",
    "    ϕh = fh ./ k²\n",
    "\n",
    "    # Setting the DC/zero Fourier component to zero.\n",
    "    ϕh[1] = 0\n",
    "\n",
    "    # Take the inverse transform of the . We need to specify that the input f\n",
    "    # had a length of N+1 as\n",
    "    ϕ = FFTW.idct(ϕh)\n",
    "end"
   ]
  },
  {
   "cell_type": "code",
   "execution_count": 176,
   "metadata": {},
   "outputs": [
    {
     "data": {
      "text/plain": [
       "10-element Array{Float64,1}:\n",
       " -0.4290344037067704 \n",
       " -0.4290344037067704 \n",
       "  0.23049995387624334\n",
       "  0.11560349104623868\n",
       " -0.07876299415931665\n",
       " -0.28566198066263615\n",
       " -0.08388495591013845\n",
       "  0.3393060233856888 \n",
       "  0.3104846349187307 \n",
       "  0.3104846349187307 "
      ]
     },
     "execution_count": 176,
     "metadata": {},
     "output_type": "execute_result"
    }
   ],
   "source": [
    "A = rand(10)\n",
    "A[1] = A[2]; A[end] = A[end-1];\n",
    "A .= A .- mean(A)"
   ]
  },
  {
   "cell_type": "code",
   "execution_count": 177,
   "metadata": {},
   "outputs": [
    {
     "name": "stdout",
     "output_type": "stream",
     "text": [
      "N = length(f) = 10\n",
      "Δx = L / N = 1.0\n"
     ]
    },
    {
     "data": {
      "text/plain": [
       "10-element Array{Float64,1}:\n",
       "  2.90830864291437   \n",
       "  2.4792742392076    \n",
       "  1.6212054317940594 \n",
       "  0.9936365782567624 \n",
       "  0.4816712157657044 \n",
       " -0.10905714088467017\n",
       " -0.9854474781976816 \n",
       " -1.9457227714208305 \n",
       " -2.5666920412582916 \n",
       " -2.877176676177022  "
      ]
     },
     "execution_count": 177,
     "metadata": {},
     "output_type": "execute_result"
    }
   ],
   "source": [
    "B = solve_poisson_1d_pbc_dct(A, 10)"
   ]
  },
  {
   "cell_type": "code",
   "execution_count": 179,
   "metadata": {},
   "outputs": [
    {
     "data": {
      "text/plain": [
       "true"
      ]
     },
     "execution_count": 179,
     "metadata": {},
     "output_type": "execute_result"
    }
   ],
   "source": [
    "Ar = laplacian1d(B)\n",
    "Ar[1] = Ar[2]; Ar[end] = Ar[end-1];\n",
    "Ar ≈ A"
   ]
  },
  {
   "cell_type": "code",
   "execution_count": 7,
   "metadata": {},
   "outputs": [
    {
     "data": {
      "text/plain": [
       "10-element Array{Float64,1}:\n",
       " 0.47585313684524055\n",
       " 0.3322271613692811 \n",
       " 0.3896573807181636 \n",
       " 0.8748046145843555 \n",
       " 0.06613908844364058\n",
       " 0.3009070589711944 \n",
       " 0.6267847733293888 \n",
       " 0.3315750349154494 \n",
       " 0.4655214178787608 \n",
       " 0.705140257104661  "
      ]
     },
     "execution_count": 7,
     "metadata": {},
     "output_type": "execute_result"
    }
   ],
   "source": [
    "Nz = 10\n",
    "f = rand(Nz)"
   ]
  },
  {
   "cell_type": "code",
   "execution_count": 8,
   "metadata": {},
   "outputs": [
    {
     "data": {
      "text/plain": [
       "10-element Array{Float64,1}:\n",
       " -0.14380372042487516 \n",
       " -0.01496454621313692 \n",
       " -0.010759203048131195\n",
       " -0.07375747158097544 \n",
       "  0.28118788205452233 \n",
       "  0.24541133171764706 \n",
       "  0.053680847935952604\n",
       "  0.03187414506763332 \n",
       " -0.11521851530125016 \n",
       " -0.25365075020738637 "
      ]
     },
     "execution_count": 8,
     "metadata": {},
     "output_type": "execute_result"
    }
   ],
   "source": [
    "ϕ = solve_poisson_1d_pbc(f, Nz)"
   ]
  },
  {
   "cell_type": "code",
   "execution_count": null,
   "metadata": {},
   "outputs": [],
   "source": []
  }
 ],
 "metadata": {
  "@webio": {
   "lastCommId": "3A6FDBFEC2B64E7FB2BDA36760994311",
   "lastKernelId": "d9094a47-846e-47d3-96b3-b84e192a3d98"
  },
  "kernelspec": {
   "display_name": "Julia 1.0.0",
   "language": "julia",
   "name": "julia-1.0"
  },
  "language_info": {
   "file_extension": ".jl",
   "mimetype": "application/julia",
   "name": "julia",
   "version": "1.0.0"
  }
 },
 "nbformat": 4,
 "nbformat_minor": 2
}
