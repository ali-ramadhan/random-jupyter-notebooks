{
 "cells": [
  {
   "cell_type": "code",
   "execution_count": null,
   "metadata": {},
   "outputs": [],
   "source": [
    "pwd()"
   ]
  },
  {
   "cell_type": "code",
   "execution_count": null,
   "metadata": {},
   "outputs": [],
   "source": [
    "using Pkg\n",
    "# cd(\"D:\\\\Home\\\\Git\\\\Oceananigans.jl\")\n",
    "cd(\"/home/gridsan/aramadhan/Oceananigans.jl/\")\n",
    "Pkg.activate(\".\");"
   ]
  },
  {
   "cell_type": "code",
   "execution_count": null,
   "metadata": {},
   "outputs": [],
   "source": [
    "# Increment and decrement integer a with periodic wrapping. So if n == 10 then\n",
    "# incmod1(11, n) = 1 and decmod1(0, n) = 10.\n",
    "@inline incmod1(a, n) = ifelse(a==n, 1, a + 1)\n",
    "@inline decmod1(a, n) = ifelse(a==1, n, a - 1)\n",
    "\n",
    "@inline δx_c2f(g::RegularCartesianGrid, f, i, j, k) = @inbounds f[i, j, k] - f[decmod1(i, g.Nx), j, k]\n",
    "@inline δy_c2f(g::RegularCartesianGrid, f, i, j, k) = @inbounds f[i, j, k] - f[i, decmod1(j, g.Ny), k]\n",
    "\n",
    "@inline function δz_c2f(g::RegularCartesianGrid, f, i, j, k)\n",
    "    if k == 1\n",
    "        return 0\n",
    "    else\n",
    "        @inbounds return f[i, j, k-1] - f[i, j, k]\n",
    "    end\n",
    "end\n",
    "\n",
    "@inline δx²_c2f2c(g::RegularCartesianGrid, f, i, j, k) = δx_c2f(g, f, incmod1(i, g.Nx), j, k) - δx_c2f(g, f, i, j, k)\n",
    "@inline δy²_c2f2c(g::RegularCartesianGrid, f, i, j, k) = δy_c2f(g, f, i, incmod1(j, g.Ny), k) - δy_c2f(g, f, i, j, k)\n",
    "\n",
    "@inline function δz²_c2f2c(g::RegularCartesianGrid, f, i, j, k)\n",
    "    if k == g.Nz\n",
    "        return δz_c2f(g, f, i, j, k)\n",
    "    else\n",
    "        return δz_c2f(g, f, i, j, k) - δz_c2f(g, f, i, j, k+1)\n",
    "    end\n",
    "end\n",
    "\n",
    "@inline function ∇²_ppn(g::RegularCartesianGrid, f, i, j, k)\n",
    "\t(δx²_c2f2c(g, f, i, j, k) / g.Δx^2) + (δy²_c2f2c(g, f, i, j, k) / g.Δy^2) + (δz²_c2f2c(g, f, i, j, k) / g.Δz^2)\n",
    "end\n",
    "\n",
    "function ∇²_ppn!(grid::RegularCartesianGrid, f, ∇²f)\n",
    "    @loop for k in (1:grid.Nz; blockIdx().z)\n",
    "        @loop for j in (1:grid.Ny; (blockIdx().y - 1) * blockDim().y + threadIdx().y)\n",
    "            @loop for i in (1:grid.Nx; (blockIdx().x - 1) * blockDim().x + threadIdx().x)\n",
    "                @inbounds ∇²f[i, j, k] = ∇²_ppn(grid, f, i, j, k)\n",
    "            end\n",
    "        end\n",
    "    end\n",
    "\n",
    "    @synchronize\n",
    "end"
   ]
  },
  {
   "cell_type": "code",
   "execution_count": null,
   "metadata": {},
   "outputs": [],
   "source": [
    "function poisson_ppn_planned_div_free_cpu(ft, Nx, Ny, Nz, planner_flag)\n",
    "    g = RegularCartesianGrid(ft, (Nx, Ny, Nz), (100, 100, 100))\n",
    "\n",
    "    RHS = CellField(Complex{ft}, CPU(), g)\n",
    "    RHS_orig = CellField(Complex{ft}, CPU(), g)\n",
    "    ϕ = CellField(Complex{ft}, CPU(), g)\n",
    "    ∇²ϕ = CellField(Complex{ft}, CPU(), g)\n",
    "\n",
    "    RHS.data .= rand(Nx, Ny, Nz)\n",
    "    RHS.data .= RHS.data .- mean(RHS.data)\n",
    "\n",
    "    RHS_orig.data .= copy(RHS.data)\n",
    "\n",
    "    solver = PoissonSolver(g, RHS, planner_flag)\n",
    "\n",
    "    solve_poisson_3d_ppn_planned!(solver, g, RHS, ϕ)\n",
    "    ∇²_ppn!(g, ϕ, ∇²ϕ)\n",
    "\n",
    "    ∇²ϕ.data ≈ RHS_orig.data\n",
    "end"
   ]
  }
 ],
 "metadata": {
  "kernelspec": {
   "display_name": "Julia 1.1.0",
   "language": "julia",
   "name": "julia-1.1"
  },
  "language_info": {
   "file_extension": ".jl",
   "mimetype": "application/julia",
   "name": "julia",
   "version": "1.1.0"
  }
 },
 "nbformat": 4,
 "nbformat_minor": 2
}
