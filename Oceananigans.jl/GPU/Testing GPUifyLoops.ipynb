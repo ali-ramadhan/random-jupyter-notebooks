{
 "cells": [
  {
   "cell_type": "code",
   "execution_count": 1,
   "metadata": {},
   "outputs": [
    {
     "name": "stderr",
     "output_type": "stream",
     "text": [
      "┌ Info: Precompiling GPUifyLoops [8c6e557c-24b2-11e9-113b-4b4a3dc760fa]\n",
      "└ @ Base loading.jl:1186\n"
     ]
    }
   ],
   "source": [
    "using GPUifyLoops"
   ]
  },
  {
   "cell_type": "code",
   "execution_count": 37,
   "metadata": {},
   "outputs": [
    {
     "data": {
      "text/plain": [
       "kernel (generic function with 3 methods)"
      ]
     },
     "execution_count": 37,
     "metadata": {},
     "output_type": "execute_result"
    }
   ],
   "source": [
    "function kernel(::Val{Dev}, A) where Dev\n",
    "    @setup Dev\n",
    "\n",
    "    @loop for i in (1:size(A,1); threadIdx().x)\n",
    "        A[i] = 2*A[i]\n",
    "    end\n",
    "    @synchronize\n",
    "end\n",
    "\n",
    "kernel(A::Array) = kernel(Val(:CPU), A)\n",
    "\n",
    "@static if Base.find_package(\"CuArrays\") !== nothing\n",
    "    using CuArrays\n",
    "    using CUDAnative\n",
    "\n",
    "    @eval function kernel(A::CuArray)\n",
    "        @cuda threads=min(length(A), 1024) kernel(Val(:GPU), A)\n",
    "    end\n",
    "end"
   ]
  },
  {
   "cell_type": "code",
   "execution_count": 41,
   "metadata": {},
   "outputs": [],
   "source": [
    "N = 8192;"
   ]
  },
  {
   "cell_type": "code",
   "execution_count": 42,
   "metadata": {},
   "outputs": [],
   "source": [
    "data_cpu = rand(N);\n",
    "kernel(data_cpu)"
   ]
  },
  {
   "cell_type": "code",
   "execution_count": 43,
   "metadata": {},
   "outputs": [
    {
     "data": {
      "text/plain": [
       "BenchmarkTools.Trial: \n",
       "  memory estimate:  0 bytes\n",
       "  allocs estimate:  0\n",
       "  --------------\n",
       "  minimum time:     4.068 μs (0.00% GC)\n",
       "  median time:      4.182 μs (0.00% GC)\n",
       "  mean time:        4.194 μs (0.00% GC)\n",
       "  maximum time:     151.242 μs (0.00% GC)\n",
       "  --------------\n",
       "  samples:          10000\n",
       "  evals/sample:     8"
      ]
     },
     "execution_count": 43,
     "metadata": {},
     "output_type": "execute_result"
    }
   ],
   "source": [
    "@benchmark kernel(data_cpu)"
   ]
  },
  {
   "cell_type": "code",
   "execution_count": 44,
   "metadata": {},
   "outputs": [],
   "source": [
    "data_gpu = cu(rand(N))\n",
    "kernel(data_gpu)"
   ]
  },
  {
   "cell_type": "code",
   "execution_count": 45,
   "metadata": {},
   "outputs": [
    {
     "data": {
      "text/plain": [
       "BenchmarkTools.Trial: \n",
       "  memory estimate:  240 bytes\n",
       "  allocs estimate:  7\n",
       "  --------------\n",
       "  minimum time:     3.885 μs (0.00% GC)\n",
       "  median time:      6.373 μs (0.00% GC)\n",
       "  mean time:        6.526 μs (6.55% GC)\n",
       "  maximum time:     4.295 ms (99.58% GC)\n",
       "  --------------\n",
       "  samples:          10000\n",
       "  evals/sample:     8"
      ]
     },
     "execution_count": 45,
     "metadata": {},
     "output_type": "execute_result"
    }
   ],
   "source": [
    "@benchmark kernel(data_gpu)"
   ]
  },
  {
   "cell_type": "code",
   "execution_count": null,
   "metadata": {},
   "outputs": [],
   "source": []
  }
 ],
 "metadata": {
  "kernelspec": {
   "display_name": "Julia 1.1.0",
   "language": "julia",
   "name": "julia-1.1"
  },
  "language_info": {
   "file_extension": ".jl",
   "mimetype": "application/julia",
   "name": "julia",
   "version": "1.1.0"
  }
 },
 "nbformat": 4,
 "nbformat_minor": 2
}
