{
 "cells": [
  {
   "cell_type": "code",
   "execution_count": 335,
   "metadata": {},
   "outputs": [
    {
     "data": {
      "text/plain": [
       "dct_permute! (generic function with 1 method)"
      ]
     },
     "execution_count": 335,
     "metadata": {},
     "output_type": "execute_result"
    }
   ],
   "source": [
    "function dct_permute!(A, B)\n",
    "    Nz = length(A)\n",
    "    for k in 1:Nz\n",
    "        if isodd(k)\n",
    "            B[floor(Int, k/2) + 1] = A[k]\n",
    "        else\n",
    "            B[Nz - floor(Int, (k-1)/2)] = A[k]\n",
    "        end\n",
    "    end\n",
    "end"
   ]
  },
  {
   "cell_type": "code",
   "execution_count": 342,
   "metadata": {},
   "outputs": [
    {
     "data": {
      "text/plain": [
       "idct_permute! (generic function with 1 method)"
      ]
     },
     "execution_count": 342,
     "metadata": {},
     "output_type": "execute_result"
    }
   ],
   "source": [
    "function idct_permute!(A, B)\n",
    "    Nz = length(A)\n",
    "    for k in 1:Nz\n",
    "        if k <= Nz/2\n",
    "            B[2k-1] = A[k]\n",
    "        else\n",
    "            # B[k] = A[Nz-2(k-ceil(Int, Nz/2)-1)]\n",
    "            B[2(Nz-k+1)] = A[k]\n",
    "        end\n",
    "    end\n",
    "end"
   ]
  },
  {
   "cell_type": "code",
   "execution_count": 343,
   "metadata": {},
   "outputs": [
    {
     "data": {
      "text/plain": [
       "6-element Array{Int64,1}:\n",
       " 1\n",
       " 2\n",
       " 3\n",
       " 4\n",
       " 5\n",
       " 6"
      ]
     },
     "execution_count": 343,
     "metadata": {},
     "output_type": "execute_result"
    }
   ],
   "source": [
    "B = zeros(Int, 6)\n",
    "C = zeros(Int, 6)\n",
    "A = collect(1:6)"
   ]
  },
  {
   "cell_type": "code",
   "execution_count": 344,
   "metadata": {},
   "outputs": [],
   "source": [
    "dct_permute!(A, B)"
   ]
  },
  {
   "cell_type": "code",
   "execution_count": 345,
   "metadata": {},
   "outputs": [
    {
     "data": {
      "text/plain": [
       "6-element Array{Int64,1}:\n",
       " 1\n",
       " 3\n",
       " 5\n",
       " 6\n",
       " 4\n",
       " 2"
      ]
     },
     "execution_count": 345,
     "metadata": {},
     "output_type": "execute_result"
    }
   ],
   "source": [
    "B"
   ]
  },
  {
   "cell_type": "code",
   "execution_count": 346,
   "metadata": {},
   "outputs": [],
   "source": [
    "idct_permute!(B, C)"
   ]
  },
  {
   "cell_type": "code",
   "execution_count": 347,
   "metadata": {},
   "outputs": [
    {
     "data": {
      "text/plain": [
       "6-element Array{Int64,1}:\n",
       " 1\n",
       " 2\n",
       " 3\n",
       " 4\n",
       " 5\n",
       " 6"
      ]
     },
     "execution_count": 347,
     "metadata": {},
     "output_type": "execute_result"
    }
   ],
   "source": [
    "C"
   ]
  },
  {
   "cell_type": "code",
   "execution_count": 307,
   "metadata": {},
   "outputs": [
    {
     "data": {
      "text/plain": [
       "dct_permute! (generic function with 1 method)"
      ]
     },
     "execution_count": 307,
     "metadata": {},
     "output_type": "execute_result"
    }
   ],
   "source": [
    "function dct_permute!(A, B)\n",
    "    Nx, Ny, Nz = size(A)\n",
    "    for k in 1:Nz, j in 1:Ny, i in 1:Nx\n",
    "        if isodd(k)\n",
    "            B[i, j, k] = A[i, j, floor(Int, k/2) + 1]\n",
    "        else\n",
    "            B[i, j, k] = A[i, j, Nz - floor(Int, (k-1)/2)]\n",
    "        end\n",
    "    end\n",
    "end"
   ]
  },
  {
   "cell_type": "code",
   "execution_count": 308,
   "metadata": {},
   "outputs": [
    {
     "data": {
      "text/plain": [
       "4×4×4 Array{Int64,3}:\n",
       "[:, :, 1] =\n",
       " 1  5   9  13\n",
       " 2  6  10  14\n",
       " 3  7  11  15\n",
       " 4  8  12  16\n",
       "\n",
       "[:, :, 2] =\n",
       " 17  21  25  29\n",
       " 18  22  26  30\n",
       " 19  23  27  31\n",
       " 20  24  28  32\n",
       "\n",
       "[:, :, 3] =\n",
       " 33  37  41  45\n",
       " 34  38  42  46\n",
       " 35  39  43  47\n",
       " 36  40  44  48\n",
       "\n",
       "[:, :, 4] =\n",
       " 49  53  57  61\n",
       " 50  54  58  62\n",
       " 51  55  59  63\n",
       " 52  56  60  64"
      ]
     },
     "execution_count": 308,
     "metadata": {},
     "output_type": "execute_result"
    }
   ],
   "source": [
    "Nx, Ny, Nz = 4, 4, 4\n",
    "t = reshape(collect(1:Nx*Ny*Nz), Nx, Ny, Nz)"
   ]
  },
  {
   "cell_type": "code",
   "execution_count": 309,
   "metadata": {},
   "outputs": [],
   "source": [
    "B = zeros(size(t))\n",
    "dct_permute!(t, B)"
   ]
  },
  {
   "cell_type": "code",
   "execution_count": 310,
   "metadata": {},
   "outputs": [
    {
     "data": {
      "text/plain": [
       "4×4×4 Array{Float64,3}:\n",
       "[:, :, 1] =\n",
       " 1.0  5.0   9.0  13.0\n",
       " 2.0  6.0  10.0  14.0\n",
       " 3.0  7.0  11.0  15.0\n",
       " 4.0  8.0  12.0  16.0\n",
       "\n",
       "[:, :, 2] =\n",
       " 49.0  53.0  57.0  61.0\n",
       " 50.0  54.0  58.0  62.0\n",
       " 51.0  55.0  59.0  63.0\n",
       " 52.0  56.0  60.0  64.0\n",
       "\n",
       "[:, :, 3] =\n",
       " 17.0  21.0  25.0  29.0\n",
       " 18.0  22.0  26.0  30.0\n",
       " 19.0  23.0  27.0  31.0\n",
       " 20.0  24.0  28.0  32.0\n",
       "\n",
       "[:, :, 4] =\n",
       " 33.0  37.0  41.0  45.0\n",
       " 34.0  38.0  42.0  46.0\n",
       " 35.0  39.0  43.0  47.0\n",
       " 36.0  40.0  44.0  48.0"
      ]
     },
     "execution_count": 310,
     "metadata": {},
     "output_type": "execute_result"
    }
   ],
   "source": [
    "B"
   ]
  },
  {
   "cell_type": "code",
   "execution_count": null,
   "metadata": {},
   "outputs": [],
   "source": []
  }
 ],
 "metadata": {
  "kernelspec": {
   "display_name": "Julia 1.1.0",
   "language": "julia",
   "name": "julia-1.1"
  },
  "language_info": {
   "file_extension": ".jl",
   "mimetype": "application/julia",
   "name": "julia",
   "version": "1.1.0"
  }
 },
 "nbformat": 4,
 "nbformat_minor": 2
}
