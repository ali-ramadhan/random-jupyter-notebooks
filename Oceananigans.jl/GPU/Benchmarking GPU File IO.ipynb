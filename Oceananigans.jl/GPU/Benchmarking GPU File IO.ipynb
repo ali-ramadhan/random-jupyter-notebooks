{
 "cells": [
  {
   "cell_type": "code",
   "execution_count": 12,
   "metadata": {},
   "outputs": [],
   "source": [
    "using CuArrays, BenchmarkTools"
   ]
  },
  {
   "cell_type": "code",
   "execution_count": 17,
   "metadata": {},
   "outputs": [],
   "source": [
    "xc = rand(Float32, 100, 100, 100);\n",
    "xg = cu(rand(Float32, 100, 100, 100));"
   ]
  },
  {
   "cell_type": "code",
   "execution_count": 18,
   "metadata": {},
   "outputs": [
    {
     "data": {
      "text/plain": [
       "BenchmarkTools.Trial: \n",
       "  memory estimate:  784 bytes\n",
       "  allocs estimate:  14\n",
       "  --------------\n",
       "  minimum time:     3.260 ms (0.00% GC)\n",
       "  median time:      7.203 ms (0.00% GC)\n",
       "  mean time:        9.067 ms (0.00% GC)\n",
       "  maximum time:     179.374 ms (0.00% GC)\n",
       "  --------------\n",
       "  samples:          551\n",
       "  evals/sample:     1"
      ]
     },
     "execution_count": 18,
     "metadata": {},
     "output_type": "execute_result"
    }
   ],
   "source": [
    "@benchmark write(\"straight_cpu.dat\", xc)"
   ]
  },
  {
   "cell_type": "code",
   "execution_count": 19,
   "metadata": {},
   "outputs": [
    {
     "data": {
      "text/plain": [
       "BenchmarkTools.Trial: \n",
       "  memory estimate:  213.62 MiB\n",
       "  allocs estimate:  6000014\n",
       "  --------------\n",
       "  minimum time:     10.217 s (1.07% GC)\n",
       "  median time:      10.217 s (1.07% GC)\n",
       "  mean time:        10.217 s (1.07% GC)\n",
       "  maximum time:     10.217 s (1.07% GC)\n",
       "  --------------\n",
       "  samples:          1\n",
       "  evals/sample:     1"
      ]
     },
     "execution_count": 19,
     "metadata": {},
     "output_type": "execute_result"
    }
   ],
   "source": [
    "@benchmark write(\"straight_gpu.dat\", xg)"
   ]
  },
  {
   "cell_type": "code",
   "execution_count": 20,
   "metadata": {},
   "outputs": [
    {
     "data": {
      "text/plain": [
       "BenchmarkTools.Trial: \n",
       "  memory estimate:  3.82 MiB\n",
       "  allocs estimate:  18\n",
       "  --------------\n",
       "  minimum time:     4.160 ms (0.00% GC)\n",
       "  median time:      7.553 ms (0.00% GC)\n",
       "  mean time:        9.300 ms (3.27% GC)\n",
       "  maximum time:     130.435 ms (0.88% GC)\n",
       "  --------------\n",
       "  samples:          537\n",
       "  evals/sample:     1"
      ]
     },
     "execution_count": 20,
     "metadata": {},
     "output_type": "execute_result"
    }
   ],
   "source": [
    "@benchmark write(\"convert.dat\", Array(xg))"
   ]
  },
  {
   "cell_type": "code",
   "execution_count": null,
   "metadata": {},
   "outputs": [],
   "source": []
  }
 ],
 "metadata": {
  "kernelspec": {
   "display_name": "Julia 1.1.0",
   "language": "julia",
   "name": "julia-1.1"
  },
  "language_info": {
   "file_extension": ".jl",
   "mimetype": "application/julia",
   "name": "julia",
   "version": "1.1.0"
  }
 },
 "nbformat": 4,
 "nbformat_minor": 2
}
