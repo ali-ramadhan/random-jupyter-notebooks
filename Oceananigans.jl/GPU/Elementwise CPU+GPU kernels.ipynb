{
 "cells": [
  {
   "cell_type": "code",
   "execution_count": null,
   "metadata": {},
   "outputs": [],
   "source": [
    "using Pkg\n",
    "# cd(\"D:\\\\Home\\\\Git\\\\Oceananigans.jl\")\n",
    "# cd(\"C:\\\\Users\\\\Ali\\\\Documents\\\\Git\\\\Oceananigans.jl\\\\\")\n",
    "cd(\"/home/gridsan/aramadhan/Oceananigans.jl/\")\n",
    "Pkg.activate(\".\");"
   ]
  },
  {
   "cell_type": "code",
   "execution_count": null,
   "metadata": {},
   "outputs": [],
   "source": [
    "using Oceananigans"
   ]
  },
  {
   "cell_type": "code",
   "execution_count": null,
   "metadata": {},
   "outputs": [],
   "source": [
    "# using Pkg; Pkg.test(\"Oceananigans\")"
   ]
  },
  {
   "cell_type": "code",
   "execution_count": null,
   "metadata": {},
   "outputs": [],
   "source": [
    "# include(\"examples/deep_convection_3d_gpu.jl\")"
   ]
  },
  {
   "cell_type": "code",
   "execution_count": null,
   "metadata": {},
   "outputs": [],
   "source": [
    "# deep_convection_3d_gpu()"
   ]
  },
  {
   "cell_type": "code",
   "execution_count": null,
   "metadata": {},
   "outputs": [],
   "source": [
    "include(\"examples/utils.jl\")"
   ]
  },
  {
   "cell_type": "code",
   "execution_count": null,
   "metadata": {},
   "outputs": [],
   "source": [
    "using Oceananigans\n",
    "\n",
    "Nx, Ny, Nz = 512, 1, 256\n",
    "Lx, Ly, Lz = 500, 500, 500\n",
    "Nt, Δt = 1000, 10\n",
    "ν, κ = 1e-2, 1e-2\n",
    "\n",
    "model = Model(N=(Nx, Ny, Nz), L=(Lx, Ly, Lz), ν=ν, κ=κ)\n",
    "model.boundary_conditions = BoundaryConditions(:periodic, :periodic, :rigid_lid, :no_slip)\n",
    "\n",
    "@inline fT(u,v,w,T,S,Nx,Ny,Nz,dx,dy,dz,i,j,k ) = ifelse(k ==1, -9e-6 + 1e-6*sin.( 2*pi * i / 512),0)\n",
    "model.forcing = Forcing(nothing,nothing,nothing, fT, nothing)\n",
    "\n",
    "# Write temperature field to disk every 10 time steps.\n",
    "output_writer = NetCDFOutputWriter(dir=\".\", prefix=\"convection\", frequency=40)\n",
    "push!(model.output_writers, output_writer)\n",
    "\n",
    "# Time stepping\n",
    "time_step!(model, Nt, Δt)\n",
    "\n",
    "make_temperature_movie(model, output_writer)"
   ]
  },
  {
   "cell_type": "code",
   "execution_count": null,
   "metadata": {},
   "outputs": [],
   "source": []
  }
 ],
 "metadata": {
  "kernelspec": {
   "display_name": "Julia 1.1.0",
   "language": "julia",
   "name": "julia-1.1"
  },
  "language_info": {
   "file_extension": ".jl",
   "mimetype": "application/julia",
   "name": "julia",
   "version": "1.1.0"
  }
 },
 "nbformat": 4,
 "nbformat_minor": 2
}
