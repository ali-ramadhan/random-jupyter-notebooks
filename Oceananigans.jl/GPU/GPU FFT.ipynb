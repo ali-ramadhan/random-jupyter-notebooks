{
 "cells": [
  {
   "cell_type": "code",
   "execution_count": 1,
   "metadata": {},
   "outputs": [],
   "source": [
    "import FFTW\n",
    "using CuArrays, BenchmarkTools"
   ]
  },
  {
   "cell_type": "code",
   "execution_count": 27,
   "metadata": {},
   "outputs": [
    {
     "data": {
      "text/plain": [
       "(512, 512, 256)"
      ]
     },
     "execution_count": 27,
     "metadata": {},
     "output_type": "execute_result"
    }
   ],
   "source": [
    "Nx, Ny, Nz = 512, 512, 256"
   ]
  },
  {
   "cell_type": "code",
   "execution_count": 41,
   "metadata": {},
   "outputs": [],
   "source": [
    "xc = rand(Complex{Float32}, Nx, Ny, Nz);\n",
    "xg = cu(xc);"
   ]
  },
  {
   "cell_type": "code",
   "execution_count": 42,
   "metadata": {},
   "outputs": [
    {
     "name": "stdout",
     "output_type": "stream",
     "text": [
      "  3.125125 seconds (52 allocations: 3.313 KiB)\n"
     ]
    }
   ],
   "source": [
    "@time FFTW.fft!(xc);"
   ]
  },
  {
   "cell_type": "code",
   "execution_count": 43,
   "metadata": {},
   "outputs": [
    {
     "name": "stdout",
     "output_type": "stream",
     "text": [
      "  0.009802 seconds (12 allocations: 608 bytes)\n"
     ]
    }
   ],
   "source": [
    "@time CuArrays.@sync FFTW.fft!(xg);"
   ]
  },
  {
   "cell_type": "code",
   "execution_count": 45,
   "metadata": {},
   "outputs": [
    {
     "data": {
      "text/plain": [
       "318.8252397469904"
      ]
     },
     "execution_count": 45,
     "metadata": {},
     "output_type": "execute_result"
    }
   ],
   "source": [
    "3.125125 / 0.009802"
   ]
  },
  {
   "cell_type": "code",
   "execution_count": 62,
   "metadata": {},
   "outputs": [
    {
     "ename": "ArgumentError",
     "evalue": "ArgumentError: Package AbstractFFTs not found in current path:\n- Run `import Pkg; Pkg.add(\"AbstractFFTs\")` to install the AbstractFFTs package.\n",
     "output_type": "error",
     "traceback": [
      "ArgumentError: Package AbstractFFTs not found in current path:\n- Run `import Pkg; Pkg.add(\"AbstractFFTs\")` to install the AbstractFFTs package.\n",
      "",
      "Stacktrace:",
      " [1] require(::Module, ::Symbol) at ./loading.jl:823",
      " [2] top-level scope at In[62]:1"
     ]
    }
   ],
   "source": [
    "using AbstractFFTs"
   ]
  },
  {
   "cell_type": "code",
   "execution_count": null,
   "metadata": {},
   "outputs": [],
   "source": []
  }
 ],
 "metadata": {
  "kernelspec": {
   "display_name": "Julia 1.1.0",
   "language": "julia",
   "name": "julia-1.1"
  },
  "language_info": {
   "file_extension": ".jl",
   "mimetype": "application/julia",
   "name": "julia",
   "version": "1.1.0"
  }
 },
 "nbformat": 4,
 "nbformat_minor": 2
}
