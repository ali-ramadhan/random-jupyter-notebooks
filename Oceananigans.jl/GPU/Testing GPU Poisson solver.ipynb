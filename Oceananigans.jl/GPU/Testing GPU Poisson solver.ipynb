{
 "cells": [
  {
   "cell_type": "code",
   "execution_count": 1,
   "metadata": {},
   "outputs": [],
   "source": [
    "using Pkg\n",
    "# cd(\"D:\\\\Home\\\\Git\\\\Oceananigans.jl\")\n",
    "# cd(\"C:\\\\Users\\\\Ali\\\\Documents\\\\Git\\\\Oceananigans.jl\\\\\")\n",
    "cd(\"/home/gridsan/aramadhan/Oceananigans.jl/\")\n",
    "Pkg.activate(\".\");"
   ]
  },
  {
   "cell_type": "code",
   "execution_count": 2,
   "metadata": {},
   "outputs": [],
   "source": [
    "using FFTW, Test, Statistics\n",
    "using GPUifyLoops\n",
    "using Oceananigans, Oceananigans.Operators"
   ]
  },
  {
   "cell_type": "code",
   "execution_count": 3,
   "metadata": {},
   "outputs": [],
   "source": [
    "using CuArrays, CUDAnative"
   ]
  },
  {
   "cell_type": "code",
   "execution_count": 4,
   "metadata": {},
   "outputs": [
    {
     "data": {
      "text/plain": [
       "dct_dim3_gpu! (generic function with 1 method)"
      ]
     },
     "execution_count": 4,
     "metadata": {},
     "output_type": "execute_result"
    }
   ],
   "source": [
    "function dct_dim3_gpu!(f)\n",
    "    Nx, Ny, Nz = size(f)\n",
    "    f .= cat(f[:, :, 1:2:Nz], f[:, :, Nz:-2:2]; dims=3)\n",
    "    fft!(f, 3)\n",
    "\n",
    "    factors = 2 * exp.(collect(-1im*π*(0:Nz-1) / (2*Nz)))\n",
    "    \n",
    "    # f .*= repeat(reshape(factors, 1, 1, Nz), Nx, Ny, 1)\n",
    "    f .*= cu(repeat(reshape(factors, 1, 1, Nz), Nx, Ny, 1))\n",
    "    \n",
    "    nothing\n",
    "end"
   ]
  },
  {
   "cell_type": "code",
   "execution_count": 191,
   "metadata": {},
   "outputs": [
    {
     "data": {
      "text/plain": [
       "idct_dim3_gpu! (generic function with 1 method)"
      ]
     },
     "execution_count": 191,
     "metadata": {},
     "output_type": "execute_result"
    }
   ],
   "source": [
    "function idct_dim3_gpu!(f)\n",
    "    Nx, Ny, Nz = size(f)\n",
    "    \n",
    "    bfactors = exp.(collect(1im*π*(0:Nz-1) / (2*Nz)))\n",
    "    bfactors[1] *= 0.5\n",
    "\n",
    "    f .*= cu(repeat(reshape(bfactors, 1, 1, Nz), Nx, Ny, 1))\n",
    "    ifft!(f, 3)\n",
    "    f .= cu(reshape(permutedims(cat(f[:, :, 1:Int(Nz/2)], f[:, :, end:-1:Int(Nz/2)+1]; dims=4), (1, 2, 4, 3)), Nx, Ny, Nz))\n",
    "    @. f = real(f)\n",
    "    \n",
    "    nothing\n",
    "end"
   ]
  },
  {
   "cell_type": "code",
   "execution_count": 6,
   "metadata": {},
   "outputs": [
    {
     "data": {
      "text/plain": [
       "f2ϕ! (generic function with 1 method)"
      ]
     },
     "execution_count": 6,
     "metadata": {},
     "output_type": "execute_result"
    }
   ],
   "source": [
    "function f2ϕ!(::Val{Dev}, Nx, Ny, Nz, f, ϕ, kx², ky², kz²) where Dev\n",
    "    @setup Dev\n",
    "\n",
    "    @loop for k in (1:Nz; blockIdx().z)\n",
    "        @loop for j in (1:Ny; (blockIdx().y - 1) * blockDim().y + threadIdx().y)\n",
    "            @loop for i in (1:Nx; (blockIdx().x - 1) * blockDim().x + threadIdx().x)\n",
    "                @inbounds ϕ[i, j, k] = -f[i, j, k] / (kx²[i] + ky²[j] + kz²[k])\n",
    "            end\n",
    "        end\n",
    "    end\n",
    "\n",
    "    @synchronize\n",
    "end"
   ]
  },
  {
   "cell_type": "code",
   "execution_count": 7,
   "metadata": {},
   "outputs": [
    {
     "name": "stdout",
     "output_type": "stream",
     "text": [
      "Planning Fourier transforms... (planner_flag=FFTW.PATIENT)\n",
      "FFT!:    0.154888 seconds (44 allocations: 3.031 KiB)\n",
      "IFFT!:   0.189867 seconds (16.84 k allocations: 733.172 KiB)\n",
      "DCT!:    0.016050 seconds (11.50 k allocations: 597.242 KiB)\n",
      "IDCT!:   0.010673 seconds (10.93 k allocations: 560.273 KiB)\n"
     ]
    }
   ],
   "source": [
    "Nx, Ny, Nz = 32, 16, 8\n",
    "Lx, Ly, Lz = 100, 100, 100\n",
    "\n",
    "Tx, Ty = 16, 16  # Threads per block\n",
    "Bx, By, Bz = Int(Nx/Tx), Int(Ny/Ty), Nz  # Blocks in grid.\n",
    "\n",
    "model = Model((Nx, Ny, Nz), (Lx, Ly, Lz));\n",
    "model_gpu = Model((Nx, Ny, Nz), (Lx, Ly, Lz), :gpu, Float32);"
   ]
  },
  {
   "cell_type": "code",
   "execution_count": 192,
   "metadata": {},
   "outputs": [],
   "source": [
    "RHS, RHS_orig, ϕ, pNHS, ∇²p = model.stepper_tmp.fCC1, model.stepper_tmp.fC1, model.stepper_tmp.fCC2, model.pressures.pNHS, model.stepper_tmp.fC2\n",
    "\n",
    "RAND = rand(Nx, Ny, Nz);\n",
    "RAND .= RAND .- mean(RAND);\n",
    "RHS_orig.data .= RAND;\n",
    "\n",
    "RHS.data .= RHS_orig.data;"
   ]
  },
  {
   "cell_type": "code",
   "execution_count": 193,
   "metadata": {},
   "outputs": [],
   "source": [
    "RHS_gpu, RHS_orig_gpu, ϕ_gpu = model_gpu.stepper_tmp.fCC1, model_gpu.stepper_tmp.fC1, model_gpu.stepper_tmp.fCC2\n",
    "pNHS_gpu, ∇²p_gpu = model_gpu.pressures.pNHS, model_gpu.stepper_tmp.fC2\n",
    "\n",
    "RHS_orig_gpu.data .= cu(RAND);\n",
    "RHS_gpu.data .= RHS_orig_gpu.data;"
   ]
  },
  {
   "cell_type": "code",
   "execution_count": 194,
   "metadata": {},
   "outputs": [
    {
     "data": {
      "text/plain": [
       "\u001b[32m\u001b[1mTest Passed\u001b[22m\u001b[39m"
      ]
     },
     "execution_count": 194,
     "metadata": {},
     "output_type": "execute_result"
    }
   ],
   "source": [
    "@test abs(mean(RAND)) < 1e-15\n",
    "@test RHS.data ≈ RHS_gpu.data"
   ]
  },
  {
   "cell_type": "code",
   "execution_count": 195,
   "metadata": {},
   "outputs": [],
   "source": [
    "# solve_poisson_3d_ppn!(model.grid, RHS, ϕ)\n",
    "# solve_poisson_3d_ppn_gpu!(Tx, Ty, Bx, By, Bz, model_gpu.grid, RHS_gpu, ϕ_gpu, kx², ky², kz²)"
   ]
  },
  {
   "cell_type": "code",
   "execution_count": 196,
   "metadata": {},
   "outputs": [],
   "source": [
    "g, g_gpu = model.grid, model_gpu.grid\n",
    "f, f_gpu = RHS, RHS_gpu;"
   ]
  },
  {
   "cell_type": "code",
   "execution_count": 197,
   "metadata": {},
   "outputs": [
    {
     "data": {
      "text/plain": [
       "\u001b[32m\u001b[1mTest Passed\u001b[22m\u001b[39m"
      ]
     },
     "execution_count": 197,
     "metadata": {},
     "output_type": "execute_result"
    }
   ],
   "source": [
    "kx² = zeros(g.Nx, 1)\n",
    "ky² = zeros(g.Ny, 1)\n",
    "kz² = zeros(g.Nz, 1)\n",
    "\n",
    "for i in 1:g.Nx; kx²[i] = (2sin((i-1)*π/g.Nx)    / (g.Lx/g.Nx))^2; end\n",
    "for j in 1:g.Ny; ky²[j] = (2sin((j-1)*π/g.Ny)    / (g.Ly/g.Ny))^2; end\n",
    "for k in 1:g.Nz; kz²[k] = (2sin((k-1)*π/(2g.Nz)) / (g.Lz/g.Nz))^2; end\n",
    "\n",
    "kx²_gpu = cu(zeros(g.Nx, 1))\n",
    "ky²_gpu = cu(zeros(g.Ny, 1))\n",
    "kz²_gpu = cu(zeros(g.Nz, 1))\n",
    "\n",
    "for i in 1:g.Nx; kx²_gpu[i] = (2sin((i-1)*π/g.Nx)    / (g.Lx/g.Nx))^2; end\n",
    "for j in 1:g.Ny; ky²_gpu[j] = (2sin((j-1)*π/g.Ny)    / (g.Ly/g.Ny))^2; end\n",
    "for k in 1:g.Nz; kz²_gpu[k] = (2sin((k-1)*π/(2g.Nz)) / (g.Lz/g.Nz))^2; end\n",
    "\n",
    "@test kx² ≈ kx²_gpu\n",
    "@test ky² ≈ ky²_gpu\n",
    "@test kz² ≈ kz²_gpu"
   ]
  },
  {
   "cell_type": "code",
   "execution_count": 198,
   "metadata": {},
   "outputs": [
    {
     "name": "stdout",
     "output_type": "stream",
     "text": [
      "f3 disagreement: 0/4096\n",
      "fh disagreement: 1/4096\n",
      "ϕh disagreement: 0/4096\n",
      "ϕ3 disagreement: 2/4096\n",
      "ϕ  disagreement: 1/4096\n"
     ]
    }
   ],
   "source": [
    "FFTW.r2r!(f.data, FFTW.REDFT10, 3)\n",
    "\n",
    "dct_dim3_gpu!(f_gpu.data)\n",
    "@. f_gpu.data = real(f_gpu.data)\n",
    "\n",
    "f3_dis = sum(.!(real.(f.data) .≈ real.(Array(f_gpu.data)))); println(\"f3 disagreement: $f3_dis/$(Nx*Ny*Nz)\");\n",
    "\n",
    "###\n",
    "\n",
    "FFTW.fft!(f.data, [1, 2])\n",
    "fft!(f_gpu.data, [1, 2])\n",
    "\n",
    "fh_dis = sum(.!(f.data .≈ Array(f_gpu.data))); println(\"fh disagreement: $fh_dis/$(Nx*Ny*Nz)\");\n",
    "# @test f.data ≈ f_gpu.data\n",
    "\n",
    "###\n",
    "\n",
    "for k in 1:g.Nz, j in 1:g.Ny, i in 1:g.Nx\n",
    "    @inbounds ϕ.data[i, j, k] = -f.data[i, j, k] / (kx²[i] + ky²[j] + kz²[k])\n",
    "end\n",
    "ϕ.data[1, 1, 1] = 0\n",
    "\n",
    "@cuda threads=(Tx, Ty) blocks=(Bx, By, Bz) f2ϕ!(Val(:GPU), g_gpu.Nx, g_gpu.Ny, g_gpu.Nz, f_gpu.data, ϕ_gpu.data, kx²_gpu, ky²_gpu, kz²_gpu)\n",
    "ϕ_gpu.data[1, 1, 1] = 0\n",
    "\n",
    "ϕh_dis = sum(.!(ϕ.data .≈ Array(ϕ_gpu.data))); println(\"ϕh disagreement: $ϕh_dis/$(Nx*Ny*Nz)\");\n",
    "\n",
    "###\n",
    "\n",
    "FFTW.ifft!(ϕ.data, [1, 2])\n",
    "ifft!(ϕ_gpu.data, [1, 2])\n",
    "\n",
    "ϕ3_dis = sum(.!(ϕ.data .≈ Array(ϕ_gpu.data))); println(\"ϕ3 disagreement: $ϕ3_dis/$(Nx*Ny*Nz)\");\n",
    "\n",
    "###\n",
    "\n",
    "@. ϕ.data = real(ϕ.data) / (2g.Nz)\n",
    "FFTW.r2r!(ϕ.data, FFTW.REDFT01, 3)\n",
    "\n",
    "idct_dim3_gpu!(ϕ_gpu.data)\n",
    "\n",
    "ϕ_dis = sum(.!(ϕ.data .≈ Array(ϕ_gpu.data))); println(\"ϕ  disagreement: $ϕ_dis/$(Nx*Ny*Nz)\");\n",
    "\n",
    "# ###\n",
    "\n",
    "# @. pNHS.data = real(ϕ.data)\n",
    "# @. pNHS_gpu.data = real(ϕ_gpu.data)\n",
    "# p_dis = sum(.!(pNHS.data .≈ Array(pNHS_gpu.data))); println(\"p  disagreement: $p_dis/$(Nx*Ny*Nz)\");"
   ]
  },
  {
   "cell_type": "code",
   "execution_count": 199,
   "metadata": {},
   "outputs": [
    {
     "name": "stdout",
     "output_type": "stream",
     "text": [
      "(sum(ϕ.data), sum(ϕ_gpu.data)) = (-2.2737367544323206e-12 + 0.0im, -0.00023651123f0 + 0.0f0im)\n",
      "(mean(ϕ.data), mean(ϕ_gpu.data)) = (-5.551115123125783e-16 + 0.0im, -5.7742f-8 + 0.0f0im)\n"
     ]
    }
   ],
   "source": [
    "@show sum(ϕ.data), sum(ϕ_gpu.data)\n",
    "@show mean(ϕ.data), mean(ϕ_gpu.data);"
   ]
  },
  {
   "cell_type": "code",
   "execution_count": 200,
   "metadata": {},
   "outputs": [
    {
     "data": {
      "text/plain": [
       "32×16 Array{Complex{Float64},2}:\n",
       "    2.87261+0.0im    1.04568+0.0im  …   0.672867+0.0im     2.60443+0.0im\n",
       "    5.31163+0.0im    3.95408+0.0im       1.08577+0.0im      4.7882+0.0im\n",
       "    6.80871+0.0im     3.5286+0.0im      0.147403+0.0im     6.63486+0.0im\n",
       "    7.09767+0.0im    1.21478+0.0im      0.455125+0.0im     5.76927+0.0im\n",
       "    6.07773+0.0im     1.2994+0.0im       2.15741+0.0im      4.1988+0.0im\n",
       "    2.78456+0.0im    0.57212+0.0im  …    1.42826+0.0im      1.4194+0.0im\n",
       "    2.02292+0.0im   0.492382+0.0im       2.30813+0.0im      1.4599+0.0im\n",
       "    1.16826+0.0im  -0.077845+0.0im       1.08782+0.0im    -1.70493+0.0im\n",
       " -0.0146837+0.0im    1.13906+0.0im       1.19105+0.0im    -3.59207+0.0im\n",
       "  -0.405936+0.0im   0.452514+0.0im       -2.0137+0.0im      -4.224+0.0im\n",
       "   -3.74057+0.0im   0.121658+0.0im  …   -3.47341+0.0im    -3.08093+0.0im\n",
       "   -3.67216+0.0im   0.485419+0.0im      -4.02874+0.0im    -2.99068+0.0im\n",
       "    -4.0428+0.0im   -1.75454+0.0im      -2.33733+0.0im    -3.72248+0.0im\n",
       "           ⋮                        ⋱                             ⋮     \n",
       "    5.73617+0.0im   -0.68657+0.0im  …    2.58012+0.0im     6.52214+0.0im\n",
       "    3.50512+0.0im   0.559007+0.0im       5.00979+0.0im     6.48181+0.0im\n",
       "    4.14369+0.0im  -0.814981+0.0im       5.01394+0.0im     4.04271+0.0im\n",
       "    2.54418+0.0im  -0.580769+0.0im       3.67302+0.0im     4.43959+0.0im\n",
       "    1.59689+0.0im   0.245172+0.0im       3.21387+0.0im     3.27953+0.0im\n",
       "    1.31388+0.0im   -2.36722+0.0im  …    1.05442+0.0im    0.466527+0.0im\n",
       "  0.0490159+0.0im   -1.72356+0.0im      -1.81523+0.0im    -1.44577+0.0im\n",
       "  -0.762345+0.0im    1.04914+0.0im      -3.30481+0.0im   -0.651402+0.0im\n",
       "   -1.91834+0.0im   0.939173+0.0im      -3.72037+0.0im  -0.0392292+0.0im\n",
       "   -0.20911+0.0im   -2.14999+0.0im      -2.56099+0.0im    -2.36156+0.0im\n",
       "   -0.86864+0.0im    -3.6245+0.0im  …  -0.459094+0.0im    -2.88646+0.0im\n",
       "    1.66431+0.0im   -2.37336+0.0im       0.81129+0.0im     -1.0834+0.0im"
      ]
     },
     "execution_count": 200,
     "metadata": {},
     "output_type": "execute_result"
    }
   ],
   "source": [
    "ϕ.data[:, :, 5]"
   ]
  },
  {
   "cell_type": "code",
   "execution_count": 201,
   "metadata": {},
   "outputs": [
    {
     "data": {
      "text/plain": [
       "32×16 CuArray{Complex{Float32},2}:\n",
       "     0.179538+0.0im  …   0.0420541+0.0im     0.162777+0.0im\n",
       "     0.331977+0.0im      0.0678605+0.0im     0.299262+0.0im\n",
       "     0.425544+0.0im     0.00921267+0.0im     0.414679+0.0im\n",
       "     0.443604+0.0im      0.0284452+0.0im     0.360579+0.0im\n",
       "     0.379858+0.0im       0.134838+0.0im     0.262425+0.0im\n",
       "     0.174035+0.0im  …   0.0892661+0.0im    0.0887125+0.0im\n",
       "     0.126433+0.0im       0.144258+0.0im    0.0912435+0.0im\n",
       "     0.073016+0.0im      0.0679885+0.0im    -0.106558+0.0im\n",
       " -0.000917807+0.0im      0.0744408+0.0im    -0.224504+0.0im\n",
       "    -0.025371+0.0im      -0.125856+0.0im       -0.264+0.0im\n",
       "    -0.233785+0.0im  …   -0.217088+0.0im    -0.192558+0.0im\n",
       "     -0.22951+0.0im      -0.251796+0.0im    -0.186917+0.0im\n",
       "    -0.252675+0.0im      -0.146083+0.0im    -0.232655+0.0im\n",
       "             ⋮       ⋱                               ⋮     \n",
       "      0.35851+0.0im  …    0.161258+0.0im     0.407634+0.0im\n",
       "      0.21907+0.0im       0.313112+0.0im     0.405113+0.0im\n",
       "     0.258981+0.0im       0.313371+0.0im     0.252669+0.0im\n",
       "     0.159011+0.0im       0.229564+0.0im     0.277475+0.0im\n",
       "    0.0998057+0.0im       0.200867+0.0im     0.204971+0.0im\n",
       "    0.0821175+0.0im  …    0.065901+0.0im    0.0291579+0.0im\n",
       "   0.00306344+0.0im      -0.113452+0.0im   -0.0903609+0.0im\n",
       "   -0.0476466+0.0im      -0.206551+0.0im   -0.0407127+0.0im\n",
       "    -0.119896+0.0im      -0.232523+0.0im  -0.00245185+0.0im\n",
       "   -0.0130694+0.0im      -0.160062+0.0im    -0.147597+0.0im\n",
       "     -0.05429+0.0im  …  -0.0286934+0.0im    -0.180404+0.0im\n",
       "     0.104019+0.0im      0.0507056+0.0im   -0.0677122+0.0im"
      ]
     },
     "execution_count": 201,
     "metadata": {},
     "output_type": "execute_result"
    }
   ],
   "source": [
    "ϕ_gpu.data[:, :, 5] ./ (2Nz)"
   ]
  },
  {
   "cell_type": "code",
   "execution_count": 202,
   "metadata": {},
   "outputs": [
    {
     "data": {
      "text/plain": [
       "32×16 Array{Complex{Float64},2}:\n",
       "      1.0+0.0im       1.0+0.0im  …  0.999999+0.0im       1.0+0.0im\n",
       "      1.0+0.0im       1.0+0.0im     0.999999+0.0im       1.0+0.0im\n",
       "      1.0+0.0im       1.0+0.0im     0.999998+0.0im       1.0+0.0im\n",
       "      1.0+0.0im  0.999999+0.0im     0.999998+0.0im       1.0+0.0im\n",
       "      1.0+0.0im  0.999999+0.0im          1.0+0.0im       1.0+0.0im\n",
       " 0.999999+0.0im  0.999997+0.0im  …       1.0+0.0im  0.999999+0.0im\n",
       " 0.999999+0.0im  0.999998+0.0im     0.999999+0.0im  0.999999+0.0im\n",
       " 0.999999+0.0im       1.0-0.0im     0.999999+0.0im       1.0-0.0im\n",
       "  1.00008-0.0im  0.999999+0.0im     0.999999+0.0im       1.0-0.0im\n",
       "      1.0-0.0im  0.999999+0.0im          1.0-0.0im       1.0-0.0im\n",
       "      1.0-0.0im  0.999992+0.0im  …       1.0-0.0im       1.0-0.0im\n",
       "      1.0-0.0im  0.999999+0.0im          1.0-0.0im       1.0-0.0im\n",
       "      1.0-0.0im       1.0-0.0im          1.0-0.0im       1.0-0.0im\n",
       "         ⋮                       ⋱                          ⋮     \n",
       "      1.0+0.0im       1.0-0.0im  …       1.0+0.0im       1.0+0.0im\n",
       "      1.0+0.0im       1.0+0.0im          1.0+0.0im       1.0+0.0im\n",
       "      1.0+0.0im       1.0-0.0im          1.0+0.0im       1.0+0.0im\n",
       "      1.0+0.0im       1.0-0.0im          1.0+0.0im       1.0+0.0im\n",
       "      1.0+0.0im  0.999999+0.0im          1.0+0.0im       1.0+0.0im\n",
       "      1.0+0.0im       1.0-0.0im  …       1.0+0.0im  0.999999+0.0im\n",
       " 0.999983+0.0im       1.0-0.0im          1.0-0.0im       1.0-0.0im\n",
       "      1.0-0.0im  0.999999+0.0im          1.0-0.0im       1.0-0.0im\n",
       "      1.0-0.0im       1.0+0.0im          1.0-0.0im   1.00001-0.0im\n",
       "      1.0-0.0im       1.0-0.0im          1.0-0.0im       1.0-0.0im\n",
       "      1.0-0.0im       1.0-0.0im  …       1.0-0.0im       1.0-0.0im\n",
       "      1.0+0.0im       1.0-0.0im          1.0+0.0im       1.0-0.0im"
      ]
     },
     "execution_count": 202,
     "metadata": {},
     "output_type": "execute_result"
    }
   ],
   "source": [
    "Array(ϕ_gpu.data[:, :, 5]) ./ ϕ.data[:, :, 5]"
   ]
  },
  {
   "cell_type": "code",
   "execution_count": null,
   "metadata": {},
   "outputs": [],
   "source": []
  }
 ],
 "metadata": {
  "kernelspec": {
   "display_name": "Julia 1.1.0",
   "language": "julia",
   "name": "julia-1.1"
  },
  "language_info": {
   "file_extension": ".jl",
   "mimetype": "application/julia",
   "name": "julia",
   "version": "1.1.0"
  }
 },
 "nbformat": 4,
 "nbformat_minor": 2
}
