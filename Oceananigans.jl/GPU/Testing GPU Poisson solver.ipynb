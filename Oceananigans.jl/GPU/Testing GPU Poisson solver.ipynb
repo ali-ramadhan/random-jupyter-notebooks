{
 "cells": [
  {
   "cell_type": "code",
   "execution_count": 3,
   "metadata": {},
   "outputs": [],
   "source": [
    "using Pkg\n",
    "# cd(\"D:\\\\Home\\\\Git\\\\Oceananigans.jl\")\n",
    "# cd(\"C:\\\\Users\\\\Ali\\\\Documents\\\\Git\\\\Oceananigans.jl\\\\\")\n",
    "cd(\"/home/gridsan/aramadhan/Oceananigans.jl/\")\n",
    "Pkg.activate(\".\");"
   ]
  },
  {
   "cell_type": "code",
   "execution_count": 4,
   "metadata": {},
   "outputs": [],
   "source": [
    "using FFTW, Test, Statistics\n",
    "using GPUifyLoops\n",
    "using Oceananigans, Oceananigans.Operators"
   ]
  },
  {
   "cell_type": "code",
   "execution_count": 5,
   "metadata": {},
   "outputs": [],
   "source": [
    "using CuArrays, CUDAnative"
   ]
  },
  {
   "cell_type": "code",
   "execution_count": 4,
   "metadata": {},
   "outputs": [
    {
     "data": {
      "text/plain": [
       "dct_dim3_gpu! (generic function with 1 method)"
      ]
     },
     "execution_count": 4,
     "metadata": {},
     "output_type": "execute_result"
    }
   ],
   "source": [
    "function dct_dim3_gpu!(f)\n",
    "    Nx, Ny, Nz = size(f)\n",
    "    f .= cat(f[:, :, 1:2:Nz], f[:, :, Nz:-2:2]; dims=3)\n",
    "    fft!(f, 3)\n",
    "\n",
    "    factors = 2 * exp.(collect(-1im*π*(0:Nz-1) / (2*Nz)))\n",
    "    \n",
    "    # f .*= repeat(reshape(factors, 1, 1, Nz), Nx, Ny, 1)\n",
    "    f .*= cu(repeat(reshape(factors, 1, 1, Nz), Nx, Ny, 1))\n",
    "    \n",
    "    nothing\n",
    "end"
   ]
  },
  {
   "cell_type": "code",
   "execution_count": 5,
   "metadata": {},
   "outputs": [
    {
     "data": {
      "text/plain": [
       "idct_dim3_gpu! (generic function with 1 method)"
      ]
     },
     "execution_count": 5,
     "metadata": {},
     "output_type": "execute_result"
    }
   ],
   "source": [
    "function idct_dim3_gpu!(f)\n",
    "    Nx, Ny, Nz = size(f)\n",
    "    \n",
    "    bfactors = exp.(collect(1im*π*(0:Nz-1) / (2*Nz)))\n",
    "    bfactors[1] *= 0.5\n",
    "\n",
    "    f .*= cu(repeat(reshape(bfactors, 1, 1, Nz), Nx, Ny, 1))\n",
    "    ifft!(f, 3)\n",
    "    \n",
    "    f .= cu(reshape(permutedims(cat(f[:, :, 1:Int(Nz/2)], f[:, :, end:-1:Int(Nz/2)+1]; dims=4), (1, 2, 4, 3)), Nx, Ny, Nz))\n",
    "    @. f = real(f)\n",
    "    \n",
    "    nothing\n",
    "end"
   ]
  },
  {
   "cell_type": "code",
   "execution_count": 6,
   "metadata": {},
   "outputs": [
    {
     "data": {
      "text/plain": [
       "f2ϕ! (generic function with 1 method)"
      ]
     },
     "execution_count": 6,
     "metadata": {},
     "output_type": "execute_result"
    }
   ],
   "source": [
    "function f2ϕ!(::Val{Dev}, Nx, Ny, Nz, f, ϕ, kx², ky², kz²) where Dev\n",
    "    @setup Dev\n",
    "\n",
    "    @loop for k in (1:Nz; blockIdx().z)\n",
    "        @loop for j in (1:Ny; (blockIdx().y - 1) * blockDim().y + threadIdx().y)\n",
    "            @loop for i in (1:Nx; (blockIdx().x - 1) * blockDim().x + threadIdx().x)\n",
    "                @inbounds ϕ[i, j, k] = -f[i, j, k] / (kx²[i] + ky²[j] + kz²[k])\n",
    "            end\n",
    "        end\n",
    "    end\n",
    "\n",
    "    @synchronize\n",
    "end"
   ]
  },
  {
   "cell_type": "code",
   "execution_count": 7,
   "metadata": {},
   "outputs": [
    {
     "name": "stdout",
     "output_type": "stream",
     "text": [
      "Planning Fourier transforms... (planner_flag=FFTW.PATIENT)\n",
      "FFT!:    0.144970 seconds (44 allocations: 3.031 KiB)\n",
      "IFFT!:   0.180569 seconds (16.84 k allocations: 733.172 KiB)\n",
      "DCT!:    0.015728 seconds (11.50 k allocations: 597.242 KiB)\n",
      "IDCT!:   0.010615 seconds (10.93 k allocations: 560.273 KiB)\n"
     ]
    }
   ],
   "source": [
    "Nx, Ny, Nz = 32, 16, 8\n",
    "Lx, Ly, Lz = 100, 100, 100\n",
    "\n",
    "Tx, Ty = 16, 16  # Threads per block\n",
    "Bx, By, Bz = Int(Nx/Tx), Int(Ny/Ty), Nz  # Blocks in grid.\n",
    "\n",
    "model = Model((Nx, Ny, Nz), (Lx, Ly, Lz));\n",
    "model_gpu = Model((Nx, Ny, Nz), (Lx, Ly, Lz), :gpu, Float32);"
   ]
  },
  {
   "cell_type": "code",
   "execution_count": 8,
   "metadata": {},
   "outputs": [],
   "source": [
    "RHS, RHS_orig, ϕ, pNHS, ∇²p = model.stepper_tmp.fCC1, model.stepper_tmp.fC1, model.stepper_tmp.fCC2, model.pressures.pNHS, model.stepper_tmp.fC2\n",
    "\n",
    "RAND = rand(Nx, Ny, Nz);\n",
    "RAND .= RAND .- mean(RAND);\n",
    "RHS_orig.data .= RAND;\n",
    "\n",
    "RHS.data .= RHS_orig.data;"
   ]
  },
  {
   "cell_type": "code",
   "execution_count": 9,
   "metadata": {},
   "outputs": [],
   "source": [
    "RHS_gpu, RHS_orig_gpu, ϕ_gpu = model_gpu.stepper_tmp.fCC1, model_gpu.stepper_tmp.fC1, model_gpu.stepper_tmp.fCC2\n",
    "pNHS_gpu, ∇²p_gpu = model_gpu.pressures.pNHS, model_gpu.stepper_tmp.fC2\n",
    "\n",
    "RHS_orig_gpu.data .= cu(RAND);\n",
    "RHS_gpu.data .= RHS_orig_gpu.data;"
   ]
  },
  {
   "cell_type": "code",
   "execution_count": 10,
   "metadata": {},
   "outputs": [
    {
     "data": {
      "text/plain": [
       "\u001b[32m\u001b[1mTest Passed\u001b[22m\u001b[39m"
      ]
     },
     "execution_count": 10,
     "metadata": {},
     "output_type": "execute_result"
    }
   ],
   "source": [
    "@test abs(mean(RAND)) < 1e-15\n",
    "@test RHS.data ≈ RHS_gpu.data"
   ]
  },
  {
   "cell_type": "code",
   "execution_count": 11,
   "metadata": {},
   "outputs": [],
   "source": [
    "# solve_poisson_3d_ppn!(model.grid, RHS, ϕ)\n",
    "# solve_poisson_3d_ppn_gpu!(Tx, Ty, Bx, By, Bz, model_gpu.grid, RHS_gpu, ϕ_gpu, kx², ky², kz²)"
   ]
  },
  {
   "cell_type": "code",
   "execution_count": 12,
   "metadata": {},
   "outputs": [],
   "source": [
    "g, g_gpu = model.grid, model_gpu.grid\n",
    "f, f_gpu = RHS, RHS_gpu;"
   ]
  },
  {
   "cell_type": "code",
   "execution_count": 13,
   "metadata": {},
   "outputs": [
    {
     "data": {
      "text/plain": [
       "\u001b[32m\u001b[1mTest Passed\u001b[22m\u001b[39m"
      ]
     },
     "execution_count": 13,
     "metadata": {},
     "output_type": "execute_result"
    }
   ],
   "source": [
    "kx² = zeros(g.Nx, 1)\n",
    "ky² = zeros(g.Ny, 1)\n",
    "kz² = zeros(g.Nz, 1)\n",
    "\n",
    "for i in 1:g.Nx; kx²[i] = (2sin((i-1)*π/g.Nx)    / (g.Lx/g.Nx))^2; end\n",
    "for j in 1:g.Ny; ky²[j] = (2sin((j-1)*π/g.Ny)    / (g.Ly/g.Ny))^2; end\n",
    "for k in 1:g.Nz; kz²[k] = (2sin((k-1)*π/(2g.Nz)) / (g.Lz/g.Nz))^2; end\n",
    "\n",
    "kx²_gpu = cu(zeros(g.Nx, 1))\n",
    "ky²_gpu = cu(zeros(g.Ny, 1))\n",
    "kz²_gpu = cu(zeros(g.Nz, 1))\n",
    "\n",
    "for i in 1:g.Nx; kx²_gpu[i] = (2sin((i-1)*π/g.Nx)    / (g.Lx/g.Nx))^2; end\n",
    "for j in 1:g.Ny; ky²_gpu[j] = (2sin((j-1)*π/g.Ny)    / (g.Ly/g.Ny))^2; end\n",
    "for k in 1:g.Nz; kz²_gpu[k] = (2sin((k-1)*π/(2g.Nz)) / (g.Lz/g.Nz))^2; end\n",
    "\n",
    "@test kx² ≈ kx²_gpu\n",
    "@test ky² ≈ ky²_gpu\n",
    "@test kz² ≈ kz²_gpu"
   ]
  },
  {
   "cell_type": "code",
   "execution_count": 14,
   "metadata": {},
   "outputs": [
    {
     "name": "stdout",
     "output_type": "stream",
     "text": [
      "f3 disagreement: 0/4096\n",
      "fh disagreement: 1/4096\n",
      "ϕh disagreement: 0/4096\n",
      "ϕ3 disagreement: 1/4096\n",
      "ϕ  disagreement: 1/4096\n",
      "p  disagreement: 1/4096\n"
     ]
    }
   ],
   "source": [
    "FFTW.r2r!(f.data, FFTW.REDFT10, 3)\n",
    "\n",
    "dct_dim3_gpu!(f_gpu.data)\n",
    "@. f_gpu.data = real(f_gpu.data)\n",
    "\n",
    "f3_dis = sum(.!(real.(f.data) .≈ real.(Array(f_gpu.data)))); println(\"f3 disagreement: $f3_dis/$(Nx*Ny*Nz)\");\n",
    "\n",
    "###\n",
    "\n",
    "FFTW.fft!(f.data, [1, 2])\n",
    "fft!(f_gpu.data, [1, 2])\n",
    "\n",
    "fh_dis = sum(.!(f.data .≈ Array(f_gpu.data))); println(\"fh disagreement: $fh_dis/$(Nx*Ny*Nz)\");\n",
    "# @test f.data ≈ f_gpu.data\n",
    "\n",
    "###\n",
    "\n",
    "for k in 1:g.Nz, j in 1:g.Ny, i in 1:g.Nx\n",
    "    @inbounds ϕ.data[i, j, k] = -f.data[i, j, k] / (kx²[i] + ky²[j] + kz²[k])\n",
    "end\n",
    "ϕ.data[1, 1, 1] = 0\n",
    "\n",
    "@cuda threads=(Tx, Ty) blocks=(Bx, By, Bz) f2ϕ!(Val(:GPU), g_gpu.Nx, g_gpu.Ny, g_gpu.Nz, f_gpu.data, ϕ_gpu.data, kx²_gpu, ky²_gpu, kz²_gpu)\n",
    "ϕ_gpu.data[1, 1, 1] = 0\n",
    "\n",
    "ϕh_dis = sum(.!(ϕ.data .≈ Array(ϕ_gpu.data))); println(\"ϕh disagreement: $ϕh_dis/$(Nx*Ny*Nz)\");\n",
    "\n",
    "###\n",
    "\n",
    "FFTW.ifft!(ϕ.data, [1, 2])\n",
    "ifft!(ϕ_gpu.data, [1, 2])\n",
    "\n",
    "ϕ3_dis = sum(.!(ϕ.data .≈ Array(ϕ_gpu.data))); println(\"ϕ3 disagreement: $ϕ3_dis/$(Nx*Ny*Nz)\");\n",
    "\n",
    "###\n",
    "\n",
    "@. ϕ.data = real(ϕ.data) / (2g.Nz)\n",
    "FFTW.r2r!(ϕ.data, FFTW.REDFT01, 3)\n",
    "\n",
    "idct_dim3_gpu!(ϕ_gpu.data)\n",
    "\n",
    "ϕ_dis = sum(.!(ϕ.data .≈ Array(ϕ_gpu.data))); println(\"ϕ  disagreement: $ϕ_dis/$(Nx*Ny*Nz)\");\n",
    "\n",
    "# ###\n",
    "\n",
    "@. pNHS.data = real(ϕ.data)\n",
    "@. pNHS_gpu.data = real(ϕ_gpu.data)\n",
    "p_dis = sum(.!(pNHS.data .≈ Array(pNHS_gpu.data))); println(\"p  disagreement: $p_dis/$(Nx*Ny*Nz)\");"
   ]
  },
  {
   "cell_type": "code",
   "execution_count": 15,
   "metadata": {},
   "outputs": [
    {
     "name": "stdout",
     "output_type": "stream",
     "text": [
      "(sum(ϕ.data), sum(ϕ_gpu.data)) = (-1.8189894035458565e-12 + 0.0im, 0.003162384f0 + 0.0f0im)\n",
      "(mean(ϕ.data), mean(ϕ_gpu.data)) = (-4.440892098500626e-16 + 0.0im, 7.720664f-7 + 0.0f0im)\n"
     ]
    }
   ],
   "source": [
    "@show sum(ϕ.data), sum(ϕ_gpu.data)\n",
    "@show mean(ϕ.data), mean(ϕ_gpu.data);"
   ]
  },
  {
   "cell_type": "code",
   "execution_count": 16,
   "metadata": {},
   "outputs": [
    {
     "data": {
      "text/plain": [
       "∇²_ppn (generic function with 1 method)"
      ]
     },
     "execution_count": 16,
     "metadata": {},
     "output_type": "execute_result"
    }
   ],
   "source": [
    "@inline incmod1(a, n) = a == n ? one(a) : a + 1\n",
    "@inline decmod1(a, n) = a == 1 ? n : a - 1\n",
    "\n",
    "function ∇²_ppn(g, f)\n",
    "    Nx, Ny, Nz = g.Nx, g.Ny, g.Nz\n",
    "    Δx, Δy, Δz = g.Δx, g.Δy, g.Δz\n",
    "    ∇²f = zeros(Nx, Ny, Nz)\n",
    "    for k in 2:(Nz-1), j in 1:Ny, i in 1:Nx\n",
    "       ∇²f[i, j, k] = (f[incmod1(i, Nx), j, k] - 2*f[i, j, k] + f[decmod1(i, Nx), j, k]) / Δx^2 +\n",
    "                      (f[i, incmod1(j, Ny), k] - 2*f[i, j, k] + f[i, decmod1(j, Ny), k]) / Δy^2 +\n",
    "                      (f[i, j, k+1]            - 2*f[i, j, k] + f[i, j, k-1])            / Δz^2\n",
    "    end\n",
    "    for j in 1:Ny, i in 1:Nx\n",
    "        ∇²f[i, j,   1] = (f[i, j, 2] - f[i, j, 1]) / Δz^2 +\n",
    "                         (f[incmod1(i, Nx), j, 1] - 2*f[i, j, 1] + f[decmod1(i, Nx), j, 1]) / Δx^2 +\n",
    "                         (f[i, incmod1(j, Ny), 1] - 2*f[i, j, 1] + f[i, decmod1(j, Ny), 1]) / Δy^2\n",
    "        ∇²f[i, j, end] = (f[i, j, end-1] - f[i, j, end]) / Δz^2 +\n",
    "                         (f[incmod1(i, Nx), j, end] - 2*f[i, j, end] + f[decmod1(i, Nx), j, end]) / Δx^2 +\n",
    "                         (f[i, incmod1(j, Ny), end] - 2*f[i, j, end] + f[i, decmod1(j, Ny), end]) / Δy^2\n",
    "    end\n",
    "    ∇²f\n",
    "end"
   ]
  },
  {
   "cell_type": "code",
   "execution_count": 17,
   "metadata": {},
   "outputs": [
    {
     "data": {
      "text/plain": [
       "\u001b[32m\u001b[1mTest Passed\u001b[22m\u001b[39m"
      ]
     },
     "execution_count": 17,
     "metadata": {},
     "output_type": "execute_result"
    }
   ],
   "source": [
    "@test Float32.(∇²_ppn(g, pNHS.data)) ≈ RAND"
   ]
  },
  {
   "cell_type": "code",
   "execution_count": 18,
   "metadata": {},
   "outputs": [
    {
     "data": {
      "text/plain": [
       "\u001b[32m\u001b[1mTest Passed\u001b[22m\u001b[39m"
      ]
     },
     "execution_count": 18,
     "metadata": {},
     "output_type": "execute_result"
    }
   ],
   "source": [
    "@test Float32.(∇²_ppn(g, Array(pNHS_gpu.data))) ≈ RAND"
   ]
  },
  {
   "cell_type": "code",
   "execution_count": 84,
   "metadata": {},
   "outputs": [
    {
     "data": {
      "text/plain": [
       "f2ϕ! (generic function with 1 method)"
      ]
     },
     "execution_count": 84,
     "metadata": {},
     "output_type": "execute_result"
    }
   ],
   "source": [
    "function dct_permute!(::Val{Dev}, Nx, Ny, Nz, A, B) where Dev\n",
    "    @setup Dev\n",
    "\n",
    "    @loop for k in (1:Nz; blockIdx().z)\n",
    "        @loop for j in (1:Ny; (blockIdx().y - 1) * blockDim().y + threadIdx().y)\n",
    "            @loop for i in (1:Nx; (blockIdx().x - 1) * blockDim().x + threadIdx().x)\n",
    "                if CUDAnative.ffs(k) == 1  # isodd(k)\n",
    "                    @inbounds B[i, j, convert(UInt32, CUDAnative.floor(k/2) + 1)] = A[i, j, k]\n",
    "                else\n",
    "                    @inbounds B[i, j, convert(UInt32, Nz - CUDAnative.floor((k-1)/2))] = A[i, j, k]\n",
    "                end\n",
    "            end\n",
    "        end\n",
    "    end\n",
    "\n",
    "    @synchronize\n",
    "end\n",
    "\n",
    "function dct_dim3_gpu!(f)\n",
    "    Nx, Ny, Nz = size(f)\n",
    "    \n",
    "    # f .= cat(f[:, :, 1:2:Nz], f[:, :, Nz:-2:2]; dims=3)\n",
    "    g = CuArray{eltype(f)}(undef, size(f))\n",
    "    @cuda threads=(Tx, Ty) blocks=(Bx, By, Bz) dct_permute!(Val(:GPU), Nx, Ny, Nz, f, g)\n",
    "    f .= g\n",
    "    \n",
    "    fft!(f, 3)\n",
    "\n",
    "    factors = 2 * exp.(collect(-1im*π*(0:Nz-1) / (2*Nz)))\n",
    "    \n",
    "    # f .*= repeat(reshape(factors, 1, 1, Nz), Nx, Ny, 1)\n",
    "    f .*= cu(repeat(reshape(factors, 1, 1, Nz), Nx, Ny, 1))\n",
    "    \n",
    "    nothing\n",
    "end\n",
    "\n",
    "function idct_permute!(::Val{Dev}, Nx, Ny, Nz, A, B) where Dev\n",
    "    @setup Dev\n",
    "\n",
    "    @loop for k in (1:Nz; blockIdx().z)\n",
    "        @loop for j in (1:Ny; (blockIdx().y - 1) * blockDim().y + threadIdx().y)\n",
    "            @loop for i in (1:Nx; (blockIdx().x - 1) * blockDim().x + threadIdx().x)\n",
    "                if k <= Nz/2\n",
    "                    @inbounds B[i, j, 2k-1] = A[i, j, k]\n",
    "                else\n",
    "                    @inbounds B[i, j, 2(Nz-k+1)] = A[i, j, k]\n",
    "                end\n",
    "            end\n",
    "        end\n",
    "    end\n",
    "\n",
    "    @synchronize\n",
    "end\n",
    "\n",
    "function idct_dim3_gpu!(f)\n",
    "    Nx, Ny, Nz = size(f)\n",
    "    \n",
    "    bfactors = exp.(collect(1im*π*(0:Nz-1) / (2*Nz)))\n",
    "    bfactors[1] *= 0.5\n",
    "\n",
    "    f .*= cu(repeat(reshape(bfactors, 1, 1, Nz), Nx, Ny, 1))\n",
    "    ifft!(f, 3)\n",
    "    \n",
    "    # f .= cu(reshape(permutedims(cat(f[:, :, 1:Int(Nz/2)], f[:, :, end:-1:Int(Nz/2)+1]; dims=4), (1, 2, 4, 3)), Nx, Ny, Nz))\n",
    "    # @. f = real(f)  # Don't do it here. We'll do it when assigning real(ϕ) to pNHS to save some measly FLOPS.\n",
    "    \n",
    "    g = CuArray{eltype(f)}(undef, size(f))\n",
    "    @cuda threads=(Tx, Ty) blocks=(Bx, By, Bz) idct_permute!(Val(:GPU), Nx, Ny, Nz, f, g)\n",
    "    f .= g\n",
    "    \n",
    "    nothing\n",
    "end\n",
    "\n",
    "function solve_poisson_3d_ppn_gpu_NEW!(Tx, Ty, Bx, By, Bz, g::RegularCartesianGrid, f::CellField, ϕ::CellField, kx², ky², kz²)\n",
    "    dct_dim3_gpu!(f.data)\n",
    "    @. f.data = real(f.data)\n",
    "    \n",
    "    fft!(f.data, [1, 2])\n",
    "\n",
    "    @cuda threads=(Tx, Ty) blocks=(Bx, By, Bz) f2ϕ!(Val(:GPU), g.Nx, g.Ny, g.Nz, f.data, ϕ.data, kx², ky², kz²)\n",
    "    ϕ.data[1, 1, 1] = 0\n",
    "\n",
    "    ifft!(ϕ.data, [1, 2])\n",
    "    idct_dim3_gpu!(ϕ.data)\n",
    "\n",
    "    nothing\n",
    "end\n",
    "\n",
    "function f2ϕ!(::Val{Dev}, Nx, Ny, Nz, f, ϕ, kx², ky², kz²) where Dev\n",
    "    @setup Dev\n",
    "\n",
    "    @loop for k in (1:Nz; blockIdx().z)\n",
    "        @loop for j in (1:Ny; (blockIdx().y - 1) * blockDim().y + threadIdx().y)\n",
    "            @loop for i in (1:Nx; (blockIdx().x - 1) * blockDim().x + threadIdx().x)\n",
    "                @inbounds ϕ[i, j, k] = -f[i, j, k] / (kx²[i] + ky²[j] + kz²[k])\n",
    "            end\n",
    "        end\n",
    "    end\n",
    "\n",
    "    @synchronize\n",
    "end"
   ]
  },
  {
   "cell_type": "code",
   "execution_count": 85,
   "metadata": {},
   "outputs": [
    {
     "name": "stdout",
     "output_type": "stream",
     "text": [
      "mean(RHS_orig.data) = 3.8955477f-8\n",
      "mean(RHS.data) = 4.193861968815327e-8 + 0.0im\n",
      "#= In[85]:32 =# @test(abs(mean(RHS_orig.data)) < 10 * eps(Float32)) = Test Passed\n",
      "Correct: 4093/4096"
     ]
    }
   ],
   "source": [
    "Nx, Ny, Nz = 32, 16, 8\n",
    "Lx, Ly, Lz = 100, 100, 100\n",
    "\n",
    "Tx, Ty = 16, 16  # Threads per block\n",
    "Bx, By, Bz = Int(Nx/Tx), Int(Ny/Ty), Nz  # Blocks in grid.\n",
    "\n",
    "model_gpu = Model((Nx, Ny, Nz), (Lx, Ly, Lz), :gpu, Float32);\n",
    "\n",
    "g = model_gpu.grid\n",
    "\n",
    "kx²_gpu = cu(zeros(g.Nx, 1))\n",
    "ky²_gpu = cu(zeros(g.Ny, 1))\n",
    "kz²_gpu = cu(zeros(g.Nz, 1))\n",
    "\n",
    "for i in 1:g.Nx; kx²_gpu[i] = (2sin((i-1)*π/g.Nx)    / (g.Lx/g.Nx))^2; end\n",
    "for j in 1:g.Ny; ky²_gpu[j] = (2sin((j-1)*π/g.Ny)    / (g.Ly/g.Ny))^2; end\n",
    "for k in 1:g.Nz; kz²_gpu[k] = (2sin((k-1)*π/(2g.Nz)) / (g.Lz/g.Nz))^2; end\n",
    "\n",
    "RHS_orig = model_gpu.stepper_tmp.fC1\n",
    "RHS      = model_gpu.stepper_tmp.fCC1\n",
    "ϕ        = model_gpu.stepper_tmp.fCC2\n",
    "pNHS     = CellField(model_gpu.metadata, model_gpu.grid, Float32)\n",
    "∇²ϕ      = CellField(model_gpu.metadata, model_gpu.grid, Float32)\n",
    "\n",
    "RHS_orig.data .= cu(rand(Float32, Nx, Ny, Nz))\n",
    "RHS_orig.data .= RHS_orig.data .- mean(RHS_orig.data)\n",
    "RHS.data .= RHS_orig.data\n",
    "\n",
    "@show mean(RHS_orig.data)\n",
    "@show mean(RHS.data)\n",
    "\n",
    "@show @test abs(mean(RHS_orig.data)) < 10*eps(Float32)\n",
    "\n",
    "solve_poisson_3d_ppn_gpu_NEW!(Tx, Ty, Bx, By, Bz, model_gpu.grid, RHS, ϕ, kx²_gpu, ky²_gpu, kz²_gpu)\n",
    "\n",
    "pNHS.data .= real.(ϕ.data)\n",
    "\n",
    "Oceananigans.Operators.∇²_ppn!(model_gpu.grid, pNHS, ∇²ϕ)\n",
    "\n",
    "print(\"Correct: \" * string(sum(∇²ϕ.data .≈ RHS_orig.data)) * \"/\" * string(Nx*Ny*Nz))"
   ]
  },
  {
   "cell_type": "code",
   "execution_count": null,
   "metadata": {},
   "outputs": [],
   "source": []
  }
 ],
 "metadata": {
  "kernelspec": {
   "display_name": "Julia 1.1.0",
   "language": "julia",
   "name": "julia-1.1"
  },
  "language_info": {
   "file_extension": ".jl",
   "mimetype": "application/julia",
   "name": "julia",
   "version": "1.1.0"
  }
 },
 "nbformat": 4,
 "nbformat_minor": 2
}
