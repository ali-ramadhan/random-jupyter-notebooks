{
 "cells": [
  {
   "cell_type": "code",
   "execution_count": 1,
   "metadata": {},
   "outputs": [],
   "source": [
    "using Pkg\n",
    "# cd(\"D:\\\\Home\\\\Git\\\\Oceananigans.jl\")\n",
    "# cd(\"C:\\\\Users\\\\Ali\\\\Documents\\\\Git\\\\Oceananigans.jl\\\\\")\n",
    "cd(\"/home/gridsan/aramadhan/Oceananigans.jl/\")\n",
    "Pkg.activate(\".\");"
   ]
  },
  {
   "cell_type": "code",
   "execution_count": 105,
   "metadata": {},
   "outputs": [],
   "source": [
    "using FFTW, Test, Statistics\n",
    "using GPUifyLoops\n",
    "using Oceananigans, Oceananigans.Operators"
   ]
  },
  {
   "cell_type": "code",
   "execution_count": 110,
   "metadata": {},
   "outputs": [],
   "source": [
    "using CuArrays, CUDAnative"
   ]
  },
  {
   "cell_type": "code",
   "execution_count": 6,
   "metadata": {},
   "outputs": [
    {
     "data": {
      "text/plain": [
       "dct_dim3_gpu! (generic function with 1 method)"
      ]
     },
     "execution_count": 6,
     "metadata": {},
     "output_type": "execute_result"
    }
   ],
   "source": [
    "function dct_dim3_gpu!(f)\n",
    "    Nx, Ny, Nz = size(f)\n",
    "    f .= cat(f[:, :, 1:2:Nz], f[:, :, Nz:-2:2]; dims=3)\n",
    "    fft!(f, 3)\n",
    "\n",
    "    factors = 2 * exp.(collect(-1im*π*(0:Nz-1) / (2*Nz)))\n",
    "    \n",
    "    # f .*= repeat(reshape(factors, 1, 1, Nz), Nx, Ny, 1)\n",
    "    f .*= cu(repeat(reshape(factors, 1, 1, Nz), Nx, Ny, 1))\n",
    "    \n",
    "    nothing\n",
    "end"
   ]
  },
  {
   "cell_type": "code",
   "execution_count": 7,
   "metadata": {},
   "outputs": [
    {
     "data": {
      "text/plain": [
       "idct_dim3_gpu! (generic function with 1 method)"
      ]
     },
     "execution_count": 7,
     "metadata": {},
     "output_type": "execute_result"
    }
   ],
   "source": [
    "function idct_dim3_gpu!(f)\n",
    "    Nx, Ny, Nz = size(f)\n",
    "    \n",
    "    bfactors = 0.5 * exp.(collect(1im*π*(0:Nz-1) / (2*Nz)))\n",
    "    # f .*= repeat(reshape(bfactors, 1, 1, Nz), Nx, Ny, 1)\n",
    "    f .*= cu(repeat(reshape(bfactors, 1, 1, Nz), Nx, Ny, 1))\n",
    "    \n",
    "    ifft!(f, 3)\n",
    "    \n",
    "    # f = cat(f[:, :, 1:Int(Nz/2)], f[:, :, end:-1:Int(Nz/2)+1]; dims=4)\n",
    "    # f = reshape(permutedims(f, (1, 2, 4, 3)), Nx, Ny, Nz)\n",
    "    # f .= reshape(permutedims(cat(f[:, :, 1:Int(Nz/2)], f[:, :, end:-1:Int(Nz/2)+1]; dims=4), (1, 2, 4, 3)), Nx, Ny, Nz)\n",
    "    f .= cu(reshape(permutedims(cat(f[:, :, 1:Int(Nz/2)], f[:, :, end:-1:Int(Nz/2)+1]; dims=4), (1, 2, 4, 3)), Nx, Ny, Nz))\n",
    "    \n",
    "    nothing\n",
    "end"
   ]
  },
  {
   "cell_type": "code",
   "execution_count": 106,
   "metadata": {},
   "outputs": [
    {
     "data": {
      "text/plain": [
       "f2ϕ! (generic function with 1 method)"
      ]
     },
     "execution_count": 106,
     "metadata": {},
     "output_type": "execute_result"
    }
   ],
   "source": [
    "function f2ϕ!(::Val{Dev}, Nx, Ny, Nz, f, ϕ, kx², ky², kz²) where Dev\n",
    "    @setup Dev\n",
    "\n",
    "    @loop for k in (1:Nz; blockIdx().z)\n",
    "        @loop for j in (1:Ny; (blockIdx().y - 1) * blockDim().y + threadIdx().y)\n",
    "            @loop for i in (1:Nx; (blockIdx().x - 1) * blockDim().x + threadIdx().x)\n",
    "                @inbounds ϕ[i, j, k] = -f[i, j, k] / (kx²[i] + ky²[j] + kz²[k])\n",
    "            end\n",
    "        end\n",
    "    end\n",
    "\n",
    "    @synchronize\n",
    "end"
   ]
  },
  {
   "cell_type": "code",
   "execution_count": 162,
   "metadata": {},
   "outputs": [
    {
     "name": "stdout",
     "output_type": "stream",
     "text": [
      "Planning Fourier transforms... (planner_flag=FFTW.PATIENT)\n",
      "FFT!:    0.000106 seconds (44 allocations: 3.031 KiB)\n",
      "IFFT!:   0.000081 seconds (52 allocations: 3.438 KiB)\n",
      "DCT!:    0.000053 seconds (57 allocations: 4.000 KiB)\n",
      "IDCT!:   0.000037 seconds (57 allocations: 4.000 KiB)\n"
     ]
    }
   ],
   "source": [
    "Nx, Ny, Nz = 32, 16, 8\n",
    "Lx, Ly, Lz = 100, 100, 100\n",
    "\n",
    "Tx, Ty = 16, 16  # Threads per block\n",
    "Bx, By, Bz = Int(Nx/Tx), Int(Ny/Ty), Nz  # Blocks in grid.\n",
    "\n",
    "model = Model((Nx, Ny, Nz), (Lx, Ly, Lz));\n",
    "model_gpu = Model((Nx, Ny, Nz), (Lx, Ly, Lz), :gpu, Float32);"
   ]
  },
  {
   "cell_type": "code",
   "execution_count": 380,
   "metadata": {},
   "outputs": [],
   "source": [
    "RHS, RHS_orig, ϕ, pNHS, ∇²p = model.stepper_tmp.fCC1, model.stepper_tmp.fC1, model.stepper_tmp.fCC2, model.pressures.pNHS, model.stepper_tmp.fC2\n",
    "\n",
    "RAND = rand(Nx, Ny, Nz);\n",
    "RAND .= RAND .- mean(RAND);\n",
    "RHS_orig.data .= RAND;\n",
    "\n",
    "RHS.data .= RHS_orig.data;"
   ]
  },
  {
   "cell_type": "code",
   "execution_count": 381,
   "metadata": {},
   "outputs": [],
   "source": [
    "RHS_gpu, RHS_orig_gpu, ϕ_gpu = model_gpu.stepper_tmp.fCC1, model_gpu.stepper_tmp.fC1, model_gpu.stepper_tmp.fCC2\n",
    "pNHS_gpu, ∇²p_gpu = model_gpu.pressures.pNHS, model_gpu.stepper_tmp.fC2\n",
    "\n",
    "RHS_orig_gpu.data .= cu(RAND);\n",
    "RHS_gpu.data .= RHS_orig_gpu.data;"
   ]
  },
  {
   "cell_type": "code",
   "execution_count": 382,
   "metadata": {},
   "outputs": [
    {
     "data": {
      "text/plain": [
       "\u001b[32m\u001b[1mTest Passed\u001b[22m\u001b[39m"
      ]
     },
     "execution_count": 382,
     "metadata": {},
     "output_type": "execute_result"
    }
   ],
   "source": [
    "@test abs(mean(RAND)) < 1e-15\n",
    "@test RHS.data ≈ RHS_gpu.data"
   ]
  },
  {
   "cell_type": "code",
   "execution_count": 383,
   "metadata": {},
   "outputs": [],
   "source": [
    "# solve_poisson_3d_ppn!(model.grid, RHS, ϕ)\n",
    "# solve_poisson_3d_ppn_gpu!(Tx, Ty, Bx, By, Bz, model_gpu.grid, RHS_gpu, ϕ_gpu, kx², ky², kz²)"
   ]
  },
  {
   "cell_type": "code",
   "execution_count": 384,
   "metadata": {},
   "outputs": [],
   "source": [
    "g, g_gpu = model.grid, model_gpu.grid\n",
    "f, f_gpu = RHS, RHS_gpu;"
   ]
  },
  {
   "cell_type": "code",
   "execution_count": 385,
   "metadata": {},
   "outputs": [
    {
     "data": {
      "text/plain": [
       "\u001b[32m\u001b[1mTest Passed\u001b[22m\u001b[39m"
      ]
     },
     "execution_count": 385,
     "metadata": {},
     "output_type": "execute_result"
    }
   ],
   "source": [
    "kx² = zeros(g.Nx, 1)\n",
    "ky² = zeros(g.Ny, 1)\n",
    "kz² = zeros(g.Nz, 1)\n",
    "\n",
    "for i in 1:g.Nx; kx²[i] = (2sin((i-1)*π/g.Nx)    / (g.Lx/g.Nx))^2; end\n",
    "for j in 1:g.Ny; ky²[j] = (2sin((j-1)*π/g.Ny)    / (g.Ly/g.Ny))^2; end\n",
    "for k in 1:g.Nz; kz²[k] = (2sin((k-1)*π/(2g.Nz)) / (g.Lz/g.Nz))^2; end\n",
    "\n",
    "kx²_gpu = cu(zeros(g.Nx, 1))\n",
    "ky²_gpu = cu(zeros(g.Ny, 1))\n",
    "kz²_gpu = cu(zeros(g.Nz, 1))\n",
    "\n",
    "for i in 1:g.Nx; kx²_gpu[i] = (2sin((i-1)*π/g.Nx)    / (g.Lx/g.Nx))^2; end\n",
    "for j in 1:g.Ny; ky²_gpu[j] = (2sin((j-1)*π/g.Ny)    / (g.Ly/g.Ny))^2; end\n",
    "for k in 1:g.Nz; kz²_gpu[k] = (2sin((k-1)*π/(2g.Nz)) / (g.Lz/g.Nz))^2; end\n",
    "\n",
    "@test kx² ≈ kx²_gpu\n",
    "@test ky² ≈ ky²_gpu\n",
    "@test kz² ≈ kz²_gpu"
   ]
  },
  {
   "cell_type": "code",
   "execution_count": 386,
   "metadata": {},
   "outputs": [
    {
     "name": "stdout",
     "output_type": "stream",
     "text": [
      "f  disagreement: 1/4096\n",
      "ϕh disagreement: 0/4096\n",
      "ϕ  disagreement: 4096/4096\n",
      "p  disagreement: 4096/4096\n"
     ]
    }
   ],
   "source": [
    "FFTW.r2r!(f.data, FFTW.REDFT10, 3)\n",
    "FFTW.fft!(f.data, [1, 2])\n",
    "\n",
    "dct_dim3_gpu!(f_gpu.data)\n",
    "@. f_gpu.data = real(f_gpu.data)\n",
    "fft!(f_gpu.data, [1, 2])\n",
    "\n",
    "f_dis = sum(.!(f.data .≈ Array(f_gpu.data))); println(\"f  disagreement: $f_dis/$(Nx*Ny*Nz)\");\n",
    "# @test f.data ≈ f_gpu.data\n",
    "\n",
    "###\n",
    "\n",
    "for k in 1:g.Nz, j in 1:g.Ny, i in 1:g.Nx\n",
    "    @inbounds ϕ.data[i, j, k] = -f.data[i, j, k] / (kx²[i] + ky²[j] + kz²[k])\n",
    "end\n",
    "ϕ.data[1, 1, 1] = 0\n",
    "\n",
    "@cuda threads=(Tx, Ty) blocks=(Bx, By, Bz) f2ϕ!(Val(:GPU), g_gpu.Nx, g_gpu.Ny, g_gpu.Nz, f_gpu.data, ϕ_gpu.data, kx²_gpu, ky²_gpu, kz²_gpu)\n",
    "ϕ_gpu.data[1, 1, 1] = 0\n",
    "\n",
    "ϕh_dis = sum(.!(ϕ.data .≈ Array(ϕ_gpu.data))); println(\"ϕh disagreement: $ϕh_dis/$(Nx*Ny*Nz)\");\n",
    "\n",
    "###\n",
    "\n",
    "FFTW.ifft!(ϕ.data, [1, 2])\n",
    "FFTW.r2r!(ϕ.data, FFTW.REDFT01, 3)\n",
    "@. ϕ.data = real(ϕ.data) / (2g.Nz)\n",
    "\n",
    "# @. ϕ_gpu.data = real(ϕ.data) / (2g.Nz)\n",
    "# idct_dim3_gpu!(ϕ_gpu.data)\n",
    "# ifft!(ϕ_gpu.data, [1, 2])\n",
    "\n",
    "ifft!(ϕ_gpu.data, [1, 2])\n",
    "bfactors = 0.5 * exp.(collect(1im*π*(0:Nz-1) / (2*Nz)))\n",
    "ϕ_gpu.data .*= cu(repeat(reshape(bfactors, 1, 1, Nz), Nx, Ny, 1))\n",
    "ifft!(ϕ_gpu.data, 3)\n",
    "ϕ_gpu.data .= cu(reshape(permutedims(cat(f[:, :, 1:Int(Nz/2)], f[:, :, end:-1:Int(Nz/2)+1]; dims=4), (1, 2, 4, 3)), Nx, Ny, Nz))\n",
    "\n",
    "ϕ_dis = sum(.!(ϕ.data .≈ Array(ϕ_gpu.data))); println(\"ϕ  disagreement: $ϕ_dis/$(Nx*Ny*Nz)\");\n",
    "\n",
    "###\n",
    "\n",
    "@. pNHS.data = real(ϕ.data)\n",
    "@. pNHS_gpu.data = real(ϕ_gpu.data)\n",
    "p_dis = sum(.!(pNHS.data .≈ Array(pNHS_gpu.data))); println(\"p  disagreement: $p_dis/$(Nx*Ny*Nz)\");"
   ]
  },
  {
   "cell_type": "code",
   "execution_count": 387,
   "metadata": {},
   "outputs": [
    {
     "data": {
      "text/plain": [
       "32×16 Array{Complex{Float64},2}:\n",
       " -3.33747+0.0im    -5.314+0.0im  …   -1.19503+0.0im   -1.81641+0.0im\n",
       " -3.07531+0.0im  -4.03877+0.0im      -0.94983+0.0im   -1.14081+0.0im\n",
       " -1.68519+0.0im  -4.18852+0.0im        2.1129+0.0im  -0.366628+0.0im\n",
       " -4.54051+0.0im  -1.82712+0.0im       1.71175+0.0im   -3.05093+0.0im\n",
       " -6.54036+0.0im  -1.50831+0.0im      -1.15034+0.0im    -3.6687+0.0im\n",
       " -7.90298+0.0im   -2.3972+0.0im  …  -0.333339+0.0im   -5.82188+0.0im\n",
       " -8.46405+0.0im  -6.53487+0.0im      0.276314+0.0im   -5.08692+0.0im\n",
       " -8.48953+0.0im  -6.71646+0.0im      -2.10957+0.0im   -4.21944+0.0im\n",
       " -8.12344+0.0im  -6.42927+0.0im       -1.8611+0.0im   -1.92849+0.0im\n",
       " -6.21662+0.0im   -6.4009+0.0im      0.440024+0.0im   -2.37709+0.0im\n",
       " -4.71794+0.0im  -6.94612+0.0im  …    2.98114+0.0im  -0.546699+0.0im\n",
       " -4.76577+0.0im  -8.92432+0.0im       3.10924+0.0im   0.290587+0.0im\n",
       " -7.70577+0.0im  -8.84273+0.0im       4.41588+0.0im   0.749933+0.0im\n",
       "         ⋮                       ⋱                            ⋮     \n",
       " -7.35727+0.0im   -9.5759+0.0im  …     -6.459+0.0im   -7.00903+0.0im\n",
       " -7.55037+0.0im  -9.05218+0.0im      -8.62226+0.0im   -8.53308+0.0im\n",
       " -7.19529+0.0im  -5.01945+0.0im      -8.70028+0.0im    -7.6053+0.0im\n",
       " -6.56728+0.0im  -3.00509+0.0im       -6.6377+0.0im   -8.39428+0.0im\n",
       "  -7.8466+0.0im  -2.63568+0.0im      -8.79551+0.0im   -8.71485+0.0im\n",
       " -7.06154+0.0im  -3.04149+0.0im  …   -7.65753+0.0im   -7.52904+0.0im\n",
       " -5.99228+0.0im  -5.06022+0.0im      -5.61702+0.0im   -6.08074+0.0im\n",
       " -5.82803+0.0im  -4.55195+0.0im      -2.39282+0.0im   -3.53774+0.0im\n",
       " -3.18286+0.0im  -3.70262+0.0im      0.376542+0.0im   -2.25116+0.0im\n",
       " -3.87912+0.0im  -2.88879+0.0im     -0.658493+0.0im  -0.474711+0.0im\n",
       " -2.52341+0.0im  -2.60602+0.0im  …  -0.588205+0.0im  -0.210808+0.0im\n",
       " -4.31791+0.0im  -3.79511+0.0im      0.354597+0.0im   -1.83539+0.0im"
      ]
     },
     "execution_count": 387,
     "metadata": {},
     "output_type": "execute_result"
    }
   ],
   "source": [
    "ϕ.data[:, :, 5]"
   ]
  },
  {
   "cell_type": "code",
   "execution_count": 388,
   "metadata": {},
   "outputs": [
    {
     "data": {
      "text/plain": [
       "32×16 CuArray{Complex{Float32},2}:\n",
       " -34.4832+0.0im        11.605+19.1868im   …    11.605-19.1868im \n",
       " -11.5234-18.6056im   19.0162-14.7502im        2.7744-3.06063im \n",
       "  10.3338+22.3916im  -12.2782+15.4705im       -2.0528-29.9051im \n",
       "  36.1655+2.07448im   2.22327-32.3991im      -39.7016-15.9192im \n",
       "  13.1356-14.6048im  -19.0754-4.5707im        4.54202+10.7856im \n",
       " -4.57062+8.90372im   4.43946-35.0775im   …    4.6211+9.53563im \n",
       " 0.630392+27.4995im  -41.3118+5.42531im      -1.08787+23.2379im \n",
       "  9.58397-20.4266im  0.761502-8.2451im        -26.516+7.86889im \n",
       "  4.29618-12.8831im   -27.081-4.35466im      -15.6922-2.65586im \n",
       " -24.8636+12.9763im   18.2457-36.1247im      -6.46319-11.4118im \n",
       "  3.04924-2.67134im   46.3323+15.535im    …  -22.5783-6.88272im \n",
       "   5.5926+1.10012im   6.95601-0.884611im     -4.48355+25.6348im \n",
       " -28.4319-14.4183im   33.9657+38.4658im      -13.4018+16.8195im \n",
       "         ⋮                                ⋱          ⋮          \n",
       " -28.4319+14.4183im  -13.4018-16.8195im   …   33.9657-38.4658im \n",
       "   5.5926-1.10012im  -4.48355-25.6348im       6.95601+0.884611im\n",
       "  3.04924+2.67134im  -22.5783+6.88272im       46.3323-15.535im  \n",
       " -24.8636-12.9763im  -6.46319+11.4118im       18.2457+36.1247im \n",
       "  4.29618+12.8831im  -15.6922+2.65586im       -27.081+4.35466im \n",
       "  9.58397+20.4266im   -26.516-7.86889im   …  0.761502+8.2451im  \n",
       " 0.630392-27.4995im  -1.08787-23.2379im      -41.3118-5.42531im \n",
       " -4.57062-8.90372im    4.6211-9.53563im       4.43946+35.0775im \n",
       "  13.1356+14.6048im   4.54202-10.7856im      -19.0754+4.5707im  \n",
       "  36.1655-2.07448im  -39.7016+15.9192im       2.22327+32.3991im \n",
       "  10.3338-22.3916im   -2.0528+29.9051im   …  -12.2782-15.4705im \n",
       " -11.5234+18.6056im    2.7744+3.06063im       19.0162+14.7502im "
      ]
     },
     "execution_count": 388,
     "metadata": {},
     "output_type": "execute_result"
    }
   ],
   "source": [
    "ϕ_gpu.data[:, :, 5]"
   ]
  },
  {
   "cell_type": "code",
   "execution_count": 331,
   "metadata": {},
   "outputs": [],
   "source": [
    "@. pNHS.data = real(ϕ.data);\n",
    "∇²_ppn!(model.grid, pNHS, ∇²p)"
   ]
  },
  {
   "cell_type": "code",
   "execution_count": 332,
   "metadata": {},
   "outputs": [
    {
     "data": {
      "text/plain": [
       "true"
      ]
     },
     "execution_count": 332,
     "metadata": {},
     "output_type": "execute_result"
    }
   ],
   "source": [
    "∇²p.data ≈ RHS_orig.data"
   ]
  },
  {
   "cell_type": "code",
   "execution_count": null,
   "metadata": {},
   "outputs": [],
   "source": []
  },
  {
   "cell_type": "code",
   "execution_count": null,
   "metadata": {},
   "outputs": [],
   "source": []
  },
  {
   "cell_type": "code",
   "execution_count": null,
   "metadata": {},
   "outputs": [],
   "source": []
  },
  {
   "cell_type": "code",
   "execution_count": null,
   "metadata": {},
   "outputs": [],
   "source": [
    "\n",
    "\n"
   ]
  },
  {
   "cell_type": "code",
   "execution_count": null,
   "metadata": {},
   "outputs": [],
   "source": [
    "# pNHS_gpu_array = zeros(Float32, Nx, Ny, Nz);\n",
    "@. pNHS.data = real(ϕ_gpu.data);"
   ]
  },
  {
   "cell_type": "code",
   "execution_count": null,
   "metadata": {},
   "outputs": [],
   "source": [
    "∇²_ppn!(model.grid, pNHS, ∇²p)"
   ]
  },
  {
   "cell_type": "code",
   "execution_count": null,
   "metadata": {},
   "outputs": [],
   "source": [
    "maximum(∇²p), maximum(RHS_orig_gpu.data)"
   ]
  },
  {
   "cell_type": "code",
   "execution_count": null,
   "metadata": {},
   "outputs": [],
   "source": []
  }
 ],
 "metadata": {
  "kernelspec": {
   "display_name": "Julia 1.1.0",
   "language": "julia",
   "name": "julia-1.1"
  },
  "language_info": {
   "file_extension": ".jl",
   "mimetype": "application/julia",
   "name": "julia",
   "version": "1.1.0"
  }
 },
 "nbformat": 4,
 "nbformat_minor": 2
}
