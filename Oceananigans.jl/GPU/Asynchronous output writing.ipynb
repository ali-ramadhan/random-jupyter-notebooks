{
 "cells": [
  {
   "cell_type": "code",
   "execution_count": 1,
   "metadata": {},
   "outputs": [
    {
     "data": {
      "text/plain": [
       "5-element Array{Int64,1}:\n",
       " 2\n",
       " 3\n",
       " 4\n",
       " 5\n",
       " 6"
      ]
     },
     "execution_count": 1,
     "metadata": {},
     "output_type": "execute_result"
    }
   ],
   "source": [
    "using Distributed\n",
    "addprocs(5)"
   ]
  },
  {
   "cell_type": "code",
   "execution_count": 2,
   "metadata": {},
   "outputs": [],
   "source": [
    "@everywhere cd(\"/home/gridsan/aramadhan/tmp/async/\")"
   ]
  },
  {
   "cell_type": "code",
   "execution_count": 3,
   "metadata": {},
   "outputs": [],
   "source": [
    "@everywhere using DelimitedFiles"
   ]
  },
  {
   "cell_type": "code",
   "execution_count": 4,
   "metadata": {},
   "outputs": [],
   "source": [
    "@everywhere function write_output(i)\n",
    "    arr = i .+ rand(256, 256, 256)\n",
    "    filename = string(i) * \".async.csv\"\n",
    "    writedlm(filename,  arr, ',')\n",
    "    nothing\n",
    "end"
   ]
  },
  {
   "cell_type": "code",
   "execution_count": 7,
   "metadata": {},
   "outputs": [
    {
     "data": {
      "text/plain": [
       "5"
      ]
     },
     "execution_count": 7,
     "metadata": {},
     "output_type": "execute_result"
    }
   ],
   "source": [
    "Nx, Ny, Nz = 256, 256, 256\n",
    "Nt = 5"
   ]
  },
  {
   "cell_type": "code",
   "execution_count": null,
   "metadata": {},
   "outputs": [],
   "source": [
    "@time begin\n",
    "    for i in 0:Nt\n",
    "        A = i .+ rand(Nx, Ny, Nz)\n",
    "        write_output(A, i)\n",
    "    end\n",
    "end"
   ]
  },
  {
   "cell_type": "code",
   "execution_count": 16,
   "metadata": {},
   "outputs": [
    {
     "name": "stdout",
     "output_type": "stream",
     "text": [
      "DONE!"
     ]
    }
   ],
   "source": [
    "for i in 0:Nt\n",
    "    @async remotecall(write_output, i+1, i)\n",
    "end\n",
    "print(\"DONE!\")"
   ]
  },
  {
   "cell_type": "code",
   "execution_count": 17,
   "metadata": {},
   "outputs": [
    {
     "data": {
      "text/latex": [
       "\\begin{verbatim}\n",
       "joinpath(parts...) -> AbstractString\n",
       "\\end{verbatim}\n",
       "Join path components into a full path. If some argument is an absolute path or (on Windows) has a drive specification that doesn't match the drive computed for the join of the preceding paths, then prior components are dropped.\n",
       "\n",
       "\\section{Examples}\n",
       "\\begin{verbatim}\n",
       "julia> joinpath(\"/home/myuser\", \"example.jl\")\n",
       "\"/home/myuser/example.jl\"\n",
       "\\end{verbatim}\n"
      ],
      "text/markdown": [
       "```\n",
       "joinpath(parts...) -> AbstractString\n",
       "```\n",
       "\n",
       "Join path components into a full path. If some argument is an absolute path or (on Windows) has a drive specification that doesn't match the drive computed for the join of the preceding paths, then prior components are dropped.\n",
       "\n",
       "# Examples\n",
       "\n",
       "```jldoctest\n",
       "julia> joinpath(\"/home/myuser\", \"example.jl\")\n",
       "\"/home/myuser/example.jl\"\n",
       "```\n"
      ],
      "text/plain": [
       "\u001b[36m  joinpath(parts...) -> AbstractString\u001b[39m\n",
       "\n",
       "  Join path components into a full path. If some argument is an absolute path\n",
       "  or (on Windows) has a drive specification that doesn't match the drive\n",
       "  computed for the join of the preceding paths, then prior components are\n",
       "  dropped.\n",
       "\n",
       "\u001b[1m  Examples\u001b[22m\n",
       "\u001b[1m  ≡≡≡≡≡≡≡≡≡≡\u001b[22m\n",
       "\n",
       "\u001b[36m  julia> joinpath(\"/home/myuser\", \"example.jl\")\u001b[39m\n",
       "\u001b[36m  \"/home/myuser/example.jl\"\u001b[39m"
      ]
     },
     "execution_count": 17,
     "metadata": {},
     "output_type": "execute_result"
    }
   ],
   "source": [
    "@doc joinpath"
   ]
  },
  {
   "cell_type": "code",
   "execution_count": null,
   "metadata": {},
   "outputs": [],
   "source": []
  }
 ],
 "metadata": {
  "kernelspec": {
   "display_name": "Julia 1.1.0",
   "language": "julia",
   "name": "julia-1.1"
  },
  "language_info": {
   "file_extension": ".jl",
   "mimetype": "application/julia",
   "name": "julia",
   "version": "1.1.0"
  }
 },
 "nbformat": 4,
 "nbformat_minor": 2
}
