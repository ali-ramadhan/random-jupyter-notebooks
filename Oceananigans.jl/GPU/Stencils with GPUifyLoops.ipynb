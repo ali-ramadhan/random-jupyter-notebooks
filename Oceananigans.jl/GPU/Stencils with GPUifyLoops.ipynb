{
 "cells": [
  {
   "cell_type": "code",
   "execution_count": 1,
   "metadata": {},
   "outputs": [],
   "source": [
    "using BenchmarkTools\n",
    "using CUDAnative, CuArrays\n",
    "using GPUifyLoops\n",
    "using PyPlot"
   ]
  },
  {
   "cell_type": "code",
   "execution_count": 2,
   "metadata": {},
   "outputs": [
    {
     "data": {
      "text/plain": [
       "incmod1 (generic function with 1 method)"
      ]
     },
     "execution_count": 2,
     "metadata": {},
     "output_type": "execute_result"
    }
   ],
   "source": [
    "# Increment integer with periodic wrapping.\n",
    "@inline incmod1(a, n) = ifelse(a==n, 1, a+1)"
   ]
  },
  {
   "cell_type": "code",
   "execution_count": 3,
   "metadata": {},
   "outputs": [
    {
     "data": {
      "text/plain": [
       "div (generic function with 1 method)"
      ]
     },
     "execution_count": 3,
     "metadata": {},
     "output_type": "execute_result"
    }
   ],
   "source": [
    "# x, y, and z difference operators with periodic boundary conditions.\n",
    "# Nx, Ny, and Nz are the number of grid points in each dimension.\n",
    "# They return the difference at grid point (i, j, k).\n",
    "@inline δx(f, Nx, i, j, k) = @inbounds f[incmod1(i, Nx), j, k] - f[i, j, k]\n",
    "@inline δy(f, Ny, i, j, k) = @inbounds f[i, incmod1(j, Ny), k] - f[i, j, k]\n",
    "@inline δz(f, Nz, i, j, k) = @inbounds f[i, j, incmod1(k, Nz)] - f[i, j, k]\n",
    "\n",
    "# 3D Divergence operator.\n",
    "@inline div(f, Nx, Ny, Nz, Δx, Δy, Δz, i, j, k) = δx(f, Nx, i, j, k) / Δx + δy(f, Ny, i, j, k) / Δy + δz(f, Nz, i, j, k) / Δz"
   ]
  },
  {
   "cell_type": "code",
   "execution_count": 4,
   "metadata": {},
   "outputs": [
    {
     "data": {
      "text/plain": [
       "calc_div (generic function with 2 methods)"
      ]
     },
     "execution_count": 4,
     "metadata": {},
     "output_type": "execute_result"
    }
   ],
   "source": [
    "# This is the actual kernel.\n",
    "function div_kernel(::Val{Dev}, f, div_f) where Dev\n",
    "    @setup Dev\n",
    "    \n",
    "    Nx, Ny, Nz = size(f)\n",
    "    Δx, Δy, Δz = 1, 1, 1\n",
    "    \n",
    "    cpuIndex3D() = CartesianIndices((Nx, Ny, Nz))\n",
    "    gpuIndex3D() = CartesianIndices(\n",
    "        (blockIdx().z,\n",
    "         (blockIdx().y - 1) * blockDim().y + threadIdx().y,\n",
    "         (blockIdx().x - 1) * blockDim().x + threadIdx().x)\n",
    "    )\n",
    "    \n",
    "    # Calculate the divergence of f at every point and store it in div_f.\n",
    "    @loop for I in (cpuIndex3D(); gpuIndex3D())\n",
    "        @inbounds div_f[I] = div(f, Nx, Ny, Nz, Δx, Δy, Δz, I.I...)\n",
    "    end\n",
    "    \n",
    "    @synchronize\n",
    "    nothing\n",
    "end\n",
    "\n",
    "# CPU wrapper.\n",
    "calc_div(f::Array, div_f::Array) = div_kernel(Val(:CPU), f, div_f)\n",
    "\n",
    "# GPU wrapper.\n",
    "function calc_div(f::CuArray, div_f::CuArray)\n",
    "    Nx, Ny, Nz = size(f)\n",
    "    \n",
    "    Tx, Ty = 16, 16  # Threads per block\n",
    "    Bx, By, Bz = Int(Nx/Tx), Int(Ny/Ty), Nz  # Blocks in grid.\n",
    "    \n",
    "    @cuda threads=(Tx, Ty) blocks=(Bx, By, Bz) div_kernel(Val(:GPU), f, div_f)\n",
    "end"
   ]
  },
  {
   "cell_type": "code",
   "execution_count": 5,
   "metadata": {},
   "outputs": [],
   "source": [
    "Nx, Ny, Nz = 1024, 1024, 512\n",
    "xc, yc = ones(Nx, Ny, Nz), rand(Nx, Ny, Nz);"
   ]
  },
  {
   "cell_type": "code",
   "execution_count": 6,
   "metadata": {},
   "outputs": [],
   "source": [
    "calc_div(xc, yc)"
   ]
  },
  {
   "cell_type": "code",
   "execution_count": null,
   "metadata": {},
   "outputs": [],
   "source": [
    "PyPlot.imshow(Array(yc[:, :, end]))"
   ]
  },
  {
   "cell_type": "code",
   "execution_count": null,
   "metadata": {},
   "outputs": [],
   "source": [
    "PyPlot.imshow(rotl90(Array(yc[512, :, :])))"
   ]
  },
  {
   "cell_type": "code",
   "execution_count": 7,
   "metadata": {},
   "outputs": [],
   "source": [
    "Nx, Ny, Nz = 1024, 1024, 512\n",
    "xg, yg = cu(ones(Nx, Ny, Nz)), cu(rand(Nx, Ny, Nz));"
   ]
  },
  {
   "cell_type": "code",
   "execution_count": 8,
   "metadata": {},
   "outputs": [],
   "source": [
    "calc_div(xg, yg)"
   ]
  },
  {
   "cell_type": "code",
   "execution_count": null,
   "metadata": {},
   "outputs": [],
   "source": [
    "PyPlot.imshow(Array(yg[:, :, end]))"
   ]
  },
  {
   "cell_type": "code",
   "execution_count": null,
   "metadata": {},
   "outputs": [],
   "source": [
    "PyPlot.imshow(rotl90(Array(yg[32, :, :])))"
   ]
  },
  {
   "cell_type": "code",
   "execution_count": null,
   "metadata": {},
   "outputs": [],
   "source": [
    "Nx, Ny, Nz = 1024, 1024, 512\n",
    "xc, yc = rand(Nx, Ny, Nz), rand(Nx, Ny, Nz);\n",
    "xg, yg = cu(rand(Nx, Ny, Nz)), cu(rand(Nx, Ny, Nz));"
   ]
  },
  {
   "cell_type": "code",
   "execution_count": null,
   "metadata": {},
   "outputs": [],
   "source": [
    "@benchmark calc_div($xc, $yc)"
   ]
  },
  {
   "cell_type": "code",
   "execution_count": null,
   "metadata": {},
   "outputs": [],
   "source": [
    "@benchmark CuArrays.@sync calc_div($xg, $yg)"
   ]
  },
  {
   "cell_type": "code",
   "execution_count": null,
   "metadata": {},
   "outputs": [],
   "source": []
  }
 ],
 "metadata": {
  "kernelspec": {
   "display_name": "Julia 1.1.0",
   "language": "julia",
   "name": "julia-1.1"
  },
  "language_info": {
   "file_extension": ".jl",
   "mimetype": "application/julia",
   "name": "julia",
   "version": "1.1.0"
  }
 },
 "nbformat": 4,
 "nbformat_minor": 2
}
