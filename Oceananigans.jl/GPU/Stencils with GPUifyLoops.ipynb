{
 "cells": [
  {
   "cell_type": "code",
   "execution_count": 3,
   "metadata": {},
   "outputs": [],
   "source": [
    "using BenchmarkTools\n",
    "using CUDAnative, CuArrays\n",
    "using GPUifyLoops\n",
    "using PyPlot"
   ]
  },
  {
   "cell_type": "code",
   "execution_count": 4,
   "metadata": {},
   "outputs": [
    {
     "data": {
      "text/plain": [
       "incmod1 (generic function with 1 method)"
      ]
     },
     "execution_count": 4,
     "metadata": {},
     "output_type": "execute_result"
    }
   ],
   "source": [
    "# Increment integer with periodic wrapping.\n",
    "@inline incmod1(a, n) = a == n ? 1 : a+1"
   ]
  },
  {
   "cell_type": "code",
   "execution_count": 5,
   "metadata": {},
   "outputs": [
    {
     "data": {
      "text/plain": [
       "div (generic function with 1 method)"
      ]
     },
     "execution_count": 5,
     "metadata": {},
     "output_type": "execute_result"
    }
   ],
   "source": [
    "# x, y, and z difference operators with periodic boundary conditions.\n",
    "# Nx, Ny, and Nz are the number of grid points in each dimension.\n",
    "# They return the difference at grid point (i, j, k).\n",
    "@inline δx(f, Nx, i, j, k) = @inbounds f[incmod1(i, Nx), j, k] - f[i, j, k]\n",
    "@inline δy(f, Ny, i, j, k) = @inbounds f[i, incmod1(j, Ny), k] - f[i, j, k]\n",
    "@inline δz(f, Nz, i, j, k) = @inbounds f[i, j, incmod1(k, Nz)] - f[i, j, k]\n",
    "\n",
    "# 3D Divergence operator.\n",
    "@inline div(f, Nx, Ny, Nz, Δx, Δy, Δz, i, j, k) = δx(f, Nx, i, j, k) / Δx + δy(f, Ny, i, j, k) / Δy + δz(f, Nz, i, j, k) / Δz"
   ]
  },
  {
   "cell_type": "code",
   "execution_count": 18,
   "metadata": {},
   "outputs": [
    {
     "data": {
      "text/plain": [
       "calc_div (generic function with 2 methods)"
      ]
     },
     "execution_count": 18,
     "metadata": {},
     "output_type": "execute_result"
    }
   ],
   "source": [
    "# This is the actual kernel.\n",
    "function div_kernel(::Val{Dev}, f, div_f) where Dev\n",
    "    @setup Dev\n",
    "    \n",
    "    Nx, Ny, Nz = size(f)\n",
    "    Δx, Δy, Δz = 1, 1, 1\n",
    "    \n",
    "    # Calculate the divergence of f at every point and store it in div_f.\n",
    "    @loop for k in (1:Nz; blockIdx().z)\n",
    "        @loop for j in (1:Ny; (blockIdx().y - 1) * blockDim().y + threadIdx().y)\n",
    "            @loop for i in (1:Nx; (blockIdx().x - 1) * blockDim().x + threadIdx().x)\n",
    "                @inbounds div_f[i, j, k] = div(f, Nx, Ny, Nz, Δx, Δy, Δz, i, j, k)\n",
    "            end\n",
    "        end\n",
    "    end\n",
    "    \n",
    "    @synchronize\n",
    "end\n",
    "\n",
    "# CPU wrapper.\n",
    "calc_div(f::Array, div_f::Array) = div_kernel(Val(:CPU), f, div_f)\n",
    "\n",
    "# GPU wrapper.\n",
    "function calc_div(f::CuArray, div_f::CuArray)\n",
    "    Nx, Ny, Nz = size(f)\n",
    "    \n",
    "    Tx, Ty = 16, 16  # Threads per block\n",
    "    Bx, By, Bz = Int(Nx/Tx), Int(Ny/Ty), Nz  # Blocks in grid.\n",
    "    \n",
    "    @cuda threads=(Tx, Ty) blocks=(Bx, By, Bz) div_kernel(Val(:GPU), f, div_f)\n",
    "end"
   ]
  },
  {
   "cell_type": "code",
   "execution_count": 7,
   "metadata": {},
   "outputs": [],
   "source": [
    "Nx, Ny, Nz = 128, 128, 64\n",
    "xg, yg = cu(ones(Nx, Ny, Nz)), cu(rand(Nx, Ny, Nz));"
   ]
  },
  {
   "cell_type": "code",
   "execution_count": 9,
   "metadata": {},
   "outputs": [],
   "source": [
    "time_step(xg, yg)"
   ]
  },
  {
   "cell_type": "code",
   "execution_count": 11,
   "metadata": {},
   "outputs": [
    {
     "data": {
      "image/png": "[encoded data removed]",
      "text/plain": [
       "Figure(PyObject <matplotlib.figure.Figure object at 0x7fbdb06da470>)"
      ]
     },
     "metadata": {},
     "output_type": "display_data"
    },
    {
     "data": {
      "text/plain": [
       "PyObject <matplotlib.image.AxesImage object at 0x7fbd675f6c88>"
      ]
     },
     "execution_count": 11,
     "metadata": {},
     "output_type": "execute_result"
    }
   ],
   "source": [
    "PyPlot.imshow(Array(yg[:, :, end]))"
   ]
  },
  {
   "cell_type": "code",
   "execution_count": 12,
   "metadata": {},
   "outputs": [
    {
     "data": {
      "image/png": "[encoded data removed]",
      "text/plain": [
       "Figure(PyObject <matplotlib.figure.Figure object at 0x7fbd675a8a20>)"
      ]
     },
     "metadata": {},
     "output_type": "display_data"
    },
    {
     "data": {
      "text/plain": [
       "PyObject <matplotlib.image.AxesImage object at 0x7fbd67599208>"
      ]
     },
     "execution_count": 12,
     "metadata": {},
     "output_type": "execute_result"
    }
   ],
   "source": [
    "PyPlot.imshow(rotl90(Array(yg[32, :, :])))"
   ]
  },
  {
   "cell_type": "code",
   "execution_count": 8,
   "metadata": {},
   "outputs": [],
   "source": [
    "Nx, Ny, Nz = 256, 256, 128\n",
    "xc, yc = rand(Nx, Ny, Nz), rand(Nx, Ny, Nz);\n",
    "xg, yg = cu(rand(Nx, Ny, Nz)), cu(rand(Nx, Ny, Nz));"
   ]
  },
  {
   "cell_type": "code",
   "execution_count": 16,
   "metadata": {},
   "outputs": [
    {
     "data": {
      "text/plain": [
       "BenchmarkTools.Trial: \n",
       "  memory estimate:  0 bytes\n",
       "  allocs estimate:  0\n",
       "  --------------\n",
       "  minimum time:     14.716 ms (0.00% GC)\n",
       "  median time:      14.755 ms (0.00% GC)\n",
       "  mean time:        14.834 ms (0.00% GC)\n",
       "  maximum time:     26.022 ms (0.00% GC)\n",
       "  --------------\n",
       "  samples:          337\n",
       "  evals/sample:     1"
      ]
     },
     "execution_count": 16,
     "metadata": {},
     "output_type": "execute_result"
    }
   ],
   "source": [
    "@benchmark calc_div($xc, $yc)"
   ]
  },
  {
   "cell_type": "code",
   "execution_count": 20,
   "metadata": {},
   "outputs": [
    {
     "data": {
      "text/plain": [
       "BenchmarkTools.Trial: \n",
       "  memory estimate:  576 bytes\n",
       "  allocs estimate:  14\n",
       "  --------------\n",
       "  minimum time:     158.750 μs (0.00% GC)\n",
       "  median time:      175.023 μs (0.00% GC)\n",
       "  mean time:        175.535 μs (0.00% GC)\n",
       "  maximum time:     230.756 μs (0.00% GC)\n",
       "  --------------\n",
       "  samples:          10000\n",
       "  evals/sample:     1"
      ]
     },
     "execution_count": 20,
     "metadata": {},
     "output_type": "execute_result"
    }
   ],
   "source": [
    "@benchmark CuArrays.@sync calc_div($xg, $yg)"
   ]
  },
  {
   "cell_type": "code",
   "execution_count": null,
   "metadata": {},
   "outputs": [],
   "source": [
    "@inline δx!(f, δxf, Nx, i, j, k) = (@inbounds δxf[i, j, k] = f[incmod1(i, Nx), j, k] - f[i, j, k])\n",
    "@inline δy!(f, δyf, Ny, i, j, k) = (@inbounds δyf[i, j, k] = f[i, incmod1(j, Ny), k] - f[i, j, k])\n",
    "@inline δz!(f, δzf, Nz, i, j, k) = (@inbounds δzf[i, j, k] = f[i, j, incmod1(k, Nz)] - f[i, j, k])\n",
    "@inline div(f, Nx, Ny, Nz, i, j, k) = δx(f, Nx, i, j, k) + δy(f, Ny, i, j, k) + δz(f, Nz, i, j, k)"
   ]
  },
  {
   "cell_type": "code",
   "execution_count": null,
   "metadata": {},
   "outputs": [],
   "source": [
    "function time_stepping_kernel(::Val{Dev}, f, ∇f) where Dev\n",
    "    @setup Dev\n",
    "    \n",
    "    Nx, Ny, Nz = size(f)\n",
    "    \n",
    "    @loop for k in (1:Nz; blockIdx().z)\n",
    "        @loop for j in (1:Ny; (blockIdx().y - 1) * blockDim().y + threadIdx().y)\n",
    "            @loop for i in (1:Nx; (blockIdx().x - 1) * blockDim().x + threadIdx().x)\n",
    "                @inbounds ∇f[i, j, k] = div(f, Nx, Ny, Nz, i, j, k)\n",
    "            end\n",
    "        end\n",
    "    end\n",
    "    \n",
    "    @synchronize\n",
    "end\n",
    "\n",
    "time_step(A::Array, B::Array) = time_stepping_kernel(Val(:CPU), A, B)\n",
    "\n",
    "function time_step(A::CuArray, B::CuArray)\n",
    "    Nx, Ny, Nz = size(A)\n",
    "    \n",
    "    Tx, Ty = 16, 16  # Threads per block\n",
    "    Bx, By, Bz = Int(Nx/Tx), Int(Ny/Ty), Nz  # Blocks in grid.\n",
    "    \n",
    "    # println(\"Threads per block: ($Tx, $Ty)\")\n",
    "    # println(\"Blocks in grid:    ($Bx, $By, $Bz)\")\n",
    "    \n",
    "    @cuda threads=(Tx, Ty) blocks=(Bx, By, Bz) time_stepping_kernel(Val(:GPU), A, B)\n",
    "end"
   ]
  },
  {
   "cell_type": "code",
   "execution_count": 18,
   "metadata": {},
   "outputs": [
    {
     "data": {
      "text/plain": [
       "f (generic function with 1 method)"
      ]
     },
     "execution_count": 18,
     "metadata": {},
     "output_type": "execute_result"
    }
   ],
   "source": [
    "@inline function f(x)\n",
    "    @inbounds return x[1]\n",
    "end"
   ]
  },
  {
   "cell_type": "code",
   "execution_count": 21,
   "metadata": {},
   "outputs": [
    {
     "data": {
      "text/plain": [
       "BenchmarkTools.Trial: \n",
       "  memory estimate:  0 bytes\n",
       "  allocs estimate:  0\n",
       "  --------------\n",
       "  minimum time:     2.095 ns (0.00% GC)\n",
       "  median time:      2.165 ns (0.00% GC)\n",
       "  mean time:        2.156 ns (0.00% GC)\n",
       "  maximum time:     9.568 ns (0.00% GC)\n",
       "  --------------\n",
       "  samples:          10000\n",
       "  evals/sample:     1000"
      ]
     },
     "execution_count": 21,
     "metadata": {},
     "output_type": "execute_result"
    }
   ],
   "source": [
    "@benchmark f($xc)"
   ]
  },
  {
   "cell_type": "code",
   "execution_count": null,
   "metadata": {},
   "outputs": [],
   "source": []
  }
 ],
 "metadata": {
  "kernelspec": {
   "display_name": "Julia 1.1.0",
   "language": "julia",
   "name": "julia-1.1"
  },
  "language_info": {
   "file_extension": ".jl",
   "mimetype": "application/julia",
   "name": "julia",
   "version": "1.1.0"
  }
 },
 "nbformat": 4,
 "nbformat_minor": 2
}
