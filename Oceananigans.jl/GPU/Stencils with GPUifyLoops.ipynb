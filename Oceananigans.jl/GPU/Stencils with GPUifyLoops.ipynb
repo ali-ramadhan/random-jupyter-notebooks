{
 "cells": [
  {
   "cell_type": "code",
   "execution_count": 1,
   "metadata": {},
   "outputs": [],
   "source": [
    "using BenchmarkTools\n",
    "using CUDAnative, CuArrays\n",
    "using GPUifyLoops"
   ]
  },
  {
   "cell_type": "code",
   "execution_count": 2,
   "metadata": {},
   "outputs": [
    {
     "data": {
      "text/plain": [
       "δx (generic function with 1 method)"
      ]
     },
     "execution_count": 2,
     "metadata": {},
     "output_type": "execute_result"
    }
   ],
   "source": [
    "@inline incmod1(a, n) = a == n ? 1 : a+1\n",
    "δx(f, Nx, i, j, k) = f[incmod1(i, Nx), j, k] - f[i, j, k]"
   ]
  },
  {
   "cell_type": "code",
   "execution_count": 27,
   "metadata": {},
   "outputs": [
    {
     "data": {
      "text/plain": [
       "time_step! (generic function with 2 methods)"
      ]
     },
     "execution_count": 27,
     "metadata": {},
     "output_type": "execute_result"
    }
   ],
   "source": [
    "function time_stepping_kernel(::Val{Dev}, f, δxf) where Dev\n",
    "    @setup Dev\n",
    "    \n",
    "    Nx, Ny, Nz = size(f)\n",
    "    @loop for i in (1:Nx; threadIdx().x)\n",
    "        for k in 1:Nz, j in 1:Ny\n",
    "            δxf[i, j, k] = δx(f, Nx, i, j, k)\n",
    "        end\n",
    "    end\n",
    "    \n",
    "    @synchronize\n",
    "end\n",
    "\n",
    "time_step!(A::Array, B::Array) = time_stepping_kernel(Val(:CPU), A, B)\n",
    "\n",
    "function time_step!(A::CuArray, B::CuArray)\n",
    "    @cuda threads=512 time_stepping_kernel(Val(:GPU), A, B)\n",
    "end"
   ]
  },
  {
   "cell_type": "code",
   "execution_count": 29,
   "metadata": {},
   "outputs": [],
   "source": [
    "Nx, Ny, Nz = 128, 128, 64\n",
    "xc, yc = rand(Nx, Ny, Nz), rand(Nx, Ny, Nz);\n",
    "xg, yg = cu(rand(Nx, Ny, Nz)), cu(rand(Nx, Ny, Nz));"
   ]
  },
  {
   "cell_type": "code",
   "execution_count": 32,
   "metadata": {},
   "outputs": [
    {
     "data": {
      "text/plain": [
       "BenchmarkTools.Trial: \n",
       "  memory estimate:  0 bytes\n",
       "  allocs estimate:  0\n",
       "  --------------\n",
       "  minimum time:     5.814 ms (0.00% GC)\n",
       "  median time:      5.826 ms (0.00% GC)\n",
       "  mean time:        5.841 ms (0.00% GC)\n",
       "  maximum time:     7.748 ms (0.00% GC)\n",
       "  --------------\n",
       "  samples:          856\n",
       "  evals/sample:     1"
      ]
     },
     "execution_count": 32,
     "metadata": {},
     "output_type": "execute_result"
    }
   ],
   "source": [
    "@benchmark time_step!($xc, $yc)"
   ]
  },
  {
   "cell_type": "code",
   "execution_count": 33,
   "metadata": {},
   "outputs": [
    {
     "data": {
      "text/plain": [
       "BenchmarkTools.Trial: \n",
       "  memory estimate:  288 bytes\n",
       "  allocs estimate:  7\n",
       "  --------------\n",
       "  minimum time:     3.710 μs (0.00% GC)\n",
       "  median time:      4.658 ms (0.00% GC)\n",
       "  mean time:        4.329 ms (0.00% GC)\n",
       "  maximum time:     4.662 ms (0.00% GC)\n",
       "  --------------\n",
       "  samples:          145\n",
       "  evals/sample:     8"
      ]
     },
     "execution_count": 33,
     "metadata": {},
     "output_type": "execute_result"
    }
   ],
   "source": [
    "@benchmark time_step!($xg, $yg)"
   ]
  },
  {
   "cell_type": "code",
   "execution_count": null,
   "metadata": {},
   "outputs": [],
   "source": []
  }
 ],
 "metadata": {
  "kernelspec": {
   "display_name": "Julia 1.1.0",
   "language": "julia",
   "name": "julia-1.1"
  },
  "language_info": {
   "file_extension": ".jl",
   "mimetype": "application/julia",
   "name": "julia",
   "version": "1.1.0"
  }
 },
 "nbformat": 4,
 "nbformat_minor": 2
}
