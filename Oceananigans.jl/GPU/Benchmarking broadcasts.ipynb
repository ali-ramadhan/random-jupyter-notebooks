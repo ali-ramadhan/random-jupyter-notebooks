{
 "cells": [
  {
   "cell_type": "code",
   "execution_count": 6,
   "metadata": {},
   "outputs": [],
   "source": [
    "import FFTW\n",
    "using BenchmarkTools"
   ]
  },
  {
   "cell_type": "code",
   "execution_count": 7,
   "metadata": {},
   "outputs": [],
   "source": [
    "using CUDAdrv, CUDAnative, CuArrays"
   ]
  },
  {
   "cell_type": "code",
   "execution_count": 8,
   "metadata": {},
   "outputs": [],
   "source": [
    "Nx, Ny, Nz = 128, 128, 128\n",
    "xc = rand(Float32, Nx, Ny, Nz);\n",
    "xg = cu(rand(Float32, Nx, Ny, Nz));"
   ]
  },
  {
   "cell_type": "code",
   "execution_count": 42,
   "metadata": {},
   "outputs": [
    {
     "data": {
      "text/plain": [
       "BenchmarkTools.Trial: \n",
       "  memory estimate:  8.00 MiB\n",
       "  allocs estimate:  4\n",
       "  --------------\n",
       "  minimum time:     14.950 ms (0.00% GC)\n",
       "  median time:      15.167 ms (0.00% GC)\n",
       "  mean time:        15.741 ms (3.74% GC)\n",
       "  maximum time:     99.762 ms (83.66% GC)\n",
       "  --------------\n",
       "  samples:          318\n",
       "  evals/sample:     1"
      ]
     },
     "execution_count": 42,
     "metadata": {},
     "output_type": "execute_result"
    }
   ],
   "source": [
    "@benchmark sin.(xc)"
   ]
  },
  {
   "cell_type": "code",
   "execution_count": 44,
   "metadata": {},
   "outputs": [
    {
     "data": {
      "text/plain": [
       "BenchmarkTools.Trial: \n",
       "  memory estimate:  1.64 KiB\n",
       "  allocs estimate:  46\n",
       "  --------------\n",
       "  minimum time:     10.057 μs (0.00% GC)\n",
       "  median time:      11.664 μs (0.00% GC)\n",
       "  mean time:        61.537 μs (69.44% GC)\n",
       "  maximum time:     102.846 ms (82.79% GC)\n",
       "  --------------\n",
       "  samples:          10000\n",
       "  evals/sample:     1"
      ]
     },
     "execution_count": 44,
     "metadata": {},
     "output_type": "execute_result"
    }
   ],
   "source": [
    "@benchmark sin.(xg)"
   ]
  },
  {
   "cell_type": "code",
   "execution_count": 69,
   "metadata": {},
   "outputs": [
    {
     "data": {
      "text/plain": [
       "sqrt_cpu! (generic function with 1 method)"
      ]
     },
     "execution_count": 69,
     "metadata": {},
     "output_type": "execute_result"
    }
   ],
   "source": [
    "function sqrt_cpu!(a)\n",
    "    @. a = sqrt(a)\n",
    "    nothing\n",
    "end"
   ]
  },
  {
   "cell_type": "code",
   "execution_count": 70,
   "metadata": {},
   "outputs": [
    {
     "data": {
      "text/plain": [
       "sqrt_gpu! (generic function with 1 method)"
      ]
     },
     "execution_count": 70,
     "metadata": {},
     "output_type": "execute_result"
    }
   ],
   "source": [
    "function sqrt_gpu!(a)\n",
    "    @. a = CUDAnative.sqrt(a)\n",
    "    nothing\n",
    "end"
   ]
  },
  {
   "cell_type": "code",
   "execution_count": 71,
   "metadata": {},
   "outputs": [],
   "source": [
    "xc = 1 .+ rand(Float32, Nx, Ny, Nz);\n",
    "xg = 1 .+ cu(rand(Float32, Nx, Ny, Nz));"
   ]
  },
  {
   "cell_type": "code",
   "execution_count": 74,
   "metadata": {},
   "outputs": [
    {
     "data": {
      "text/plain": [
       "BenchmarkTools.Trial: \n",
       "  memory estimate:  0 bytes\n",
       "  allocs estimate:  0\n",
       "  --------------\n",
       "  minimum time:     2.586 ms (0.00% GC)\n",
       "  median time:      2.604 ms (0.00% GC)\n",
       "  mean time:        2.607 ms (0.00% GC)\n",
       "  maximum time:     3.379 ms (0.00% GC)\n",
       "  --------------\n",
       "  samples:          1916\n",
       "  evals/sample:     1"
      ]
     },
     "execution_count": 74,
     "metadata": {},
     "output_type": "execute_result"
    }
   ],
   "source": [
    "@benchmark sqrt_cpu!(xc)"
   ]
  },
  {
   "cell_type": "code",
   "execution_count": 75,
   "metadata": {},
   "outputs": [
    {
     "data": {
      "text/plain": [
       "BenchmarkTools.Trial: \n",
       "  memory estimate:  1.14 KiB\n",
       "  allocs estimate:  22\n",
       "  --------------\n",
       "  minimum time:     5.741 μs (0.00% GC)\n",
       "  median time:      35.424 μs (0.00% GC)\n",
       "  mean time:        34.681 μs (0.41% GC)\n",
       "  maximum time:     733.781 μs (96.30% GC)\n",
       "  --------------\n",
       "  samples:          10000\n",
       "  evals/sample:     5"
      ]
     },
     "execution_count": 75,
     "metadata": {},
     "output_type": "execute_result"
    }
   ],
   "source": [
    "@benchmark sqrt_cpu!(xg)"
   ]
  },
  {
   "cell_type": "code",
   "execution_count": 76,
   "metadata": {},
   "outputs": [
    {
     "data": {
      "text/plain": [
       "BenchmarkTools.Trial: \n",
       "  memory estimate:  1.14 KiB\n",
       "  allocs estimate:  22\n",
       "  --------------\n",
       "  minimum time:     5.643 μs (0.00% GC)\n",
       "  median time:      35.437 μs (0.00% GC)\n",
       "  mean time:        34.678 μs (0.37% GC)\n",
       "  maximum time:     716.405 μs (96.22% GC)\n",
       "  --------------\n",
       "  samples:          10000\n",
       "  evals/sample:     5"
      ]
     },
     "execution_count": 76,
     "metadata": {},
     "output_type": "execute_result"
    }
   ],
   "source": [
    "@benchmark sqrt_gpu!(xg)"
   ]
  },
  {
   "cell_type": "code",
   "execution_count": 91,
   "metadata": {},
   "outputs": [
    {
     "data": {
      "text/plain": [
       "expensive! (generic function with 1 method)"
      ]
     },
     "execution_count": 91,
     "metadata": {},
     "output_type": "execute_result"
    }
   ],
   "source": [
    "function expensive!(a)\n",
    "    @. a = exp(sin(sqrt(a)^a)^cos(a))^(-a)\n",
    "    nothing\n",
    "end"
   ]
  },
  {
   "cell_type": "code",
   "execution_count": 6,
   "metadata": {},
   "outputs": [
    {
     "data": {
      "text/plain": [
       "expensive_gpu! (generic function with 1 method)"
      ]
     },
     "execution_count": 6,
     "metadata": {},
     "output_type": "execute_result"
    }
   ],
   "source": [
    "function expensive_gpu!(a)\n",
    "    @. a = CUDAnative.pow(exp(CUDAnative.pow(sin(CUDAnative.pow(sqrt(a), a)), cos(a))), -a)\n",
    "    nothing\n",
    "end"
   ]
  },
  {
   "cell_type": "code",
   "execution_count": 85,
   "metadata": {},
   "outputs": [],
   "source": [
    "xc = rand(Float32, Nx, Ny, Nz);\n",
    "xg = cu(rand(Float32, Nx, Ny, Nz));"
   ]
  },
  {
   "cell_type": "code",
   "execution_count": 104,
   "metadata": {},
   "outputs": [
    {
     "data": {
      "text/plain": [
       "BenchmarkTools.Trial: \n",
       "  memory estimate:  0 bytes\n",
       "  allocs estimate:  0\n",
       "  --------------\n",
       "  minimum time:     480.248 ms (0.00% GC)\n",
       "  median time:      481.230 ms (0.00% GC)\n",
       "  mean time:        482.565 ms (0.00% GC)\n",
       "  maximum time:     493.081 ms (0.00% GC)\n",
       "  --------------\n",
       "  samples:          11\n",
       "  evals/sample:     1"
      ]
     },
     "execution_count": 104,
     "metadata": {},
     "output_type": "execute_result"
    }
   ],
   "source": [
    "@benchmark expensive!(xc)"
   ]
  },
  {
   "cell_type": "code",
   "execution_count": 7,
   "metadata": {},
   "outputs": [
    {
     "data": {
      "text/plain": [
       "BenchmarkTools.Trial: \n",
       "  memory estimate:  5.19 KiB\n",
       "  allocs estimate:  56\n",
       "  --------------\n",
       "  minimum time:     7.729 μs (0.00% GC)\n",
       "  median time:      113.353 μs (0.00% GC)\n",
       "  mean time:        109.462 μs (2.91% GC)\n",
       "  maximum time:     23.472 ms (99.86% GC)\n",
       "  --------------\n",
       "  samples:          10000\n",
       "  evals/sample:     3"
      ]
     },
     "execution_count": 7,
     "metadata": {},
     "output_type": "execute_result"
    }
   ],
   "source": [
    "@benchmark expensive_gpu!($xg)"
   ]
  },
  {
   "cell_type": "code",
   "execution_count": 1,
   "metadata": {},
   "outputs": [
    {
     "data": {
      "text/plain": [
       "4256.637168141593"
      ]
     },
     "execution_count": 1,
     "metadata": {},
     "output_type": "execute_result"
    }
   ],
   "source": [
    "481e-3 / 113e-6"
   ]
  },
  {
   "cell_type": "code",
   "execution_count": 42,
   "metadata": {},
   "outputs": [
    {
     "data": {
      "text/plain": [
       "super_expensive! (generic function with 1 method)"
      ]
     },
     "execution_count": 42,
     "metadata": {},
     "output_type": "execute_result"
    }
   ],
   "source": [
    "function super_expensive!(a)\n",
    "    @. a = (exp(sin(sqrt(a)^a)^cos(a))^(-a))^(-π)\n",
    "    nothing\n",
    "end"
   ]
  },
  {
   "cell_type": "code",
   "execution_count": 16,
   "metadata": {},
   "outputs": [
    {
     "data": {
      "text/plain": [
       "super_expensive_gpu! (generic function with 1 method)"
      ]
     },
     "execution_count": 16,
     "metadata": {},
     "output_type": "execute_result"
    }
   ],
   "source": [
    "function super_expensive_gpu!(a)\n",
    "    @. a = exp(sqrt(sqrt(abs(cos(sin(CUDAnative.pow(CUDAnative.pow(CUDAnative.pow(exp(CUDAnative.pow(sin(CUDAnative.pow(sqrt(a), a)), cos(a))), -a), π), -π)))))))\n",
    "    nothing\n",
    "end"
   ]
  },
  {
   "cell_type": "code",
   "execution_count": 43,
   "metadata": {},
   "outputs": [],
   "source": [
    "xc = rand(Float32, Nx, Ny, Nz);\n",
    "xg = cu(rand(Float32, Nx, Ny, Nz));"
   ]
  },
  {
   "cell_type": "code",
   "execution_count": 44,
   "metadata": {},
   "outputs": [
    {
     "ename": "DomainError",
     "evalue": "DomainError with -3.141592653589793:\nExponentiation yielding a complex result requires a complex argument.\nReplace x^y with (x+0im)^y, Complex(x)^y, or similar.",
     "output_type": "error",
     "traceback": [
      "DomainError with -3.141592653589793:\nExponentiation yielding a complex result requires a complex argument.\nReplace x^y with (x+0im)^y, Complex(x)^y, or similar.",
      "",
      "Stacktrace:",
      " [1] throw_exp_domainerror(::Float64) at ./math.jl:35",
      " [2] ^ at ./math.jl:782 [inlined]",
      " [3] ^ at ./promotion.jl:345 [inlined]",
      " [4] _broadcast_getindex_evalf at ./broadcast.jl:578 [inlined]",
      " [5] _broadcast_getindex at ./broadcast.jl:551 [inlined]",
      " [6] _getindex at ./broadcast.jl:575 [inlined]",
      " [7] _getindex at ./broadcast.jl:574 [inlined]",
      " [8] _broadcast_getindex at ./broadcast.jl:550 [inlined]",
      " [9] getindex at ./broadcast.jl:511 [inlined]",
      " [10] macro expansion at ./broadcast.jl:843 [inlined]",
      " [11] macro expansion at ./simdloop.jl:73 [inlined]",
      " [12] copyto! at ./broadcast.jl:842 [inlined]",
      " [13] copyto! at ./broadcast.jl:797 [inlined]",
      " [14] materialize! at ./broadcast.jl:756 [inlined]",
      " [15] super_expensive!(::Array{Float32,3}) at ./In[42]:2",
      " [16] ##core#409() at /home/gridsan/aramadhan/.julia/packages/BenchmarkTools/mVOqg/src/execution.jl:297",
      " [17] ##sample#410(::BenchmarkTools.Parameters) at /home/gridsan/aramadhan/.julia/packages/BenchmarkTools/mVOqg/src/execution.jl:303",
      " [18] #_run#14(::Bool, ::String, ::Base.Iterators.Pairs{Symbol,Integer,NTuple{4,Symbol},NamedTuple{(:samples, :evals, :gctrial, :gcsample),Tuple{Int64,Int64,Bool,Bool}}}, ::Function, ::BenchmarkTools.Benchmark{Symbol(\"##benchmark#408\")}, ::BenchmarkTools.Parameters) at /home/gridsan/aramadhan/.julia/packages/BenchmarkTools/mVOqg/src/execution.jl:331",
      " [19] (::getfield(Base, Symbol(\"#inner#2\")){Base.Iterators.Pairs{Symbol,Integer,NTuple{5,Symbol},NamedTuple{(:verbose, :samples, :evals, :gctrial, :gcsample),Tuple{Bool,Int64,Int64,Bool,Bool}}},typeof(BenchmarkTools._run),Tuple{BenchmarkTools.Benchmark{Symbol(\"##benchmark#408\")},BenchmarkTools.Parameters}})() at ./none:0",
      " [20] #invokelatest#1 at ./essentials.jl:746 [inlined]",
      " [21] #invokelatest at ./none:0 [inlined]",
      " [22] #run_result#19 at /home/gridsan/aramadhan/.julia/packages/BenchmarkTools/mVOqg/src/execution.jl:32 [inlined]",
      " [23] #run_result at ./none:0 [inlined]",
      " [24] #run#21(::Base.Iterators.Pairs{Symbol,Integer,NTuple{5,Symbol},NamedTuple{(:verbose, :samples, :evals, :gctrial, :gcsample),Tuple{Bool,Int64,Int64,Bool,Bool}}}, ::Function, ::BenchmarkTools.Benchmark{Symbol(\"##benchmark#408\")}, ::BenchmarkTools.Parameters) at /home/gridsan/aramadhan/.julia/packages/BenchmarkTools/mVOqg/src/execution.jl:46",
      " [25] #run at ./none:0 [inlined] (repeats 2 times)",
      " [26] #warmup#24 at /home/gridsan/aramadhan/.julia/packages/BenchmarkTools/mVOqg/src/execution.jl:79 [inlined]",
      " [27] warmup(::BenchmarkTools.Benchmark{Symbol(\"##benchmark#408\")}) at /home/gridsan/aramadhan/.julia/packages/BenchmarkTools/mVOqg/src/execution.jl:79",
      " [28] top-level scope at /home/gridsan/aramadhan/.julia/packages/BenchmarkTools/mVOqg/src/execution.jl:213",
      " [29] top-level scope at In[44]:1"
     ]
    }
   ],
   "source": [
    "@benchmark super_expensive!(xc)"
   ]
  },
  {
   "cell_type": "code",
   "execution_count": null,
   "metadata": {},
   "outputs": [],
   "source": []
  }
 ],
 "metadata": {
  "kernelspec": {
   "display_name": "Julia 1.1.0",
   "language": "julia",
   "name": "julia-1.1"
  },
  "language_info": {
   "file_extension": ".jl",
   "mimetype": "application/julia",
   "name": "julia",
   "version": "1.1.0"
  }
 },
 "nbformat": 4,
 "nbformat_minor": 2
}
