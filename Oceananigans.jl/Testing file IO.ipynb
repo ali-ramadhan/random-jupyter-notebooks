{
 "cells": [
  {
   "cell_type": "code",
   "execution_count": 2,
   "metadata": {},
   "outputs": [
    {
     "data": {
      "text/plain": [
       "IOStream(<file tmp.dat>)"
      ]
     },
     "execution_count": 2,
     "metadata": {},
     "output_type": "execute_result"
    }
   ],
   "source": [
    "f = open(\"tmp.dat\", \"w\")"
   ]
  },
  {
   "cell_type": "code",
   "execution_count": 3,
   "metadata": {},
   "outputs": [
    {
     "data": {
      "text/plain": [
       "10×10 Array{Float64,2}:\n",
       " 0.945195   0.843855   0.296446  0.700226  …  0.238521  0.0926565  0.431643 \n",
       " 0.135165   0.594817   0.681302  0.299578     0.700063  0.179107   0.0338761\n",
       " 0.609415   0.534255   0.485077  0.214881     0.40144   0.799407   0.546142 \n",
       " 0.541659   0.0885731  0.262373  0.367942     0.906351  0.580183   0.295403 \n",
       " 0.0832995  0.925121   0.390091  0.216005     0.224471  0.823787   0.927204 \n",
       " 0.641673   0.0628401  0.2476    0.686506  …  0.239542  0.612653   0.174147 \n",
       " 0.515517   0.325881   0.143855  0.534164     0.156933  0.533061   0.0799939\n",
       " 0.124499   0.512806   0.283673  0.384332     0.931154  0.521198   0.402992 \n",
       " 0.985761   0.0583133  0.501369  0.611526     0.858579  0.0492078  0.776063 \n",
       " 0.283424   0.759045   0.676082  0.516425     0.863609  0.866633   0.947901 "
      ]
     },
     "execution_count": 3,
     "metadata": {},
     "output_type": "execute_result"
    }
   ],
   "source": [
    "A = rand(10, 10)"
   ]
  },
  {
   "cell_type": "code",
   "execution_count": 4,
   "metadata": {},
   "outputs": [
    {
     "data": {
      "text/plain": [
       "800"
      ]
     },
     "execution_count": 4,
     "metadata": {},
     "output_type": "execute_result"
    }
   ],
   "source": [
    "write(f, A)"
   ]
  },
  {
   "cell_type": "code",
   "execution_count": 5,
   "metadata": {},
   "outputs": [],
   "source": [
    "close(f)"
   ]
  },
  {
   "cell_type": "code",
   "execution_count": 7,
   "metadata": {},
   "outputs": [
    {
     "data": {
      "text/plain": [
       "IOStream(<file tmp32.dat>)"
      ]
     },
     "execution_count": 7,
     "metadata": {},
     "output_type": "execute_result"
    }
   ],
   "source": [
    "f32 = open(\"tmp32.dat\", \"w\")"
   ]
  },
  {
   "cell_type": "code",
   "execution_count": 8,
   "metadata": {},
   "outputs": [
    {
     "data": {
      "text/plain": [
       "10×10 Array{Float32,2}:\n",
       " 0.459855  0.209698   0.287785   0.745443   …  0.630905   0.673007  0.843485\n",
       " 0.135581  0.572102   0.155994   0.969178      0.759453   0.185779  0.337512\n",
       " 0.501782  0.767052   0.581283   0.333334      0.0494212  0.446121  0.926873\n",
       " 0.734047  0.423203   0.339858   0.936015      0.391171   0.915759  0.850957\n",
       " 0.598343  0.634808   0.81803    0.738413      0.598425   0.950241  0.293855\n",
       " 0.618961  0.224405   0.82085    0.165759   …  0.567706   0.255935  0.953855\n",
       " 0.933598  0.972953   0.570173   0.371088      0.718539   0.789992  0.322504\n",
       " 0.657076  0.0613521  0.231725   0.0282576     0.372795   0.896942  0.433679\n",
       " 0.1504    0.864192   0.0461168  0.732994      0.123445   0.869912  0.341946\n",
       " 0.866263  0.649838   0.363299   0.55039       0.173815   0.931864  0.586393"
      ]
     },
     "execution_count": 8,
     "metadata": {},
     "output_type": "execute_result"
    }
   ],
   "source": [
    "B = rand(Float32, 10, 10)"
   ]
  },
  {
   "cell_type": "code",
   "execution_count": 9,
   "metadata": {},
   "outputs": [
    {
     "data": {
      "text/plain": [
       "400"
      ]
     },
     "execution_count": 9,
     "metadata": {},
     "output_type": "execute_result"
    }
   ],
   "source": [
    "write(f32, B)"
   ]
  },
  {
   "cell_type": "code",
   "execution_count": 11,
   "metadata": {},
   "outputs": [],
   "source": [
    "close(f32)"
   ]
  },
  {
   "cell_type": "code",
   "execution_count": 60,
   "metadata": {},
   "outputs": [
    {
     "data": {
      "text/plain": [
       "10×10 Array{Float64,2}:\n",
       " 0.945195   0.843855   0.296446  0.700226  …  0.238521  0.0926565  0.431643 \n",
       " 0.135165   0.594817   0.681302  0.299578     0.700063  0.179107   0.0338761\n",
       " 0.609415   0.534255   0.485077  0.214881     0.40144   0.799407   0.546142 \n",
       " 0.541659   0.0885731  0.262373  0.367942     0.906351  0.580183   0.295403 \n",
       " 0.0832995  0.925121   0.390091  0.216005     0.224471  0.823787   0.927204 \n",
       " 0.641673   0.0628401  0.2476    0.686506  …  0.239542  0.612653   0.174147 \n",
       " 0.515517   0.325881   0.143855  0.534164     0.156933  0.533061   0.0799939\n",
       " 0.124499   0.512806   0.283673  0.384332     0.931154  0.521198   0.402992 \n",
       " 0.985761   0.0583133  0.501369  0.611526     0.858579  0.0492078  0.776063 \n",
       " 0.283424   0.759045   0.676082  0.516425     0.863609  0.866633   0.947901 "
      ]
     },
     "execution_count": 60,
     "metadata": {},
     "output_type": "execute_result"
    }
   ],
   "source": [
    "io = open(\"tmp.dat\", \"r\")\n",
    "M = zeros(Float64, 10, 10)\n",
    "read!(io, M)"
   ]
  },
  {
   "cell_type": "code",
   "execution_count": 52,
   "metadata": {},
   "outputs": [
    {
     "data": {
      "text/latex": [
       "\\begin{verbatim}\n",
       "readbytes!(stream::IO, b::AbstractVector{UInt8}, nb=length(b))\n",
       "\\end{verbatim}\n",
       "Read at most \\texttt{nb} bytes from \\texttt{stream} into \\texttt{b}, returning the number of bytes read. The size of \\texttt{b} will be increased if needed (i.e. if \\texttt{nb} is greater than \\texttt{length(b)} and enough bytes could be read), but it will never be decreased.\n",
       "\n",
       "\\begin{verbatim}\n",
       "readbytes!(stream::IOStream, b::AbstractVector{UInt8}, nb=length(b); all::Bool=true)\n",
       "\\end{verbatim}\n",
       "Read at most \\texttt{nb} bytes from \\texttt{stream} into \\texttt{b}, returning the number of bytes read. The size of \\texttt{b} will be increased if needed (i.e. if \\texttt{nb} is greater than \\texttt{length(b)} and enough bytes could be read), but it will never be decreased.\n",
       "\n",
       "See \\href{@ref}{\\texttt{read}} for a description of the \\texttt{all} option.\n",
       "\n",
       "Copy at most \\texttt{nbytes} of decrypted data from \\texttt{ctx} into \\texttt{buf}. If \\texttt{all=true}: wait for sufficient decrypted data to be available. Less than \\texttt{nbytes} may be copied if the peer sends TLS \\texttt{close\\_notify} or closes the connection. Returns number of bytes copied into \\texttt{buf} (\\texttt{<= nbytes}).\n",
       "\n"
      ],
      "text/markdown": [
       "```\n",
       "readbytes!(stream::IO, b::AbstractVector{UInt8}, nb=length(b))\n",
       "```\n",
       "\n",
       "Read at most `nb` bytes from `stream` into `b`, returning the number of bytes read. The size of `b` will be increased if needed (i.e. if `nb` is greater than `length(b)` and enough bytes could be read), but it will never be decreased.\n",
       "\n",
       "```\n",
       "readbytes!(stream::IOStream, b::AbstractVector{UInt8}, nb=length(b); all::Bool=true)\n",
       "```\n",
       "\n",
       "Read at most `nb` bytes from `stream` into `b`, returning the number of bytes read. The size of `b` will be increased if needed (i.e. if `nb` is greater than `length(b)` and enough bytes could be read), but it will never be decreased.\n",
       "\n",
       "See [`read`](@ref) for a description of the `all` option.\n",
       "\n",
       "Copy at most `nbytes` of decrypted data from `ctx` into `buf`. If `all=true`: wait for sufficient decrypted data to be available. Less than `nbytes` may be copied if the peer sends TLS `close_notify` or closes the connection. Returns number of bytes copied into `buf` (`<= nbytes`).\n"
      ],
      "text/plain": [
       "\u001b[36m  readbytes!(stream::IO, b::AbstractVector{UInt8}, nb=length(b))\u001b[39m\n",
       "\n",
       "  Read at most \u001b[36mnb\u001b[39m bytes from \u001b[36mstream\u001b[39m into \u001b[36mb\u001b[39m, returning the number of bytes\n",
       "  read. The size of \u001b[36mb\u001b[39m will be increased if needed (i.e. if \u001b[36mnb\u001b[39m is greater than\n",
       "  \u001b[36mlength(b)\u001b[39m and enough bytes could be read), but it will never be decreased.\n",
       "\n",
       "\u001b[36m  readbytes!(stream::IOStream, b::AbstractVector{UInt8}, nb=length(b); all::Bool=true)\u001b[39m\n",
       "\n",
       "  Read at most \u001b[36mnb\u001b[39m bytes from \u001b[36mstream\u001b[39m into \u001b[36mb\u001b[39m, returning the number of bytes\n",
       "  read. The size of \u001b[36mb\u001b[39m will be increased if needed (i.e. if \u001b[36mnb\u001b[39m is greater than\n",
       "  \u001b[36mlength(b)\u001b[39m and enough bytes could be read), but it will never be decreased.\n",
       "\n",
       "  See \u001b[36mread\u001b[39m for a description of the \u001b[36mall\u001b[39m option.\n",
       "\n",
       "  Copy at most \u001b[36mnbytes\u001b[39m of decrypted data from \u001b[36mctx\u001b[39m into \u001b[36mbuf\u001b[39m. If \u001b[36mall=true\u001b[39m: wait\n",
       "  for sufficient decrypted data to be available. Less than \u001b[36mnbytes\u001b[39m may be\n",
       "  copied if the peer sends TLS \u001b[36mclose_notify\u001b[39m or closes the connection. Returns\n",
       "  number of bytes copied into \u001b[36mbuf\u001b[39m (\u001b[36m<= nbytes\u001b[39m)."
      ]
     },
     "execution_count": 52,
     "metadata": {},
     "output_type": "execute_result"
    }
   ],
   "source": [
    "@doc readbytes!"
   ]
  },
  {
   "cell_type": "code",
   "execution_count": 78,
   "metadata": {},
   "outputs": [
    {
     "data": {
      "text/plain": [
       "0.0"
      ]
     },
     "execution_count": 78,
     "metadata": {},
     "output_type": "execute_result"
    }
   ],
   "source": [
    "reinterpret(Float64, Int64(2^65))"
   ]
  },
  {
   "cell_type": "code",
   "execution_count": null,
   "metadata": {},
   "outputs": [],
   "source": []
  }
 ],
 "metadata": {
  "kernelspec": {
   "display_name": "Julia 1.1.0",
   "language": "julia",
   "name": "julia-1.1"
  },
  "language_info": {
   "file_extension": ".jl",
   "mimetype": "application/julia",
   "name": "julia",
   "version": "1.1.0"
  }
 },
 "nbformat": 4,
 "nbformat_minor": 2
}
