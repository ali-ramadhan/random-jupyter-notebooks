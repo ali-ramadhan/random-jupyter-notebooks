{
 "cells": [
  {
   "cell_type": "code",
   "execution_count": 1,
   "metadata": {},
   "outputs": [],
   "source": [
    "using Pkg\n",
    "# cd(\"D:\\\\Home\\\\Git\\\\Oceananigans.jl\")\n",
    "# cd(\"C:\\\\Users\\\\Ali\\\\Documents\\\\Git\\\\Oceananigans.jl\\\\\")\n",
    "cd(\"/home/gridsan/aramadhan/Oceananigans.jl/\")\n",
    "Pkg.activate(\".\");"
   ]
  },
  {
   "cell_type": "code",
   "execution_count": 2,
   "metadata": {},
   "outputs": [],
   "source": [
    "using Oceananigans"
   ]
  },
  {
   "cell_type": "code",
   "execution_count": 3,
   "metadata": {},
   "outputs": [
    {
     "name": "stdout",
     "output_type": "stream",
     "text": [
      "Planning Fourier transforms... (planner_flag=FFTW.PATIENT)\n",
      "FFT!:    0.533852 seconds (44 allocations: 3.031 KiB)\n",
      "IFFT!:   0.543232 seconds (16.67 k allocations: 723.703 KiB)\n",
      "DCT!:    0.065505 seconds (11.51 k allocations: 597.648 KiB)\n",
      "IDCT!:   0.055900 seconds (10.94 k allocations: 560.680 KiB)\n",
      "Aspect ratio:    Γxz=2.0, Γyz=2.0\n",
      "Rayleigh number: Ra=5000.0\n",
      "Prandtl number:  Pr=0.7\n",
      "[FieldWriter] Writing T to disk: ./rayleigh_benard_T_000000000000.dat\n",
      "model.clock.time = 200 / 200   \n",
      "[FieldWriter] Writing T to disk: ./rayleigh_benard_T_000000000200.dat\n",
      "model.clock.time = 400 / 400   \n",
      "[FieldWriter] Writing T to disk: ./rayleigh_benard_T_000000000400.dat\n",
      "model.clock.time = 600 / 600   \n",
      "[FieldWriter] Writing T to disk: ./rayleigh_benard_T_000000000600.dat\n",
      "model.clock.time = 800 / 800   \n",
      "[FieldWriter] Writing T to disk: ./rayleigh_benard_T_000000000800.dat\n",
      "model.clock.time = 1000 / 1000   \n",
      "[FieldWriter] Writing T to disk: ./rayleigh_benard_T_000000001000.dat\n",
      "model.clock.time = 1200 / 1200   \n",
      "[FieldWriter] Writing T to disk: ./rayleigh_benard_T_000000001200.dat\n",
      "model.clock.time = 1400 / 1400   \n",
      "[FieldWriter] Writing T to disk: ./rayleigh_benard_T_000000001400.dat\n",
      "model.clock.time = 1600 / 1600   \n",
      "[FieldWriter] Writing T to disk: ./rayleigh_benard_T_000000001600.dat\n",
      "model.clock.time = 1800 / 1800   \n",
      "[FieldWriter] Writing T to disk: ./rayleigh_benard_T_000000001800.dat\n",
      "model.clock.time = 2000 / 2000   \n",
      "[FieldWriter] Writing T to disk: ./rayleigh_benard_T_000000002000.dat\n",
      "Creating temperature movie... (10 frames)\n",
      "frame = 10 / 10   "
     ]
    },
    {
     "ename": "Base.IOError",
     "evalue": "IOError: could not spawn `ffmpeg -v 0 -framerate 30 -loop 0 -i /state/partition1/slurm_tmp/158566.0.0/tmpITeVAA/%06d.png -pix_fmt yuv420p -y /home/gridsan/aramadhan/Oceananigans.jl/rayleigh_benard_1550001987.mp4`: no such file or directory (ENOENT)",
     "output_type": "error",
     "traceback": [
      "IOError: could not spawn `ffmpeg -v 0 -framerate 30 -loop 0 -i /state/partition1/slurm_tmp/158566.0.0/tmpITeVAA/%06d.png -pix_fmt yuv420p -y /home/gridsan/aramadhan/Oceananigans.jl/rayleigh_benard_1550001987.mp4`: no such file or directory (ENOENT)",
      "",
      "Stacktrace:",
      " [1] _spawn_primitive(::String, ::Cmd, ::Array{Any,1}) at ./process.jl:400",
      " [2] setup_stdios(::getfield(Base, Symbol(\"##505#506\")){Cmd}, ::Array{Any,1}) at ./process.jl:413",
      " [3] _spawn at ./process.jl:412 [inlined]",
      " [4] #run#515(::Bool, ::Function, ::Cmd) at ./process.jl:725",
      " [5] run at ./process.jl:724 [inlined]",
      " [6] #buildanimation#245(::Int64, ::Int64, ::Bool, ::Bool, ::Function, ::String, ::String, ::Bool) at /home/gridsan/aramadhan/.julia/packages/Plots/UQI78/src/animation.jl:87",
      " [7] #buildanimation at ./none:0 [inlined]",
      " [8] #mp4#244 at /home/gridsan/aramadhan/.julia/packages/Plots/UQI78/src/animation.jl:65 [inlined]",
      " [9] #mp4 at ./none:0 [inlined]",
      " [10] make_temperature_movie(::Model, ::FieldWriter) at /home/gridsan/aramadhan/Oceananigans.jl/examples/rayleigh_benard_convection.jl:81",
      " [11] rayleigh_benard_convection(::Float64, ::Int64, ::Int64, ::Int64, ::Int64, ::Int64, ::Int64, ::Int64, ::Int64) at /home/gridsan/aramadhan/Oceananigans.jl/examples/rayleigh_benard_convection.jl:60",
      " [12] top-level scope at In[3]:2"
     ]
    }
   ],
   "source": [
    "include(\"examples/rayleigh_benard_convection.jl\")\n",
    "rayleigh_benard_convection(5e3, 64, 64, 32, 4000, 4000, 2000, 100, 20)"
   ]
  },
  {
   "cell_type": "code",
   "execution_count": null,
   "metadata": {},
   "outputs": [],
   "source": []
  }
 ],
 "metadata": {
  "kernelspec": {
   "display_name": "Julia 1.1.0",
   "language": "julia",
   "name": "julia-1.1"
  },
  "language_info": {
   "file_extension": ".jl",
   "mimetype": "application/julia",
   "name": "julia",
   "version": "1.1.0"
  }
 },
 "nbformat": 4,
 "nbformat_minor": 2
}
