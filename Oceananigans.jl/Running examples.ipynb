{
 "cells": [
  {
   "cell_type": "code",
   "execution_count": 1,
   "metadata": {},
   "outputs": [],
   "source": [
    "using Pkg\n",
    "# cd(\"D:\\\\Home\\\\Git\\\\Oceananigans.jl\")\n",
    "cd(\"C:\\\\Users\\\\Ali\\\\Documents\\\\Git\\\\Oceananigans.jl\\\\\")\n",
    "Pkg.activate(\".\");"
   ]
  },
  {
   "cell_type": "code",
   "execution_count": 2,
   "metadata": {},
   "outputs": [],
   "source": [
    "using Oceananigans, Oceananigans.Operators"
   ]
  },
  {
   "cell_type": "code",
   "execution_count": null,
   "metadata": {},
   "outputs": [],
   "source": [
    "# Pkg.test(\"Oceananigans\")"
   ]
  },
  {
   "cell_type": "code",
   "execution_count": null,
   "metadata": {},
   "outputs": [],
   "source": [
    "include(\"examples/deep_convection_2d.jl\")\n",
    "deep_convection_2d()"
   ]
  },
  {
   "cell_type": "code",
   "execution_count": null,
   "metadata": {},
   "outputs": [],
   "source": [
    "# include(\"examples/rayleigh_taylor_2d.jl\")\n",
    "# rayleigh_taylor_2d()"
   ]
  },
  {
   "cell_type": "code",
   "execution_count": 7,
   "metadata": {},
   "outputs": [
    {
     "name": "stdout",
     "output_type": "stream",
     "text": [
      "Planning Fourier transforms... (planner_flag=FFTW.PATIENT)\n",
      "FFT!:    0.000169 seconds (46 allocations: 3.063 KiB)\n",
      "IFFT!:   0.000095 seconds (54 allocations: 3.469 KiB)\n",
      "DCT!:    0.000070 seconds (59 allocations: 4.047 KiB)\n",
      "IDCT!:   0.000071 seconds (59 allocations: 4.047 KiB)\n",
      "[FieldWriter] Writing T to disk: .\\deep_convection_3d_T_000000000000.dat\n",
      "model.clock.time = 200 / 2000   \n",
      "[FieldWriter] Writing T to disk: .\\deep_convection_3d_T_000000000200.dat\n",
      "model.clock.time = 400 / 2000   \n",
      "[FieldWriter] Writing T to disk: .\\deep_convection_3d_T_000000000400.dat\n",
      "model.clock.time = 600 / 2000   \n",
      "[FieldWriter] Writing T to disk: .\\deep_convection_3d_T_000000000600.dat\n",
      "model.clock.time = 800 / 2000   \n",
      "[FieldWriter] Writing T to disk: .\\deep_convection_3d_T_000000000800.dat\n",
      "model.clock.time = 1000 / 2000   \n",
      "[FieldWriter] Writing T to disk: .\\deep_convection_3d_T_000000001000.dat\n",
      "model.clock.time = 1200 / 2000   \n",
      "[FieldWriter] Writing T to disk: .\\deep_convection_3d_T_000000001200.dat\n",
      "model.clock.time = 1400 / 2000   \n",
      "[FieldWriter] Writing T to disk: .\\deep_convection_3d_T_000000001400.dat\n",
      "model.clock.time = 1600 / 2000   \n",
      "[FieldWriter] Writing T to disk: .\\deep_convection_3d_T_000000001600.dat\n",
      "model.clock.time = 1800 / 2000   \n",
      "[FieldWriter] Writing T to disk: .\\deep_convection_3d_T_000000001800.dat\n",
      "model.clock.time = 2000 / 2000   \n",
      "[FieldWriter] Writing T to disk: .\\deep_convection_3d_T_000000002000.dat\n",
      " 14.262335 seconds (4.58 M allocations: 307.158 MiB, 0.83% gc time)\n"
     ]
    }
   ],
   "source": [
    "include(\"examples/deep_convection_3d.jl\")\n",
    "@time deep_convection_3d()"
   ]
  },
  {
   "cell_type": "code",
   "execution_count": 8,
   "metadata": {},
   "outputs": [
    {
     "name": "stdout",
     "output_type": "stream",
     "text": [
      "Planning Fourier transforms... (planner_flag=FFTW.PATIENT)\n",
      "FFT!:    0.000171 seconds (46 allocations: 3.063 KiB)\n",
      "IFFT!:   0.000115 seconds (54 allocations: 3.469 KiB)\n",
      "DCT!:    0.000088 seconds (59 allocations: 4.047 KiB)\n",
      "IDCT!:   0.000158 seconds (59 allocations: 4.047 KiB)\n",
      "[FieldWriter] Writing T to disk: .\\deep_convection_3d_T_000000000000.dat\n",
      "model.clock.time = 200 / 4000   \n",
      "[FieldWriter] Writing T to disk: .\\deep_convection_3d_T_000000000200.dat\n",
      "model.clock.time = 400 / 4000   \n",
      "[FieldWriter] Writing T to disk: .\\deep_convection_3d_T_000000000400.dat\n",
      "model.clock.time = 600 / 4000   \n",
      "[FieldWriter] Writing T to disk: .\\deep_convection_3d_T_000000000600.dat\n",
      "model.clock.time = 800 / 4000   \n",
      "[FieldWriter] Writing T to disk: .\\deep_convection_3d_T_000000000800.dat\n",
      "model.clock.time = 1000 / 4000   \n",
      "[FieldWriter] Writing T to disk: .\\deep_convection_3d_T_000000001000.dat\n",
      "model.clock.time = 1200 / 4000   \n",
      "[FieldWriter] Writing T to disk: .\\deep_convection_3d_T_000000001200.dat\n",
      "model.clock.time = 1400 / 4000   \n",
      "[FieldWriter] Writing T to disk: .\\deep_convection_3d_T_000000001400.dat\n",
      "model.clock.time = 1600 / 4000   \n",
      "[FieldWriter] Writing T to disk: .\\deep_convection_3d_T_000000001600.dat\n",
      "model.clock.time = 1800 / 4000   \n",
      "[FieldWriter] Writing T to disk: .\\deep_convection_3d_T_000000001800.dat\n",
      "model.clock.time = 2000 / 4000   \n",
      "[FieldWriter] Writing T to disk: .\\deep_convection_3d_T_000000002000.dat\n",
      "model.clock.time = 2200 / 4000   \n",
      "[FieldWriter] Writing T to disk: .\\deep_convection_3d_T_000000002200.dat\n",
      "model.clock.time = 2400 / 4000   \n",
      "[FieldWriter] Writing T to disk: .\\deep_convection_3d_T_000000002400.dat\n",
      "model.clock.time = 2600 / 4000   \n",
      "[FieldWriter] Writing T to disk: .\\deep_convection_3d_T_000000002600.dat\n",
      "model.clock.time = 2800 / 4000   \n",
      "[FieldWriter] Writing T to disk: .\\deep_convection_3d_T_000000002800.dat\n",
      "model.clock.time = 3000 / 4000   \n",
      "[FieldWriter] Writing T to disk: .\\deep_convection_3d_T_000000003000.dat\n",
      "model.clock.time = 3200 / 4000   \n",
      "[FieldWriter] Writing T to disk: .\\deep_convection_3d_T_000000003200.dat\n",
      "model.clock.time = 3400 / 4000   \n",
      "[FieldWriter] Writing T to disk: .\\deep_convection_3d_T_000000003400.dat\n",
      "model.clock.time = 3600 / 4000   \n",
      "[FieldWriter] Writing T to disk: .\\deep_convection_3d_T_000000003600.dat\n",
      "model.clock.time = 3800 / 4000   \n",
      "[FieldWriter] Writing T to disk: .\\deep_convection_3d_T_000000003800.dat\n",
      "model.clock.time = 4000 / 4000   \n",
      "[FieldWriter] Writing T to disk: .\\deep_convection_3d_T_000000004000.dat\n",
      " 28.614847 seconds (4.69 M allocations: 311.882 MiB, 0.80% gc time)\n"
     ]
    }
   ],
   "source": [
    "include(\"examples/deep_convection_3d.jl\")\n",
    "@time deep_convection_3d()"
   ]
  },
  {
   "cell_type": "code",
   "execution_count": null,
   "metadata": {},
   "outputs": [],
   "source": []
  }
 ],
 "metadata": {
  "kernelspec": {
   "display_name": "Julia 1.0.0",
   "language": "julia",
   "name": "julia-1.0"
  },
  "language_info": {
   "file_extension": ".jl",
   "mimetype": "application/julia",
   "name": "julia",
   "version": "1.0.0"
  }
 },
 "nbformat": 4,
 "nbformat_minor": 2
}
