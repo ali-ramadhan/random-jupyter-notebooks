{
 "cells": [
  {
   "cell_type": "code",
   "execution_count": 1,
   "metadata": {},
   "outputs": [
    {
     "ename": "Base.IOError",
     "evalue": "IOError: chdir C:\\Users\\Ali\\Documents\\Git\\Oceananigans.jl\\: no such file or directory (ENOENT)",
     "output_type": "error",
     "traceback": [
      "IOError: chdir C:\\Users\\Ali\\Documents\\Git\\Oceananigans.jl\\: no such file or directory (ENOENT)",
      "",
      "Stacktrace:",
      " [1] uv_error at .\\libuv.jl:85 [inlined]",
      " [2] cd(::String) at .\\file.jl:76",
      " [3] top-level scope at In[1]:2"
     ]
    }
   ],
   "source": [
    "using Pkg\n",
    "# cd(\"D:\\\\Home\\\\Git\\\\Oceananigans.jl\")\n",
    "cd(\"C:\\\\Users\\\\Ali\\\\Documents\\\\Git\\\\Oceananigans.jl\\\\\")\n",
    "Pkg.activate(\".\");"
   ]
  },
  {
   "cell_type": "code",
   "execution_count": 2,
   "metadata": {},
   "outputs": [
    {
     "ename": "ArgumentError",
     "evalue": "ArgumentError: Package Oceananigans not found in current path:\n- Run `Pkg.add(\"Oceananigans\")` to install the Oceananigans package.\n",
     "output_type": "error",
     "traceback": [
      "ArgumentError: Package Oceananigans not found in current path:\n- Run `Pkg.add(\"Oceananigans\")` to install the Oceananigans package.\n",
      "",
      "Stacktrace:",
      " [1] require(::Module, ::Symbol) at .\\loading.jl:817",
      " [2] top-level scope at In[2]:1"
     ]
    }
   ],
   "source": [
    "using Oceananigans, Oceananigans.Operators"
   ]
  },
  {
   "cell_type": "code",
   "execution_count": null,
   "metadata": {},
   "outputs": [],
   "source": [
    "Pkg.test(\"Oceananigans\")"
   ]
  },
  {
   "cell_type": "code",
   "execution_count": 3,
   "metadata": {},
   "outputs": [
    {
     "name": "stdout",
     "output_type": "stream",
     "text": [
      "Planning Fourier transforms... (planner_flag=FFTW.PATIENT)\n",
      "FFT!:    0.394089 seconds (44 allocations: 3.031 KiB)\n",
      "IFFT!:   0.445993 seconds (12.30 k allocations: 553.594 KiB)\n",
      "DCT!:    0.077049 seconds (53.39 k allocations: 2.746 MiB)\n",
      "IDCT!:   0.032098 seconds (10.85 k allocations: 555.496 KiB)\n",
      "t = 50000 / 50000   \n",
      "Creating tracer movie... (250 frames)\n",
      "frame = 250 / 250   "
     ]
    },
    {
     "name": "stderr",
     "output_type": "stream",
     "text": [
      "┌ Info: Saved animation to \n",
      "│   fn = C:\\Users\\Ali\\Documents\\Git\\Oceananigans.jl\\deep_convection_2d_1548810920.mp4\n",
      "└ @ Plots C:\\Users\\Ali\\.julia\\packages\\Plots\\y6yik\\src\\animation.jl:90\n"
     ]
    },
    {
     "data": {
      "text/html": [
       "<video controls><source src=\"deep_convection_2d_1548810920.mp4?0.5942733017148398>\" type=\"video/mp4\"></video>"
      ],
      "text/plain": [
       "Plots.AnimatedGif(\"C:\\\\Users\\\\Ali\\\\Documents\\\\Git\\\\Oceananigans.jl\\\\deep_convection_2d_1548810920.mp4\")"
      ]
     },
     "execution_count": 3,
     "metadata": {},
     "output_type": "execute_result"
    }
   ],
   "source": [
    "include(\"examples/deep_convection_2d.jl\")\n",
    "deep_convection_2d()"
   ]
  },
  {
   "cell_type": "code",
   "execution_count": null,
   "metadata": {},
   "outputs": [],
   "source": [
    "# include(\"examples/rayleigh_taylor_2d.jl\")\n",
    "# rayleigh_taylor_2d()"
   ]
  },
  {
   "cell_type": "code",
   "execution_count": null,
   "metadata": {},
   "outputs": [],
   "source": []
  }
 ],
 "metadata": {
  "kernelspec": {
   "display_name": "Julia 1.0.0",
   "language": "julia",
   "name": "julia-1.0"
  },
  "language_info": {
   "file_extension": ".jl",
   "mimetype": "application/julia",
   "name": "julia",
   "version": "1.0.0"
  }
 },
 "nbformat": 4,
 "nbformat_minor": 2
}
