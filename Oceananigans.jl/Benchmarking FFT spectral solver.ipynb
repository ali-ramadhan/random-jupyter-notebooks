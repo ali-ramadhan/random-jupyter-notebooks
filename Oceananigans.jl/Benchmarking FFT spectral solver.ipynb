{
 "cells": [
  {
   "cell_type": "code",
   "execution_count": 1,
   "metadata": {},
   "outputs": [],
   "source": [
    "using Pkg\n",
    "cd(\"D:\\\\Home\\\\Git\\\\Oceananigans.jl\")\n",
    "# cd(\"C:\\\\Users\\\\Ali\\\\Documents\\\\Git\\\\Oceananigans.jl\\\\\")\n",
    "Pkg.activate(\".\");"
   ]
  },
  {
   "cell_type": "code",
   "execution_count": 2,
   "metadata": {},
   "outputs": [],
   "source": [
    "using Statistics, Printf, BenchmarkTools\n",
    "using FFTW\n",
    "using Oceananigans, Oceananigans.Operators"
   ]
  },
  {
   "cell_type": "code",
   "execution_count": 3,
   "metadata": {},
   "outputs": [
    {
     "data": {
      "text/plain": [
       "SpectralSolverParameters"
      ]
     },
     "execution_count": 3,
     "metadata": {},
     "output_type": "execute_result"
    }
   ],
   "source": [
    "struct SpectralSolverParameters{T<:AbstractArray}\n",
    "    kx²::T\n",
    "    ky²::T\n",
    "    kz²::T\n",
    "    FFT!\n",
    "    DCT!\n",
    "    IFFT!\n",
    "    IDCT!\n",
    "end\n",
    "\n",
    "\n",
    "let pf2s = Dict(FFTW.ESTIMATE => \"FFTW.ESTIMATE\",\n",
    "                FFTW.MEASURE => \"FFTW.MEASURE\",\n",
    "                FFTW.PATIENT => \"FFTW.PATIENT\",\n",
    "                FFTW.EXHAUSTIVE => \"FFTW.EXHAUSTIVE\")\n",
    "    global plannerflag2string\n",
    "    plannerflag2string(k::Integer) = pf2s[Int(k)]\n",
    "end\n",
    "\n",
    "function SpectralSolverParameters(g::Grid, exfield::CellField, planner_flag=FFTW.PATIENT)\n",
    "    kx² = zeros(eltype(g), g.Nx)\n",
    "    ky² = zeros(eltype(g), g.Ny)\n",
    "    kz² = zeros(eltype(g), g.Nz)\n",
    "    \n",
    "    for i in 1:g.Nx; kx²[i] = (2sin((i-1)*π/g.Nx)    / (g.Lx/g.Nx))^2; end\n",
    "    for j in 1:g.Ny; ky²[j] = (2sin((j-1)*π/g.Ny)    / (g.Ly/g.Ny))^2; end\n",
    "    for k in 1:g.Nz; kz²[k] = (2sin((k-1)*π/(2g.Nz)) / (g.Lz/g.Nz))^2; end\n",
    "    \n",
    "    print(\"Planning Fourier transforms... (planner_flag=$(plannerflag2string(planner_flag)))\\n\")\n",
    "    print(\"FFT!:  \"); @time FFT!  = FFTW.plan_fft!(exfield.data, [1, 2]; flags=planner_flag)\n",
    "    print(\"IFFT!: \"); @time IFFT! = FFTW.plan_ifft!(exfield.data, [1, 2]; flags=planner_flag)\n",
    "    print(\"DCT!:  \"); @time DCT!  = FFTW.plan_r2r!(exfield.data, FFTW.REDFT10, 3; flags=planner_flag)\n",
    "    print(\"IDCT!: \"); @time IDCT! = FFTW.plan_r2r!(exfield.data, FFTW.REDFT01, 3; flags=planner_flag)\n",
    "    \n",
    "    SpectralSolverParameters{Array{eltype(g),1}}(kx², ky², kz², FFT!, DCT!, IFFT!, IDCT!)\n",
    "end"
   ]
  },
  {
   "cell_type": "code",
   "execution_count": 4,
   "metadata": {},
   "outputs": [
    {
     "data": {
      "text/plain": [
       "\"FFTW.PATIENT\""
      ]
     },
     "execution_count": 4,
     "metadata": {},
     "output_type": "execute_result"
    }
   ],
   "source": [
    "plannerflag2string(FFTW.PATIENT)"
   ]
  },
  {
   "cell_type": "code",
   "execution_count": 5,
   "metadata": {},
   "outputs": [
    {
     "data": {
      "text/plain": [
       "solve_poisson_3d_ppn_planned! (generic function with 1 method)"
      ]
     },
     "execution_count": 5,
     "metadata": {},
     "output_type": "execute_result"
    }
   ],
   "source": [
    "function solve_poisson_3d_ppn_planned!(ssp::SpectralSolverParameters, g::RegularCartesianGrid, f::CellField, ϕ::CellField)\n",
    "    ssp.DCT!*f.data  # Calculate DCTᶻ(f) in place.\n",
    "    ssp.FFT!*f.data  # Calculate FFTˣʸ(f) in place.\n",
    "\n",
    "    for k in 1:g.Nz, j in 1:g.Ny, i in 1:g.Nx\n",
    "        @inbounds ϕ.data[i, j, k] = -f.data[i, j, k] / (ssp.kx²[i] + ssp.ky²[j] + ssp.kz²[k])\n",
    "    end\n",
    "    ϕ.data[1, 1, 1] = 0\n",
    "\n",
    "    ssp.IFFT!*ϕ.data  # Calculate IFFTˣʸ(ϕ) in place.\n",
    "    ssp.IDCT!*ϕ.data  # Calculate IDCTᶻ(ϕ) in place.\n",
    "    @. ϕ.data = ϕ.data / (2*g.Nz)\n",
    "    nothing\n",
    "end"
   ]
  },
  {
   "cell_type": "code",
   "execution_count": null,
   "metadata": {},
   "outputs": [],
   "source": [
    "N = (100, 100, 100)\n",
    "L = (2000, 2000, 2000)\n",
    "g = RegularCartesianGrid(N, L; dim=3, FloatType=Float64)\n",
    "tmp = TemporaryFields(g)\n",
    "\n",
    "A = rand(Complex{Float64}, g.Nx, g.Ny, g.Nz)\n",
    "@. A = real(A)\n",
    "\n",
    "B1 = solve_poisson_3d_ppn(real(A), g.Nx, g.Ny, g.Nz, g.Δx, g.Δy, g.Δz);\n",
    "\n",
    "tmp.fCC1.data .= A\n",
    "tmp.fCC2.data .= 0\n",
    "solve_poisson_3d_ppn!(g, tmp.fCC1, tmp.fCC2)\n",
    "B2 = copy(tmp.fCC2.data)\n",
    "\n",
    "tmp.fCC1.data .= A\n",
    "tmp.fCC2.data .= 0\n",
    "ssp = SpectralSolverParameters(g, tmp.fCC1, FFTW.MEASURE);\n",
    "tmp.fCC1.data .= A\n",
    "tmp.fCC2.data .= 0\n",
    "solve_poisson_3d_ppn_planned!(ssp, g, tmp.fCC1, tmp.fCC2)\n",
    "B3 = copy(tmp.fCC2.data)\n",
    "@. B3 = real(B3)\n",
    "\n",
    "@show B1 ≈ B2\n",
    "@show B2 ≈ B3\n",
    "@show B1 ≈ B3;"
   ]
  },
  {
   "cell_type": "code",
   "execution_count": 6,
   "metadata": {},
   "outputs": [],
   "source": [
    "N = (256, 256, 256)\n",
    "L = (2000, 2000, 2000)\n",
    "\n",
    "c = EarthConstants()\n",
    "eos = LinearEquationOfState()\n",
    "\n",
    "g = RegularCartesianGrid(N, L; dim=3, FloatType=Float64)\n",
    "\n",
    "U  = VelocityFields(g)\n",
    "tr = TracerFields(g)\n",
    "pr = PressureFields(g)\n",
    "G  = SourceTerms(g)\n",
    "Gp = SourceTerms(g)\n",
    "F  = ForcingFields(g)\n",
    "tmp = TemporaryFields(g)\n",
    "\n",
    "U.u.data  .= 0\n",
    "U.v.data  .= 0\n",
    "U.w.data  .= 0\n",
    "tr.S.data .= 35\n",
    "tr.T.data .= 283;"
   ]
  },
  {
   "cell_type": "code",
   "execution_count": 7,
   "metadata": {},
   "outputs": [
    {
     "data": {
      "text/plain": [
       "BenchmarkTools.Trial: \n",
       "  memory estimate:  3.75 GiB\n",
       "  allocs estimate:  83886346\n",
       "  --------------\n",
       "  minimum time:     5.038 s (5.26% GC)\n",
       "  median time:      5.038 s (5.26% GC)\n",
       "  mean time:        5.038 s (5.26% GC)\n",
       "  maximum time:     5.038 s (5.26% GC)\n",
       "  --------------\n",
       "  samples:          1\n",
       "  evals/sample:     1"
      ]
     },
     "execution_count": 7,
     "metadata": {},
     "output_type": "execute_result"
    }
   ],
   "source": [
    "@benchmark solve_poisson_3d_ppn($tr.T.data, $g.Nx, $g.Ny, $g.Nz, $g.Δx, $g.Δy, $g.Δz)"
   ]
  },
  {
   "cell_type": "code",
   "execution_count": 8,
   "metadata": {},
   "outputs": [
    {
     "data": {
      "text/plain": [
       "BenchmarkTools.Trial: \n",
       "  memory estimate:  20.94 KiB\n",
       "  allocs estimate:  219\n",
       "  --------------\n",
       "  minimum time:     2.696 s (0.00% GC)\n",
       "  median time:      2.732 s (0.00% GC)\n",
       "  mean time:        2.732 s (0.00% GC)\n",
       "  maximum time:     2.767 s (0.00% GC)\n",
       "  --------------\n",
       "  samples:          2\n",
       "  evals/sample:     1"
      ]
     },
     "execution_count": 8,
     "metadata": {},
     "output_type": "execute_result"
    }
   ],
   "source": [
    "@benchmark solve_poisson_3d_ppn!($g, $tmp.fCC1, $tmp.fCC2)"
   ]
  },
  {
   "cell_type": "code",
   "execution_count": 9,
   "metadata": {},
   "outputs": [
    {
     "name": "stdout",
     "output_type": "stream",
     "text": [
      "Planning Fourier transforms... (planner_flag=FFTW.PATIENT)\n",
      "FFT!:    2.475688 seconds (46 allocations: 3.063 KiB)\n",
      "IFFT!:   2.376198 seconds (53 allocations: 3.438 KiB)\n",
      "DCT!:    8.411680 seconds (59 allocations: 4.047 KiB)\n",
      "IDCT!:   8.888404 seconds (59 allocations: 4.047 KiB)\n"
     ]
    }
   ],
   "source": [
    "tmp.fCC1.data .= rand(eltype(g), g.Nx, g.Ny, g.Nz)\n",
    "ssp = SpectralSolverParameters(g, tmp.fCC1, FFTW.PATIENT);"
   ]
  },
  {
   "cell_type": "code",
   "execution_count": 10,
   "metadata": {},
   "outputs": [
    {
     "data": {
      "text/plain": [
       "BenchmarkTools.Trial: \n",
       "  memory estimate:  0 bytes\n",
       "  allocs estimate:  0\n",
       "  --------------\n",
       "  minimum time:     882.176 ms (0.00% GC)\n",
       "  median time:      892.932 ms (0.00% GC)\n",
       "  mean time:        892.067 ms (0.00% GC)\n",
       "  maximum time:     900.105 ms (0.00% GC)\n",
       "  --------------\n",
       "  samples:          6\n",
       "  evals/sample:     1"
      ]
     },
     "execution_count": 10,
     "metadata": {},
     "output_type": "execute_result"
    }
   ],
   "source": [
    "tmp.fCC1.data .= rand(eltype(g), g.Nx, g.Ny, g.Nz)\n",
    "@benchmark solve_poisson_3d_ppn_planned!(ssp, g, tmp.fCC1, tmp.fCC2)"
   ]
  },
  {
   "cell_type": "code",
   "execution_count": null,
   "metadata": {},
   "outputs": [],
   "source": [
    "function IFFTFFT!(A)\n",
    "    FFTW.fft!(A)\n",
    "    FFTW.ifft!(A)\n",
    "    nothing\n",
    "end\n",
    "\n",
    "function IFFTFFT_planned(A, FFT!, IFFT!)\n",
    "    IFFT!*(FFT!*A)\n",
    "    nothing\n",
    "end"
   ]
  },
  {
   "cell_type": "code",
   "execution_count": null,
   "metadata": {},
   "outputs": [],
   "source": [
    "A = rand(Complex{Float64}, 100, 100, 100)\n",
    "@. A = real.(A);\n",
    "@benchmark ifft(fft(A))"
   ]
  },
  {
   "cell_type": "code",
   "execution_count": null,
   "metadata": {},
   "outputs": [],
   "source": [
    "A = rand(Complex{Float64}, 100, 100, 100)\n",
    "@. A = real.(A);\n",
    "@benchmark IFFTFFT!(A)"
   ]
  },
  {
   "cell_type": "code",
   "execution_count": null,
   "metadata": {},
   "outputs": [],
   "source": [
    "@time FFT!  = FFTW.plan_fft!(A; flags=FFTW.PATIENT);\n",
    "@time IFFT! = FFTW.plan_ifft!(A; flags=FFTW.PATIENT);\n",
    "# @time P = FFTW.plan_fft!(A; flags=FFTW.EXHAUSTIVE);\n",
    "# @time P⁻¹ = FFTW.plan_ifft!(A; flags=FFTW.EXHAUSTIVE);"
   ]
  },
  {
   "cell_type": "code",
   "execution_count": null,
   "metadata": {},
   "outputs": [],
   "source": [
    "A = rand(Complex{Float64}, 100, 100, 100)\n",
    "@. A = real.(A);\n",
    "@show A[10, 10, 10]\n",
    "@time FFT!*A\n",
    "@show A[10, 10, 10]\n",
    "@time IFFT!*A\n",
    "@show A[10, 10, 10];"
   ]
  },
  {
   "cell_type": "code",
   "execution_count": null,
   "metadata": {},
   "outputs": [],
   "source": [
    "@benchmark IFFTFFT_planned($A, $FFT!, $IFFT!)"
   ]
  },
  {
   "cell_type": "code",
   "execution_count": null,
   "metadata": {},
   "outputs": [],
   "source": [
    "A = rand(Complex{Float64}, 100, 100, 100);\n",
    "@time FFT!  = FFTW.plan_fft!(A; flags=FFTW.PATIENT);\n",
    "@time IFFT! = FFTW.plan_ifft!(A; flags=FFTW.PATIENT);\n",
    "\n",
    "B = zeros(Float64, 100, 100, 100)\n",
    "@time DCT!  = FFTW.plan_r2r!(B, FFTW.REDFT10, 3; flags=FFTW.PATIENT)\n",
    "@time IDCT! = FFTW.plan_r2r!(B, FFTW.REDFT01, 3; flags=FFTW.PATIENT)"
   ]
  },
  {
   "cell_type": "code",
   "execution_count": null,
   "metadata": {},
   "outputs": [],
   "source": [
    "@show typeof(FFT!)\n",
    "@show typeof(IFFT!)\n",
    "@show typeof(DCT!)\n",
    "@show typeof(IDCT!)"
   ]
  },
  {
   "cell_type": "code",
   "execution_count": null,
   "metadata": {},
   "outputs": [],
   "source": [
    "IFFT!"
   ]
  },
  {
   "cell_type": "code",
   "execution_count": null,
   "metadata": {},
   "outputs": [],
   "source": []
  }
 ],
 "metadata": {
  "kernelspec": {
   "display_name": "Julia 1.0.0",
   "language": "julia",
   "name": "julia-1.0"
  },
  "language_info": {
   "file_extension": ".jl",
   "mimetype": "application/julia",
   "name": "julia",
   "version": "1.0.0"
  }
 },
 "nbformat": 4,
 "nbformat_minor": 2
}
