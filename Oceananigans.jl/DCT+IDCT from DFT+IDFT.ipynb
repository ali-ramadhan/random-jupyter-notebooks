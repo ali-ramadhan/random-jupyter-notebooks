{
 "cells": [
  {
   "cell_type": "code",
   "execution_count": 111,
   "metadata": {},
   "outputs": [],
   "source": [
    "using FFTW, Test"
   ]
  },
  {
   "cell_type": "code",
   "execution_count": 38,
   "metadata": {},
   "outputs": [
    {
     "data": {
      "text/plain": [
       "10-element Array{Float64,1}:\n",
       "  9.319280363453597  \n",
       "  0.15478431340772214\n",
       "  2.9336211880336114 \n",
       " -0.2881143313943969 \n",
       "  0.5877363618947404 \n",
       "  1.1495086839516115 \n",
       " -2.2778284990563806 \n",
       " -1.5766797189382675 \n",
       " -1.147384309562554  \n",
       "  0.493700605286072  "
      ]
     },
     "execution_count": 38,
     "metadata": {},
     "output_type": "execute_result"
    }
   ],
   "source": [
    "x = rand(10)\n",
    "FFTW.r2r!(x, FFTW.REDFT10)\n",
    "\n",
    "# x = rand(8, 8, 4)\n",
    "# y = FFTW.r2r!(x, FFTW.REDFT10, 3)"
   ]
  },
  {
   "cell_type": "code",
   "execution_count": 110,
   "metadata": {},
   "outputs": [
    {
     "data": {
      "text/plain": [
       "16-element Array{Int64,1}:\n",
       "  1\n",
       "  3\n",
       "  5\n",
       "  7\n",
       "  9\n",
       " 11\n",
       " 13\n",
       " 15\n",
       " 16\n",
       " 14\n",
       " 12\n",
       " 10\n",
       "  8\n",
       "  6\n",
       "  4\n",
       "  2"
      ]
     },
     "execution_count": 110,
     "metadata": {},
     "output_type": "execute_result"
    }
   ],
   "source": [
    "t = collect(1:16)\n",
    "cat(t[1:2:N], t[N:-2:2]; dims=1)"
   ]
  },
  {
   "cell_type": "code",
   "execution_count": 131,
   "metadata": {},
   "outputs": [
    {
     "data": {
      "text/plain": [
       "dct_1d_gpu! (generic function with 1 method)"
      ]
     },
     "execution_count": 131,
     "metadata": {},
     "output_type": "execute_result"
    }
   ],
   "source": [
    "function dct_1d_gpu!(f)\n",
    "    N = size(f)[1]\n",
    "    f .= cat(f[1:2:N], f[N:-2:2]; dims=1)\n",
    "    FFTW.fft!(f)\n",
    "    f .*= 2 * exp.(collect(-1im*π*(0:N-1) / (2*N)))\n",
    "    nothing\n",
    "end"
   ]
  },
  {
   "cell_type": "code",
   "execution_count": 132,
   "metadata": {},
   "outputs": [
    {
     "data": {
      "text/plain": [
       "\u001b[32m\u001b[1mTest Passed\u001b[22m\u001b[39m"
      ]
     },
     "execution_count": 132,
     "metadata": {},
     "output_type": "execute_result"
    }
   ],
   "source": [
    "N = 16\n",
    "x = Complex.(rand(Float64, N))\n",
    "y = copy(x)\n",
    "\n",
    "dct_1d_gpu!(x)\n",
    "\n",
    "FFTW.r2r!(y, FFTW.REDFT10);\n",
    "\n",
    "@test real.(x) ≈ real.(y)"
   ]
  },
  {
   "cell_type": "code",
   "execution_count": 151,
   "metadata": {},
   "outputs": [
    {
     "data": {
      "text/plain": [
       "4×4×4 Array{Int64,3}:\n",
       "[:, :, 1] =\n",
       " 1  5   9  13\n",
       " 2  6  10  14\n",
       " 3  7  11  15\n",
       " 4  8  12  16\n",
       "\n",
       "[:, :, 2] =\n",
       " 33  37  41  45\n",
       " 34  38  42  46\n",
       " 35  39  43  47\n",
       " 36  40  44  48\n",
       "\n",
       "[:, :, 3] =\n",
       " 49  53  57  61\n",
       " 50  54  58  62\n",
       " 51  55  59  63\n",
       " 52  56  60  64\n",
       "\n",
       "[:, :, 4] =\n",
       " 17  21  25  29\n",
       " 18  22  26  30\n",
       " 19  23  27  31\n",
       " 20  24  28  32"
      ]
     },
     "execution_count": 151,
     "metadata": {},
     "output_type": "execute_result"
    }
   ],
   "source": [
    "Nx, Ny, Nz = 4, 4, 4\n",
    "t = reshape(collect(1:Nx*Ny*Nz), Nx, Ny, Nz)\n",
    "cat(t[:, :, 1:2:Nz], t[:, :, Nz:-2:2]; dims=3)"
   ]
  },
  {
   "cell_type": "code",
   "execution_count": 153,
   "metadata": {},
   "outputs": [
    {
     "data": {
      "text/plain": [
       "4×4×4 Array{Complex{Float64},3}:\n",
       "[:, :, 1] =\n",
       " 2.0-0.0im  2.0-0.0im  2.0-0.0im  2.0-0.0im\n",
       " 2.0-0.0im  2.0-0.0im  2.0-0.0im  2.0-0.0im\n",
       " 2.0-0.0im  2.0-0.0im  2.0-0.0im  2.0-0.0im\n",
       " 2.0-0.0im  2.0-0.0im  2.0-0.0im  2.0-0.0im\n",
       "\n",
       "[:, :, 2] =\n",
       " 1.84776-0.765367im  1.84776-0.765367im  …  1.84776-0.765367im\n",
       " 1.84776-0.765367im  1.84776-0.765367im     1.84776-0.765367im\n",
       " 1.84776-0.765367im  1.84776-0.765367im     1.84776-0.765367im\n",
       " 1.84776-0.765367im  1.84776-0.765367im     1.84776-0.765367im\n",
       "\n",
       "[:, :, 3] =\n",
       " 1.41421-1.41421im  1.41421-1.41421im  1.41421-1.41421im  1.41421-1.41421im\n",
       " 1.41421-1.41421im  1.41421-1.41421im  1.41421-1.41421im  1.41421-1.41421im\n",
       " 1.41421-1.41421im  1.41421-1.41421im  1.41421-1.41421im  1.41421-1.41421im\n",
       " 1.41421-1.41421im  1.41421-1.41421im  1.41421-1.41421im  1.41421-1.41421im\n",
       "\n",
       "[:, :, 4] =\n",
       " 0.765367-1.84776im  0.765367-1.84776im  …  0.765367-1.84776im\n",
       " 0.765367-1.84776im  0.765367-1.84776im     0.765367-1.84776im\n",
       " 0.765367-1.84776im  0.765367-1.84776im     0.765367-1.84776im\n",
       " 0.765367-1.84776im  0.765367-1.84776im     0.765367-1.84776im"
      ]
     },
     "execution_count": 153,
     "metadata": {},
     "output_type": "execute_result"
    }
   ],
   "source": [
    "factors = 2 * exp.(collect(-1im*π*(0:Nz-1) / (2*Nz)))\n",
    "repeat(reshape(factors, 1, 1, Nz), Nx, Ny, 1)"
   ]
  },
  {
   "cell_type": "code",
   "execution_count": 164,
   "metadata": {},
   "outputs": [
    {
     "data": {
      "text/plain": [
       "dct_dim3_gpu! (generic function with 1 method)"
      ]
     },
     "execution_count": 164,
     "metadata": {},
     "output_type": "execute_result"
    }
   ],
   "source": [
    "function dct_dim3_gpu!(f)\n",
    "    Nx, Ny, Nz = size(f)\n",
    "    f .= cat(f[:, :, 1:2:Nz], f[:, :, Nz:-2:2]; dims=3)\n",
    "    FFTW.fft!(f, 3)\n",
    "\n",
    "    factors = 2 * exp.(collect(-1im*π*(0:Nz-1) / (2*Nz)))\n",
    "    f .*= repeat(reshape(factors, 1, 1, Nz), Nx, Ny, 1)\n",
    "    \n",
    "    nothing\n",
    "end"
   ]
  },
  {
   "cell_type": "code",
   "execution_count": 169,
   "metadata": {},
   "outputs": [
    {
     "data": {
      "text/plain": [
       "\u001b[32m\u001b[1mTest Passed\u001b[22m\u001b[39m"
      ]
     },
     "execution_count": 169,
     "metadata": {},
     "output_type": "execute_result"
    }
   ],
   "source": [
    "Nx, Ny, Nz = 4, 4, 4\n",
    "# x = Complex{Float64}.(reshape(collect(1:Nx*Ny*Nz), Nx, Ny, Nz))\n",
    "x = Complex.(rand(Float64, Nx, Ny, Nz))\n",
    "y = copy(x)\n",
    "\n",
    "dct_dim3_gpu!(x)\n",
    "\n",
    "FFTW.r2r!(y, FFTW.REDFT10, 3);\n",
    "\n",
    "@test real.(x) ≈ real.(y)"
   ]
  },
  {
   "cell_type": "code",
   "execution_count": null,
   "metadata": {},
   "outputs": [],
   "source": []
  }
 ],
 "metadata": {
  "kernelspec": {
   "display_name": "Julia 1.0.0",
   "language": "julia",
   "name": "julia-1.0"
  },
  "language_info": {
   "file_extension": ".jl",
   "mimetype": "application/julia",
   "name": "julia",
   "version": "1.0.0"
  }
 },
 "nbformat": 4,
 "nbformat_minor": 2
}
