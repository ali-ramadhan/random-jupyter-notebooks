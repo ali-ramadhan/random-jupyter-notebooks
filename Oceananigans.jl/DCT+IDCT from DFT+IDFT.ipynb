{
 "cells": [
  {
   "cell_type": "code",
   "execution_count": 2,
   "metadata": {},
   "outputs": [],
   "source": [
    "using FFTW, Test\n",
    "using CuArrays"
   ]
  },
  {
   "cell_type": "code",
   "execution_count": null,
   "metadata": {},
   "outputs": [],
   "source": [
    "x = rand(10)\n",
    "FFTW.r2r!(x, FFTW.REDFT10)\n",
    "\n",
    "# x = rand(8, 8, 4)\n",
    "# y = FFTW.r2r!(x, FFTW.REDFT10, 3)"
   ]
  },
  {
   "cell_type": "code",
   "execution_count": null,
   "metadata": {},
   "outputs": [],
   "source": [
    "t = collect(1:16)\n",
    "cat(t[1:2:N], t[N:-2:2]; dims=1)"
   ]
  },
  {
   "cell_type": "code",
   "execution_count": null,
   "metadata": {},
   "outputs": [],
   "source": [
    "function dct_1d_gpu!(f)\n",
    "    N = size(f)[1]\n",
    "    f .= cat(f[1:2:N], f[N:-2:2]; dims=1)\n",
    "    FFTW.fft!(f)\n",
    "    f .*= 2 * exp.(collect(-1im*π*(0:N-1) / (2*N)))\n",
    "    nothing\n",
    "end"
   ]
  },
  {
   "cell_type": "code",
   "execution_count": null,
   "metadata": {},
   "outputs": [],
   "source": [
    "N = 16\n",
    "x = Complex.(rand(Float64, N))\n",
    "y = copy(x)\n",
    "\n",
    "dct_1d_gpu!(x)\n",
    "\n",
    "FFTW.r2r!(y, FFTW.REDFT10);\n",
    "\n",
    "@test real.(x) ≈ real.(y)"
   ]
  },
  {
   "cell_type": "code",
   "execution_count": null,
   "metadata": {},
   "outputs": [],
   "source": [
    "Nx, Ny, Nz = 4, 4, 4\n",
    "t = reshape(collect(1:Nx*Ny*Nz), Nx, Ny, Nz)\n",
    "cat(t[:, :, 1:2:Nz], t[:, :, Nz:-2:2]; dims=3)"
   ]
  },
  {
   "cell_type": "code",
   "execution_count": null,
   "metadata": {},
   "outputs": [],
   "source": [
    "factors = 2 * exp.(collect(-1im*π*(0:Nz-1) / (2*Nz)))\n",
    "repeat(reshape(factors, 1, 1, Nz), Nx, Ny, 1)"
   ]
  },
  {
   "cell_type": "code",
   "execution_count": 3,
   "metadata": {},
   "outputs": [
    {
     "data": {
      "text/plain": [
       "dct_dim3_gpu! (generic function with 1 method)"
      ]
     },
     "execution_count": 3,
     "metadata": {},
     "output_type": "execute_result"
    }
   ],
   "source": [
    "function dct_dim3_gpu!(f)\n",
    "    Nx, Ny, Nz = size(f)\n",
    "    f .= cat(f[:, :, 1:2:Nz], f[:, :, Nz:-2:2]; dims=3)\n",
    "    fft!(f, 3)\n",
    "\n",
    "    factors = 2 * exp.(collect(-1im*π*(0:Nz-1) / (2*Nz)))\n",
    "    \n",
    "    # f .*= repeat(reshape(factors, 1, 1, Nz), Nx, Ny, 1)\n",
    "    f .*= cu(repeat(reshape(factors, 1, 1, Nz), Nx, Ny, 1))\n",
    "    \n",
    "    nothing\n",
    "end"
   ]
  },
  {
   "cell_type": "code",
   "execution_count": 5,
   "metadata": {},
   "outputs": [
    {
     "data": {
      "text/plain": [
       "\u001b[32m\u001b[1mTest Passed\u001b[22m\u001b[39m"
      ]
     },
     "execution_count": 5,
     "metadata": {},
     "output_type": "execute_result"
    }
   ],
   "source": [
    "Nx, Ny, Nz = 4, 4, 4\n",
    "# x = Complex{Float64}.(reshape(collect(1:Nx*Ny*Nz), Nx, Ny, Nz))\n",
    "x = Complex.(rand(Float64, Nx, Ny, Nz))\n",
    "y = copy(x)\n",
    "\n",
    "dct_dim3_gpu!(x)\n",
    "\n",
    "FFTW.r2r!(y, FFTW.REDFT10, 3);\n",
    "\n",
    "@test real.(x) ≈ real.(y)"
   ]
  },
  {
   "cell_type": "code",
   "execution_count": null,
   "metadata": {},
   "outputs": [],
   "source": [
    "N = 16\n",
    "t = collect(1:N)\n",
    "t = cat(t[1:2:N], t[N:-2:2]; dims=1)\n",
    "reshape(cat(t[1:Int(N/2)], t[end:-1:Int(N/2)+1]; dims=2)', N)"
   ]
  },
  {
   "cell_type": "code",
   "execution_count": 23,
   "metadata": {},
   "outputs": [
    {
     "data": {
      "text/plain": [
       "4×4×4 Array{Int64,3}:\n",
       "[:, :, 1] =\n",
       " 1  5   9  13\n",
       " 2  6  10  14\n",
       " 3  7  11  15\n",
       " 4  8  12  16\n",
       "\n",
       "[:, :, 2] =\n",
       " 17  21  25  29\n",
       " 18  22  26  30\n",
       " 19  23  27  31\n",
       " 20  24  28  32\n",
       "\n",
       "[:, :, 3] =\n",
       " 33  37  41  45\n",
       " 34  38  42  46\n",
       " 35  39  43  47\n",
       " 36  40  44  48\n",
       "\n",
       "[:, :, 4] =\n",
       " 49  53  57  61\n",
       " 50  54  58  62\n",
       " 51  55  59  63\n",
       " 52  56  60  64"
      ]
     },
     "execution_count": 23,
     "metadata": {},
     "output_type": "execute_result"
    }
   ],
   "source": [
    "Nx, Ny, Nz = 4, 4, 4\n",
    "t = reshape(collect(1:Nx*Ny*Nz), Nx, Ny, Nz)"
   ]
  },
  {
   "cell_type": "code",
   "execution_count": 24,
   "metadata": {},
   "outputs": [
    {
     "data": {
      "text/plain": [
       "4×4×4 Array{Int64,3}:\n",
       "[:, :, 1] =\n",
       " 1  5   9  13\n",
       " 2  6  10  14\n",
       " 3  7  11  15\n",
       " 4  8  12  16\n",
       "\n",
       "[:, :, 2] =\n",
       " 17  21  25  29\n",
       " 18  22  26  30\n",
       " 19  23  27  31\n",
       " 20  24  28  32\n",
       "\n",
       "[:, :, 3] =\n",
       " 33  37  41  45\n",
       " 34  38  42  46\n",
       " 35  39  43  47\n",
       " 36  40  44  48\n",
       "\n",
       "[:, :, 4] =\n",
       " 49  53  57  61\n",
       " 50  54  58  62\n",
       " 51  55  59  63\n",
       " 52  56  60  64"
      ]
     },
     "execution_count": 24,
     "metadata": {},
     "output_type": "execute_result"
    }
   ],
   "source": [
    "t = cat(t[:, :, 1:2:Nz], t[:, :, Nz:-2:2]; dims=3)\n",
    "t = cat(t[:, :, 1:Int(Nz/2)], t[:, :, end:-1:Int(Nz/2)+1]; dims=4)\n",
    "reshape(permutedims(t, (1, 2, 4, 3)), Nx, Ny, Nz)"
   ]
  },
  {
   "cell_type": "code",
   "execution_count": 4,
   "metadata": {},
   "outputs": [
    {
     "data": {
      "text/plain": [
       "idct_dim3_gpu! (generic function with 1 method)"
      ]
     },
     "execution_count": 4,
     "metadata": {},
     "output_type": "execute_result"
    }
   ],
   "source": [
    "function idct_dim3_gpu!(f)\n",
    "    Nx, Ny, Nz = size(f)\n",
    "    \n",
    "    bfactors = 0.5 * exp.(collect(1im*π*(0:Nz-1) / (2*Nz)))\n",
    "    # f .*= repeat(reshape(bfactors, 1, 1, Nz), Nx, Ny, 1)\n",
    "    f .*= cu(repeat(reshape(bfactors, 1, 1, Nz), Nx, Ny, 1))\n",
    "    \n",
    "    ifft!(f, 3)\n",
    "    \n",
    "    # f = cat(f[:, :, 1:Int(Nz/2)], f[:, :, end:-1:Int(Nz/2)+1]; dims=4)\n",
    "    # f = reshape(permutedims(f, (1, 2, 4, 3)), Nx, Ny, Nz)\n",
    "    # f .= reshape(permutedims(cat(f[:, :, 1:Int(Nz/2)], f[:, :, end:-1:Int(Nz/2)+1]; dims=4), (1, 2, 4, 3)), Nx, Ny, Nz)\n",
    "    f .= cu(reshape(permutedims(cat(f[:, :, 1:Int(Nz/2)], f[:, :, end:-1:Int(Nz/2)+1]; dims=4), (1, 2, 4, 3)), Nx, Ny, Nz))\n",
    "    \n",
    "    nothing\n",
    "end"
   ]
  },
  {
   "cell_type": "code",
   "execution_count": 8,
   "metadata": {},
   "outputs": [
    {
     "name": "stdout",
     "output_type": "stream",
     "text": [
      "#= In[8]:8 =# @test(real.(x) ≈ real.(y)) = Test Passed\n",
      "#= In[8]:14 =# @test(real.(x) ≈ real.(y)) = Test Passed\n"
     ]
    }
   ],
   "source": [
    "Nx, Ny, Nz = 16, 8, 4\n",
    "x = Complex{Float64}.(reshape(collect(1:Nx*Ny*Nz), Nx, Ny, Nz))\n",
    "y = copy(x)\n",
    "\n",
    "dct_dim3_gpu!(x)\n",
    "FFTW.r2r!(y, FFTW.REDFT10, 3);\n",
    "\n",
    "@show @test real.(x) ≈ real.(y)\n",
    "\n",
    "idct_dim3_gpu!(x)\n",
    "FFTW.r2r!(y, FFTW.REDFT01, 3);\n",
    "@. y /= 2Nz;\n",
    "\n",
    "@show @test real.(x) ≈ real.(y);"
   ]
  },
  {
   "cell_type": "code",
   "execution_count": 52,
   "metadata": {},
   "outputs": [
    {
     "data": {
      "text/plain": [
       "4×4×4 Array{Float64,3}:\n",
       "[:, :, 1] =\n",
       " 1.0  5.0   9.0  13.0\n",
       " 2.0  6.0  10.0  14.0\n",
       " 3.0  7.0  11.0  15.0\n",
       " 4.0  8.0  12.0  16.0\n",
       "\n",
       "[:, :, 2] =\n",
       " 17.0  21.0  25.0  29.0\n",
       " 18.0  22.0  26.0  30.0\n",
       " 19.0  23.0  27.0  31.0\n",
       " 20.0  24.0  28.0  32.0\n",
       "\n",
       "[:, :, 3] =\n",
       " 33.0  37.0  41.0  45.0\n",
       " 34.0  38.0  42.0  46.0\n",
       " 35.0  39.0  43.0  47.0\n",
       " 36.0  40.0  44.0  48.0\n",
       "\n",
       "[:, :, 4] =\n",
       " 49.0  53.0  57.0  61.0\n",
       " 50.0  54.0  58.0  62.0\n",
       " 51.0  55.0  59.0  63.0\n",
       " 52.0  56.0  60.0  64.0"
      ]
     },
     "execution_count": 52,
     "metadata": {},
     "output_type": "execute_result"
    }
   ],
   "source": [
    "real.(x)"
   ]
  },
  {
   "cell_type": "code",
   "execution_count": 53,
   "metadata": {},
   "outputs": [
    {
     "data": {
      "text/plain": [
       "4×4×4 Array{Float64,3}:\n",
       "[:, :, 1] =\n",
       " 1.0  5.0   9.0  13.0\n",
       " 2.0  6.0  10.0  14.0\n",
       " 3.0  7.0  11.0  15.0\n",
       " 4.0  8.0  12.0  16.0\n",
       "\n",
       "[:, :, 2] =\n",
       " 17.0  21.0  25.0  29.0\n",
       " 18.0  22.0  26.0  30.0\n",
       " 19.0  23.0  27.0  31.0\n",
       " 20.0  24.0  28.0  32.0\n",
       "\n",
       "[:, :, 3] =\n",
       " 33.0  37.0  41.0  45.0\n",
       " 34.0  38.0  42.0  46.0\n",
       " 35.0  39.0  43.0  47.0\n",
       " 36.0  40.0  44.0  48.0\n",
       "\n",
       "[:, :, 4] =\n",
       " 49.0  53.0  57.0  61.0\n",
       " 50.0  54.0  58.0  62.0\n",
       " 51.0  55.0  59.0  63.0\n",
       " 52.0  56.0  60.0  64.0"
      ]
     },
     "execution_count": 53,
     "metadata": {},
     "output_type": "execute_result"
    }
   ],
   "source": [
    "real.(y)"
   ]
  },
  {
   "cell_type": "code",
   "execution_count": 54,
   "metadata": {},
   "outputs": [
    {
     "data": {
      "text/plain": [
       "4×4×4 Array{Float64,3}:\n",
       "[:, :, 1] =\n",
       " 1.0  1.0  1.0  1.0\n",
       " 1.0  1.0  1.0  1.0\n",
       " 1.0  1.0  1.0  1.0\n",
       " 1.0  1.0  1.0  1.0\n",
       "\n",
       "[:, :, 2] =\n",
       " 1.0  1.0  1.0  1.0\n",
       " 1.0  1.0  1.0  1.0\n",
       " 1.0  1.0  1.0  1.0\n",
       " 1.0  1.0  1.0  1.0\n",
       "\n",
       "[:, :, 3] =\n",
       " 1.0  1.0  1.0  1.0\n",
       " 1.0  1.0  1.0  1.0\n",
       " 1.0  1.0  1.0  1.0\n",
       " 1.0  1.0  1.0  1.0\n",
       "\n",
       "[:, :, 4] =\n",
       " 1.0  1.0  1.0  1.0\n",
       " 1.0  1.0  1.0  1.0\n",
       " 1.0  1.0  1.0  1.0\n",
       " 1.0  1.0  1.0  1.0"
      ]
     },
     "execution_count": 54,
     "metadata": {},
     "output_type": "execute_result"
    }
   ],
   "source": [
    "@. real(x) / real(y)"
   ]
  },
  {
   "cell_type": "code",
   "execution_count": 13,
   "metadata": {},
   "outputs": [
    {
     "name": "stdout",
     "output_type": "stream",
     "text": [
      "#= In[13]:7 =# @test(real.(x) ≈ real.(y)) = Test Passed\n",
      "#= In[13]:19 =# @test(real.(x) ≈ real.(y)) = Test Passed\n"
     ]
    }
   ],
   "source": [
    "Nx, Ny, Nz = 16, 8, 4\n",
    "x = Complex{Float64}.(reshape(collect(1:Nx*Ny*Nz), Nx, Ny, Nz))\n",
    "y = copy(x)\n",
    "\n",
    "dct_dim3_gpu!(x)\n",
    "FFTW.r2r!(y, FFTW.REDFT10, 3);\n",
    "@show @test real.(x) ≈ real.(y)\n",
    "\n",
    "FFTW.fft!(x, [1, 2])\n",
    "FFTW.fft!(y, [1, 2])\n",
    "\n",
    "FFTW.ifft!(x, [1, 2])\n",
    "FFTW.ifft!(y, [1, 2])\n",
    "\n",
    "idct_dim3_gpu!(x)\n",
    "FFTW.r2r!(y, FFTW.REDFT01, 3);\n",
    "@. y /= 2Nz;\n",
    "\n",
    "@show @test real.(x) ≈ real.(y);"
   ]
  },
  {
   "cell_type": "code",
   "execution_count": null,
   "metadata": {},
   "outputs": [],
   "source": []
  },
  {
   "cell_type": "code",
   "execution_count": null,
   "metadata": {},
   "outputs": [],
   "source": []
  }
 ],
 "metadata": {
  "kernelspec": {
   "display_name": "Julia 1.1.0",
   "language": "julia",
   "name": "julia-1.1"
  },
  "language_info": {
   "file_extension": ".jl",
   "mimetype": "application/julia",
   "name": "julia",
   "version": "1.1.0"
  }
 },
 "nbformat": 4,
 "nbformat_minor": 2
}
