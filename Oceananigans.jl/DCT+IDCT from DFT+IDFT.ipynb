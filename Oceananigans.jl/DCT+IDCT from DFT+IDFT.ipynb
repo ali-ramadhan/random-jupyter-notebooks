{
 "cells": [
  {
   "cell_type": "code",
   "execution_count": 1,
   "metadata": {},
   "outputs": [],
   "source": [
    "using FFTW, Test\n",
    "using CuArrays"
   ]
  },
  {
   "cell_type": "code",
   "execution_count": null,
   "metadata": {},
   "outputs": [],
   "source": [
    "x = rand(10)\n",
    "FFTW.r2r!(x, FFTW.REDFT10)\n",
    "\n",
    "# x = rand(8, 8, 4)\n",
    "# y = FFTW.r2r!(x, FFTW.REDFT10, 3)"
   ]
  },
  {
   "cell_type": "code",
   "execution_count": null,
   "metadata": {},
   "outputs": [],
   "source": [
    "t = collect(1:16)\n",
    "cat(t[1:2:N], t[N:-2:2]; dims=1)"
   ]
  },
  {
   "cell_type": "code",
   "execution_count": null,
   "metadata": {},
   "outputs": [],
   "source": [
    "function dct_1d_gpu!(f)\n",
    "    N = size(f)[1]\n",
    "    f .= cat(f[1:2:N], f[N:-2:2]; dims=1)\n",
    "    FFTW.fft!(f)\n",
    "    f .*= 2 * exp.(collect(-1im*π*(0:N-1) / (2*N)))\n",
    "    nothing\n",
    "end"
   ]
  },
  {
   "cell_type": "code",
   "execution_count": null,
   "metadata": {},
   "outputs": [],
   "source": [
    "N = 16\n",
    "x = Complex.(rand(Float64, N))\n",
    "y = copy(x)\n",
    "\n",
    "dct_1d_gpu!(x)\n",
    "\n",
    "FFTW.r2r!(y, FFTW.REDFT10);\n",
    "\n",
    "@test real.(x) ≈ real.(y)"
   ]
  },
  {
   "cell_type": "code",
   "execution_count": 2,
   "metadata": {},
   "outputs": [
    {
     "data": {
      "text/plain": [
       "4×4×4 Array{Int64,3}:\n",
       "[:, :, 1] =\n",
       " 1  5   9  13\n",
       " 2  6  10  14\n",
       " 3  7  11  15\n",
       " 4  8  12  16\n",
       "\n",
       "[:, :, 2] =\n",
       " 33  37  41  45\n",
       " 34  38  42  46\n",
       " 35  39  43  47\n",
       " 36  40  44  48\n",
       "\n",
       "[:, :, 3] =\n",
       " 49  53  57  61\n",
       " 50  54  58  62\n",
       " 51  55  59  63\n",
       " 52  56  60  64\n",
       "\n",
       "[:, :, 4] =\n",
       " 17  21  25  29\n",
       " 18  22  26  30\n",
       " 19  23  27  31\n",
       " 20  24  28  32"
      ]
     },
     "execution_count": 2,
     "metadata": {},
     "output_type": "execute_result"
    }
   ],
   "source": [
    "Nx, Ny, Nz = 4, 4, 4\n",
    "t = reshape(collect(1:Nx*Ny*Nz), Nx, Ny, Nz)\n",
    "cat(t[:, :, 1:2:Nz], t[:, :, Nz:-2:2]; dims=3)"
   ]
  },
  {
   "cell_type": "code",
   "execution_count": null,
   "metadata": {},
   "outputs": [],
   "source": [
    "factors = 2 * exp.(collect(-1im*π*(0:Nz-1) / (2*Nz)))\n",
    "repeat(reshape(factors, 1, 1, Nz), Nx, Ny, 1)"
   ]
  },
  {
   "cell_type": "code",
   "execution_count": 2,
   "metadata": {},
   "outputs": [
    {
     "data": {
      "text/plain": [
       "dct_dim3_gpu! (generic function with 1 method)"
      ]
     },
     "execution_count": 2,
     "metadata": {},
     "output_type": "execute_result"
    }
   ],
   "source": [
    "function dct_dim3_gpu!(f)\n",
    "    Nx, Ny, Nz = size(f)\n",
    "    f .= cat(f[:, :, 1:2:Nz], f[:, :, Nz:-2:2]; dims=3)\n",
    "    fft!(f, 3)\n",
    "\n",
    "    factors = 2 * exp.(collect(-1im*π*(0:Nz-1) / (2*Nz)))\n",
    "    \n",
    "    # f .*= repeat(reshape(factors, 1, 1, Nz), Nx, Ny, 1)\n",
    "    f .*= cu(repeat(reshape(factors, 1, 1, Nz), Nx, Ny, 1))\n",
    "    \n",
    "    nothing\n",
    "end"
   ]
  },
  {
   "cell_type": "code",
   "execution_count": null,
   "metadata": {},
   "outputs": [],
   "source": [
    "Nx, Ny, Nz = 4, 4, 4\n",
    "# x = Complex{Float64}.(reshape(collect(1:Nx*Ny*Nz), Nx, Ny, Nz))\n",
    "x = Complex.(rand(Float64, Nx, Ny, Nz))\n",
    "y = copy(x)\n",
    "\n",
    "dct_dim3_gpu!(x)\n",
    "\n",
    "FFTW.r2r!(y, FFTW.REDFT10, 3);\n",
    "\n",
    "@test real.(x) ≈ real.(y)"
   ]
  },
  {
   "cell_type": "code",
   "execution_count": null,
   "metadata": {},
   "outputs": [],
   "source": [
    "N = 16\n",
    "t = collect(1:N)\n",
    "t = cat(t[1:2:N], t[N:-2:2]; dims=1)\n",
    "reshape(cat(t[1:Int(N/2)], t[end:-1:Int(N/2)+1]; dims=2)', N)"
   ]
  },
  {
   "cell_type": "code",
   "execution_count": null,
   "metadata": {},
   "outputs": [],
   "source": [
    "Nx, Ny, Nz = 4, 4, 4\n",
    "t = reshape(collect(1:Nx*Ny*Nz), Nx, Ny, Nz)"
   ]
  },
  {
   "cell_type": "code",
   "execution_count": null,
   "metadata": {},
   "outputs": [],
   "source": [
    "t = cat(t[:, :, 1:2:Nz], t[:, :, Nz:-2:2]; dims=3)\n",
    "t = cat(t[:, :, 1:Int(Nz/2)], t[:, :, end:-1:Int(Nz/2)+1]; dims=4)\n",
    "reshape(permutedims(t, (1, 2, 4, 3)), Nx, Ny, Nz)"
   ]
  },
  {
   "cell_type": "code",
   "execution_count": 3,
   "metadata": {},
   "outputs": [
    {
     "data": {
      "text/plain": [
       "idct_dim3_gpu! (generic function with 1 method)"
      ]
     },
     "execution_count": 3,
     "metadata": {},
     "output_type": "execute_result"
    }
   ],
   "source": [
    "function idct_dim3_gpu!(f)\n",
    "    Nx, Ny, Nz = size(f)\n",
    "    \n",
    "    bfactors = 0.5 * exp.(collect(1im*π*(0:Nz-1) / (2*Nz)))\n",
    "    # f .*= repeat(reshape(bfactors, 1, 1, Nz), Nx, Ny, 1)\n",
    "    f .*= cu(repeat(reshape(bfactors, 1, 1, Nz), Nx, Ny, 1))\n",
    "    \n",
    "    ifft!(f, 3)\n",
    "    \n",
    "    # f = cat(f[:, :, 1:Int(Nz/2)], f[:, :, end:-1:Int(Nz/2)+1]; dims=4)\n",
    "    # f = reshape(permutedims(f, (1, 2, 4, 3)), Nx, Ny, Nz)\n",
    "    # f .= reshape(permutedims(cat(f[:, :, 1:Int(Nz/2)], f[:, :, end:-1:Int(Nz/2)+1]; dims=4), (1, 2, 4, 3)), Nx, Ny, Nz)\n",
    "    f .= cu(reshape(permutedims(cat(f[:, :, 1:Int(Nz/2)], f[:, :, end:-1:Int(Nz/2)+1]; dims=4), (1, 2, 4, 3)), Nx, Ny, Nz))\n",
    "    \n",
    "    nothing\n",
    "end"
   ]
  },
  {
   "cell_type": "code",
   "execution_count": null,
   "metadata": {},
   "outputs": [],
   "source": [
    "Nx, Ny, Nz = 16, 8, 4\n",
    "x = Complex{Float64}.(reshape(collect(1:Nx*Ny*Nz), Nx, Ny, Nz))\n",
    "y = copy(x)\n",
    "\n",
    "dct_dim3_gpu!(x)\n",
    "FFTW.r2r!(y, FFTW.REDFT10, 3);\n",
    "\n",
    "@show @test real.(x) ≈ real.(y)\n",
    "\n",
    "idct_dim3_gpu!(x)\n",
    "FFTW.r2r!(y, FFTW.REDFT01, 3);\n",
    "@. y /= 2Nz;\n",
    "\n",
    "@show @test real.(x) ≈ real.(y);"
   ]
  },
  {
   "cell_type": "code",
   "execution_count": null,
   "metadata": {},
   "outputs": [],
   "source": [
    "real.(x)"
   ]
  },
  {
   "cell_type": "code",
   "execution_count": null,
   "metadata": {},
   "outputs": [],
   "source": [
    "real.(y)"
   ]
  },
  {
   "cell_type": "code",
   "execution_count": null,
   "metadata": {},
   "outputs": [],
   "source": [
    "@. real(x) / real(y)"
   ]
  },
  {
   "cell_type": "code",
   "execution_count": null,
   "metadata": {},
   "outputs": [],
   "source": [
    "Nx, Ny, Nz = 16, 8, 4\n",
    "x = Complex{Float64}.(reshape(collect(1:Nx*Ny*Nz), Nx, Ny, Nz))\n",
    "y = copy(x)\n",
    "\n",
    "dct_dim3_gpu!(x)\n",
    "FFTW.r2r!(y, FFTW.REDFT10, 3);\n",
    "@show @test real.(x) ≈ real.(y)\n",
    "\n",
    "FFTW.fft!(x, [1, 2])\n",
    "FFTW.fft!(y, [1, 2])\n",
    "\n",
    "FFTW.ifft!(x, [1, 2])\n",
    "FFTW.ifft!(y, [1, 2])\n",
    "\n",
    "idct_dim3_gpu!(x)\n",
    "FFTW.r2r!(y, FFTW.REDFT01, 3);\n",
    "@. y /= 2Nz;\n",
    "\n",
    "@show @test real.(x) ≈ real.(y);"
   ]
  },
  {
   "cell_type": "code",
   "execution_count": null,
   "metadata": {},
   "outputs": [],
   "source": [
    "Nx, Ny, Nz = 16, 8, 4\n",
    "\n",
    "x = cu(rand(Complex{Float32}, Nx, Ny, Nz))\n",
    "x .= real.(x)\n",
    "\n",
    "y = copy(Array(x))\n",
    "\n",
    "kx = cu(rand(Float32, Nx, Ny, Nz))\n",
    "ky = Array(kx)\n",
    "\n",
    "@show @test x == y\n",
    "@show @test kx == ky\n",
    "\n",
    "dct_dim3_gpu!(x)\n",
    "FFTW.r2r!(y, FFTW.REDFT10, 3);\n",
    "\n",
    "@show @test real.(x) ≈ real.(y)\n",
    "\n",
    "FFTW.fft!(x, [1, 2])\n",
    "FFTW.fft!(y, [1, 2])\n",
    "\n",
    "@. x = -x / kx\n",
    "@. y = -y / ky\n",
    "\n",
    "FFTW.ifft!(x, [1, 2])\n",
    "FFTW.ifft!(y, [1, 2])\n",
    "\n",
    "@show @test real.(x) ≈ real.(y);\n",
    "\n",
    "idct_dim3_gpu!(x)\n",
    "FFTW.r2r!(y, FFTW.REDFT01, 3);\n",
    "@. y /= 2Nz;\n",
    "\n",
    "@show @test real.(x) ≈ real.(y);"
   ]
  },
  {
   "cell_type": "code",
   "execution_count": 17,
   "metadata": {},
   "outputs": [],
   "source": [
    "Nx, Ny, Nz = 16, 8, 4\n",
    "\n",
    "x = cu(rand(Complex{Float32}, Nx, Ny, Nz))\n",
    "x .= real.(x)\n",
    "\n",
    "y = copy(Array(x))\n",
    "\n",
    "# idct_dim3_gpu!(x)\n",
    "FFTW.r2r!(y, FFTW.REDFT01, 3);\n",
    "@. y /= 2Nz;\n",
    "\n",
    "bfactors = 0.5 * exp.(collect(1im*π*(0:Nz-1) / (2*Nz)))\n",
    "x .*= cu(repeat(reshape(bfactors, 1, 1, Nz), Nx, Ny, 1))\n",
    "ifft!(x, 3)\n",
    "x .= cu(reshape(permutedims(cat(x[:, :, 1:Int(Nz/2)], f[:, :, end:-1:Int(Nz/2)+1]; dims=4), (1, 2, 4, 3)), Nx, Ny, Nz))"
   ]
  },
  {
   "cell_type": "code",
   "execution_count": 13,
   "metadata": {},
   "outputs": [
    {
     "data": {
      "text/plain": [
       "16×8 Array{Complex{Float32},2}:\n",
       " 0.432557+0.0im  0.552097+0.0im  …  0.324695+0.0im  0.181245+0.0im\n",
       " 0.341684+0.0im  0.292073+0.0im     0.335509+0.0im  0.379299+0.0im\n",
       " 0.257901+0.0im  0.303876+0.0im     0.405432+0.0im  0.408953+0.0im\n",
       " 0.437629+0.0im  0.211984+0.0im     0.279617+0.0im  0.341208+0.0im\n",
       "   0.4461+0.0im  0.119644+0.0im      0.21366+0.0im  0.170343+0.0im\n",
       " 0.289897+0.0im  0.339579+0.0im  …  0.239026+0.0im  0.207095+0.0im\n",
       " 0.264088+0.0im  0.129622+0.0im     0.294096+0.0im  0.507927+0.0im\n",
       " 0.272716+0.0im  0.198426+0.0im     0.340131+0.0im  0.120046+0.0im\n",
       " 0.103531+0.0im  0.400599+0.0im     0.377542+0.0im  0.203129+0.0im\n",
       " 0.245047+0.0im  0.452354+0.0im      0.25429+0.0im  0.385653+0.0im\n",
       " 0.335605+0.0im  0.238777+0.0im  …  0.279498+0.0im  0.343935+0.0im\n",
       " 0.280251+0.0im  0.434311+0.0im      0.27354+0.0im  0.148348+0.0im\n",
       " 0.406978+0.0im  0.351335+0.0im     0.456173+0.0im  0.335022+0.0im\n",
       " 0.347995+0.0im  0.337335+0.0im      0.27507+0.0im  0.384047+0.0im\n",
       " 0.229173+0.0im  0.360627+0.0im     0.354304+0.0im  0.423871+0.0im\n",
       " 0.297551+0.0im   0.39562+0.0im  …  0.440773+0.0im  0.243073+0.0im"
      ]
     },
     "execution_count": 13,
     "metadata": {},
     "output_type": "execute_result"
    }
   ],
   "source": [
    "y[:, :, 1]"
   ]
  },
  {
   "cell_type": "code",
   "execution_count": 18,
   "metadata": {},
   "outputs": [
    {
     "data": {
      "text/plain": [
       "16×8 CuArray{Complex{Float32},2}:\n",
       " 0.0740363+0.0682404im   0.179421+0.146899im   …   0.180332+0.116598im \n",
       "  0.163806+0.126536im    0.283922+0.144633im       0.240142+0.16602im  \n",
       "  0.172272+0.103766im    0.222357+0.124849im       0.183608+0.0991422im\n",
       "  0.191064+0.0786579im   0.166621+0.113537im       0.172541+0.143816im \n",
       "  0.140553+0.139211im    0.122851+0.0996444im       0.18473+0.114874im \n",
       " 0.0847755+0.0293257im  0.0791336+0.0384683im  …   0.156292+0.0953667im\n",
       "   0.24744+0.153517im    0.262134+0.179852im       0.307522+0.198364im \n",
       "  0.301886+0.136331im    0.202356+0.0787567im       0.17534+0.0647393im\n",
       "  0.203461+0.12276im     0.203163+0.112372im       0.193984+0.130052im \n",
       "   0.22002+0.180588im    0.218942+0.165592im       0.245507+0.116678im \n",
       "  0.133594+0.0608431im    0.16661+0.0974097im  …   0.204075+0.142037im \n",
       "   0.24311+0.143036im    0.150306+0.0359469im      0.283273+0.195291im \n",
       "  0.242428+0.113578im    0.121388+0.140933im         0.1888+0.0686948im\n",
       "  0.169367+0.112091im    0.216636+0.178556im       0.169421+0.149358im \n",
       " 0.0881608+0.0911965im   0.166649+0.0980138im      0.188566+0.133566im \n",
       "  0.297587+0.166102im    0.276832+0.143445im   …  0.0513077+0.0606825im"
      ]
     },
     "execution_count": 18,
     "metadata": {},
     "output_type": "execute_result"
    }
   ],
   "source": [
    "x[:, :, 1]"
   ]
  },
  {
   "cell_type": "code",
   "execution_count": null,
   "metadata": {},
   "outputs": [],
   "source": []
  }
 ],
 "metadata": {
  "kernelspec": {
   "display_name": "Julia 1.1.0",
   "language": "julia",
   "name": "julia-1.1"
  },
  "language_info": {
   "file_extension": ".jl",
   "mimetype": "application/julia",
   "name": "julia",
   "version": "1.1.0"
  }
 },
 "nbformat": 4,
 "nbformat_minor": 2
}
