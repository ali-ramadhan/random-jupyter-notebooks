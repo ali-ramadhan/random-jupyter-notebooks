{
 "cells": [
  {
   "cell_type": "code",
   "execution_count": 11,
   "metadata": {},
   "outputs": [],
   "source": [
    "using Statistics: mean\n",
    "using BenchmarkTools\n",
    "using FFTW"
   ]
  },
  {
   "cell_type": "code",
   "execution_count": 49,
   "metadata": {},
   "outputs": [
    {
     "data": {
      "text/plain": [
       "solve_poisson_3d_ppn (generic function with 2 methods)"
      ]
     },
     "execution_count": 49,
     "metadata": {},
     "output_type": "execute_result"
    }
   ],
   "source": [
    "function solve_poisson_3d_ppn(f, Nx, Ny, Nz, Δx, Δy, Δz)\n",
    "    Lx, Ly, Lz = Nx*Δx, Ny*Δy, Nz*Δz\n",
    "    function mkwaves(N,L)\n",
    "        k²_cyc = zeros(N, 1)\n",
    "        k²_neu = zeros(N, 1)\n",
    "\n",
    "        for i in 1:N\n",
    "            k²_cyc[i] = (2sin((i-1)*π/N)   /(L/N))^2\n",
    "            k²_neu[i] = (2sin((i-1)*π/(2N))/(L/N))^2\n",
    "        end\n",
    "\n",
    "        return k²_cyc, k²_neu\n",
    "    end\n",
    "\n",
    "    # TODO: Create FFTW plan.\n",
    "    fh = FFTW.fft(FFTW.r2r(f, FFTW.REDFT10, 3), [1, 2])\n",
    "\n",
    "    kx²_cyc, kx²_neu = mkwaves(Nx, Lx)\n",
    "    ky²_cyc, ky²_neu = mkwaves(Nx, Lx)\n",
    "    kz²_cyc, kz²_neu = mkwaves(Nx, Lx)\n",
    "\n",
    "    kx² = kx²_cyc\n",
    "    ky² = ky²_cyc\n",
    "    kz² = kz²_neu\n",
    "\n",
    "    ϕh = zeros(Complex{Float64}, Nx, Ny, Nz)\n",
    "\n",
    "    for k in 1:Nz, j in 1:Ny, i in 1:Nx\n",
    "        @inbounds ϕh[i, j, k] = -fh[i, j, k] / (kx²[i] + ky²[j] + kz²[k])\n",
    "    end\n",
    "    ϕh[1, 1, 1] = 0\n",
    "\n",
    "    # TODO: Create FFTW plan.\n",
    "    FFTW.r2r(real.(FFTW.ifft(ϕh, [1, 2])), FFTW.REDFT01, 3) / (2Nz)\n",
    "end"
   ]
  },
  {
   "cell_type": "code",
   "execution_count": 50,
   "metadata": {},
   "outputs": [
    {
     "data": {
      "text/plain": [
       "laplacian3d_ppn (generic function with 1 method)"
      ]
     },
     "execution_count": 50,
     "metadata": {},
     "output_type": "execute_result"
    }
   ],
   "source": [
    "@inline incmod1(a, n) = a == n ? one(a) : a + 1\n",
    "@inline decmod1(a, n) = a == 1 ? n : a - 1\n",
    "\n",
    "function laplacian3d_ppn(f)\n",
    "    Nx, Ny, Nz = size(f)\n",
    "    ∇²f = zeros(Nx, Ny, Nz)\n",
    "    for k in 2:(Nz-1), j in 1:Ny, i in 1:Nx\n",
    "       ∇²f[i, j, k] = f[incmod1(i, Nx), j, k] + f[decmod1(i, Nx), j, k] + f[i, incmod1(j, Ny), k] + f[i, decmod1(j, Ny), k] + f[i, j, k+1] + f[i, j, k-1] - 6*f[i, j, k]\n",
    "    end\n",
    "    for j in 1:Ny, i in 1:Nx\n",
    "        ∇²f[i, j,   1] = -(f[i, j,     1] - f[i, j,   2]) + f[incmod1(i, Nx), j,   1] + f[decmod1(i, Nx), j,   1] + f[i, incmod1(j, Ny),   1] + f[i, decmod1(j, Ny),   1] - 4*f[i, j,   1]\n",
    "        ∇²f[i, j, end] =  (f[i, j, end-1] - f[i, j, end]) + f[incmod1(i, Nx), j, end] + f[decmod1(i, Nx), j, end] + f[i, incmod1(j, Ny), end] + f[i, decmod1(j, Ny), end] - 4*f[i, j, end]\n",
    "    end\n",
    "    ∇²f\n",
    "end"
   ]
  },
  {
   "cell_type": "code",
   "execution_count": 51,
   "metadata": {},
   "outputs": [
    {
     "data": {
      "text/plain": [
       "test_3d_poisson_solver_ppn_div_free (generic function with 1 method)"
      ]
     },
     "execution_count": 51,
     "metadata": {},
     "output_type": "execute_result"
    }
   ],
   "source": [
    "function test_3d_poisson_solver_ppn_div_free(Nx, Ny, Nz, Δx, Δy, Δz)\n",
    "    f = rand(Nx, Ny, Nz)\n",
    "    f .= f .- mean(f)\n",
    "    ϕ = solve_poisson_3d_ppn(f, Nx, Ny, Nz, Δx, Δy, Δz)\n",
    "    laplacian3d_ppn(ϕ) ≈ f\n",
    "end"
   ]
  },
  {
   "cell_type": "code",
   "execution_count": 53,
   "metadata": {},
   "outputs": [
    {
     "data": {
      "text/plain": [
       "true"
      ]
     },
     "execution_count": 53,
     "metadata": {},
     "output_type": "execute_result"
    }
   ],
   "source": [
    "test_3d_poisson_solver_ppn_div_free(100, 100, 100)"
   ]
  },
  {
   "cell_type": "code",
   "execution_count": 47,
   "metadata": {},
   "outputs": [
    {
     "data": {
      "text/plain": [
       "BenchmarkTools.Trial: \n",
       "  memory estimate:  251.79 MiB\n",
       "  allocs estimate:  5000269\n",
       "  --------------\n",
       "  minimum time:     360.236 ms (21.58% GC)\n",
       "  median time:      363.250 ms (22.65% GC)\n",
       "  mean time:        368.724 ms (22.80% GC)\n",
       "  maximum time:     421.358 ms (29.74% GC)\n",
       "  --------------\n",
       "  samples:          14\n",
       "  evals/sample:     1"
      ]
     },
     "execution_count": 47,
     "metadata": {},
     "output_type": "execute_result"
    }
   ],
   "source": [
    "@benchmark test_3d_poisson_solver_ppn_div_free(100, 100, 100)"
   ]
  },
  {
   "cell_type": "code",
   "execution_count": null,
   "metadata": {},
   "outputs": [],
   "source": []
  },
  {
   "cell_type": "code",
   "execution_count": null,
   "metadata": {},
   "outputs": [],
   "source": []
  },
  {
   "cell_type": "code",
   "execution_count": null,
   "metadata": {},
   "outputs": [],
   "source": []
  }
 ],
 "metadata": {
  "kernelspec": {
   "display_name": "Julia 1.1.0",
   "language": "julia",
   "name": "julia-1.1"
  },
  "language_info": {
   "file_extension": ".jl",
   "mimetype": "application/julia",
   "name": "julia",
   "version": "1.1.0"
  }
 },
 "nbformat": 4,
 "nbformat_minor": 2
}
