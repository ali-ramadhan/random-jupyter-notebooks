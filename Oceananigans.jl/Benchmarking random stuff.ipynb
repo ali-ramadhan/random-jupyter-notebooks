{
 "cells": [
  {
   "cell_type": "code",
   "execution_count": 1,
   "metadata": {},
   "outputs": [],
   "source": [
    "using Pkg\n",
    "cd(\"D:\\\\Home\\\\Git\\\\Oceananigans.jl\")\n",
    "# cd(\"C:\\\\Users\\\\Ali\\\\Documents\\\\Git\\\\Oceananigans.jl\\\\\")\n",
    "Pkg.activate(\".\");"
   ]
  },
  {
   "cell_type": "code",
   "execution_count": 2,
   "metadata": {},
   "outputs": [],
   "source": [
    "using Statistics, Printf, BenchmarkTools\n",
    "using Oceananigans, Oceananigans.Operators"
   ]
  },
  {
   "cell_type": "code",
   "execution_count": 3,
   "metadata": {},
   "outputs": [],
   "source": [
    "N = (100, 100, 100)\n",
    "L = (2000, 2000, 2000)\n",
    "\n",
    "c = EarthConstants()\n",
    "eos = LinearEquationOfState()\n",
    "\n",
    "g = RegularCartesianGrid(N, L; dim=3, FloatType=Float64)\n",
    "\n",
    "U  = VelocityFields(g)\n",
    "tr = TracerFields(g)\n",
    "pr = PressureFields(g)\n",
    "G  = SourceTerms(g)\n",
    "Gp = SourceTerms(g)\n",
    "F  = ForcingFields(g)\n",
    "tmp = TemporaryFields(g)\n",
    "\n",
    "U.u.data  .= 0\n",
    "U.v.data  .= 0\n",
    "U.w.data  .= 0\n",
    "tr.S.data .= 35\n",
    "tr.T.data .= 283;"
   ]
  },
  {
   "cell_type": "code",
   "execution_count": 4,
   "metadata": {},
   "outputs": [
    {
     "data": {
      "text/plain": [
       "δρ1! (generic function with 1 method)"
      ]
     },
     "execution_count": 4,
     "metadata": {},
     "output_type": "execute_result"
    }
   ],
   "source": [
    "function δρ1!(s::LinearEquationOfState, g::Grid, δρ::CellField, tr::TracerFields)\n",
    "    for k in 1:g.Nz, j in 1:g.Ny, i in 1:g.Nx\n",
    "        @inbounds δρ.data[i, j, k] =  s.ρ₀ * s.βT * (tr.T.data[i, j, k] - s.T₀)\n",
    "    end\n",
    "    nothing\n",
    "end"
   ]
  },
  {
   "cell_type": "code",
   "execution_count": 5,
   "metadata": {},
   "outputs": [
    {
     "data": {
      "text/plain": [
       "δρ2! (generic function with 1 method)"
      ]
     },
     "execution_count": 5,
     "metadata": {},
     "output_type": "execute_result"
    }
   ],
   "source": [
    "function δρ2!(s::LinearEquationOfState, g::Grid, δρ::CellField, T::CellField)\n",
    "    for k in 1:g.Nz, j in 1:g.Ny, i in 1:g.Nx\n",
    "        @inbounds δρ.data[i, j, k] =  s.ρ₀ * s.βT * (T.data[i, j, k] - s.T₀)\n",
    "    end\n",
    "    nothing\n",
    "end"
   ]
  },
  {
   "cell_type": "code",
   "execution_count": 6,
   "metadata": {},
   "outputs": [
    {
     "data": {
      "text/plain": [
       "BenchmarkTools.Trial: \n",
       "  memory estimate:  91.55 MiB\n",
       "  allocs estimate:  6000001\n",
       "  --------------\n",
       "  minimum time:     167.566 ms (1.22% GC)\n",
       "  median time:      175.389 ms (1.26% GC)\n",
       "  mean time:        177.779 ms (1.29% GC)\n",
       "  maximum time:     209.425 ms (1.15% GC)\n",
       "  --------------\n",
       "  samples:          29\n",
       "  evals/sample:     1"
      ]
     },
     "execution_count": 6,
     "metadata": {},
     "output_type": "execute_result"
    }
   ],
   "source": [
    "@benchmark δρ1!($eos, $g, $tmp.fC1, $tr)"
   ]
  },
  {
   "cell_type": "code",
   "execution_count": 7,
   "metadata": {},
   "outputs": [
    {
     "data": {
      "text/plain": [
       "BenchmarkTools.Trial: \n",
       "  memory estimate:  80 bytes\n",
       "  allocs estimate:  1\n",
       "  --------------\n",
       "  minimum time:     644.346 μs (0.00% GC)\n",
       "  median time:      739.161 μs (0.00% GC)\n",
       "  mean time:        794.915 μs (0.00% GC)\n",
       "  maximum time:     1.811 ms (0.00% GC)\n",
       "  --------------\n",
       "  samples:          6240\n",
       "  evals/sample:     1"
      ]
     },
     "execution_count": 7,
     "metadata": {},
     "output_type": "execute_result"
    }
   ],
   "source": [
    "@benchmark δρ2!($eos, $g, $tmp.fC1, $tr.T)"
   ]
  },
  {
   "cell_type": "code",
   "execution_count": 22,
   "metadata": {},
   "outputs": [
    {
     "data": {
      "text/plain": [
       "∫dz1 (generic function with 2 methods)"
      ]
     },
     "execution_count": 22,
     "metadata": {},
     "output_type": "execute_result"
    }
   ],
   "source": [
    "function ∫dz1(g::Grid, c::PlanetaryConstants, δρ::CellField, δρz::FaceFieldZ, pr::PressureFields)\n",
    "    for j in 1:g.Ny, i in 1:g.Nx\n",
    "      pr.pHY′.data[i, j, 1] = δρ.data[i, j, 1] * c.g * g.Δz / 2\n",
    "    end\n",
    "    for k in 2:g.Nz, j in 1:g.Ny, i in 1:g.Nx\n",
    "      pr.pHY′.data[i, j, k] = pr.pHY′.data[i, j, k-1] + (δρz.data[i, j, k] * c.g * g.Δz)\n",
    "    end\n",
    "end"
   ]
  },
  {
   "cell_type": "code",
   "execution_count": 17,
   "metadata": {},
   "outputs": [
    {
     "data": {
      "text/plain": [
       "∫dz2 (generic function with 2 methods)"
      ]
     },
     "execution_count": 17,
     "metadata": {},
     "output_type": "execute_result"
    }
   ],
   "source": [
    "function ∫dz2(g::Grid, c::PlanetaryConstants, δρ::CellField, δρz::FaceFieldZ, pHY′::CellField)\n",
    "    for j in 1:g.Ny, i in 1:g.Nx\n",
    "      pHY′.data[i, j, 1] = δρ.data[i, j, 1] * c.g * g.Δz / 2\n",
    "    end\n",
    "    for k in 2:g.Nz, j in 1:g.Ny, i in 1:g.Nx\n",
    "      pHY′.data[i, j, k] = pHY′.data[i, j, k-1] + (δρz.data[i, j, k] * c.g * g.Δz)\n",
    "    end\n",
    "end"
   ]
  },
  {
   "cell_type": "code",
   "execution_count": 18,
   "metadata": {},
   "outputs": [],
   "source": [
    "δρ = tmp.fC1\n",
    "δρ!(eos, g, δρ, tr.T)\n",
    "@. tr.ρ.data = eos.ρ₀ + δρ.data\n",
    "\n",
    "δρz = tmp.fFZ\n",
    "avgz!(g, δρ, δρz)"
   ]
  },
  {
   "cell_type": "code",
   "execution_count": 23,
   "metadata": {},
   "outputs": [
    {
     "data": {
      "text/plain": [
       "BenchmarkTools.Trial: \n",
       "  memory estimate:  45.47 MiB\n",
       "  allocs estimate:  2980000\n",
       "  --------------\n",
       "  minimum time:     124.506 ms (0.96% GC)\n",
       "  median time:      129.043 ms (0.92% GC)\n",
       "  mean time:        130.316 ms (0.96% GC)\n",
       "  maximum time:     149.386 ms (0.80% GC)\n",
       "  --------------\n",
       "  samples:          39\n",
       "  evals/sample:     1"
      ]
     },
     "execution_count": 23,
     "metadata": {},
     "output_type": "execute_result"
    }
   ],
   "source": [
    "@benchmark ∫dz1($g, $c, $δρ, $δρz, $pr)"
   ]
  },
  {
   "cell_type": "code",
   "execution_count": 24,
   "metadata": {},
   "outputs": [
    {
     "data": {
      "text/plain": [
       "BenchmarkTools.Trial: \n",
       "  memory estimate:  32 bytes\n",
       "  allocs estimate:  1\n",
       "  --------------\n",
       "  minimum time:     3.588 ms (0.00% GC)\n",
       "  median time:      3.966 ms (0.00% GC)\n",
       "  mean time:        4.131 ms (0.00% GC)\n",
       "  maximum time:     7.567 ms (0.00% GC)\n",
       "  --------------\n",
       "  samples:          1208\n",
       "  evals/sample:     1"
      ]
     },
     "execution_count": 24,
     "metadata": {},
     "output_type": "execute_result"
    }
   ],
   "source": [
    "@benchmark ∫dz2($g, $c, $δρ, $δρz, $pr.pHY′)"
   ]
  },
  {
   "cell_type": "code",
   "execution_count": null,
   "metadata": {},
   "outputs": [],
   "source": []
  }
 ],
 "metadata": {
  "kernelspec": {
   "display_name": "Julia 1.0.0",
   "language": "julia",
   "name": "julia-1.0"
  },
  "language_info": {
   "file_extension": ".jl",
   "mimetype": "application/julia",
   "name": "julia",
   "version": "1.0.0"
  }
 },
 "nbformat": 4,
 "nbformat_minor": 2
}
