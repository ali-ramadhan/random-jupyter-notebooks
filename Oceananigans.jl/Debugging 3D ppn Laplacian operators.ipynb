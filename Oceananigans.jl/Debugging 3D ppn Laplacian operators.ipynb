{
 "cells": [
  {
   "cell_type": "code",
   "execution_count": 1,
   "metadata": {},
   "outputs": [],
   "source": [
    "using Pkg\n",
    "# cd(\"D:\\\\Home\\\\Git\\\\Oceananigans.jl\")\n",
    "cd(\"C:\\\\Users\\\\Ali\\\\Documents\\\\Git\\\\Oceananigans.jl\\\\\")\n",
    "Pkg.activate(\".\");"
   ]
  },
  {
   "cell_type": "code",
   "execution_count": 2,
   "metadata": {},
   "outputs": [],
   "source": [
    "using Statistics\n",
    "\n",
    "using Oceananigans, Oceananigans.Operators"
   ]
  },
  {
   "cell_type": "code",
   "execution_count": 3,
   "metadata": {},
   "outputs": [
    {
     "ename": "UndefVarError",
     "evalue": "UndefVarError: ∇² not defined",
     "output_type": "error",
     "traceback": [
      "UndefVarError: ∇² not defined",
      "",
      "Stacktrace:",
      " [1] top-level scope at In[3]:1"
     ]
    }
   ],
   "source": [
    "∇²"
   ]
  },
  {
   "cell_type": "code",
   "execution_count": 4,
   "metadata": {},
   "outputs": [
    {
     "ename": "UndefVarError",
     "evalue": "UndefVarError: ∇²! not defined",
     "output_type": "error",
     "traceback": [
      "UndefVarError: ∇²! not defined",
      "",
      "Stacktrace:",
      " [1] top-level scope at In[4]:1"
     ]
    }
   ],
   "source": [
    "∇²!"
   ]
  },
  {
   "cell_type": "code",
   "execution_count": 5,
   "metadata": {},
   "outputs": [
    {
     "data": {
      "text/plain": [
       "∇² (generic function with 1 method)"
      ]
     },
     "execution_count": 5,
     "metadata": {},
     "output_type": "execute_result"
    }
   ],
   "source": [
    "@inline incmod1(a, n) = a == n ? one(a) : a + 1\n",
    "@inline decmod1(a, n) = a == 1 ? n : a - 1\n",
    "\n",
    "function ∇²(f)\n",
    "    Nx, Ny, Nz = size(f)\n",
    "    ∇²f = zeros(Nx, Ny, Nz)\n",
    "    for k in 2:(Nz-1), j in 1:Ny, i in 1:Nx\n",
    "       ∇²f[i, j, k] = f[incmod1(i, Nx), j, k] + f[decmod1(i, Nx), j, k] + f[i, incmod1(j, Ny), k] + f[i, decmod1(j, Ny), k] + f[i, j, k+1] + f[i, j, k-1] - 6*f[i, j, k]\n",
    "    end\n",
    "    for j in 1:Ny, i in 1:Nx\n",
    "        ∇²f[i, j,   1] = -(f[i, j,     1] - f[i, j,   2]) + f[incmod1(i, Nx), j,   1] + f[decmod1(i, Nx), j,   1] + f[i, incmod1(j, Ny),   1] + f[i, decmod1(j, Ny),   1] - 4*f[i, j,   1]\n",
    "        ∇²f[i, j, end] =  (f[i, j, end-1] - f[i, j, end]) + f[incmod1(i, Nx), j, end] + f[decmod1(i, Nx), j, end] + f[i, incmod1(j, Ny), end] + f[i, decmod1(j, Ny), end] - 4*f[i, j, end]\n",
    "    end\n",
    "    ∇²f\n",
    "end"
   ]
  },
  {
   "cell_type": "code",
   "execution_count": 43,
   "metadata": {},
   "outputs": [
    {
     "data": {
      "text/plain": [
       "∇²! (generic function with 1 method)"
      ]
     },
     "execution_count": 43,
     "metadata": {},
     "output_type": "execute_result"
    }
   ],
   "source": [
    "@inline incmod1(a, n) = a == n ? one(a) : a + 1\n",
    "@inline decmod1(a, n) = a == 1 ? n : a - 1\n",
    "\n",
    "function ∇²!(g::RegularCartesianGrid, f::CellField, ∇²f::CellField)\n",
    "    for k in 2:(g.Nz-1), j in 1:g.Ny, i in 1:g.Nx\n",
    "       ∇²f.data[i, j, k] = (f.data[incmod1(i, g.Nx), j, k] - 2*f.data[i, j, k] + f.data[decmod1(i, g.Nx), j, k]) / g.Δx +\n",
    "                           (f.data[i, incmod1(j, g.Ny), k] - 2*f.data[i, j, k] + f.data[i, decmod1(j, g.Ny), k]) / g.Δy +\n",
    "                           (f.data[i, j, k+1]              - 2*f.data[i, j, k] + f.data[i, j, k-1])              / g.Δz\n",
    "    end\n",
    "    for j in 1:g.Ny, i in 1:g.Nx\n",
    "        ∇²f.data[i, j,   1] = (f.data[i, j, 2] - f.data[i, j, 1]) / g.Δz +\n",
    "                              (f.data[incmod1(i, g.Nx), j, 1] - 2*f.data[i, j, 1] + f.data[decmod1(i, g.Nx), j, 1]) / g.Δx +\n",
    "                              (f.data[i, incmod1(j, g.Ny), 1] - 2*f.data[i, j, 1] + f.data[i, decmod1(j, g.Ny), 1]) / g.Δy\n",
    "        ∇²f.data[i, j, end] = (f.data[i, j, end-1] - f.data[i, j, end]) / g.Δz +\n",
    "                              (f.data[incmod1(i, g.Nx), j, end] - 2*f.data[i, j, end] + f.data[decmod1(i, g.Nx), j, end]) / g.Δx +\n",
    "                              (f.data[i, incmod1(j, g.Ny), end] - 2*f.data[i, j, end] + f.data[i, decmod1(j, g.Ny), end]) / g.Δy\n",
    "    end\n",
    "    nothing\n",
    "end"
   ]
  },
  {
   "cell_type": "code",
   "execution_count": 44,
   "metadata": {},
   "outputs": [
    {
     "data": {
      "text/plain": [
       "3-dimensional (Float64) regular Cartesian grid\n",
       "(Nx, Ny, Nz) = (20, 20, 20)\n",
       "(Lx, Ly, Lz) = (20.0, 20.0, 20.0)\n",
       "(Δx, Δy, Δz) = (1.0, 1.0, 1.0)"
      ]
     },
     "execution_count": 44,
     "metadata": {},
     "output_type": "execute_result"
    }
   ],
   "source": [
    "N = (20, 20, 20)\n",
    "L = (20, 20, 20)\n",
    "g = RegularCartesianGrid(N, L; dim=3, FloatType=Float64)"
   ]
  },
  {
   "cell_type": "code",
   "execution_count": 45,
   "metadata": {},
   "outputs": [],
   "source": [
    "f = CellField(g)\n",
    "f.data .= rand(Float64, size(g));"
   ]
  },
  {
   "cell_type": "code",
   "execution_count": 51,
   "metadata": {},
   "outputs": [],
   "source": [
    "∇²f1 = ∇²(f.data);\n",
    "\n",
    "∇²f2 = CellField(g)\n",
    "∇²!(g, f, ∇²f2)"
   ]
  },
  {
   "cell_type": "code",
   "execution_count": 52,
   "metadata": {},
   "outputs": [
    {
     "data": {
      "text/plain": [
       "true"
      ]
     },
     "execution_count": 52,
     "metadata": {},
     "output_type": "execute_result"
    }
   ],
   "source": [
    "∇²f1 ≈ ∇²f2.data"
   ]
  },
  {
   "cell_type": "code",
   "execution_count": 48,
   "metadata": {},
   "outputs": [
    {
     "name": "stdout",
     "output_type": "stream",
     "text": [
      "size(∇²f2.data) = (20, 20, 20)\n"
     ]
    },
    {
     "data": {
      "text/plain": [
       "20×20 Array{Float64,2}:\n",
       "  3.3306    -2.63313   -0.110992  …  -0.416087     1.13412   -0.538915 \n",
       " -2.0142     3.22163   -1.81413      -1.29002     -2.03925    1.31161  \n",
       "  3.05538   -1.4272     2.51859      -1.08699      0.411961  -0.542666 \n",
       " -0.199     -2.26904   -2.78481       3.70391      1.50845   -1.80936  \n",
       "  0.593972   1.48618   -1.36133      -3.81807      3.16588   -1.78918  \n",
       "  2.78286   -1.76541   -0.75179   …   1.57958     -3.0622    -1.77697  \n",
       "  0.331314   2.14532    0.263278      0.917325    -0.37308    0.485756 \n",
       "  0.81724    0.770389   1.40957       2.48664     -3.21593    1.16199  \n",
       " -2.51754    1.1348    -0.814165     -1.84673      1.13592   -0.0504461\n",
       " -1.88864    3.09626   -1.47269       2.01498     -1.65599   -0.332634 \n",
       "  0.399403  -2.61253   -0.521811  …   0.00888251   1.62487   -1.54581  \n",
       " -0.816565   1.09564    0.973311     -3.15032      2.48666   -1.01016  \n",
       "  1.60292   -0.226699  -0.355699     -0.111442    -2.5403    -0.290688 \n",
       "  2.9774    -1.90558    0.014861     -2.83983      1.72025    1.18689  \n",
       " -0.998312   0.351744   0.52901       2.90351      0.589903  -3.5979   \n",
       " -2.32497   -1.79381    2.5303    …  -2.56598     -0.316561   2.6795   \n",
       "  1.34705    1.93446   -1.21413       1.75351      2.34629   -0.358933 \n",
       "  2.21296    0.540288   2.07424      -0.0842738   -2.51753   -0.147209 \n",
       "  0.552366  -1.49649    0.663734     -1.75863     -0.257651   0.500084 \n",
       " -1.34392   -1.13452   -2.01887      -3.03914      2.18266    2.90036  "
      ]
     },
     "execution_count": 48,
     "metadata": {},
     "output_type": "execute_result"
    }
   ],
   "source": [
    "@show size(∇²f2.data)\n",
    "∇²f2.data[:, :, 5]"
   ]
  },
  {
   "cell_type": "code",
   "execution_count": 49,
   "metadata": {},
   "outputs": [
    {
     "name": "stdout",
     "output_type": "stream",
     "text": [
      "size(∇²f3.data) = (20, 20, 20)\n"
     ]
    },
    {
     "data": {
      "text/plain": [
       "20×20 Array{Float64,2}:\n",
       "  3.3306    -2.63313   -0.110992  …  -0.416087     1.13412   -0.538915 \n",
       " -2.0142     3.22163   -1.81413      -1.29002     -2.03925    1.31161  \n",
       "  3.05538   -1.4272     2.51859      -1.08699      0.411961  -0.542666 \n",
       " -0.199     -2.26904   -2.78481       3.70391      1.50845   -1.80936  \n",
       "  0.593972   1.48618   -1.36133      -3.81807      3.16588   -1.78918  \n",
       "  2.78286   -1.76541   -0.75179   …   1.57958     -3.0622    -1.77697  \n",
       "  0.331314   2.14532    0.263278      0.917325    -0.37308    0.485756 \n",
       "  0.81724    0.770389   1.40957       2.48664     -3.21593    1.16199  \n",
       " -2.51754    1.1348    -0.814165     -1.84673      1.13592   -0.0504461\n",
       " -1.88864    3.09626   -1.47269       2.01498     -1.65599   -0.332634 \n",
       "  0.399403  -2.61253   -0.521811  …   0.00888251   1.62487   -1.54581  \n",
       " -0.816565   1.09564    0.973311     -3.15032      2.48666   -1.01016  \n",
       "  1.60292   -0.226699  -0.355699     -0.111442    -2.5403    -0.290688 \n",
       "  2.9774    -1.90558    0.014861     -2.83983      1.72025    1.18689  \n",
       " -0.998312   0.351744   0.52901       2.90351      0.589903  -3.5979   \n",
       " -2.32497   -1.79381    2.5303    …  -2.56598     -0.316561   2.6795   \n",
       "  1.34705    1.93446   -1.21413       1.75351      2.34629   -0.358933 \n",
       "  2.21296    0.540288   2.07424      -0.0842738   -2.51753   -0.147209 \n",
       "  0.552366  -1.49649    0.663734     -1.75863     -0.257651   0.500084 \n",
       " -1.34392   -1.13452   -2.01887      -3.03914      2.18266    2.90036  "
      ]
     },
     "execution_count": 49,
     "metadata": {},
     "output_type": "execute_result"
    }
   ],
   "source": [
    "@show size(∇²f3.data)\n",
    "∇²f3.data[:, :, 5]"
   ]
  },
  {
   "cell_type": "code",
   "execution_count": 50,
   "metadata": {},
   "outputs": [
    {
     "name": "stdout",
     "output_type": "stream",
     "text": [
      "(minimum(∇²f1), minimum(∇²f2.data)) = (-5.0926428783880615, -5.0926428783880615)\n",
      "(maximum(∇²f1), maximum(∇²f2.data)) = (4.80425313661758, 4.80425313661758)\n",
      "(mean(∇²f1), mean(∇²f2.data)) = (-7.327471962526034e-18, -4.773959005888173e-18)\n",
      "(sum(∇²f1), sum(∇²f2.data)) = (-5.861977570020827e-14, -3.8191672047105385e-14)\n"
     ]
    }
   ],
   "source": [
    "@show minimum(∇²f1), minimum(∇²f2.data);\n",
    "@show maximum(∇²f1), maximum(∇²f2.data);\n",
    "@show mean(∇²f1), mean(∇²f2.data);\n",
    "@show sum(∇²f1), sum(∇²f2.data);"
   ]
  },
  {
   "cell_type": "code",
   "execution_count": 35,
   "metadata": {},
   "outputs": [
    {
     "data": {
      "text/plain": [
       "9"
      ]
     },
     "execution_count": 35,
     "metadata": {},
     "output_type": "execute_result"
    }
   ],
   "source": [
    "x = 4 + 5"
   ]
  },
  {
   "cell_type": "code",
   "execution_count": 36,
   "metadata": {},
   "outputs": [
    {
     "data": {
      "text/plain": [
       "2"
      ]
     },
     "execution_count": 36,
     "metadata": {},
     "output_type": "execute_result"
    }
   ],
   "source": [
    "y = 4 + 5\n",
    "  + 1 + 1"
   ]
  },
  {
   "cell_type": "code",
   "execution_count": 39,
   "metadata": {},
   "outputs": [
    {
     "name": "stdout",
     "output_type": "stream",
     "text": [
      "y = 9\n"
     ]
    }
   ],
   "source": [
    "@show y;"
   ]
  },
  {
   "cell_type": "code",
   "execution_count": 40,
   "metadata": {},
   "outputs": [
    {
     "data": {
      "text/plain": [
       "11"
      ]
     },
     "execution_count": 40,
     "metadata": {},
     "output_type": "execute_result"
    }
   ],
   "source": [
    "z = 4 + 5 +\n",
    "    1 + 1"
   ]
  },
  {
   "cell_type": "code",
   "execution_count": 42,
   "metadata": {},
   "outputs": [
    {
     "name": "stdout",
     "output_type": "stream",
     "text": [
      "z = 11\n"
     ]
    }
   ],
   "source": [
    "@show z;"
   ]
  },
  {
   "cell_type": "code",
   "execution_count": null,
   "metadata": {},
   "outputs": [],
   "source": []
  }
 ],
 "metadata": {
  "kernelspec": {
   "display_name": "Julia 1.0.0",
   "language": "julia",
   "name": "julia-1.0"
  },
  "language_info": {
   "file_extension": ".jl",
   "mimetype": "application/julia",
   "name": "julia",
   "version": "1.0.0"
  }
 },
 "nbformat": 4,
 "nbformat_minor": 2
}
