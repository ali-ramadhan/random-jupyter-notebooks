{
 "cells": [
  {
   "cell_type": "code",
   "execution_count": 1,
   "metadata": {},
   "outputs": [],
   "source": [
    "using Pkg\n",
    "# cd(\"D:\\\\Home\\\\Git\\\\Oceananigans.jl\")\n",
    "cd(\"C:\\\\Users\\\\Ali\\\\Documents\\\\Git\\\\Oceananigans.jl\\\\\")\n",
    "Pkg.activate(\".\");"
   ]
  },
  {
   "cell_type": "code",
   "execution_count": 2,
   "metadata": {},
   "outputs": [],
   "source": [
    "using Statistics\n",
    "\n",
    "using Oceananigans, Oceananigans.Operators"
   ]
  },
  {
   "cell_type": "code",
   "execution_count": 3,
   "metadata": {},
   "outputs": [
    {
     "ename": "UndefVarError",
     "evalue": "UndefVarError: ∇² not defined",
     "output_type": "error",
     "traceback": [
      "UndefVarError: ∇² not defined",
      "",
      "Stacktrace:",
      " [1] top-level scope at In[3]:1"
     ]
    }
   ],
   "source": [
    "∇²"
   ]
  },
  {
   "cell_type": "code",
   "execution_count": 4,
   "metadata": {},
   "outputs": [
    {
     "ename": "UndefVarError",
     "evalue": "UndefVarError: ∇²! not defined",
     "output_type": "error",
     "traceback": [
      "UndefVarError: ∇²! not defined",
      "",
      "Stacktrace:",
      " [1] top-level scope at In[4]:1"
     ]
    }
   ],
   "source": [
    "∇²!"
   ]
  },
  {
   "cell_type": "code",
   "execution_count": 5,
   "metadata": {},
   "outputs": [
    {
     "data": {
      "text/plain": [
       "∇² (generic function with 1 method)"
      ]
     },
     "execution_count": 5,
     "metadata": {},
     "output_type": "execute_result"
    }
   ],
   "source": [
    "@inline incmod1(a, n) = a == n ? one(a) : a + 1\n",
    "@inline decmod1(a, n) = a == 1 ? n : a - 1\n",
    "\n",
    "function ∇²(f)\n",
    "    Nx, Ny, Nz = size(f)\n",
    "    ∇²f = zeros(Nx, Ny, Nz)\n",
    "    for k in 2:(Nz-1), j in 1:Ny, i in 1:Nx\n",
    "       ∇²f[i, j, k] = f[incmod1(i, Nx), j, k] + f[decmod1(i, Nx), j, k] + f[i, incmod1(j, Ny), k] + f[i, decmod1(j, Ny), k] + f[i, j, k+1] + f[i, j, k-1] - 6*f[i, j, k]\n",
    "    end\n",
    "    for j in 1:Ny, i in 1:Nx\n",
    "        ∇²f[i, j,   1] = -(f[i, j,     1] - f[i, j,   2]) + f[incmod1(i, Nx), j,   1] + f[decmod1(i, Nx), j,   1] + f[i, incmod1(j, Ny),   1] + f[i, decmod1(j, Ny),   1] - 4*f[i, j,   1]\n",
    "        ∇²f[i, j, end] =  (f[i, j, end-1] - f[i, j, end]) + f[incmod1(i, Nx), j, end] + f[decmod1(i, Nx), j, end] + f[i, incmod1(j, Ny), end] + f[i, decmod1(j, Ny), end] - 4*f[i, j, end]\n",
    "    end\n",
    "    ∇²f\n",
    "end"
   ]
  },
  {
   "cell_type": "code",
   "execution_count": 27,
   "metadata": {},
   "outputs": [
    {
     "data": {
      "text/plain": [
       "∇²! (generic function with 1 method)"
      ]
     },
     "execution_count": 27,
     "metadata": {},
     "output_type": "execute_result"
    }
   ],
   "source": [
    "@inline incmod1(a, n) = a == n ? one(a) : a + 1\n",
    "@inline decmod1(a, n) = a == 1 ? n : a - 1\n",
    "\n",
    "function ∇²!(g::RegularCartesianGrid, f::CellField, ∇²f::CellField)\n",
    "    for k in 2:(g.Nz-1), j in 1:g.Ny, i in 1:g.Nx\n",
    "        ∇²f.data[i, j, k] = f.data[incmod1(i, g.Nx), j, k] + f.data[decmod1(i, g.Nx), j, k]\n",
    "                          +  f.data[i, incmod1(j, g.Ny), k] + f.data[i, decmod1(j, g.Ny), k]\n",
    "                          +  f.data[i, j, k+1]              + f.data[i, j, k-1]\n",
    "                          -6*f.data[i, j, k]\n",
    "    end\n",
    "#     for j in 1:g.Ny, i in 1:g.Nx\n",
    "#         ∇²f.data[i, j,   1] = (f.data[i, j, 2] - f.data[i, j, 1]) / g.Δz\n",
    "#                             + (f.data[incmod1(i, g.Nx), j, 1] - 2*f.data[i, j, 1] + f.data[decmod1(i, g.Nx), j, 1]) / g.Δx\n",
    "#                             + (f.data[i, incmod1(j, g.Ny), 1] - 2*f.data[i, j, 1] + f.data[i, decmod1(j, g.Ny), 1]) / g.Δy\n",
    "#         ∇²f.data[i, j, end] = (f.data[i, j, end-1] - f.data[i, j, end]) / g.Δz\n",
    "#                             + (f.data[incmod1(i, g.Nx), j, end] - 2*f.data[i, j, end] + f.data[decmod1(i, g.Nx), j, end]) / g.Δx\n",
    "#                             + (f.data[i, incmod1(j, g.Ny), end] - 2*f.data[i, j, end] + f.data[i, decmod1(j, g.Ny), end]) / g.Δy\n",
    "#     end\n",
    "    nothing\n",
    "end"
   ]
  },
  {
   "cell_type": "code",
   "execution_count": 28,
   "metadata": {},
   "outputs": [
    {
     "data": {
      "text/plain": [
       "3-dimensional (Float64) regular Cartesian grid\n",
       "(Nx, Ny, Nz) = (20, 20, 20)\n",
       "(Lx, Ly, Lz) = (20.0, 20.0, 20.0)\n",
       "(Δx, Δy, Δz) = (1.0, 1.0, 1.0)"
      ]
     },
     "execution_count": 28,
     "metadata": {},
     "output_type": "execute_result"
    }
   ],
   "source": [
    "N = (20, 20, 20)\n",
    "L = (20, 20, 20)\n",
    "g = RegularCartesianGrid(N, L; dim=3, FloatType=Float64)"
   ]
  },
  {
   "cell_type": "code",
   "execution_count": 29,
   "metadata": {},
   "outputs": [],
   "source": [
    "f = CellField(g)\n",
    "f.data .= rand(Float64, size(g));"
   ]
  },
  {
   "cell_type": "code",
   "execution_count": 30,
   "metadata": {},
   "outputs": [],
   "source": [
    "∇²f1 = ∇²(f.data);\n",
    "\n",
    "∇²f2 = CellField(g)\n",
    "∇²!(g, f, ∇²f2)\n",
    "\n",
    "∇²f3 = CellField(g)\n",
    "∇²f3.data .= ∇²(f.data);"
   ]
  },
  {
   "cell_type": "code",
   "execution_count": 31,
   "metadata": {},
   "outputs": [
    {
     "name": "stdout",
     "output_type": "stream",
     "text": [
      "size(∇²f1) = (20, 20, 20)\n"
     ]
    },
    {
     "data": {
      "text/plain": [
       "20×20 Array{Float64,2}:\n",
       "  1.79812    2.54177    0.0610277  …  -2.74096     0.17731    1.18541 \n",
       " -2.32942    1.24371   -2.26241        1.5262      1.03041   -1.43511 \n",
       " -1.08675   -0.932096   0.447928      -0.924375    1.21192   -0.769011\n",
       "  0.154511  -1.74215   -0.159156       2.46809    -1.70094   -1.79355 \n",
       " -3.14077    0.690266   1.86206        0.0404841  -1.50706    2.78682 \n",
       "  3.40619   -1.31483   -2.64906    …  -2.31082     2.29272    1.45416 \n",
       "  2.76233   -1.08212    2.47981        1.58365     0.860356  -3.69797 \n",
       " -1.33682    1.81293   -2.70391       -1.40254    -1.54075   -0.583683\n",
       " -0.584854   0.904871   0.0338601      1.54212    -2.50943    2.56166 \n",
       " -1.97883    0.510279   0.540942      -2.97782     1.90436    0.643408\n",
       "  4.09431   -0.55056    0.429223   …   3.26721    -1.3613    -2.72816 \n",
       "  1.20244   -2.63958    1.64226       -1.82849     3.35888   -1.39699 \n",
       " -1.01281    1.79883   -1.1547         2.64936    -3.89167    3.22053 \n",
       " -1.7524    -2.87885    1.49337        0.0838958  -1.77777   -1.80804 \n",
       "  1.16671    2.41198    1.26739       -2.36282     2.08187    0.374931\n",
       "  2.55873   -3.38686    2.76966    …   0.127562   -1.98074    0.677436\n",
       " -3.19355    2.93238   -0.246011      -1.30909     1.82675    1.29332 \n",
       "  0.956337  -2.25629    2.13446        1.27679    -3.2016    -1.79958 \n",
       "  2.29447   -1.76963    1.42717       -2.08343     3.01794    1.16952 \n",
       "  2.30407   -2.3178    -1.98012        2.02614    -3.73585    1.05596 "
      ]
     },
     "execution_count": 31,
     "metadata": {},
     "output_type": "execute_result"
    }
   ],
   "source": [
    "@show size(∇²f1)\n",
    "∇²f1[:, :, 5]"
   ]
  },
  {
   "cell_type": "code",
   "execution_count": 32,
   "metadata": {},
   "outputs": [
    {
     "name": "stdout",
     "output_type": "stream",
     "text": [
      "size(∇²f2.data) = (20, 20, 20)\n"
     ]
    },
    {
     "data": {
      "text/plain": [
       "20×20 Array{Float64,2}:\n",
       "  1.79812    2.54177    0.0610277  …  -2.74096     0.17731    1.18541 \n",
       " -2.32942    1.24371   -2.26241        1.5262      1.03041   -1.43511 \n",
       " -1.08675   -0.932096   0.447928      -0.924375    1.21192   -0.769011\n",
       "  0.154511  -1.74215   -0.159156       2.46809    -1.70094   -1.79355 \n",
       " -3.14077    0.690266   1.86206        0.0404841  -1.50706    2.78682 \n",
       "  3.40619   -1.31483   -2.64906    …  -2.31082     2.29272    1.45416 \n",
       "  2.76233   -1.08212    2.47981        1.58365     0.860356  -3.69797 \n",
       " -1.33682    1.81293   -2.70391       -1.40254    -1.54075   -0.583683\n",
       " -0.584854   0.904871   0.0338601      1.54212    -2.50943    2.56166 \n",
       " -1.97883    0.510279   0.540942      -2.97782     1.90436    0.643408\n",
       "  4.09431   -0.55056    0.429223   …   3.26721    -1.3613    -2.72816 \n",
       "  1.20244   -2.63958    1.64226       -1.82849     3.35888   -1.39699 \n",
       " -1.01281    1.79883   -1.1547         2.64936    -3.89167    3.22053 \n",
       " -1.7524    -2.87885    1.49337        0.0838958  -1.77777   -1.80804 \n",
       "  1.16671    2.41198    1.26739       -2.36282     2.08187    0.374931\n",
       "  2.55873   -3.38686    2.76966    …   0.127562   -1.98074    0.677436\n",
       " -3.19355    2.93238   -0.246011      -1.30909     1.82675    1.29332 \n",
       "  0.956337  -2.25629    2.13446        1.27679    -3.2016    -1.79958 \n",
       "  2.29447   -1.76963    1.42717       -2.08343     3.01794    1.16952 \n",
       "  2.30407   -2.3178    -1.98012        2.02614    -3.73585    1.05596 "
      ]
     },
     "execution_count": 32,
     "metadata": {},
     "output_type": "execute_result"
    }
   ],
   "source": [
    "@show size(∇²f2.data)\n",
    "∇²f2.data[:, :, 5]"
   ]
  },
  {
   "cell_type": "code",
   "execution_count": 33,
   "metadata": {},
   "outputs": [
    {
     "name": "stdout",
     "output_type": "stream",
     "text": [
      "size(∇²f3.data) = (20, 20, 20)\n"
     ]
    },
    {
     "data": {
      "text/plain": [
       "20×20 Array{Float64,2}:\n",
       "  1.79812    2.54177    0.0610277  …  -2.74096     0.17731    1.18541 \n",
       " -2.32942    1.24371   -2.26241        1.5262      1.03041   -1.43511 \n",
       " -1.08675   -0.932096   0.447928      -0.924375    1.21192   -0.769011\n",
       "  0.154511  -1.74215   -0.159156       2.46809    -1.70094   -1.79355 \n",
       " -3.14077    0.690266   1.86206        0.0404841  -1.50706    2.78682 \n",
       "  3.40619   -1.31483   -2.64906    …  -2.31082     2.29272    1.45416 \n",
       "  2.76233   -1.08212    2.47981        1.58365     0.860356  -3.69797 \n",
       " -1.33682    1.81293   -2.70391       -1.40254    -1.54075   -0.583683\n",
       " -0.584854   0.904871   0.0338601      1.54212    -2.50943    2.56166 \n",
       " -1.97883    0.510279   0.540942      -2.97782     1.90436    0.643408\n",
       "  4.09431   -0.55056    0.429223   …   3.26721    -1.3613    -2.72816 \n",
       "  1.20244   -2.63958    1.64226       -1.82849     3.35888   -1.39699 \n",
       " -1.01281    1.79883   -1.1547         2.64936    -3.89167    3.22053 \n",
       " -1.7524    -2.87885    1.49337        0.0838958  -1.77777   -1.80804 \n",
       "  1.16671    2.41198    1.26739       -2.36282     2.08187    0.374931\n",
       "  2.55873   -3.38686    2.76966    …   0.127562   -1.98074    0.677436\n",
       " -3.19355    2.93238   -0.246011      -1.30909     1.82675    1.29332 \n",
       "  0.956337  -2.25629    2.13446        1.27679    -3.2016    -1.79958 \n",
       "  2.29447   -1.76963    1.42717       -2.08343     3.01794    1.16952 \n",
       "  2.30407   -2.3178    -1.98012        2.02614    -3.73585    1.05596 "
      ]
     },
     "execution_count": 33,
     "metadata": {},
     "output_type": "execute_result"
    }
   ],
   "source": [
    "@show size(∇²f3.data)\n",
    "∇²f3.data[:, :, 5]"
   ]
  },
  {
   "cell_type": "code",
   "execution_count": 34,
   "metadata": {},
   "outputs": [
    {
     "name": "stdout",
     "output_type": "stream",
     "text": [
      "(minimum(∇²f1), minimum(∇²f2.data)) = (-5.1987200109170235, -5.1987200109170235)\n",
      "(maximum(∇²f1), maximum(∇²f2.data)) = (4.721318862061617, 4.721318862061617)\n",
      "(mean(∇²f1), mean(∇²f2.data)) = (3.7747582837255325e-18, 0.0001987835853370652)\n",
      "(sum(∇²f1), sum(∇²f2.data)) = (3.019806626980426e-14, 1.5902686826965216)\n"
     ]
    }
   ],
   "source": [
    "@show minimum(∇²f1), minimum(∇²f2.data);\n",
    "@show maximum(∇²f1), maximum(∇²f2.data);\n",
    "@show mean(∇²f1), mean(∇²f2.data);\n",
    "@show sum(∇²f1), sum(∇²f2.data);"
   ]
  },
  {
   "cell_type": "code",
   "execution_count": 35,
   "metadata": {},
   "outputs": [
    {
     "data": {
      "text/plain": [
       "9"
      ]
     },
     "execution_count": 35,
     "metadata": {},
     "output_type": "execute_result"
    }
   ],
   "source": [
    "x = 4 + 5"
   ]
  },
  {
   "cell_type": "code",
   "execution_count": 36,
   "metadata": {},
   "outputs": [
    {
     "data": {
      "text/plain": [
       "2"
      ]
     },
     "execution_count": 36,
     "metadata": {},
     "output_type": "execute_result"
    }
   ],
   "source": [
    "y = 4 + 5\n",
    "  + 1 + 1"
   ]
  },
  {
   "cell_type": "code",
   "execution_count": 39,
   "metadata": {},
   "outputs": [
    {
     "name": "stdout",
     "output_type": "stream",
     "text": [
      "y = 9\n"
     ]
    }
   ],
   "source": [
    "@show y;"
   ]
  },
  {
   "cell_type": "code",
   "execution_count": 40,
   "metadata": {},
   "outputs": [
    {
     "data": {
      "text/plain": [
       "11"
      ]
     },
     "execution_count": 40,
     "metadata": {},
     "output_type": "execute_result"
    }
   ],
   "source": [
    "z = 4 + 5 +\n",
    "    1 + 1"
   ]
  },
  {
   "cell_type": "code",
   "execution_count": 42,
   "metadata": {},
   "outputs": [
    {
     "name": "stdout",
     "output_type": "stream",
     "text": [
      "z = 11\n"
     ]
    }
   ],
   "source": [
    "@show z;"
   ]
  },
  {
   "cell_type": "code",
   "execution_count": null,
   "metadata": {},
   "outputs": [],
   "source": []
  }
 ],
 "metadata": {
  "kernelspec": {
   "display_name": "Julia 1.0.0",
   "language": "julia",
   "name": "julia-1.0"
  },
  "language_info": {
   "file_extension": ".jl",
   "mimetype": "application/julia",
   "name": "julia",
   "version": "1.0.0"
  }
 },
 "nbformat": 4,
 "nbformat_minor": 2
}
