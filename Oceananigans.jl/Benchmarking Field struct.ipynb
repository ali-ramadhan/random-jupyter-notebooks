{
 "cells": [
  {
   "cell_type": "code",
   "execution_count": 1,
   "metadata": {},
   "outputs": [
    {
     "data": {
      "text/plain": [
       "\"D:\\\\Home\\\\Git\\\\Oceananigans.jl\""
      ]
     },
     "execution_count": 1,
     "metadata": {},
     "output_type": "execute_result"
    }
   ],
   "source": [
    "cd(\"D:\\\\Home\\\\Git\\\\Oceananigans.jl\\\\\")\n",
    "pwd()"
   ]
  },
  {
   "cell_type": "code",
   "execution_count": 2,
   "metadata": {},
   "outputs": [
    {
     "data": {
      "text/plain": [
       "\"D:\\\\Home\\\\Git\\\\Oceananigans.jl\\\\Project.toml\""
      ]
     },
     "execution_count": 2,
     "metadata": {},
     "output_type": "execute_result"
    }
   ],
   "source": [
    "using Pkg\n",
    "Pkg.activate(\".\")"
   ]
  },
  {
   "cell_type": "code",
   "execution_count": 3,
   "metadata": {},
   "outputs": [],
   "source": [
    "using Oceananigans, Oceananigans.Operators"
   ]
  },
  {
   "cell_type": "code",
   "execution_count": 4,
   "metadata": {},
   "outputs": [
    {
     "data": {
      "text/plain": [
       "(Nx, Ny, Nz) = (100, 100, 100)\n",
       "(Lx, Ly, Lz) = (10.0, 10.0, 10.0)\n",
       "(Δx, Δy, Δz) = (0.1, 0.1, 0.1)"
      ]
     },
     "execution_count": 4,
     "metadata": {},
     "output_type": "execute_result"
    }
   ],
   "source": [
    "g = RegularCartesianGrid((100, 100, 100), (10, 10, 10))"
   ]
  },
  {
   "cell_type": "code",
   "execution_count": 5,
   "metadata": {},
   "outputs": [],
   "source": [
    "f1 = CellField(g);\n",
    "f2 = FaceFieldX(g);"
   ]
  },
  {
   "cell_type": "code",
   "execution_count": 6,
   "metadata": {},
   "outputs": [],
   "source": [
    "using BenchmarkTools"
   ]
  },
  {
   "cell_type": "code",
   "execution_count": null,
   "metadata": {},
   "outputs": [],
   "source": [
    "@benchmark δx!(g, f1, f2)"
   ]
  },
  {
   "cell_type": "code",
   "execution_count": 7,
   "metadata": {},
   "outputs": [
    {
     "data": {
      "text/plain": [
       "δ3! (generic function with 1 method)"
      ]
     },
     "execution_count": 7,
     "metadata": {},
     "output_type": "execute_result"
    }
   ],
   "source": [
    "@inline incmod1(a, n) = a == n ? one(a) : a + 1\n",
    "@inline decmod1(a, n) = a == 1 ? n : a - 1\n",
    "\n",
    "function δ0!(g, A, B)\n",
    "    for k in 1:g.Nz, j in 1:g.Ny, i in 1:g.Nx\n",
    "      @inbounds B[i, j, k] = A[i, j, k] - A[decmod1(i, g.Nx), j, k]\n",
    "    end\n",
    "end\n",
    "\n",
    "function δ0!!(g, A, B)\n",
    "    for k in 1:g.Nz, j in 1:g.Ny, i in 1:g.Nx\n",
    "      @inbounds B[i, j, k] = A[i, j, k] - A[i, j, k]\n",
    "    end\n",
    "end\n",
    "\n",
    "function δ1!(g, f, δf)\n",
    "    for k in 1:g.Nz, j in 1:g.Ny, i in 1:g.Nx\n",
    "      @inbounds δf[i, j, k] = f[i, j, k] - f[decmod1(i, g.Nx), j, k]\n",
    "    end\n",
    "end\n",
    "\n",
    "function δ2!(g, f, δf)\n",
    "    for k in 1:g.Nz, j in 1:g.Ny, i in 1:g.Nx\n",
    "      @inbounds δf.data[i, j, k] = f.data[i, j, k] - f.data[decmod1(i, g.Nx), j, k]\n",
    "    end\n",
    "end\n",
    "\n",
    "function δ3!(g, f, δf)\n",
    "    for k in 1:g.Nz, j in 1:g.Ny, i in 1:g.Nx\n",
    "        setindex!(δf.data, f.data[i, j, k] - f.data[decmod1(i, g.Nx), j, k], i, j, k)\n",
    "    end\n",
    "end"
   ]
  },
  {
   "cell_type": "code",
   "execution_count": 8,
   "metadata": {},
   "outputs": [
    {
     "data": {
      "text/plain": [
       "BenchmarkTools.Trial: \n",
       "  memory estimate:  0 bytes\n",
       "  allocs estimate:  0\n",
       "  --------------\n",
       "  minimum time:     1.314 ms (0.00% GC)\n",
       "  median time:      1.487 ms (0.00% GC)\n",
       "  mean time:        1.631 ms (0.00% GC)\n",
       "  maximum time:     8.081 ms (0.00% GC)\n",
       "  --------------\n",
       "  samples:          3050\n",
       "  evals/sample:     1"
      ]
     },
     "execution_count": 8,
     "metadata": {},
     "output_type": "execute_result"
    }
   ],
   "source": [
    "A = rand(Float64, size(g));\n",
    "B = rand(Float64, size(g));\n",
    "@benchmark δ0!(g, A, B)"
   ]
  },
  {
   "cell_type": "code",
   "execution_count": null,
   "metadata": {},
   "outputs": [],
   "source": [
    "@benchmark δ0!!(g, A, B)"
   ]
  },
  {
   "cell_type": "code",
   "execution_count": null,
   "metadata": {},
   "outputs": [],
   "source": [
    "@benchmark δ1(g, f1, f2)"
   ]
  },
  {
   "cell_type": "code",
   "execution_count": null,
   "metadata": {},
   "outputs": [],
   "source": [
    "@benchmark δ2(g, f1, f2)"
   ]
  },
  {
   "cell_type": "code",
   "execution_count": null,
   "metadata": {},
   "outputs": [],
   "source": [
    "@benchmark δ4(g, f1, f2)"
   ]
  },
  {
   "cell_type": "code",
   "execution_count": null,
   "metadata": {},
   "outputs": [],
   "source": [
    "struct MyArray{T,G<:Grid{T}}\n",
    "    data::Array{T}\n",
    "    grid::G\n",
    "end"
   ]
  },
  {
   "cell_type": "code",
   "execution_count": null,
   "metadata": {},
   "outputs": [],
   "source": [
    "function MyArray(grid::Grid{T}) where T <: AbstractFloat\n",
    "    sz = size(grid)\n",
    "    data = zeros(T, sz)\n",
    "    CellField(data, grid)\n",
    "end"
   ]
  },
  {
   "cell_type": "code",
   "execution_count": null,
   "metadata": {},
   "outputs": [],
   "source": [
    "C = MyArray(g);\n",
    "D = MyArray(g);"
   ]
  },
  {
   "cell_type": "code",
   "execution_count": null,
   "metadata": {},
   "outputs": [],
   "source": [
    "@benchmark δ2(g, C, D)"
   ]
  },
  {
   "cell_type": "code",
   "execution_count": null,
   "metadata": {},
   "outputs": [],
   "source": [
    "@benchmark setindex!(f1.data, 12.5, 5, 6, 7)"
   ]
  },
  {
   "cell_type": "code",
   "execution_count": null,
   "metadata": {},
   "outputs": [],
   "source": [
    "@benchmark δ4(g, f1, f2)"
   ]
  },
  {
   "cell_type": "code",
   "execution_count": null,
   "metadata": {},
   "outputs": [],
   "source": [
    "struct MyArray2\n",
    "    data::Array{AbstractFloat}\n",
    "    grid::Grid\n",
    "end"
   ]
  },
  {
   "cell_type": "code",
   "execution_count": null,
   "metadata": {},
   "outputs": [],
   "source": [
    "function MyArray2(grid::Grid, T=Float64)\n",
    "    sz = size(grid)\n",
    "    data = zeros(T, sz)\n",
    "    CellField(data, grid)\n",
    "end"
   ]
  },
  {
   "cell_type": "code",
   "execution_count": null,
   "metadata": {},
   "outputs": [],
   "source": [
    "E = MyArray2(g);\n",
    "F = MyArray2(g);"
   ]
  },
  {
   "cell_type": "code",
   "execution_count": null,
   "metadata": {},
   "outputs": [],
   "source": [
    "@benchmark δ1(g, E, F)"
   ]
  },
  {
   "cell_type": "code",
   "execution_count": null,
   "metadata": {},
   "outputs": [],
   "source": [
    "@benchmark δ2(g, E, F)"
   ]
  },
  {
   "cell_type": "code",
   "execution_count": null,
   "metadata": {},
   "outputs": [],
   "source": [
    "@benchmark δ4(g, E, F)"
   ]
  },
  {
   "cell_type": "code",
   "execution_count": 9,
   "metadata": {},
   "outputs": [],
   "source": [
    "struct MyCellField\n",
    "    data::Array{Float64,3}\n",
    "    grid::Grid\n",
    "end"
   ]
  },
  {
   "cell_type": "code",
   "execution_count": 10,
   "metadata": {},
   "outputs": [
    {
     "data": {
      "text/plain": [
       "MyCellField"
      ]
     },
     "execution_count": 10,
     "metadata": {},
     "output_type": "execute_result"
    }
   ],
   "source": [
    "function MyCellField(grid, T=Float64)\n",
    "    sz = size(grid)\n",
    "    data = zeros(T, sz)\n",
    "    MyCellField(data, grid)\n",
    "end"
   ]
  },
  {
   "cell_type": "code",
   "execution_count": 11,
   "metadata": {},
   "outputs": [],
   "source": [
    "fC1, fC2 = MyCellField(g), MyCellField(g);"
   ]
  },
  {
   "cell_type": "code",
   "execution_count": 12,
   "metadata": {},
   "outputs": [
    {
     "data": {
      "text/plain": [
       "BenchmarkTools.Trial: \n",
       "  memory estimate:  0 bytes\n",
       "  allocs estimate:  0\n",
       "  --------------\n",
       "  minimum time:     1.642 ms (0.00% GC)\n",
       "  median time:      1.852 ms (0.00% GC)\n",
       "  mean time:        1.925 ms (0.00% GC)\n",
       "  maximum time:     4.090 ms (0.00% GC)\n",
       "  --------------\n",
       "  samples:          2586\n",
       "  evals/sample:     1"
      ]
     },
     "execution_count": 12,
     "metadata": {},
     "output_type": "execute_result"
    }
   ],
   "source": [
    "@benchmark δ2!(g, fC1, fC2)"
   ]
  },
  {
   "cell_type": "code",
   "execution_count": 13,
   "metadata": {},
   "outputs": [
    {
     "data": {
      "text/plain": [
       "BenchmarkTools.Trial: \n",
       "  memory estimate:  0 bytes\n",
       "  allocs estimate:  0\n",
       "  --------------\n",
       "  minimum time:     4.128 ms (0.00% GC)\n",
       "  median time:      4.633 ms (0.00% GC)\n",
       "  mean time:        4.714 ms (0.00% GC)\n",
       "  maximum time:     8.625 ms (0.00% GC)\n",
       "  --------------\n",
       "  samples:          1059\n",
       "  evals/sample:     1"
      ]
     },
     "execution_count": 13,
     "metadata": {},
     "output_type": "execute_result"
    }
   ],
   "source": [
    "@benchmark δ3!(g, fC1, fC2)"
   ]
  },
  {
   "cell_type": "code",
   "execution_count": 19,
   "metadata": {},
   "outputs": [
    {
     "data": {
      "text/plain": [
       "BenchmarkTools.Trial: \n",
       "  memory estimate:  0 bytes\n",
       "  allocs estimate:  0\n",
       "  --------------\n",
       "  minimum time:     4.527 ms (0.00% GC)\n",
       "  median time:      5.033 ms (0.00% GC)\n",
       "  mean time:        5.121 ms (0.00% GC)\n",
       "  maximum time:     8.150 ms (0.00% GC)\n",
       "  --------------\n",
       "  samples:          975\n",
       "  evals/sample:     1"
      ]
     },
     "execution_count": 19,
     "metadata": {},
     "output_type": "execute_result"
    }
   ],
   "source": [
    "@inline Base.getindex(f::MyCellField, inds...) = Base.getindex(f.data, inds...)\n",
    "@inline Base.setindex!(f::MyCellField, v, inds...) = Base.setindex!(f.data, v, inds...)\n",
    "@benchmark δ1!(g, fC1, fC2)"
   ]
  },
  {
   "cell_type": "code",
   "execution_count": 14,
   "metadata": {},
   "outputs": [],
   "source": [
    "struct MyCellField2\n",
    "    data::Array\n",
    "    grid::Grid\n",
    "end"
   ]
  },
  {
   "cell_type": "code",
   "execution_count": 43,
   "metadata": {},
   "outputs": [
    {
     "data": {
      "text/plain": [
       "MyCellField2"
      ]
     },
     "execution_count": 43,
     "metadata": {},
     "output_type": "execute_result"
    }
   ],
   "source": [
    "function MyCellField2(grid, T=Float64)\n",
    "    sz = size(grid)\n",
    "    data = zeros(Float32, sz)\n",
    "    MyCellField2(data, grid)\n",
    "end"
   ]
  },
  {
   "cell_type": "code",
   "execution_count": 20,
   "metadata": {},
   "outputs": [],
   "source": [
    "fc2a, fc2b = MyCellField2(g), MyCellField2(g);"
   ]
  },
  {
   "cell_type": "code",
   "execution_count": 23,
   "metadata": {},
   "outputs": [
    {
     "data": {
      "text/plain": [
       "BenchmarkTools.Trial: \n",
       "  memory estimate:  0 bytes\n",
       "  allocs estimate:  0\n",
       "  --------------\n",
       "  minimum time:     1.641 ms (0.00% GC)\n",
       "  median time:      1.821 ms (0.00% GC)\n",
       "  mean time:        1.881 ms (0.00% GC)\n",
       "  maximum time:     3.121 ms (0.00% GC)\n",
       "  --------------\n",
       "  samples:          2646\n",
       "  evals/sample:     1"
      ]
     },
     "execution_count": 23,
     "metadata": {},
     "output_type": "execute_result"
    }
   ],
   "source": [
    "@benchmark δ2!(g, fc2a, fc2b)"
   ]
  },
  {
   "cell_type": "code",
   "execution_count": 44,
   "metadata": {},
   "outputs": [],
   "source": [
    "g32 = RegularCartesianGrid((100, 100, 100), (10, 10, 10), Float32)\n",
    "fc2a32, fc2b32 = MyCellField2(g32, Float32), MyCellField2(g32, Float32);"
   ]
  },
  {
   "cell_type": "code",
   "execution_count": 45,
   "metadata": {},
   "outputs": [
    {
     "data": {
      "text/plain": [
       "BenchmarkTools.Trial: \n",
       "  memory estimate:  45.78 MiB\n",
       "  allocs estimate:  3000000\n",
       "  --------------\n",
       "  minimum time:     129.685 ms (0.67% GC)\n",
       "  median time:      133.059 ms (0.71% GC)\n",
       "  mean time:        133.313 ms (0.75% GC)\n",
       "  maximum time:     141.366 ms (0.62% GC)\n",
       "  --------------\n",
       "  samples:          38\n",
       "  evals/sample:     1"
      ]
     },
     "execution_count": 45,
     "metadata": {},
     "output_type": "execute_result"
    }
   ],
   "source": [
    "@benchmark δ2!(g, fc2a32, fc2b32)"
   ]
  },
  {
   "cell_type": "code",
   "execution_count": 50,
   "metadata": {},
   "outputs": [
    {
     "data": {
      "text/plain": [
       "BenchmarkTools.Trial: \n",
       "  memory estimate:  45.78 MiB\n",
       "  allocs estimate:  3000000\n",
       "  --------------\n",
       "  minimum time:     133.871 ms (0.66% GC)\n",
       "  median time:      136.439 ms (0.68% GC)\n",
       "  mean time:        137.066 ms (0.73% GC)\n",
       "  maximum time:     147.059 ms (0.59% GC)\n",
       "  --------------\n",
       "  samples:          37\n",
       "  evals/sample:     1"
      ]
     },
     "execution_count": 50,
     "metadata": {},
     "output_type": "execute_result"
    }
   ],
   "source": [
    "@benchmark δ3!(g, fc2a32, fc2b32)"
   ]
  },
  {
   "cell_type": "code",
   "execution_count": 47,
   "metadata": {},
   "outputs": [],
   "source": [
    "struct MyCellField3{T<:Array}\n",
    "    data::T\n",
    "    grid::Grid\n",
    "end"
   ]
  },
  {
   "cell_type": "code",
   "execution_count": 70,
   "metadata": {},
   "outputs": [
    {
     "data": {
      "text/plain": [
       "MyCellField3"
      ]
     },
     "execution_count": 70,
     "metadata": {},
     "output_type": "execute_result"
    }
   ],
   "source": [
    "function MyCellField3(grid, T=Float64)\n",
    "    sz = size(grid)\n",
    "    data = zeros(T, sz)\n",
    "    MyCellField3{Array{T,3}}(data, grid)\n",
    "end"
   ]
  },
  {
   "cell_type": "code",
   "execution_count": 60,
   "metadata": {},
   "outputs": [],
   "source": [
    "fc3a, fc3b = MyCellField3(g), MyCellField3(g);"
   ]
  },
  {
   "cell_type": "code",
   "execution_count": 61,
   "metadata": {},
   "outputs": [
    {
     "data": {
      "text/plain": [
       "BenchmarkTools.Trial: \n",
       "  memory estimate:  0 bytes\n",
       "  allocs estimate:  0\n",
       "  --------------\n",
       "  minimum time:     1.641 ms (0.00% GC)\n",
       "  median time:      1.809 ms (0.00% GC)\n",
       "  mean time:        1.868 ms (0.00% GC)\n",
       "  maximum time:     3.345 ms (0.00% GC)\n",
       "  --------------\n",
       "  samples:          2666\n",
       "  evals/sample:     1"
      ]
     },
     "execution_count": 61,
     "metadata": {},
     "output_type": "execute_result"
    }
   ],
   "source": [
    "@benchmark δ2!(g, fc3a, fc3b)"
   ]
  },
  {
   "cell_type": "code",
   "execution_count": 64,
   "metadata": {},
   "outputs": [],
   "source": [
    "g32 = RegularCartesianGrid((100, 100, 100), (10, 10, 10), Float32)\n",
    "fc3a32, fc3b32 = MyCellField3(g32, Float32), MyCellField3(g32, Float32);"
   ]
  },
  {
   "cell_type": "code",
   "execution_count": 79,
   "metadata": {},
   "outputs": [
    {
     "data": {
      "text/plain": [
       "BenchmarkTools.Trial: \n",
       "  memory estimate:  0 bytes\n",
       "  allocs estimate:  0\n",
       "  --------------\n",
       "  minimum time:     1.473 ms (0.00% GC)\n",
       "  median time:      1.632 ms (0.00% GC)\n",
       "  mean time:        1.721 ms (0.00% GC)\n",
       "  maximum time:     3.634 ms (0.00% GC)\n",
       "  --------------\n",
       "  samples:          2893\n",
       "  evals/sample:     1"
      ]
     },
     "execution_count": 79,
     "metadata": {},
     "output_type": "execute_result"
    }
   ],
   "source": [
    "@benchmark δ2!(g, fc3a32, fc3b32)"
   ]
  },
  {
   "cell_type": "code",
   "execution_count": 67,
   "metadata": {},
   "outputs": [
    {
     "data": {
      "text/plain": [
       "RegularCartesianGrid{Float32}"
      ]
     },
     "execution_count": 67,
     "metadata": {},
     "output_type": "execute_result"
    }
   ],
   "source": [
    "typeof(g32)"
   ]
  },
  {
   "cell_type": "code",
   "execution_count": 83,
   "metadata": {},
   "outputs": [],
   "source": [
    "struct MyCellField4{T,G<:Grid{T}} <: Field{G}\n",
    "    data::AbstractArray{T}\n",
    "    grid::G\n",
    "end"
   ]
  },
  {
   "cell_type": "code",
   "execution_count": 77,
   "metadata": {},
   "outputs": [
    {
     "data": {
      "text/plain": [
       "MyCellField4"
      ]
     },
     "execution_count": 77,
     "metadata": {},
     "output_type": "execute_result"
    }
   ],
   "source": [
    "function MyCellField4(grid, T=Float64)\n",
    "    sz = size(grid)\n",
    "    data = zeros(T, sz)\n",
    "    MyCellField4{T,RegularCartesianGrid{T}}(data, grid)\n",
    "end"
   ]
  },
  {
   "cell_type": "code",
   "execution_count": 78,
   "metadata": {},
   "outputs": [],
   "source": [
    "fc4a, fc4b = MyCellField4(g), MyCellField4(g);"
   ]
  },
  {
   "cell_type": "code",
   "execution_count": 80,
   "metadata": {},
   "outputs": [
    {
     "data": {
      "text/plain": [
       "BenchmarkTools.Trial: \n",
       "  memory estimate:  45.78 MiB\n",
       "  allocs estimate:  3000000\n",
       "  --------------\n",
       "  minimum time:     121.186 ms (0.80% GC)\n",
       "  median time:      125.157 ms (0.81% GC)\n",
       "  mean time:        125.190 ms (0.86% GC)\n",
       "  maximum time:     133.520 ms (0.71% GC)\n",
       "  --------------\n",
       "  samples:          40\n",
       "  evals/sample:     1"
      ]
     },
     "execution_count": 80,
     "metadata": {},
     "output_type": "execute_result"
    }
   ],
   "source": [
    "@benchmark δ2!(g, fc4a, fc4b)"
   ]
  },
  {
   "cell_type": "code",
   "execution_count": 86,
   "metadata": {},
   "outputs": [],
   "source": [
    "struct MyCellField6{T<:AbstractFloat}\n",
    "    data::Array{T}\n",
    "    grid::Grid\n",
    "end"
   ]
  },
  {
   "cell_type": "code",
   "execution_count": 87,
   "metadata": {},
   "outputs": [
    {
     "data": {
      "text/plain": [
       "MyCellField6"
      ]
     },
     "execution_count": 87,
     "metadata": {},
     "output_type": "execute_result"
    }
   ],
   "source": [
    "function MyCellField6(grid, T=Float64)\n",
    "    sz = size(grid)\n",
    "    data = zeros(T, sz)\n",
    "    MyCellField6{T}(data, grid)\n",
    "end"
   ]
  },
  {
   "cell_type": "code",
   "execution_count": 91,
   "metadata": {},
   "outputs": [],
   "source": [
    "fc6a, fc6b = MyCellField6(g), MyCellField6(g);"
   ]
  },
  {
   "cell_type": "code",
   "execution_count": 92,
   "metadata": {},
   "outputs": [
    {
     "data": {
      "text/plain": [
       "BenchmarkTools.Trial: \n",
       "  memory estimate:  45.78 MiB\n",
       "  allocs estimate:  3000000\n",
       "  --------------\n",
       "  minimum time:     114.667 ms (0.86% GC)\n",
       "  median time:      120.158 ms (0.84% GC)\n",
       "  mean time:        122.610 ms (0.89% GC)\n",
       "  maximum time:     149.093 ms (0.83% GC)\n",
       "  --------------\n",
       "  samples:          41\n",
       "  evals/sample:     1"
      ]
     },
     "execution_count": 92,
     "metadata": {},
     "output_type": "execute_result"
    }
   ],
   "source": [
    "@benchmark δ2!(g, fc6a, fc6b)"
   ]
  },
  {
   "cell_type": "code",
   "execution_count": 93,
   "metadata": {},
   "outputs": [],
   "source": [
    "struct MyCellField7{T<:AbstractArray}\n",
    "    data::T\n",
    "    grid::Grid\n",
    "end"
   ]
  },
  {
   "cell_type": "code",
   "execution_count": 96,
   "metadata": {},
   "outputs": [
    {
     "data": {
      "text/plain": [
       "MyCellField7"
      ]
     },
     "execution_count": 96,
     "metadata": {},
     "output_type": "execute_result"
    }
   ],
   "source": [
    "function MyCellField7(grid, T=Float64, dim=3)\n",
    "    sz = size(grid)\n",
    "    data = zeros(T, sz)\n",
    "    MyCellField7{Array{T,dim}}(data, grid)\n",
    "end"
   ]
  },
  {
   "cell_type": "code",
   "execution_count": 97,
   "metadata": {},
   "outputs": [],
   "source": [
    "fc7a, fc7b = MyCellField7(g), MyCellField7(g);"
   ]
  },
  {
   "cell_type": "code",
   "execution_count": 115,
   "metadata": {},
   "outputs": [
    {
     "data": {
      "text/plain": [
       "BenchmarkTools.Trial: \n",
       "  memory estimate:  0 bytes\n",
       "  allocs estimate:  0\n",
       "  --------------\n",
       "  minimum time:     4.531 ms (0.00% GC)\n",
       "  median time:      5.073 ms (0.00% GC)\n",
       "  mean time:        5.282 ms (0.00% GC)\n",
       "  maximum time:     15.275 ms (0.00% GC)\n",
       "  --------------\n",
       "  samples:          945\n",
       "  evals/sample:     1"
      ]
     },
     "execution_count": 115,
     "metadata": {},
     "output_type": "execute_result"
    }
   ],
   "source": [
    "Base.getindex(f::MyCellField7, inds...) = Base.getindex(f.data, inds...)\n",
    "Base.setindex!(f::MyCellField7, v, inds...) = Base.setindex!(f.data, v, inds...)\n",
    "@benchmark δ1!(g, fc7a, fc7b)"
   ]
  },
  {
   "cell_type": "code",
   "execution_count": 102,
   "metadata": {},
   "outputs": [
    {
     "data": {
      "text/plain": [
       "BenchmarkTools.Trial: \n",
       "  memory estimate:  0 bytes\n",
       "  allocs estimate:  0\n",
       "  --------------\n",
       "  minimum time:     1.632 ms (0.00% GC)\n",
       "  median time:      1.833 ms (0.00% GC)\n",
       "  mean time:        1.910 ms (0.00% GC)\n",
       "  maximum time:     3.778 ms (0.00% GC)\n",
       "  --------------\n",
       "  samples:          2606\n",
       "  evals/sample:     1"
      ]
     },
     "execution_count": 102,
     "metadata": {},
     "output_type": "execute_result"
    }
   ],
   "source": [
    "@benchmark δ2!(g, fc7a, fc7b)"
   ]
  },
  {
   "cell_type": "code",
   "execution_count": 104,
   "metadata": {},
   "outputs": [
    {
     "data": {
      "text/plain": [
       "(100, 100, 100)"
      ]
     },
     "execution_count": 104,
     "metadata": {},
     "output_type": "execute_result"
    }
   ],
   "source": [
    "size(g)"
   ]
  },
  {
   "cell_type": "code",
   "execution_count": null,
   "metadata": {},
   "outputs": [],
   "source": []
  }
 ],
 "metadata": {
  "kernelspec": {
   "display_name": "Julia 1.0.0",
   "language": "julia",
   "name": "julia-1.0"
  },
  "language_info": {
   "file_extension": ".jl",
   "mimetype": "application/julia",
   "name": "julia",
   "version": "1.0.0"
  }
 },
 "nbformat": 4,
 "nbformat_minor": 2
}
