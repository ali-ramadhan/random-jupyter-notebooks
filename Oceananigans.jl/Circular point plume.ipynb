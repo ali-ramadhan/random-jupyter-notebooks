{
 "cells": [
  {
   "cell_type": "code",
   "execution_count": 3,
   "metadata": {},
   "outputs": [
    {
     "data": {
      "text/plain": [
       "8×8 Array{Float64,2}:\n",
       " 4.24264  3.60555  3.16228  3.0  3.16228  3.60555  4.24264  5.0    \n",
       " 3.60555  2.82843  2.23607  2.0  2.23607  2.82843  3.60555  4.47214\n",
       " 3.16228  2.23607  1.41421  1.0  1.41421  2.23607  3.16228  4.12311\n",
       " 3.0      2.0      1.0      0.0  1.0      2.0      3.0      4.0    \n",
       " 3.16228  2.23607  1.41421  1.0  1.41421  2.23607  3.16228  4.12311\n",
       " 3.60555  2.82843  2.23607  2.0  2.23607  2.82843  3.60555  4.47214\n",
       " 4.24264  3.60555  3.16228  3.0  3.16228  3.60555  4.24264  5.0    \n",
       " 5.0      4.47214  4.12311  4.0  4.12311  4.47214  5.0      5.65685"
      ]
     },
     "execution_count": 3,
     "metadata": {},
     "output_type": "execute_result"
    }
   ],
   "source": [
    "Nx, Ny = 8, 8\n",
    "xC = reshape(1:Nx, Nx, 1)\n",
    "yC = reshape(1:Ny, 1, Ny)\n",
    "r = @. sqrt((xC - Nx/2)^2 + (yC - Ny/2)^2)"
   ]
  },
  {
   "cell_type": "code",
   "execution_count": 4,
   "metadata": {},
   "outputs": [
    {
     "data": {
      "text/plain": [
       "8×8 Array{Float64,2}:\n",
       " 0.0  0.0  0.0  0.0  0.0  0.0  0.0  0.0\n",
       " 0.0  0.0  0.0  0.0  0.0  0.0  0.0  0.0\n",
       " 0.0  0.0  0.0  0.0  0.0  0.0  0.0  0.0\n",
       " 0.0  0.0  0.0  0.0  0.0  0.0  0.0  0.0\n",
       " 0.0  0.0  0.0  0.0  0.0  0.0  0.0  0.0\n",
       " 0.0  0.0  0.0  0.0  0.0  0.0  0.0  0.0\n",
       " 0.0  0.0  0.0  0.0  0.0  0.0  0.0  0.0\n",
       " 0.0  0.0  0.0  0.0  0.0  0.0  0.0  0.0"
      ]
     },
     "execution_count": 4,
     "metadata": {},
     "output_type": "execute_result"
    }
   ],
   "source": [
    "bottom_flux = zeros(Nx, Ny)"
   ]
  },
  {
   "cell_type": "code",
   "execution_count": 6,
   "metadata": {},
   "outputs": [
    {
     "data": {
      "text/plain": [
       "8×8 BitArray{2}:\n",
       " false  false  false  false  false  false  false  false\n",
       " false  false  false  false  false  false  false  false\n",
       " false  false   true   true   true  false  false  false\n",
       " false  false   true   true   true  false  false  false\n",
       " false  false   true   true   true  false  false  false\n",
       " false  false  false  false  false  false  false  false\n",
       " false  false  false  false  false  false  false  false\n",
       " false  false  false  false  false  false  false  false"
      ]
     },
     "execution_count": 6,
     "metadata": {},
     "output_type": "execute_result"
    }
   ],
   "source": [
    "r .< 1.5"
   ]
  },
  {
   "cell_type": "code",
   "execution_count": 8,
   "metadata": {},
   "outputs": [
    {
     "data": {
      "text/plain": [
       "9-element view(::Array{Float64,1}, [19, 20, 21, 27, 28, 29, 35, 36, 37]) with eltype Float64:\n",
       " 3.141592653589793\n",
       " 3.141592653589793\n",
       " 3.141592653589793\n",
       " 3.141592653589793\n",
       " 3.141592653589793\n",
       " 3.141592653589793\n",
       " 3.141592653589793\n",
       " 3.141592653589793\n",
       " 3.141592653589793"
      ]
     },
     "execution_count": 8,
     "metadata": {},
     "output_type": "execute_result"
    }
   ],
   "source": [
    "bottom_flux[r .< 1.5] .= π"
   ]
  },
  {
   "cell_type": "code",
   "execution_count": 9,
   "metadata": {},
   "outputs": [
    {
     "data": {
      "text/plain": [
       "8×8 Array{Float64,2}:\n",
       " 0.0  0.0  0.0      0.0      0.0      0.0  0.0  0.0\n",
       " 0.0  0.0  0.0      0.0      0.0      0.0  0.0  0.0\n",
       " 0.0  0.0  3.14159  3.14159  3.14159  0.0  0.0  0.0\n",
       " 0.0  0.0  3.14159  3.14159  3.14159  0.0  0.0  0.0\n",
       " 0.0  0.0  3.14159  3.14159  3.14159  0.0  0.0  0.0\n",
       " 0.0  0.0  0.0      0.0      0.0      0.0  0.0  0.0\n",
       " 0.0  0.0  0.0      0.0      0.0      0.0  0.0  0.0\n",
       " 0.0  0.0  0.0      0.0      0.0      0.0  0.0  0.0"
      ]
     },
     "execution_count": 9,
     "metadata": {},
     "output_type": "execute_result"
    }
   ],
   "source": [
    "bottom_flux"
   ]
  },
  {
   "cell_type": "code",
   "execution_count": null,
   "metadata": {},
   "outputs": [],
   "source": []
  }
 ],
 "metadata": {
  "kernelspec": {
   "display_name": "Julia 1.1.0",
   "language": "julia",
   "name": "julia-1.1"
  },
  "language_info": {
   "file_extension": ".jl",
   "mimetype": "application/julia",
   "name": "julia",
   "version": "1.1.0"
  }
 },
 "nbformat": 4,
 "nbformat_minor": 2
}
