{
 "cells": [
  {
   "cell_type": "code",
   "execution_count": 1,
   "metadata": {},
   "outputs": [],
   "source": [
    "using Pkg\n",
    "cd(\"D:\\\\Home\\\\Git\\\\Oceananigans.jl\")\n",
    "# cd(\"C:\\\\Users\\\\Ali\\\\Documents\\\\Git\\\\Oceananigans.jl\\\\\")\n",
    "Pkg.activate(\".\");"
   ]
  },
  {
   "cell_type": "code",
   "execution_count": 2,
   "metadata": {},
   "outputs": [],
   "source": [
    "using Statistics, Printf, BenchmarkTools\n",
    "using Oceananigans, Oceananigans.Operators"
   ]
  },
  {
   "cell_type": "code",
   "execution_count": null,
   "metadata": {},
   "outputs": [],
   "source": [
    "Pkg.test(\"Oceananigans\")"
   ]
  },
  {
   "cell_type": "code",
   "execution_count": 3,
   "metadata": {},
   "outputs": [
    {
     "data": {
      "text/plain": [
       "laplacian3d_ppn (generic function with 1 method)"
      ]
     },
     "execution_count": 3,
     "metadata": {},
     "output_type": "execute_result"
    }
   ],
   "source": [
    "@inline incmod1(a, n) = a == n ? one(a) : a + 1\n",
    "@inline decmod1(a, n) = a == 1 ? n : a - 1\n",
    "\n",
    "function laplacian3d_ppn(f)\n",
    "    Nx, Ny, Nz = size(f)\n",
    "    ∇²f = zeros(Nx, Ny, Nz)\n",
    "    for k in 2:(Nz-1), j in 1:Ny, i in 1:Nx\n",
    "       ∇²f[i, j, k] = f[incmod1(i, Nx), j, k] + f[decmod1(i, Nx), j, k] + f[i, incmod1(j, Ny), k] + f[i, decmod1(j, Ny), k] + f[i, j, k+1] + f[i, j, k-1] - 6*f[i, j, k]\n",
    "    end\n",
    "    for j in 1:Ny, i in 1:Nx\n",
    "        ∇²f[i, j,   1] = -(f[i, j,     1] - f[i, j,   2]) + f[incmod1(i, Nx), j,   1] + f[decmod1(i, Nx), j,   1] + f[i, incmod1(j, Ny),   1] + f[i, decmod1(j, Ny),   1] - 4*f[i, j,   1]\n",
    "        ∇²f[i, j, end] =  (f[i, j, end-1] - f[i, j, end]) + f[incmod1(i, Nx), j, end] + f[decmod1(i, Nx), j, end] + f[i, incmod1(j, Ny), end] + f[i, decmod1(j, Ny), end] - 4*f[i, j, end]\n",
    "    end\n",
    "    ∇²f\n",
    "end"
   ]
  },
  {
   "cell_type": "code",
   "execution_count": 4,
   "metadata": {},
   "outputs": [],
   "source": [
    "# Nᵗ = 18000\n",
    "# Δt = 5  # Time step [s].\n",
    "\n",
    "N = (100, 1, 100)\n",
    "L = (2000, 2000, 2000)\n",
    "\n",
    "c = EarthConstants()\n",
    "eos = LinearEquationOfState()\n",
    "\n",
    "g = RegularCartesianGrid(N, L; dim=2, FloatType=Float64)\n",
    "\n",
    "U  = VelocityFields(g)\n",
    "tr = TracerFields(g)\n",
    "pr = PressureFields(g)\n",
    "G  = SourceTerms(g)\n",
    "Gp = SourceTerms(g)\n",
    "F  = ForcingFields(g)\n",
    "tmp = TemporaryFields(g);"
   ]
  },
  {
   "cell_type": "code",
   "execution_count": 5,
   "metadata": {},
   "outputs": [],
   "source": [
    "U.u.data  .= 0;\n",
    "U.v.data  .= 0;\n",
    "U.w.data  .= 0;\n",
    "tr.S.data .= 35;\n",
    "tr.T.data .= 283;"
   ]
  },
  {
   "cell_type": "code",
   "execution_count": 6,
   "metadata": {},
   "outputs": [],
   "source": [
    "pHY_profile = [-eos.ρ₀*c.g*h for h in g.zC]\n",
    "pr.pHY.data .= repeat(reshape(pHY_profile, 1, 1, g.Nz), g.Nx, g.Ny, 1);\n",
    "\n",
    "ρ!(eos, g, tr)"
   ]
  },
  {
   "cell_type": "code",
   "execution_count": 7,
   "metadata": {},
   "outputs": [],
   "source": [
    "tr.T.data[Int(g.Nx/2)-2:Int(g.Nx/2)+2, 1, 10-2:10+2] .= 283.01;"
   ]
  },
  {
   "cell_type": "code",
   "execution_count": 17,
   "metadata": {},
   "outputs": [
    {
     "data": {
      "text/plain": [
       "time_stepping! (generic function with 1 method)"
      ]
     },
     "execution_count": 17,
     "metadata": {},
     "output_type": "execute_result"
    }
   ],
   "source": [
    "function time_stepping!(g::Grid, eos::LinearEquationOfState,\n",
    "                        U::VelocityFields, tr::TracerFields, pr::PressureFields, G::SourceTerms, Gp::SourceTerms, F::ForcingFields, tmp::TemporaryFields,\n",
    "                        Nt, Δt, R, ΔR)\n",
    "    for n in 1:Nt\n",
    "        # Calculate new density and density deviation.\n",
    "        δρ = tmp.fC1\n",
    "        δρ!(eos, g, δρ, tr)\n",
    "        @. tr.ρ.data = eos.ρ₀ + δρ.data\n",
    "        \n",
    "        # Calculate density at the z-faces.\n",
    "        δρz = tmp.fFZ\n",
    "        avgz!(g, δρ, δρz)\n",
    "        \n",
    "        # Calculate hydrostatic pressure anomaly (buoyancy).\n",
    "        for j in 1:g.Ny, i in 1:g.Nx\n",
    "          pr.pHY′.data[i, j, 1] = δρ.data[i, j, 1] * c.g * g.Δz / 2\n",
    "        end\n",
    "        for k in 2:g.Nz, j in 1:g.Ny, i in 1:g.Nx\n",
    "          pr.pHY′.data[i, j, k] = pr.pHY′.data[i, j, k-1] + (δρz.data[i, j, k] * c.g * g.Δz)\n",
    "        end\n",
    "        \n",
    "        # Store source terms from previous time step.\n",
    "        Gp.Gu.data .= G.Gu.data\n",
    "        Gp.Gv.data .= G.Gv.data\n",
    "        Gp.Gw.data .= G.Gw.data\n",
    "        Gp.GT.data .= G.GT.data\n",
    "        Gp.GS.data .= G.GS.data\n",
    "\n",
    "        # Calculate source terms for current time step.\n",
    "        ∂xpHY′ = tmp.fFX\n",
    "        δx!(g, pr.pHY′, ∂xpHY′)\n",
    "        @. ∂xpHY′.data = ∂xpHY′.data / (g.Δx * eos.ρ₀)\n",
    "        \n",
    "        𝜈∇²u = tmp.fFY\n",
    "        𝜈∇²u!(g, U.u, 𝜈∇²u, 4e-2, 4e-2, tmp)\n",
    "        \n",
    "        @. G.Gu.data .= - ∂xpHY′.data + 𝜈∇²u.data\n",
    "        \n",
    "        ∂ypHY′ = tmp.fFY\n",
    "        δy!(g, pr.pHY′, ∂ypHY′)\n",
    "        @. ∂ypHY′.data = ∂ypHY′.data / (g.Δy * eos.ρ₀)\n",
    "        \n",
    "        𝜈∇²v = tmp.fFX\n",
    "        𝜈∇²v!(g, U.v, 𝜈∇²v, 4e-2, 4e-2, tmp)\n",
    "        \n",
    "        @. G.Gv.data .= - ∂ypHY′.data + 𝜈∇²v.data\n",
    "        \n",
    "        𝜈∇²w = tmp.fFZ\n",
    "        𝜈∇²w!(g, U.w, 𝜈∇²w, 4e-2, 4e-2, tmp)\n",
    "        \n",
    "        @. G.Gw.data = 𝜈∇²w.data\n",
    "        \n",
    "        # ∇uT = tmp.fC1\n",
    "        # div_flux!(g, U.u, U.v, U.w, tr.T, ∇uT, tmp)\n",
    "        \n",
    "        κ∇²T = tmp.fC4\n",
    "        κ∇²!(g, tr.T, κ∇²T, 4e-2, 4e-2, tmp)\n",
    "\n",
    "        @. G.GT.data = κ∇²T.data\n",
    "        # @. G.GT.data = -∇uT.data + κ∇²T.data\n",
    "        \n",
    "        # ∇uS = tmp.fC1\n",
    "        # div_flux!(g, U.u, U.v, U.w, tr.S, ∇uS, tmp)\n",
    "        \n",
    "        κ∇²S = tmp.fC4\n",
    "        κ∇²!(g, tr.S, κ∇²S, 4e-2, 4e-2, tmp)\n",
    "        \n",
    "        @. G.GS.data = κ∇²S.data\n",
    "        # @. G.GS.data = -∇uS.data + κ∇²S.data\n",
    "        \n",
    "        χ = 0.1  # Adams-Bashforth (AB2) parameter.\n",
    "        @. G.Gu.data = (1.5 + χ)*G.Gu.data - (0.5 + χ)*Gp.Gu.data\n",
    "        @. G.Gv.data = (1.5 + χ)*G.Gv.data - (0.5 + χ)*Gp.Gv.data\n",
    "        @. G.Gw.data = (1.5 + χ)*G.Gw.data - (0.5 + χ)*Gp.Gw.data\n",
    "        @. G.GT.data = (1.5 + χ)*G.GT.data - (0.5 + χ)*Gp.GT.data\n",
    "        @. G.GS.data = (1.5 + χ)*G.GS.data - (0.5 + χ)*Gp.GS.data\n",
    "        \n",
    "        RHS = tmp.fCC1\n",
    "        ϕ   = tmp.fCC2\n",
    "        div!(g, G.Gu, G.Gv, G.Gw, RHS, tmp)\n",
    "        solve_poisson_3d_ppn!(g, RHS, ϕ)\n",
    "        @. pr.pNHS.data = real(ϕ.data)\n",
    "        \n",
    "#         div!(g, G.Gu, G.Gv, G.Gw, RHS, tmp)\n",
    "#         RHSr = real.(RHS.data)\n",
    "#         RHS_rec = laplacian3d_ppn(pr.pNHS.data) ./ (g.Δx)^2  # TODO: This assumes Δx == Δy == Δz.\n",
    "#         error = RHS_rec .- RHSr\n",
    "#         @info begin\n",
    "#             string(\"Fourier-spectral solver diagnostics:\\n\",\n",
    "#                     @sprintf(\"RHS:     min=%.6g, max=%.6g, mean=%.6g, absmean=%.6g, std=%.6g\\n\", minimum(RHSr), maximum(RHSr), mean(RHSr), mean(abs.(RHSr)), std(RHSr)),\n",
    "#                     @sprintf(\"RHS_rec: min=%.6g, max=%.6g, mean=%.6g, absmean=%.6g, std=%.6g\\n\", minimum(RHS_rec), maximum(RHS_rec), mean(RHS_rec), mean(abs.(RHS_rec)), std(RHS_rec)),\n",
    "#                     @sprintf(\"error:   min=%.6g, max=%.6g, mean=%.6g, absmean=%.6g, std=%.6g\\n\", minimum(error), maximum(error), mean(error), mean(abs.(error)), std(error))\n",
    "#                     )\n",
    "#         end\n",
    "        \n",
    "        ∂xpNHS, ∂ypNHS, ∂zpNHS = tmp.fFX, tmp.fFY, tmp.fFZ\n",
    "        \n",
    "        δx!(g, pr.pNHS, ∂xpNHS)\n",
    "        δy!(g, pr.pNHS, ∂ypNHS)\n",
    "        δz!(g, pr.pNHS, ∂zpNHS)\n",
    "        \n",
    "        @. ∂xpNHS.data = - ∂xpNHS.data / (g.Δx * eos.ρ₀)\n",
    "        @. ∂ypNHS.data = - ∂ypNHS.data / (g.Δy * eos.ρ₀)\n",
    "        @. ∂zpNHS.data = - ∂zpNHS.data / (g.Δz * eos.ρ₀)\n",
    "        \n",
    "        @. U.u.data  = U.u.data  + (G.Gu.data - ∂xpNHS.data) * Δt\n",
    "        @. U.v.data  = U.v.data  + (G.Gv.data - ∂ypNHS.data) * Δt\n",
    "        @. U.v.data  = U.v.data  + (G.Gw.data - ∂zpNHS.data) * Δt\n",
    "        @. tr.T.data = tr.T.data + (G.GT.data * Δt)\n",
    "        @. tr.S.data = tr.S.data + (G.GS.data * Δt)\n",
    "        \n",
    "        div_u1 = tmp.fC1\n",
    "        div!(g, U.u, U.v, U.w, div_u1, tmp)\n",
    "        \n",
    "        if n % ΔR == 0\n",
    "            # print(\"\\rt=$(n*Δt) / $(Nt*Δt)\")\n",
    "#             @info begin\n",
    "#             string(\"Time: $(n*Δt)\\n\",\n",
    "#                    @sprintf(\"u:   min=%.6g, max=%.6g, mean=%.6g, absmean=%.6g, std=%.6g\\n\", minimum(U.u.data), maximum(U.u.data), mean(U.u.data), mean(abs.(U.u.data)), std(U.u.data)),\n",
    "#                    @sprintf(\"v:   min=%.6g, max=%.6g, mean=%.6g, absmean=%.6g, std=%.6g\\n\", minimum(U.v.data), maximum(U.v.data), mean(U.v.data), mean(abs.(U.v.data)), std(U.v.data)),\n",
    "#                    @sprintf(\"w:   min=%.6g, max=%.6g, mean=%.6g, absmean=%.6g, std=%.6g\\n\", minimum(U.w.data), maximum(U.w.data), mean(U.w.data), mean(abs.(U.w.data)), std(U.w.data)),\n",
    "#                    @sprintf(\"T:   min=%.6g, max=%.6g, mean=%.6g, absmean=%.6g, std=%.6g\\n\", minimum(tr.T.data), maximum(tr.T.data), mean(tr.T.data), mean(abs.(tr.T.data)), std(tr.T.data)),\n",
    "#                    @sprintf(\"S:   min=%.6g, max=%.6g, mean=%.6g, absmean=%.6g, std=%.6g\\n\", minimum(tr.S.data), maximum(tr.S.data), mean(tr.S.data), mean(abs.(tr.S.data)), std(tr.S.data)),\n",
    "#                    @sprintf(\"pHY:  min=%.6g, max=%.6g, mean=%.6g, absmean=%.6g, std=%.6g\\n\", minimum(pr.pHY.data), maximum(pr.pHY.data), mean(pr.pHY.data), mean(abs.(pr.pHY.data)), std(pr.pHY.data)),\n",
    "#                    @sprintf(\"pHY′: min=%.6g, max=%.6g, mean=%.6g, absmean=%.6g, std=%.6g\\n\", minimum(pr.pHY′.data), maximum(pr.pHY′.data), mean(pr.pHY′.data), mean(abs.(pr.pHY′.data)), std(pr.pHY′.data)),\n",
    "#                    @sprintf(\"pNHS: min=%.6g, max=%.6g, mean=%.6g, absmean=%.6g, std=%.6g\\n\", minimum(pr.pNHS.data), maximum(pr.pNHS.data), mean(pr.pNHS.data), mean(abs.(pr.pNHS.data)), std(pr.pNHS.data)),\n",
    "#                    @sprintf(\"ρ:   min=%.6g, max=%.6g, mean=%.6g, absmean=%.6g, std=%.6g\\n\", minimum(tr.ρ.data), maximum(tr.ρ.data), mean(tr.ρ.data), mean(abs.(tr.ρ.data)), std(tr.ρ.data)),\n",
    "#                    @sprintf(\"∇⋅u1:  min=%.6g, max=%.6g, mean=%.6g, absmean=%.6g, std=%.6g\\n\", minimum(div_u1), maximum(div_u1), mean(div_u1), mean(abs.(div_u1)), std(div_u1))\n",
    "#                   )\n",
    "#             end  # @info\n",
    "\n",
    "            Ridx = Int(n/ΔR)\n",
    "            R.u[Ridx, :, :, :] = copy(U.u.data)\n",
    "            # Rv[n, :, :, :] = copy(vⁿ)\n",
    "            R.w[Ridx, :, :, :] = copy(U.w.data)\n",
    "            R.T[Ridx, :, :, :] = copy(tr.T.data)\n",
    "            # RS[n, :, :, :] = copy(Sⁿ)\n",
    "            R.ρ[Ridx, :, :, :] = copy(tr.ρ.data)\n",
    "            # RpHY′[n, :, :, :] = copy(pʰʸ′)\n",
    "            # R.pNHS[Ridx, :, :, :] = copy(pⁿʰ⁺ˢ)\n",
    "        end\n",
    "    end\n",
    "end"
   ]
  },
  {
   "cell_type": "code",
   "execution_count": 18,
   "metadata": {},
   "outputs": [
    {
     "data": {
      "text/plain": [
       "SavedFields"
      ]
     },
     "execution_count": 18,
     "metadata": {},
     "output_type": "execute_result"
    }
   ],
   "source": [
    "struct SavedFields\n",
    "    u::Array{Float64,4}\n",
    "    w::Array{Float64,4}\n",
    "    T::Array{Float64,4}\n",
    "    ρ::Array{Float64,4}\n",
    "end\n",
    "\n",
    "function SavedFields(g, Nt, ΔR)\n",
    "    u = zeros(Int(Nt/ΔR), g.Nx, g.Ny, g.Nz)\n",
    "    w = zeros(Int(Nt/ΔR), g.Nx, g.Ny, g.Nz)\n",
    "    T = zeros(Int(Nt/ΔR), g.Nx, g.Ny, g.Nz)\n",
    "    ρ = zeros(Int(Nt/ΔR), g.Nx, g.Ny, g.Nz)\n",
    "    SavedFields(u, w, T, ρ)\n",
    "end"
   ]
  },
  {
   "cell_type": "code",
   "execution_count": 26,
   "metadata": {},
   "outputs": [
    {
     "name": "stdout",
     "output_type": "stream",
     "text": [
      "  7.593540 seconds (133.35 M allocations: 2.162 GiB, 4.00% gc time)\n"
     ]
    }
   ],
   "source": [
    "Nt = 1000\n",
    "Δt = 30\n",
    "ΔR = 10\n",
    "R  = SavedFields(g, Nt, ΔR)\n",
    "\n",
    "@time time_stepping!(g, eos, U, tr, pr, G, Gp, F, tmp, Nt, Δt, R, ΔR)"
   ]
  },
  {
   "cell_type": "code",
   "execution_count": 20,
   "metadata": {},
   "outputs": [
    {
     "data": {
      "text/html": [
       "    <script id=\"webio-setup-5520353817753545206\">\n",
       "    // Immediately-invoked-function-expression to avoid global variables.\n",
       "    (function() {\n",
       "        var warning_div = document.getElementById(\"webio-warning-3666222705918054236\");\n",
       "        var hide = function () {\n",
       "            var script = document.getElementById(\"webio-setup-5520353817753545206\");\n",
       "            var parent = script && script.parentElement;\n",
       "            var grandparent = parent && parent.parentElement;\n",
       "            if (grandparent) {\n",
       "                grandparent.style.display = \"none\";\n",
       "            }\n",
       "            warning_div.style.display = \"none\";\n",
       "        };\n",
       "        if (window.require && require.defined) {\n",
       "            // Jupyter notebook.\n",
       "            if (require.defined(\"nbextensions/webio/main\")\n",
       "                    || require.defined(\"/assetserver/28f5f30a59da434290b7f09bd0d0ddea74a5f34e-dist/main.js\")) {\n",
       "                // Extension already loaded.\n",
       "                hide();\n",
       "                return;\n",
       "            }\n",
       "            console.warn(\"Loading WebIO Jupyter extension on an ad-hoc basis. Consider enabling the WebIO nbextension for a stabler experience (this should happen automatically when building WebIO).\");\n",
       "            require([\"/assetserver/28f5f30a59da434290b7f09bd0d0ddea74a5f34e-dist/main.js\"], function (webIOModule) {\n",
       "                webIOModule.load_ipython_extension();\n",
       "            });\n",
       "            warning_div.innerHTML = \"<strong>Loading WebIO Jupyter extension on an ad-hoc basis. Consider enabling the WebIO nbextension for a stabler experience (this should happen automatically when building WebIO).</strong>\";\n",
       "        } else if (window.location.pathname.includes(\"/lab\")) {\n",
       "            // Guessing JupyterLab\n",
       "            warning_div.innerHTML = \"WebIO does not support JupyterLab yet.\";\n",
       "        }\n",
       "    })();\n",
       "    </script>\n",
       "    <div\n",
       "        id=\"webio-warning-3666222705918054236\"\n",
       "        class=\"output_text output_stderr\"\n",
       "        style=\"padding: 1em; font-weight: bold;\"\n",
       "    >\n",
       "        Unable to load WebIO. Please make sure WebIO works for your Jupyter client.\n",
       "        <!-- TODO: link to installation docs. -->\n",
       "    </div>\n"
      ],
      "text/plain": [
       "HTML{String}(\"    <script id=\\\"webio-setup-5520353817753545206\\\">\\n    // Immediately-invoked-function-expression to avoid global variables.\\n    (function() {\\n        var warning_div = document.getElementById(\\\"webio-warning-3666222705918054236\\\");\\n        var hide = function () {\\n            var script = document.getElementById(\\\"webio-setup-5520353817753545206\\\");\\n            var parent = script && script.parentElement;\\n            var grandparent = parent && parent.parentElement;\\n            if (grandparent) {\\n                grandparent.style.display = \\\"none\\\";\\n            }\\n            warning_div.style.display = \\\"none\\\";\\n        };\\n        if (window.require && require.defined) {\\n            // Jupyter notebook.\\n            if (require.defined(\\\"nbextensions/webio/main\\\")\\n                    || require.defined(\\\"/assetserver/28f5f30a59da434290b7f09bd0d0ddea74a5f34e-dist/main.js\\\")) {\\n                // Extension already loaded.\\n                hide();\\n                return;\\n            }\\n            console.warn(\\\"Loading WebIO Jupyter extension on an ad-hoc basis. Consider enabling the WebIO nbextension for a stabler experience (this should happen automatically when building WebIO).\\\");\\n            require([\\\"/assetserver/28f5f30a59da434290b7f09bd0d0ddea74a5f34e-dist/main.js\\\"], function (webIOModule) {\\n                webIOModule.load_ipython_extension();\\n            });\\n            warning_div.innerHTML = \\\"<strong>Loading WebIO Jupyter extension on an ad-hoc basis. Consider enabling the WebIO nbextension for a stabler experience (this should happen automatically when building WebIO).</strong>\\\";\\n        } else if (window.location.pathname.includes(\\\"/lab\\\")) {\\n            // Guessing JupyterLab\\n            warning_div.innerHTML = \\\"WebIO does not support JupyterLab yet.\\\";\\n        }\\n    })();\\n    </script>\\n    <div\\n        id=\\\"webio-warning-3666222705918054236\\\"\\n        class=\\\"output_text output_stderr\\\"\\n        style=\\\"padding: 1em; font-weight: bold;\\\"\\n    >\\n        Unable to load WebIO. Please make sure WebIO works for your Jupyter client.\\n        <!-- TODO: link to installation docs. -->\\n    </div>\\n\")"
      ]
     },
     "metadata": {},
     "output_type": "display_data"
    },
    {
     "data": {
      "text/plain": [
       "Plots.GRBackend()"
      ]
     },
     "execution_count": 20,
     "metadata": {},
     "output_type": "execute_result"
    }
   ],
   "source": [
    "import PyPlot\n",
    "using Interact, Plots\n",
    "Plots.gr()"
   ]
  },
  {
   "cell_type": "code",
   "execution_count": 27,
   "metadata": {},
   "outputs": [
    {
     "data": {
      "image/png": "[encoded data removed]",
      "text/plain": [
       "PyPlot.Figure(PyObject <Figure size 640x480 with 2 Axes>)"
      ]
     },
     "metadata": {},
     "output_type": "display_data"
    }
   ],
   "source": [
    "PyPlot.pcolormesh(g.xC, g.zC, rotr90(R.T[end, :, 1, :]) .- 283, vmin=-0.01, vmax=0.01, cmap=\"seismic\"); PyPlot.colorbar();"
   ]
  },
  {
   "cell_type": "code",
   "execution_count": 28,
   "metadata": {},
   "outputs": [
    {
     "name": "stderr",
     "output_type": "stream",
     "text": [
      "┌ Info: Saved animation to \n",
      "│   fn = D:\\Home\\Git\\Oceananigans.jl\\tracer_1544812403.mp4\n",
      "└ @ Plots C:\\Users\\Ali\\.julia\\packages\\Plots\\y6yik\\src\\animation.jl:90\n"
     ]
    },
    {
     "data": {
      "text/html": [
       "<video controls><source src=\"tracer_1544812403.mp4?0.7446439199165866>\" type=\"video/mp4\"></video>"
      ],
      "text/plain": [
       "Plots.AnimatedGif(\"D:\\\\Home\\\\Git\\\\Oceananigans.jl\\\\tracer_1544812403.mp4\")"
      ]
     },
     "execution_count": 28,
     "metadata": {},
     "output_type": "execute_result"
    }
   ],
   "source": [
    "anim = @animate for tidx in 1:Int(Nt/ΔR)\n",
    "    Plots.heatmap(g.xC, g.zC, rotl90(R.T[tidx, :, 1, :]) .- 283, color=:balance,\n",
    "        clims=(-0.01, 0.01),\n",
    "        # clims=(-maximum(R.T[tidx, :, 1, :] .- 283), maximum(R.T[tidx, :, 1, :] .- 283)),\n",
    "        title=\"T change @ t=$(tidx*ΔR*Δt)\")\n",
    "end\n",
    "mp4(anim, \"tracer_$(round(Int, time())).mp4\", fps = 60)"
   ]
  },
  {
   "cell_type": "code",
   "execution_count": null,
   "metadata": {},
   "outputs": [],
   "source": []
  }
 ],
 "metadata": {
  "kernelspec": {
   "display_name": "Julia 1.0.0",
   "language": "julia",
   "name": "julia-1.0"
  },
  "language_info": {
   "file_extension": ".jl",
   "mimetype": "application/julia",
   "name": "julia",
   "version": "1.0.0"
  }
 },
 "nbformat": 4,
 "nbformat_minor": 2
}
