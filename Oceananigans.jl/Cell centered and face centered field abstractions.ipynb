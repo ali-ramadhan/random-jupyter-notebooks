{
 "cells": [
  {
   "cell_type": "code",
   "execution_count": 1,
   "metadata": {},
   "outputs": [],
   "source": [
    "abstract type Field{T,d} <: AbstractArray{T,d} end"
   ]
  },
  {
   "cell_type": "code",
   "execution_count": 2,
   "metadata": {},
   "outputs": [],
   "source": [
    "struct ZoneField{T <: AbstractFloat, d <: Int} <: Field{T,d}\n",
    "    f::Array\n",
    "end"
   ]
  },
  {
   "cell_type": "code",
   "execution_count": 3,
   "metadata": {},
   "outputs": [
    {
     "data": {
      "text/plain": [
       "ZoneField3D (generic function with 1 method)"
      ]
     },
     "execution_count": 3,
     "metadata": {},
     "output_type": "execute_result"
    }
   ],
   "source": [
    "function ZoneField3D(Nx, Ny, Nz, T)\n",
    "    f = Array{T,3}(undef, Nx, Ny, Nz)\n",
    "    ZoneField{T,3}(f)\n",
    "end"
   ]
  },
  {
   "cell_type": "code",
   "execution_count": 4,
   "metadata": {},
   "outputs": [
    {
     "ename": "TypeError",
     "evalue": "TypeError: in ZoneField, in d, expected d<:Int64, got Int64",
     "output_type": "error",
     "traceback": [
      "TypeError: in ZoneField, in d, expected d<:Int64, got Int64",
      "",
      "Stacktrace:",
      " [1] ZoneField3D(::Int64, ::Int64, ::Int64, ::Type) at .\\In[3]:3",
      " [2] top-level scope at In[4]:1"
     ]
    }
   ],
   "source": [
    "S = ZoneField3D(100, 100, 50, Float64)"
   ]
  },
  {
   "cell_type": "code",
   "execution_count": 8,
   "metadata": {},
   "outputs": [
    {
     "ename": "TypeError",
     "evalue": "TypeError: in ZoneField, in d, expected d<:Int64, got Int64",
     "output_type": "error",
     "traceback": [
      "TypeError: in ZoneField, in d, expected d<:Int64, got Int64",
      "",
      "Stacktrace:",
      " [1] top-level scope at In[8]:1"
     ]
    }
   ],
   "source": [
    "f = ZoneField{Float64, 4}"
   ]
  },
  {
   "cell_type": "code",
   "execution_count": 7,
   "metadata": {},
   "outputs": [
    {
     "ename": "ErrorException",
     "evalue": "type DataType has no field f",
     "output_type": "error",
     "traceback": [
      "type DataType has no field f",
      "",
      "Stacktrace:",
      " [1] getproperty(::Type, ::Symbol) at .\\sysimg.jl:15",
      " [2] top-level scope at In[7]:1"
     ]
    }
   ],
   "source": []
  },
  {
   "cell_type": "code",
   "execution_count": null,
   "metadata": {},
   "outputs": [],
   "source": []
  }
 ],
 "metadata": {
  "kernelspec": {
   "display_name": "Julia 1.0.0",
   "language": "julia",
   "name": "julia-1.0"
  },
  "language_info": {
   "file_extension": ".jl",
   "mimetype": "application/julia",
   "name": "julia",
   "version": "1.0.0"
  }
 },
 "nbformat": 4,
 "nbformat_minor": 2
}
