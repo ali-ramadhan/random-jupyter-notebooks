{
 "cells": [
  {
   "cell_type": "code",
   "execution_count": 28,
   "metadata": {
    "collapsed": true
   },
   "outputs": [],
   "source": [
    "using Statistics: mean\n",
    "\n",
    "import FFTW\n",
    "\n",
    "using Interact\n",
    "using PyPlot"
   ]
  },
  {
   "cell_type": "code",
   "execution_count": 52,
   "metadata": {},
   "outputs": [
    {
     "data": {
      "text/plain": [
       "solve_poisson_3d_pbc (generic function with 1 method)"
      ]
     },
     "execution_count": 52,
     "metadata": {},
     "output_type": "execute_result"
    }
   ],
   "source": [
    "function solve_poisson_3d_pbc(f, Lx, Ly, Lz)\n",
    "    Nx, Ny, Nz = size(f)  # Number of grid points (excluding the periodic end point).\n",
    "\n",
    "    # Forward transform the real-valued source term.\n",
    "    fh = FFTW.rfft(f)\n",
    "\n",
    "    # Wavenumber indices.    \n",
    "    l1 = 0:Int(Nx/2)\n",
    "    l2 = Int(-Nx/2 + 1):-1\n",
    "    m1 = 0:Int(Ny/2)\n",
    "    m2 = Int(-Ny/2 + 1):-1\n",
    "    n1 = 0:Int(Nz/2)\n",
    "    n2 = Int(-Nz/2 + 1):-1\n",
    "\n",
    "    kx = reshape((2π/Lx) * cat(l1, l2, dims=1), (Nx, 1, 1))\n",
    "    ky = reshape((2π/Ly) * cat(m1, m2, dims=1), (1, Ny, 1))\n",
    "    kz = reshape((2π/Ly) * cat(n1, n2, dims=1), (1, 1, Nz))\n",
    "\n",
    "    k² = @. kx^2 + ky^2 + kz^2\n",
    "\n",
    "    ϕh = - fh ./ k²[1:Int(Nx/2 + 1), :, :]\n",
    "\n",
    "    # Setting the DC/zero Fourier component to zero.\n",
    "    ϕh[1, 1, 1] = 0\n",
    "\n",
    "    # Take the inverse transform of the solution's Fourier coefficients.\n",
    "    ϕ = FFTW.irfft(ϕh, Nx)\n",
    "end"
   ]
  },
  {
   "cell_type": "code",
   "execution_count": 51,
   "metadata": {},
   "outputs": [
    {
     "name": "stdout",
     "output_type": "stream",
     "text": [
      "size(fh) = (33, 64, 64)\n"
     ]
    }
   ],
   "source": [
    "Lx, Ly, Lz = 8, 8, 8  # Domain size.\n",
    "Nx, Ny, Nz = 64, 64, 64    # Number of grid points.\n",
    "Δx, Δy, Δz = Lx/Nx, Ly/Ny, Lz/Nz  # Grid spacing.\n",
    "\n",
    "# Grid point locations.\n",
    "x = Δx * (0:(Nx-1))\n",
    "y = Δy * (0:(Ny-1))\n",
    "z = Δz * (0:(Nz-1))\n",
    "\n",
    "# Primed coordinates to easily calculate a Gaussian centered at\n",
    "# (Lx/2, Ly/2).\n",
    "x′ = reshape(x .- Lx/2, (Nx, 1, 1))\n",
    "y′ = reshape(y .- Ly/2, (1, Ny, 1))\n",
    "z′ = reshape(z .- Lz/2, (1, 1, Nz))\n",
    "\n",
    "f = @. (4*x′^2 + 4*y′^2 + 4*z′^2 - 6) * exp(-(x′^2 + y′^2 + z′^2))  # Source term\n",
    "f .= f .- mean(f)  # Ensure that source term integrates to zero.\n",
    "\n",
    "ϕa = @. exp(-(x′^2 + y′^2 + z′^2))  # Analytic solution\n",
    "\n",
    "ϕs = solve_poisson_3d_pbc(f, Lx, Ly, Lz);"
   ]
  },
  {
   "cell_type": "code",
   "execution_count": 46,
   "metadata": {},
   "outputs": [
    {
     "data": {
      "application/vnd.webio.node+json": {
       "children": [
        {
         "children": [
          {
           "children": [
            {
             "children": [
              {
               "children": [
                {
                 "children": [
                  "n"
                 ],
                 "instanceArgs": {
                  "namespace": "html",
                  "tag": "label"
                 },
                 "nodeType": "DOM",
                 "props": {
                  "className": "interact ",
                  "style": {
                   "padding": "5px 10px 0px 10px"
                  }
                 },
                 "type": "node"
                }
               ],
               "instanceArgs": {
                "namespace": "html",
                "tag": "div"
               },
               "nodeType": "DOM",
               "props": {
                "attributes": {
                 "style": "text-align:right;width:18%"
                }
               },
               "type": "node"
              },
              {
               "children": [
                {
                 "children": [],
                 "instanceArgs": {
                  "namespace": "html",
                  "tag": "input"
                 },
                 "nodeType": "DOM",
                 "props": {
                  "attributes": {
                   "data-bind": "numericValue: value, valueUpdate: 'input', event: {change : function () {this.changes(this.changes()+1)}}",
                   "orient": "horizontal",
                   "type": "range"
                  },
                  "className": "slider slider is-fullwidth",
                  "max": 64,
                  "min": 1,
                  "step": 1,
                  "style": {}
                 },
                 "type": "node"
                }
               ],
               "instanceArgs": {
                "namespace": "html",
                "tag": "div"
               },
               "nodeType": "DOM",
               "props": {
                "attributes": {
                 "style": "flex-grow:1; margin: 0 2%"
                }
               },
               "type": "node"
              },
              {
               "children": [
                {
                 "children": [],
                 "instanceArgs": {
                  "namespace": "html",
                  "tag": "p"
                 },
                 "nodeType": "DOM",
                 "props": {
                  "attributes": {
                   "data-bind": "text: value"
                  }
                 },
                 "type": "node"
                }
               ],
               "instanceArgs": {
                "namespace": "html",
                "tag": "div"
               },
               "nodeType": "DOM",
               "props": {
                "attributes": {
                 "style": "width:18%"
                }
               },
               "type": "node"
              }
             ],
             "instanceArgs": {
              "namespace": "html",
              "tag": "div"
             },
             "nodeType": "DOM",
             "props": {
              "attributes": {
               "style": "display:flex; justify-content:center; align-items:center;"
              }
             },
             "type": "node"
            }
           ],
           "instanceArgs": {
            "handlers": {
             "_promises": {
              "importsLoaded": [
               "function (ko, koPunches) {\n    ko.punches.enableAll();\n    ko.bindingHandlers.numericValue = {\n        init : function(element, valueAccessor, allBindings, data, context) {\n            var stringified = ko.observable(ko.unwrap(valueAccessor()));\n            stringified.subscribe(function(value) {\n                var val = parseFloat(value);\n                if (!isNaN(val)) {\n                    valueAccessor()(val);\n                }\n            })\n            valueAccessor().subscribe(function(value) {\n                var str = JSON.stringify(value);\n                if ((str == \"0\") && ([\"-0\", \"-0.\"].indexOf(stringified()) >= 0))\n                     return;\n                 if ([\"null\", \"\"].indexOf(str) >= 0)\n                     return;\n                stringified(str);\n            })\n            ko.applyBindingsToNode(element, { value: stringified, valueUpdate: allBindings.get('valueUpdate')}, context);\n        }\n    };\n    var json_data = JSON.parse(\"{\\\"changes\\\":0,\\\"value\\\":32}\");\n    var self = this;\n    function AppViewModel() {\n        for (var key in json_data) {\n            var el = json_data[key];\n            this[key] = Array.isArray(el) ? ko.observableArray(el) : ko.observable(el);\n        }\n        \n        \n        [this[\"changes\"].subscribe((function (val){!(this.valueFromJulia[\"changes\"]) ? (WebIO.setval({\"name\":\"changes\",\"scope\":\"knockout-component-71d21e90-8054-44e1-8f28-10ea55269c5b\",\"id\":\"ob_38\",\"type\":\"observable\"},val)) : undefined; return this.valueFromJulia[\"changes\"]=false}),self),this[\"value\"].subscribe((function (val){!(this.valueFromJulia[\"value\"]) ? (WebIO.setval({\"name\":\"value\",\"scope\":\"knockout-component-71d21e90-8054-44e1-8f28-10ea55269c5b\",\"id\":\"ob_37\",\"type\":\"observable\"},val)) : undefined; return this.valueFromJulia[\"value\"]=false}),self)]\n        \n    }\n    self.model = new AppViewModel();\n    self.valueFromJulia = {};\n    for (var key in json_data) {\n        self.valueFromJulia[key] = false;\n    }\n    ko.applyBindings(self.model, self.dom);\n}\n"
              ]
             },
             "changes": [
              "(function (val){return (val!=this.model[\"changes\"]()) ? (this.valueFromJulia[\"changes\"]=true, this.model[\"changes\"](val)) : undefined})"
             ],
             "value": [
              "(function (val){return (val!=this.model[\"value\"]()) ? (this.valueFromJulia[\"value\"]=true, this.model[\"value\"](val)) : undefined})"
             ]
            },
            "id": "knockout-component-71d21e90-8054-44e1-8f28-10ea55269c5b",
            "imports": {
             "data": [
              {
               "name": "knockout",
               "type": "js",
               "url": "/assetserver/d10dea684c7287acd466465fb49a444aaefd0a90-knockout.js"
              },
              {
               "name": "knockout_punches",
               "type": "js",
               "url": "/assetserver/679b3f1a575e726ae06ec067c6f26a9cfcec2eb5-knockout_punches.js"
              },
              {
               "name": null,
               "type": "js",
               "url": "/assetserver/bd7a992a16365bf84c1a00c7a8f2bd69bea8b31d-all.js"
              },
              {
               "name": null,
               "type": "css",
               "url": "/assetserver/c09c1362a25da710e095846a1811f27ac21bbf6f-style.css"
              },
              {
               "name": null,
               "type": "css",
               "url": "/assetserver/2ccc2c2ab29565bde6604cd2a5b2b134f6b47acb-main.css"
              }
             ],
             "type": "async_block"
            },
            "observables": {
             "changes": {
              "id": "ob_38",
              "sync": false,
              "value": 0
             },
             "value": {
              "id": "ob_37",
              "sync": true,
              "value": 32
             }
            },
            "systemjs_options": null
           },
           "nodeType": "Scope",
           "props": {},
           "type": "node"
          }
         ],
         "instanceArgs": {
          "namespace": "html",
          "tag": "div"
         },
         "nodeType": "DOM",
         "props": {
          "className": "field"
         },
         "type": "node"
        },
        {
         "children": [
          {
           "children": [],
           "instanceArgs": {
            "id": "ob_43",
            "name": "obs-node"
           },
           "nodeType": "ObservableNode",
           "props": {},
           "type": "node"
          }
         ],
         "instanceArgs": {
          "handlers": {},
          "id": "scope-61114591-6ec9-4c75-9c22-4e93a8a0b348",
          "imports": {
           "data": [],
           "type": "async_block"
          },
          "observables": {
           "obs-node": {
            "id": "ob_43",
            "sync": false,
            "value": {
             "children": [
              {
               "children": [],
               "instanceArgs": {
                "namespace": "html",
                "tag": "div"
               },
               "nodeType": "DOM",
               "props": {
                "setInnerHtml": "<img src='data:image/png;base64,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'></img>"
               },
               "type": "node"
              }
             ],
             "instanceArgs": {
              "namespace": "html",
              "tag": "div"
             },
             "nodeType": "DOM",
             "props": {
              "attributes": {
               "style": "display:flex; justify-content:center; align-items:center;"
              }
             },
             "type": "node"
            }
           }
          },
          "systemjs_options": null
         },
         "nodeType": "Scope",
         "props": {},
         "type": "node"
        }
       ],
       "instanceArgs": {
        "namespace": "html",
        "tag": "div"
       },
       "nodeType": "DOM",
       "props": {},
       "type": "node"
      },
      "text/html": [
       "<div\n",
       "    class=\"webio-mountpoint\"\n",
       "    data-webio-mountpoint=\"2547606656686813599\"\n",
       ">\n",
       "    <script>\n",
       "    if (window.require && require.defined && require.defined(\"nbextensions/webio/main\")) {\n",
       "        console.log(\"Jupyter WebIO extension detected, not mounting.\");\n",
       "    } else if (window.WebIO) {\n",
       "        WebIO.mount(\n",
       "            document.querySelector('[data-webio-mountpoint=\"2547606656686813599\"]'),\n",
       "            {\"props\":{},\"nodeType\":\"DOM\",\"type\":\"node\",\"instanceArgs\":{\"namespace\":\"html\",\"tag\":\"div\"},\"children\":[{\"props\":{\"className\":\"field\"},\"nodeType\":\"DOM\",\"type\":\"node\",\"instanceArgs\":{\"namespace\":\"html\",\"tag\":\"div\"},\"children\":[{\"props\":{},\"nodeType\":\"Scope\",\"type\":\"node\",\"instanceArgs\":{\"imports\":{\"data\":[{\"name\":\"knockout\",\"type\":\"js\",\"url\":\"\\/assetserver\\/d10dea684c7287acd466465fb49a444aaefd0a90-knockout.js\"},{\"name\":\"knockout_punches\",\"type\":\"js\",\"url\":\"\\/assetserver\\/679b3f1a575e726ae06ec067c6f26a9cfcec2eb5-knockout_punches.js\"},{\"name\":null,\"type\":\"js\",\"url\":\"\\/assetserver\\/bd7a992a16365bf84c1a00c7a8f2bd69bea8b31d-all.js\"},{\"name\":null,\"type\":\"css\",\"url\":\"\\/assetserver\\/c09c1362a25da710e095846a1811f27ac21bbf6f-style.css\"},{\"name\":null,\"type\":\"css\",\"url\":\"\\/assetserver\\/2ccc2c2ab29565bde6604cd2a5b2b134f6b47acb-main.css\"}],\"type\":\"async_block\"},\"id\":\"knockout-component-71d21e90-8054-44e1-8f28-10ea55269c5b\",\"handlers\":{\"_promises\":{\"importsLoaded\":[\"function (ko, koPunches) {\\n    ko.punches.enableAll();\\n    ko.bindingHandlers.numericValue = {\\n        init : function(element, valueAccessor, allBindings, data, context) {\\n            var stringified = ko.observable(ko.unwrap(valueAccessor()));\\n            stringified.subscribe(function(value) {\\n                var val = parseFloat(value);\\n                if (!isNaN(val)) {\\n                    valueAccessor()(val);\\n                }\\n            })\\n            valueAccessor().subscribe(function(value) {\\n                var str = JSON.stringify(value);\\n                if ((str == \\\"0\\\") && ([\\\"-0\\\", \\\"-0.\\\"].indexOf(stringified()) >= 0))\\n                     return;\\n                 if ([\\\"null\\\", \\\"\\\"].indexOf(str) >= 0)\\n                     return;\\n                stringified(str);\\n            })\\n            ko.applyBindingsToNode(element, { value: stringified, valueUpdate: allBindings.get('valueUpdate')}, context);\\n        }\\n    };\\n    var json_data = JSON.parse(\\\"{\\\\\\\"changes\\\\\\\":0,\\\\\\\"value\\\\\\\":32}\\\");\\n    var self = this;\\n    function AppViewModel() {\\n        for (var key in json_data) {\\n            var el = json_data[key];\\n            this[key] = Array.isArray(el) ? ko.observableArray(el) : ko.observable(el);\\n        }\\n        \\n        \\n        [this[\\\"changes\\\"].subscribe((function (val){!(this.valueFromJulia[\\\"changes\\\"]) ? (WebIO.setval({\\\"name\\\":\\\"changes\\\",\\\"scope\\\":\\\"knockout-component-71d21e90-8054-44e1-8f28-10ea55269c5b\\\",\\\"id\\\":\\\"ob_38\\\",\\\"type\\\":\\\"observable\\\"},val)) : undefined; return this.valueFromJulia[\\\"changes\\\"]=false}),self),this[\\\"value\\\"].subscribe((function (val){!(this.valueFromJulia[\\\"value\\\"]) ? (WebIO.setval({\\\"name\\\":\\\"value\\\",\\\"scope\\\":\\\"knockout-component-71d21e90-8054-44e1-8f28-10ea55269c5b\\\",\\\"id\\\":\\\"ob_37\\\",\\\"type\\\":\\\"observable\\\"},val)) : undefined; return this.valueFromJulia[\\\"value\\\"]=false}),self)]\\n        \\n    }\\n    self.model = new AppViewModel();\\n    self.valueFromJulia = {};\\n    for (var key in json_data) {\\n        self.valueFromJulia[key] = false;\\n    }\\n    ko.applyBindings(self.model, self.dom);\\n}\\n\"]},\"changes\":[\"(function (val){return (val!=this.model[\\\"changes\\\"]()) ? (this.valueFromJulia[\\\"changes\\\"]=true, this.model[\\\"changes\\\"](val)) : undefined})\"],\"value\":[\"(function (val){return (val!=this.model[\\\"value\\\"]()) ? (this.valueFromJulia[\\\"value\\\"]=true, this.model[\\\"value\\\"](val)) : undefined})\"]},\"systemjs_options\":null,\"observables\":{\"changes\":{\"sync\":false,\"id\":\"ob_38\",\"value\":0},\"value\":{\"sync\":true,\"id\":\"ob_37\",\"value\":32}}},\"children\":[{\"props\":{\"attributes\":{\"style\":\"display:flex; justify-content:center; align-items:center;\"}},\"nodeType\":\"DOM\",\"type\":\"node\",\"instanceArgs\":{\"namespace\":\"html\",\"tag\":\"div\"},\"children\":[{\"props\":{\"attributes\":{\"style\":\"text-align:right;width:18%\"}},\"nodeType\":\"DOM\",\"type\":\"node\",\"instanceArgs\":{\"namespace\":\"html\",\"tag\":\"div\"},\"children\":[{\"props\":{\"className\":\"interact \",\"style\":{\"padding\":\"5px 10px 0px 10px\"}},\"nodeType\":\"DOM\",\"type\":\"node\",\"instanceArgs\":{\"namespace\":\"html\",\"tag\":\"label\"},\"children\":[\"n\"]}]},{\"props\":{\"attributes\":{\"style\":\"flex-grow:1; margin: 0 2%\"}},\"nodeType\":\"DOM\",\"type\":\"node\",\"instanceArgs\":{\"namespace\":\"html\",\"tag\":\"div\"},\"children\":[{\"props\":{\"max\":64,\"min\":1,\"attributes\":{\"type\":\"range\",\"data-bind\":\"numericValue: value, valueUpdate: 'input', event: {change : function () {this.changes(this.changes()+1)}}\",\"orient\":\"horizontal\"},\"step\":1,\"className\":\"slider slider is-fullwidth\",\"style\":{}},\"nodeType\":\"DOM\",\"type\":\"node\",\"instanceArgs\":{\"namespace\":\"html\",\"tag\":\"input\"},\"children\":[]}]},{\"props\":{\"attributes\":{\"style\":\"width:18%\"}},\"nodeType\":\"DOM\",\"type\":\"node\",\"instanceArgs\":{\"namespace\":\"html\",\"tag\":\"div\"},\"children\":[{\"props\":{\"attributes\":{\"data-bind\":\"text: value\"}},\"nodeType\":\"DOM\",\"type\":\"node\",\"instanceArgs\":{\"namespace\":\"html\",\"tag\":\"p\"},\"children\":[]}]}]}]}]},{\"props\":{},\"nodeType\":\"Scope\",\"type\":\"node\",\"instanceArgs\":{\"imports\":{\"data\":[],\"type\":\"async_block\"},\"id\":\"scope-f76edee0-04c2-4a33-bb42-5cb5893acb39\",\"handlers\":{},\"systemjs_options\":null,\"observables\":{\"obs-node\":{\"sync\":false,\"id\":\"ob_41\",\"value\":{\"props\":{\"attributes\":{\"style\":\"display:flex; justify-content:center; align-items:center;\"}},\"nodeType\":\"DOM\",\"type\":\"node\",\"instanceArgs\":{\"namespace\":\"html\",\"tag\":\"div\"},\"children\":[{\"props\":{\"setInnerHtml\":\"<img src='data:image\\/png;base64,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'><\\/img>\"},\"nodeType\":\"DOM\",\"type\":\"node\",\"instanceArgs\":{\"namespace\":\"html\",\"tag\":\"div\"},\"children\":[]}]}}}},\"children\":[{\"props\":{},\"nodeType\":\"ObservableNode\",\"type\":\"node\",\"instanceArgs\":{\"id\":\"ob_41\",\"name\":\"obs-node\"},\"children\":[]}]}]},\n",
       "        );\n",
       "    } else {\n",
       "        document\n",
       "            .querySelector('[data-webio-mountpoint=\"2547606656686813599\"]')\n",
       "            .innerHTML = '<strong>WebIO not detected.</strong>';\n",
       "    }\n",
       "    </script>\n",
       "</div>\n"
      ],
      "text/plain": [
       "Widget{:manipulate,Any}(OrderedDict{Symbol,Any}(:n=>Widget{:slider,Int64}(OrderedDict{Symbol,Any}(:changes=>Observable{Int64} with 1 listeners. Value:\n",
       "0,:value=>Observable{Int64} with 2 listeners. Value:\n",
       "32), Observable{Int64} with 2 listeners. Value:\n",
       "32, Scope(\"knockout-component-71d21e90-8054-44e1-8f28-10ea55269c5b\", Node{DOM}(DOM(:html, :div), Any[Node{DOM}(DOM(:html, :div), Any[Node{DOM}(DOM(:html, :label), Any[\"n\"], Dict{Symbol,Any}(:className=>\"interact \",:style=>Dict{Any,Any}(:padding=>\"5px 10px 0px 10px\")), 1)], Dict{Symbol,Any}(:attributes=>Dict(\"style\"=>\"text-align:right;width:18%\")), 2), Node{DOM}(DOM(:html, :div), Any[Node{DOM}(DOM(:html, :input), Any[], Dict{Symbol,Any}(:max=>64,:min=>1,:attributes=>Dict{Any,Any}(:type=>\"range\",Symbol(\"data-bind\")=>\"numericValue: value, valueUpdate: 'input', event: {change : function () {this.changes(this.changes()+1)}}\",\"orient\"=>\"horizontal\"),:step=>1,:className=>\"slider slider is-fullwidth\",:style=>Dict{Any,Any}()), 0)], Dict{Symbol,Any}(:attributes=>Dict(\"style\"=>\"flex-grow:1; margin: 0 2%\")), 1), Node{DOM}(DOM(:html, :div), Any[Node{DOM}(DOM(:html, :p), Any[], Dict{Symbol,Any}(:attributes=>Dict(\"data-bind\"=>\"text: value\")), 0)], Dict{Symbol,Any}(:attributes=>Dict(\"style\"=>\"width:18%\")), 1)], Dict{Symbol,Any}(:attributes=>Dict(\"style\"=>\"display:flex; justify-content:center; align-items:center;\")), 7), Dict{String,Tuple{Observables.AbstractObservable,Union{Nothing, Bool}}}(\"changes\"=>(Observable{Int64} with 1 listeners. Value:\n",
       "0, nothing),\"value\"=>(Observable{Int64} with 2 listeners. Value:\n",
       "32, nothing)), Set(String[]), nothing, Any[\"knockout\"=>\"C:\\\\Users\\\\Ali\\\\.julia\\\\packages\\\\Knockout\\\\JIqpG\\\\src\\\\..\\\\assets\\\\knockout.js\", \"knockout_punches\"=>\"C:\\\\Users\\\\Ali\\\\.julia\\\\packages\\\\Knockout\\\\JIqpG\\\\src\\\\..\\\\assets\\\\knockout_punches.js\", \"C:\\\\Users\\\\Ali\\\\.julia\\\\packages\\\\InteractBase\\\\Q4IkI\\\\src\\\\..\\\\assets\\\\all.js\", \"C:\\\\Users\\\\Ali\\\\.julia\\\\packages\\\\InteractBase\\\\Q4IkI\\\\src\\\\..\\\\assets\\\\style.css\", \"C:\\\\Users\\\\Ali\\\\.julia\\\\packages\\\\InteractBulma\\\\Ohu5Y\\\\src\\\\..\\\\assets\\\\main.css\"], Dict{Any,Any}(\"_promises\"=>Dict{Any,Any}(\"importsLoaded\"=>Any[JSString(\"function (ko, koPunches) {\\n    ko.punches.enableAll();\\n    ko.bindingHandlers.numericValue = {\\n        init : function(element, valueAccessor, allBindings, data, context) {\\n            var stringified = ko.observable(ko.unwrap(valueAccessor()));\\n            stringified.subscribe(function(value) {\\n                var val = parseFloat(value);\\n                if (!isNaN(val)) {\\n                    valueAccessor()(val);\\n                }\\n            })\\n            valueAccessor().subscribe(function(value) {\\n                var str = JSON.stringify(value);\\n                if ((str == \\\"0\\\") && ([\\\"-0\\\", \\\"-0.\\\"].indexOf(stringified()) >= 0))\\n                     return;\\n                 if ([\\\"null\\\", \\\"\\\"].indexOf(str) >= 0)\\n                     return;\\n                stringified(str);\\n            })\\n            ko.applyBindingsToNode(element, { value: stringified, valueUpdate: allBindings.get('valueUpdate')}, context);\\n        }\\n    };\\n    var json_data = JSON.parse(\\\"{\\\\\\\"changes\\\\\\\":0,\\\\\\\"value\\\\\\\":32}\\\");\\n    var self = this;\\n    function AppViewModel() {\\n        for (var key in json_data) {\\n            var el = json_data[key];\\n            this[key] = Array.isArray(el) ? ko.observableArray(el) : ko.observable(el);\\n        }\\n        \\n        \\n        [this[\\\"changes\\\"].subscribe((function (val){!(this.valueFromJulia[\\\"changes\\\"]) ? (WebIO.setval({\\\"name\\\":\\\"changes\\\",\\\"scope\\\":\\\"knockout-component-71d21e90-8054-44e1-8f28-10ea55269c5b\\\",\\\"id\\\":\\\"ob_38\\\",\\\"type\\\":\\\"observable\\\"},val)) : undefined; return this.valueFromJulia[\\\"changes\\\"]=false}),self),this[\\\"value\\\"].subscribe((function (val){!(this.valueFromJulia[\\\"value\\\"]) ? (WebIO.setval({\\\"name\\\":\\\"value\\\",\\\"scope\\\":\\\"knockout-component-71d21e90-8054-44e1-8f28-10ea55269c5b\\\",\\\"id\\\":\\\"ob_37\\\",\\\"type\\\":\\\"observable\\\"},val)) : undefined; return this.valueFromJulia[\\\"value\\\"]=false}),self)]\\n        \\n    }\\n    self.model = new AppViewModel();\\n    self.valueFromJulia = {};\\n    for (var key in json_data) {\\n        self.valueFromJulia[key] = false;\\n    }\\n    ko.applyBindings(self.model, self.dom);\\n}\\n\")]),\"changes\"=>Any[JSString(\"(function (val){return (val!=this.model[\\\"changes\\\"]()) ? (this.valueFromJulia[\\\"changes\\\"]=true, this.model[\\\"changes\\\"](val)) : undefined})\")],\"value\"=>Any[JSString(\"(function (val){return (val!=this.model[\\\"value\\\"]()) ? (this.valueFromJulia[\\\"value\\\"]=true, this.model[\\\"value\\\"](val)) : undefined})\")]), ConnectionPool(Channel{Any}(sz_max:9223372036854775807,sz_curr:0), Set(AbstractConnection[]), Channel{AbstractConnection}(sz_max:32,sz_curr:0))), ##52#53{#dom#13{##dom#11#12{Dict{Any,Any},DOM}},typeof(scope)}(#dom#13{##dom#11#12{Dict{Any,Any},DOM}}(##dom#11#12{Dict{Any,Any},DOM}(Dict{Any,Any}(:className=>\"field\"), DOM(:html, :div))), scope))), Observable{Any} with 0 listeners. Value:\n",
       "Figure(PyObject <Figure size 640x480 with 2 Axes>), nothing, getfield(Main, Symbol(\"##53#56\")){Observable{Any}}(Observable{Any} with 0 listeners. Value:\n",
       "Figure(PyObject <Figure size 640x480 with 2 Axes>)))"
      ]
     },
     "execution_count": 46,
     "metadata": {
      "application/vnd.webio.node+json": {
       "kernelId": "4ff14c8d-6bcf-48c1-a76a-06f11c80b0ab"
      }
     },
     "output_type": "execute_result"
    }
   ],
   "source": [
    "# @show size(x)\n",
    "# @show size(y)\n",
    "# @show size(f)\n",
    "# @show minimum(f)\n",
    "# @show maximum(f)\n",
    "fig = figure()\n",
    "@manipulate for n in 1:Nz\n",
    "    withfig(fig) do\n",
    "        # PyPlot.contourf(x, y, f[:, :, n], levels=20, vmin=-6, vmax=0.5); PyPlot.colorbar();\n",
    "        PyPlot.pcolormesh(x, y, f[:, :, n], vmin=-6, vmax=0.5); PyPlot.colorbar();\n",
    "    end\n",
    "end"
   ]
  },
  {
   "cell_type": "code",
   "execution_count": 56,
   "metadata": {},
   "outputs": [
    {
     "name": "stdout",
     "output_type": "stream",
     "text": [
      "minimum(ϕs) = 0.0\n",
      "maximum(ϕs) = 1.0000000622106684\n"
     ]
    },
    {
     "data": {
      "application/vnd.webio.node+json": {
       "children": [
        {
         "children": [
          {
           "children": [
            {
             "children": [
              {
               "children": [
                {
                 "children": [
                  "n"
                 ],
                 "instanceArgs": {
                  "namespace": "html",
                  "tag": "label"
                 },
                 "nodeType": "DOM",
                 "props": {
                  "className": "interact ",
                  "style": {
                   "padding": "5px 10px 0px 10px"
                  }
                 },
                 "type": "node"
                }
               ],
               "instanceArgs": {
                "namespace": "html",
                "tag": "div"
               },
               "nodeType": "DOM",
               "props": {
                "attributes": {
                 "style": "text-align:right;width:18%"
                }
               },
               "type": "node"
              },
              {
               "children": [
                {
                 "children": [],
                 "instanceArgs": {
                  "namespace": "html",
                  "tag": "input"
                 },
                 "nodeType": "DOM",
                 "props": {
                  "attributes": {
                   "data-bind": "numericValue: value, valueUpdate: 'input', event: {change : function () {this.changes(this.changes()+1)}}",
                   "orient": "horizontal",
                   "type": "range"
                  },
                  "className": "slider slider is-fullwidth",
                  "max": 64,
                  "min": 1,
                  "step": 1,
                  "style": {}
                 },
                 "type": "node"
                }
               ],
               "instanceArgs": {
                "namespace": "html",
                "tag": "div"
               },
               "nodeType": "DOM",
               "props": {
                "attributes": {
                 "style": "flex-grow:1; margin: 0 2%"
                }
               },
               "type": "node"
              },
              {
               "children": [
                {
                 "children": [],
                 "instanceArgs": {
                  "namespace": "html",
                  "tag": "p"
                 },
                 "nodeType": "DOM",
                 "props": {
                  "attributes": {
                   "data-bind": "text: value"
                  }
                 },
                 "type": "node"
                }
               ],
               "instanceArgs": {
                "namespace": "html",
                "tag": "div"
               },
               "nodeType": "DOM",
               "props": {
                "attributes": {
                 "style": "width:18%"
                }
               },
               "type": "node"
              }
             ],
             "instanceArgs": {
              "namespace": "html",
              "tag": "div"
             },
             "nodeType": "DOM",
             "props": {
              "attributes": {
               "style": "display:flex; justify-content:center; align-items:center;"
              }
             },
             "type": "node"
            }
           ],
           "instanceArgs": {
            "handlers": {
             "_promises": {
              "importsLoaded": [
               "function (ko, koPunches) {\n    ko.punches.enableAll();\n    ko.bindingHandlers.numericValue = {\n        init : function(element, valueAccessor, allBindings, data, context) {\n            var stringified = ko.observable(ko.unwrap(valueAccessor()));\n            stringified.subscribe(function(value) {\n                var val = parseFloat(value);\n                if (!isNaN(val)) {\n                    valueAccessor()(val);\n                }\n            })\n            valueAccessor().subscribe(function(value) {\n                var str = JSON.stringify(value);\n                if ((str == \"0\") && ([\"-0\", \"-0.\"].indexOf(stringified()) >= 0))\n                     return;\n                 if ([\"null\", \"\"].indexOf(str) >= 0)\n                     return;\n                stringified(str);\n            })\n            ko.applyBindingsToNode(element, { value: stringified, valueUpdate: allBindings.get('valueUpdate')}, context);\n        }\n    };\n    var json_data = JSON.parse(\"{\\\"changes\\\":0,\\\"value\\\":32}\");\n    var self = this;\n    function AppViewModel() {\n        for (var key in json_data) {\n            var el = json_data[key];\n            this[key] = Array.isArray(el) ? ko.observableArray(el) : ko.observable(el);\n        }\n        \n        \n        [this[\"changes\"].subscribe((function (val){!(this.valueFromJulia[\"changes\"]) ? (WebIO.setval({\"name\":\"changes\",\"scope\":\"knockout-component-418078ed-49c8-4408-bb5a-6963071050c2\",\"id\":\"ob_45\",\"type\":\"observable\"},val)) : undefined; return this.valueFromJulia[\"changes\"]=false}),self),this[\"value\"].subscribe((function (val){!(this.valueFromJulia[\"value\"]) ? (WebIO.setval({\"name\":\"value\",\"scope\":\"knockout-component-418078ed-49c8-4408-bb5a-6963071050c2\",\"id\":\"ob_44\",\"type\":\"observable\"},val)) : undefined; return this.valueFromJulia[\"value\"]=false}),self)]\n        \n    }\n    self.model = new AppViewModel();\n    self.valueFromJulia = {};\n    for (var key in json_data) {\n        self.valueFromJulia[key] = false;\n    }\n    ko.applyBindings(self.model, self.dom);\n}\n"
              ]
             },
             "changes": [
              "(function (val){return (val!=this.model[\"changes\"]()) ? (this.valueFromJulia[\"changes\"]=true, this.model[\"changes\"](val)) : undefined})"
             ],
             "value": [
              "(function (val){return (val!=this.model[\"value\"]()) ? (this.valueFromJulia[\"value\"]=true, this.model[\"value\"](val)) : undefined})"
             ]
            },
            "id": "knockout-component-418078ed-49c8-4408-bb5a-6963071050c2",
            "imports": {
             "data": [
              {
               "name": "knockout",
               "type": "js",
               "url": "/assetserver/d10dea684c7287acd466465fb49a444aaefd0a90-knockout.js"
              },
              {
               "name": "knockout_punches",
               "type": "js",
               "url": "/assetserver/679b3f1a575e726ae06ec067c6f26a9cfcec2eb5-knockout_punches.js"
              },
              {
               "name": null,
               "type": "js",
               "url": "/assetserver/bd7a992a16365bf84c1a00c7a8f2bd69bea8b31d-all.js"
              },
              {
               "name": null,
               "type": "css",
               "url": "/assetserver/c09c1362a25da710e095846a1811f27ac21bbf6f-style.css"
              },
              {
               "name": null,
               "type": "css",
               "url": "/assetserver/2ccc2c2ab29565bde6604cd2a5b2b134f6b47acb-main.css"
              }
             ],
             "type": "async_block"
            },
            "observables": {
             "changes": {
              "id": "ob_45",
              "sync": false,
              "value": 0
             },
             "value": {
              "id": "ob_44",
              "sync": true,
              "value": 32
             }
            },
            "systemjs_options": null
           },
           "nodeType": "Scope",
           "props": {},
           "type": "node"
          }
         ],
         "instanceArgs": {
          "namespace": "html",
          "tag": "div"
         },
         "nodeType": "DOM",
         "props": {
          "className": "field"
         },
         "type": "node"
        },
        {
         "children": [
          {
           "children": [],
           "instanceArgs": {
            "id": "ob_50",
            "name": "obs-node"
           },
           "nodeType": "ObservableNode",
           "props": {},
           "type": "node"
          }
         ],
         "instanceArgs": {
          "handlers": {},
          "id": "scope-ca63a66b-923b-4eac-80db-549361337774",
          "imports": {
           "data": [],
           "type": "async_block"
          },
          "observables": {
           "obs-node": {
            "id": "ob_50",
            "sync": false,
            "value": {
             "children": [
              {
               "children": [],
               "instanceArgs": {
                "namespace": "html",
                "tag": "div"
               },
               "nodeType": "DOM",
               "props": {
                "setInnerHtml": "<img src='data:image/png;base64,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'></img>"
               },
               "type": "node"
              }
             ],
             "instanceArgs": {
              "namespace": "html",
              "tag": "div"
             },
             "nodeType": "DOM",
             "props": {
              "attributes": {
               "style": "display:flex; justify-content:center; align-items:center;"
              }
             },
             "type": "node"
            }
           }
          },
          "systemjs_options": null
         },
         "nodeType": "Scope",
         "props": {},
         "type": "node"
        }
       ],
       "instanceArgs": {
        "namespace": "html",
        "tag": "div"
       },
       "nodeType": "DOM",
       "props": {},
       "type": "node"
      },
      "text/html": [
       "<div\n",
       "    class=\"webio-mountpoint\"\n",
       "    data-webio-mountpoint=\"11166173822208363304\"\n",
       ">\n",
       "    <script>\n",
       "    if (window.require && require.defined && require.defined(\"nbextensions/webio/main\")) {\n",
       "        console.log(\"Jupyter WebIO extension detected, not mounting.\");\n",
       "    } else if (window.WebIO) {\n",
       "        WebIO.mount(\n",
       "            document.querySelector('[data-webio-mountpoint=\"11166173822208363304\"]'),\n",
       "            {\"props\":{},\"nodeType\":\"DOM\",\"type\":\"node\",\"instanceArgs\":{\"namespace\":\"html\",\"tag\":\"div\"},\"children\":[{\"props\":{\"className\":\"field\"},\"nodeType\":\"DOM\",\"type\":\"node\",\"instanceArgs\":{\"namespace\":\"html\",\"tag\":\"div\"},\"children\":[{\"props\":{},\"nodeType\":\"Scope\",\"type\":\"node\",\"instanceArgs\":{\"imports\":{\"data\":[{\"name\":\"knockout\",\"type\":\"js\",\"url\":\"\\/assetserver\\/d10dea684c7287acd466465fb49a444aaefd0a90-knockout.js\"},{\"name\":\"knockout_punches\",\"type\":\"js\",\"url\":\"\\/assetserver\\/679b3f1a575e726ae06ec067c6f26a9cfcec2eb5-knockout_punches.js\"},{\"name\":null,\"type\":\"js\",\"url\":\"\\/assetserver\\/bd7a992a16365bf84c1a00c7a8f2bd69bea8b31d-all.js\"},{\"name\":null,\"type\":\"css\",\"url\":\"\\/assetserver\\/c09c1362a25da710e095846a1811f27ac21bbf6f-style.css\"},{\"name\":null,\"type\":\"css\",\"url\":\"\\/assetserver\\/2ccc2c2ab29565bde6604cd2a5b2b134f6b47acb-main.css\"}],\"type\":\"async_block\"},\"id\":\"knockout-component-418078ed-49c8-4408-bb5a-6963071050c2\",\"handlers\":{\"_promises\":{\"importsLoaded\":[\"function (ko, koPunches) {\\n    ko.punches.enableAll();\\n    ko.bindingHandlers.numericValue = {\\n        init : function(element, valueAccessor, allBindings, data, context) {\\n            var stringified = ko.observable(ko.unwrap(valueAccessor()));\\n            stringified.subscribe(function(value) {\\n                var val = parseFloat(value);\\n                if (!isNaN(val)) {\\n                    valueAccessor()(val);\\n                }\\n            })\\n            valueAccessor().subscribe(function(value) {\\n                var str = JSON.stringify(value);\\n                if ((str == \\\"0\\\") && ([\\\"-0\\\", \\\"-0.\\\"].indexOf(stringified()) >= 0))\\n                     return;\\n                 if ([\\\"null\\\", \\\"\\\"].indexOf(str) >= 0)\\n                     return;\\n                stringified(str);\\n            })\\n            ko.applyBindingsToNode(element, { value: stringified, valueUpdate: allBindings.get('valueUpdate')}, context);\\n        }\\n    };\\n    var json_data = JSON.parse(\\\"{\\\\\\\"changes\\\\\\\":0,\\\\\\\"value\\\\\\\":32}\\\");\\n    var self = this;\\n    function AppViewModel() {\\n        for (var key in json_data) {\\n            var el = json_data[key];\\n            this[key] = Array.isArray(el) ? ko.observableArray(el) : ko.observable(el);\\n        }\\n        \\n        \\n        [this[\\\"changes\\\"].subscribe((function (val){!(this.valueFromJulia[\\\"changes\\\"]) ? (WebIO.setval({\\\"name\\\":\\\"changes\\\",\\\"scope\\\":\\\"knockout-component-418078ed-49c8-4408-bb5a-6963071050c2\\\",\\\"id\\\":\\\"ob_45\\\",\\\"type\\\":\\\"observable\\\"},val)) : undefined; return this.valueFromJulia[\\\"changes\\\"]=false}),self),this[\\\"value\\\"].subscribe((function (val){!(this.valueFromJulia[\\\"value\\\"]) ? (WebIO.setval({\\\"name\\\":\\\"value\\\",\\\"scope\\\":\\\"knockout-component-418078ed-49c8-4408-bb5a-6963071050c2\\\",\\\"id\\\":\\\"ob_44\\\",\\\"type\\\":\\\"observable\\\"},val)) : undefined; return this.valueFromJulia[\\\"value\\\"]=false}),self)]\\n        \\n    }\\n    self.model = new AppViewModel();\\n    self.valueFromJulia = {};\\n    for (var key in json_data) {\\n        self.valueFromJulia[key] = false;\\n    }\\n    ko.applyBindings(self.model, self.dom);\\n}\\n\"]},\"changes\":[\"(function (val){return (val!=this.model[\\\"changes\\\"]()) ? (this.valueFromJulia[\\\"changes\\\"]=true, this.model[\\\"changes\\\"](val)) : undefined})\"],\"value\":[\"(function (val){return (val!=this.model[\\\"value\\\"]()) ? (this.valueFromJulia[\\\"value\\\"]=true, this.model[\\\"value\\\"](val)) : undefined})\"]},\"systemjs_options\":null,\"observables\":{\"changes\":{\"sync\":false,\"id\":\"ob_45\",\"value\":0},\"value\":{\"sync\":true,\"id\":\"ob_44\",\"value\":32}}},\"children\":[{\"props\":{\"attributes\":{\"style\":\"display:flex; justify-content:center; align-items:center;\"}},\"nodeType\":\"DOM\",\"type\":\"node\",\"instanceArgs\":{\"namespace\":\"html\",\"tag\":\"div\"},\"children\":[{\"props\":{\"attributes\":{\"style\":\"text-align:right;width:18%\"}},\"nodeType\":\"DOM\",\"type\":\"node\",\"instanceArgs\":{\"namespace\":\"html\",\"tag\":\"div\"},\"children\":[{\"props\":{\"className\":\"interact \",\"style\":{\"padding\":\"5px 10px 0px 10px\"}},\"nodeType\":\"DOM\",\"type\":\"node\",\"instanceArgs\":{\"namespace\":\"html\",\"tag\":\"label\"},\"children\":[\"n\"]}]},{\"props\":{\"attributes\":{\"style\":\"flex-grow:1; margin: 0 2%\"}},\"nodeType\":\"DOM\",\"type\":\"node\",\"instanceArgs\":{\"namespace\":\"html\",\"tag\":\"div\"},\"children\":[{\"props\":{\"max\":64,\"min\":1,\"attributes\":{\"type\":\"range\",\"data-bind\":\"numericValue: value, valueUpdate: 'input', event: {change : function () {this.changes(this.changes()+1)}}\",\"orient\":\"horizontal\"},\"step\":1,\"className\":\"slider slider is-fullwidth\",\"style\":{}},\"nodeType\":\"DOM\",\"type\":\"node\",\"instanceArgs\":{\"namespace\":\"html\",\"tag\":\"input\"},\"children\":[]}]},{\"props\":{\"attributes\":{\"style\":\"width:18%\"}},\"nodeType\":\"DOM\",\"type\":\"node\",\"instanceArgs\":{\"namespace\":\"html\",\"tag\":\"div\"},\"children\":[{\"props\":{\"attributes\":{\"data-bind\":\"text: value\"}},\"nodeType\":\"DOM\",\"type\":\"node\",\"instanceArgs\":{\"namespace\":\"html\",\"tag\":\"p\"},\"children\":[]}]}]}]}]},{\"props\":{},\"nodeType\":\"Scope\",\"type\":\"node\",\"instanceArgs\":{\"imports\":{\"data\":[],\"type\":\"async_block\"},\"id\":\"scope-8b8e876c-bfca-42f3-871d-98b1393b2aa2\",\"handlers\":{},\"systemjs_options\":null,\"observables\":{\"obs-node\":{\"sync\":false,\"id\":\"ob_48\",\"value\":{\"props\":{\"attributes\":{\"style\":\"display:flex; justify-content:center; align-items:center;\"}},\"nodeType\":\"DOM\",\"type\":\"node\",\"instanceArgs\":{\"namespace\":\"html\",\"tag\":\"div\"},\"children\":[{\"props\":{\"setInnerHtml\":\"<img src='data:image\\/png;base64,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'><\\/img>\"},\"nodeType\":\"DOM\",\"type\":\"node\",\"instanceArgs\":{\"namespace\":\"html\",\"tag\":\"div\"},\"children\":[]}]}}}},\"children\":[{\"props\":{},\"nodeType\":\"ObservableNode\",\"type\":\"node\",\"instanceArgs\":{\"id\":\"ob_48\",\"name\":\"obs-node\"},\"children\":[]}]}]},\n",
       "        );\n",
       "    } else {\n",
       "        document\n",
       "            .querySelector('[data-webio-mountpoint=\"11166173822208363304\"]')\n",
       "            .innerHTML = '<strong>WebIO not detected.</strong>';\n",
       "    }\n",
       "    </script>\n",
       "</div>\n"
      ],
      "text/plain": [
       "Widget{:manipulate,Any}(OrderedDict{Symbol,Any}(:n=>Widget{:slider,Int64}(OrderedDict{Symbol,Any}(:changes=>Observable{Int64} with 1 listeners. Value:\n",
       "0,:value=>Observable{Int64} with 2 listeners. Value:\n",
       "32), Observable{Int64} with 2 listeners. Value:\n",
       "32, Scope(\"knockout-component-418078ed-49c8-4408-bb5a-6963071050c2\", Node{DOM}(DOM(:html, :div), Any[Node{DOM}(DOM(:html, :div), Any[Node{DOM}(DOM(:html, :label), Any[\"n\"], Dict{Symbol,Any}(:className=>\"interact \",:style=>Dict{Any,Any}(:padding=>\"5px 10px 0px 10px\")), 1)], Dict{Symbol,Any}(:attributes=>Dict(\"style\"=>\"text-align:right;width:18%\")), 2), Node{DOM}(DOM(:html, :div), Any[Node{DOM}(DOM(:html, :input), Any[], Dict{Symbol,Any}(:max=>64,:min=>1,:attributes=>Dict{Any,Any}(:type=>\"range\",Symbol(\"data-bind\")=>\"numericValue: value, valueUpdate: 'input', event: {change : function () {this.changes(this.changes()+1)}}\",\"orient\"=>\"horizontal\"),:step=>1,:className=>\"slider slider is-fullwidth\",:style=>Dict{Any,Any}()), 0)], Dict{Symbol,Any}(:attributes=>Dict(\"style\"=>\"flex-grow:1; margin: 0 2%\")), 1), Node{DOM}(DOM(:html, :div), Any[Node{DOM}(DOM(:html, :p), Any[], Dict{Symbol,Any}(:attributes=>Dict(\"data-bind\"=>\"text: value\")), 0)], Dict{Symbol,Any}(:attributes=>Dict(\"style\"=>\"width:18%\")), 1)], Dict{Symbol,Any}(:attributes=>Dict(\"style\"=>\"display:flex; justify-content:center; align-items:center;\")), 7), Dict{String,Tuple{Observables.AbstractObservable,Union{Nothing, Bool}}}(\"changes\"=>(Observable{Int64} with 1 listeners. Value:\n",
       "0, nothing),\"value\"=>(Observable{Int64} with 2 listeners. Value:\n",
       "32, nothing)), Set(String[]), nothing, Any[\"knockout\"=>\"C:\\\\Users\\\\Ali\\\\.julia\\\\packages\\\\Knockout\\\\JIqpG\\\\src\\\\..\\\\assets\\\\knockout.js\", \"knockout_punches\"=>\"C:\\\\Users\\\\Ali\\\\.julia\\\\packages\\\\Knockout\\\\JIqpG\\\\src\\\\..\\\\assets\\\\knockout_punches.js\", \"C:\\\\Users\\\\Ali\\\\.julia\\\\packages\\\\InteractBase\\\\Q4IkI\\\\src\\\\..\\\\assets\\\\all.js\", \"C:\\\\Users\\\\Ali\\\\.julia\\\\packages\\\\InteractBase\\\\Q4IkI\\\\src\\\\..\\\\assets\\\\style.css\", \"C:\\\\Users\\\\Ali\\\\.julia\\\\packages\\\\InteractBulma\\\\Ohu5Y\\\\src\\\\..\\\\assets\\\\main.css\"], Dict{Any,Any}(\"_promises\"=>Dict{Any,Any}(\"importsLoaded\"=>Any[JSString(\"function (ko, koPunches) {\\n    ko.punches.enableAll();\\n    ko.bindingHandlers.numericValue = {\\n        init : function(element, valueAccessor, allBindings, data, context) {\\n            var stringified = ko.observable(ko.unwrap(valueAccessor()));\\n            stringified.subscribe(function(value) {\\n                var val = parseFloat(value);\\n                if (!isNaN(val)) {\\n                    valueAccessor()(val);\\n                }\\n            })\\n            valueAccessor().subscribe(function(value) {\\n                var str = JSON.stringify(value);\\n                if ((str == \\\"0\\\") && ([\\\"-0\\\", \\\"-0.\\\"].indexOf(stringified()) >= 0))\\n                     return;\\n                 if ([\\\"null\\\", \\\"\\\"].indexOf(str) >= 0)\\n                     return;\\n                stringified(str);\\n            })\\n            ko.applyBindingsToNode(element, { value: stringified, valueUpdate: allBindings.get('valueUpdate')}, context);\\n        }\\n    };\\n    var json_data = JSON.parse(\\\"{\\\\\\\"changes\\\\\\\":0,\\\\\\\"value\\\\\\\":32}\\\");\\n    var self = this;\\n    function AppViewModel() {\\n        for (var key in json_data) {\\n            var el = json_data[key];\\n            this[key] = Array.isArray(el) ? ko.observableArray(el) : ko.observable(el);\\n        }\\n        \\n        \\n        [this[\\\"changes\\\"].subscribe((function (val){!(this.valueFromJulia[\\\"changes\\\"]) ? (WebIO.setval({\\\"name\\\":\\\"changes\\\",\\\"scope\\\":\\\"knockout-component-418078ed-49c8-4408-bb5a-6963071050c2\\\",\\\"id\\\":\\\"ob_45\\\",\\\"type\\\":\\\"observable\\\"},val)) : undefined; return this.valueFromJulia[\\\"changes\\\"]=false}),self),this[\\\"value\\\"].subscribe((function (val){!(this.valueFromJulia[\\\"value\\\"]) ? (WebIO.setval({\\\"name\\\":\\\"value\\\",\\\"scope\\\":\\\"knockout-component-418078ed-49c8-4408-bb5a-6963071050c2\\\",\\\"id\\\":\\\"ob_44\\\",\\\"type\\\":\\\"observable\\\"},val)) : undefined; return this.valueFromJulia[\\\"value\\\"]=false}),self)]\\n        \\n    }\\n    self.model = new AppViewModel();\\n    self.valueFromJulia = {};\\n    for (var key in json_data) {\\n        self.valueFromJulia[key] = false;\\n    }\\n    ko.applyBindings(self.model, self.dom);\\n}\\n\")]),\"changes\"=>Any[JSString(\"(function (val){return (val!=this.model[\\\"changes\\\"]()) ? (this.valueFromJulia[\\\"changes\\\"]=true, this.model[\\\"changes\\\"](val)) : undefined})\")],\"value\"=>Any[JSString(\"(function (val){return (val!=this.model[\\\"value\\\"]()) ? (this.valueFromJulia[\\\"value\\\"]=true, this.model[\\\"value\\\"](val)) : undefined})\")]), ConnectionPool(Channel{Any}(sz_max:9223372036854775807,sz_curr:0), Set(AbstractConnection[]), Channel{AbstractConnection}(sz_max:32,sz_curr:0))), ##52#53{#dom#13{##dom#11#12{Dict{Any,Any},DOM}},typeof(scope)}(#dom#13{##dom#11#12{Dict{Any,Any},DOM}}(##dom#11#12{Dict{Any,Any},DOM}(Dict{Any,Any}(:className=>\"field\"), DOM(:html, :div))), scope))), Observable{Any} with 0 listeners. Value:\n",
       "Figure(PyObject <Figure size 640x480 with 2 Axes>), nothing, getfield(Main, Symbol(\"##59#62\")){Observable{Any}}(Observable{Any} with 0 listeners. Value:\n",
       "Figure(PyObject <Figure size 640x480 with 2 Axes>)))"
      ]
     },
     "execution_count": 56,
     "metadata": {
      "application/vnd.webio.node+json": {
       "kernelId": "4ff14c8d-6bcf-48c1-a76a-06f11c80b0ab"
      }
     },
     "output_type": "execute_result"
    }
   ],
   "source": [
    "@show minimum(ϕs)\n",
    "@show maximum(ϕs)\n",
    "ϕs = ϕs .- minimum(ϕs)\n",
    "fig = figure()\n",
    "@manipulate for n in 1:Nz\n",
    "    withfig(fig) do\n",
    "        # PyPlot.contourf(x, y, f[:, :, n], levels=20, vmin=-6, vmax=0.5); PyPlot.colorbar();\n",
    "        PyPlot.pcolormesh(x, y, ϕs[:, :, n], vmin=0, vmax=1); PyPlot.colorbar();\n",
    "    end\n",
    "end"
   ]
  },
  {
   "cell_type": "code",
   "execution_count": null,
   "metadata": {
    "collapsed": true
   },
   "outputs": [],
   "source": []
  }
 ],
 "metadata": {
  "@webio": {
   "lastCommId": "D4C747192A7E4C0A97C6110F5318740C",
   "lastKernelId": "4ff14c8d-6bcf-48c1-a76a-06f11c80b0ab"
  },
  "kernelspec": {
   "display_name": "Julia 1.0.0",
   "language": "julia",
   "name": "julia-1.0"
  },
  "language_info": {
   "file_extension": ".jl",
   "mimetype": "application/julia",
   "name": "julia",
   "version": "1.0.0"
  }
 },
 "nbformat": 4,
 "nbformat_minor": 2
}
