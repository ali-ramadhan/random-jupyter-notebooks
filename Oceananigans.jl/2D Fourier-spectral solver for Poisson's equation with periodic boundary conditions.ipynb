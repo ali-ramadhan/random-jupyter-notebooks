{
 "cells": [
  {
   "cell_type": "code",
   "execution_count": 3,
   "metadata": {},
   "outputs": [
    {
     "data": {
      "text/html": [
       "    <script class='js-collapse-script'>\n",
       "        var curMatch =\n",
       "            window.location.href\n",
       "            .match(/(.*?)\\/notebooks\\/.*\\.ipynb/);\n",
       "\n",
       "        curMatch = curMatch ||\n",
       "            window.location.href\n",
       "            .match(/(.*?)\\/apps\\/.*\\.ipynb/);\n",
       "\n",
       "        if ( curMatch ) {\n",
       "            $('head').append('<base href=\"' + curMatch[1] + '/\">');\n",
       "        }\n",
       "    </script>\n"
      ],
      "text/plain": [
       "HTML{String}(\"    <script class='js-collapse-script'>\\n        var curMatch =\\n            window.location.href\\n            .match(/(.*?)\\\\/notebooks\\\\/.*\\\\.ipynb/);\\n\\n        curMatch = curMatch ||\\n            window.location.href\\n            .match(/(.*?)\\\\/apps\\\\/.*\\\\.ipynb/);\\n\\n        if ( curMatch ) {\\n            \\$('head').append('<base href=\\\"' + curMatch[1] + '/\\\">');\\n        }\\n    </script>\\n\")"
      ]
     },
     "metadata": {},
     "output_type": "display_data"
    },
    {
     "data": {
      "text/html": [
       "<script class='js-collapse-script' src='/assetserver/05a54a8cd5b6d9c9183d90a9a0f9abc6032d3417-assets/webio/dist/bundle.js'></script>"
      ],
      "text/plain": [
       "HTML{String}(\"<script class='js-collapse-script' src='/assetserver/05a54a8cd5b6d9c9183d90a9a0f9abc6032d3417-assets/webio/dist/bundle.js'></script>\")"
      ]
     },
     "metadata": {},
     "output_type": "display_data"
    },
    {
     "data": {
      "text/html": [
       "<script class='js-collapse-script' src='/assetserver/05a54a8cd5b6d9c9183d90a9a0f9abc6032d3417-assets/providers/ijulia_setup.js'></script>"
      ],
      "text/plain": [
       "HTML{String}(\"<script class='js-collapse-script' src='/assetserver/05a54a8cd5b6d9c9183d90a9a0f9abc6032d3417-assets/providers/ijulia_setup.js'></script>\")"
      ]
     },
     "metadata": {},
     "output_type": "display_data"
    },
    {
     "data": {
      "text/html": [
       "  <script class='js-collapse-script'>\n",
       "    $('.js-collapse-script').parent('.output_subarea').css('padding', '0');\n",
       "  </script>\n"
      ],
      "text/plain": [
       "HTML{String}(\"  <script class='js-collapse-script'>\\n    \\$('.js-collapse-script').parent('.output_subarea').css('padding', '0');\\n  </script>\\n\")"
      ]
     },
     "metadata": {},
     "output_type": "display_data"
    }
   ],
   "source": [
    "using Statistics: mean\n",
    "\n",
    "import FFTW\n",
    "\n",
    "using Interact\n",
    "using PyPlot"
   ]
  },
  {
   "cell_type": "code",
   "execution_count": 54,
   "metadata": {},
   "outputs": [
    {
     "name": "stdout",
     "output_type": "stream",
     "text": [
      "(Lx, Ly) = (8, 8) = (8, 8)\n",
      "(Nx, Ny) = (128, 128) = (128, 128)\n",
      "(Δx, Δy) = (Lx / Nx, Ly / Ny) = (0.0625, 0.0625)\n",
      "x = Δx * (0:Nx - 1) = 0.0:0.0625:7.9375\n",
      "y = Δy * (0:Ny - 1) = 0.0:0.0625:7.9375\n"
     ]
    }
   ],
   "source": [
    "@show Lx, Ly = 8, 8;\n",
    "@show Nx, Ny = 128, 128;\n",
    "@show Δx, Δy = Lx/Nx, Ly/Ny;\n",
    "@show x = Δx * (0:(Nx-1));\n",
    "@show y = Δy * (0:(Ny-1));"
   ]
  },
  {
   "cell_type": "code",
   "execution_count": 55,
   "metadata": {},
   "outputs": [
    {
     "data": {
      "image/png": "[encoded data removed]",
      "text/plain": [
       "Figure(PyObject <matplotlib.figure.Figure object at 0x000000002E54F828>)"
      ]
     },
     "metadata": {},
     "output_type": "display_data"
    },
    {
     "name": "stdout",
     "output_type": "stream",
     "text": [
      "size(f) = (128, 128)\n",
      "minimum(f) = -4.0\n",
      "maximum(f) = 0.5413411329464508\n"
     ]
    }
   ],
   "source": [
    "# f = @. exp(- 0.1 * ( (x - Lx/2)^2 + (y - Ly/2)'^2));\n",
    "x′ = @. x - Lx/2;\n",
    "y′ = @. y - Ly/2;\n",
    "f = @. 4 * (x′^2 + y′'^2 - 1) * exp(-(x′^2 + y′'^2))\n",
    "ϕa = @. exp(-(x′^2 + y′'^2))\n",
    "@show size(f);\n",
    "@show minimum(f);\n",
    "@show maximum(f);\n",
    "PyPlot.contourf(x, y, f); PyPlot.colorbar();"
   ]
  },
  {
   "cell_type": "code",
   "execution_count": null,
   "metadata": {},
   "outputs": [],
   "source": [
    "fh = FFTW.rfft(f)"
   ]
  },
  {
   "cell_type": "code",
   "execution_count": null,
   "metadata": {},
   "outputs": [],
   "source": [
    "l = 0:(Nx-1)\n",
    "m = 0:(Ny-1)\n",
    "# kx² = @. (4 / Δx^2) * sin(π*l / Nx)^2;\n",
    "# ky² = @. (4 / Δy^2) * sin(π*m / Ny)^2;\n",
    "kx² = @. ((2*π / Lx) * l)^2\n",
    "ky² = @. ((2*π / Ly) * m)^2"
   ]
  },
  {
   "cell_type": "code",
   "execution_count": null,
   "metadata": {},
   "outputs": [],
   "source": [
    "# ϕh = - fh ./ k²[1:Int(Nx/2 + 1), :]; ϕh[1, 1] = 0; ϕh[1, end] = 0; ϕh\n",
    "ϕh = zeros(Complex{Float64}, size(fh))\n",
    "for j in 1:Ny, i in 1:Int(Nx/2)\n",
    "    ϕh[i, j] = - fh[i, j] / (kx²[i] + ky²[j])\n",
    "end\n",
    "ϕh[1, 1] = 0; ϕh[1, end] = 0;\n",
    "ϕh"
   ]
  },
  {
   "cell_type": "code",
   "execution_count": null,
   "metadata": {},
   "outputs": [],
   "source": [
    "ϕs = FFTW.irfft(ϕh, Nx)"
   ]
  },
  {
   "cell_type": "code",
   "execution_count": null,
   "metadata": {},
   "outputs": [],
   "source": [
    "maximum(ϕs) - minimum(ϕs)"
   ]
  },
  {
   "cell_type": "code",
   "execution_count": null,
   "metadata": {},
   "outputs": [],
   "source": [
    "PyPlot.contourf(x, y, ϕs, levels=20); PyPlot.colorbar();"
   ]
  },
  {
   "cell_type": "code",
   "execution_count": null,
   "metadata": {},
   "outputs": [],
   "source": [
    "PyPlot.contourf(Δx * (0:(2*Nx-1)), Δy * (0:(2*Ny-1)), vcat(hcat(ϕs, ϕs), hcat(ϕs, ϕs)) .- minimum(ϕs), levels=20); PyPlot.colorbar();"
   ]
  },
  {
   "cell_type": "code",
   "execution_count": null,
   "metadata": {},
   "outputs": [],
   "source": [
    "fh = FFTW.fft(f)\n",
    "ϕh = zeros(Complex{Float64}, size(fh))\n",
    "for j in 1:Ny, i in 1:Ny\n",
    "    ϕh[i, j] = - fh[i, j] / (kx²[i] + ky²[j])\n",
    "end\n",
    "ϕh[1,1] = 0\n",
    "ϕs = FFTW.ifft(ϕh)\n",
    "PyPlot.contourf(x, y, ϕs, levels=20); PyPlot.colorbar();"
   ]
  },
  {
   "cell_type": "code",
   "execution_count": 82,
   "metadata": {},
   "outputs": [
    {
     "data": {
      "text/plain": [
       "solve_poisson_2d_pbc (generic function with 2 methods)"
      ]
     },
     "execution_count": 82,
     "metadata": {},
     "output_type": "execute_result"
    }
   ],
   "source": [
    "function solve_poisson_2d_pbc(f, Lx, Ly, wavenumbers=:second_order)\n",
    "    Nx, Ny = size(f)  # Number of grid points (excluding the periodic end point).\n",
    "\n",
    "    # Forward transform the real-valued source term.\n",
    "    fh = FFTW.rfft(f)\n",
    "\n",
    "    # Wavenumbers.\n",
    "    # l, m = 0:Nx, 0:Ny  # Wavenumber indices.\n",
    "    # kx² = @. ((2*π / Lx) * l)^2\n",
    "    # ky² = @. ((2*π / Ly) * m)^2\n",
    "    # ϕh = - fh ./ k²[1:Int(Nx/2 + 1), :]; ϕh[1, 1] = 0; ϕh[1, end] = 0; ϕh\n",
    "    \n",
    "    i1 = 0:Int(Nx/2)\n",
    "    i2 = Int(-Nx/2+1):-1\n",
    "    j1 = 0:Int(Ny/2)\n",
    "    j2 = Int(-Ny/2+1):-1\n",
    "    \n",
    "    if wavenumbers == :second_order\n",
    "        Δx = Lx/Nx\n",
    "        Δy = Ly/Ny\n",
    "        kx² = reshape((4/Δx^2) .* sin.( (π/Nx) .* cat(i1, i2, dims=1)).^2, (Nx, 1))\n",
    "        ky² = reshape((4/Δy^2) .* sin.( (π/Ny) .* cat(j1, j2, dims=1)).^2, (1, Ny))\n",
    "        k² = @. kx² + ky²\n",
    "    elseif wavenumbers == :analytic    \n",
    "        kx = reshape((2π/Lx) * cat(i1, i2, dims=1), (Nx, 1))\n",
    "        ky = reshape((2π/Ly) * cat(j1, j2, dims=1), (1, Ny))\n",
    "        k² = @. kx^2 + ky^2\n",
    "    end\n",
    "    \n",
    "    ϕh = - fh ./ k²[1:Int(Nx/2 + 1), :]\n",
    "\n",
    "    # Setting the DC/zero Fourier component to zero.\n",
    "    ϕh[1, 1] = 0\n",
    "\n",
    "    # Take the inverse transform of the solution's Fourier coefficients.\n",
    "    ϕ = FFTW.irfft(ϕh, Nx)\n",
    "end"
   ]
  },
  {
   "cell_type": "code",
   "execution_count": 56,
   "metadata": {},
   "outputs": [
    {
     "data": {
      "image/png": "[encoded data removed]",
      "text/plain": [
       "Figure(PyObject <matplotlib.figure.Figure object at 0x0000000032B61080>)"
      ]
     },
     "metadata": {},
     "output_type": "display_data"
    },
    {
     "name": "stdout",
     "output_type": "stream",
     "text": [
      "minimum(ϕs) = -0.04908752080575006\n",
      "maximum(ϕs) = 0.950912423196228\n",
      "minimum(ϕs) = 0.0\n",
      "maximum(ϕs) = 0.9999999440019781\n"
     ]
    }
   ],
   "source": [
    "ϕs = solve_poisson_2d_pbc(f, Lx, Ly, :analytic)\n",
    "@show minimum(ϕs)\n",
    "@show maximum(ϕs)\n",
    "ϕs = ϕs .- minimum(ϕs)\n",
    "@show minimum(ϕs)\n",
    "@show maximum(ϕs)\n",
    "PyPlot.contourf(x, y, ϕs .- minimum(ϕs)); PyPlot.colorbar();"
   ]
  },
  {
   "cell_type": "code",
   "execution_count": 57,
   "metadata": {},
   "outputs": [
    {
     "name": "stdout",
     "output_type": "stream",
     "text": [
      "size(x″) = (256,)\n",
      "size(y″) = (256,)\n",
      "size(ϕs″) = (256, 256)"
     ]
    },
    {
     "data": {
      "image/png": "[encoded data removed]",
      "text/plain": [
       "Figure(PyObject <matplotlib.figure.Figure object at 0x00000000327E6358>)"
      ]
     },
     "metadata": {},
     "output_type": "display_data"
    },
    {
     "name": "stdout",
     "output_type": "stream",
     "text": [
      "\n"
     ]
    }
   ],
   "source": [
    "x″ = Δx * (0:(2*Nx-1))\n",
    "y″ = Δy * (0:(2*Ny-1))\n",
    "ϕs″ = vcat(hcat(ϕs, ϕs), hcat(ϕs, ϕs))\n",
    "@show size(x″)\n",
    "@show size(y″)\n",
    "@show size(ϕs″)\n",
    "PyPlot.contourf(x″, y″, ϕs″); PyPlot.colorbar();"
   ]
  },
  {
   "cell_type": "code",
   "execution_count": 58,
   "metadata": {},
   "outputs": [
    {
     "data": {
      "image/png": "[encoded data removed]",
      "text/plain": [
       "Figure(PyObject <matplotlib.figure.Figure object at 0x000000003295B9E8>)"
      ]
     },
     "metadata": {},
     "output_type": "display_data"
    }
   ],
   "source": [
    "PyPlot.contourf(x, y, ϕs - ϕa); PyPlot.colorbar();"
   ]
  },
  {
   "cell_type": "code",
   "execution_count": 59,
   "metadata": {},
   "outputs": [
    {
     "name": "stdout",
     "output_type": "stream",
     "text": [
      "max_error = mean(abs.(ϕs - ϕa)) = 2.2440185716619203e-7\n",
      "max_error = mean(abs.(ϕs - ϕa)) = 1.9849675829731164e-7\n",
      "max_error = mean(abs.(ϕs - ϕa)) = 1.917825167686224e-7\n",
      "max_error = mean(abs.(ϕs - ϕa)) = 1.900879994864028e-7\n",
      "max_error = mean(abs.(ϕs - ϕa)) = 1.8966334603817666e-7\n",
      "max_error = mean(abs.(ϕs - ϕa)) = 1.8955711793017795e-7\n"
     ]
    }
   ],
   "source": [
    "Ns = [32, 64, 128, 256, 512, 1024]\n",
    "errors = []\n",
    "\n",
    "for N in Ns\n",
    "    Lx, Ly = 8, 8;\n",
    "    Nx, Ny = 2*N, N\n",
    "    Δx, Δy = Lx/Nx, Ly/Ny;\n",
    "    x = Δx * (0:(Nx-1));\n",
    "    y = Δy * (0:(Ny-1));\n",
    "    \n",
    "    # Primed coordinates to get a Gaussian centered at (Lx/2, Ly/2).\n",
    "    x′ = @. x - Lx/2;\n",
    "    y′ = @. y - Ly/2;\n",
    "    \n",
    "    f = @. 4 * (x′^2 + y′'^2 - 1) * exp(-(x′^2 + y′'^2))  # Source term\n",
    "    f .= f .- mean(f)  # Ensure that source term integrates to zero.\n",
    "    \n",
    "    ϕa = @. exp(-(x′^2 + y′'^2))  # Analytic solution\n",
    "\n",
    "    ϕs = solve_poisson_2d_pbc(f, Lx, Ly, :analytic)\n",
    "    \n",
    "    # Choosing the solution that integrates out to zero.\n",
    "    # ϕs = ϕs .- minimum(ϕs)\n",
    "    ϕs = ϕs .+ (1 - maximum(ϕs))\n",
    "\n",
    "    @show max_error = mean(abs.(ϕs - ϕa))\n",
    "    append!(errors, max_error)\n",
    "end"
   ]
  },
  {
   "cell_type": "code",
   "execution_count": 60,
   "metadata": {},
   "outputs": [
    {
     "name": "stdout",
     "output_type": "stream",
     "text": [
      "size(x) = (2048,)\n",
      "size(y) = "
     ]
    },
    {
     "data": {
      "image/png": "[encoded data removed]",
      "text/plain": [
       "Figure(PyObject <matplotlib.figure.Figure object at 0x0000000032A1D7F0>)"
      ]
     },
     "metadata": {},
     "output_type": "display_data"
    },
    {
     "name": "stdout",
     "output_type": "stream",
     "text": [
      "(1024,)\n",
      "size(ϕs) = (2048, 1024)\n"
     ]
    }
   ],
   "source": [
    "@show size(x)\n",
    "@show size(y)\n",
    "@show size(ϕs)\n",
    "PyPlot.contourf(y, x, ϕs); PyPlot.colorbar();\n",
    "# PyPlot.loglog(Ns, errors, linestyle=\"--\", marker=\"o\");"
   ]
  },
  {
   "cell_type": "code",
   "execution_count": 61,
   "metadata": {},
   "outputs": [
    {
     "name": "stdout",
     "output_type": "stream",
     "text": [
      "minimum(ϕa) = 1.2664165549094176e-14\n",
      "maximum(ϕa) = 1.0\n",
      "minimum(ϕs) = 5.490275933883737e-8\n",
      "maximum(ϕs) = 1.0\n",
      "1 - maximum(ϕs) = 0.0\n",
      "minimum(ϕss) = 5.490275933883737e-8\n",
      "maximum(ϕss) = 1.0\n"
     ]
    },
    {
     "data": {
      "text/plain": [
       "1.0"
      ]
     },
     "execution_count": 61,
     "metadata": {},
     "output_type": "execute_result"
    }
   ],
   "source": [
    "@show minimum(ϕa)\n",
    "@show maximum(ϕa)\n",
    "@show minimum(ϕs)\n",
    "@show maximum(ϕs)\n",
    "@show 1 - maximum(ϕs)\n",
    "ϕss = ϕs .+ (1 - maximum(ϕs))\n",
    "@show minimum(ϕss)\n",
    "@show maximum(ϕss)"
   ]
  },
  {
   "cell_type": "code",
   "execution_count": 62,
   "metadata": {},
   "outputs": [
    {
     "data": {
      "text/plain": [
       "laplacian2d (generic function with 1 method)"
      ]
     },
     "execution_count": 62,
     "metadata": {},
     "output_type": "execute_result"
    }
   ],
   "source": [
    "laplacian2d(f) = circshift(f, (1, 0)) - 2 .* f + circshift(f, (-1, 0)) + circshift(f, (0, 1)) - 2 .* f + circshift(f, (0, -1))"
   ]
  },
  {
   "cell_type": "code",
   "execution_count": 83,
   "metadata": {},
   "outputs": [
    {
     "data": {
      "text/plain": [
       "10×10 Array{Float64,2}:\n",
       "  0.0923221    0.204696   -0.152894   …   0.181885   -0.473349    0.311443\n",
       "  0.0298243    0.301623    0.166081      -0.0853754   0.214173   -0.280154\n",
       " -0.472058     0.120993    0.0853811     -0.115356   -0.184534   -0.239892\n",
       " -0.0891761    0.405669    0.494336      -0.19203     0.215539    0.186876\n",
       "  0.24722     -0.342915    0.409474      -0.154223   -0.0306155   0.158354\n",
       "  0.0784984   -0.219825    0.384238   …   0.27245     0.250435    0.346752\n",
       "  0.468206     0.150624   -0.0956268     -0.412464   -0.0762061   0.301214\n",
       "  0.245967     0.119621   -0.41707       -0.478368   -0.161229   -0.122088\n",
       "  0.50002      0.0915512  -0.447612      -0.0687318  -0.143746    0.387293\n",
       " -0.00467937  -0.373025   -0.450645      -0.0975156   0.334056   -0.376174"
      ]
     },
     "execution_count": 83,
     "metadata": {},
     "output_type": "execute_result"
    }
   ],
   "source": [
    "N = 10\n",
    "A = rand(N, N)\n",
    "A .= A .- mean(A)"
   ]
  },
  {
   "cell_type": "code",
   "execution_count": 84,
   "metadata": {},
   "outputs": [
    {
     "data": {
      "text/plain": [
       "10×10 Array{Float64,2}:\n",
       " -0.0562155  -0.0395678   0.0971257  …   0.0821332    0.13516    -0.0324049\n",
       " -0.034399   -0.159799   -0.086699       0.0900979    0.0313533   0.0736981\n",
       "  0.0345447  -0.176908   -0.148225       0.0317105    0.04063     0.0500892\n",
       " -0.172661   -0.31316    -0.316504      -0.00112889  -0.135167   -0.188408 \n",
       " -0.312799   -0.180898   -0.277183      -0.0308319   -0.17622    -0.309016 \n",
       " -0.341399   -0.163364   -0.154107   …  -0.121151    -0.260481   -0.400285 \n",
       " -0.41065    -0.196876    0.0354316      0.123214    -0.0938348  -0.34349  \n",
       " -0.29263    -0.0982979   0.200555       0.192052     0.0292123  -0.167976 \n",
       " -0.247631    0.0153812   0.333691       0.129435     0.0253794  -0.187085 \n",
       " -0.026168    0.165313    0.338582       0.0891725   -0.0137907   0.0291815"
      ]
     },
     "execution_count": 84,
     "metadata": {},
     "output_type": "execute_result"
    }
   ],
   "source": [
    "B = solve_poisson_2d_pbc(A, N, N, :second_order)"
   ]
  },
  {
   "cell_type": "code",
   "execution_count": 87,
   "metadata": {},
   "outputs": [
    {
     "data": {
      "text/plain": [
       "10×10 Array{Float64,2}:\n",
       "  0.0923221    0.204696   -0.152894   …   0.181885   -0.473349    0.311443\n",
       "  0.0298243    0.301623    0.166081      -0.0853754   0.214173   -0.280154\n",
       " -0.472058     0.120993    0.0853811     -0.115356   -0.184534   -0.239892\n",
       " -0.0891761    0.405669    0.494336      -0.19203     0.215539    0.186876\n",
       "  0.24722     -0.342915    0.409474      -0.154223   -0.0306155   0.158354\n",
       "  0.0784984   -0.219825    0.384238   …   0.27245     0.250435    0.346752\n",
       "  0.468206     0.150624   -0.0956268     -0.412464   -0.0762061   0.301214\n",
       "  0.245967     0.119621   -0.41707       -0.478368   -0.161229   -0.122088\n",
       "  0.50002      0.0915512  -0.447612      -0.0687318  -0.143746    0.387293\n",
       " -0.00467937  -0.373025   -0.450645      -0.0975156   0.334056   -0.376174"
      ]
     },
     "execution_count": 87,
     "metadata": {},
     "output_type": "execute_result"
    }
   ],
   "source": [
    "Ar = laplacian2d(B)"
   ]
  },
  {
   "cell_type": "code",
   "execution_count": 86,
   "metadata": {},
   "outputs": [
    {
     "data": {
      "text/plain": [
       "true"
      ]
     },
     "execution_count": 86,
     "metadata": {},
     "output_type": "execute_result"
    }
   ],
   "source": [
    "A ≈ Ar"
   ]
  },
  {
   "cell_type": "code",
   "execution_count": 51,
   "metadata": {},
   "outputs": [
    {
     "data": {
      "text/plain": [
       "1×8 Array{Float64,2}:\n",
       " 0.0  12.2459  22.6274  29.5641  32.0  -29.5641  -22.6274  -12.2459"
      ]
     },
     "execution_count": 51,
     "metadata": {},
     "output_type": "execute_result"
    }
   ],
   "source": [
    "Nx, Ny = 8, 8\n",
    "\n",
    "i1 = 0:Int(Nx/2)\n",
    "i2 = Int(-Nx/2+1):-1\n",
    "j1 = 0:Int(Ny/2)\n",
    "j2 = Int(-Ny/2+1):-1\n",
    "\n",
    "# ky = @. (2 / Δy) * sin(π*m / Ny);\n",
    "\n",
    "kx = reshape((2/Δx) .* sin.( (π/Nx) .* cat(i1, i2, dims=1)), (Nx, 1))\n",
    "ky = reshape((2/Δy) .* sin.( (π/Ny) .* cat(j1, j2, dims=1)), (1, Ny))"
   ]
  },
  {
   "cell_type": "code",
   "execution_count": 422,
   "metadata": {},
   "outputs": [
    {
     "data": {
      "text/plain": [
       "solve_poisson_2d_mbc (generic function with 2 methods)"
      ]
     },
     "execution_count": 422,
     "metadata": {},
     "output_type": "execute_result"
    }
   ],
   "source": [
    "function solve_poisson_2d_mbc(f, Lx, Ly, wavenumbers=:second_order)\n",
    "    Nx, Ny = size(f)  # Number of grid points (excluding the periodic end point).\n",
    "\n",
    "    # Forward transform the real-valued source term.\n",
    "    fh = FFTW.dct(FFTW.rfft(f, 1), 2)\n",
    "\n",
    "    # Wavenumber indices.    \n",
    "    i1 = 0:Int(Nx/2)\n",
    "    i2 = Int(-Nx/2+1):-1\n",
    "    j1 = 0:Int(Ny/2)\n",
    "    j2 = Int(-Ny/2+1):-1\n",
    "    \n",
    "    if wavenumbers == :second_order\n",
    "        Δx = Lx/Nx\n",
    "        Δy = Ly/Ny\n",
    "        \n",
    "        kx² = reshape((4/Δx^2) .* sin.( (π/Nx) .* cat(i1, i2, dims=1)).^2, (Nx, 1))\n",
    "        # kx² = reshape((4/Δx^2) .* sin.( (π/Nx) .* 0:(Nx-1)).^2, (Nx, 1))\n",
    "        \n",
    "        # ky² = reshape((4/Δy^2) .* sin.( (π/(2*Ny) .* cat(j1, j2, dims=1)).^2, (1, Ny))\n",
    "        # ky² = reshape((4/Δy^2) .* sin.( (π/(2*Ny) .* 0:(Ny-1)).^2, (1, Ny))\n",
    "        ky² = reshape((4/Δy^2) .* sin.( (π/(2*Ny) .* 0:(Ny-1))).^2, (1, Ny))\n",
    "        \n",
    "        k² = @. kx² + ky²\n",
    "    elseif wavenumbers == :analytic    \n",
    "        kx = reshape((2π/Lx) * cat(i1, i2, dims=1), (Nx, 1))\n",
    "        ky = reshape((1π/Ly) * cat(j1, j2, dims=1), (1, Ny))\n",
    "        k² = @. kx^2 + ky^2\n",
    "    end\n",
    "        \n",
    "    ϕh = - fh ./ k²[1:Int(Nx/2 + 1), :]\n",
    "\n",
    "    # Setting the DC/zero Fourier component to zero.\n",
    "    ϕh[1, 1] = 0\n",
    "\n",
    "    # Take the inverse transform of the solution's Fourier coefficients.\n",
    "    ϕ = FFTW.irfft(FFTW.idct(ϕh, 2), Nx, 1)\n",
    "end"
   ]
  },
  {
   "cell_type": "code",
   "execution_count": 415,
   "metadata": {},
   "outputs": [
    {
     "data": {
      "text/plain": [
       "horizontal_laplacian (generic function with 1 method)"
      ]
     },
     "execution_count": 415,
     "metadata": {},
     "output_type": "execute_result"
    }
   ],
   "source": [
    "horizontal_laplacian(f) = circshift(f, (1, 0)) + circshift(f, (-1, 0)) + circshift(f, (0, 1)) + circshift(f, (0, -1)) - 4 .* f"
   ]
  },
  {
   "cell_type": "code",
   "execution_count": 416,
   "metadata": {},
   "outputs": [
    {
     "name": "stdout",
     "output_type": "stream",
     "text": [
      "(mean(ff), sum(ff)) = (2.4671622769447922e-17, 8.881784197001252e-16)\n"
     ]
    }
   ],
   "source": [
    "Nx, Ny = 6, 6\n",
    "# ff = exp.(collect(1:Nx) .+ collect(1:Ny)')\n",
    "ff = rand(Nx, Ny)\n",
    "ff[:, 1] .= ff[:, 2]\n",
    "ff[:, end] .= ff[:, end-1]\n",
    "ff .= ff .- mean(ff)\n",
    "ff\n",
    "@show mean(ff), sum(ff);"
   ]
  },
  {
   "cell_type": "code",
   "execution_count": 417,
   "metadata": {},
   "outputs": [
    {
     "data": {
      "text/plain": [
       "6×6 Array{Float64,2}:\n",
       " 0.727778  -0.92741   -0.842973  0.910722  0.853553  -0.778432\n",
       " 0.692218  -0.949497  -0.880383  0.85499   0.713173  -0.899294\n",
       " 0.851998  -0.769705  -0.793929  0.843703  0.75998   -0.851745\n",
       " 1.00876   -0.685243  -0.861965  1.02428   0.966226  -0.739374\n",
       " 0.878764  -0.810844  -0.91846   0.888395  0.828283  -0.866655\n",
       " 0.732872  -0.949989  -0.929473  0.890926  0.850727  -0.821982"
      ]
     },
     "execution_count": 417,
     "metadata": {},
     "output_type": "execute_result"
    }
   ],
   "source": [
    "ϕr = solve_poisson_2d_mbc(ff, Nx, Ny, :second_order)"
   ]
  },
  {
   "cell_type": "code",
   "execution_count": 418,
   "metadata": {},
   "outputs": [
    {
     "data": {
      "text/plain": [
       "6×6 Array{Float64,2}:\n",
       " -3.19186  1.69496  1.54535  -1.88639  -1.71802  2.97378\n",
       " -3.03789  1.91271  1.79012  -1.83274  -1.28346  3.37239\n",
       " -3.32846  1.50215  1.50737  -1.52949  -1.36856  3.38029\n",
       " -3.7289   1.30722  2.07451  -2.26078  -1.99173  3.21408\n",
       " -3.45092  1.56845  1.95995  -1.72855  -1.47444  3.61231\n",
       " -3.09692  1.8651   1.8974   -1.84333  -1.65213  3.22644"
      ]
     },
     "execution_count": 418,
     "metadata": {},
     "output_type": "execute_result"
    }
   ],
   "source": [
    "ffr = horizontal_laplacian(ϕr)"
   ]
  },
  {
   "cell_type": "code",
   "execution_count": 419,
   "metadata": {},
   "outputs": [
    {
     "data": {
      "text/plain": [
       "6×6 Array{Float64,2}:\n",
       " 3.4107   1.47613  1.61555  1.49843  1.43718  3.25463\n",
       " 3.37932  1.57128  1.66972  1.4885   1.51452  3.14134\n",
       " 3.17941  1.65121  1.61552  1.5666   1.63479  3.11407\n",
       " 3.34259  1.69352  1.64843  1.75655  1.72431  3.4815 \n",
       " 3.32996  1.68941  1.65578  1.69819  1.7019   3.38486\n",
       " 3.44471  1.51731  1.62935  1.57939  1.50056  3.37801"
      ]
     },
     "execution_count": 419,
     "metadata": {},
     "output_type": "execute_result"
    }
   ],
   "source": [
    "@. abs(ffr - ff)"
   ]
  },
  {
   "cell_type": "code",
   "execution_count": 420,
   "metadata": {},
   "outputs": [
    {
     "data": {
      "text/plain": [
       "6×6 Array{Float64,2}:\n",
       " -14.586      7.74554  -22.0131     4.86227   6.11738  -10.5888\n",
       "  -8.89753    5.60205   14.8675     5.32401  -5.55485   14.5958\n",
       "  22.3302   -10.0777   -13.9375   -41.2141   -5.14068   12.6972\n",
       "   9.65269   -3.38389    4.86875    4.48367   7.4479   -12.0188\n",
       "  28.5294   -12.9667     6.4436    56.9439   -6.48234   15.8814\n",
       "  -8.90445    5.36266    7.07861    6.98398  10.9002   -21.2869"
      ]
     },
     "execution_count": 420,
     "metadata": {},
     "output_type": "execute_result"
    }
   ],
   "source": [
    "@. ffr / ff"
   ]
  },
  {
   "cell_type": "code",
   "execution_count": 421,
   "metadata": {},
   "outputs": [
    {
     "data": {
      "text/plain": [
       "false"
      ]
     },
     "execution_count": 421,
     "metadata": {},
     "output_type": "execute_result"
    }
   ],
   "source": [
    "ff ≈ ffr"
   ]
  },
  {
   "cell_type": "code",
   "execution_count": null,
   "metadata": {},
   "outputs": [],
   "source": []
  },
  {
   "cell_type": "code",
   "execution_count": null,
   "metadata": {},
   "outputs": [],
   "source": []
  }
 ],
 "metadata": {
  "@webio": {
   "lastCommId": "28571FB339E5471E8218DD8EE5473F58",
   "lastKernelId": "6ebdb1ce-e98c-4110-92e4-0da8e6ad7bb1"
  },
  "kernelspec": {
   "display_name": "Julia 1.0.0",
   "language": "julia",
   "name": "julia-1.0"
  },
  "language_info": {
   "file_extension": ".jl",
   "mimetype": "application/julia",
   "name": "julia",
   "version": "1.0.0"
  }
 },
 "nbformat": 4,
 "nbformat_minor": 2
}
