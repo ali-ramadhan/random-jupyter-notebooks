{
 "cells": [
  {
   "cell_type": "code",
   "execution_count": null,
   "metadata": {},
   "outputs": [],
   "source": [
    "cd(\"/home/gridsan/aramadhan/tmp\")\n",
    "pwd()"
   ]
  },
  {
   "cell_type": "code",
   "execution_count": 1,
   "metadata": {},
   "outputs": [],
   "source": [
    "using Printf"
   ]
  },
  {
   "cell_type": "code",
   "execution_count": 2,
   "metadata": {},
   "outputs": [
    {
     "data": {
      "text/plain": [
       "prettytime (generic function with 1 method)"
      ]
     },
     "execution_count": 2,
     "metadata": {},
     "output_type": "execute_result"
    }
   ],
   "source": [
    "# Source: https://github.com/JuliaCI/BenchmarkTools.jl/blob/master/src/trials.jl\n",
    "function prettytime(t)\n",
    "    if t < 1e3\n",
    "        value, units = t, \"ns\"\n",
    "    elseif t < 1e6\n",
    "        value, units = t / 1e3, \"μs\"\n",
    "    elseif t < 1e9\n",
    "        value, units = t / 1e6, \"ms\"\n",
    "    else\n",
    "        s = t / 1e9\n",
    "        if s < 60\n",
    "            value, units = s, \"s\"\n",
    "        else\n",
    "            value, units = (s / 60), \"min\"\n",
    "        end\n",
    "    end\n",
    "    return string(@sprintf(\"%.3f\", value), \" \", units)\n",
    "end"
   ]
  },
  {
   "cell_type": "code",
   "execution_count": 3,
   "metadata": {},
   "outputs": [
    {
     "data": {
      "text/plain": [
       "datasize"
      ]
     },
     "execution_count": 3,
     "metadata": {},
     "output_type": "execute_result"
    }
   ],
   "source": [
    "# https://github.com/IainNZ/Humanize.jl/blob/master/src/Humanize.jl\n",
    "\n",
    "import Printf: @sprintf\n",
    "\n",
    "const SUFFIXES = Dict(\n",
    "    :dec => [\" B\", \" kB\", \" MB\", \" GB\", \" TB\", \" PB\", \" EB\", \" ZB\", \" YB\"],\n",
    "    :bin => [\" B\", \" KiB\", \" MiB\", \" GiB\", \" TiB\", \" PiB\", \" EiB\", \" ZiB\", \" YiB\"],\n",
    "    :gnu => [\"\", \"K\", \"M\", \"G\", \"T\", \"P\", \"E\", \"Z\", \"Y\"]\n",
    ")\n",
    "const BASES = Dict(:dec => 1000, :bin => 1024, :gnu => 1024)\n",
    "\n",
    "\n",
    "\n",
    "\"\"\"\n",
    "    datasize(value::Number; style=:dec, format=\"%.1f\")\n",
    "Format a number of bytes in a human-friendly format (eg. 10 kB).\n",
    "    style=:dec - default, decimal suffixes (kB, MB), base 10^3\n",
    "    style=:bin - binary suffixes (KiB, MiB), base 2^10\n",
    "    style=:gnu - GNU-style (ls -sh style, K, M), base 2^10\n",
    "\"\"\"\n",
    "function datasize(value::Number; style=:dec, format=\"%.1f\")::String\n",
    "    suffix = SUFFIXES[style]\n",
    "    base = float(BASES[style])\n",
    "    bytes = float(value)\n",
    "    unit = base\n",
    "    biggest_suffix = suffix[1]\n",
    "    for power in 1:length(suffix)\n",
    "        unit = base^power\n",
    "        biggest_suffix = suffix[power]\n",
    "        bytes < unit && break\n",
    "    end\n",
    "    value = base * bytes / unit\n",
    "    format = \"$format%s\"\n",
    "    return @eval @sprintf($format, $value, $biggest_suffix)\n",
    "end"
   ]
  },
  {
   "cell_type": "code",
   "execution_count": null,
   "metadata": {},
   "outputs": [],
   "source": [
    "N = 256\n",
    "A = rand(N, N, N)\n",
    "\n",
    "for cl in 0:9\n",
    "    tic = time_ns()\n",
    "    \n",
    "    filename = \"compress\" * string(cl) * \".nc\"\n",
    "    varname  = \"rands\"\n",
    "    attribs  = Dict(\"units\"   => \"m/s\")\n",
    "\n",
    "    nccreate(filename, varname,\n",
    "             \"x1\", collect(1:N), Dict(\"units\"=>\"m\"),\n",
    "             \"x2\", collect(1:N), Dict(\"units\"=>\"m\"),\n",
    "             \"x3\", collect(1:N), Dict(\"units\"=>\"m\"),\n",
    "             atts=attribs, chunksize=(1,16,256), compress=cl)\n",
    "    ncwrite(A, filename, varname)\n",
    "    ncclose(filename)\n",
    "    \n",
    "    toc = time_ns()\n",
    "    \n",
    "    ts = prettytime(toc - tic)\n",
    "    fs = datasize(filesize(filename); style=:bin, format=\"%.3f\")\n",
    "    println(\"Compression level $cl: $ts $fs\")\n",
    "end"
   ]
  },
  {
   "cell_type": "code",
   "execution_count": null,
   "metadata": {},
   "outputs": [],
   "source": [
    "ncclose(filename)"
   ]
  },
  {
   "cell_type": "code",
   "execution_count": 4,
   "metadata": {},
   "outputs": [
    {
     "data": {
      "text/plain": [
       "\"/home/gridsan/aramadhan/tmp/NetCDF.jl\""
      ]
     },
     "execution_count": 4,
     "metadata": {},
     "output_type": "execute_result"
    }
   ],
   "source": [
    "using Pkg\n",
    "cd(\"/home/gridsan/aramadhan/tmp/NetCDF.jl\")\n",
    "Pkg.activate(\".\");\n",
    "pwd()"
   ]
  },
  {
   "cell_type": "code",
   "execution_count": 9,
   "metadata": {},
   "outputs": [
    {
     "name": "stderr",
     "output_type": "stream",
     "text": [
      "┌ Info: Recompiling stale cache file /home/gridsan/aramadhan/.julia/compiled/v1.1/NetCDF/WUyLg.ji for NetCDF [30363a11-5582-574a-97bb-aa9a979735b9]\n",
      "└ @ Base loading.jl:1184\n",
      "┌ Warning: Package NetCDF does not have Libdl in its dependencies:\n",
      "│ - If you have NetCDF checked out for development and have\n",
      "│   added Libdl as a dependency but haven't updated your primary\n",
      "│   environment's manifest file, try `Pkg.resolve()`.\n",
      "│ - Otherwise you may need to report an issue with NetCDF\n",
      "└ Loading Libdl into NetCDF from project dependency, future warnings for NetCDF are suppressed.\n",
      "WARNING: using NetCDF.NetCDF in module Main conflicts with an existing identifier.\n"
     ]
    },
    {
     "ename": "ErrorException",
     "evalue": "importing NetCDF into Main conflicts with an existing identifier",
     "output_type": "error",
     "traceback": [
      "importing NetCDF into Main conflicts with an existing identifier",
      "",
      "Stacktrace:",
      " [1] top-level scope at In[9]:1"
     ]
    }
   ],
   "source": [
    "using NetCDF"
   ]
  },
  {
   "cell_type": "code",
   "execution_count": 15,
   "metadata": {},
   "outputs": [
    {
     "name": "stdout",
     "output_type": "stream",
     "text": [
      "Compression level 0: 866.125 ms 128.280 MiB\n",
      "Compression level 1: 930.343 ms 12.469 MiB\n",
      "Compression level 2: 985.205 ms 12.097 MiB\n",
      "Compression level 3: 1.078 s 11.716 MiB\n",
      "Compression level 4: 1.407 s 11.421 MiB\n",
      "Compression level 5: 1.557 s 11.212 MiB\n",
      "Compression level 6: 1.918 s 11.010 MiB\n",
      "Compression level 7: 2.348 s 10.952 MiB\n",
      "Compression level 8: 4.791 s 10.858 MiB\n",
      "Compression level 9: 6.997 s 10.843 MiB\n"
     ]
    }
   ],
   "source": [
    "N = 256\n",
    "A = Float64.(rand(1:10, N, N, N))\n",
    "\n",
    "for cl in 0:9\n",
    "    tic = time_ns()\n",
    "    \n",
    "    filename = \"compress\" * string(cl) * \".nc\"\n",
    "    varname  = \"rands\"\n",
    "    attribs  = Dict(\"units\"   => \"m/s\")\n",
    "\n",
    "    nccreate(filename, varname,\n",
    "             \"x1\", collect(1:N), Dict(\"units\"=>\"m\"),\n",
    "             \"x2\", collect(1:N), Dict(\"units\"=>\"m\"),\n",
    "             \"x3\", collect(1:N), Dict(\"units\"=>\"m\"),\n",
    "             atts=attribs, chunksize=(256,16,1), compress=cl)\n",
    "    ncwrite(A, filename, varname)\n",
    "    ncclose(filename)\n",
    "    \n",
    "    toc = time_ns()\n",
    "    \n",
    "    ts = prettytime(toc - tic)\n",
    "    fs = datasize(filesize(filename); style=:bin, format=\"%.3f\")\n",
    "    println(\"Compression level $cl: $ts $fs\")\n",
    "end"
   ]
  },
  {
   "cell_type": "code",
   "execution_count": null,
   "metadata": {},
   "outputs": [],
   "source": []
  }
 ],
 "metadata": {
  "kernelspec": {
   "display_name": "Julia 1.1.0",
   "language": "julia",
   "name": "julia-1.1"
  },
  "language_info": {
   "file_extension": ".jl",
   "mimetype": "application/julia",
   "name": "julia",
   "version": "1.1.0"
  }
 },
 "nbformat": 4,
 "nbformat_minor": 2
}
