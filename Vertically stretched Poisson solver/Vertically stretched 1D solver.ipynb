{
 "cells": [
  {
   "cell_type": "code",
   "execution_count": 54,
   "metadata": {},
   "outputs": [],
   "source": [
    "using LinearAlgebra, Random, Statistics"
   ]
  },
  {
   "cell_type": "code",
   "execution_count": 72,
   "metadata": {},
   "outputs": [
    {
     "data": {
      "text/plain": [
       "tridiag"
      ]
     },
     "execution_count": 72,
     "metadata": {},
     "output_type": "execute_result"
    }
   ],
   "source": [
    "\"\"\"\n",
    "    tridiag(M::Tridiagonal{T,<:Array}, f::Vector{T})::Vector{T} where T\n",
    "Solve the tridiagonal system of linear equations described by the tridiagonal\n",
    "matrix `M` with right-hand-side `g` assuming one of the eigenvalues is zero\n",
    "(which results in a singular matrix so the general Thomas algorithm has been\n",
    "modified slightly).\n",
    "Reference CPU implementation per Numerical Recipes, Press et. al 1992 (§ 2.4)\n",
    "\"\"\"\n",
    "function tridiag(M::Tridiagonal{T,<:Array}, f::Vector{T})::Vector{T} where T\n",
    "    N = length(f)\n",
    "    ϕ = similar(f)\n",
    "    γ = similar(f)\n",
    "\n",
    "    β    = M.d[1]\n",
    "    ϕ[1] = f[1] / β\n",
    "\n",
    "    for j = 2:N\n",
    "        γ[j] = M.du[j-1] / β\n",
    "        β    = M.d[j] - M.dl[j-1] * γ[j]\n",
    "\n",
    "        # This should only happen on last element of forward pass for problems\n",
    "        # with zero eigenvalue. In that case the algorithmn is still stable.\n",
    "        abs(β) < 1.0e-12 && break\n",
    "\n",
    "        ϕ[j] = (f[j] - M.dl[j-1] * ϕ[j-1]) / β\n",
    "    end\n",
    "\n",
    "    for j = 1:N-1\n",
    "        k = N-j\n",
    "        ϕ[k] = ϕ[k] - γ[k+1] * ϕ[k+1]\n",
    "    end\n",
    "\n",
    "    return ϕ\n",
    "end"
   ]
  },
  {
   "cell_type": "code",
   "execution_count": 9,
   "metadata": {},
   "outputs": [
    {
     "data": {
      "text/plain": [
       "3-element Array{Float64,1}:\n",
       " 1.5\n",
       " 2.5\n",
       " 3.5"
      ]
     },
     "execution_count": 9,
     "metadata": {},
     "output_type": "execute_result"
    }
   ],
   "source": [
    "zF = [1, 2, 4, 7, 11]"
   ]
  },
  {
   "cell_type": "code",
   "execution_count": 34,
   "metadata": {},
   "outputs": [
    {
     "data": {
      "text/plain": [
       "grid (generic function with 1 method)"
      ]
     },
     "execution_count": 34,
     "metadata": {},
     "output_type": "execute_result"
    }
   ],
   "source": [
    "function grid(zF)\n",
    "    Nz = length(zF) - 1\n",
    "    ΔzF = [zF[k+1] - zF[k] for k in 1:Nz]\n",
    "    zC = [(zF[k] + zF[k+1]) / 2 for k in 1:Nz]\n",
    "    ΔzC = [zC[k+1] - zC[k] for k in 1:Nz-1]\n",
    "    return zF, zC, ΔzF, ΔzC\n",
    "end"
   ]
  },
  {
   "cell_type": "code",
   "execution_count": 146,
   "metadata": {},
   "outputs": [
    {
     "data": {
      "text/plain": [
       "([1, 2, 4, 7, 11, 16, 22, 29, 37], [1.5, 3.0, 5.5, 9.0, 13.5, 19.0, 25.5, 33.0], [1, 2, 3, 4, 5, 6, 7, 8], [1.5, 2.5, 3.5, 4.5, 5.5, 6.5, 7.5])"
      ]
     },
     "execution_count": 146,
     "metadata": {},
     "output_type": "execute_result"
    }
   ],
   "source": [
    "zF, zC, ΔzF, ΔzC = grid([1, 2, 4, 7, 11, 16, 22, 29, 37])"
   ]
  },
  {
   "cell_type": "code",
   "execution_count": 140,
   "metadata": {},
   "outputs": [
    {
     "name": "stdout",
     "output_type": "stream",
     "text": [
      "Nz = length(zF) - 1 = 8\n"
     ]
    },
    {
     "data": {
      "text/plain": [
       "7-element Array{Float64,1}:\n",
       " 1.0                \n",
       " 0.5                \n",
       " 0.3333333333333333 \n",
       " 0.25               \n",
       " 0.2                \n",
       " 0.16666666666666666\n",
       " 0.14285714285714285"
      ]
     },
     "execution_count": 140,
     "metadata": {},
     "output_type": "execute_result"
    }
   ],
   "source": [
    "@show Nz = length(zF) - 1\n",
    "ld = [1/ΔzF[k] for k in 1:Nz-1]\n",
    "ud .= ld"
   ]
  },
  {
   "cell_type": "code",
   "execution_count": 142,
   "metadata": {},
   "outputs": [
    {
     "data": {
      "text/plain": [
       "δ (generic function with 1 method)"
      ]
     },
     "execution_count": 142,
     "metadata": {},
     "output_type": "execute_result"
    }
   ],
   "source": [
    "δ(k) = 1/ΔzC[k-1] - 1/ΔzC[k]"
   ]
  },
  {
   "cell_type": "code",
   "execution_count": 144,
   "metadata": {},
   "outputs": [
    {
     "data": {
      "text/plain": [
       "8-element Array{Float64,1}:\n",
       " -0.6666666666666666  \n",
       " -0.2666666666666666  \n",
       " -0.11428571428571432 \n",
       " -0.06349206349206349 \n",
       " -0.04040404040404039 \n",
       " -0.02797202797202797 \n",
       " -0.020512820512820523\n",
       " -0.13333333333333333 "
      ]
     },
     "execution_count": 144,
     "metadata": {},
     "output_type": "execute_result"
    }
   ],
   "source": [
    "d = [-1/ΔzC[1], [-δ(k) for k in 2:Nz-1]..., -1/ΔzC[Nz-1]]"
   ]
  },
  {
   "cell_type": "code",
   "execution_count": 145,
   "metadata": {},
   "outputs": [
    {
     "name": "stdout",
     "output_type": "stream",
     "text": [
      " -0.6666666666666666   1.0                   ⋅                     ⋅                     ⋅                     ⋅                     ⋅                      ⋅                 \n",
      "  1.0                 -0.2666666666666666   0.5                    ⋅                     ⋅                     ⋅                     ⋅                      ⋅                 \n",
      "   ⋅                   0.5                 -0.11428571428571432   0.3333333333333333     ⋅                     ⋅                     ⋅                      ⋅                 \n",
      "   ⋅                    ⋅                   0.3333333333333333   -0.06349206349206349   0.25                   ⋅                     ⋅                      ⋅                 \n",
      "   ⋅                    ⋅                    ⋅                    0.25                 -0.04040404040404039   0.2                    ⋅                      ⋅                 \n",
      "   ⋅                    ⋅                    ⋅                     ⋅                    0.2                  -0.02797202797202797   0.16666666666666666     ⋅                 \n",
      "   ⋅                    ⋅                    ⋅                     ⋅                     ⋅                    0.16666666666666666  -0.020512820512820523   0.14285714285714285\n",
      "   ⋅                    ⋅                    ⋅                     ⋅                     ⋅                     ⋅                    0.14285714285714285   -0.13333333333333333"
     ]
    }
   ],
   "source": [
    "M = Tridiagonal(ld, d, ud)\n",
    "Base.print_matrix(IOContext(stdout, :limit => false), M)"
   ]
  },
  {
   "cell_type": "code",
   "execution_count": 99,
   "metadata": {},
   "outputs": [
    {
     "data": {
      "text/plain": [
       "9-element Array{Float64,1}:\n",
       "  0.0                 \n",
       "  0.646759570592553   \n",
       " -0.09903116920019828 \n",
       " -0.08626812086761892 \n",
       "  0.015283141997317506\n",
       " -0.06012040929196083 \n",
       " -0.22129530140185383 \n",
       " -0.19532771182823871 \n",
       "  0.0                 "
      ]
     },
     "execution_count": 99,
     "metadata": {},
     "output_type": "execute_result"
    }
   ],
   "source": [
    "R = rand(MersenneTwister(0), Nz+1)\n",
    "R[1] = 0\n",
    "R[Nz+1] = 0\n",
    "R[2:Nz] = R[2:Nz] .- mean(R[2:Nz])\n",
    "R"
   ]
  },
  {
   "cell_type": "code",
   "execution_count": 100,
   "metadata": {},
   "outputs": [
    {
     "data": {
      "text/plain": [
       "9-element Array{Float64,1}:\n",
       "  0.0                \n",
       "  0.9701393558888294 \n",
       " -0.2475779230004957 \n",
       " -0.30193842303666624\n",
       "  0.06877413898792878\n",
       " -0.33066225110578457\n",
       " -1.4384194591120498 \n",
       " -1.4649578387117903 \n",
       "  0.0                "
      ]
     },
     "execution_count": 100,
     "metadata": {},
     "output_type": "execute_result"
    }
   ],
   "source": [
    "g = [0, ΔzC..., 0] .* R"
   ]
  },
  {
   "cell_type": "code",
   "execution_count": 101,
   "metadata": {},
   "outputs": [
    {
     "data": {
      "text/plain": [
       "9-element Array{Float64,1}:\n",
       "   2.3002238536898085\n",
       "   2.3002238536898085\n",
       "  -0.3599451419121496\n",
       "  -4.373042120492275 \n",
       "  -2.1855075430945563\n",
       "   5.263796459781347 \n",
       "   1.6913948370350311\n",
       " -15.928132944023416 \n",
       " -15.928132944023416 "
      ]
     },
     "execution_count": 101,
     "metadata": {},
     "output_type": "execute_result"
    }
   ],
   "source": [
    "M \\ g"
   ]
  },
  {
   "cell_type": "code",
   "execution_count": 112,
   "metadata": {},
   "outputs": [
    {
     "data": {
      "text/plain": [
       "9-element Array{Float64,1}:\n",
       "   2.300223853689816 \n",
       "   2.300223853689816 \n",
       "  -0.3599451419121573\n",
       "  -4.373042120492291 \n",
       "  -2.185507543094551 \n",
       "   5.263796459781368 \n",
       "   1.691394837035028 \n",
       " -15.928132944023446 \n",
       " -15.928132944023416 "
      ]
     },
     "execution_count": 112,
     "metadata": {},
     "output_type": "execute_result"
    }
   ],
   "source": [
    "ϕ = tridiag(M, g)"
   ]
  },
  {
   "cell_type": "code",
   "execution_count": 103,
   "metadata": {},
   "outputs": [
    {
     "data": {
      "text/plain": [
       "9-element Array{Float64,1}:\n",
       " 0.0\n",
       " 0.0\n",
       " 0.0\n",
       " 0.0\n",
       " 0.0\n",
       " 0.0\n",
       " 0.0\n",
       " 0.0\n",
       " 0.0"
      ]
     },
     "execution_count": 103,
     "metadata": {},
     "output_type": "execute_result"
    }
   ],
   "source": [
    "∇²ϕ = zeros(Nz+1)"
   ]
  },
  {
   "cell_type": "code",
   "execution_count": 113,
   "metadata": {},
   "outputs": [
    {
     "data": {
      "text/plain": [
       "9-element Array{Float64,1}:\n",
       "  0.0                \n",
       " -0.5320337991203947 \n",
       "  0.9478847855552597 \n",
       "  1.4592286916043633 \n",
       " -0.27599986242667424\n",
       " -1.5814608421840641 \n",
       "  0.259790217485181  \n",
       "  0.0                \n",
       "  0.0                "
      ]
     },
     "execution_count": 113,
     "metadata": {},
     "output_type": "execute_result"
    }
   ],
   "source": [
    "for k in 2:Nz-1\n",
    "    ∇²ϕ[k] = ((ϕ[k-1] - ϕ[k]) / ΔzF[k-1]) - ((ϕ[k] - ϕ[k+1]) / ΔzF[k]) / ΔzC[k]\n",
    "end\n",
    "∇²ϕ"
   ]
  },
  {
   "cell_type": "code",
   "execution_count": 114,
   "metadata": {},
   "outputs": [
    {
     "data": {
      "text/plain": [
       "9-element Array{Float64,1}:\n",
       "  0.0                 \n",
       "  0.646759570592553   \n",
       " -0.09903116920019828 \n",
       " -0.08626812086761892 \n",
       "  0.015283141997317506\n",
       " -0.06012040929196083 \n",
       " -0.22129530140185383 \n",
       " -0.19532771182823871 \n",
       "  0.0                 "
      ]
     },
     "execution_count": 114,
     "metadata": {},
     "output_type": "execute_result"
    }
   ],
   "source": [
    "R"
   ]
  },
  {
   "cell_type": "code",
   "execution_count": null,
   "metadata": {},
   "outputs": [],
   "source": []
  }
 ],
 "metadata": {
  "kernelspec": {
   "display_name": "Julia 1.1.0",
   "language": "julia",
   "name": "julia-1.1"
  },
  "language_info": {
   "file_extension": ".jl",
   "mimetype": "application/julia",
   "name": "julia",
   "version": "1.1.0"
  }
 },
 "nbformat": 4,
 "nbformat_minor": 2
}
