{
 "cells": [
  {
   "cell_type": "code",
   "execution_count": 1,
   "metadata": {},
   "outputs": [],
   "source": [
    "using LinearAlgebra, Random, Statistics"
   ]
  },
  {
   "cell_type": "code",
   "execution_count": 2,
   "metadata": {},
   "outputs": [
    {
     "data": {
      "text/plain": [
       "tridiag"
      ]
     },
     "execution_count": 2,
     "metadata": {},
     "output_type": "execute_result"
    }
   ],
   "source": [
    "\"\"\"\n",
    "    tridiag(M::Tridiagonal{T,<:Array}, f::Vector{T})::Vector{T} where T\n",
    "Solve the tridiagonal system of linear equations described by the tridiagonal\n",
    "matrix `M` with right-hand-side `g` assuming one of the eigenvalues is zero\n",
    "(which results in a singular matrix so the general Thomas algorithm has been\n",
    "modified slightly).\n",
    "Reference CPU implementation per Numerical Recipes, Press et. al 1992 (§ 2.4)\n",
    "\"\"\"\n",
    "function tridiag(M::Tridiagonal{T,<:Array}, f::Vector{T})::Vector{T} where T\n",
    "    N = length(f)\n",
    "    ϕ = similar(f)\n",
    "    γ = similar(f)\n",
    "\n",
    "    β    = M.d[1]\n",
    "    ϕ[1] = f[1] / β\n",
    "\n",
    "    for j = 2:N\n",
    "        γ[j] = M.du[j-1] / β\n",
    "        β    = M.d[j] - M.dl[j-1] * γ[j]\n",
    "\n",
    "        # This should only happen on last element of forward pass for problems\n",
    "        # with zero eigenvalue. In that case the algorithmn is still stable.\n",
    "        abs(β) < 1.0e-12 && break\n",
    "\n",
    "        ϕ[j] = (f[j] - M.dl[j-1] * ϕ[j-1]) / β\n",
    "    end\n",
    "\n",
    "    for j = 1:N-1\n",
    "        k = N-j\n",
    "        ϕ[k] = ϕ[k] - γ[k+1] * ϕ[k+1]\n",
    "    end\n",
    "\n",
    "    return ϕ\n",
    "end"
   ]
  },
  {
   "cell_type": "code",
   "execution_count": 3,
   "metadata": {},
   "outputs": [
    {
     "data": {
      "text/plain": [
       "grid (generic function with 1 method)"
      ]
     },
     "execution_count": 3,
     "metadata": {},
     "output_type": "execute_result"
    }
   ],
   "source": [
    "function grid(zF)\n",
    "    Nz = length(zF) - 1\n",
    "    ΔzF = [zF[k+1] - zF[k] for k in 1:Nz]\n",
    "    zC = [(zF[k] + zF[k+1]) / 2 for k in 1:Nz]\n",
    "    ΔzC = [zC[k+1] - zC[k] for k in 1:Nz-1]\n",
    "    return zF, zC, ΔzF, ΔzC\n",
    "end"
   ]
  },
  {
   "cell_type": "code",
   "execution_count": 6,
   "metadata": {},
   "outputs": [
    {
     "data": {
      "text/plain": [
       "([1, 2, 4, 7, 11, 16, 22, 29, 37], [1.5, 3.0, 5.5, 9.0, 13.5, 19.0, 25.5, 33.0], [1, 2, 3, 4, 5, 6, 7, 8], [1.5, 2.5, 3.5, 4.5, 5.5, 6.5, 7.5])"
      ]
     },
     "execution_count": 6,
     "metadata": {},
     "output_type": "execute_result"
    }
   ],
   "source": [
    "zF = [1, 2, 4, 7, 11, 16, 22, 29, 37]\n",
    "Nz = length(zF) - 1\n",
    "zF, zC, ΔzF, ΔzC = grid(zF)"
   ]
  },
  {
   "cell_type": "code",
   "execution_count": 7,
   "metadata": {},
   "outputs": [
    {
     "data": {
      "text/plain": [
       "7-element Array{Float64,1}:\n",
       " 1.0                \n",
       " 0.5                \n",
       " 0.3333333333333333 \n",
       " 0.25               \n",
       " 0.2                \n",
       " 0.16666666666666666\n",
       " 0.14285714285714285"
      ]
     },
     "execution_count": 7,
     "metadata": {},
     "output_type": "execute_result"
    }
   ],
   "source": [
    "ld = [1/ΔzF[k] for k in 1:Nz-1]\n",
    "ud = copy(ld)"
   ]
  },
  {
   "cell_type": "code",
   "execution_count": 9,
   "metadata": {},
   "outputs": [
    {
     "data": {
      "text/plain": [
       "8-element Array{Float64,1}:\n",
       " -1.0                \n",
       " -1.5                \n",
       " -0.8333333333333333 \n",
       " -0.5833333333333333 \n",
       " -0.45               \n",
       " -0.3666666666666667 \n",
       " -0.30952380952380953\n",
       " -0.26785714285714285"
      ]
     },
     "execution_count": 9,
     "metadata": {},
     "output_type": "execute_result"
    }
   ],
   "source": [
    "δ(k) = -1/ΔzF[k-1] - 1/ΔzF[k]\n",
    "d = [-1/ΔzF[1], [δ(k) for k in 2:Nz]...]"
   ]
  },
  {
   "cell_type": "code",
   "execution_count": 10,
   "metadata": {},
   "outputs": [
    {
     "name": "stdout",
     "output_type": "stream",
     "text": [
      " -1.0   1.0    ⋅                    ⋅                    ⋅      ⋅                     ⋅                     ⋅                 \n",
      "  1.0  -1.5   0.5                   ⋅                    ⋅      ⋅                     ⋅                     ⋅                 \n",
      "   ⋅    0.5  -0.8333333333333333   0.3333333333333333    ⋅      ⋅                     ⋅                     ⋅                 \n",
      "   ⋅     ⋅    0.3333333333333333  -0.5833333333333333   0.25    ⋅                     ⋅                     ⋅                 \n",
      "   ⋅     ⋅     ⋅                   0.25                -0.45   0.2                    ⋅                     ⋅                 \n",
      "   ⋅     ⋅     ⋅                    ⋅                   0.2   -0.3666666666666667    0.16666666666666666    ⋅                 \n",
      "   ⋅     ⋅     ⋅                    ⋅                    ⋅     0.16666666666666666  -0.30952380952380953   0.14285714285714285\n",
      "   ⋅     ⋅     ⋅                    ⋅                    ⋅      ⋅                    0.14285714285714285  -0.26785714285714285"
     ]
    }
   ],
   "source": [
    "M = Tridiagonal(ld, d, ud)\n",
    "Base.print_matrix(IOContext(stdout, :limit => false), M)"
   ]
  },
  {
   "cell_type": "code",
   "execution_count": 13,
   "metadata": {},
   "outputs": [
    {
     "data": {
      "text/plain": [
       "8-element Array{Float64,1}:\n",
       "  0.4900442230630878 \n",
       "  0.5767532530121119 \n",
       " -0.16903748678063935\n",
       " -0.15627443844806   \n",
       " -0.05472317558312356\n",
       " -0.1301267268724019 \n",
       " -0.2913016189822949 \n",
       " -0.2653340294086798 "
      ]
     },
     "execution_count": 13,
     "metadata": {},
     "output_type": "execute_result"
    }
   ],
   "source": [
    "R = rand(MersenneTwister(0), Nz)\n",
    "R .= R .- mean(R)"
   ]
  },
  {
   "cell_type": "code",
   "execution_count": 14,
   "metadata": {},
   "outputs": [
    {
     "data": {
      "text/plain": [
       "8-element Array{Float64,1}:\n",
       "  0.7350663345946318\n",
       "  1.4418831325302797\n",
       " -0.5916312037322378\n",
       " -0.7032349730162699\n",
       " -0.3009774657071796\n",
       " -0.8458237246706124\n",
       " -2.184762142367212 \n",
       " -1.9900052205650984"
      ]
     },
     "execution_count": 14,
     "metadata": {},
     "output_type": "execute_result"
    }
   ],
   "source": [
    "g = similar(R)\n",
    "g[1:Nz-1] = ΔzC .* R[1:Nz-1]\n",
    "g[Nz] = ΔzC[Nz-1] * R[Nz]\n",
    "g"
   ]
  },
  {
   "cell_type": "code",
   "execution_count": 15,
   "metadata": {},
   "outputs": [
    {
     "data": {
      "text/plain": [
       "8-element Array{Float64,1}:\n",
       " 37.97176745618404 \n",
       " 38.706833790778674\n",
       " 43.060732725028494\n",
       " 47.81668751520651 \n",
       " 51.34502067671211 \n",
       " 54.2505498000582  \n",
       " 52.66224240004984 \n",
       " 35.515882103469615"
      ]
     },
     "execution_count": 15,
     "metadata": {},
     "output_type": "execute_result"
    }
   ],
   "source": [
    "ϕ = tridiag(M, g)"
   ]
  },
  {
   "cell_type": "code",
   "execution_count": 16,
   "metadata": {},
   "outputs": [
    {
     "data": {
      "text/plain": [
       "8-element Array{Float64,1}:\n",
       "  0.49004422306308965 \n",
       "  0.5767532530121102  \n",
       " -0.16903748678063937 \n",
       " -0.15627443844806047 \n",
       " -0.054723175583123916\n",
       " -0.13012672687240184 \n",
       " -0.2913016189822947  \n",
       " -0.2653340294086798  "
      ]
     },
     "execution_count": 16,
     "metadata": {},
     "output_type": "execute_result"
    }
   ],
   "source": [
    "∇²ϕ = zeros(Nz)\n",
    "\n",
    "@inline δz_aac(k, f) = @inbounds f[k+1] - f[k]\n",
    "@inline ∂z_aac(k, ΔzF, f) = δz_aac(k, f) / ΔzF[k]\n",
    "\n",
    "∇²ϕ[1] = ∂z_aac(1, ΔzF, ϕ) / ΔzC[1]\n",
    "for k in 2:Nz-1\n",
    "    ∇²ϕ[k] = (∂z_aac(k, ΔzF, ϕ) - ∂z_aac(k-1, ΔzF, ϕ)) / ΔzC[k]\n",
    "end\n",
    "∇²ϕ[Nz] = (∂z_aac(Nz, ΔzF, ϕ) - ∂z_aac(Nz-1, ΔzF, ϕ)) / ΔzC[Nz-1]\n",
    "∇²ϕ"
   ]
  },
  {
   "cell_type": "code",
   "execution_count": 17,
   "metadata": {},
   "outputs": [
    {
     "data": {
      "text/plain": [
       "8-element Array{Float64,1}:\n",
       "  0.4900442230630878 \n",
       "  0.5767532530121119 \n",
       " -0.16903748678063935\n",
       " -0.15627443844806   \n",
       " -0.05472317558312356\n",
       " -0.1301267268724019 \n",
       " -0.2913016189822949 \n",
       " -0.2653340294086798 "
      ]
     },
     "execution_count": 17,
     "metadata": {},
     "output_type": "execute_result"
    }
   ],
   "source": [
    "R"
   ]
  },
  {
   "cell_type": "code",
   "execution_count": 18,
   "metadata": {},
   "outputs": [
    {
     "data": {
      "text/plain": [
       "true"
      ]
     },
     "execution_count": 18,
     "metadata": {},
     "output_type": "execute_result"
    }
   ],
   "source": [
    "∇²ϕ ≈ R"
   ]
  },
  {
   "cell_type": "code",
   "execution_count": null,
   "metadata": {},
   "outputs": [],
   "source": []
  }
 ],
 "metadata": {
  "kernelspec": {
   "display_name": "Julia 1.2.0",
   "language": "julia",
   "name": "julia-1.2"
  },
  "language_info": {
   "file_extension": ".jl",
   "mimetype": "application/julia",
   "name": "julia",
   "version": "1.2.0"
  }
 },
 "nbformat": 4,
 "nbformat_minor": 4
}
