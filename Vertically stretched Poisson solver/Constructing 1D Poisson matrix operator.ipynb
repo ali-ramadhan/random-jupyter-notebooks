{
 "cells": [
  {
   "cell_type": "code",
   "execution_count": 1,
   "metadata": {},
   "outputs": [
    {
     "data": {
      "text/plain": [
       "mkA_N (generic function with 1 method)"
      ]
     },
     "execution_count": 1,
     "metadata": {},
     "output_type": "execute_result"
    }
   ],
   "source": [
    "function mkA_N(dzArr::Array)\n",
    " N=length(dzArr)\n",
    " A=zeros(N,N)\n",
    " for k=1:N\n",
    "  \n",
    "  if k == 1\n",
    "   upTerm=0\n",
    "  else\n",
    "   dK=dzArr[k]\n",
    "   dKm1=dzArr[k-1]\n",
    "   upTerm=2.0/(dK*dKm1+dK*dK);\n",
    "   upTerm=2.0/(dKm1+dK);\n",
    "  end\n",
    "  \n",
    "  if k == N\n",
    "   dnTerm=0\n",
    "  else\n",
    "   dK=dzArr[k]\n",
    "   dKp1=dzArr[k+1]\n",
    "   dnTerm=2.0/(dK*dKp1+dK*dK);\n",
    "   dnTerm=2.0/(dKp1+dK);\n",
    "  end\n",
    "        \n",
    "  if k == 1\n",
    "   A[k  ,k  ]=-dnTerm\n",
    "   A[k  ,k+1]= dnTerm\n",
    "  elseif k == N\n",
    "   A[k  ,k-1]= upTerm\n",
    "   A[k  ,k  ]=-upTerm\n",
    "  else\n",
    "   A[k  ,k-1]= upTerm\n",
    "   A[k  ,k  ]=-dnTerm-upTerm\n",
    "   A[k  ,k+1]= dnTerm\n",
    "  end\n",
    " end\n",
    " return A\n",
    "end"
   ]
  },
  {
   "cell_type": "code",
   "execution_count": 6,
   "metadata": {},
   "outputs": [
    {
     "data": {
      "text/plain": [
       "8-element Array{Int64,1}:\n",
       " 1\n",
       " 2\n",
       " 3\n",
       " 4\n",
       " 5\n",
       " 6\n",
       " 7\n",
       " 8"
      ]
     },
     "execution_count": 6,
     "metadata": {},
     "output_type": "execute_result"
    }
   ],
   "source": [
    "dz = [1, 2, 3, 4, 5, 6, 7, 8]"
   ]
  },
  {
   "cell_type": "code",
   "execution_count": 7,
   "metadata": {},
   "outputs": [
    {
     "name": "stdout",
     "output_type": "stream",
     "text": [
      " -0.6666666666666666   0.6666666666666666   0.0                  0.0                  0.0                   0.0                   0.0                   0.0                \n",
      "  0.6666666666666666  -1.0666666666666667   0.4                  0.0                  0.0                   0.0                   0.0                   0.0                \n",
      "  0.0                  0.4                 -0.6857142857142857   0.2857142857142857   0.0                   0.0                   0.0                   0.0                \n",
      "  0.0                  0.0                  0.2857142857142857  -0.5079365079365079   0.2222222222222222    0.0                   0.0                   0.0                \n",
      "  0.0                  0.0                  0.0                  0.2222222222222222  -0.40404040404040403   0.18181818181818182   0.0                   0.0                \n",
      "  0.0                  0.0                  0.0                  0.0                  0.18181818181818182  -0.3356643356643357    0.15384615384615385   0.0                \n",
      "  0.0                  0.0                  0.0                  0.0                  0.0                   0.15384615384615385  -0.28717948717948716   0.13333333333333333\n",
      "  0.0                  0.0                  0.0                  0.0                  0.0                   0.0                   0.13333333333333333  -0.13333333333333333"
     ]
    }
   ],
   "source": [
    "Az = mkA_N(dz);\n",
    "Base.print_matrix(IOContext(stdout, :limit => false), Az)"
   ]
  },
  {
   "cell_type": "code",
   "execution_count": null,
   "metadata": {},
   "outputs": [],
   "source": []
  }
 ],
 "metadata": {
  "kernelspec": {
   "display_name": "Julia 1.3.0",
   "language": "julia",
   "name": "julia-1.3"
  },
  "language_info": {
   "file_extension": ".jl",
   "mimetype": "application/julia",
   "name": "julia",
   "version": "1.3.0"
  }
 },
 "nbformat": 4,
 "nbformat_minor": 4
}
