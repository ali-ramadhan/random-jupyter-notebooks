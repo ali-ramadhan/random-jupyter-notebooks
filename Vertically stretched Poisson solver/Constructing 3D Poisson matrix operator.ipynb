{
 "cells": [
  {
   "cell_type": "code",
   "execution_count": 6,
   "metadata": {},
   "outputs": [],
   "source": [
    "using LinearAlgebra, Printf\n",
    "using FFTW, PyPlot"
   ]
  },
  {
   "cell_type": "code",
   "execution_count": 7,
   "metadata": {},
   "outputs": [],
   "source": [
    "tol=1e-12;"
   ]
  },
  {
   "cell_type": "code",
   "execution_count": 8,
   "metadata": {},
   "outputs": [
    {
     "name": "stdout",
     "output_type": "stream",
     "text": [
      "27×27 Array{Int64,2}:\n",
      " -6   1   1   1   0   0   1   0   0   1   0   0   0   0   0   0   0   0   1   0   0   0   0   0   0   0   0\n",
      "  1  -6   1   0   1   0   0   1   0   0   1   0   0   0   0   0   0   0   0   1   0   0   0   0   0   0   0\n",
      "  1   1  -6   0   0   1   0   0   1   0   0   1   0   0   0   0   0   0   0   0   1   0   0   0   0   0   0\n",
      "  1   0   0  -6   1   1   1   0   0   0   0   0   1   0   0   0   0   0   0   0   0   1   0   0   0   0   0\n",
      "  0   1   0   1  -6   1   0   1   0   0   0   0   0   1   0   0   0   0   0   0   0   0   1   0   0   0   0\n",
      "  0   0   1   1   1  -6   0   0   1   0   0   0   0   0   1   0   0   0   0   0   0   0   0   1   0   0   0\n",
      "  1   0   0   1   0   0  -6   1   1   0   0   0   0   0   0   1   0   0   0   0   0   0   0   0   1   0   0\n",
      "  0   1   0   0   1   0   1  -6   1   0   0   0   0   0   0   0   1   0   0   0   0   0   0   0   0   1   0\n",
      "  0   0   1   0   0   1   1   1  -6   0   0   0   0   0   0   0   0   1   0   0   0   0   0   0   0   0   1\n",
      "  1   0   0   0   0   0   0   0   0  -6   1   1   1   0   0   1   0   0   1   0   0   0   0   0   0   0   0\n",
      "  0   1   0   0   0   0   0   0   0   1  -6   1   0   1   0   0   1   0   0   1   0   0   0   0   0   0   0\n",
      "  0   0   1   0   0   0   0   0   0   1   1  -6   0   0   1   0   0   1   0   0   1   0   0   0   0   0   0\n",
      "  0   0   0   1   0   0   0   0   0   1   0   0  -6   1   1   1   0   0   0   0   0   1   0   0   0   0   0\n",
      "  0   0   0   0   1   0   0   0   0   0   1   0   1  -6   1   0   1   0   0   0   0   0   1   0   0   0   0\n",
      "  0   0   0   0   0   1   0   0   0   0   0   1   1   1  -6   0   0   1   0   0   0   0   0   1   0   0   0\n",
      "  0   0   0   0   0   0   1   0   0   1   0   0   1   0   0  -6   1   1   0   0   0   0   0   0   1   0   0\n",
      "  0   0   0   0   0   0   0   1   0   0   1   0   0   1   0   1  -6   1   0   0   0   0   0   0   0   1   0\n",
      "  0   0   0   0   0   0   0   0   1   0   0   1   0   0   1   1   1  -6   0   0   0   0   0   0   0   0   1\n",
      "  1   0   0   0   0   0   0   0   0   1   0   0   0   0   0   0   0   0  -6   1   1   1   0   0   1   0   0\n",
      "  0   1   0   0   0   0   0   0   0   0   1   0   0   0   0   0   0   0   1  -6   1   0   1   0   0   1   0\n",
      "  0   0   1   0   0   0   0   0   0   0   0   1   0   0   0   0   0   0   1   1  -6   0   0   1   0   0   1\n",
      "  0   0   0   1   0   0   0   0   0   0   0   0   1   0   0   0   0   0   1   0   0  -6   1   1   1   0   0\n",
      "  0   0   0   0   1   0   0   0   0   0   0   0   0   1   0   0   0   0   0   1   0   1  -6   1   0   1   0\n",
      "  0   0   0   0   0   1   0   0   0   0   0   0   0   0   1   0   0   0   0   0   1   1   1  -6   0   0   1\n",
      "  0   0   0   0   0   0   1   0   0   0   0   0   0   0   0   1   0   0   1   0   0   1   0   0  -6   1   1\n",
      "  0   0   0   0   0   0   0   1   0   0   0   0   0   0   0   0   1   0   0   1   0   0   1   0   1  -6   1\n",
      "  0   0   0   0   0   0   0   0   1   0   0   0   0   0   0   0   0   1   0   0   1   0   0   1   1   1  -6"
     ]
    }
   ],
   "source": [
    "# Make 3-d PPP operator \n",
    "function mkA_PPP(Nx,Ny,Nz)\n",
    " NN=Nx*Ny*Nz;\n",
    " A=zeros(NN,NN)\n",
    " # Modulo and offset for 1 based index\n",
    " MOD(i,n)=mod(i-1,n)+1\n",
    " OFF(i,j,k,ni,nj,nk)= (k-1)*ni*nj + (j-1)*ni + (i-1) + 1 \n",
    " for k=1:Nz\n",
    "  for j=1:Ny\n",
    "   for i=1:Nx\n",
    "    ic=i ; iw=MOD(i-1,Nx); ie=MOD(i+1,Nx)\n",
    "    jc=j ; js=MOD(j-1,Ny); jn=MOD(j+1,Ny)\n",
    "    kc=k ; ku=MOD(k-1,Nz); kd=MOD(k+1,Nz)\n",
    "    offc=OFF(i , j, k, Nx, Ny, Nz)\n",
    "    offw=OFF(iw, j, k, Nx, Ny, Nz)\n",
    "    offe=OFF(ie, j, k, Nx, Ny, Nz)\n",
    "    offs=OFF( i,js, k, Nx, Ny, Nz)\n",
    "    offn=OFF( i,jn, k, Nx, Ny, Nz)\n",
    "    offu=OFF( i, j,ku, Nx, Ny, Nz)\n",
    "    offd=OFF( i, j,kd, Nx, Ny, Nz)\n",
    "    A[offc,offc]=-6\n",
    "    A[offc,offw]= A[offc,offw]+1\n",
    "    A[offc,offe]= A[offc,offe]+1\n",
    "    A[offc,offs]= A[offc,offs]+1\n",
    "    A[offc,offn]= A[offc,offn]+1\n",
    "    A[offc,offu]= A[offc,offu]+1\n",
    "    A[offc,offd]= A[offc,offd]+1         \n",
    "   end\n",
    "  end\n",
    " end\n",
    "    \n",
    " return A, Nx, Ny, Nz, NN\n",
    "end\n",
    "\n",
    "APPP,Nx,Ny,Nz,NN=mkA_PPP(3,3,3);\n",
    "\n",
    "A=APPP;\n",
    "show(IOContext(stdout), \"text/plain\", Int.(Matrix(A)))"
   ]
  },
  {
   "cell_type": "code",
   "execution_count": 17,
   "metadata": {},
   "outputs": [
    {
     "data": {
      "image/png": "[encoded data removed]",
      "text/plain": [
       "Figure(PyObject <Figure size 480x480 with 1 Axes>)"
      ]
     },
     "metadata": {},
     "output_type": "display_data"
    },
    {
     "data": {
      "text/plain": [
       "PyObject <matplotlib.image.AxesImage object at 0x7fc79cf8efd0>"
      ]
     },
     "execution_count": 17,
     "metadata": {},
     "output_type": "execute_result"
    }
   ],
   "source": [
    "ℓ = maximum(abs, A)\n",
    "matshow(A, cmap=\"RdGy\", vmin=-ℓ, vmax=ℓ)"
   ]
  },
  {
   "cell_type": "code",
   "execution_count": 19,
   "metadata": {},
   "outputs": [
    {
     "name": "stdout",
     "output_type": "stream",
     "text": [
      "27×27 Array{Int64,2}:\n",
      " -5   1   1   1   0   0   1   0   0   1   0   0   0   0   0   0   0   0   0   0   0   0   0   0   0   0   0\n",
      "  1  -5   1   0   1   0   0   1   0   0   1   0   0   0   0   0   0   0   0   0   0   0   0   0   0   0   0\n",
      "  1   1  -5   0   0   1   0   0   1   0   0   1   0   0   0   0   0   0   0   0   0   0   0   0   0   0   0\n",
      "  1   0   0  -5   1   1   1   0   0   0   0   0   1   0   0   0   0   0   0   0   0   0   0   0   0   0   0\n",
      "  0   1   0   1  -5   1   0   1   0   0   0   0   0   1   0   0   0   0   0   0   0   0   0   0   0   0   0\n",
      "  0   0   1   1   1  -5   0   0   1   0   0   0   0   0   1   0   0   0   0   0   0   0   0   0   0   0   0\n",
      "  1   0   0   1   0   0  -5   1   1   0   0   0   0   0   0   1   0   0   0   0   0   0   0   0   0   0   0\n",
      "  0   1   0   0   1   0   1  -5   1   0   0   0   0   0   0   0   1   0   0   0   0   0   0   0   0   0   0\n",
      "  0   0   1   0   0   1   1   1  -5   0   0   0   0   0   0   0   0   1   0   0   0   0   0   0   0   0   0\n",
      "  1   0   0   0   0   0   0   0   0  -6   1   1   1   0   0   1   0   0   1   0   0   0   0   0   0   0   0\n",
      "  0   1   0   0   0   0   0   0   0   1  -6   1   0   1   0   0   1   0   0   1   0   0   0   0   0   0   0\n",
      "  0   0   1   0   0   0   0   0   0   1   1  -6   0   0   1   0   0   1   0   0   1   0   0   0   0   0   0\n",
      "  0   0   0   1   0   0   0   0   0   1   0   0  -6   1   1   1   0   0   0   0   0   1   0   0   0   0   0\n",
      "  0   0   0   0   1   0   0   0   0   0   1   0   1  -6   1   0   1   0   0   0   0   0   1   0   0   0   0\n",
      "  0   0   0   0   0   1   0   0   0   0   0   1   1   1  -6   0   0   1   0   0   0   0   0   1   0   0   0\n",
      "  0   0   0   0   0   0   1   0   0   1   0   0   1   0   0  -6   1   1   0   0   0   0   0   0   1   0   0\n",
      "  0   0   0   0   0   0   0   1   0   0   1   0   0   1   0   1  -6   1   0   0   0   0   0   0   0   1   0\n",
      "  0   0   0   0   0   0   0   0   1   0   0   1   0   0   1   1   1  -6   0   0   0   0   0   0   0   0   1\n",
      "  0   0   0   0   0   0   0   0   0   1   0   0   0   0   0   0   0   0  -5   1   1   1   0   0   1   0   0\n",
      "  0   0   0   0   0   0   0   0   0   0   1   0   0   0   0   0   0   0   1  -5   1   0   1   0   0   1   0\n",
      "  0   0   0   0   0   0   0   0   0   0   0   1   0   0   0   0   0   0   1   1  -5   0   0   1   0   0   1\n",
      "  0   0   0   0   0   0   0   0   0   0   0   0   1   0   0   0   0   0   1   0   0  -5   1   1   1   0   0\n",
      "  0   0   0   0   0   0   0   0   0   0   0   0   0   1   0   0   0   0   0   1   0   1  -5   1   0   1   0\n",
      "  0   0   0   0   0   0   0   0   0   0   0   0   0   0   1   0   0   0   0   0   1   1   1  -5   0   0   1\n",
      "  0   0   0   0   0   0   0   0   0   0   0   0   0   0   0   1   0   0   1   0   0   1   0   0  -5   1   1\n",
      "  0   0   0   0   0   0   0   0   0   0   0   0   0   0   0   0   1   0   0   1   0   0   1   0   1  -5   1\n",
      "  0   0   0   0   0   0   0   0   0   0   0   0   0   0   0   0   0   1   0   0   1   0   0   1   1   1  -5"
     ]
    }
   ],
   "source": [
    "# Make 3-d PPN operator \n",
    "function mkA_PPN(Nx,Ny,Nz)\n",
    " NN=Nx*Ny*Nz;\n",
    " A=zeros(NN,NN)\n",
    " # Modulo and offset for 1 based index\n",
    " MOD(i,n)=mod(i-1,n)+1\n",
    " OFF(i,j,k,ni,nj,nk)= (k-1)*ni*nj + (j-1)*ni + (i-1) + 1 \n",
    " for k=1:Nz\n",
    "  for j=1:Ny\n",
    "   for i=1:Nx\n",
    "    ic=i ; iw=MOD(i-1,Nx); ie=MOD(i+1,Nx)\n",
    "    jc=j ; js=MOD(j-1,Ny); jn=MOD(j+1,Ny)\n",
    "    kc=k ; ku=MOD(k-1,Nz); kd=MOD(k+1,Nz)\n",
    "    offc=OFF(i , j, k, Nx, Ny, Nz)\n",
    "    offw=OFF(iw, j, k, Nx, Ny, Nz)\n",
    "    offe=OFF(ie, j, k, Nx, Ny, Nz)\n",
    "    offs=OFF( i,js, k, Nx, Ny, Nz)\n",
    "    offn=OFF( i,jn, k, Nx, Ny, Nz)\n",
    "    offu=OFF( i, j,ku, Nx, Ny, Nz)\n",
    "    offd=OFF( i, j,kd, Nx, Ny, Nz)\n",
    "    A[offc,offc]=-6\n",
    "    A[offc,offw]= A[offc,offw]+1\n",
    "    A[offc,offe]= A[offc,offe]+1\n",
    "    A[offc,offs]= A[offc,offs]+1\n",
    "    A[offc,offn]= A[offc,offn]+1\n",
    "    if k == 1\n",
    "     A[offc,offu]= A[offc,offu]+0\n",
    "     A[offc,offc]= A[offc,offc]+1\n",
    "     A[offc,offd]= A[offc,offd]+1   \n",
    "    elseif k == Nz\n",
    "     A[offc,offu]= A[offc,offu]+1\n",
    "     A[offc,offc]= A[offc,offc]+1\n",
    "     A[offc,offd]= A[offc,offd]+0   \n",
    "    else\n",
    "     A[offc,offu]= A[offc,offu]+1\n",
    "     A[offc,offd]= A[offc,offd]+1 \n",
    "    end\n",
    "   end\n",
    "  end\n",
    " end\n",
    "\n",
    " return A, Nx, Ny, Nz, NN\n",
    "end\n",
    "\n",
    "APPN,Nx,Ny,Nz,NN=mkA_PPN(3,3,3);\n",
    "\n",
    "A=APPN;\n",
    "show(IOContext(stdout), \"text/plain\", Int.(Matrix(A)))"
   ]
  },
  {
   "cell_type": "code",
   "execution_count": 20,
   "metadata": {},
   "outputs": [
    {
     "data": {
      "image/png": "[encoded data removed]",
      "text/plain": [
       "Figure(PyObject <Figure size 480x480 with 1 Axes>)"
      ]
     },
     "metadata": {},
     "output_type": "display_data"
    },
    {
     "data": {
      "text/plain": [
       "PyObject <matplotlib.image.AxesImage object at 0x7fc79cf01910>"
      ]
     },
     "execution_count": 20,
     "metadata": {},
     "output_type": "execute_result"
    }
   ],
   "source": [
    "ℓ = maximum(abs, A)\n",
    "matshow(A, cmap=\"RdGy\", vmin=-ℓ, vmax=ℓ)"
   ]
  },
  {
   "cell_type": "code",
   "execution_count": 26,
   "metadata": {},
   "outputs": [
    {
     "data": {
      "text/plain": [
       "27-element Array{Float64,1}:\n",
       " -9.0                  \n",
       " -8.999999999999998    \n",
       " -8.999999999999996    \n",
       " -8.999999999999993    \n",
       " -7.0                  \n",
       " -7.0                  \n",
       " -6.999999999999997    \n",
       " -6.9999999999999964   \n",
       " -6.000000000000005    \n",
       " -6.000000000000004    \n",
       " -6.000000000000001    \n",
       " -6.0                  \n",
       " -6.0                  \n",
       "  ⋮                    \n",
       " -5.999999999999996    \n",
       " -4.0000000000000036   \n",
       " -4.000000000000003    \n",
       " -3.999999999999998    \n",
       " -3.999999999999995    \n",
       " -3.0000000000000115   \n",
       " -3.000000000000006    \n",
       " -2.999999999999998    \n",
       " -2.999999999999996    \n",
       " -2.9999999999999947   \n",
       " -0.9999999999999947   \n",
       "  5.329070518200751e-15"
      ]
     },
     "metadata": {},
     "output_type": "display_data"
    }
   ],
   "source": [
    "# Show eigen vectors\n",
    "E=eigen(A)\n",
    "El=E.values\n",
    "Ev=E.vectors\n",
    "\n",
    "display(El)\n",
    "\n",
    "# println(\"eigen vectors \")\n",
    "# show(IOContext(stdout), \"text/plain\", Matrix(Ev) )\n",
    "# println(\"\\n\")"
   ]
  },
  {
   "cell_type": "code",
   "execution_count": 27,
   "metadata": {},
   "outputs": [
    {
     "data": {
      "text/plain": [
       "3×3×3 Array{Float64,3}:\n",
       "[:, :, 1] =\n",
       " -0.07684   -0.0676878   0.144528\n",
       " -0.064185  -0.063196    0.127381\n",
       "  0.141025   0.130884   -0.271909\n",
       "\n",
       "[:, :, 2] =\n",
       "  0.15368   0.135376  -0.289056\n",
       "  0.12837   0.126392  -0.254762\n",
       " -0.28205  -0.261768   0.543818\n",
       "\n",
       "[:, :, 3] =\n",
       " -0.07684   -0.0676878   0.144528\n",
       " -0.064185  -0.063196    0.127381\n",
       "  0.141025   0.130884   -0.271909"
      ]
     },
     "metadata": {},
     "output_type": "display_data"
    },
    {
     "name": "stdout",
     "output_type": "stream",
     "text": [
      " f = [-0.07684001514651317, -0.06418496869211571, 0.1410249838386289, -0.0676878184926784, -0.06319597528362308, 0.1308837937763015, 0.14452783363919158, 0.12738094397573882, -0.27190877761493026, 0.15368003029302627, 0.1283699373842313, -0.2820499676772574, 0.1353756369853567, 0.12639195056724606, -0.2617675875526027, -0.28905566727838283, -0.25476188795147725, 0.5438175552298601, -0.07684001514651288, -0.06418496869211544, 0.14102498383862846, -0.06768781849267817, -0.06319597528362285, 0.13088379377630105, 0.14452783363919117, 0.12738094397573838, -0.27190877761492993]\n",
      " L2(f)1.0\n"
     ]
    }
   ],
   "source": [
    "# Create a RHS\n",
    "N=size(A)[1]\n",
    "f=rand(N,1);\n",
    "# f=ones(N,1);\n",
    "# f=[1/3 1/3 1/3]';\n",
    "f=E.vectors[:,1];\n",
    "display(reshape(f,Nx,Ny,Nz))\n",
    "\n",
    "f=f.-sum(f)/N;\n",
    "println(\" f = \",f)\n",
    "println(\" L2(f)\", sum(f.*f))"
   ]
  },
  {
   "cell_type": "code",
   "execution_count": 28,
   "metadata": {},
   "outputs": [
    {
     "data": {
      "text/plain": [
       "3×3×3 Array{Float64,3}:\n",
       "[:, :, 1] =\n",
       " 4.33334e-32  2.81378e-31  2.81378e-31\n",
       " 2.74252e-31  3.08149e-33  8.93631e-32\n",
       " 2.74252e-31  8.93631e-32  3.08149e-33\n",
       "\n",
       "[:, :, 2] =\n",
       " 1.94712e-31  1.98178e-31  3.48401e-31\n",
       " 2.65436e-31  3.31286      3.43714    \n",
       " 3.10803e-31  3.43714      3.31286    \n",
       "\n",
       "[:, :, 3] =\n",
       " 1.94712e-31  3.48401e-31  1.98178e-31\n",
       " 3.10803e-31  3.31286      3.43714    \n",
       " 2.65436e-31  3.43714      3.31286    "
      ]
     },
     "metadata": {},
     "output_type": "display_data"
    }
   ],
   "source": [
    "# Show FFT wave number amplitudes\n",
    "fND=reshape(f,Nx,Ny,Nz)\n",
    "ff=FFTW.fft(fND)\n",
    "# println( ff        )\n",
    "display( real.(ff .* conj.(ff)) )"
   ]
  },
  {
   "cell_type": "code",
   "execution_count": 29,
   "metadata": {},
   "outputs": [
    {
     "name": "stdout",
     "output_type": "stream",
     "text": [
      "f projected onto eigen vectors[0.9999999999999999, 4.0766001685454967e-17, -2.5370330836160804e-17, -4.640385298237959e-17, -5.551115123125783e-17, -4.163336342344337e-17, -2.168404344971009e-18, -1.485356976305141e-17, -6.938893903907228e-18, -5.724587470723463e-17, 1.3877787807814457e-17, 1.734723475976807e-17, 2.0816681711721685e-17, -1.942890293094024e-16, 2.0816681711721685e-17, -3.382710778154774e-17, -4.163336342344337e-17, -2.0816681711721685e-17, 7.45931094670027e-17, 4.163336342344337e-17, 3.469446951953614e-17, 3.469446951953614e-17, -8.326672684688674e-17, 0.0, -7.632783294297951e-17, 6.938893903907228e-17, -1.5959455978986625e-16]\n",
      "ϕ projected onto eigen vectors[-0.11111111111111109, -4.5295557428283305e-18, 2.8189256484623127e-18, 5.155983664708847e-18, 7.93016446160826e-18, 5.9476233462061954e-18, 3.097720492815728e-19, 2.121938537578774e-18, 1.1564823173178704e-18, 9.540979117872433e-18, -2.3129646346357423e-18, -2.8912057932946782e-18, -3.469446951953614e-18, 3.23815048849004e-17, -3.469446951953615e-18, 5.637851296924628e-18, 1.0408340855860833e-17, 5.204170427930418e-18, -1.864827736675069e-17, -1.0408340855860856e-17, -1.156482317317867e-17, -1.156482317317869e-17, 2.775557561562894e-17, -0.0, 2.5442610980993216e-17, -6.938893903907265e-17, -0.0]\n",
      "ϕ (eigen vectors projected onto Φ)[0.008537779460723665, 0.007131663188012825, -0.015669442648736574, 0.0075208687214086975, 0.007021775031513672, -0.0145426437529224, -0.016058648182132408, -0.014153438219526556, 0.03021208640165886, -0.017075558921447378, -0.014263326376025705, 0.03133888529747303, -0.01504173744281742, -0.014043550063027328, 0.029085287505844746, 0.03211729636426476, 0.02830687643905303, -0.06042417280331777, 0.008537779460723654, 0.007131663188012834, -0.01566944264873649, 0.007520868721408688, 0.0070217750315136876, -0.014542643752922333, -0.016058648182132332, -0.01415343821952645, 0.030212086401658872]\n",
      "[-0.07684001514651316, -0.06418496869211562, 0.14102498383862883, -0.06768781849267838, -0.06319597528362311, 0.1308837937763014, 0.14452783363919147, 0.12738094397573876, -0.27190877761493004, 0.15368003029302624, 0.12836993738423125, -0.2820499676772573, 0.1353756369853567, 0.12639195056724598, -0.2617675875526027, -0.28905566727838283, -0.25476188795147725, 0.5438175552298599, -0.07684001514651295, -0.06418496869211548, 0.1410249838386285, -0.06768781849267819, -0.06319597528362303, 0.13088379377630116, 0.1445278336391912, 0.12738094397573835, -0.2719087776149297]\n",
      "[-0.07684001514651317, -0.06418496869211571, 0.1410249838386289, -0.0676878184926784, -0.06319597528362308, 0.1308837937763015, 0.14452783363919158, 0.12738094397573882, -0.27190877761493026, 0.15368003029302627, 0.1283699373842313, -0.2820499676772574, 0.1353756369853567, 0.12639195056724606, -0.2617675875526027, -0.28905566727838283, -0.25476188795147725, 0.5438175552298601, -0.07684001514651288, -0.06418496869211544, 0.14102498383862846, -0.06768781849267817, -0.06319597528362285, 0.13088379377630105, 0.14452783363919117, 0.12738094397573838, -0.27190877761492993]\n",
      "[1.3877787807814457e-17, 8.326672684688674e-17, -8.326672684688674e-17, 1.3877787807814457e-17, -2.7755575615628914e-17, -8.326672684688674e-17, -1.1102230246251565e-16, -5.551115123125783e-17, 2.220446049250313e-16, -2.7755575615628914e-17, -5.551115123125783e-17, 5.551115123125783e-17, 0.0, -8.326672684688674e-17, 0.0, 0.0, 0.0, -2.220446049250313e-16, -6.938893903907228e-17, -4.163336342344337e-17, 2.7755575615628914e-17, -1.3877787807814457e-17, -1.8041124150158794e-16, 1.1102230246251565e-16, 2.7755575615628914e-17, -2.7755575615628914e-17, 2.220446049250313e-16]\n"
     ]
    }
   ],
   "source": [
    "# Solve Eigen style\n",
    "F=(E.vectors)'*f;\n",
    "println(\"f projected onto eigen vectors\",F)\n",
    "λ=E.values;\n",
    "rλ=map(x -> if (abs(x)>tol) 1.0/x;  else 0. ; end , λ);\n",
    "Φ=F.*rλ;\n",
    "println(\"ϕ projected onto eigen vectors\",Φ)\n",
    "ϕ=(E.vectors)*Φ\n",
    "println(\"ϕ (eigen vectors projected onto Φ)\",ϕ)\n",
    "println(A*ϕ)\n",
    "println(f)\n",
    "println(A*ϕ-f)"
   ]
  },
  {
   "cell_type": "code",
   "execution_count": 30,
   "metadata": {},
   "outputs": [
    {
     "name": "stdout",
     "output_type": "stream",
     "text": [
      "[-0.07684001514651317, -0.06418496869211571, 0.1410249838386289, -0.0676878184926784, -0.06319597528362308, 0.1308837937763015, 0.14452783363919158, 0.12738094397573882, -0.27190877761493026, 0.15368003029302627, 0.1283699373842313, -0.2820499676772574, 0.1353756369853567, 0.12639195056724606, -0.2617675875526027, -0.28905566727838283, -0.25476188795147725, 0.5438175552298601, -0.07684001514651288, -0.06418496869211544, 0.14102498383862846, -0.06768781849267817, -0.06319597528362285, 0.13088379377630105, 0.14452783363919117, 0.12738094397573838, -0.27190877761492993]\n",
      "[-0.07684001514651319, -0.06418496869211572, 0.14102498383862885, -0.06768781849267842, -0.06319597528362303, 0.1308837937763015, 0.14452783363919158, 0.1273809439757388, -0.2719087776149302, 0.15368003029302627, 0.12836993738423125, -0.28204996767725726, 0.13537563698535673, 0.12639195056724595, -0.26176758755260265, -0.2890556672783829, -0.25476188795147714, 0.54381755522986, -0.07684001514651286, -0.06418496869211543, 0.1410249838386284, -0.06768781849267819, -0.0631959752836228, 0.13088379377630097, 0.14452783363919117, 0.1273809439757383, -0.2719087776149298]\n",
      "[0.9999999999999998, 0.9999999999999998, 1.0000000000000004, 0.9999999999999996, 1.0000000000000009, 1.0, 1.0, 1.0000000000000002, 1.0000000000000002, 1.0, 1.0000000000000004, 1.0000000000000004, 0.9999999999999998, 1.0000000000000009, 1.0000000000000002, 0.9999999999999998, 1.0000000000000004, 1.0000000000000002, 1.0000000000000004, 1.0000000000000002, 1.0000000000000004, 0.9999999999999998, 1.0000000000000009, 1.0000000000000007, 1.0, 1.0000000000000007, 1.0000000000000004]\n"
     ]
    }
   ],
   "source": [
    "# Solve FFT style\n",
    "function mkwaves(N,L)\n",
    " scyc=zeros(N,1); sneu=zeros(N,1);\n",
    " for i in 1:N\n",
    "  scyc[i]=(2*sin((i-1)*π/N)/(L/N)).^2\n",
    "  sneu[i]=(2*sin((i-1)*π/(2*(N)))/(L/N)).^2 \n",
    " end   \n",
    " return scyc, sneu\n",
    "end\n",
    "\n",
    "Lx=Nx;\n",
    "Ly=Ny;\n",
    "Lz=Nz;\n",
    "\n",
    "# fz  = FFTW.r2r(f,FFTW.REDFT10,3)\n",
    "# fxyz= FFTW.fft(fz,[1,2])\n",
    "\n",
    "# fF1=FFTW.fft(reshape(f,Nx,Ny,Nz),[1,2]);\n",
    "# fF2= FFTW.r2r(real.(fF1),FFTW.REDFT10)\n",
    "\n",
    "fF1=FFTW.r2r(reshape(f,Nx,Ny,Nz),FFTW.REDFT10,3)\n",
    "fF2= FFTW.fft(fF1,[1,2])\n",
    "\n",
    "sxcyc, sxneu=mkwaves(Nx,Lx)\n",
    "sycyc, syneu=mkwaves(Ny,Ly)\n",
    "szcyc, szneu=mkwaves(Nz,Lz)\n",
    "sx=sxcyc;\n",
    "sy=sycyc;\n",
    "sz=szneu;\n",
    "\n",
    "# sx=sxneu;\n",
    "# sy=syneu;\n",
    "\n",
    "fFi=-fF2;\n",
    "\n",
    "for i=1:Nx\n",
    " for j=1:Ny\n",
    "  for k=1:Nz\n",
    "   if i == 1 && j == 1 && k == 1\n",
    "    fFi[i,j,k]=0;\n",
    "   else\n",
    "    fFi[i,j,k]=fFi[i,j,k]./(sx[i]+sy[j]+sz[k])\n",
    "   end\n",
    "  end\n",
    " end\n",
    "end\n",
    "\n",
    "fiF1=FFTW.ifft(fFi,[1,2])\n",
    "fiF2=FFTW.r2r(real.(fiF1),FFTW.REDFT01,3)/(2*Nz)  \n",
    "    \n",
    "fiF=reshape(fiF2,Nx*Ny*Nz);\n",
    "println(f)\n",
    "println(A*fiF)\n",
    "println(f./(A*fiF))"
   ]
  },
  {
   "cell_type": "code",
   "execution_count": null,
   "metadata": {},
   "outputs": [],
   "source": []
  }
 ],
 "metadata": {
  "kernelspec": {
   "display_name": "Julia 1.3.0",
   "language": "julia",
   "name": "julia-1.3"
  },
  "language_info": {
   "file_extension": ".jl",
   "mimetype": "application/julia",
   "name": "julia",
   "version": "1.3.0"
  }
 },
 "nbformat": 4,
 "nbformat_minor": 4
}
