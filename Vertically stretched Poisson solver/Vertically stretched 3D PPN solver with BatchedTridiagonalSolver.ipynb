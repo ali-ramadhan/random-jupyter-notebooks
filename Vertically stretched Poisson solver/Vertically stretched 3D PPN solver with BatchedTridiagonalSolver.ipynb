{
 "cells": [
  {
   "cell_type": "code",
   "execution_count": 3,
   "metadata": {},
   "outputs": [],
   "source": [
    "cd(\"/home/alir/Oceananigans.jl/\")"
   ]
  },
  {
   "cell_type": "code",
   "execution_count": 220,
   "metadata": {},
   "outputs": [
    {
     "name": "stdout",
     "output_type": "stream",
     "text": [
      "\u001b[32m\u001b[1mActivating\u001b[22m\u001b[39m environment at `~/Oceananigans.jl/Project.toml`\n"
     ]
    }
   ],
   "source": [
    "using Pkg\n",
    "pkg\"activate .\""
   ]
  },
  {
   "cell_type": "code",
   "execution_count": 302,
   "metadata": {},
   "outputs": [],
   "source": [
    "using Oceananigans, Oceananigans.Solvers, Statistics, OffsetArrays, FFTW; using Oceananigans: fill_halo_regions!, NoPenetrationBC;"
   ]
  },
  {
   "cell_type": "code",
   "execution_count": 293,
   "metadata": {},
   "outputs": [
    {
     "data": {
      "text/plain": [
       "∇² (generic function with 1 method)"
      ]
     },
     "execution_count": 293,
     "metadata": {},
     "output_type": "execute_result"
    }
   ],
   "source": [
    "@inline δx_caa(i, j, k, f) = @inbounds f[i+1, j, k] - f[i, j, k]\n",
    "@inline δy_aca(i, j, k, f) = @inbounds f[i, j+1, k] - f[i, j, k]\n",
    "@inline δz_aac(i, j, k, f) = @inbounds f[i, j, k+1] - f[i, j, k]\n",
    "\n",
    "@inline ∂x_caa(i, j, k, Δx,  f) = δx_caa(i, j, k, f) / Δx\n",
    "@inline ∂y_aca(i, j, k, Δy,  f) = δy_aca(i, j, k, f) / Δy\n",
    "@inline ∂z_aac(i, j, k, ΔzF, f) = δz_aac(i, j, k, f) / ΔzF[k]\n",
    "\n",
    "@inline ∂x²(i, j, k, Δx, f)       = (∂x_caa(i, j, k, Δx, f)  - ∂x_caa(i-1, j, k, Δx, f))  / Δx\n",
    "@inline ∂y²(i, j, k, Δy, f)       = (∂y_aca(i, j, k, Δy, f)  - ∂y_aca(i, j-1, k, Δy, f))  / Δy\n",
    "@inline ∂z²(i, j, k, ΔzF, ΔzC, f) = (∂z_aac(i, j, k, ΔzF, f) - ∂z_aac(i, j, k-1, ΔzF, f)) / ΔzC[k]\n",
    "\n",
    "@inline div_ccc(i, j, k, Δx, Δy, ΔzF, u, v, w) = ∂x_caa(i, j, k, Δx, u) + ∂y_aca(i, j, k, Δy, v) + ∂z_aac(i, j, k, ΔzF, w)\n",
    "\n",
    "@inline ∇²(i, j, k, Δx, Δy, ΔzF, ΔzC, f) = ∂x²(i, j, k, Δx, f) + ∂y²(i, j, k, Δy, f) + ∂z²(i, j, k, ΔzF, ΔzC, f)"
   ]
  },
  {
   "cell_type": "code",
   "execution_count": 294,
   "metadata": {},
   "outputs": [
    {
     "data": {
      "text/plain": [
       "grid (generic function with 1 method)"
      ]
     },
     "execution_count": 294,
     "metadata": {},
     "output_type": "execute_result"
    }
   ],
   "source": [
    "function grid(zF)\n",
    "    Nz = length(zF) - 1\n",
    "    ΔzF = [zF[k+1] - zF[k] for k in 1:Nz]\n",
    "    zC = [(zF[k] + zF[k+1]) / 2 for k in 1:Nz]\n",
    "    ΔzC = [zC[k+1] - zC[k] for k in 1:Nz-1]\n",
    "    return zF, zC, ΔzF, ΔzC\n",
    "end"
   ]
  },
  {
   "cell_type": "code",
   "execution_count": 295,
   "metadata": {},
   "outputs": [
    {
     "data": {
      "text/plain": [
       "9-element Array{Int64,1}:\n",
       "  1\n",
       "  2\n",
       "  4\n",
       "  7\n",
       " 11\n",
       " 16\n",
       " 22\n",
       " 29\n",
       " 37"
      ]
     },
     "execution_count": 295,
     "metadata": {},
     "output_type": "execute_result"
    }
   ],
   "source": [
    "arch = CPU()\n",
    "Nx = Ny = 8\n",
    "zF = [1, 2, 4, 7, 11, 16, 22, 29, 37]"
   ]
  },
  {
   "cell_type": "code",
   "execution_count": 296,
   "metadata": {},
   "outputs": [
    {
     "data": {
      "text/plain": [
       "(12.5, 12.5)"
      ]
     },
     "execution_count": 296,
     "metadata": {},
     "output_type": "execute_result"
    }
   ],
   "source": [
    "Lx, Ly, Lz = 100, 100, zF[end]\n",
    "Δx, Δy = Lx/Nx, Ly/Ny"
   ]
  },
  {
   "cell_type": "code",
   "execution_count": 297,
   "metadata": {},
   "outputs": [],
   "source": [
    "Nz = length(zF) - 1\n",
    "zF, zC, ΔzF, ΔzC = grid(zF)\n",
    "\n",
    "# Need some halo regions.\n",
    "ΔzF = OffsetArray([ΔzF[1], ΔzF...], 0:Nz)\n",
    "ΔzC = [ΔzC..., ΔzC[end]]\n",
    "\n",
    "# Useful for broadcasting z operations\n",
    "ΔzC = reshape(ΔzC, (1, 1, Nz));"
   ]
  },
  {
   "cell_type": "code",
   "execution_count": 298,
   "metadata": {},
   "outputs": [
    {
     "data": {
      "text/plain": [
       "RegularCartesianGrid{Float64}\n",
       "domain: x ∈ [0.0, 100.0], y ∈ [0.0, 100.0], z ∈ [0.0, -37.0]\n",
       "  resolution (Nx, Ny, Nz) = (8, 8, 8)\n",
       "   halo size (Hx, Hy, Hz) = (1, 1, 1)\n",
       "grid spacing (Δx, Δy, Δz) = (12.5, 12.5, 4.625)"
      ]
     },
     "execution_count": 298,
     "metadata": {},
     "output_type": "execute_result"
    }
   ],
   "source": [
    "# Temporary hack: Useful for reusing fill_halo_regions! and BatchedTridiagonalSolver\n",
    "# which only need Nx, Ny, Nz.\n",
    "fake_grid = RegularCartesianGrid(size=(Nx, Ny, Nz), length=(Lx, Ly, Lz))"
   ]
  },
  {
   "cell_type": "code",
   "execution_count": 299,
   "metadata": {},
   "outputs": [],
   "source": [
    "#####\n",
    "##### Generate batched tridiagonal system coefficients and solver\n",
    "#####\n",
    "\n",
    "function λi(Nx, Δx)\n",
    "    is = reshape(1:Nx, Nx, 1, 1)\n",
    "    @. (2sin((is-1)*π/Nx) / Δx)^2\n",
    "end\n",
    "\n",
    "function λj(Ny, Δy)\n",
    "    js = reshape(1:Ny, 1, Ny, 1)\n",
    "    @. (2sin((js-1)*π/Ny) / Δy)^2\n",
    "end\n",
    "\n",
    "kx² = λi(Nx, Δx);\n",
    "ky² = λj(Ny, Δy);"
   ]
  },
  {
   "cell_type": "code",
   "execution_count": 300,
   "metadata": {},
   "outputs": [],
   "source": [
    "# Lower and upper diagonals are the same\n",
    "ld = [1/ΔzF[k] for k in 1:Nz-1]\n",
    "ud = copy(ld)\n",
    "\n",
    "# Diagonal (different for each i,j)\n",
    "@inline δ(k, ΔzF, ΔzC, kx², ky²) = - (1/ΔzF[k-1] + 1/ΔzF[k]) - ΔzC[k] * (kx² + ky²)\n",
    "\n",
    "d = zeros(Nx, Ny, Nz)\n",
    "for i in 1:Nx, j in 1:Ny\n",
    "    d[i, j, :] .= [-1/ΔzF[1], [δ(k, ΔzF, ΔzC, kx²[i], ky²[j]) for k in 2:Nz]...]\n",
    "end"
   ]
  },
  {
   "cell_type": "code",
   "execution_count": 335,
   "metadata": {},
   "outputs": [
    {
     "name": "stdout",
     "output_type": "stream",
     "text": [
      "sum(R) = 30.748259215747773\n"
     ]
    }
   ],
   "source": [
    "# Random right hand side\n",
    "Ru = CellField(Float64, arch, fake_grid)\n",
    "Rv = CellField(Float64, arch, fake_grid)\n",
    "Rw = CellField(Float64, arch, fake_grid)\n",
    "\n",
    "interior(Ru) .= rand(Nx, Ny, Nz)\n",
    "interior(Rv) .= rand(Nx, Ny, Nz)\n",
    "interior(Rw) .= rand(Nx, Ny, Nz)\n",
    "\n",
    "uv_bcs = HorizontallyPeriodicBCs()\n",
    "w_bcs = HorizontallyPeriodicBCs(top=NoPenetrationBC(), bottom=NoPenetrationBC())\n",
    "\n",
    "fill_halo_regions!(Ru.data, uv_bcs, arch, fake_grid)\n",
    "fill_halo_regions!(Rv.data, uv_bcs, arch, fake_grid)\n",
    "fill_halo_regions!(Rw.data,  w_bcs, arch, fake_grid)\n",
    "\n",
    "R = zeros(Nx, Ny, Nz)\n",
    "for i in 1:Nx, j in 1:Ny, k in 1:Nz\n",
    "    R[i, j, k] = div_ccc(i, j, k, Δx, Δy, ΔzF, Ru.data, Rv.data, Rw.data)\n",
    "end\n",
    "\n",
    "# R .= R .- mean(R)  # Need RHS with zero mean\n",
    "\n",
    "@show sum(R)\n",
    "\n",
    "F = zeros(Nx, Ny, Nz)\n",
    "F = ΔzC .* R;  # RHS needs to be multiplied by ΔzC"
   ]
  },
  {
   "cell_type": "code",
   "execution_count": 336,
   "metadata": {},
   "outputs": [
    {
     "name": "stdout",
     "output_type": "stream",
     "text": [
      "sum(interior(ϕ)) = -8294.993117803755\n"
     ]
    }
   ],
   "source": [
    "#####\n",
    "##### Solve system\n",
    "#####\n",
    "\n",
    "F̃ = fft(F, [1, 2])\n",
    "\n",
    "btsolver = BatchedTridiagonalSolver(arch, dl=ld, d=d, du=ud, f=F̃, grid=fake_grid)\n",
    "\n",
    "ϕ̃ = zeros(Complex{Float64}, Nx, Ny, Nz)\n",
    "solve_batched_tridiagonal_system!(ϕ̃, arch, btsolver)\n",
    "\n",
    "ϕ = CellField(Float64, arch, fake_grid)\n",
    "interior(ϕ) .= real.(ifft(ϕ̃, [1, 2]))\n",
    "# ϕ.data .= ϕ.data .- mean(interior(ϕ));\n",
    "\n",
    "@show sum(interior(ϕ));"
   ]
  },
  {
   "cell_type": "code",
   "execution_count": 337,
   "metadata": {},
   "outputs": [],
   "source": [
    "#####\n",
    "##### Compute Laplacian of solution ϕ to test that it's correct\n",
    "#####\n",
    "\n",
    "# Gotta fill halo regions\n",
    "pbcs = HorizontallyPeriodicBCs()\n",
    "fill_halo_regions!(ϕ.data, pbcs, arch, fake_grid)\n",
    "\n",
    "∇²ϕ = CellField(Float64, arch, fake_grid)\n",
    "\n",
    "for i in 1:Nx, j in 1:Ny, k in 1:Nz\n",
    "    ∇²ϕ.data[i, j, k] = ∇²(i, j, k, Δx, Δy, ΔzF, ΔzC, ϕ.data)\n",
    "end"
   ]
  },
  {
   "cell_type": "code",
   "execution_count": 338,
   "metadata": {},
   "outputs": [
    {
     "data": {
      "text/plain": [
       "8×8×8 Array{Float64,3}:\n",
       "[:, :, 1] =\n",
       " -0.0519672   0.0428594    0.00492816  …   0.0035035   0.0315548 \n",
       " -0.0322063   0.0688201    0.0068719      -0.0357199   0.00758758\n",
       "  0.0303958   0.029453    -0.0566804      -0.0614596  -0.00164644\n",
       "  0.0537269   9.30846e-5   0.0467392       0.0128635  -0.0459885 \n",
       " -0.0250847   0.0124558   -0.00101794     -0.0164288   0.00811405\n",
       "  0.0112877   0.026839    -0.0655989   …   0.0310817  -0.0535501 \n",
       " -0.0367668  -0.0137457    0.0170272      -0.0402252   0.00666418\n",
       "  0.0525833  -0.0142669   -0.0495683       0.0644572  -0.019223  \n",
       "\n",
       "[:, :, 2] =\n",
       " -1.4988e-15   -4.44089e-16  -1.4988e-15   …  -8.46545e-16   7.21645e-16\n",
       " -1.94289e-16  -1.94289e-15   6.66134e-16     -4.44089e-16  -1.05471e-15\n",
       "  2.08167e-15  -4.27089e-15  -1.04083e-17      6.10623e-16  -3.55271e-15\n",
       " -4.85723e-16  -2.498e-15     1.52656e-16      1.63758e-15  -2.47025e-15\n",
       " -6.66134e-16   4.10783e-15   3.94129e-15      2.06779e-15   2.60902e-15\n",
       "  4.0315e-15   -1.58207e-15   2.77556e-15  …   1.22125e-15  -8.04912e-16\n",
       " -4.47559e-15  -6.10623e-16  -2.08167e-15     -2.33147e-15   6.66134e-16\n",
       " -4.996e-16     9.99201e-16   3.88578e-16     -4.30211e-16   2.16493e-15\n",
       "\n",
       "[:, :, 3] =\n",
       "  8.8124e-16    8.74301e-16   1.55431e-15  …   1.36696e-15  -5.13478e-16\n",
       "  3.1225e-16    9.08995e-16  -4.16334e-17      1.11022e-16   5.55112e-16\n",
       " -5.44703e-16   1.05471e-15  -4.71845e-16     -9.29812e-16   1.63758e-15\n",
       "  1.66533e-16   1.30451e-15  -1.94289e-16     -4.71845e-16   7.21645e-16\n",
       "  1.11022e-16  -9.4369e-16   -1.3739e-15      -4.16334e-16  -7.63278e-16\n",
       " -9.99201e-16  -5.27356e-16  -2.63678e-16  …   1.11022e-16  -1.03043e-15\n",
       "  1.11022e-15   2.91434e-16  -8.11851e-16      1.52656e-16   0.0        \n",
       " -1.16573e-15  -1.14752e-15  -2.498e-16       -3.95517e-16  -7.56339e-16\n",
       "\n",
       "[:, :, 4] =\n",
       " -4.30211e-16  -3.60822e-16  -3.33067e-16  …  -4.71845e-16   4.996e-16  \n",
       " -3.46945e-17   1.45717e-16  -1.80411e-16      1.52656e-16  -2.01228e-16\n",
       "  4.54064e-16  -3.05311e-16   6.80012e-16      9.99201e-16  -7.91034e-16\n",
       " -1.63064e-16   5.55112e-17   9.36751e-17     -6.76542e-17   1.11022e-16\n",
       " -1.94289e-16   4.57967e-16   3.05311e-16     -2.77556e-17   2.91434e-16\n",
       "  5.82867e-16   8.08381e-16  -1.66533e-16  …   2.77556e-16   8.27463e-16\n",
       "  4.996e-16     7.77156e-16   1.72085e-15      9.99201e-16   3.60822e-16\n",
       "  7.70217e-16   7.77156e-16  -8.32667e-17      3.53884e-16   5.27356e-16\n",
       "\n",
       "[:, :, 5] =\n",
       "  3.747e-16     4.78784e-16   2.22045e-16  …   5.41234e-16  -5.55112e-17\n",
       "  1.66533e-16  -1.11022e-16   3.53884e-16      1.05818e-16   8.32667e-17\n",
       "  3.33067e-16   3.33067e-16  -2.22045e-16     -2.15106e-16   5.82867e-16\n",
       "  5.13478e-16   1.66533e-16   6.66134e-16      5.20417e-16   1.85615e-16\n",
       "  3.81639e-16   5.55112e-17   4.16334e-17      2.08167e-16   9.71445e-17\n",
       "  2.498e-16    -6.93889e-17   4.02456e-16  …   5.55112e-17   1.249e-16  \n",
       " -1.249e-16    -8.32667e-17  -3.36536e-16     -3.05311e-16   2.91434e-16\n",
       "  1.66533e-16   0.0           2.70617e-16      1.249e-16    -2.08167e-17\n",
       "\n",
       "[:, :, 6] =\n",
       "  5.42101e-17  -6.93889e-18  -1.25767e-17  …  -5.55112e-17   1.11022e-16\n",
       "  5.20417e-17  -1.11022e-16  -3.46945e-17      4.85723e-17  -1.36176e-16\n",
       " -9.02056e-17  -6.93889e-17   2.77556e-17      1.04083e-16  -2.08167e-16\n",
       " -1.94289e-16  -5.20417e-18  -3.46945e-16     -1.66533e-16  -6.93889e-17\n",
       " -7.89299e-17  -1.73472e-17   1.38778e-16      8.32667e-17   2.08167e-17\n",
       " -3.05311e-16  -8.32667e-17  -6.93889e-17  …  -8.32667e-17  -9.19403e-17\n",
       "  1.52656e-16  -3.1225e-17    8.32667e-17      5.55112e-17  -2.01228e-16\n",
       " -2.56739e-16  -5.55112e-17  -2.498e-16       -2.22045e-16  -5.55112e-17\n",
       "\n",
       "[:, :, 7] =\n",
       "  2.86229e-17  -2.77556e-17   2.77556e-17  …   4.16334e-17  -4.85723e-17\n",
       " -1.30104e-16  -2.08167e-17  -1.38778e-17     -5.55112e-17  -5.55112e-17\n",
       "  5.55112e-17   6.93889e-18   3.55618e-17      5.55112e-17   7.63278e-17\n",
       " -1.00614e-16  -8.23994e-17  -4.33681e-17     -6.245e-17     3.46945e-18\n",
       "  4.16334e-17  -1.04083e-17  -1.21431e-16      2.77556e-17  -2.77556e-17\n",
       "  0.0          -3.46945e-17  -9.54098e-17  …  -8.32667e-17  -7.63278e-17\n",
       " -5.55112e-17   1.11022e-16   9.02056e-17      4.16334e-17   1.66533e-16\n",
       "  0.0           0.0           3.46945e-17      1.11022e-16  -4.51028e-17\n",
       "\n",
       "[:, :, 8] =\n",
       " -0.0319342  -0.0605347   -0.0591635  …  -0.0572004  -0.0816004  -0.0607686\n",
       " -0.0326376  -0.00303746  -0.044785      -0.0428647  -0.0387987  -0.0426258\n",
       " -0.0139768  -0.0399813   -0.0394974     -0.0264784  -0.0251546  -0.0584607\n",
       " -0.0397815  -0.0414424   -0.0523243     -0.0340611  -0.0634588  -0.0416224\n",
       " -0.0410044  -0.0320508   -0.0460102     -0.0314208  -0.0525207  -0.0246088\n",
       " -0.0408744  -0.0403745   -0.0185551  …  -0.0619711  -0.0147938  -0.0422766\n",
       " -0.0666758  -0.0674506   -0.0210659     -0.0546038  -0.0340347  -0.0383046\n",
       " -0.0376718  -0.0276867   -0.0579207     -0.0197946  -0.0595828  -0.0152015"
      ]
     },
     "execution_count": 338,
     "metadata": {},
     "output_type": "execute_result"
    }
   ],
   "source": [
    "interior(∇²ϕ) .- R"
   ]
  },
  {
   "cell_type": "code",
   "execution_count": null,
   "metadata": {},
   "outputs": [],
   "source": []
  }
 ],
 "metadata": {
  "kernelspec": {
   "display_name": "Julia 1.3.0",
   "language": "julia",
   "name": "julia-1.3"
  },
  "language_info": {
   "file_extension": ".jl",
   "mimetype": "application/julia",
   "name": "julia",
   "version": "1.3.0"
  }
 },
 "nbformat": 4,
 "nbformat_minor": 4
}
