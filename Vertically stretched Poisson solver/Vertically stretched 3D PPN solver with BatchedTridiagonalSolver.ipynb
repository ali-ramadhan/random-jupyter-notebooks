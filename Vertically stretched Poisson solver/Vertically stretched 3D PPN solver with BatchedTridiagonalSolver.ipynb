{
 "cells": [
  {
   "cell_type": "code",
   "execution_count": 1,
   "metadata": {},
   "outputs": [],
   "source": [
    "cd(\"/home/alir/Oceananigans.jl/\")"
   ]
  },
  {
   "cell_type": "code",
   "execution_count": 2,
   "metadata": {},
   "outputs": [
    {
     "name": "stdout",
     "output_type": "stream",
     "text": [
      "\u001b[32m\u001b[1mActivating\u001b[22m\u001b[39m environment at `~/Oceananigans.jl/Project.toml`\n"
     ]
    }
   ],
   "source": [
    "using Pkg\n",
    "pkg\"activate .\""
   ]
  },
  {
   "cell_type": "code",
   "execution_count": 22,
   "metadata": {},
   "outputs": [],
   "source": [
    "using Statistics\n",
    "using OffsetArrays, FFTW\n",
    "using Oceananigans, Oceananigans.Solvers\n",
    "\n",
    "using Oceananigans: NoPenetrationBC, fill_halo_regions!\n",
    "using Oceananigans.TimeSteppers: _compute_w_from_continuity!"
   ]
  },
  {
   "cell_type": "code",
   "execution_count": 5,
   "metadata": {},
   "outputs": [
    {
     "data": {
      "text/plain": [
       "∇² (generic function with 1 method)"
      ]
     },
     "execution_count": 5,
     "metadata": {},
     "output_type": "execute_result"
    }
   ],
   "source": [
    "@inline δx_caa(i, j, k, f) = @inbounds f[i+1, j, k] - f[i, j, k]\n",
    "@inline δy_aca(i, j, k, f) = @inbounds f[i, j+1, k] - f[i, j, k]\n",
    "@inline δz_aac(i, j, k, f) = @inbounds f[i, j, k+1] - f[i, j, k]\n",
    "\n",
    "@inline ∂x_caa(i, j, k, Δx,  f) = δx_caa(i, j, k, f) / Δx\n",
    "@inline ∂y_aca(i, j, k, Δy,  f) = δy_aca(i, j, k, f) / Δy\n",
    "@inline ∂z_aac(i, j, k, ΔzF, f) = δz_aac(i, j, k, f) / ΔzF[k]\n",
    "\n",
    "@inline ∂x²(i, j, k, Δx, f)       = (∂x_caa(i, j, k, Δx, f)  - ∂x_caa(i-1, j, k, Δx, f))  / Δx\n",
    "@inline ∂y²(i, j, k, Δy, f)       = (∂y_aca(i, j, k, Δy, f)  - ∂y_aca(i, j-1, k, Δy, f))  / Δy\n",
    "@inline ∂z²(i, j, k, ΔzF, ΔzC, f) = (∂z_aac(i, j, k, ΔzF, f) - ∂z_aac(i, j, k-1, ΔzF, f)) / ΔzC[k]\n",
    "\n",
    "@inline div_ccc(i, j, k, Δx, Δy, ΔzF, u, v, w) = ∂x_caa(i, j, k, Δx, u) + ∂y_aca(i, j, k, Δy, v) + ∂z_aac(i, j, k, ΔzF, w)\n",
    "\n",
    "@inline ∇²(i, j, k, Δx, Δy, ΔzF, ΔzC, f) = ∂x²(i, j, k, Δx, f) + ∂y²(i, j, k, Δy, f) + ∂z²(i, j, k, ΔzF, ΔzC, f)"
   ]
  },
  {
   "cell_type": "code",
   "execution_count": 6,
   "metadata": {},
   "outputs": [
    {
     "data": {
      "text/plain": [
       "grid (generic function with 1 method)"
      ]
     },
     "execution_count": 6,
     "metadata": {},
     "output_type": "execute_result"
    }
   ],
   "source": [
    "function grid(zF)\n",
    "    Nz = length(zF) - 1\n",
    "    ΔzF = [zF[k+1] - zF[k] for k in 1:Nz]\n",
    "    zC = [(zF[k] + zF[k+1]) / 2 for k in 1:Nz]\n",
    "    ΔzC = [zC[k+1] - zC[k] for k in 1:Nz-1]\n",
    "    return zF, zC, ΔzF, ΔzC\n",
    "end"
   ]
  },
  {
   "cell_type": "code",
   "execution_count": 7,
   "metadata": {},
   "outputs": [
    {
     "data": {
      "text/plain": [
       "9-element Array{Int64,1}:\n",
       "  1\n",
       "  2\n",
       "  4\n",
       "  7\n",
       " 11\n",
       " 16\n",
       " 22\n",
       " 29\n",
       " 37"
      ]
     },
     "execution_count": 7,
     "metadata": {},
     "output_type": "execute_result"
    }
   ],
   "source": [
    "arch = CPU()\n",
    "Nx = Ny = 8\n",
    "zF = [1, 2, 4, 7, 11, 16, 22, 29, 37]"
   ]
  },
  {
   "cell_type": "code",
   "execution_count": 8,
   "metadata": {},
   "outputs": [
    {
     "data": {
      "text/plain": [
       "(12.5, 12.5)"
      ]
     },
     "execution_count": 8,
     "metadata": {},
     "output_type": "execute_result"
    }
   ],
   "source": [
    "Lx, Ly, Lz = 100, 100, zF[end]\n",
    "Δx, Δy = Lx/Nx, Ly/Ny"
   ]
  },
  {
   "cell_type": "code",
   "execution_count": 9,
   "metadata": {},
   "outputs": [],
   "source": [
    "Nz = length(zF) - 1\n",
    "zF, zC, ΔzF, ΔzC = grid(zF)\n",
    "\n",
    "# Need some halo regions.\n",
    "ΔzF = OffsetArray([ΔzF[1], ΔzF...], 0:Nz)\n",
    "ΔzC = [ΔzC..., ΔzC[end]]\n",
    "\n",
    "# Useful for broadcasting z operations\n",
    "ΔzC = reshape(ΔzC, (1, 1, Nz));"
   ]
  },
  {
   "cell_type": "code",
   "execution_count": 10,
   "metadata": {},
   "outputs": [
    {
     "data": {
      "text/plain": [
       "RegularCartesianGrid{Float64}\n",
       "domain: x ∈ [0.0, 100.0], y ∈ [0.0, 100.0], z ∈ [-37.0, 0.0]\n",
       "  resolution (Nx, Ny, Nz) = (8, 8, 8)\n",
       "   halo size (Hx, Hy, Hz) = (1, 1, 1)\n",
       "grid spacing (Δx, Δy, Δz) = (12.5, 12.5, 4.625)"
      ]
     },
     "execution_count": 10,
     "metadata": {},
     "output_type": "execute_result"
    }
   ],
   "source": [
    "# Temporary hack: Useful for reusing fill_halo_regions! and BatchedTridiagonalSolver\n",
    "# which only need Nx, Ny, Nz.\n",
    "fake_grid = RegularCartesianGrid(size=(Nx, Ny, Nz), length=(Lx, Ly, Lz))"
   ]
  },
  {
   "cell_type": "code",
   "execution_count": 11,
   "metadata": {},
   "outputs": [],
   "source": [
    "#####\n",
    "##### Generate batched tridiagonal system coefficients and solver\n",
    "#####\n",
    "\n",
    "function λi(Nx, Δx)\n",
    "    is = reshape(1:Nx, Nx, 1, 1)\n",
    "    @. (2sin((is-1)*π/Nx) / Δx)^2\n",
    "end\n",
    "\n",
    "function λj(Ny, Δy)\n",
    "    js = reshape(1:Ny, 1, Ny, 1)\n",
    "    @. (2sin((js-1)*π/Ny) / Δy)^2\n",
    "end\n",
    "\n",
    "kx² = λi(Nx, Δx);\n",
    "ky² = λj(Ny, Δy);"
   ]
  },
  {
   "cell_type": "code",
   "execution_count": 12,
   "metadata": {},
   "outputs": [],
   "source": [
    "# Lower and upper diagonals are the same\n",
    "ld = [1/ΔzF[k] for k in 1:Nz-1]\n",
    "ud = copy(ld)\n",
    "\n",
    "# Diagonal (different for each i,j)\n",
    "@inline δ(k, ΔzF, ΔzC, kx², ky²) = - (1/ΔzF[k-1] + 1/ΔzF[k]) - ΔzC[k] * (kx² + ky²)\n",
    "\n",
    "d = zeros(Nx, Ny, Nz)\n",
    "for i in 1:Nx, j in 1:Ny\n",
    "    d[i, j, :] .= [-1/ΔzF[1], [δ(k, ΔzF, ΔzC, kx²[i], ky²[j]) for k in 2:Nz]...]\n",
    "end"
   ]
  },
  {
   "cell_type": "code",
   "execution_count": 42,
   "metadata": {},
   "outputs": [
    {
     "name": "stdout",
     "output_type": "stream",
     "text": [
      "sum(R) = -1.1102230246251565e-16\n"
     ]
    }
   ],
   "source": [
    "# Random right hand side\n",
    "Ru = CellField(Float64, arch, fake_grid)\n",
    "Rv = CellField(Float64, arch, fake_grid)\n",
    "Rw = CellField(Float64, arch, fake_grid)\n",
    "\n",
    "interior(Ru) .= rand(Nx, Ny, Nz)\n",
    "interior(Rv) .= rand(Nx, Ny, Nz)\n",
    "interior(Rw) .= zeros(Nx, Ny, Nz)\n",
    "U = (u=Ru, v=Rv, w=Rw)\n",
    "\n",
    "uv_bcs = HorizontallyPeriodicBCs()\n",
    "w_bcs = HorizontallyPeriodicBCs(top=NoPenetrationBC(), bottom=NoPenetrationBC())\n",
    "\n",
    "fill_halo_regions!(Ru.data, uv_bcs, arch, fake_grid)\n",
    "fill_halo_regions!(Rv.data, uv_bcs, arch, fake_grid)\n",
    "\n",
    "_compute_w_from_continuity!(U, fake_grid)\n",
    "\n",
    "fill_halo_regions!(Rw.data,  w_bcs, arch, fake_grid)\n",
    "\n",
    "R = zeros(Nx, Ny, Nz)\n",
    "for i in 1:Nx, j in 1:Ny, k in 1:Nz\n",
    "    R[i, j, k] = div_ccc(i, j, k, Δx, Δy, ΔzF, Ru.data, Rv.data, Rw.data)\n",
    "end\n",
    "\n",
    "@show sum(R)  # div(R) should be zero by construction.\n",
    "\n",
    "F = zeros(Nx, Ny, Nz)\n",
    "F = ΔzC .* R;  # RHS needs to be multiplied by ΔzC"
   ]
  },
  {
   "cell_type": "code",
   "execution_count": 43,
   "metadata": {},
   "outputs": [
    {
     "name": "stdout",
     "output_type": "stream",
     "text": [
      "sum(interior(ϕ)) = -2.722266856380884e-13\n"
     ]
    }
   ],
   "source": [
    "#####\n",
    "##### Solve system\n",
    "#####\n",
    "\n",
    "F̃ = fft(F, [1, 2])\n",
    "\n",
    "btsolver = BatchedTridiagonalSolver(arch, dl=ld, d=d, du=ud, f=F̃, grid=fake_grid)\n",
    "\n",
    "ϕ̃ = zeros(Complex{Float64}, Nx, Ny, Nz)\n",
    "solve_batched_tridiagonal_system!(ϕ̃, arch, btsolver)\n",
    "\n",
    "ϕ = CellField(Float64, arch, fake_grid)\n",
    "interior(ϕ) .= real.(ifft(ϕ̃, [1, 2]))\n",
    "\n",
    "@show sum(interior(ϕ));"
   ]
  },
  {
   "cell_type": "code",
   "execution_count": 44,
   "metadata": {},
   "outputs": [],
   "source": [
    "#####\n",
    "##### Compute Laplacian of solution ϕ to test that it's correct\n",
    "#####\n",
    "\n",
    "# Gotta fill halo regions\n",
    "pbcs = HorizontallyPeriodicBCs()\n",
    "fill_halo_regions!(ϕ.data, pbcs, arch, fake_grid)\n",
    "\n",
    "∇²ϕ = CellField(Float64, arch, fake_grid)\n",
    "\n",
    "for i in 1:Nx, j in 1:Ny, k in 1:Nz\n",
    "    ∇²ϕ.data[i, j, k] = ∇²(i, j, k, Δx, Δy, ΔzF, ΔzC, ϕ.data)\n",
    "end"
   ]
  },
  {
   "cell_type": "code",
   "execution_count": 45,
   "metadata": {},
   "outputs": [
    {
     "data": {
      "text/plain": [
       "8×8×8 Array{Float64,3}:\n",
       "[:, :, 1] =\n",
       "  0.0747879    0.00768291   0.00693463  …  -0.0287096  -0.00206254\n",
       " -0.00729898  -0.0302827    0.0434758       0.0449527   0.00784128\n",
       "  0.0128496   -0.0380171   -0.00668675     -0.0730191   0.028014  \n",
       " -0.0186299   -0.0243082    0.0592893       0.03326     0.0135834 \n",
       " -0.063507     0.0342042   -0.0497079       0.0118175   0.0496496 \n",
       "  0.0209803   -0.0243121    0.00846879  …  -0.0380654  -0.0338457 \n",
       " -0.0394594   -0.0201254    0.0565744       0.0800537  -0.0102241 \n",
       " -0.0178961    0.0165818   -0.0164356      -0.0135414   0.0201495 \n",
       "\n",
       "[:, :, 2] =\n",
       " -3.88578e-16  -1.38778e-17   1.38778e-17  …  -1.73472e-17   1.15359e-16\n",
       " -9.71445e-17  -5.55112e-17   4.16334e-17     -2.63678e-16  -2.77556e-17\n",
       " -5.55112e-17   5.55112e-17  -3.46945e-17      1.04083e-16   0.0        \n",
       "  1.38778e-16   1.52656e-16   1.38778e-17      1.42247e-16   2.08167e-17\n",
       "  6.93889e-18  -2.77556e-17   1.11022e-16      3.1225e-17   -9.71445e-17\n",
       "  6.93889e-17   4.51028e-17   5.89806e-17  …   8.32667e-17   6.93889e-18\n",
       " -9.36751e-17  -1.94289e-16   1.8735e-16      -1.11022e-16   2.77556e-17\n",
       " -6.245e-17    -7.97973e-17  -1.11022e-16     -1.31839e-16  -1.66533e-16\n",
       "\n",
       "[:, :, 3] =\n",
       "  1.50921e-16   6.76542e-17   5.89806e-17  …  -8.67362e-18  -1.73472e-17\n",
       "  0.0           1.38778e-17  -4.16334e-17      7.15573e-17   2.77556e-17\n",
       "  8.67362e-18  -4.85723e-17   3.46945e-17     -6.245e-17     2.42861e-17\n",
       " -6.59195e-17  -2.08167e-17   1.38778e-17      3.64292e-17   4.51028e-17\n",
       " -8.67362e-17  -3.64292e-17   4.16334e-17     -1.04083e-17   1.73472e-17\n",
       " -2.42861e-17  -3.55618e-17   1.04083e-17  …   2.77556e-17  -1.11022e-16\n",
       " -2.08167e-17   8.32667e-17   0.0              4.16334e-17  -2.94903e-17\n",
       "  3.98986e-17   6.93889e-18   6.245e-17        1.38778e-17   2.77556e-17\n",
       "\n",
       "[:, :, 4] =\n",
       " -3.46945e-17  -6.07153e-18   1.56125e-17  …   2.47198e-17  1.30104e-17\n",
       " -5.20417e-18  -1.38778e-17   1.56125e-17     -1.9082e-17   3.46945e-18\n",
       " -1.12757e-17  -1.73472e-17  -3.46945e-18      3.46945e-18  5.20417e-18\n",
       "  8.67362e-18   8.67362e-18   1.38778e-17      6.93889e-18  1.9082e-17 \n",
       " -2.08167e-17  -5.20417e-18  -4.16334e-17      1.73472e-18  0.0        \n",
       " -3.1225e-17   -2.25514e-17  -2.0383e-17   …  -1.38778e-17  1.9082e-17 \n",
       "  1.38778e-17  -3.64292e-17  -2.77556e-17      2.08167e-17  2.77556e-17\n",
       " -6.07153e-18   2.77556e-17   1.04083e-17      2.60209e-17  2.60209e-17\n",
       "\n",
       "[:, :, 5] =\n",
       "  1.73472e-17   1.25767e-17   0.0          …  -1.51788e-18   3.03577e-18\n",
       "  7.80626e-18  -1.73472e-18  -4.33681e-18      3.90313e-18   9.54098e-18\n",
       "  3.46945e-18   0.0           9.54098e-18      1.73472e-18  -5.20417e-18\n",
       " -1.21431e-17  -9.1073e-18   -8.45678e-18      7.37257e-18  -4.77049e-18\n",
       "  1.99493e-17  -1.06794e-17   1.04083e-17      3.46945e-18   7.80626e-18\n",
       " -4.33681e-18   6.07153e-18  -1.30104e-18  …   3.46945e-18   4.33681e-19\n",
       " -2.60209e-18   0.0           1.30104e-17      1.73472e-18  -6.07153e-18\n",
       "  4.77049e-18  -3.46945e-18  -1.73472e-18      5.20417e-18   9.54098e-18\n",
       "\n",
       "[:, :, 6] =\n",
       " -1.73472e-18  -6.07153e-18  -6.93889e-18  …  -4.33681e-19   1.04083e-17\n",
       " -1.73472e-18   5.20417e-18   0.0             -6.93889e-18  -3.46945e-18\n",
       "  0.0           8.67362e-19   3.46945e-18     -6.07153e-18   5.20417e-18\n",
       "  1.73472e-18   0.0           1.9082e-17      -1.73472e-17  -3.46945e-18\n",
       " -3.46945e-18   1.73472e-18   8.23994e-18     -3.46945e-18  -1.38778e-17\n",
       "  0.0          -1.38778e-17   6.93889e-18  …  -6.93889e-18  -6.50521e-18\n",
       "  0.0          -2.60209e-18  -1.73472e-18      1.73472e-18   6.93889e-18\n",
       " -5.20417e-18  -8.67362e-18  -6.93889e-18     -6.07153e-18  -1.04083e-17\n",
       "\n",
       "[:, :, 7] =\n",
       "  1.73472e-18   1.73472e-18  -1.73472e-18  …   1.73472e-18   3.46945e-18\n",
       " -7.80626e-18  -6.93889e-18  -8.67362e-19      6.93889e-18   1.04083e-17\n",
       "  8.67362e-19   0.0           0.0             -8.67362e-18   4.33681e-18\n",
       "  1.38778e-17   3.46945e-18  -6.93889e-18      2.60209e-18   6.93889e-18\n",
       " -5.20417e-18   6.93889e-18   3.46945e-18     -8.67362e-18  -8.67362e-19\n",
       "  4.33681e-18   8.67362e-18  -2.60209e-18  …   5.20417e-18   0.0        \n",
       " -6.93889e-18  -8.67362e-18   3.46945e-18      6.93889e-18  -7.80626e-18\n",
       "  6.93889e-18   1.73472e-18  -2.77556e-17      3.46945e-18   1.38778e-17\n",
       "\n",
       "[:, :, 8] =\n",
       "  0.0393875    -0.0061207    0.00099897  …   0.000430059   0.0308215 \n",
       " -0.00205519   -0.00452595   0.0257678      -0.0158212     0.0106424 \n",
       " -0.00301643   -0.00191525   0.0390274       0.015962      0.0315166 \n",
       " -0.0119399    -0.0221843    0.0369181      -0.0171567     0.00533314\n",
       "  0.00987144   -0.00202751   0.00335605      0.000499992  -0.0387086 \n",
       " -0.0175013    -0.0077586    0.0210326   …  -0.00547325   -0.0426945 \n",
       " -0.0179122    -0.0375719    0.0131195       0.00981494   -0.0223403 \n",
       " -0.000342113  -0.0236579   -0.044699       -0.0345869     0.0102701 "
      ]
     },
     "execution_count": 45,
     "metadata": {},
     "output_type": "execute_result"
    }
   ],
   "source": [
    "interior(∇²ϕ) .- R"
   ]
  },
  {
   "cell_type": "code",
   "execution_count": null,
   "metadata": {},
   "outputs": [],
   "source": []
  },
  {
   "cell_type": "code",
   "execution_count": null,
   "metadata": {},
   "outputs": [],
   "source": []
  }
 ],
 "metadata": {
  "kernelspec": {
   "display_name": "Julia 1.3.0",
   "language": "julia",
   "name": "julia-1.3"
  },
  "language_info": {
   "file_extension": ".jl",
   "mimetype": "application/julia",
   "name": "julia",
   "version": "1.3.0"
  }
 },
 "nbformat": 4,
 "nbformat_minor": 4
}
