{
 "cells": [
  {
   "cell_type": "code",
   "execution_count": 18,
   "metadata": {},
   "outputs": [],
   "source": [
    "using LinearAlgebra, Random, Statistics, FFTW"
   ]
  },
  {
   "cell_type": "code",
   "execution_count": 3,
   "metadata": {},
   "outputs": [
    {
     "data": {
      "text/plain": [
       "λj (generic function with 1 method)"
      ]
     },
     "execution_count": 3,
     "metadata": {},
     "output_type": "execute_result"
    }
   ],
   "source": [
    "function λi(Nx, Δx)\n",
    "    is = reshape(1:Nx, Nx, 1, 1)\n",
    "    @. (2sin((is-1)*π/Nx) / Δx)^2\n",
    "end\n",
    "\n",
    "function λj(Ny, Δy)\n",
    "    js = reshape(1:Ny, 1, Ny, 1)\n",
    "    @. (2sin((js-1)*π/Ny) / Δy)^2\n",
    "end"
   ]
  },
  {
   "cell_type": "code",
   "execution_count": 4,
   "metadata": {},
   "outputs": [
    {
     "data": {
      "text/plain": [
       "tridiag"
      ]
     },
     "execution_count": 4,
     "metadata": {},
     "output_type": "execute_result"
    }
   ],
   "source": [
    "\"\"\"\n",
    "    tridiag(M::Tridiagonal{T,<:Array}, f::Vector{T})::Vector{T} where T\n",
    "Solve the tridiagonal system of linear equations described by the tridiagonal\n",
    "matrix `M` with right-hand-side `g` assuming one of the eigenvalues is zero\n",
    "(which results in a singular matrix so the general Thomas algorithm has been\n",
    "modified slightly).\n",
    "Reference CPU implementation per Numerical Recipes, Press et. al 1992 (§ 2.4)\n",
    "\"\"\"\n",
    "function tridiag(M, f)\n",
    "    N = length(f)\n",
    "    ϕ = similar(f)\n",
    "    γ = similar(f)\n",
    "\n",
    "    β    = M.d[1]\n",
    "    ϕ[1] = f[1] / β\n",
    "\n",
    "    for j = 2:N\n",
    "        γ[j] = M.du[j-1] / β\n",
    "        β    = M.d[j] - M.dl[j-1] * γ[j]\n",
    "\n",
    "        # This should only happen on last element of forward pass for problems\n",
    "        # with zero eigenvalue. In that case the algorithmn is still stable.\n",
    "        abs(β) < 1.0e-12 && break\n",
    "\n",
    "        ϕ[j] = (f[j] - M.dl[j-1] * ϕ[j-1]) / β\n",
    "    end\n",
    "\n",
    "    for j = 1:N-1\n",
    "        k = N-j\n",
    "        ϕ[k] = ϕ[k] - γ[k+1] * ϕ[k+1]\n",
    "    end\n",
    "\n",
    "    return ϕ\n",
    "end"
   ]
  },
  {
   "cell_type": "code",
   "execution_count": 5,
   "metadata": {},
   "outputs": [
    {
     "data": {
      "text/plain": [
       "solve_poisson_1d (generic function with 1 method)"
      ]
     },
     "execution_count": 5,
     "metadata": {},
     "output_type": "execute_result"
    }
   ],
   "source": [
    "δ(k, ΔzF, ΔzC, kx², ky²) = - (1/ΔzF[k-1] + 1/ΔzF[k]) - ΔzC[k] * (kx² + ky²)\n",
    "\n",
    "function solve_poisson_1d(Nz, ΔzF, ΔzC, kx², ky², F)\n",
    "    ld = [1/ΔzF[k] for k in 1:Nz-1]\n",
    "    ud = copy(ld)\n",
    "    d = [-1/ΔzF[1], [δ(k, ΔzF, ΔzC, kx², ky²) for k in 2:Nz]...]    \n",
    "    M = Tridiagonal(ld, d, ud)\n",
    "\n",
    "    ϕ = tridiag(M, F)\n",
    "    \n",
    "    return ϕ\n",
    "end"
   ]
  },
  {
   "cell_type": "code",
   "execution_count": 6,
   "metadata": {},
   "outputs": [
    {
     "data": {
      "text/plain": [
       "grid (generic function with 1 method)"
      ]
     },
     "execution_count": 6,
     "metadata": {},
     "output_type": "execute_result"
    }
   ],
   "source": [
    "function grid(zF)\n",
    "    Nz = length(zF) - 1\n",
    "    ΔzF = [zF[k+1] - zF[k] for k in 1:Nz]\n",
    "    zC = [(zF[k] + zF[k+1]) / 2 for k in 1:Nz]\n",
    "    ΔzC = [zC[k+1] - zC[k] for k in 1:Nz-1]\n",
    "    return zF, zC, ΔzF, ΔzC\n",
    "end"
   ]
  },
  {
   "cell_type": "code",
   "execution_count": 7,
   "metadata": {},
   "outputs": [
    {
     "name": "stdout",
     "output_type": "stream",
     "text": [
      "(zF, zC, ΔzF, ΔzC) = ([1, 2, 4, 7, 11, 16, 22, 29, 37], [1.5, 3.0, 5.5, 9.0, 13.5, 19.0, 25.5, 33.0], [1, 2, 3, 4, 5, 6, 7, 8], [1.5, 2.5, 3.5, 4.5, 5.5, 6.5, 7.5, 7.5])\n"
     ]
    }
   ],
   "source": [
    "Nx, Ny = 4, 4\n",
    "Lx, Ly = 1, 1\n",
    "Δx, Δy = Lx/Nx, Ly/Ny\n",
    "\n",
    "zF = [1, 2, 4, 7, 11, 16, 22, 29, 37]\n",
    "Nz = length(zF) - 1\n",
    "zF, zC, ΔzF, ΔzC = grid(zF)\n",
    "\n",
    "ΔzC = [ΔzC..., ΔzC[end]]\n",
    "\n",
    "@show zF, zC, ΔzF, ΔzC\n",
    "\n",
    "zC = reshape(zC, (1, 1, Nz))\n",
    "zF = reshape(zF, (1, 1, Nz+1))\n",
    "ΔzC = reshape(ΔzC, (1, 1, Nz))\n",
    "ΔzF = reshape(ΔzF, (1, 1, Nz));"
   ]
  },
  {
   "cell_type": "code",
   "execution_count": 8,
   "metadata": {},
   "outputs": [
    {
     "data": {
      "text/plain": [
       "7.28583859910259e-17"
      ]
     },
     "execution_count": 8,
     "metadata": {},
     "output_type": "execute_result"
    }
   ],
   "source": [
    "R = rand(MersenneTwister(0), Nx, Ny, Nz)\n",
    "R .= R .- mean(R)\n",
    "mean(R)"
   ]
  },
  {
   "cell_type": "code",
   "execution_count": 9,
   "metadata": {},
   "outputs": [],
   "source": [
    "F = ΔzC .* R;"
   ]
  },
  {
   "cell_type": "code",
   "execution_count": 10,
   "metadata": {},
   "outputs": [
    {
     "data": {
      "text/plain": [
       "4×4×8 Array{Float64,3}:\n",
       "[:, :, 1] =\n",
       " 0.234736  1.06724  0.948748   1.08669 \n",
       " 0.101265  1.18547  0.0257168  0.111761\n",
       " 1.22349   1.42561  0.610413   1.2229  \n",
       " 1.20509   1.38001  0.6783     0.485393\n",
       "\n",
       "[:, :, 2] =\n",
       " 0.701851  0.717204  0.723133  0.708389\n",
       " 0.698443  0.722331  0.717185  0.708474\n",
       " 0.701978  0.720702  0.720774  0.705093\n",
       " 0.702727  0.71406   0.718877  0.700209\n",
       "\n",
       "[:, :, 3] =\n",
       " 0.405554  0.397676  0.396754  0.408218\n",
       " 0.404011  0.409989  0.400947  0.402341\n",
       " 0.412444  0.40856   0.413709  0.413739\n",
       " 0.400166  0.39743   0.408483  0.402269\n",
       "\n",
       "[:, :, 4] =\n",
       " -0.226056  -0.235762  -0.234156  -0.224836\n",
       " -0.22607   -0.233716  -0.232831  -0.229138\n",
       " -0.229492  -0.237278  -0.238219  -0.236312\n",
       " -0.239724  -0.241894  -0.242626  -0.240596\n",
       "\n",
       "[:, :, 5] =\n",
       " -0.589929  -0.593238  -0.589624  -0.591637\n",
       " -0.601183  -0.592465  -0.590204  -0.59394 \n",
       " -0.602116  -0.598396  -0.58716   -0.596824\n",
       " -0.595467  -0.594412  -0.591255  -0.596162\n",
       "\n",
       "[:, :, 6] =\n",
       " -0.8843    -0.886481  -0.891237  -0.888228\n",
       " -0.902248  -0.900229  -0.896878  -0.895088\n",
       " -0.903288  -0.905898  -0.896903  -0.902288\n",
       " -0.887473  -0.898322  -0.885824  -0.886043\n",
       "\n",
       "[:, :, 7] =\n",
       " -0.527013  -0.521261  -0.514311  -0.522276\n",
       " -0.513596  -0.512531  -0.507534  -0.520003\n",
       " -0.523221  -0.51274   -0.511133  -0.525776\n",
       " -0.529501  -0.519035  -0.523853  -0.528118\n",
       "\n",
       "[:, :, 8] =\n",
       " 0.323523  0.319628  0.316544  0.320814\n",
       " 0.320792  0.324039  0.305963  0.307898\n",
       " 0.308926  0.314976  0.302103  0.302792\n",
       " 0.312259  0.312565  0.312071  0.313906"
      ]
     },
     "execution_count": 10,
     "metadata": {},
     "output_type": "execute_result"
    }
   ],
   "source": [
    "F̃ = fft(F, [1, 2])\n",
    "ϕ̃ = similar(F̃)\n",
    "\n",
    "kx² = λi(Nx, Δx)\n",
    "ky² = λj(Ny, Δy)\n",
    "\n",
    "for i in 1:Nx, j in 1:Ny\n",
    "    ϕ̃[i, j, :] = solve_poisson_1d(Nz, ΔzF, ΔzC, kx²[i], ky²[j], F̃[i, j, :])\n",
    "end\n",
    "\n",
    "# ϕ̃[1, 1, 1] = 0\n",
    "ϕ = real.(ifft(ϕ̃, [1, 2]))\n",
    "ϕ = ϕ .- mean(ϕ)"
   ]
  },
  {
   "cell_type": "code",
   "execution_count": 11,
   "metadata": {},
   "outputs": [
    {
     "data": {
      "text/plain": [
       "∇² (generic function with 1 method)"
      ]
     },
     "execution_count": 11,
     "metadata": {},
     "output_type": "execute_result"
    }
   ],
   "source": [
    "@inline δx_caa(i, j, k, f) = @inbounds f[i+1, j, k] - f[i, j, k]\n",
    "@inline δy_aca(i, j, k, f) = @inbounds f[i, j+1, k] - f[i, j, k]\n",
    "@inline δz_aac(i, j, k, f) = @inbounds f[i, j, k+1] - f[i, j, k]\n",
    "\n",
    "@inline ∂x_caa(i, j, k, Δx,  f) = δx_caa(i, j, k, f) / Δx\n",
    "@inline ∂y_aca(i, j, k, Δy,  f) = δy_aca(i, j, k, f) / Δy\n",
    "@inline ∂z_aac(i, j, k, ΔzF, f) = δz_aac(i, j, k, f) / ΔzF[k]\n",
    "\n",
    "@inline ∂x²(i, j, k, Δx, f)       = (∂x_caa(i, j, k, Δx, f)  - ∂x_caa(i-1, j, k, Δx, f))  / Δx\n",
    "@inline ∂y²(i, j, k, Δy, f)       = (∂y_aca(i, j, k, Δy, f)  - ∂y_aca(i, j-1, k, Δy, f))  / Δy\n",
    "@inline ∂z²(i, j, k, ΔzF, ΔzC, f) = (∂z_aac(i, j, k, ΔzF, f) - ∂z_aac(i, j, k-1, ΔzF, f)) / ΔzC[k]\n",
    "\n",
    "@inline ∇²(i, j, k, Δx, Δy, ΔzF, ΔzC, f) = ∂x²(i, j, k, Δx, f) + ∂y²(i, j, k, Δy, f) + ∂z²(i, j, k, ΔzF, ΔzC, f)"
   ]
  },
  {
   "cell_type": "code",
   "execution_count": 12,
   "metadata": {},
   "outputs": [
    {
     "data": {
      "text/plain": [
       "4×4×8 Array{Float64,3}:\n",
       "[:, :, 1] =\n",
       " 0.0  0.0  0.0  0.0\n",
       " 0.0  0.0  0.0  0.0\n",
       " 0.0  0.0  0.0  0.0\n",
       " 0.0  0.0  0.0  0.0\n",
       "\n",
       "[:, :, 2] =\n",
       "  2.63915  -0.224261  -0.546163  -4.349  \n",
       " -9.19137  -0.44987   -0.244253  -5.0874 \n",
       "  8.7404   -0.159109  -0.445391  -4.30666\n",
       " -2.93595   0.350236  -0.59151   -9.28387\n",
       "\n",
       "[:, :, 3] =\n",
       " 9.39127   0.333454    0.262613  -10.439  \n",
       " 5.10874  -0.476893    0.288881   -9.81686\n",
       " 4.26906  -0.0275773  -0.387915  -10.6784 \n",
       " 4.89583   0.37221    -0.214547  -20.0608 \n",
       "\n",
       "[:, :, 4] =\n",
       " 20.0726   0.177416    0.0478176   -6.31757\n",
       "  9.90356  0.0744746  -0.0353552   -6.03128\n",
       " 10.085    0.120458    0.0901368   -5.80898\n",
       " 10.4919   0.248457    0.428237   -11.2034 \n",
       "\n",
       "[:, :, 5] =\n",
       " 11.2036    0.0930314  -0.170691   -4.67528\n",
       "  6.26345  -0.205434   -0.0328814  -4.87683\n",
       "  6.03967   0.284126   -0.444014   -4.68678\n",
       "  5.62967   0.0514495  -0.0644843  -9.19768\n",
       "\n",
       "[:, :, 6] =\n",
       " 8.989    -0.258628  -0.0604299   5.67851\n",
       " 5.25501   0.169956   0.0842943   6.08865\n",
       " 5.15037   0.417122  -0.0329769   6.54538\n",
       " 4.26839   0.38479   -0.400853   11.2109 \n",
       "\n",
       "[:, :, 7] =\n",
       " -11.209     0.034884   -0.198342  13.6793\n",
       "  -6.44824  -0.0727799  -0.438611  13.5309\n",
       "  -5.83644  -0.232339   -0.39902   13.6518\n",
       "  -5.2968   -0.0608556   0.245493  27.1861\n",
       "\n",
       "[:, :, 8] =\n",
       " 0.0  0.0  0.0  0.0\n",
       " 0.0  0.0  0.0  0.0\n",
       " 0.0  0.0  0.0  0.0\n",
       " 0.0  0.0  0.0  0.0"
      ]
     },
     "execution_count": 12,
     "metadata": {},
     "output_type": "execute_result"
    }
   ],
   "source": [
    "∇²ϕ = zeros(Nx, Ny, Nz)\n",
    "\n",
    "# ∇²ϕ[1] = ∂z_aac(1, ΔzF, ϕ) / ΔzC[1]\n",
    "for i in 1:Nx, j in 1:Ny, k in 2:Nz-1\n",
    "    ∇²ϕ[i, j, k] = ∇²(i, j, k, Δx, Δy, ΔzF, ΔzC, ϕ)\n",
    "end\n",
    "# ∇²ϕ[Nz] = (∂z_aac(Nz, ΔzF, ϕ) - ∂z_aac(Nz-1, ΔzF, ϕ)) / ΔzC[Nz-1]\n",
    "∇²ϕ"
   ]
  },
  {
   "cell_type": "code",
   "execution_count": 13,
   "metadata": {},
   "outputs": [
    {
     "data": {
      "text/plain": [
       "4×4×8 Array{Float64,3}:\n",
       "[:, :, 1] =\n",
       "  0.31141   -0.233358  -0.150409   -0.252202\n",
       "  0.398119  -0.308761   0.460979    0.397809\n",
       " -0.347672  -0.469936   0.0735737  -0.345202\n",
       " -0.334909  -0.443969   0.0270514   0.143211\n",
       "\n",
       "[:, :, 2] =\n",
       " 0.0636496  -0.0429341  -0.469097   0.0930589\n",
       " 0.356041   -0.44987    -0.244253  -0.376493 \n",
       " 0.455562   -0.159109   -0.445391   0.32588  \n",
       " 0.255452    0.255364   -0.355601   0.402474 \n",
       "\n",
       "[:, :, 3] =\n",
       " -0.212163   0.289686    0.439453  -0.432683\n",
       "  0.210612  -0.476893    0.288881   0.264436\n",
       " -0.392585  -0.0275773  -0.387915  -0.407415\n",
       "  0.254832   0.386961   -0.397969   0.325837\n",
       "\n",
       "[:, :, 4] =\n",
       " -0.328123  0.142684    0.0361043  -0.463116 \n",
       " -0.200093  0.0744746  -0.0353552  -0.0294764\n",
       " -0.31583   0.120458    0.0901368   0.153014 \n",
       "  0.361343  0.222766    0.279108    0.330018 \n",
       "\n",
       "[:, :, 5] =\n",
       " -0.343131     0.109918    -0.120178   -0.0438408\n",
       "  0.426619    -0.205434    -0.0328814  -0.0597812\n",
       "  0.271488     0.284126    -0.444014    0.131973 \n",
       " -0.00643321  -0.00636371  -0.0322897   0.157038 \n",
       "\n",
       "[:, :, 6] =\n",
       " -0.417446  -0.432215   0.13954    -0.0416006\n",
       "  0.436646   0.169956   0.0842943  -0.129785 \n",
       "  0.26295    0.417122  -0.0329769   0.464312 \n",
       " -0.334829   0.460881  -0.449001   -0.296133 \n",
       "\n",
       "[:, :, 7] =\n",
       "  0.350952   0.202351   -0.275438  0.00243114\n",
       " -0.446896  -0.0727799  -0.438611  0.180733  \n",
       "  0.187752  -0.232339   -0.39902   0.337465  \n",
       "  0.337968  -0.172054    0.372928  0.185168  \n",
       "\n",
       "[:, :, 8] =\n",
       " -0.284006   0.0163386  -0.0771466   -0.296433 \n",
       " -0.254613  -0.510935    0.474236     0.346556 \n",
       "  0.287978  -0.150185    0.484903     0.39293  \n",
       "  0.204031   0.184868   -0.00464332  -0.0770959"
      ]
     },
     "execution_count": 13,
     "metadata": {},
     "output_type": "execute_result"
    }
   ],
   "source": [
    "R"
   ]
  },
  {
   "cell_type": "code",
   "execution_count": 14,
   "metadata": {},
   "outputs": [
    {
     "data": {
      "text/plain": [
       "4×4×8 BitArray{3}:\n",
       "[:, :, 1] =\n",
       " 0  0  0  0\n",
       " 0  0  0  0\n",
       " 0  0  0  0\n",
       " 0  0  0  0\n",
       "\n",
       "[:, :, 2] =\n",
       " 0  0  0  0\n",
       " 0  1  1  0\n",
       " 0  1  1  0\n",
       " 0  0  0  0\n",
       "\n",
       "[:, :, 3] =\n",
       " 0  0  0  0\n",
       " 0  1  1  0\n",
       " 0  1  1  0\n",
       " 0  0  0  0\n",
       "\n",
       "[:, :, 4] =\n",
       " 0  0  0  0\n",
       " 0  1  1  0\n",
       " 0  1  1  0\n",
       " 0  0  0  0\n",
       "\n",
       "[:, :, 5] =\n",
       " 0  0  0  0\n",
       " 0  1  1  0\n",
       " 0  1  1  0\n",
       " 0  0  0  0\n",
       "\n",
       "[:, :, 6] =\n",
       " 0  0  0  0\n",
       " 0  1  1  0\n",
       " 0  1  1  0\n",
       " 0  0  0  0\n",
       "\n",
       "[:, :, 7] =\n",
       " 0  0  0  0\n",
       " 0  1  1  0\n",
       " 0  1  1  0\n",
       " 0  0  0  0\n",
       "\n",
       "[:, :, 8] =\n",
       " 0  0  0  0\n",
       " 0  0  0  0\n",
       " 0  0  0  0\n",
       " 0  0  0  0"
      ]
     },
     "execution_count": 14,
     "metadata": {},
     "output_type": "execute_result"
    }
   ],
   "source": [
    "∇²ϕ .≈ R"
   ]
  },
  {
   "cell_type": "code",
   "execution_count": 17,
   "metadata": {},
   "outputs": [
    {
     "ename": "LoadError",
     "evalue": "UndefVarError: @test not defined",
     "output_type": "error",
     "traceback": [
      "UndefVarError: @test not defined",
      ""
     ]
    }
   ],
   "source": [
    "@test ∇²ϕ[2:Nx-1, 2:Ny-1, 2:Nz-1] ≈ R[2:Nx-1, 2:Ny-1, 2:Nz-1]"
   ]
  },
  {
   "cell_type": "code",
   "execution_count": null,
   "metadata": {},
   "outputs": [],
   "source": []
  }
 ],
 "metadata": {
  "kernelspec": {
   "display_name": "Julia 1.3.0",
   "language": "julia",
   "name": "julia-1.3"
  },
  "language_info": {
   "file_extension": ".jl",
   "mimetype": "application/julia",
   "name": "julia",
   "version": "1.3.0"
  }
 },
 "nbformat": 4,
 "nbformat_minor": 4
}
