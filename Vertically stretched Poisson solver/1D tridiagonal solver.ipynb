{
 "cells": [
  {
   "cell_type": "code",
   "execution_count": 17,
   "metadata": {},
   "outputs": [],
   "source": [
    "using LinearAlgebra, Random, Statistics"
   ]
  },
  {
   "cell_type": "code",
   "execution_count": 20,
   "metadata": {},
   "outputs": [
    {
     "data": {
      "text/plain": [
       "tridiag (generic function with 1 method)"
      ]
     },
     "execution_count": 20,
     "metadata": {},
     "output_type": "execute_result"
    }
   ],
   "source": [
    "# Reference CPU implementation per Numerical Recipes, Press et. al 1992 (§ 2.4)\n",
    "function tridiag(M::Tridiagonal{T,<:Array}, f::Vector{T})::Vector{T} where T\n",
    "    N = length(f)\n",
    "    ϕ = similar(f)\n",
    "    γ = similar(f)\n",
    "\n",
    "    β    = M.d[1]\n",
    "    ϕ[1] = f[1] / β\n",
    "\n",
    "    for j = 2:N\n",
    "        γ[j] = M.du[j-1] / β\n",
    "        β    = M.d[j] - M.dl[j-1] * γ[j]\n",
    "\n",
    "        # This should only happen on last element of forward pass for problems\n",
    "        # with zero eigenvalue. In that case the algorithmn is still stable.\n",
    "        abs(β) < 1.0e-12 && break\n",
    "\n",
    "        ϕ[j] = (f[j] - M.dl[j-1] * ϕ[j-1]) / β\n",
    "    end\n",
    "\n",
    "    for j = 1:N-1\n",
    "        k = N-j\n",
    "        ϕ[k] = ϕ[k] - γ[k+1] * ϕ[k+1]\n",
    "    end\n",
    "\n",
    "    return ϕ\n",
    "end"
   ]
  },
  {
   "cell_type": "code",
   "execution_count": 34,
   "metadata": {},
   "outputs": [
    {
     "data": {
      "text/plain": [
       "0.125"
      ]
     },
     "execution_count": 34,
     "metadata": {},
     "output_type": "execute_result"
    }
   ],
   "source": [
    "Nz, Lz = 8, 1\n",
    "Δz = Lz/Nz"
   ]
  },
  {
   "cell_type": "code",
   "execution_count": 35,
   "metadata": {},
   "outputs": [
    {
     "data": {
      "text/plain": [
       "8-element Array{Float64,1}:\n",
       "  0.4900442230630878 \n",
       "  0.5767532530121119 \n",
       " -0.16903748678063935\n",
       " -0.15627443844806   \n",
       " -0.05472317558312356\n",
       " -0.1301267268724019 \n",
       " -0.2913016189822949 \n",
       " -0.2653340294086798 "
      ]
     },
     "execution_count": 35,
     "metadata": {},
     "output_type": "execute_result"
    }
   ],
   "source": [
    "Rall = rand(MersenneTwister(0), Nz+1)\n",
    "R = Rall[1:Nz]\n",
    "Rall[Nz+1] = 0\n",
    "Rall[1:Nz] = Rall[1:Nz] .- mean(Rall[1:Nz])\n",
    "\n",
    "R = Rall[1:Nz]"
   ]
  },
  {
   "cell_type": "code",
   "execution_count": 36,
   "metadata": {},
   "outputs": [
    {
     "data": {
      "text/plain": [
       "9×9 Tridiagonal{Float64,Array{Float64,1}}:\n",
       " -8.0    8.0     ⋅      ⋅      ⋅      ⋅      ⋅      ⋅     ⋅ \n",
       "  8.0  -16.0    8.0     ⋅      ⋅      ⋅      ⋅      ⋅     ⋅ \n",
       "   ⋅     8.0  -16.0    8.0     ⋅      ⋅      ⋅      ⋅     ⋅ \n",
       "   ⋅      ⋅     8.0  -16.0    8.0     ⋅      ⋅      ⋅     ⋅ \n",
       "   ⋅      ⋅      ⋅     8.0  -16.0    8.0     ⋅      ⋅     ⋅ \n",
       "   ⋅      ⋅      ⋅      ⋅     8.0  -16.0    8.0     ⋅     ⋅ \n",
       "   ⋅      ⋅      ⋅      ⋅      ⋅     8.0  -16.0    8.0    ⋅ \n",
       "   ⋅      ⋅      ⋅      ⋅      ⋅      ⋅     8.0  -16.0   8.0\n",
       "   ⋅      ⋅      ⋅      ⋅      ⋅      ⋅      ⋅     8.0  -8.0"
      ]
     },
     "execution_count": 36,
     "metadata": {},
     "output_type": "execute_result"
    }
   ],
   "source": [
    "ud = [1/Δz for k in 2:Nz+1]\n",
    "ld = [1/Δz for k in 1:Nz]\n",
    "d  = [-1/Δz, [-2/Δz for k in 2:Nz]..., -1/Δz]\n",
    "M = Tridiagonal(ld, d, ud)"
   ]
  },
  {
   "cell_type": "code",
   "execution_count": 37,
   "metadata": {},
   "outputs": [
    {
     "data": {
      "text/plain": [
       "9-element Array{Float64,1}:\n",
       "  0.06125552788288598 \n",
       "  0.07209415662651399 \n",
       " -0.021129685847579918\n",
       " -0.0195343048060075  \n",
       " -0.006840396947890445\n",
       " -0.016265840859050237\n",
       " -0.03641270237278686 \n",
       " -0.03316675367608497 \n",
       "  0.0                 "
      ]
     },
     "execution_count": 37,
     "metadata": {},
     "output_type": "execute_result"
    }
   ],
   "source": [
    "g = Δz .* Rall"
   ]
  },
  {
   "cell_type": "code",
   "execution_count": 38,
   "metadata": {},
   "outputs": [
    {
     "data": {
      "text/plain": [
       "8-element Array{Float64,1}:\n",
       " -0.07351280144284969  \n",
       " -0.06585586045748894  \n",
       " -0.049187149893813946 \n",
       " -0.03515965006108644  \n",
       " -0.023573938329109874 \n",
       " -0.012843276215619611 \n",
       " -0.0041458442095106286\n",
       " -3.469446951953614e-18"
      ]
     },
     "execution_count": 38,
     "metadata": {},
     "output_type": "execute_result"
    }
   ],
   "source": [
    "ϕ = tridiag(M, g)[1:Nz]"
   ]
  },
  {
   "cell_type": "code",
   "execution_count": 66,
   "metadata": {},
   "outputs": [],
   "source": [
    "∇²ϕ = zeros(size(ϕ))\n",
    "\n",
    "@inline δz(k, f) = @inbounds f[k] - f[k-1]\n",
    "@inline δz²(k, f) = δz(k+1, f) - δz(k, f)\n",
    "\n",
    "∇²ϕ[1] = (ϕ[2] - ϕ[1]) / Δz^2  # Enforced via halo regions.\n",
    "for k in 2:Nz\n",
    "    ∇²ϕ[k] = δz²(k, ϕ) / Δz^2\n",
    "end"
   ]
  },
  {
   "cell_type": "code",
   "execution_count": 67,
   "metadata": {},
   "outputs": [
    {
     "data": {
      "text/plain": [
       "8-element Array{Float64,1}:\n",
       "  0.49004422306308815\n",
       "  0.5767532530121113 \n",
       " -0.16903748678063923\n",
       " -0.15627443844805988\n",
       " -0.05472317558312356\n",
       " -0.1301267268724019 \n",
       " -0.2913016189822949 \n",
       " -0.2653340294086798 "
      ]
     },
     "execution_count": 67,
     "metadata": {},
     "output_type": "execute_result"
    }
   ],
   "source": [
    "∇²ϕ"
   ]
  },
  {
   "cell_type": "code",
   "execution_count": 68,
   "metadata": {},
   "outputs": [
    {
     "data": {
      "text/plain": [
       "8-element Array{Float64,1}:\n",
       "  0.4900442230630878 \n",
       "  0.5767532530121119 \n",
       " -0.16903748678063935\n",
       " -0.15627443844806   \n",
       " -0.05472317558312356\n",
       " -0.1301267268724019 \n",
       " -0.2913016189822949 \n",
       " -0.2653340294086798 "
      ]
     },
     "execution_count": 68,
     "metadata": {},
     "output_type": "execute_result"
    }
   ],
   "source": [
    "R"
   ]
  },
  {
   "cell_type": "code",
   "execution_count": 70,
   "metadata": {},
   "outputs": [
    {
     "data": {
      "text/plain": [
       "true"
      ]
     },
     "execution_count": 70,
     "metadata": {},
     "output_type": "execute_result"
    }
   ],
   "source": [
    "∇²ϕ ≈ R"
   ]
  },
  {
   "cell_type": "code",
   "execution_count": null,
   "metadata": {},
   "outputs": [],
   "source": []
  }
 ],
 "metadata": {
  "kernelspec": {
   "display_name": "Julia 1.2.0",
   "language": "julia",
   "name": "julia-1.2"
  },
  "language_info": {
   "file_extension": ".jl",
   "mimetype": "application/julia",
   "name": "julia",
   "version": "1.2.0"
  }
 },
 "nbformat": 4,
 "nbformat_minor": 4
}
