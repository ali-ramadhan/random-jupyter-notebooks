{
 "cells": [
  {
   "cell_type": "code",
   "execution_count": 1,
   "metadata": {},
   "outputs": [
    {
     "data": {
      "text/plain": [
       "\"/home/gridsan/aramadhan/Oceananigans.jl\""
      ]
     },
     "execution_count": 1,
     "metadata": {},
     "output_type": "execute_result"
    }
   ],
   "source": [
    "cd(\"/home/gridsan/aramadhan/Oceananigans.jl/\")\n",
    "pwd()"
   ]
  },
  {
   "cell_type": "code",
   "execution_count": 3,
   "metadata": {},
   "outputs": [
    {
     "data": {
      "text/plain": [
       "5-element Array{Int64,1}:\n",
       "  1\n",
       "  2\n",
       "  4\n",
       "  7\n",
       " 11"
      ]
     },
     "execution_count": 3,
     "metadata": {},
     "output_type": "execute_result"
    }
   ],
   "source": [
    "zF = [1, 2, 4, 7, 11]"
   ]
  },
  {
   "cell_type": "code",
   "execution_count": 2,
   "metadata": {},
   "outputs": [
    {
     "data": {
      "text/plain": [
       "\"/home/gridsan/aramadhan/Oceananigans.jl/Project.toml\""
      ]
     },
     "execution_count": 2,
     "metadata": {},
     "output_type": "execute_result"
    }
   ],
   "source": [
    "using Pkg\n",
    "Pkg.activate(\".\")"
   ]
  },
  {
   "cell_type": "code",
   "execution_count": 3,
   "metadata": {},
   "outputs": [
    {
     "name": "stderr",
     "output_type": "stream",
     "text": [
      "┌ Info: Recompiling stale cache file /home/gridsan/aramadhan/.julia/compiled/v1.1/Oceananigans/hU93i.ji for Oceananigans [9e8cae18-63c1-5223-a75c-80ca9d6e9a09]\n",
      "└ @ Base loading.jl:1184\n",
      "WARNING: Method definition overdub(Cassette.Context{N, M, T, P, B, H} where H<:Union{Cassette.DisableHooks, Nothing} where B<:Union{Nothing, Base.IdDict{Module, Base.Dict{Symbol, Cassette.BindingMeta}}} where P<:Cassette.AbstractPass where T<:Union{Nothing, Cassette.Tag{N, X, E} where E where X where N<:Cassette.AbstractContextName} where M where N<:Cassette.AbstractContextName, Any...) in module Cassette at /home/gridsan/aramadhan/.julia/packages/Cassette/xggAf/src/overdub.jl:508 overwritten in module GPUifyLoops at /home/gridsan/aramadhan/.julia/packages/Cassette/xggAf/src/overdub.jl:508.\n",
      "WARNING: Method definition recurse(Cassette.Context{N, M, T, P, B, H} where H<:Union{Cassette.DisableHooks, Nothing} where B<:Union{Nothing, Base.IdDict{Module, Base.Dict{Symbol, Cassette.BindingMeta}}} where P<:Cassette.AbstractPass where T<:Union{Nothing, Cassette.Tag{N, X, E} where E where X where N<:Cassette.AbstractContextName} where M where N<:Cassette.AbstractContextName, Any...) in module Cassette at /home/gridsan/aramadhan/.julia/packages/Cassette/xggAf/src/overdub.jl:521 overwritten in module GPUifyLoops at /home/gridsan/aramadhan/.julia/packages/Cassette/xggAf/src/overdub.jl:521.\n",
      "WARNING: Method definition overdub(Cassette.Context{N, M, T, P, B, H} where H<:Union{Cassette.DisableHooks, Nothing} where B<:Union{Nothing, Base.IdDict{Module, Base.Dict{Symbol, Cassette.BindingMeta}}} where P<:Cassette.AbstractPass where T<:Union{Nothing, Cassette.Tag{N, X, E} where E where X where N<:Cassette.AbstractContextName} where M where N<:Cassette.AbstractContextName, Any...) in module Cassette at /home/gridsan/aramadhan/.julia/packages/Cassette/xggAf/src/overdub.jl:508 overwritten in module GPUifyLoops at /home/gridsan/aramadhan/.julia/packages/Cassette/xggAf/src/overdub.jl:508.\n",
      "WARNING: Method definition recurse(Cassette.Context{N, M, T, P, B, H} where H<:Union{Cassette.DisableHooks, Nothing} where B<:Union{Nothing, Base.IdDict{Module, Base.Dict{Symbol, Cassette.BindingMeta}}} where P<:Cassette.AbstractPass where T<:Union{Nothing, Cassette.Tag{N, X, E} where E where X where N<:Cassette.AbstractContextName} where M where N<:Cassette.AbstractContextName, Any...) in module Cassette at /home/gridsan/aramadhan/.julia/packages/Cassette/xggAf/src/overdub.jl:521 overwritten in module GPUifyLoops at /home/gridsan/aramadhan/.julia/packages/Cassette/xggAf/src/overdub.jl:521.\n",
      "WARNING: Method definition adapt_structure(Any, Base.SubArray{#s23, #s24, AT, I, L} where L where I where #s24 where #s23) where {AT} in module Adapt at /home/gridsan/aramadhan/.julia/packages/Adapt/zZG7Z/src/base.jl:45 overwritten in module Oceananigans at /home/gridsan/aramadhan/Oceananigans.jl/src/Oceananigans.jl:137.\n"
     ]
    },
    {
     "name": "stdout",
     "output_type": "stream",
     "text": [
      "CUDA-enabled GPU(s) detected:\n",
      "CuDevice(0): Tesla V100-SXM2-16GB\n"
     ]
    }
   ],
   "source": [
    "using Oceananigans, Oceananigans.Operators"
   ]
  },
  {
   "cell_type": "code",
   "execution_count": 4,
   "metadata": {},
   "outputs": [],
   "source": [
    "using Random, Statistics\n",
    "using FFTW"
   ]
  },
  {
   "cell_type": "code",
   "execution_count": 5,
   "metadata": {},
   "outputs": [
    {
     "data": {
      "text/plain": [
       "∇²! (generic function with 1 method)"
      ]
     },
     "execution_count": 5,
     "metadata": {},
     "output_type": "execute_result"
    }
   ],
   "source": [
    "function ∇²!(grid::RegularCartesianGrid, f, ∇²f)\n",
    "    for k in 1:grid.Nz, j in 1:grid.Ny, i in 1:grid.Nx\n",
    "        @inbounds ∇²f[i, j, k] = ∇²(grid, f, i, j, k)\n",
    "    end\n",
    "end"
   ]
  },
  {
   "cell_type": "code",
   "execution_count": 35,
   "metadata": {},
   "outputs": [
    {
     "data": {
      "text/plain": [
       "8-element Array{Float64,1}:\n",
       "  0.4900442230630878 \n",
       "  0.5767532530121119 \n",
       " -0.16903748678063935\n",
       " -0.15627443844806   \n",
       " -0.05472317558312356\n",
       " -0.1301267268724019 \n",
       " -0.2913016189822949 \n",
       " -0.2653340294086798 "
      ]
     },
     "execution_count": 35,
     "metadata": {},
     "output_type": "execute_result"
    }
   ],
   "source": [
    "Nz, Lz = 8, 1\n",
    "\n",
    "Rall = rand(MersenneTwister(0), Nz+1)\n",
    "R = Rall[1:Nz]\n",
    "Rall[Nz+1] = 0\n",
    "Rall[1:Nz] = Rall[1:Nz] .- mean(Rall[1:Nz])\n",
    "\n",
    "R = Rall[1:Nz]"
   ]
  },
  {
   "cell_type": "code",
   "execution_count": 36,
   "metadata": {},
   "outputs": [
    {
     "data": {
      "text/plain": [
       "true"
      ]
     },
     "execution_count": 36,
     "metadata": {},
     "output_type": "execute_result"
    }
   ],
   "source": [
    "R2 = FFTW.r2r(R, FFTW.REDFT10)\n",
    "\n",
    "ks = 1:Nz |> Array\n",
    "kz² = @. (2sin((ks-1)*π/(2Nz)) / (Lz/Nz))^2\n",
    "\n",
    "R3 = -R2 ./ kz²\n",
    "R3[1] = 0\n",
    "\n",
    "R4 = FFTW.r2r(R3, FFTW.REDFT01)\n",
    " \n",
    "@. R4 = R4 / 2Nz\n",
    "\n",
    "grid = RegularCartesianGrid((1, 1, Nz), (1, 1, Lz))\n",
    "fbcs = DoublyPeriodicBCs()\n",
    "\n",
    "ϕ   = CellField(Float64, CPU(), grid)\n",
    "∇²ϕ = CellField(Float64, CPU(), grid)\n",
    "\n",
    "data(ϕ) .= real.(reshape(R4, 1, 1, Nz))\n",
    "\n",
    "fill_halo_regions!(grid, (:T, fbcs, ϕ.data))\n",
    "∇²!(grid, ϕ, ∇²ϕ)\n",
    "\n",
    "fill_halo_regions!(grid, (:T, fbcs, ∇²ϕ.data))\n",
    "\n",
    "data(∇²ϕ) ≈ reshape(R, 1, 1, Nz)"
   ]
  },
  {
   "cell_type": "code",
   "execution_count": 16,
   "metadata": {},
   "outputs": [],
   "source": [
    "using LinearAlgebra"
   ]
  },
  {
   "cell_type": "code",
   "execution_count": 17,
   "metadata": {},
   "outputs": [
    {
     "data": {
      "text/plain": [
       "4×4 Tridiagonal{Int64,Array{Int64,1}}:\n",
       " 7  4  ⋅   ⋅\n",
       " 1  8  5   ⋅\n",
       " ⋅  2  9   6\n",
       " ⋅  ⋅  3  10"
      ]
     },
     "execution_count": 17,
     "metadata": {},
     "output_type": "execute_result"
    }
   ],
   "source": [
    "ld = [1, 2, 3]\n",
    "ud = [4, 5, 6]\n",
    "d  = [7, 8, 9, 10]\n",
    "M = Tridiagonal(ld, d, ud)"
   ]
  },
  {
   "cell_type": "code",
   "execution_count": 48,
   "metadata": {},
   "outputs": [
    {
     "data": {
      "text/plain": [
       "9-element Array{Float64,1}:\n",
       " 0.125\n",
       " 0.125\n",
       " 0.125\n",
       " 0.125\n",
       " 0.125\n",
       " 0.125\n",
       " 0.125\n",
       " 0.125\n",
       " 0.125"
      ]
     },
     "execution_count": 48,
     "metadata": {},
     "output_type": "execute_result"
    }
   ],
   "source": [
    "Δz = (Lz/Nz) * ones(Nz+1)"
   ]
  },
  {
   "cell_type": "code",
   "execution_count": 49,
   "metadata": {},
   "outputs": [
    {
     "data": {
      "text/plain": [
       "δ (generic function with 1 method)"
      ]
     },
     "execution_count": 49,
     "metadata": {},
     "output_type": "execute_result"
    }
   ],
   "source": [
    "δ(k) = -(Δz[k-1] + Δz[k+1]) / (Δz[k-1] * Δz[k+1])"
   ]
  },
  {
   "cell_type": "code",
   "execution_count": 73,
   "metadata": {},
   "outputs": [
    {
     "data": {
      "text/plain": [
       "8-element Array{Float64,1}:\n",
       " 8.0\n",
       " 8.0\n",
       " 8.0\n",
       " 8.0\n",
       " 8.0\n",
       " 8.0\n",
       " 8.0\n",
       " 8.0"
      ]
     },
     "execution_count": 73,
     "metadata": {},
     "output_type": "execute_result"
    }
   ],
   "source": [
    "ud = [1/Δz[k] for k in 2:Nz+1]"
   ]
  },
  {
   "cell_type": "code",
   "execution_count": 74,
   "metadata": {},
   "outputs": [
    {
     "data": {
      "text/plain": [
       "8-element Array{Float64,1}:\n",
       " 8.0\n",
       " 8.0\n",
       " 8.0\n",
       " 8.0\n",
       " 8.0\n",
       " 8.0\n",
       " 8.0\n",
       " 8.0"
      ]
     },
     "execution_count": 74,
     "metadata": {},
     "output_type": "execute_result"
    }
   ],
   "source": [
    "ld = [1/Δz[k] for k in 1:Nz]"
   ]
  },
  {
   "cell_type": "code",
   "execution_count": 75,
   "metadata": {},
   "outputs": [
    {
     "data": {
      "text/plain": [
       "9-element Array{Float64,1}:\n",
       "  -8.0\n",
       " -16.0\n",
       " -16.0\n",
       " -16.0\n",
       " -16.0\n",
       " -16.0\n",
       " -16.0\n",
       " -16.0\n",
       "  -8.0"
      ]
     },
     "execution_count": 75,
     "metadata": {},
     "output_type": "execute_result"
    }
   ],
   "source": [
    "d = [-1/Δz[1], [δ(k) for k in 2:Nz]..., -1/Δz[Nz+1]]"
   ]
  },
  {
   "cell_type": "code",
   "execution_count": 76,
   "metadata": {},
   "outputs": [
    {
     "data": {
      "text/plain": [
       "9×9 Tridiagonal{Float64,Array{Float64,1}}:\n",
       " -8.0    8.0     ⋅      ⋅      ⋅      ⋅      ⋅      ⋅     ⋅ \n",
       "  8.0  -16.0    8.0     ⋅      ⋅      ⋅      ⋅      ⋅     ⋅ \n",
       "   ⋅     8.0  -16.0    8.0     ⋅      ⋅      ⋅      ⋅     ⋅ \n",
       "   ⋅      ⋅     8.0  -16.0    8.0     ⋅      ⋅      ⋅     ⋅ \n",
       "   ⋅      ⋅      ⋅     8.0  -16.0    8.0     ⋅      ⋅     ⋅ \n",
       "   ⋅      ⋅      ⋅      ⋅     8.0  -16.0    8.0     ⋅     ⋅ \n",
       "   ⋅      ⋅      ⋅      ⋅      ⋅     8.0  -16.0    8.0    ⋅ \n",
       "   ⋅      ⋅      ⋅      ⋅      ⋅      ⋅     8.0  -16.0   8.0\n",
       "   ⋅      ⋅      ⋅      ⋅      ⋅      ⋅      ⋅     8.0  -8.0"
      ]
     },
     "execution_count": 76,
     "metadata": {},
     "output_type": "execute_result"
    }
   ],
   "source": [
    "M = Tridiagonal(ld, d, ud)"
   ]
  },
  {
   "cell_type": "code",
   "execution_count": 77,
   "metadata": {},
   "outputs": [
    {
     "data": {
      "text/plain": [
       "9-element Array{Float64,1}:\n",
       "  0.06125552788288598 \n",
       "  0.07209415662651399 \n",
       " -0.021129685847579918\n",
       " -0.0195343048060075  \n",
       " -0.006840396947890445\n",
       " -0.016265840859050237\n",
       " -0.03641270237278686 \n",
       " -0.03316675367608497 \n",
       "  0.0                 "
      ]
     },
     "execution_count": 77,
     "metadata": {},
     "output_type": "execute_result"
    }
   ],
   "source": [
    "g = Δz .* Rall"
   ]
  },
  {
   "cell_type": "code",
   "execution_count": 78,
   "metadata": {},
   "outputs": [
    {
     "ename": "SingularException",
     "evalue": "SingularException(9)",
     "output_type": "error",
     "traceback": [
      "SingularException(9)",
      "",
      "Stacktrace:",
      " [1] checknonsingular at /buildworker/worker/package_linux64/build/usr/share/julia/stdlib/v1.1/LinearAlgebra/src/factorization.jl:12 [inlined]",
      " [2] #lu!#111(::Bool, ::Function, ::Tridiagonal{Float64,Array{Float64,1}}, ::Val{true}) at /buildworker/worker/package_linux64/build/usr/share/julia/stdlib/v1.1/LinearAlgebra/src/lu.jl:490",
      " [3] #lu! at ./none:0 [inlined]",
      " [4] #lu#107 at /buildworker/worker/package_linux64/build/usr/share/julia/stdlib/v1.1/LinearAlgebra/src/lu.jl:142 [inlined]",
      " [5] lu at /buildworker/worker/package_linux64/build/usr/share/julia/stdlib/v1.1/LinearAlgebra/src/lu.jl:142 [inlined] (repeats 2 times)",
      " [6] \\(::Tridiagonal{Float64,Array{Float64,1}}, ::Array{Float64,1}) at /buildworker/worker/package_linux64/build/usr/share/julia/stdlib/v1.1/LinearAlgebra/src/generic.jl:905",
      " [7] top-level scope at In[78]:1"
     ]
    }
   ],
   "source": [
    "M \\ g"
   ]
  },
  {
   "cell_type": "code",
   "execution_count": 79,
   "metadata": {},
   "outputs": [
    {
     "data": {
      "text/plain": [
       "3.569394875300831e17"
      ]
     },
     "execution_count": 79,
     "metadata": {},
     "output_type": "execute_result"
    }
   ],
   "source": [
    "cond(Matrix(M))"
   ]
  },
  {
   "cell_type": "code",
   "execution_count": 103,
   "metadata": {},
   "outputs": [
    {
     "data": {
      "text/plain": [
       "tridiag (generic function with 1 method)"
      ]
     },
     "execution_count": 103,
     "metadata": {},
     "output_type": "execute_result"
    }
   ],
   "source": [
    "# Reference CPU implementation per Numerical Recipes, Press et. al 1992 (§ 2.4)\n",
    "function tridiag(M::Tridiagonal{T,<:Array}, f::Vector{T})::Vector{T} where T\n",
    "    N = length(f)\n",
    "    ϕ = similar(f)\n",
    "    γ = similar(f)\n",
    "\n",
    "    β    = M.d[1]\n",
    "    ϕ[1] = f[1] / β\n",
    "\n",
    "    for j = 2:N\n",
    "        γ[j] = M.du[j-1] / β\n",
    "        β    = M.d[j] - M.dl[j-1] * γ[j]\n",
    "\n",
    "        # This should only happen on last element of forward pass for problems\n",
    "        # with zero eigenvalue. In that case the algorithmn is still stable.\n",
    "        abs(β) < 1.0e-12 && break\n",
    "\n",
    "        ϕ[j] = (f[j] - M.dl[j-1] * ϕ[j-1]) / β\n",
    "    end\n",
    "\n",
    "    for j = 1:N-1\n",
    "        k = N-j\n",
    "        ϕ[k] = ϕ[k] - γ[k+1] * ϕ[k+1]\n",
    "    end\n",
    "\n",
    "    return ϕ\n",
    "end"
   ]
  },
  {
   "cell_type": "code",
   "execution_count": 108,
   "metadata": {},
   "outputs": [
    {
     "data": {
      "text/plain": [
       "9-element Array{Float64,1}:\n",
       " -0.07351280144284969  \n",
       " -0.06585586045748894  \n",
       " -0.049187149893813946 \n",
       " -0.03515965006108644  \n",
       " -0.023573938329109874 \n",
       " -0.012843276215619611 \n",
       " -0.0041458442095106286\n",
       " -3.469446951953614e-18\n",
       "  0.0                  "
      ]
     },
     "execution_count": 108,
     "metadata": {},
     "output_type": "execute_result"
    }
   ],
   "source": [
    "ψ = tridiag(M, g)"
   ]
  },
  {
   "cell_type": "code",
   "execution_count": 109,
   "metadata": {},
   "outputs": [
    {
     "data": {
      "text/plain": [
       "true"
      ]
     },
     "execution_count": 109,
     "metadata": {},
     "output_type": "execute_result"
    }
   ],
   "source": [
    "grid = RegularCartesianGrid((1, 1, Nz), (1, 1, Lz))\n",
    "fbcs = DoublyPeriodicBCs()\n",
    "\n",
    "ϕ   = CellField(Float64, CPU(), grid)\n",
    "∇²ϕ = CellField(Float64, CPU(), grid)\n",
    "\n",
    "data(ϕ) .= real.(reshape(ψ[1:Nz], 1, 1, Nz))\n",
    "\n",
    "fill_halo_regions!(grid, (:T, fbcs, ϕ.data))\n",
    "∇²!(grid, ϕ, ∇²ϕ)\n",
    "\n",
    "fill_halo_regions!(grid, (:T, fbcs, ∇²ϕ.data))\n",
    "\n",
    "data(∇²ϕ) ≈ reshape(R, 1, 1, Nz)"
   ]
  },
  {
   "cell_type": "code",
   "execution_count": 110,
   "metadata": {},
   "outputs": [
    {
     "data": {
      "text/plain": [
       "1×1×8 view(OffsetArray(::Array{Float64,3}, 0:2, 0:2, 1:8), 1:1, 1:1, 1:8) with eltype Float64:\n",
       "[:, :, 1] =\n",
       " 0.49004422306308815\n",
       "\n",
       "[:, :, 2] =\n",
       " 0.5767532530121113\n",
       "\n",
       "[:, :, 3] =\n",
       " -0.16903748678063923\n",
       "\n",
       "[:, :, 4] =\n",
       " -0.15627443844805988\n",
       "\n",
       "[:, :, 5] =\n",
       " -0.05472317558312356\n",
       "\n",
       "[:, :, 6] =\n",
       " -0.1301267268724019\n",
       "\n",
       "[:, :, 7] =\n",
       " -0.2913016189822949\n",
       "\n",
       "[:, :, 8] =\n",
       " -0.26533402940868"
      ]
     },
     "execution_count": 110,
     "metadata": {},
     "output_type": "execute_result"
    }
   ],
   "source": [
    "data(∇²ϕ)"
   ]
  },
  {
   "cell_type": "code",
   "execution_count": null,
   "metadata": {},
   "outputs": [],
   "source": []
  }
 ],
 "metadata": {
  "kernelspec": {
   "display_name": "Julia 1.1.1",
   "language": "julia",
   "name": "julia-1.1"
  },
  "language_info": {
   "file_extension": ".jl",
   "mimetype": "application/julia",
   "name": "julia",
   "version": "1.1.0"
  }
 },
 "nbformat": 4,
 "nbformat_minor": 4
}
