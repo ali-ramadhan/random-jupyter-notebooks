{
 "cells": [
  {
   "cell_type": "code",
   "execution_count": null,
   "metadata": {},
   "outputs": [],
   "source": [
    "using Printf"
   ]
  },
  {
   "cell_type": "code",
   "execution_count": 3,
   "metadata": {},
   "outputs": [
    {
     "data": {
      "text/plain": [
       "\"C:\\\\Users\\\\Ali\\\\Documents\\\\Git\\\\OceanDispatch.jl\""
      ]
     },
     "execution_count": 3,
     "metadata": {},
     "output_type": "execute_result"
    }
   ],
   "source": [
    "cd(\"C:\\\\Users\\\\Ali\\\\Documents\\\\Git\\\\OceanDispatch.jl\\\\\")\n",
    "pwd()"
   ]
  },
  {
   "cell_type": "code",
   "execution_count": 4,
   "metadata": {},
   "outputs": [
    {
     "name": "stderr",
     "output_type": "stream",
     "text": [
      "┌ Info: Ocean LES model parameters:\n",
      "│ NumType: Float64\n",
      "│ (Nˣ, Nʸ, Nᶻ) = (100, 100, 100) [#]\n",
      "│ (Lˣ, Lʸ, Lᶻ) = (2000, 2000, 2000) [m]\n",
      "│ (Δx, Δy, Δz) = (20.0, 20.0, 20.0) [m]\n",
      "│ (Aˣ, Aʸ, Aᶻ) = (400.0, 400.0, 400.0) [m²]\n",
      "│ V = 8000.0 [m³]\n",
      "│ M = 8.216e6 [kg]\n",
      "│ Nᵗ = 360 [s]\n",
      "│ Δt = 30 [s]\n",
      "└ @ Main C:\\Users\\Ali\\Documents\\Git\\OceanDispatch.jl\\examples\\deep_convection.jl:130\n",
      "┌ Info: T₀[50, 50, 1] = 283 K\n",
      "└ @ Main C:\\Users\\Ali\\Documents\\Git\\OceanDispatch.jl\\examples\\deep_convection.jl:178\n",
      "┌ Info: Time: 600\n",
      "│ uⁿ:   min=-0.000493071, max=0.000492691, mean=-9.62674e-24, absmean=4.74174e-07, std=6.31851e-06\n",
      "│ vⁿ:   min=-0.000492841, max=0.000492143, mean=-4.54891e-23, absmean=4.73412e-07, std=6.29769e-06\n",
      "│ wⁿ:   min=-0.000385845, max=0.000378256, mean=-1.36252e-21, absmean=7.312e-07, std=7.07194e-06\n",
      "│ Tⁿ:   min=282.994, max=283, mean=283, absmean=283, std=0.000292269\n",
      "│ Sⁿ:   min=35, max=35, mean=35, absmean=35, std=0\n",
      "│ pʰʸ:  min=100714, max=2.00421e+07, mean=1.00714e+07, absmean=1.00714e+07, std=5.81445e+06\n",
      "│ pʰʸ′: min=0, max=0.183086, mean=0.0511758, absmean=0.0511758, std=0.0814029\n",
      "│ pⁿʰ⁺ˢ:min=-0.0001321, max=5.18116e-05, mean=-3.88578e-22, absmean=7.34274e-05, std=8.15392e-05\n",
      "│ pⁿ:   min=4.12553e-05, max=0.182959, mean=0.0511758, absmean=0.0511758, std=0.0813215\n",
      "│ ρⁿ:   min=1027, max=1027, mean=1027, absmean=1027, std=4.7765e-05\n",
      "│ δρ:   min=0, max=0.000906747, mean=2.62312e-06, absmean=2.62312e-06, std=4.7765e-05\n",
      "│ ∇⋅u1:  min=-1.56818e-19, max=1.4536e-19, mean=-2.59372e-26, absmean=1.62437e-20, std=2.17152e-20\n",
      "└ @ Main C:\\Users\\Ali\\Documents\\Git\\OceanDispatch.jl\\examples\\deep_convection.jl:319\n",
      "┌ Info: Time: 1200\n",
      "│ uⁿ:   min=-0.00181319, max=0.0018123, mean=2.26751e-23, absmean=1.86283e-06, std=2.35524e-05\n",
      "│ vⁿ:   min=-0.00181281, max=0.00181038, mean=-9.67379e-23, absmean=1.85772e-06, std=2.34124e-05\n",
      "│ wⁿ:   min=-0.00125384, max=0.00125084, mean=-1.30034e-21, absmean=2.86343e-06, std=2.52169e-05\n",
      "│ Tⁿ:   min=282.989, max=283, mean=283, absmean=283, std=0.000559773\n",
      "│ Sⁿ:   min=35, max=35, mean=35, absmean=35, std=0\n",
      "│ pʰʸ:  min=100714, max=2.00421e+07, mean=1.00714e+07, absmean=1.00714e+07, std=5.81445e+06\n",
      "│ pʰʸ′: min=0, max=0.371125, mean=0.103366, absmean=0.103366, std=0.164146\n",
      "│ pⁿʰ⁺ˢ:min=-0.000264156, max=0.000103042, mean=1.72085e-21, absmean=0.000145795, std=0.000161945\n",
      "│ pⁿ:   min=8.42647e-05, max=0.370868, mean=0.103366, absmean=0.103366, std=0.163985\n",
      "│ ρⁿ:   min=1027, max=1027, mean=1027, absmean=1027, std=9.37702e-05\n",
      "│ δρ:   min=0, max=0.00178384, mean=5.29977e-06, absmean=5.29977e-06, std=9.37702e-05\n",
      "│ ∇⋅u1:  min=-4.54633e-19, max=4.75003e-19, mean=-2.08353e-26, absmean=5.05074e-20, std=6.8027e-20\n",
      "└ @ Main C:\\Users\\Ali\\Documents\\Git\\OceanDispatch.jl\\examples\\deep_convection.jl:319\n",
      "┌ Info: Time: 1800\n",
      "│ uⁿ:   min=-0.00386164, max=0.00386296, mean=1.70799e-22, absmean=4.20111e-06, std=5.09181e-05\n",
      "│ vⁿ:   min=-0.00386266, max=0.00385827, mean=1.2425e-22, absmean=4.18597e-06, std=5.05074e-05\n",
      "│ wⁿ:   min=-0.0023545, max=0.00247708, mean=-4.28448e-21, absmean=6.46286e-06, std=5.28738e-05\n",
      "│ Tⁿ:   min=282.984, max=283, mean=283, absmean=283, std=0.000813797\n",
      "│ Sⁿ:   min=35, max=35, mean=35, absmean=35, std=0\n",
      "│ pʰʸ:  min=100714, max=2.00421e+07, mean=1.00714e+07, absmean=1.00714e+07, std=5.81445e+06\n",
      "│ pʰʸ′: min=0, max=0.564891, mean=0.155525, absmean=0.155525, std=0.246969\n",
      "│ pⁿʰ⁺ˢ:min=-0.000401955, max=0.000154242, mean=4.21885e-21, absmean=0.000218184, std=0.000242424\n",
      "│ pⁿ:   min=0.000129079, max=0.564499, mean=0.155525, absmean=0.155525, std=0.246727\n",
      "│ ρⁿ:   min=1027, max=1027, mean=1027, absmean=1027, std=0.000137445\n",
      "│ δρ:   min=0, max=0.00262651, mean=7.97642e-06, absmean=7.97642e-06, std=0.000137445\n",
      "│ ∇⋅u1:  min=-9.30618e-19, max=9.01189e-19, mean=-4.02419e-25, absmean=1.00182e-19, std=1.36264e-19\n",
      "└ @ Main C:\\Users\\Ali\\Documents\\Git\\OceanDispatch.jl\\examples\\deep_convection.jl:319\n",
      "┌ Info: Time: 2400\n",
      "│ uⁿ:   min=-0.00659088, max=0.00662145, mean=-2.05348e-22, absmean=7.5379e-06, std=8.83226e-05\n",
      "│ vⁿ:   min=-0.00659779, max=0.00659432, mean=5.61617e-23, absmean=7.50495e-06, std=8.7456e-05\n",
      "│ wⁿ:   min=-0.00364291, max=0.00410402, mean=-2.05239e-22, absmean=1.16383e-05, std=9.00146e-05\n",
      "│ Tⁿ:   min=282.98, max=283, mean=283, absmean=283, std=0.00105628\n",
      "│ Sⁿ:   min=35, max=35, mean=35, absmean=35, std=0\n",
      "│ pʰʸ:  min=100714, max=2.00421e+07, mean=1.00714e+07, absmean=1.00714e+07, std=5.81445e+06\n",
      "│ pʰʸ′: min=0, max=0.771772, mean=0.207652, absmean=0.207652, std=0.330329\n",
      "│ pⁿʰ⁺ˢ:min=-0.000552788, max=0.000205465, mean=1.60982e-21, absmean=0.000290957, std=0.000323423\n",
      "│ pⁿ:   min=0.000172666, max=0.771231, mean=0.207652, absmean=0.207652, std=0.330006\n",
      "│ ρⁿ:   min=1027, max=1027, mean=1027, absmean=1027, std=0.000179125\n",
      "│ δρ:   min=0, max=0.00345571, mean=1.06531e-05, absmean=1.06531e-05, std=0.000179125\n",
      "│ ∇⋅u1:  min=-1.45318e-18, max=1.4906e-18, mean=-1.1571e-25, absmean=1.63768e-19, std=2.22108e-19\n",
      "└ @ Main C:\\Users\\Ali\\Documents\\Git\\OceanDispatch.jl\\examples\\deep_convection.jl:319\n",
      "┌ Info: Time: 3000\n",
      "│ uⁿ:   min=-0.0099644, max=0.0101494, mean=-1.63457e-22, absmean=1.19604e-05, std=0.000136224\n",
      "│ vⁿ:   min=-0.00998666, max=0.00999122, mean=1.46725e-21, absmean=1.18983e-05, std=0.000134688\n",
      "│ wⁿ:   min=-0.00500993, max=0.00634586, mean=3.98455e-21, absmean=1.85217e-05, std=0.000137419\n",
      "│ Tⁿ:   min=282.975, max=283.001, mean=283, absmean=283, std=0.00128873\n",
      "│ Sⁿ:   min=35, max=35, mean=35, absmean=35, std=0\n",
      "│ pʰʸ:  min=100714, max=2.00421e+07, mean=1.00714e+07, absmean=1.00714e+07, std=5.81445e+06\n",
      "│ pʰʸ′: min=-0.0187, max=1.00282, mean=0.259744, absmean=0.259797, std=0.414691\n",
      "│ pⁿʰ⁺ˢ:min=-0.00072752, max=0.000268208, mean=-1.22125e-21, absmean=0.000364332, std=0.00040539\n",
      "│ pⁿ:   min=-0.0185119, max=1.00211, mean=0.259744, absmean=0.259795, std=0.414286\n",
      "│ ρⁿ:   min=1027, max=1027, mean=1027, absmean=1027, std=0.000219074\n",
      "│ δρ:   min=-0.000137459, max=0.00429118, mean=1.33297e-05, absmean=1.33463e-05, std=0.000219074\n",
      "│ ∇⋅u1:  min=-2.00574e-18, max=2.28723e-18, mean=5.8984e-25, absmean=2.39546e-19, std=3.25066e-19\n",
      "└ @ Main C:\\Users\\Ali\\Documents\\Git\\OceanDispatch.jl\\examples\\deep_convection.jl:319\n",
      "┌ Info: Time: 3600\n",
      "│ uⁿ:   min=-0.0138824, max=0.014362, mean=-5.00657e-22, absmean=1.75906e-05, std=0.000195565\n",
      "│ vⁿ:   min=-0.0139345, max=0.0139865, mean=-8.63025e-23, absmean=1.74852e-05, std=0.00019312\n",
      "│ wⁿ:   min=-0.00697419, max=0.00944886, mean=9.71638e-21, absmean=2.72299e-05, std=0.000196034\n",
      "│ Tⁿ:   min=282.97, max=283.003, mean=283, absmean=283, std=0.0015122\n",
      "│ Sⁿ:   min=35, max=35, mean=35, absmean=35, std=0\n",
      "│ pʰʸ:  min=100714, max=2.00421e+07, mean=1.00714e+07, absmean=1.00714e+07, std=5.81445e+06\n",
      "│ pʰʸ′: min=-0.0749477, max=1.2709, mean=0.311795, absmean=0.312561, std=0.500461\n",
      "│ pⁿʰ⁺ˢ:min=-0.000938633, max=0.000365958, mean=4.10783e-21, absmean=0.000438182, std=0.000488717\n",
      "│ pⁿ:   min=-0.0747036, max=1.26997, mean=0.311795, absmean=0.312551, std=0.499973\n",
      "│ ρⁿ:   min=1027, max=1027.01, mean=1027, absmean=1027, std=0.000257474\n",
      "│ δρ:   min=-0.000460547, max=0.00514039, mean=1.60064e-05, absmean=1.61118e-05, std=0.000257474\n",
      "│ ∇⋅u1:  min=-2.60528e-18, max=3.25087e-18, mean=1.31454e-24, absmean=3.28988e-19, std=4.50151e-19\n",
      "└ @ Main C:\\Users\\Ali\\Documents\\Git\\OceanDispatch.jl\\examples\\deep_convection.jl:319\n",
      "┌ Info: Time: 4200\n",
      "│ uⁿ:   min=-0.0184236, max=0.018917, mean=-2.50451e-22, absmean=2.4587e-05, std=0.000267684\n",
      "│ vⁿ:   min=-0.0181524, max=0.0183751, mean=1.57968e-21, absmean=2.44227e-05, std=0.000264075\n",
      "│ wⁿ:   min=-0.00895318, max=0.0135157, mean=2.06567e-20, absmean=3.78047e-05, std=0.000266419\n",
      "│ Tⁿ:   min=282.965, max=283.005, mean=283, absmean=283, std=0.00172721\n",
      "│ Sⁿ:   min=35, max=35, mean=35, absmean=35, std=3.27852e-16\n",
      "│ pʰʸ:  min=100714, max=2.00421e+07, mean=1.00714e+07, absmean=1.00714e+07, std=5.81445e+06\n",
      "│ pʰʸ′: min=-0.143197, max=1.58171, mean=0.3638, absmean=0.36581, std=0.587918\n",
      "│ pⁿʰ⁺ˢ:min=-0.00119127, max=0.00046813, mean=1.55431e-21, absmean=0.00051184, std=0.000573664\n",
      "│ pⁿ:   min=-0.142902, max=1.58054, mean=0.3638, absmean=0.365796, std=0.587346\n",
      "│ ρⁿ:   min=1027, max=1027.01, mean=1027, absmean=1027, std=0.000294422\n",
      "│ δρ:   min=-0.000907529, max=0.00600248, mean=1.8683e-05, absmean=1.88992e-05, std=0.000294422\n",
      "│ ∇⋅u1:  min=-3.31111e-18, max=4.24671e-18, mean=5.34261e-26, absmean=4.33284e-19, std=5.90836e-19\n",
      "└ @ Main C:\\Users\\Ali\\Documents\\Git\\OceanDispatch.jl\\examples\\deep_convection.jl:319\n"
     ]
    },
    {
     "name": "stderr",
     "output_type": "stream",
     "text": [
      "┌ Info: Time: 4800\n",
      "│ uⁿ:   min=-0.0232614, max=0.0229945, mean=4.00667e-22, absmean=3.31228e-05, std=0.000354111\n",
      "│ vⁿ:   min=-0.0224543, max=0.0224329, mean=1.08854e-21, absmean=3.28685e-05, std=0.000349073\n",
      "│ wⁿ:   min=-0.0112339, max=0.0180206, mean=2.14025e-20, absmean=5.02691e-05, std=0.000348636\n",
      "│ Tⁿ:   min=282.959, max=283.008, mean=283, absmean=283, std=0.00193369\n",
      "│ Sⁿ:   min=35, max=35, mean=35, absmean=35, std=1.57544e-15\n",
      "│ pʰʸ:  min=100714, max=2.00421e+07, mean=1.00714e+07, absmean=1.00714e+07, std=5.81445e+06\n",
      "│ pʰʸ′: min=-0.187433, max=1.91983, mean=0.415748, absmean=0.417956, std=0.677154\n",
      "│ pⁿʰ⁺ˢ:min=-0.00147057, max=0.000538072, mean=4.21885e-21, absmean=0.000584281, std=0.000660311\n",
      "│ pⁿ:   min=-0.187121, max=1.91839, mean=0.415748, absmean=0.41794, std=0.676495\n",
      "│ ρⁿ:   min=1027, max=1027.01, mean=1027, absmean=1027, std=0.00032991\n",
      "│ δρ:   min=-0.00128706, max=0.00697373, mean=2.13597e-05, absmean=2.16482e-05, std=0.00032991\n",
      "│ ∇⋅u1:  min=-4.12892e-18, max=5.24846e-18, mean=1.97615e-24, absmean=5.43963e-19, std=7.43656e-19\n",
      "└ @ Main C:\\Users\\Ali\\Documents\\Git\\OceanDispatch.jl\\examples\\deep_convection.jl:319\n",
      "┌ Info: Time: 5400\n",
      "│ uⁿ:   min=-0.0293719, max=0.0310607, mean=4.31729e-22, absmean=4.3469e-05, std=0.000456299\n",
      "│ vⁿ:   min=-0.0294333, max=0.0288029, mean=4.31079e-22, absmean=4.30713e-05, std=0.000449549\n",
      "│ wⁿ:   min=-0.01389, max=0.0214863, mean=2.52658e-20, absmean=6.54371e-05, std=0.000442911\n",
      "│ Tⁿ:   min=282.953, max=283.007, mean=283, absmean=283, std=0.00213098\n",
      "│ Sⁿ:   min=35, max=35, mean=35, absmean=35, std=3.77343e-15\n",
      "│ pʰʸ:  min=100714, max=2.00421e+07, mean=1.00714e+07, absmean=1.00714e+07, std=5.81445e+06\n",
      "│ pʰʸ′: min=-0.168684, max=2.35106, mean=0.467628, absmean=0.468497, std=0.767858\n",
      "│ pⁿʰ⁺ˢ:min=-0.0018426, max=0.00054759, mean=-6.66134e-21, absmean=0.000656066, std=0.000748331\n",
      "│ pⁿ:   min=-0.168404, max=2.34926, mean=0.467628, absmean=0.468487, std=0.767111\n",
      "│ ρⁿ:   min=1027, max=1027.01, mean=1027, absmean=1027, std=0.000363831\n",
      "│ δρ:   min=-0.00119517, max=0.00793373, mean=2.40363e-05, absmean=2.43072e-05, std=0.000363831\n",
      "│ ∇⋅u1:  min=-4.9363e-18, max=6.37272e-18, mean=4.12508e-25, absmean=6.62023e-19, std=9.09333e-19\n",
      "└ @ Main C:\\Users\\Ali\\Documents\\Git\\OceanDispatch.jl\\examples\\deep_convection.jl:319\n",
      "┌ Info: Time: 6000\n",
      "│ uⁿ:   min=-0.0369141, max=0.0373896, mean=7.99816e-22, absmean=5.61004e-05, std=0.000575589\n",
      "│ vⁿ:   min=-0.0354655, max=0.0359127, mean=8.23126e-22, absmean=5.55582e-05, std=0.000566918\n",
      "│ wⁿ:   min=-0.0172513, max=0.0222884, mean=3.35171e-20, absmean=8.3756e-05, std=0.000550082\n",
      "│ Tⁿ:   min=282.947, max=283.005, mean=283, absmean=283, std=0.00231813\n",
      "│ Sⁿ:   min=35, max=35, mean=35, absmean=35, std=7.37302e-15\n",
      "│ pʰʸ:  min=100714, max=2.00421e+07, mean=1.00714e+07, absmean=1.00714e+07, std=5.81445e+06\n",
      "│ pʰʸ′: min=-0.103069, max=2.8033, mean=0.519421, absmean=0.519532, std=0.858918\n",
      "│ pⁿʰ⁺ˢ:min=-0.00223376, max=0.000544604, mean=-1.11022e-21, absmean=0.000727425, std=0.000836615\n",
      "│ pⁿ:   min=-0.102838, max=2.80111, mean=0.519421, absmean=0.519529, std=0.858084\n",
      "│ ρⁿ:   min=1027, max=1027.01, mean=1027, absmean=1027, std=0.000396019\n",
      "│ δρ:   min=-0.000836577, max=0.00899001, mean=2.6713e-05, absmean=2.6916e-05, std=0.000396019\n",
      "│ ∇⋅u1:  min=-6.06278e-18, max=7.67642e-18, mean=4.81887e-25, absmean=7.94083e-19, std=1.09405e-18\n",
      "└ @ Main C:\\Users\\Ali\\Documents\\Git\\OceanDispatch.jl\\examples\\deep_convection.jl:319\n",
      "┌ Info: Time: 6600\n",
      "│ uⁿ:   min=-0.0431699, max=0.0441645, mean=8.56953e-22, absmean=7.16191e-05, std=0.00071304\n",
      "│ vⁿ:   min=-0.0438616, max=0.0421642, mean=1.6237e-21, absmean=7.08539e-05, std=0.000702698\n",
      "│ wⁿ:   min=-0.0209189, max=0.0233503, mean=4.317e-20, absmean=0.000104987, std=0.000671179\n",
      "│ Tⁿ:   min=282.942, max=283.003, mean=283, absmean=283, std=0.00249418\n",
      "│ Sⁿ:   min=35, max=35, mean=35, absmean=35, std=1.41784e-14\n",
      "│ pʰʸ:  min=100714, max=2.00421e+07, mean=1.00714e+07, absmean=1.00714e+07, std=5.81445e+06\n",
      "│ pʰʸ′: min=-0.079567, max=3.3401, mean=0.571106, absmean=0.571251, std=0.948671\n",
      "│ pⁿʰ⁺ˢ:min=-0.00270337, max=0.00060639, mean=-2.22045e-22, absmean=0.000798319, std=0.000923542\n",
      "│ pⁿ:   min=-0.0793325, max=3.33745, mean=0.571106, absmean=0.571246, std=0.94775\n",
      "│ ρⁿ:   min=1027, max=1027.01, mean=1027, absmean=1027, std=0.000426312\n",
      "│ δρ:   min=-0.00054284, max=0.00996893, mean=2.93896e-05, absmean=2.95331e-05, std=0.000426312\n",
      "│ ∇⋅u1:  min=-7.53068e-18, max=8.72612e-18, mean=5.20562e-25, absmean=9.36852e-19, std=1.29553e-18\n",
      "└ @ Main C:\\Users\\Ali\\Documents\\Git\\OceanDispatch.jl\\examples\\deep_convection.jl:319\n",
      "┌ Info: Time: 7200\n",
      "│ uⁿ:   min=-0.0531141, max=0.0549481, mean=1.85876e-21, absmean=9.04484e-05, std=0.000869123\n",
      "│ vⁿ:   min=-0.0531038, max=0.0479936, mean=-3.83374e-21, absmean=8.94455e-05, std=0.000858055\n",
      "│ wⁿ:   min=-0.0252548, max=0.023472, mean=4.83298e-20, absmean=0.000130506, std=0.000807966\n",
      "│ Tⁿ:   min=282.937, max=283.005, mean=283, absmean=283, std=0.00265836\n",
      "│ Sⁿ:   min=35, max=35, mean=35, absmean=35, std=2.56023e-14\n",
      "│ pʰʸ:  min=100714, max=2.00421e+07, mean=1.00714e+07, absmean=1.00714e+07, std=5.81445e+06\n",
      "│ pʰʸ′: min=-0.105417, max=3.78395, mean=0.622657, absmean=0.623018, std=1.03633\n",
      "│ pⁿʰ⁺ˢ:min=-0.00307839, max=0.000683249, mean=-3.33067e-21, absmean=0.000872747, std=0.00100841\n",
      "│ pⁿ:   min=-0.105169, max=3.78094, mean=0.622657, absmean=0.623007, std=1.03532\n",
      "│ ρⁿ:   min=1027, max=1027.01, mean=1027, absmean=1027, std=0.000454574\n",
      "│ δρ:   min=-0.000666834, max=0.0108013, mean=3.20663e-05, absmean=3.22382e-05, std=0.000454574\n",
      "│ ∇⋅u1:  min=-8.26162e-18, max=1.03526e-17, mean=-2.21014e-24, absmean=1.08931e-18, std=1.51569e-18\n",
      "└ @ Main C:\\Users\\Ali\\Documents\\Git\\OceanDispatch.jl\\examples\\deep_convection.jl:319\n",
      "┌ Info: Time: 7800\n",
      "│ uⁿ:   min=-0.0618214, max=0.0653736, mean=2.6615e-21, absmean=0.000112941, std=0.00104401\n",
      "│ vⁿ:   min=-0.0592172, max=0.0561488, mean=1.59248e-21, absmean=0.000111839, std=0.00103411\n",
      "│ wⁿ:   min=-0.0299987, max=0.0281341, mean=5.39139e-20, absmean=0.000160499, std=0.000963651\n",
      "│ Tⁿ:   min=282.932, max=283.008, mean=283, absmean=283, std=0.00281021\n",
      "│ Sⁿ:   min=35, max=35, mean=35, absmean=35, std=4.17555e-14\n",
      "│ pʰʸ:  min=100714, max=2.00421e+07, mean=1.00714e+07, absmean=1.00714e+07, std=5.81445e+06\n",
      "│ pʰʸ′: min=-0.163683, max=4.2279, mean=0.674042, absmean=0.674429, std=1.12335\n",
      "│ pⁿʰ⁺ˢ:min=-0.00346979, max=0.000726483, mean=-7.99361e-21, absmean=0.000946837, std=0.00109272\n",
      "│ pⁿ:   min=-0.163786, max=4.22451, mean=0.674042, absmean=0.674418, std=1.12226\n",
      "│ ρⁿ:   min=1027, max=1027.01, mean=1027, absmean=1027, std=0.000480725\n",
      "│ δρ:   min=-0.00115501, max=0.011581, mean=3.47429e-05, absmean=3.4978e-05, std=0.000480725\n",
      "│ ∇⋅u1:  min=-9.97385e-18, max=1.32563e-17, mean=-4.618e-25, absmean=1.25976e-18, std=1.75205e-18\n",
      "└ @ Main C:\\Users\\Ali\\Documents\\Git\\OceanDispatch.jl\\examples\\deep_convection.jl:319\n",
      "┌ Info: Time: 8400\n",
      "│ uⁿ:   min=-0.0762966, max=0.0677994, mean=1.18915e-21, absmean=0.000139505, std=0.0012388\n",
      "│ vⁿ:   min=-0.0651134, max=0.0679377, mean=-6.56246e-21, absmean=0.000138282, std=0.00123076\n",
      "│ wⁿ:   min=-0.03295, max=0.0291631, mean=6.10935e-20, absmean=0.00019557, std=0.00114024\n",
      "│ Tⁿ:   min=282.926, max=283.01, mean=283, absmean=283, std=0.00294978\n",
      "│ Sⁿ:   min=35, max=35, mean=35, absmean=35, std=6.27301e-14\n",
      "│ pʰʸ:  min=100714, max=2.00421e+07, mean=1.00714e+07, absmean=1.00714e+07, std=5.81445e+06\n",
      "│ pʰʸ′: min=-0.176153, max=4.4255, mean=0.725231, absmean=0.72532, std=1.21074\n",
      "│ pⁿʰ⁺ˢ:min=-0.00359634, max=0.000762741, mean=-4.21885e-21, absmean=0.00101703, std=0.00117736\n",
      "│ pⁿ:   min=-0.177749, max=4.42201, mean=0.725231, absmean=0.725314, std=1.20957\n",
      "│ ρⁿ:   min=1027, max=1027.01, mean=1027, absmean=1027, std=0.000504766\n",
      "│ δρ:   min=-0.00179626, max=0.0126202, mean=3.74196e-05, absmean=3.77017e-05, std=0.000504766\n",
      "│ ∇⋅u1:  min=-1.15271e-17, max=1.42651e-17, mean=-2.46805e-24, absmean=1.44967e-18, std=2.01146e-18\n",
      "└ @ Main C:\\Users\\Ali\\Documents\\Git\\OceanDispatch.jl\\examples\\deep_convection.jl:319\n",
      "┌ Info: Time: 9000\n",
      "│ uⁿ:   min=-0.0872569, max=0.0991045, mean=1.45153e-21, absmean=0.000170588, std=0.00145467\n",
      "│ vⁿ:   min=-0.0743413, max=0.0783106, mean=-5.86857e-21, absmean=0.000169474, std=0.0014485\n",
      "│ wⁿ:   min=-0.0391919, max=0.0351232, mean=7.37357e-20, absmean=0.00023658, std=0.00133731\n",
      "│ Tⁿ:   min=282.924, max=283.012, mean=283, absmean=283, std=0.00307739\n",
      "│ Sⁿ:   min=35, max=35, mean=35, absmean=35, std=8.93346e-14\n",
      "│ pʰʸ:  min=100714, max=2.00421e+07, mean=1.00714e+07, absmean=1.00714e+07, std=5.81445e+06\n",
      "│ pʰʸ′: min=-0.212928, max=5.03388, mean=0.776194, absmean=0.776273, std=1.29473\n",
      "│ pⁿʰ⁺ˢ:min=-0.00413693, max=0.000820832, mean=-9.54792e-21, absmean=0.00108385, std=0.00125857\n",
      "│ pⁿ:   min=-0.214578, max=5.02983, mean=0.776194, absmean=0.77626, std=1.29348\n",
      "│ ρⁿ:   min=1027, max=1027.01, mean=1027, absmean=1027, std=0.000526753\n",
      "│ δρ:   min=-0.00217126, max=0.0130326, mean=4.00963e-05, absmean=4.04687e-05, std=0.000526753\n",
      "│ ∇⋅u1:  min=-1.22445e-17, max=1.57361e-17, mean=4.56788e-24, absmean=1.64592e-18, std=2.28335e-18\n",
      "└ @ Main C:\\Users\\Ali\\Documents\\Git\\OceanDispatch.jl\\examples\\deep_convection.jl:319\n"
     ]
    },
    {
     "name": "stderr",
     "output_type": "stream",
     "text": [
      "┌ Info: Time: 9600\n",
      "│ uⁿ:   min=-0.0919568, max=0.121875, mean=5.03937e-22, absmean=0.000206949, std=0.00169899\n",
      "│ vⁿ:   min=-0.08587, max=0.115061, mean=-2.15453e-21, absmean=0.000206211, std=0.00169497\n",
      "│ wⁿ:   min=-0.0443297, max=0.0404945, mean=8.06963e-20, absmean=0.000285192, std=0.0015595\n",
      "│ Tⁿ:   min=282.919, max=283.015, mean=283, absmean=283, std=0.00319334\n",
      "│ Sⁿ:   min=35, max=35, mean=35, absmean=35, std=1.22002e-13\n",
      "│ pʰʸ:  min=100714, max=2.00421e+07, mean=1.00714e+07, absmean=1.00714e+07, std=5.81445e+06\n",
      "│ pʰʸ′: min=-0.261293, max=5.56706, mean=0.826891, absmean=0.827054, std=1.37615\n",
      "│ pⁿʰ⁺ˢ:min=-0.00462252, max=0.000901226, mean=5.77316e-21, absmean=0.00115437, std=0.00133749\n",
      "│ pⁿ:   min=-0.262567, max=5.56255, mean=0.826891, absmean=0.827038, std=1.37482\n",
      "│ ρⁿ:   min=1027, max=1027.01, mean=1027, absmean=1027, std=0.00054674\n",
      "│ δρ:   min=-0.00244124, max=0.0140137, mean=4.27729e-05, absmean=4.32848e-05, std=0.00054674\n",
      "│ ∇⋅u1:  min=-1.36314e-17, max=1.80683e-17, mean=1.15506e-24, absmean=1.86142e-18, std=2.59203e-18\n",
      "└ @ Main C:\\Users\\Ali\\Documents\\Git\\OceanDispatch.jl\\examples\\deep_convection.jl:319\n",
      "┌ Info: Time: 10200\n",
      "│ uⁿ:   min=-0.114025, max=0.210053, mean=-2.41994e-21, absmean=0.000251106, std=0.00202777\n",
      "│ vⁿ:   min=-0.139523, max=0.20551, mean=6.42889e-21, absmean=0.000250716, std=0.00200191\n",
      "│ wⁿ:   min=-0.0460392, max=0.0500114, mean=1.06705e-19, absmean=0.000344331, std=0.001825\n",
      "│ Tⁿ:   min=282.907, max=283.02, mean=283, absmean=283, std=0.00329659\n",
      "│ Sⁿ:   min=35, max=35, mean=35, absmean=35, std=1.59688e-13\n",
      "│ pʰʸ:  min=100714, max=2.00421e+07, mean=1.00714e+07, absmean=1.00714e+07, std=5.81445e+06\n",
      "│ pʰʸ′: min=-0.447814, max=5.50121, mean=0.877238, absmean=0.877467, std=1.46522\n",
      "│ pⁿʰ⁺ˢ:min=-0.00988941, max=0.00258684, mean=7.77156e-21, absmean=0.00122401, std=0.00142456\n",
      "│ pⁿ:   min=-0.448573, max=5.49688, mean=0.877238, absmean=0.877454, std=1.46381\n",
      "│ ρⁿ:   min=1027, max=1027.02, mean=1027, absmean=1027, std=0.000564571\n",
      "│ δρ:   min=-0.00338706, max=0.0163247, mean=4.54496e-05, absmean=4.60668e-05, std=0.000564571\n",
      "│ ∇⋅u1:  min=-1.59981e-17, max=2.26105e-17, mean=-3.1302e-24, absmean=2.10243e-18, std=2.93052e-18\n",
      "└ @ Main C:\\Users\\Ali\\Documents\\Git\\OceanDispatch.jl\\examples\\deep_convection.jl:319\n",
      "┌ Info: Time: 10800\n",
      "│ uⁿ:   min=-5.69281, max=11.8457, mean=-2.59948e-21, absmean=0.000406448, std=0.019345\n",
      "│ vⁿ:   min=-5.67673, max=4.82485, mean=1.92901e-21, absmean=0.000380497, std=0.0128092\n",
      "│ wⁿ:   min=-2.03881, max=3.86957, mean=4.84379e-19, absmean=0.000463864, std=0.00730479\n",
      "│ Tⁿ:   min=281.799, max=284.075, mean=283, absmean=283, std=0.00419671\n",
      "│ Sⁿ:   min=35, max=35, mean=35, absmean=35, std=2.02385e-13\n",
      "│ pʰʸ:  min=100714, max=2.00421e+07, mean=1.00714e+07, absmean=1.00714e+07, std=5.81445e+06\n",
      "│ pʰʸ′: min=-8.49605, max=15.4793, mean=0.927081, absmean=0.930224, std=1.59294\n",
      "│ pⁿʰ⁺ˢ:min=-3.27625, max=1.75202, mean=-5.77316e-21, absmean=0.0013708, std=0.00618094\n",
      "│ pⁿ:   min=-9.30251, max=15.4595, mean=0.927081, absmean=0.930219, std=1.59138\n",
      "│ ρⁿ:   min=1026.95, max=1027.07, mean=1027, absmean=1027, std=0.000591929\n",
      "│ δρ:   min=-0.0480154, max=0.0719938, mean=4.81262e-05, absmean=4.90761e-05, std=0.000591929\n",
      "│ ∇⋅u1:  min=-2.55795e-16, max=2.27374e-16, mean=-5.8265e-23, absmean=2.45482e-18, std=3.49766e-18\n",
      "└ @ Main C:\\Users\\Ali\\Documents\\Git\\OceanDispatch.jl\\examples\\deep_convection.jl:319\n"
     ]
    },
    {
     "name": "stdout",
     "output_type": "stream",
     "text": [
      "1148.167645 seconds (3.97 G allocations: 618.396 GiB, 32.12% gc time)\n"
     ]
    }
   ],
   "source": [
    "@time include(\"examples\\\\deep_convection.jl\")"
   ]
  },
  {
   "cell_type": "code",
   "execution_count": null,
   "metadata": {},
   "outputs": [],
   "source": [
    "using Interact, PyPlot"
   ]
  },
  {
   "cell_type": "code",
   "execution_count": null,
   "metadata": {},
   "outputs": [],
   "source": [
    "PyPlot.close(\"all\")\n",
    "fig = PyPlot.figure(figsize=(6.5, 5))\n",
    "@manipulate for t in 5:5:Nᵗ\n",
    "    @manipulate for k in 1:Nᶻ\n",
    "        withfig(fig) do\n",
    "            PyPlot.pcolormesh(xC, yC, Ru[t,:,:,k], cmap=\"bwr\")\n",
    "            PyPlot.title(\"u-velocity @ time step n=$t, z-level k=$k\")\n",
    "            PyPlot.xlabel(\"x\")\n",
    "            PyPlot.ylabel(\"y\")\n",
    "            PyPlot.colorbar(label=\"m/s\")\n",
    "        end\n",
    "    end\n",
    "end"
   ]
  },
  {
   "cell_type": "code",
   "execution_count": null,
   "metadata": {},
   "outputs": [],
   "source": [
    "t, k = Int(N\\^t /ΔR), 50\n",
    "PyPlot.pcolormesh(xC, yC, Ru[t,:,:,k], cmap=\"bwr\")\n",
    "PyPlot.title(\"u-velocity @ time step n=$(t*ΔR), z-level k=$k\")\n",
    "PyPlot.xlabel(\"x\")\n",
    "PyPlot.ylabel(\"y\")\n",
    "PyPlot.colorbar(label=\"m/s\")"
   ]
  },
  {
   "cell_type": "code",
   "execution_count": null,
   "metadata": {},
   "outputs": [],
   "source": [
    "PyPlot.close(\"all\")\n",
    "fig = PyPlot.figure(figsize=(6.5, 5))\n",
    "@manipulate for t in 1:Int(Nᵗ/ΔR)\n",
    "    @manipulate for j in 1:Nʸ\n",
    "        withfig(fig) do\n",
    "            PyPlot.pcolormesh(xC, zC, copy(RT[t, :, j, :]') .- 283, cmap=\"bwr\")\n",
    "            PyPlot.title(\"Temperature @ time step n=$t, y-slice j=$j\")\n",
    "            PyPlot.xlabel(\"x (m)\")\n",
    "            PyPlot.ylabel(\"z (m)\")\n",
    "            PyPlot.colorbar(label=\"K\")\n",
    "        end\n",
    "    end\n",
    "end"
   ]
  },
  {
   "cell_type": "code",
   "execution_count": null,
   "metadata": {},
   "outputs": [],
   "source": [
    "t, j = Int(980/ΔR), 50\n",
    "PyPlot.pcolormesh(xC, zC, copy(RT[t, :, j, :]') .- 283, cmap=\"bwr\")\n",
    "PyPlot.title(\"Temperature change @ time step n=$(t*ΔR), y-slice j=$j\")\n",
    "PyPlot.xlabel(\"x (m)\")\n",
    "PyPlot.ylabel(\"z (m)\")\n",
    "PyPlot.colorbar(label=\"K\")"
   ]
  },
  {
   "cell_type": "code",
   "execution_count": null,
   "metadata": {},
   "outputs": [],
   "source": [
    "PyPlot.close(\"all\")\n",
    "fig = PyPlot.figure(figsize=(6.5, 5))\n",
    "@manipulate for t in 1:Int(Nᵗ/ΔR)\n",
    "    @manipulate for k in 1:Nᶻ\n",
    "        withfig(fig) do\n",
    "            PyPlot.pcolormesh(xC, yC, RT[t,:,:,k] .- 283, cmap=\"bwr\")\n",
    "            PyPlot.title(\"Temperature change @ time step n=$t, z-level k=$k\")\n",
    "            PyPlot.xlabel(\"x\")\n",
    "            PyPlot.ylabel(\"y\")\n",
    "            PyPlot.colorbar(label=\"K\")\n",
    "        end\n",
    "    end\n",
    "end"
   ]
  },
  {
   "cell_type": "code",
   "execution_count": null,
   "metadata": {},
   "outputs": [],
   "source": [
    "PyPlot.close(\"all\")\n",
    "fig = PyPlot.figure(figsize=(6.5, 5))\n",
    "@manipulate for t in 1:Nᵗ\n",
    "    @manipulate for k in 1:Nᶻ\n",
    "        withfig(fig) do\n",
    "            PyPlot.pcolormesh(xC, yC, Rw[t,:,:,k], cmap=\"bwr\", vmin=-0.004, vmax=0.004)\n",
    "            PyPlot.title(\"w-velocity @ time step n=$t, z-level k=$k\")\n",
    "            PyPlot.xlabel(\"x\")\n",
    "            PyPlot.ylabel(\"y\")\n",
    "            PyPlot.colorbar(label=\"m/s\")\n",
    "        end\n",
    "    end\n",
    "end"
   ]
  },
  {
   "cell_type": "code",
   "execution_count": null,
   "metadata": {},
   "outputs": [],
   "source": [
    "t, j = 360, 50\n",
    "PyPlot.pcolormesh(xC, zC, copy(RT[t, :, j, :]') .- 283, cmap=\"jet\")\n",
    "PyPlot.title(\"Temperature change @ time step n=$t, y-slice j=$j\")\n",
    "PyPlot.xlabel(\"x (m)\")\n",
    "PyPlot.ylabel(\"z (m)\")\n",
    "PyPlot.colorbar(label=\"K\")"
   ]
  },
  {
   "cell_type": "code",
   "execution_count": null,
   "metadata": {},
   "outputs": [],
   "source": [
    "PyPlot.close(\"all\")\n",
    "fig = PyPlot.figure(figsize=(6.5, 5))\n",
    "@manipulate for t in 1:Nᵗ\n",
    "    @manipulate for k in 1:Nᶻ\n",
    "        withfig(fig) do\n",
    "            PyPlot.pcolormesh(xC, yC, RpNHS[t,:,:,k], cmap=\"bwr\")\n",
    "            PyPlot.title(\"pHY+S @ time step n=$t, z-level k=$k\")\n",
    "            PyPlot.xlabel(\"x\")\n",
    "            PyPlot.ylabel(\"y\")\n",
    "            PyPlot.colorbar(label=\"Pa\")\n",
    "        end\n",
    "   end\n",
    "end"
   ]
  },
  {
   "cell_type": "code",
   "execution_count": null,
   "metadata": {},
   "outputs": [],
   "source": [
    "t, k = 178, 3\n",
    "PyPlot.pcolormesh(xC, yC, Rw[t,:,:,k], cmap=\"bwr\")\n",
    "PyPlot.title(\"w-velocity @ time step n=$t, z-level k=$k\")\n",
    "PyPlot.xlabel(\"x\")\n",
    "PyPlot.ylabel(\"y\")\n",
    "PyPlot.colorbar(label=\"m/s\")"
   ]
  },
  {
   "cell_type": "code",
   "execution_count": null,
   "metadata": {},
   "outputs": [],
   "source": [
    "PyPlot.close(\"all\")\n",
    "fig = PyPlot.figure(figsize=(6.5, 5))\n",
    "PyPlot.pcolormesh(xC, yC, RT[5,:,:,1] .- 283, cmap=\"bwr\")\n",
    "PyPlot.xlabel(\"x\")\n",
    "PyPlot.ylabel(\"y\")\n",
    "PyPlot.colorbar(label=\"K\");"
   ]
  },
  {
   "cell_type": "code",
   "execution_count": null,
   "metadata": {},
   "outputs": [],
   "source": [
    "pygui(false)\n",
    "pygui()"
   ]
  },
  {
   "cell_type": "code",
   "execution_count": null,
   "metadata": {},
   "outputs": [],
   "source": [
    "import PyPlot\n",
    "PyPlot.close(\"all\")\n",
    "fig = PyPlot.figure(figsize=(6.5, 5))\n",
    "PyPlot.pcolormesh(xC, yC, RT[49,:,:,1] .- 283, cmap=\"bwr\")\n",
    "PyPlot.title(\"Temperature change @ time step n=$t, z-level k=$k\")\n",
    "PyPlot.xlabel(\"x\")\n",
    "PyPlot.ylabel(\"y\")\n",
    "PyPlot.colorbar(label=\"K\");"
   ]
  },
  {
   "cell_type": "code",
   "execution_count": 11,
   "metadata": {},
   "outputs": [
    {
     "data": {
      "text/html": [
       "    <script id=\"webio-setup-4791683770392143497\">\n",
       "    // Immediately-invoked-function-expression to avoid global variables.\n",
       "    (function() {\n",
       "        var warning_div = document.getElementById(\"webio-warning-4673644613913953464\");\n",
       "        var hide = function () {\n",
       "            var script = document.getElementById(\"webio-setup-4791683770392143497\");\n",
       "            var parent = script && script.parentElement;\n",
       "            var grandparent = parent && parent.parentElement;\n",
       "            if (grandparent) {\n",
       "                grandparent.style.display = \"none\";\n",
       "            }\n",
       "            warning_div.style.display = \"none\";\n",
       "        };\n",
       "        if (window.require && require.defined) {\n",
       "            // Jupyter notebook.\n",
       "            if (require.defined(\"nbextensions/webio/main\")\n",
       "                    || require.defined(\"/assetserver/28f5f30a59da434290b7f09bd0d0ddea74a5f34e-dist/main.js\")) {\n",
       "                // Extension already loaded.\n",
       "                hide();\n",
       "                return;\n",
       "            }\n",
       "            console.warn(\"Loading WebIO Jupyter extension on an ad-hoc basis. Consider enabling the WebIO nbextension for a stabler experience (this should happen automatically when building WebIO).\");\n",
       "            require([\"/assetserver/28f5f30a59da434290b7f09bd0d0ddea74a5f34e-dist/main.js\"], function (webIOModule) {\n",
       "                webIOModule.load_ipython_extension();\n",
       "            });\n",
       "            warning_div.innerHTML = \"<strong>Loading WebIO Jupyter extension on an ad-hoc basis. Consider enabling the WebIO nbextension for a stabler experience (this should happen automatically when building WebIO).</strong>\";\n",
       "        } else if (window.location.pathname.includes(\"/lab\")) {\n",
       "            // Guessing JupyterLab\n",
       "            warning_div.innerHTML = \"WebIO does not support JupyterLab yet.\";\n",
       "        }\n",
       "    })();\n",
       "    </script>\n",
       "    <div\n",
       "        id=\"webio-warning-4673644613913953464\"\n",
       "        class=\"output_text output_stderr\"\n",
       "        style=\"padding: 1em; font-weight: bold;\"\n",
       "    >\n",
       "        Unable to load WebIO. Please make sure WebIO works for your Jupyter client.\n",
       "        <!-- TODO: link to installation docs. -->\n",
       "    </div>\n"
      ],
      "text/plain": [
       "HTML{String}(\"    <script id=\\\"webio-setup-4791683770392143497\\\">\\n    // Immediately-invoked-function-expression to avoid global variables.\\n    (function() {\\n        var warning_div = document.getElementById(\\\"webio-warning-4673644613913953464\\\");\\n        var hide = function () {\\n            var script = document.getElementById(\\\"webio-setup-4791683770392143497\\\");\\n            var parent = script && script.parentElement;\\n            var grandparent = parent && parent.parentElement;\\n            if (grandparent) {\\n                grandparent.style.display = \\\"none\\\";\\n            }\\n            warning_div.style.display = \\\"none\\\";\\n        };\\n        if (window.require && require.defined) {\\n            // Jupyter notebook.\\n            if (require.defined(\\\"nbextensions/webio/main\\\")\\n                    || require.defined(\\\"/assetserver/28f5f30a59da434290b7f09bd0d0ddea74a5f34e-dist/main.js\\\")) {\\n                // Extension already loaded.\\n                hide();\\n                return;\\n            }\\n            console.warn(\\\"Loading WebIO Jupyter extension on an ad-hoc basis. Consider enabling the WebIO nbextension for a stabler experience (this should happen automatically when building WebIO).\\\");\\n            require([\\\"/assetserver/28f5f30a59da434290b7f09bd0d0ddea74a5f34e-dist/main.js\\\"], function (webIOModule) {\\n                webIOModule.load_ipython_extension();\\n            });\\n            warning_div.innerHTML = \\\"<strong>Loading WebIO Jupyter extension on an ad-hoc basis. Consider enabling the WebIO nbextension for a stabler experience (this should happen automatically when building WebIO).</strong>\\\";\\n        } else if (window.location.pathname.includes(\\\"/lab\\\")) {\\n            // Guessing JupyterLab\\n            warning_div.innerHTML = \\\"WebIO does not support JupyterLab yet.\\\";\\n        }\\n    })();\\n    </script>\\n    <div\\n        id=\\\"webio-warning-4673644613913953464\\\"\\n        class=\\\"output_text output_stderr\\\"\\n        style=\\\"padding: 1em; font-weight: bold;\\\"\\n    >\\n        Unable to load WebIO. Please make sure WebIO works for your Jupyter client.\\n        <!-- TODO: link to installation docs. -->\\n    </div>\\n\")"
      ]
     },
     "metadata": {},
     "output_type": "display_data"
    },
    {
     "data": {
      "text/plain": [
       "Plots.GRBackend()"
      ]
     },
     "execution_count": 11,
     "metadata": {},
     "output_type": "execute_result"
    }
   ],
   "source": [
    "using Interact, Plots\n",
    "Plots.gr()"
   ]
  },
  {
   "cell_type": "code",
   "execution_count": null,
   "metadata": {},
   "outputs": [],
   "source": [
    "R, k = 45, 1\n",
    "Plots.heatmap(xC, yC, RT[R,:,:,k] .- 283, color=:thermal, title=\"Temperature change @ t=$(R*ΔR*Δt), k=$k\")"
   ]
  },
  {
   "cell_type": "code",
   "execution_count": null,
   "metadata": {},
   "outputs": [],
   "source": [
    "R, k = 45, 10\n",
    "Plots.heatmap(xC, yC, RT[R,:,:,k] .- 283, color=:thermal, title=\"Temperature change @ t=$(R*ΔR*Δt), k=$k\")"
   ]
  },
  {
   "cell_type": "code",
   "execution_count": null,
   "metadata": {},
   "outputs": [],
   "source": [
    "R, k = 45, 50\n",
    "Plots.heatmap(xC, yC, RT[R,:,:,k] .- 283, color=:thermal, title=\"Temperature change @ t=$(R*ΔR*Δt), k=$k\")"
   ]
  },
  {
   "cell_type": "code",
   "execution_count": null,
   "metadata": {},
   "outputs": [],
   "source": [
    "R, j = 49, 50\n",
    "Plots.heatmap(xC, zC, rotl90(RT[R,:,j,:]) .- 283, color=:thermal, title=\"Temperature change @ t=$(R*ΔR*Δt), j=$j\")"
   ]
  },
  {
   "cell_type": "code",
   "execution_count": null,
   "metadata": {},
   "outputs": [],
   "source": [
    "R, k = 30, 1\n",
    "Plots.heatmap(xC, yC, Ru[R,:,:,k], color=:balance, clims=(-0.05, 0.05), title=\"u-velocity @ t=$(R*ΔR*Δt), k=$k\")"
   ]
  },
  {
   "cell_type": "code",
   "execution_count": null,
   "metadata": {},
   "outputs": [],
   "source": [
    "R, k = 30, 10\n",
    "Plots.heatmap(xC, yC, Ru[R,:,:,k], color=:balance, clims=(-2e-3, 2e-3), title=\"u-velocity @ t=$(R*ΔR*Δt), k=$k\")"
   ]
  },
  {
   "cell_type": "code",
   "execution_count": null,
   "metadata": {},
   "outputs": [],
   "source": [
    "R, k = 30, 100\n",
    "Plots.heatmap(xC, yC, Ru[R,:,:,k], color=:balance, clims=(-2e-5, 2e-5), title=\"u-velocity @ t=$(R*ΔR*Δt), k=$k\")"
   ]
  },
  {
   "cell_type": "code",
   "execution_count": null,
   "metadata": {},
   "outputs": [],
   "source": [
    "R, j = 49, 50\n",
    "Plots.heatmap(xC, zC, rotl90(Ru[R,:,j,:]), color=:balance, clims=(-0.02, 0.02), title=\"u-velocity @ t=$(R*ΔR*Δt), j=$j\")"
   ]
  },
  {
   "cell_type": "code",
   "execution_count": null,
   "metadata": {},
   "outputs": [],
   "source": [
    "R, j = 49, 100\n",
    "Plots.heatmap(xC, zC, rotl90(Ru[R,:,j,:]), color=:balance, clims=(-0.02, 0.02), title=\"u-velocity @ t=$(R*ΔR*Δt), j=$j\")"
   ]
  },
  {
   "cell_type": "code",
   "execution_count": null,
   "metadata": {},
   "outputs": [],
   "source": [
    "R, k = 45, 2\n",
    "Plots.heatmap(xC, yC, Rw[R,:,:,k], color=:balance, clims=(-0.005, 0.005), title=\"w-velocity @ t=$(R*ΔR*Δt), k=$k\")"
   ]
  },
  {
   "cell_type": "code",
   "execution_count": null,
   "metadata": {},
   "outputs": [],
   "source": [
    "R, j = 49, 50\n",
    "Plots.heatmap(xC, zC, rotl90(Rw[R,:,j,:]), color=:balance, clims=(-0.002, 0.002), title=\"w-velocity @ t=$(R*ΔR*Δt), j=$j\")"
   ]
  },
  {
   "cell_type": "code",
   "execution_count": null,
   "metadata": {},
   "outputs": [],
   "source": [
    "R, k = 30, 2\n",
    "Plots.heatmap(xC, zC, rotl90(RpNHS[R,:,:,k]), color=:balance, clims=(-0.001, 0.001), title=\"pNHS @ t=$(R*ΔR*Δt), k=$k\")"
   ]
  },
  {
   "cell_type": "code",
   "execution_count": null,
   "metadata": {},
   "outputs": [],
   "source": [
    "@manipulate for tidx in 1:10\n",
    "    Plots.heatmap(xC, yC, Ru[tidx,:,:,2], color=:balance, title=\"u-velocity @ t=$(tidx*ΔR*Δt), k=2\")\n",
    "end"
   ]
  },
  {
   "cell_type": "code",
   "execution_count": null,
   "metadata": {},
   "outputs": [],
   "source": [
    "for k in [1, 10, 50, 100]\n",
    "    anim = @animate for tidx in 1:Int(Nᵗ/ΔR)\n",
    "        Plots.heatmap(xC, yC, Ru[tidx,:,:,k], color=:balance, clims=(-0.01, 0.01),\n",
    "            title=\"u-velocity @ t=$(tidx*ΔR*Δt), k=$k\")\n",
    "    end\n",
    "    ks = lpad(k, 3, '0')\n",
    "    gif(anim, \"u_k$ks.gif\", fps = 10)\n",
    "end"
   ]
  },
  {
   "cell_type": "code",
   "execution_count": null,
   "metadata": {},
   "outputs": [],
   "source": [
    "for tidx in [5, 10, 20, 45]\n",
    "    anim = @animate for k in 1:Nᶻ\n",
    "        Plots.heatmap(xC, yC, Ru[tidx,:,:,k], color=:balance,\n",
    "            title=\"u-velocity @ t=$(tidx*ΔR*Δt), k=$k\")\n",
    "    end\n",
    "    tidxs = lpad(tidx, 3, '0')\n",
    "    gif(anim, \"u_tidx$tidxs.gif\", fps = 10)\n",
    "end"
   ]
  },
  {
   "cell_type": "code",
   "execution_count": null,
   "metadata": {},
   "outputs": [],
   "source": [
    "for j in [1, 10, 50]\n",
    "    anim = @animate for tidx in 1:Int(Nᵗ/ΔR)\n",
    "        Plots.heatmap(xC, zC, rotl90(Ru[tidx,:,j,:]), color=:balance,\n",
    "                title=\"u-velocity @ t=$(tidx*ΔR*Δt), j=$j\")\n",
    "    end\n",
    "    js = lpad(j, 3, '0')\n",
    "    gif(anim, \"u_j$js.gif\", fps = 10)\n",
    "end"
   ]
  },
  {
   "cell_type": "code",
   "execution_count": null,
   "metadata": {},
   "outputs": [],
   "source": [
    "for k in [1, 10, 50]\n",
    "    anim = @animate for tidx in 1:Int(Nᵗ/ΔR)\n",
    "        Plots.heatmap(xC, yC, RT[tidx,:,:,k] .- 283, color=:thermal,\n",
    "            title=\"T change @ t=$(tidx*ΔR*Δt), k=$k\")\n",
    "    end\n",
    "    ks = lpad(k, 3, '0')\n",
    "    gif(anim, \"T_k$ks.gif\", fps = 10)\n",
    "end"
   ]
  },
  {
   "cell_type": "code",
   "execution_count": null,
   "metadata": {},
   "outputs": [],
   "source": [
    "for k in [2, 10, 50, 100]\n",
    "    anim = @animate for tidx in 1:Int(Nᵗ/ΔR)\n",
    "        Plots.heatmap(xC, yC, Rw[tidx,:,:,k], color=:balance,\n",
    "            title=\"w-velocity @ t=$(tidx*ΔR*Δt), k=$k\")\n",
    "    end\n",
    "    ks = lpad(k, 3, '0')\n",
    "    gif(anim, \"w_k$ks.gif\", fps = 10)\n",
    "end"
   ]
  },
  {
   "cell_type": "code",
   "execution_count": null,
   "metadata": {},
   "outputs": [],
   "source": [
    "for j in [1, 10, 50]\n",
    "    anim = @animate for tidx in 1:Int(Nᵗ/ΔR)\n",
    "        Plots.heatmap(xC, zC, rotl90(Rw[tidx,:,j,:]), color=:balance,\n",
    "                title=\"w-velocity @ t=$(tidx*ΔR*Δt), j=$j\")\n",
    "    end\n",
    "    js = lpad(j, 3, '0')\n",
    "    gif(anim, \"w_j$js.gif\", fps = 10)\n",
    "end"
   ]
  },
  {
   "cell_type": "code",
   "execution_count": null,
   "metadata": {},
   "outputs": [],
   "source": [
    "for k in [2, 10, 50, 100]\n",
    "    anim = @animate for tidx in 1:Int(Nᵗ/ΔR)\n",
    "        Plots.heatmap(xC, yC, Rρ[tidx,:,:,k], color=:balance,\n",
    "            title=\"w-velocity @ t=$(tidx*ΔR*Δt), k=$k\")\n",
    "    end\n",
    "    ks = lpad(k, 3, '0')\n",
    "    gif(anim, \"ρ_k$ks.gif\", fps = 10)\n",
    "end"
   ]
  },
  {
   "cell_type": "code",
   "execution_count": null,
   "metadata": {},
   "outputs": [],
   "source": [
    "Plots.heatmap(xC, yC, Rw[49,:,:,10], color=:balance, clims=(-0.002, 0.002), title=\"w-velocity @ t=$(49*ΔR*Δt), k=10\")"
   ]
  },
  {
   "cell_type": "code",
   "execution_count": 12,
   "metadata": {},
   "outputs": [
    {
     "name": "stderr",
     "output_type": "stream",
     "text": [
      "┌ Info: Saved animation to \n",
      "│   fn = C:\\Users\\Ali\\Documents\\Git\\OceanDispatch.jl\\T_j001.gif\n",
      "└ @ Plots C:\\Users\\Ali\\.julia\\packages\\Plots\\rmogG\\src\\animation.jl:90\n",
      "┌ Info: Saved animation to \n",
      "│   fn = C:\\Users\\Ali\\Documents\\Git\\OceanDispatch.jl\\T_j010.gif\n",
      "└ @ Plots C:\\Users\\Ali\\.julia\\packages\\Plots\\rmogG\\src\\animation.jl:90\n",
      "┌ Info: Saved animation to \n",
      "│   fn = C:\\Users\\Ali\\Documents\\Git\\OceanDispatch.jl\\T_j050.gif\n",
      "└ @ Plots C:\\Users\\Ali\\.julia\\packages\\Plots\\rmogG\\src\\animation.jl:90\n",
      "GKS: Rectangle definition is invalid in routine SET_WINDOW\n",
      "GKS: Rectangle definition is invalid in routine CELLARRAY\n",
      "origin outside current window\n",
      "GKS: Rectangle definition is invalid in routine SET_WINDOW\n",
      "GKS: Rectangle definition is invalid in routine CELLARRAY\n",
      "origin outside current window\n",
      "GKS: Rectangle definition is invalid in routine SET_WINDOW\n",
      "GKS: Rectangle definition is invalid in routine CELLARRAY\n",
      "origin outside current window\n",
      "GKS: Rectangle definition is invalid in routine SET_WINDOW\n",
      "GKS: Rectangle definition is invalid in routine CELLARRAY\n",
      "origin outside current window\n",
      "GKS: Rectangle definition is invalid in routine SET_WINDOW\n",
      "GKS: Rectangle definition is invalid in routine CELLARRAY\n",
      "origin outside current window\n",
      "GKS: Rectangle definition is invalid in routine SET_WINDOW\n",
      "GKS: Rectangle definition is invalid in routine CELLARRAY\n",
      "origin outside current window\n",
      "GKS: Rectangle definition is invalid in routine SET_WINDOW\n",
      "GKS: Rectangle definition is invalid in routine CELLARRAY\n",
      "origin outside current window\n",
      "GKS: Rectangle definition is invalid in routine SET_WINDOW\n",
      "GKS: Rectangle definition is invalid in routine CELLARRAY\n",
      "origin outside current window\n",
      "GKS: Rectangle definition is invalid in routine SET_WINDOW\n",
      "GKS: Rectangle definition is invalid in routine CELLARRAY\n",
      "origin outside current window\n",
      "GKS: Rectangle definition is invalid in routine SET_WINDOW\n",
      "GKS: Rectangle definition is invalid in routine CELLARRAY\n",
      "origin outside current window\n",
      "GKS: Rectangle definition is invalid in routine SET_WINDOW\n",
      "GKS: Rectangle definition is invalid in routine CELLARRAY\n",
      "origin outside current window\n",
      "GKS: Rectangle definition is invalid in routine SET_WINDOW\n",
      "GKS: Rectangle definition is invalid in routine CELLARRAY\n",
      "origin outside current window\n",
      "GKS: Rectangle definition is invalid in routine SET_WINDOW\n",
      "GKS: Rectangle definition is invalid in routine CELLARRAY\n",
      "origin outside current window\n",
      "GKS: Rectangle definition is invalid in routine SET_WINDOW\n",
      "GKS: Rectangle definition is invalid in routine CELLARRAY\n",
      "origin outside current window\n"
     ]
    }
   ],
   "source": [
    "for j in [1, 10, 50]\n",
    "    anim = @animate for tidx in 1:Int(Nᵗ/ΔR)\n",
    "        Plots.heatmap(xC, zC, rotl90(RT[tidx,:,j,:]), color=:balance,\n",
    "                title=\"delta T @ t=$(tidx*ΔR*Δt), j=$j\")\n",
    "    end\n",
    "    js = lpad(j, 3, '0')\n",
    "    gif(anim, \"T_j$js.gif\", fps = 10)\n",
    "end"
   ]
  },
  {
   "cell_type": "code",
   "execution_count": null,
   "metadata": {},
   "outputs": [],
   "source": []
  }
 ],
 "metadata": {
  "@webio": {
   "lastCommId": "a6371180423d43c4995ce7aac27de5a4",
   "lastKernelId": "02bff326-f2d0-4e23-9d2a-efff6f8518f2"
  },
  "kernelspec": {
   "display_name": "Julia 1.0.0",
   "language": "julia",
   "name": "julia-1.0"
  },
  "language_info": {
   "file_extension": ".jl",
   "mimetype": "application/julia",
   "name": "julia",
   "version": "1.0.0"
  }
 },
 "nbformat": 4,
 "nbformat_minor": 2
}
