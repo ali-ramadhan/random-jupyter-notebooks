{
 "cells": [
  {
   "cell_type": "code",
   "execution_count": 1,
   "metadata": {},
   "outputs": [],
   "source": [
    "import os\n",
    "import sys\n",
    "import subprocess"
   ]
  },
  {
   "cell_type": "code",
   "execution_count": 2,
   "metadata": {},
   "outputs": [],
   "source": [
    "# We will use PyGuymer3 to set very high-resolution maps from NaturalEarth\n",
    "# See: https://thomasguymer.co.uk/blog/2018/2018-01-15/\n",
    "os.environ[\"CARTOPY_USER_BACKGROUNDS\"] = os.path.abspath(\".\")\n",
    "\n",
    "if not os.path.isdir(\"PyGuymer3\"):\n",
    "    subprocess.call(\"git clone git@github.com:Guymer/PyGuymer3.git\", shell=True)\n",
    "\n",
    "sys.path.append(os.path.abspath(\"./PyGuymer3/\"))"
   ]
  },
  {
   "cell_type": "code",
   "execution_count": 3,
   "metadata": {},
   "outputs": [],
   "source": [
    "# Define the background image datasets ...\n",
    "imgs = {\n",
    "    \"cross-blend-hypso\" : {\n",
    "        \"description\" : \"Cross-blended Hypsometric Tints with Relief, Water, Drains and Ocean Bottom from Natural Earth\",\n",
    "        \"rasters\" : {\n",
    "            \"large\"  : \"http://www.naturalearthdata.com/http//www.naturalearthdata.com/download/10m/raster/HYP_HR_SR_OB_DR.zip\",\n",
    "            \"medium\" : \"http://www.naturalearthdata.com/http//www.naturalearthdata.com/download/10m/raster/HYP_LR_SR_OB_DR.zip\",\n",
    "            \"small\"  : \"http://www.naturalearthdata.com/http//www.naturalearthdata.com/download/50m/raster/HYP_50M_SR_W.zip\",\n",
    "        },\n",
    "        \"source\" : \"http://www.naturalearthdata.com/downloads/10m-raster-data/10m-cross-blend-hypso/ and http://www.naturalearthdata.com/downloads/50m-raster-data/50m-cross-blend-hypso/\",\n",
    "    },\n",
    "    \"gray-earth\" : {\n",
    "        \"description\" : \"Gray Earth with Shaded Relief, Hypsography, Ocean Bottom and Drainages from Natural Earth\",\n",
    "        \"rasters\" : {\n",
    "            \"large\"  : \"http://www.naturalearthdata.com/http//www.naturalearthdata.com/download/10m/raster/GRAY_HR_SR_OB_DR.zip\",\n",
    "            \"medium\" : \"http://www.naturalearthdata.com/http//www.naturalearthdata.com/download/10m/raster/GRAY_LR_SR_OB_DR.zip\",\n",
    "            \"small\"  : \"http://www.naturalearthdata.com/http//www.naturalearthdata.com/download/50m/raster/GRAY_50M_SR_OB.zip\",\n",
    "        },\n",
    "        \"source\" : \"http://www.naturalearthdata.com/downloads/10m-raster-data/10m-gray-earth/ and http://www.naturalearthdata.com/downloads/50m-raster-data/50m-gray-earth/\",\n",
    "    },\n",
    "    \"natural-earth-1\" : {\n",
    "        \"description\" : \"Natural Earth I with Shaded Relief, Water and Drainages from Natural Earth\",\n",
    "        \"rasters\" : {\n",
    "            \"large\"  : \"http://www.naturalearthdata.com/http//www.naturalearthdata.com/download/10m/raster/NE1_HR_LC_SR_W_DR.zip\",\n",
    "            \"medium\" : \"http://www.naturalearthdata.com/http//www.naturalearthdata.com/download/10m/raster/NE1_LR_LC_SR_W_DR.zip\",\n",
    "            \"small\"  : \"http://www.naturalearthdata.com/http//www.naturalearthdata.com/download/50m/raster/NE1_50M_SR_W.zip\",\n",
    "        },\n",
    "        \"source\" : \"http://www.naturalearthdata.com/downloads/10m-raster-data/10m-natural-earth-1/ and http://www.naturalearthdata.com/downloads/50m-raster-data/50m-natural-earth-1/\",\n",
    "    },\n",
    "    \"natural-earth-2\" : {\n",
    "        \"description\" : \"Natural Earth II with Shaded Relief, Water and Drainages from Natural Earth\",\n",
    "        \"rasters\" : {\n",
    "            \"large\"  : \"http://www.naturalearthdata.com/http//www.naturalearthdata.com/download/10m/raster/NE2_HR_LC_SR_W_DR.zip\",\n",
    "            \"medium\" : \"http://www.naturalearthdata.com/http//www.naturalearthdata.com/download/10m/raster/NE2_LR_LC_SR_W_DR.zip\",\n",
    "            \"small\"  : \"http://www.naturalearthdata.com/http//www.naturalearthdata.com/download/50m/raster/NE2_50M_SR_W.zip\",\n",
    "        },\n",
    "        \"source\" : \"http://www.naturalearthdata.com/downloads/10m-raster-data/10m-natural-earth-2/ and http://www.naturalearthdata.com/downloads/50m-raster-data/50m-natural-earth-2/\",\n",
    "    },\n",
    "    \"shaded-relief\" : {\n",
    "        \"description\" : \"Shaded Relief Basic from Natural Earth\",\n",
    "        \"rasters\" : {\n",
    "            \"large\"  : \"https://www.naturalearthdata.com/http//www.naturalearthdata.com/download/10m/raster/SR_HR.zip\",\n",
    "            \"medium\" : \"https://www.naturalearthdata.com/http//www.naturalearthdata.com/download/10m/raster/SR_LR.zip\",\n",
    "            \"small\"  : \"https://www.naturalearthdata.com/http//www.naturalearthdata.com/download/50m/raster/SR_50M.zip\",\n",
    "        },\n",
    "        \"source\" : \"https://www.naturalearthdata.com/downloads/10m-raster-data/10m-shaded-relief/ and https://www.naturalearthdata.com/downloads/50m-raster-data/50m-shaded-relief/\",\n",
    "    },\n",
    "}"
   ]
  },
  {
   "cell_type": "code",
   "execution_count": 4,
   "metadata": {},
   "outputs": [],
   "source": [
    "# Import modules ...\n",
    "import json\n",
    "import os\n",
    "import requests\n",
    "import zipfile\n",
    "\n",
    "# Import my module ...\n",
    "try:\n",
    "    import PyGuymer3\n",
    "except:\n",
    "    raise Exception(\"you need to have the Python module from https://github.com/Guymer/PyGuymer located somewhere in your $PYTHONPATH\")"
   ]
  },
  {
   "cell_type": "code",
   "execution_count": 5,
   "metadata": {},
   "outputs": [],
   "source": [
    "# Create JSON dictionary ...\n",
    "data = {}\n",
    "data[\"__comment__\"] = \"JSON file specifying the image to use for a given type/name and resolution. Read in by cartopy.mpl.geoaxes.read_user_background_images.\""
   ]
  },
  {
   "cell_type": "code",
   "execution_count": 6,
   "metadata": {},
   "outputs": [],
   "source": [
    "# ******************************************************************************\n",
    "# *                   CREATE PNG IMAGES FROM REMOTE SOURCES                    *\n",
    "# ******************************************************************************\n",
    "\n",
    "# Start session ...\n",
    "sess = requests.Session()\n",
    "sess.allow_redirects = True\n",
    "sess.max_redirects = 5\n",
    "\n",
    "# Loop over background image datasets ...\n",
    "for img in imgs.keys():\n",
    "    # Add to JSON dictionary ...\n",
    "    data[img] = {}\n",
    "    data[img][\"__comment__\"] = imgs[img][\"description\"]\n",
    "    data[img][\"__projection__\"] = \"PlateCarree\"\n",
    "    data[img][\"__source__\"] = imgs[img][\"source\"]\n",
    "\n",
    "    # Loop over sizes ...\n",
    "    # for size in imgs[img][\"rasters\"].keys():\n",
    "    for size in [\"large\"]:\n",
    "        # Deduce ZIP file name and download it if it is missing ...\n",
    "        zfile = \"{0:s}_{1:s}.zip\".format(img, size)\n",
    "        if not os.path.exists(zfile):\n",
    "            print(\"Downloading \\\"{0:s}\\\" ...\".format(zfile))\n",
    "            if not PyGuymer3.download_file(sess, imgs[img][\"rasters\"][size], zfile):\n",
    "                raise Exception(\"download failed\", imgs[img][\"rasters\"][size])\n",
    "\n",
    "        # Deduce TIF file name and extract it if is missing ...\n",
    "        tfile = \"{0:s}_{1:s}.tif\".format(img, size)\n",
    "        if not os.path.exists(tfile):\n",
    "            print(\"Extracting \\\"{0:s}\\\" ...\".format(tfile))\n",
    "            with zipfile.ZipFile(zfile, \"r\") as zobj:\n",
    "                for member in zobj.namelist():\n",
    "                    if member.lower().endswith(\".tif\"):\n",
    "                        tmp = zobj.extract(member)\n",
    "                        os.rename(tmp, tfile)\n",
    "                        break\n",
    "\n",
    "        # Deduce PNG file name and convert TIF to PNG if it is missing ...\n",
    "        pfile = \"{0:s}_{1:s}.png\".format(img, size)\n",
    "        if not os.path.exists(pfile):\n",
    "            print(\"Creating \\\"{0:s}\\\" ...\".format(pfile))\n",
    "            subprocess.check_call(\n",
    "                [\"convert\", tfile, pfile],\n",
    "                stderr = open(os.devnull, \"wt\"),\n",
    "                stdout = open(os.devnull, \"wt\")\n",
    "            )\n",
    "#             subprocess.check_call(\n",
    "#                 [\"optipng\", pfile],\n",
    "#                 stderr = open(os.devnull, \"wt\"),\n",
    "#                 stdout = open(os.devnull, \"wt\")\n",
    "#             )\n",
    "\n",
    "        # Add to JSON dictionary ...\n",
    "        data[img][size] = pfile\n",
    "\n",
    "# End session ...\n",
    "sess.close()"
   ]
  },
  {
   "cell_type": "code",
   "execution_count": 7,
   "metadata": {},
   "outputs": [],
   "source": [
    "# ******************************************************************************\n",
    "# *              CREATE DOWNSCALED PNG IMAGES FROM LOCAL SOURCES               *\n",
    "# ******************************************************************************\n",
    "\n",
    "# Loop over background image datasets ...\n",
    "for img in imgs.keys():\n",
    "    # Loop over sizes ...\n",
    "    # for size in imgs[img][\"rasters\"].keys():\n",
    "    for size in [\"large\"]:\n",
    "        # Deduce PNG file name ...\n",
    "        pfile1 = \"{0:s}_{1:s}.png\".format(img, size)\n",
    "\n",
    "        # Loop over downscaled sizes ...\n",
    "        # for width in [512, 1024, 2048, 4096]:\n",
    "        for width in [4096]:\n",
    "            # Deduce downscaled PNG file name and create it if missing ...\n",
    "            pfile2 = \"{0:s}_{1:s}{2:04d}px.png\".format(img, size, width)\n",
    "            if not os.path.exists(pfile2):\n",
    "                print(\"Creating \\\"{0:s}\\\" ...\".format(pfile2))\n",
    "                subprocess.check_call(\n",
    "                    [\"convert\", pfile1, \"-resize\", \"{0:d}x\".format(width), pfile2],\n",
    "                    stderr = open(os.devnull, \"wt\"),\n",
    "                    stdout = open(os.devnull, \"wt\")\n",
    "                )\n",
    "#                 subprocess.check_call(\n",
    "#                     [\"optipng\", pfile2],\n",
    "#                     stderr = open(os.devnull, \"wt\"),\n",
    "#                     stdout = open(os.devnull, \"wt\")\n",
    "#                 )\n",
    "\n",
    "            # Add to JSON dictionary ...\n",
    "            data[img][\"{0:s}{1:04d}px\".format(size, width)] = pfile2"
   ]
  },
  {
   "cell_type": "code",
   "execution_count": 9,
   "metadata": {},
   "outputs": [
    {
     "data": {
      "text/plain": [
       "2457"
      ]
     },
     "execution_count": 9,
     "metadata": {},
     "output_type": "execute_result"
    }
   ],
   "source": [
    "# Save JSON dictionary ...\n",
    "open(\n",
    "    \"images.json\",\n",
    "    \"wt\",\n",
    ").write(\n",
    "    json.dumps(\n",
    "        data,\n",
    "        indent = 4,\n",
    "        sort_keys = True\n",
    "    )\n",
    ")"
   ]
  },
  {
   "cell_type": "code",
   "execution_count": 10,
   "metadata": {},
   "outputs": [],
   "source": [
    "import json\n",
    "from datetime import datetime\n",
    "\n",
    "import matplotlib.pyplot as plt\n",
    "import cartopy.crs as ccrs\n",
    "import cartopy.feature as cfeature"
   ]
  },
  {
   "cell_type": "code",
   "execution_count": 80,
   "metadata": {},
   "outputs": [],
   "source": [
    "with open(\"Location History.json\", \"r\") as f:\n",
    "    lh = json.load(f)"
   ]
  },
  {
   "cell_type": "code",
   "execution_count": 81,
   "metadata": {},
   "outputs": [
    {
     "name": "stdout",
     "output_type": "stream",
     "text": [
      "GPS locations: 628996\n",
      "Good GPS locations: 628996\n"
     ]
    }
   ],
   "source": [
    "# Load all (lat, lon) positions\n",
    "lats = []\n",
    "lons = []\n",
    "\n",
    "# If a (lat, lon) point differs by more than this amount from the previous point, assume\n",
    "# it's a bad GPS location.\n",
    "latlon_filter = 999\n",
    "\n",
    "for point in lh[\"locations\"]:\n",
    "    lat, lon = int(point[\"latitudeE7\"]) / 1e7, int(point[\"longitudeE7\"]) / 1e7\n",
    "    \n",
    "    if len(lats) == 0:\n",
    "        bad_gps_location = False\n",
    "    else:\n",
    "        bad_gps_location = abs(lat - lats[-1]) > latlon_filter or abs(lon - lons[-1]) > latlon_filter\n",
    "    \n",
    "    if bad_gps_location:\n",
    "        continue\n",
    "    else:\n",
    "        lats.append(lat)\n",
    "        lons.append(lon)\n",
    "\n",
    "print(\"GPS locations: {}\".format(len(lh[\"locations\"])))\n",
    "print(\"Good GPS locations: {}\".format(len(lats)))"
   ]
  },
  {
   "cell_type": "code",
   "execution_count": 59,
   "metadata": {},
   "outputs": [],
   "source": [
    "# Only load (lat, lon) position from May 3-21, 2019\n",
    "# start_date = datetime(2019, 5, 3)\n",
    "# end_date = datetime(2019, 5, 21)\n",
    "\n",
    "# n_days = (end_date - start_date).days\n",
    "# times = [[] for _ in range(n_days)]\n",
    "# lats = [[] for _ in range(n_days)]\n",
    "# lons = [[] for _ in range(n_days)]\n",
    "\n",
    "# for point in lh[\"locations\"][-60000:-1]:\n",
    "#     t = datetime.fromtimestamp(int(point[\"timestampMs\"]) / 1000)\n",
    "#     if start_date <= t <= end_date:\n",
    "#         lat, lon = int(point[\"latitudeE7\"]) / 1e7, int(point[\"longitudeE7\"]) / 1e7\n",
    "#         day = (t - start_date).days\n",
    "#         times[day].append(t)\n",
    "#         lats[day].append(lat)\n",
    "#         lons[day].append(lon)"
   ]
  },
  {
   "cell_type": "code",
   "execution_count": 60,
   "metadata": {},
   "outputs": [],
   "source": [
    "states_provinces = cfeature.NaturalEarthFeature(category=\"cultural\", name=\"admin_1_states_provinces_lines\", scale=\"10m\", facecolor=\"none\")"
   ]
  },
  {
   "cell_type": "code",
   "execution_count": 89,
   "metadata": {},
   "outputs": [
    {
     "name": "stdout",
     "output_type": "stream",
     "text": [
      "INFO: Drawing user-requested background.\n"
     ]
    },
    {
     "ename": "MemoryError",
     "evalue": "std::bad_alloc",
     "output_type": "error",
     "traceback": [
      "\u001b[0;31m---------------------------------------------------------------------------\u001b[0m",
      "\u001b[0;31mMemoryError\u001b[0m                               Traceback (most recent call last)",
      "\u001b[0;32m<ipython-input-89-ccc94906d982>\u001b[0m in \u001b[0;36m<module>\u001b[0;34m\u001b[0m\n\u001b[1;32m     13\u001b[0m \u001b[0;34m\u001b[0m\u001b[0m\n\u001b[1;32m     14\u001b[0m \u001b[0;31m# ax.stock_img()\u001b[0m\u001b[0;34m\u001b[0m\u001b[0;34m\u001b[0m\u001b[0;34m\u001b[0m\u001b[0m\n\u001b[0;32m---> 15\u001b[0;31m \u001b[0mPyGuymer3\u001b[0m\u001b[0;34m.\u001b[0m\u001b[0madd_map_background\u001b[0m\u001b[0;34m(\u001b[0m\u001b[0max\u001b[0m\u001b[0;34m,\u001b[0m \u001b[0mname\u001b[0m\u001b[0;34m=\u001b[0m\u001b[0;34m\"natural-earth-1\"\u001b[0m\u001b[0;34m,\u001b[0m \u001b[0mresolution\u001b[0m\u001b[0;34m=\u001b[0m\u001b[0;34m\"large\"\u001b[0m\u001b[0;34m,\u001b[0m \u001b[0mextent\u001b[0m\u001b[0;34m=\u001b[0m\u001b[0mbg_extent\u001b[0m\u001b[0;34m,\u001b[0m \u001b[0mdebug\u001b[0m\u001b[0;34m=\u001b[0m\u001b[0;32mTrue\u001b[0m\u001b[0;34m)\u001b[0m\u001b[0;34m\u001b[0m\u001b[0;34m\u001b[0m\u001b[0m\n\u001b[0m\u001b[1;32m     16\u001b[0m \u001b[0;31m# PyGuymer3.add_map_background(ax, name=\"natural-earth-1\", resolution =\"large\", debug=True)\u001b[0m\u001b[0;34m\u001b[0m\u001b[0;34m\u001b[0m\u001b[0;34m\u001b[0m\u001b[0m\n\u001b[1;32m     17\u001b[0m \u001b[0;34m\u001b[0m\u001b[0m\n",
      "\u001b[0;32m~/location_history/PyGuymer3/add_map_background.py\u001b[0m in \u001b[0;36madd_map_background\u001b[0;34m(axis, debug, name, resolution, extent)\u001b[0m\n\u001b[1;32m     29\u001b[0m         \u001b[0;32mif\u001b[0m \u001b[0mdebug\u001b[0m\u001b[0;34m:\u001b[0m\u001b[0;34m\u001b[0m\u001b[0;34m\u001b[0m\u001b[0m\n\u001b[1;32m     30\u001b[0m             \u001b[0mprint\u001b[0m\u001b[0;34m(\u001b[0m\u001b[0;34m\"INFO: Drawing user-requested background.\"\u001b[0m\u001b[0;34m)\u001b[0m\u001b[0;34m\u001b[0m\u001b[0;34m\u001b[0m\u001b[0m\n\u001b[0;32m---> 31\u001b[0;31m         \u001b[0maxis\u001b[0m\u001b[0;34m.\u001b[0m\u001b[0mbackground_img\u001b[0m\u001b[0;34m(\u001b[0m\u001b[0mname\u001b[0m \u001b[0;34m=\u001b[0m \u001b[0mname\u001b[0m\u001b[0;34m,\u001b[0m \u001b[0mresolution\u001b[0m \u001b[0;34m=\u001b[0m \u001b[0mresolution\u001b[0m\u001b[0;34m,\u001b[0m \u001b[0mextent\u001b[0m \u001b[0;34m=\u001b[0m \u001b[0mextent\u001b[0m\u001b[0;34m)\u001b[0m\u001b[0;34m\u001b[0m\u001b[0;34m\u001b[0m\u001b[0m\n\u001b[0m",
      "\u001b[0;32m~/.local/lib/python3.8/site-packages/cartopy/mpl/geoaxes.py\u001b[0m in \u001b[0;36mbackground_img\u001b[0;34m(self, name, resolution, extent, cache)\u001b[0m\n\u001b[1;32m   1099\u001b[0m                               lat_pts[lat_in_range][0] + d_lat / 2.0]\n\u001b[1;32m   1100\u001b[0m \u001b[0;34m\u001b[0m\u001b[0m\n\u001b[0;32m-> 1101\u001b[0;31m             return self.imshow(img_subset, origin='upper',\n\u001b[0m\u001b[1;32m   1102\u001b[0m                                \u001b[0mtransform\u001b[0m\u001b[0;34m=\u001b[0m\u001b[0msource_proj\u001b[0m\u001b[0;34m,\u001b[0m\u001b[0;34m\u001b[0m\u001b[0;34m\u001b[0m\u001b[0m\n\u001b[1;32m   1103\u001b[0m                                extent=ret_extent)\n",
      "\u001b[0;32m~/.local/lib/python3.8/site-packages/cartopy/mpl/geoaxes.py\u001b[0m in \u001b[0;36mwrapper\u001b[0;34m(self, *args, **kwargs)\u001b[0m\n\u001b[1;32m    308\u001b[0m \u001b[0;34m\u001b[0m\u001b[0m\n\u001b[1;32m    309\u001b[0m         \u001b[0mkwargs\u001b[0m\u001b[0;34m[\u001b[0m\u001b[0;34m'transform'\u001b[0m\u001b[0;34m]\u001b[0m \u001b[0;34m=\u001b[0m \u001b[0mtransform\u001b[0m\u001b[0;34m\u001b[0m\u001b[0;34m\u001b[0m\u001b[0m\n\u001b[0;32m--> 310\u001b[0;31m         \u001b[0;32mreturn\u001b[0m \u001b[0mfunc\u001b[0m\u001b[0;34m(\u001b[0m\u001b[0mself\u001b[0m\u001b[0;34m,\u001b[0m \u001b[0;34m*\u001b[0m\u001b[0margs\u001b[0m\u001b[0;34m,\u001b[0m \u001b[0;34m**\u001b[0m\u001b[0mkwargs\u001b[0m\u001b[0;34m)\u001b[0m\u001b[0;34m\u001b[0m\u001b[0;34m\u001b[0m\u001b[0m\n\u001b[0m\u001b[1;32m    311\u001b[0m     \u001b[0;32mreturn\u001b[0m \u001b[0mwrapper\u001b[0m\u001b[0;34m\u001b[0m\u001b[0;34m\u001b[0m\u001b[0m\n\u001b[1;32m    312\u001b[0m \u001b[0;34m\u001b[0m\u001b[0m\n",
      "\u001b[0;32m~/.local/lib/python3.8/site-packages/cartopy/mpl/geoaxes.py\u001b[0m in \u001b[0;36mimshow\u001b[0;34m(self, img, *args, **kwargs)\u001b[0m\n\u001b[1;32m   1283\u001b[0m                                                      target_extent)\n\u001b[1;32m   1284\u001b[0m             \u001b[0mwarp_array\u001b[0m \u001b[0;34m=\u001b[0m \u001b[0mcartopy\u001b[0m\u001b[0;34m.\u001b[0m\u001b[0mimg_transform\u001b[0m\u001b[0;34m.\u001b[0m\u001b[0mwarp_array\u001b[0m\u001b[0;34m\u001b[0m\u001b[0;34m\u001b[0m\u001b[0m\n\u001b[0;32m-> 1285\u001b[0;31m             img, extent = warp_array(img,\n\u001b[0m\u001b[1;32m   1286\u001b[0m                                      \u001b[0msource_proj\u001b[0m\u001b[0;34m=\u001b[0m\u001b[0mtransform\u001b[0m\u001b[0;34m,\u001b[0m\u001b[0;34m\u001b[0m\u001b[0;34m\u001b[0m\u001b[0m\n\u001b[1;32m   1287\u001b[0m                                      \u001b[0msource_extent\u001b[0m\u001b[0;34m=\u001b[0m\u001b[0mextent\u001b[0m\u001b[0;34m,\u001b[0m\u001b[0;34m\u001b[0m\u001b[0;34m\u001b[0m\u001b[0m\n",
      "\u001b[0;32m~/.local/lib/python3.8/site-packages/cartopy/img_transform.py\u001b[0m in \u001b[0;36mwarp_array\u001b[0;34m(array, target_proj, source_proj, target_res, source_extent, target_extent, mask_extrapolated)\u001b[0m\n\u001b[1;32m    199\u001b[0m         x_extents=target_x_extents, y_extents=target_y_extents)\n\u001b[1;32m    200\u001b[0m \u001b[0;34m\u001b[0m\u001b[0m\n\u001b[0;32m--> 201\u001b[0;31m     array = regrid(array, source_native_xy[0], source_native_xy[1],\n\u001b[0m\u001b[1;32m    202\u001b[0m                    \u001b[0msource_proj\u001b[0m\u001b[0;34m,\u001b[0m \u001b[0mtarget_proj\u001b[0m\u001b[0;34m,\u001b[0m\u001b[0;34m\u001b[0m\u001b[0;34m\u001b[0m\u001b[0m\n\u001b[1;32m    203\u001b[0m                    \u001b[0mtarget_native_x\u001b[0m\u001b[0;34m,\u001b[0m \u001b[0mtarget_native_y\u001b[0m\u001b[0;34m,\u001b[0m\u001b[0;34m\u001b[0m\u001b[0;34m\u001b[0m\u001b[0m\n",
      "\u001b[0;32m~/.local/lib/python3.8/site-packages/cartopy/img_transform.py\u001b[0m in \u001b[0;36mregrid\u001b[0;34m(array, source_x_coords, source_y_coords, source_cs, target_proj, target_x_points, target_y_points, mask_extrapolated)\u001b[0m\n\u001b[1;32m    291\u001b[0m         \u001b[0;31m# which caused the KDTree to hang with this input.\u001b[0m\u001b[0;34m\u001b[0m\u001b[0;34m\u001b[0m\u001b[0;34m\u001b[0m\u001b[0m\n\u001b[1;32m    292\u001b[0m         \u001b[0;32mtry\u001b[0m\u001b[0;34m:\u001b[0m\u001b[0;34m\u001b[0m\u001b[0;34m\u001b[0m\u001b[0m\n\u001b[0;32m--> 293\u001b[0;31m             \u001b[0mkdtree\u001b[0m \u001b[0;34m=\u001b[0m \u001b[0mscipy\u001b[0m\u001b[0;34m.\u001b[0m\u001b[0mspatial\u001b[0m\u001b[0;34m.\u001b[0m\u001b[0mcKDTree\u001b[0m\u001b[0;34m(\u001b[0m\u001b[0mxyz\u001b[0m\u001b[0;34m,\u001b[0m \u001b[0mbalanced_tree\u001b[0m\u001b[0;34m=\u001b[0m\u001b[0;32mFalse\u001b[0m\u001b[0;34m)\u001b[0m\u001b[0;34m\u001b[0m\u001b[0;34m\u001b[0m\u001b[0m\n\u001b[0m\u001b[1;32m    294\u001b[0m         \u001b[0;32mexcept\u001b[0m \u001b[0mTypeError\u001b[0m\u001b[0;34m:\u001b[0m\u001b[0;34m\u001b[0m\u001b[0;34m\u001b[0m\u001b[0m\n\u001b[1;32m    295\u001b[0m             \u001b[0mkdtree\u001b[0m \u001b[0;34m=\u001b[0m \u001b[0mscipy\u001b[0m\u001b[0;34m.\u001b[0m\u001b[0mspatial\u001b[0m\u001b[0;34m.\u001b[0m\u001b[0mcKDTree\u001b[0m\u001b[0;34m(\u001b[0m\u001b[0mxyz\u001b[0m\u001b[0;34m)\u001b[0m\u001b[0;34m\u001b[0m\u001b[0;34m\u001b[0m\u001b[0m\n",
      "\u001b[0;32mckdtree.pyx\u001b[0m in \u001b[0;36mscipy.spatial.ckdtree.cKDTree.__init__\u001b[0;34m()\u001b[0m\n",
      "\u001b[0;31mMemoryError\u001b[0m: std::bad_alloc"
     ]
    },
    {
     "data": {
      "image/png": "[encoded data removed]",
      "text/plain": [
       "<Figure size 4800x2700 with 1 Axes>"
      ]
     },
     "metadata": {
      "needs_background": "light"
     },
     "output_type": "display_data"
    }
   ],
   "source": [
    "# projection = ccrs.PlateCarree()\n",
    "projection = ccrs.LambertConformal(central_latitude=25, central_longitude=265, standard_parallels=(25, 25))\n",
    "\n",
    "fig = plt.figure(figsize=(16, 9), dpi=300)\n",
    "ax = plt.axes(projection=projection)\n",
    "\n",
    "lon1, lon2 = 236, 299\n",
    "lat1, lat2 = 22,  55\n",
    "ax_extent = [lon1, lon2, lat1, lat2]\n",
    "bg_extent = [lon1-360, lon2-360, lat1, lat2]\n",
    "\n",
    "ax.set_extent(ax_extent)\n",
    "\n",
    "# ax.stock_img()\n",
    "PyGuymer3.add_map_background(ax, name=\"natural-earth-1\", resolution=\"large\", extent=bg_extent, debug=True)\n",
    "\n",
    "ax.add_feature(cfeature.BORDERS.with_scale(\"10m\"),   edgecolor=\"black\", linewidth=0.5, alpha=0.8)\n",
    "ax.add_feature(cfeature.COASTLINE.with_scale(\"10m\"), edgecolor=\"black\", linewidth=0.5, alpha=0.8)\n",
    "ax.add_feature(cfeature.LAKES.with_scale(\"10m\"),     edgecolor=\"black\", linewidth=0.5, alpha=0.5)\n",
    "ax.add_feature(cfeature.RIVERS.with_scale(\"10m\"),    edgecolor=\"black\", linewidth=0.5, alpha=0.5)\n",
    "ax.add_feature(states_provinces,                     edgecolor='black', linewidth=0.5, alpha=0.5)\n",
    "\n",
    "# ax.plot(lons, lats, linewidth=1, color=\"red\", transform=ccrs.PlateCarree())\n",
    "ax.scatter(lons, lats, marker=\".\", c=\"red\", s=0.5, alpha=0.5, transform=ccrs.PlateCarree())\n",
    "\n",
    "png_filename = \"location_history_pretty.png\"\n",
    "print(f\"Saving {png_filename}...\")\n",
    "plt.savefig(png_filename, dpi=\"figure\", bbox_inches=\"tight\")\n",
    "\n",
    "# plt.show()"
   ]
  },
  {
   "cell_type": "code",
   "execution_count": null,
   "metadata": {},
   "outputs": [],
   "source": []
  }
 ],
 "metadata": {
  "kernelspec": {
   "display_name": "Python 3",
   "language": "python",
   "name": "python3"
  },
  "language_info": {
   "codemirror_mode": {
    "name": "ipython",
    "version": 3
   },
   "file_extension": ".py",
   "mimetype": "text/x-python",
   "name": "python",
   "nbconvert_exporter": "python",
   "pygments_lexer": "ipython3",
   "version": "3.8.2"
  }
 },
 "nbformat": 4,
 "nbformat_minor": 4
}
