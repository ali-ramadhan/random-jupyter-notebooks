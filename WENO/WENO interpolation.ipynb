{
 "cells": [
  {
   "cell_type": "code",
   "execution_count": 1,
   "metadata": {},
   "outputs": [
    {
     "data": {
      "text/plain": [
       "cs (generic function with 1 method)"
      ]
     },
     "execution_count": 1,
     "metadata": {},
     "output_type": "execute_result"
    }
   ],
   "source": [
    "# Reproducing the interpolations from Shu (2009) section 2.\n",
    "const Δx = 1\n",
    "x(i) = i*Δx\n",
    "ℓ(i, k, x′) = prod([(x′ - x(j)) // (x(i) - x(j)) for j in 0:k if j != i])\n",
    "cs(k, s) = [ℓ(i, k, s + 1//2) for i in 0:k]"
   ]
  },
  {
   "cell_type": "code",
   "execution_count": 36,
   "metadata": {},
   "outputs": [
    {
     "data": {
      "text/plain": [
       "print_interpolant (generic function with 2 methods)"
      ]
     },
     "execution_count": 36,
     "metadata": {},
     "output_type": "execute_result"
    }
   ],
   "source": [
    "ssign(n) = ifelse(n >= 0, \"+\", \"-\")\n",
    "ssubscript(n) = ifelse(n == 0, \"i\", \"i\" * ssign(n) * string(abs(n)))\n",
    "\n",
    "function print_interpolant(cs, s)\n",
    "    print(\"u(i+1//2) = \")\n",
    "    for (j, c) in enumerate(cs)\n",
    "        c_s = ssign(c) * \" \" * string(abs(c))\n",
    "        ss_s = ssubscript(j-s-1)\n",
    "        print(c_s * \" u(\" * ss_s * \") \")\n",
    "    end\n",
    "    print(\"\\n\")\n",
    "end"
   ]
  },
  {
   "cell_type": "code",
   "execution_count": 37,
   "metadata": {},
   "outputs": [
    {
     "name": "stdout",
     "output_type": "stream",
     "text": [
      "u(i+1//2) = + 3//8 u(i) + 3//4 u(i+1) - 1//8 u(i+2) \n",
      "u(i+1//2) = - 1//8 u(i-1) + 3//4 u(i) + 3//8 u(i+1) \n",
      "u(i+1//2) = + 3//8 u(i-2) - 5//4 u(i-1) + 15//8 u(i) \n"
     ]
    }
   ],
   "source": [
    "# These should match equations (2.1) - (2.3) from Shu (2009).\n",
    "[print_interpolant(cs(2, s), s) for s in 0:2];"
   ]
  },
  {
   "cell_type": "code",
   "execution_count": 40,
   "metadata": {},
   "outputs": [
    {
     "name": "stdout",
     "output_type": "stream",
     "text": [
      "u(i+1//2) = + 3//128 u(i-2) - 5//32 u(i-1) + 45//64 u(i) + 15//32 u(i+1) - 5//128 u(i+2) \n"
     ]
    }
   ],
   "source": [
    "# Equation (2.4) from Shu (2009).\n",
    "print_interpolant(cs(4, 2), 2)"
   ]
  },
  {
   "cell_type": "code",
   "execution_count": 83,
   "metadata": {},
   "outputs": [
    {
     "data": {
      "text/plain": [
       "3-element Array{Rational{Int64},1}:\n",
       " 1//16\n",
       " 5//8 \n",
       " 5//16"
      ]
     },
     "execution_count": 83,
     "metadata": {},
     "output_type": "execute_result"
    }
   ],
   "source": [
    "# Find the linear combination of k-th order polynomials that reproduce the (2k-1)-th order polynomial.\n",
    "C = zeros(Rational, 5, 3)\n",
    "b = cs(4, 2)\n",
    "\n",
    "C[1:3, 1] .= cs(2, 2)\n",
    "C[2:4, 2] .= cs(2, 1)\n",
    "C[3:5, 3] .= cs(2, 0)\n",
    "\n",
    "# These should be the optimal weights and match equation (2.5) from Shu (2009).\n",
    "Γ = rationalize.(C \\ b; tol=√eps(Float64))"
   ]
  },
  {
   "cell_type": "code",
   "execution_count": null,
   "metadata": {},
   "outputs": [],
   "source": []
  }
 ],
 "metadata": {
  "kernelspec": {
   "display_name": "Julia 1.1.1",
   "language": "julia",
   "name": "julia-1.1"
  },
  "language_info": {
   "file_extension": ".jl",
   "mimetype": "application/julia",
   "name": "julia",
   "version": "1.1.1"
  }
 },
 "nbformat": 4,
 "nbformat_minor": 4
}
