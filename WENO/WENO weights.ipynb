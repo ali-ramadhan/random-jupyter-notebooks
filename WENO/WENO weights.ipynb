{
 "cells": [
  {
   "cell_type": "code",
   "execution_count": 13,
   "metadata": {},
   "outputs": [
    {
     "data": {
      "text/plain": [
       "c (generic function with 1 method)"
      ]
     },
     "execution_count": 13,
     "metadata": {},
     "output_type": "execute_result"
    }
   ],
   "source": [
    "# WENO weights on a uniform grid.\n",
    "# Equation (2.21) from Shu (1998) lecture notes.\n",
    "\n",
    "Up(r, k, l, m) = prod([r - q + 1 for q in 0:k if q ∉ [m, l]])\n",
    "Us(r, k, m) = sum([U(r, k, l, m) for l in 0:k if l != m])\n",
    "D(k, m) = prod([m - l for l in 0:k if l != m])\n",
    "\n",
    "c(r, j, k) = sum([Us(r, k, m)//D(k, m) for m in j+1:k])"
   ]
  },
  {
   "cell_type": "code",
   "execution_count": 39,
   "metadata": {},
   "outputs": [
    {
     "name": "stdout",
     "output_type": "stream",
     "text": [
      "k = 5, r = -1: Rational{Int64}[137//60, -163//60, 137//60, -21//20, 1//5]\n",
      "k = 5, r = 0: Rational{Int64}[1//5, 77//60, -43//60, 17//60, -1//20]\n",
      "k = 5, r = 1: Rational{Int64}[-1//20, 9//20, 47//60, -13//60, 1//30]\n",
      "k = 5, r = 2: Rational{Int64}[1//30, -13//60, 47//60, 9//20, -1//20]\n",
      "k = 5, r = 3: Rational{Int64}[-1//20, 17//60, -43//60, 77//60, 1//5]\n",
      "k = 5, r = 4: Rational{Int64}[1//5, -21//20, 137//60, -163//60, 137//60]\n"
     ]
    }
   ],
   "source": [
    "# Recreating entries from Table 2.1 of Shu (1998) lecture notes.\n",
    "\n",
    "k = 5\n",
    "for r in -1:k-1\n",
    "    c_rj = [c(r, j, k) for j in 0:k-1]\n",
    "    println(\"k = $k, r = $r: $c_rj\")\n",
    "end"
   ]
  },
  {
   "cell_type": "code",
   "execution_count": null,
   "metadata": {},
   "outputs": [],
   "source": []
  }
 ],
 "metadata": {
  "kernelspec": {
   "display_name": "Julia 1.1.1",
   "language": "julia",
   "name": "julia-1.1"
  },
  "language_info": {
   "file_extension": ".jl",
   "mimetype": "application/julia",
   "name": "julia",
   "version": "1.1.1"
  }
 },
 "nbformat": 4,
 "nbformat_minor": 4
}
