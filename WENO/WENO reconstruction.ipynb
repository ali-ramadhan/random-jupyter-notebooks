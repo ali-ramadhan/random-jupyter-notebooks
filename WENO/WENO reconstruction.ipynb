{
 "cells": [
  {
   "cell_type": "code",
   "execution_count": 13,
   "metadata": {},
   "outputs": [
    {
     "data": {
      "text/plain": [
       "cs (generic function with 1 method)"
      ]
     },
     "execution_count": 13,
     "metadata": {},
     "output_type": "execute_result"
    }
   ],
   "source": [
    "# WENO weights on a uniform grid.\n",
    "# Equation (2.21) from Shu (1998) lecture notes.\n",
    "\n",
    "Up(r, k, l, m) = prod([r - q + 1 for q in 0:k if q ∉ [m, l]])\n",
    "Us(r, k, m) = sum([Up(r, k, l, m) for l in 0:k if l != m])\n",
    "D(k, m) = prod([m - l for l in 0:k if l != m])\n",
    "\n",
    "c(k, r, j) = sum([Us(r, k, m)//D(k, m) for m in j+1:k])\n",
    "cs(k, r) = [c(k , r, j) for j in 0:k-1]"
   ]
  },
  {
   "cell_type": "code",
   "execution_count": 20,
   "metadata": {},
   "outputs": [
    {
     "name": "stdout",
     "output_type": "stream",
     "text": [
      "k = 3, r = 0: Rational{Int64}[1//3, 5//6, -1//6]\n",
      "k = 3, r = 1: Rational{Int64}[-1//6, 5//6, 1//3]\n",
      "k = 3, r = 2: Rational{Int64}[1//3, -7//6, 11//6]\n"
     ]
    }
   ],
   "source": [
    "# Recreating entries from Table 2.1 of Shu (1998) lecture notes.\n",
    "\n",
    "k = 3\n",
    "for r in 0:k-1\n",
    "    println(\"k = $k, r = $r: $(cs(k ,r))\")\n",
    "end"
   ]
  },
  {
   "cell_type": "code",
   "execution_count": 19,
   "metadata": {},
   "outputs": [
    {
     "data": {
      "text/plain": [
       "5-element Array{Rational{Int64},1}:\n",
       "   1//30\n",
       " -13//60\n",
       "  47//60\n",
       "   9//20\n",
       "  -1//20"
      ]
     },
     "execution_count": 19,
     "metadata": {},
     "output_type": "execute_result"
    }
   ],
   "source": [
    "# Equation (2.14) of Shu (2009).\n",
    "cs(5, 2)"
   ]
  },
  {
   "cell_type": "code",
   "execution_count": 25,
   "metadata": {},
   "outputs": [
    {
     "data": {
      "text/plain": [
       "3-element Array{Rational{Int64},1}:\n",
       " 1//10\n",
       " 3//5 \n",
       " 3//10"
      ]
     },
     "execution_count": 25,
     "metadata": {},
     "output_type": "execute_result"
    }
   ],
   "source": [
    "C = zeros(Rational, 5, 3)\n",
    "b = cs(5, 2)\n",
    "\n",
    "C[1:3, 1] .= cs(3, 2)\n",
    "C[2:4, 2] .= cs(3, 1)\n",
    "C[3:5, 3] .= cs(3, 0)\n",
    "\n",
    "# These should be the optimal weights and match equation (2.15) from Shu (2009).\n",
    "Γ = rationalize.(C \\ b; tol=√eps(Float64))"
   ]
  },
  {
   "cell_type": "code",
   "execution_count": 37,
   "metadata": {},
   "outputs": [
    {
     "data": {
      "text/plain": [
       "5-element Array{Rational{Int64},1}:\n",
       "  1//126\n",
       " 10//63 \n",
       " 10//21 \n",
       " 20//63 \n",
       "  5//126"
      ]
     },
     "execution_count": 37,
     "metadata": {},
     "output_type": "execute_result"
    }
   ],
   "source": [
    "k = 5\n",
    "\n",
    "C = zeros(Rational, 2k-1, k)\n",
    "b = cs(2k-1, k-1)\n",
    "\n",
    "for i in 1:5\n",
    "    C[i:k-1+i, i] .= cs(k, k-i)\n",
    "end\n",
    "\n",
    "Γ = rationalize.(C \\ b; tol=√eps(Float64))"
   ]
  },
  {
   "cell_type": "code",
   "execution_count": null,
   "metadata": {},
   "outputs": [],
   "source": []
  }
 ],
 "metadata": {
  "kernelspec": {
   "display_name": "Julia 1.1.1",
   "language": "julia",
   "name": "julia-1.1"
  },
  "language_info": {
   "file_extension": ".jl",
   "mimetype": "application/julia",
   "name": "julia",
   "version": "1.1.1"
  }
 },
 "nbformat": 4,
 "nbformat_minor": 4
}
