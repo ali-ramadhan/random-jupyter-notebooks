{
 "cells": [
  {
   "cell_type": "code",
   "execution_count": 1,
   "metadata": {},
   "outputs": [],
   "source": [
    "using Printf"
   ]
  },
  {
   "cell_type": "code",
   "execution_count": 2,
   "metadata": {},
   "outputs": [
    {
     "data": {
      "text/plain": [
       "\"C:\\\\Users\\\\Ali\\\\Documents\\\\Git\\\\OceanDispatch.jl\""
      ]
     },
     "execution_count": 2,
     "metadata": {},
     "output_type": "execute_result"
    }
   ],
   "source": [
    "cd(\"C:\\\\Users\\\\Ali\\\\Documents\\\\Git\\\\OceanDispatch.jl\\\\\")\n",
    "pwd()"
   ]
  },
  {
   "cell_type": "code",
   "execution_count": 3,
   "metadata": {},
   "outputs": [
    {
     "name": "stderr",
     "output_type": "stream",
     "text": [
      "┌ Info: Ocean LES model parameters:\n",
      "│ NumType: Float64\n",
      "│ (Nˣ, Nʸ, Nᶻ) = (100, 100, 100) [#]\n",
      "│ (Lˣ, Lʸ, Lᶻ) = (2000, 2000, 2000) [m]\n",
      "│ (Δx, Δy, Δz) = (20.0, 20.0, 20.0) [m]\n",
      "│ (Aˣ, Aʸ, Aᶻ) = (400.0, 400.0, 400.0) [m²]\n",
      "│ V = 8000.0 [m³]\n",
      "│ M = 8.216e6 [kg]\n",
      "│ Nᵗ = 360 [s]\n",
      "│ Δt = 30 [s]\n",
      "└ @ Main C:\\Users\\Ali\\Documents\\Git\\OceanDispatch.jl\\examples\\deep_convection.jl:130\n",
      "┌ Info: T₀[50, 50, 1] = 283 K\n",
      "└ @ Main C:\\Users\\Ali\\Documents\\Git\\OceanDispatch.jl\\examples\\deep_convection.jl:178\n",
      "┌ Info: Time: 600\n",
      "│ uⁿ:   min=-0.000492036, max=0.000492746, mean=1.23396e-23, absmean=4.74214e-07, std=6.31898e-06\n",
      "│ vⁿ:   min=-0.000493245, max=0.000492225, mean=9.81881e-24, absmean=4.73377e-07, std=6.29849e-06\n",
      "│ wⁿ:   min=-0.000386012, max=0.000378587, mean=-1.00118e-22, absmean=7.31324e-07, std=7.07416e-06\n",
      "│ Tⁿ:   min=282.994, max=283, mean=283, absmean=283, std=0.000292293\n",
      "│ Sⁿ:   min=35, max=35, mean=35, absmean=35, std=0\n",
      "│ pʰʸ:  min=100714, max=2.00421e+07, mean=1.00714e+07, absmean=1.00714e+07, std=5.81445e+06\n",
      "│ pʰʸ′: min=0, max=0.183095, mean=0.0511802, absmean=0.0511802, std=0.0814096\n",
      "│ pⁿʰ⁺ˢ:min=-0.000132104, max=5.18164e-05, mean=-9.71445e-23, absmean=7.34336e-05, std=8.15459e-05\n",
      "│ pⁿ:   min=4.12605e-05, max=0.182968, mean=0.0511802, absmean=0.0511802, std=0.0813282\n",
      "│ ρⁿ:   min=1027, max=1027, mean=1027, absmean=1027, std=4.7769e-05\n",
      "│ δρ:   min=0, max=0.000906852, mean=2.62334e-06, absmean=2.62334e-06, std=4.7769e-05\n",
      "│ ∇⋅u1:  min=-1.65496e-19, max=1.40864e-19, mean=-2.33341e-26, absmean=1.63329e-20, std=2.18359e-20\n",
      "└ @ Main C:\\Users\\Ali\\Documents\\Git\\OceanDispatch.jl\\examples\\deep_convection.jl:319\n",
      "┌ Info: Time: 1200\n",
      "│ uⁿ:   min=-0.00180958, max=0.00181312, mean=-3.18484e-24, absmean=1.86295e-06, std=2.35539e-05\n",
      "│ vⁿ:   min=-0.00181371, max=0.0018104, mean=1.56396e-23, absmean=1.85761e-06, std=2.34148e-05\n",
      "│ wⁿ:   min=-0.00125529, max=0.00125128, mean=-7.71881e-22, absmean=2.86387e-06, std=2.52239e-05\n",
      "│ Tⁿ:   min=282.989, max=283, mean=283, absmean=283, std=0.00055982\n",
      "│ Sⁿ:   min=35, max=35, mean=35, absmean=35, std=0\n",
      "│ pʰʸ:  min=100714, max=2.00421e+07, mean=1.00714e+07, absmean=1.00714e+07, std=5.81445e+06\n",
      "│ pʰʸ′: min=0, max=0.371267, mean=0.103375, absmean=0.103375, std=0.16416\n",
      "│ pⁿʰ⁺ˢ:min=-0.000264289, max=0.000103052, mean=2.77556e-22, absmean=0.000145807, std=0.000161958\n",
      "│ pⁿ:   min=8.42639e-05, max=0.37101, mean=0.103375, absmean=0.103375, std=0.163998\n",
      "│ ρⁿ:   min=1027, max=1027, mean=1027, absmean=1027, std=9.3778e-05\n",
      "│ δρ:   min=0, max=0.00178384, mean=5.30022e-06, absmean=5.30022e-06, std=9.3778e-05\n",
      "│ ∇⋅u1:  min=-4.71601e-19, max=4.33816e-19, mean=-5.69811e-26, absmean=5.02169e-20, std=6.78933e-20\n",
      "└ @ Main C:\\Users\\Ali\\Documents\\Git\\OceanDispatch.jl\\examples\\deep_convection.jl:319\n",
      "┌ Info: Time: 1800\n",
      "│ uⁿ:   min=-0.00385424, max=0.00386669, mean=1.73472e-23, absmean=4.20138e-06, std=5.09207e-05\n",
      "│ vⁿ:   min=-0.0038623, max=0.00385769, mean=-1.24304e-22, absmean=4.18571e-06, std=5.05118e-05\n",
      "│ wⁿ:   min=-0.00235863, max=0.0024772, mean=-1.55393e-21, absmean=6.46381e-06, std=5.28866e-05\n",
      "│ Tⁿ:   min=282.984, max=283, mean=283, absmean=283, std=0.000813864\n",
      "│ Sⁿ:   min=35, max=35, mean=35, absmean=35, std=0\n",
      "│ pʰʸ:  min=100714, max=2.00421e+07, mean=1.00714e+07, absmean=1.00714e+07, std=5.81445e+06\n",
      "│ pʰʸ′: min=0, max=0.565143, mean=0.155538, absmean=0.155538, std=0.246989\n",
      "│ pⁿʰ⁺ˢ:min=-0.00040219, max=0.000154256, mean=1.11022e-22, absmean=0.000218203, std=0.000242444\n",
      "│ pⁿ:   min=0.000129087, max=0.564751, mean=0.155538, absmean=0.155538, std=0.246747\n",
      "│ ρⁿ:   min=1027, max=1027, mean=1027, absmean=1027, std=0.000137456\n",
      "│ δρ:   min=0, max=0.00262782, mean=7.9771e-06, absmean=7.9771e-06, std=0.000137456\n",
      "│ ∇⋅u1:  min=-8.90049e-19, max=8.82581e-19, mean=1.61645e-25, absmean=9.89564e-20, std=1.35532e-19\n",
      "└ @ Main C:\\Users\\Ali\\Documents\\Git\\OceanDispatch.jl\\examples\\deep_convection.jl:319\n",
      "┌ Info: Time: 2400\n",
      "│ uⁿ:   min=-0.00657862, max=0.00662945, mean=2.2382e-23, absmean=7.53821e-06, std=8.83262e-05\n",
      "│ vⁿ:   min=-0.00659076, max=0.00659146, mean=-1.84965e-22, absmean=7.5046e-06, std=8.74625e-05\n",
      "│ wⁿ:   min=-0.00363769, max=0.00410578, mean=-1.4053e-21, absmean=1.16399e-05, std=9.00331e-05\n",
      "│ Tⁿ:   min=282.98, max=283, mean=283, absmean=283, std=0.00105637\n",
      "│ Sⁿ:   min=35, max=35, mean=35, absmean=35, std=0\n",
      "│ pʰʸ:  min=100714, max=2.00421e+07, mean=1.00714e+07, absmean=1.00714e+07, std=5.81445e+06\n",
      "│ pʰʸ′: min=0, max=0.772175, mean=0.207669, absmean=0.207669, std=0.330355\n",
      "│ pⁿʰ⁺ˢ:min=-0.000553172, max=0.000205483, mean=-5.10703e-21, absmean=0.000290981, std=0.000323449\n",
      "│ pⁿ:   min=0.000172677, max=0.771632, mean=0.207669, absmean=0.207669, std=0.330033\n",
      "│ ρⁿ:   min=1027, max=1027, mean=1027, absmean=1027, std=0.00017914\n",
      "│ δρ:   min=0, max=0.0034573, mean=1.0654e-05, absmean=1.0654e-05, std=0.00017914\n",
      "│ ∇⋅u1:  min=-1.43484e-18, max=1.50746e-18, mean=5.09142e-25, absmean=1.62525e-19, std=2.20813e-19\n",
      "└ @ Main C:\\Users\\Ali\\Documents\\Git\\OceanDispatch.jl\\examples\\deep_convection.jl:319\n",
      "┌ Info: Time: 3000\n",
      "│ uⁿ:   min=-0.00994653, max=0.0101352, mean=-4.11658e-22, absmean=1.19606e-05, std=0.000136228\n",
      "│ vⁿ:   min=-0.0099631, max=0.00998506, mean=1.9494e-22, absmean=1.18977e-05, std=0.000134696\n",
      "│ wⁿ:   min=-0.00500148, max=0.0063483, mean=-2.54541e-21, absmean=1.8524e-05, std=0.000137441\n",
      "│ Tⁿ:   min=282.975, max=283.001, mean=283, absmean=283, std=0.00128884\n",
      "│ Sⁿ:   min=35, max=35, mean=35, absmean=35, std=0\n",
      "│ pʰʸ:  min=100714, max=2.00421e+07, mean=1.00714e+07, absmean=1.00714e+07, std=5.81445e+06\n",
      "│ pʰʸ′: min=-0.0188515, max=1.00304, mean=0.259766, absmean=0.259819, std=0.414723\n",
      "│ pⁿʰ⁺ˢ:min=-0.000727707, max=0.000268256, mean=-4.77396e-21, absmean=0.000364363, std=0.000405422\n",
      "│ pⁿ:   min=-0.0186632, max=1.00233, mean=0.259766, absmean=0.259817, std=0.414319\n",
      "│ ρⁿ:   min=1027, max=1027, mean=1027, absmean=1027, std=0.000219091\n",
      "│ δρ:   min=-0.00013841, max=0.00429321, mean=1.33309e-05, absmean=1.33475e-05, std=0.000219091\n",
      "│ ∇⋅u1:  min=-1.96203e-18, max=2.20467e-18, mean=6.39357e-25, absmean=2.36693e-19, std=3.24593e-19\n",
      "└ @ Main C:\\Users\\Ali\\Documents\\Git\\OceanDispatch.jl\\examples\\deep_convection.jl:319\n",
      "┌ Info: Time: 3600\n",
      "│ uⁿ:   min=-0.013859, max=0.014342, mean=-6.0157e-22, absmean=1.75907e-05, std=0.000195569\n",
      "│ vⁿ:   min=-0.0139029, max=0.01399, mean=-8.00358e-22, absmean=1.74838e-05, std=0.000193129\n",
      "│ wⁿ:   min=-0.0070739, max=0.00945047, mean=-2.67212e-21, absmean=2.7233e-05, std=0.000196055\n",
      "│ Tⁿ:   min=282.97, max=283.003, mean=283, absmean=283, std=0.00151232\n",
      "│ Sⁿ:   min=35, max=35, mean=35, absmean=35, std=0\n",
      "│ pʰʸ:  min=100714, max=2.00421e+07, mean=1.00714e+07, absmean=1.00714e+07, std=5.81445e+06\n",
      "│ pʰʸ′: min=-0.0752092, max=1.27125, mean=0.311822, absmean=0.312588, std=0.500499\n",
      "│ pⁿʰ⁺ˢ:min=-0.000938978, max=0.00036615, mean=3.44169e-21, absmean=0.00043822, std=0.000488754\n",
      "│ pⁿ:   min=-0.074965, max=1.27033, mean=0.311822, absmean=0.312578, std=0.500011\n",
      "│ ρⁿ:   min=1027, max=1027.01, mean=1027, absmean=1027, std=0.000257495\n",
      "│ δρ:   min=-0.000462207, max=0.00514308, mean=1.60077e-05, absmean=1.61133e-05, std=0.000257495\n",
      "│ ∇⋅u1:  min=-2.83096e-18, max=3.32709e-18, mean=-4.56508e-25, absmean=3.31606e-19, std=4.5528e-19\n",
      "└ @ Main C:\\Users\\Ali\\Documents\\Git\\OceanDispatch.jl\\examples\\deep_convection.jl:319\n",
      "┌ Info: Time: 4200\n",
      "│ uⁿ:   min=-0.0184343, max=0.0188891, mean=-3.09702e-22, absmean=2.45864e-05, std=0.000267687\n",
      "│ vⁿ:   min=-0.0181156, max=0.0183794, mean=-5.35596e-22, absmean=2.44206e-05, std=0.000264081\n",
      "│ wⁿ:   min=-0.00907533, max=0.0135131, mean=-6.21194e-21, absmean=3.78079e-05, std=0.000266426\n",
      "│ Tⁿ:   min=282.965, max=283.005, mean=283, absmean=283, std=0.00172735\n",
      "│ Sⁿ:   min=35, max=35, mean=35, absmean=35, std=3.41209e-16\n",
      "│ pʰʸ:  min=100714, max=2.00421e+07, mean=1.00714e+07, absmean=1.00714e+07, std=5.81445e+06\n",
      "│ pʰʸ′: min=-0.143435, max=1.58285, mean=0.363831, absmean=0.365842, std=0.587959\n",
      "│ pⁿʰ⁺ˢ:min=-0.0011924, max=0.000468232, mean=1.44329e-21, absmean=0.000511885, std=0.000573704\n",
      "│ pⁿ:   min=-0.14314, max=1.58168, mean=0.363831, absmean=0.365828, std=0.587387\n",
      "│ ρⁿ:   min=1027, max=1027.01, mean=1027, absmean=1027, std=0.000294446\n",
      "│ δρ:   min=-0.00090785, max=0.00599368, mean=1.86846e-05, absmean=1.89009e-05, std=0.000294446\n",
      "│ ∇⋅u1:  min=-3.42662e-18, max=4.55793e-18, mean=3.43746e-25, absmean=4.37494e-19, std=5.98181e-19\n",
      "└ @ Main C:\\Users\\Ali\\Documents\\Git\\OceanDispatch.jl\\examples\\deep_convection.jl:319\n"
     ]
    },
    {
     "name": "stderr",
     "output_type": "stream",
     "text": [
      "┌ Info: Time: 4800\n",
      "│ uⁿ:   min=-0.0232702, max=0.0229828, mean=4.14707e-23, absmean=3.31218e-05, std=0.00035411\n",
      "│ vⁿ:   min=-0.0225019, max=0.0224404, mean=4.44089e-22, absmean=3.28651e-05, std=0.000349072\n",
      "│ wⁿ:   min=-0.0111329, max=0.0180088, mean=-4.98278e-21, absmean=5.02696e-05, std=0.0003486\n",
      "│ Tⁿ:   min=282.959, max=283.008, mean=283, absmean=283, std=0.00193384\n",
      "│ Sⁿ:   min=35, max=35, mean=35, absmean=35, std=1.99896e-15\n",
      "│ pʰʸ:  min=100714, max=2.00421e+07, mean=1.00714e+07, absmean=1.00714e+07, std=5.81445e+06\n",
      "│ pʰʸ′: min=-0.187339, max=1.9134, mean=0.415784, absmean=0.417993, std=0.677193\n",
      "│ pⁿʰ⁺ˢ:min=-0.0014643, max=0.000537752, mean=-2.88658e-21, absmean=0.000584328, std=0.000660348\n",
      "│ pⁿ:   min=-0.187028, max=1.91197, mean=0.415784, absmean=0.417977, std=0.676534\n",
      "│ ρⁿ:   min=1027, max=1027.01, mean=1027, absmean=1027, std=0.000329936\n",
      "│ δρ:   min=-0.001289, max=0.00697014, mean=2.13615e-05, absmean=2.16503e-05, std=0.000329936\n",
      "│ ∇⋅u1:  min=-4.25209e-18, max=5.59259e-18, mean=-5.68399e-25, absmean=5.46231e-19, std=7.48278e-19\n",
      "└ @ Main C:\\Users\\Ali\\Documents\\Git\\OceanDispatch.jl\\examples\\deep_convection.jl:319\n",
      "┌ Info: Time: 5400\n",
      "│ uⁿ:   min=-0.0293416, max=0.0310727, mean=1.08778e-21, absmean=4.34668e-05, std=0.00045629\n",
      "│ vⁿ:   min=-0.0294615, max=0.0289864, mean=-1.84965e-21, absmean=4.30659e-05, std=0.000449537\n",
      "│ wⁿ:   min=-0.0140365, max=0.021462, mean=-4.25734e-21, absmean=6.5429e-05, std=0.000442775\n",
      "│ Tⁿ:   min=282.954, max=283.007, mean=283, absmean=283, std=0.00213116\n",
      "│ Sⁿ:   min=35, max=35, mean=35, absmean=35, std=4.23047e-15\n",
      "│ pʰʸ:  min=100714, max=2.00421e+07, mean=1.00714e+07, absmean=1.00714e+07, std=5.81445e+06\n",
      "│ pʰʸ′: min=-0.168425, max=2.34511, mean=0.467667, absmean=0.468536, std=0.767888\n",
      "│ pⁿʰ⁺ˢ:min=-0.00183673, max=0.000548007, mean=-1.88738e-21, absmean=0.000656119, std=0.000748359\n",
      "│ pⁿ:   min=-0.168143, max=2.3433, mean=0.467667, absmean=0.468526, std=0.767141\n",
      "│ ρⁿ:   min=1027, max=1027.01, mean=1027, absmean=1027, std=0.00036386\n",
      "│ δρ:   min=-0.00120303, max=0.00788571, mean=2.40384e-05, absmean=2.43094e-05, std=0.00036386\n",
      "│ ∇⋅u1:  min=-5.23599e-18, max=6.4799e-18, mean=1.45059e-24, absmean=6.68361e-19, std=9.17265e-19\n",
      "└ @ Main C:\\Users\\Ali\\Documents\\Git\\OceanDispatch.jl\\examples\\deep_convection.jl:319\n",
      "┌ Info: Time: 6000\n",
      "│ uⁿ:   min=-0.0368787, max=0.0374491, mean=2.07289e-21, absmean=5.60977e-05, std=0.000575571\n",
      "│ vⁿ:   min=-0.0356819, max=0.035826, mean=1.39038e-21, absmean=5.55496e-05, std=0.000566885\n",
      "│ wⁿ:   min=-0.0171982, max=0.0222484, mean=8.96635e-22, absmean=8.37377e-05, std=0.000549748\n",
      "│ Tⁿ:   min=282.948, max=283.005, mean=283, absmean=283, std=0.00231833\n",
      "│ Sⁿ:   min=35, max=35, mean=35, absmean=35, std=7.86404e-15\n",
      "│ pʰʸ:  min=100714, max=2.00421e+07, mean=1.00714e+07, absmean=1.00714e+07, std=5.81445e+06\n",
      "│ pʰʸ′: min=-0.103381, max=2.77459, mean=0.519465, absmean=0.519576, std=0.858936\n",
      "│ pⁿʰ⁺ˢ:min=-0.00220514, max=0.000543504, mean=-3.9968e-21, absmean=0.000727475, std=0.000836632\n",
      "│ pⁿ:   min=-0.103151, max=2.77243, mean=0.519465, absmean=0.519573, std=0.858102\n",
      "│ ρⁿ:   min=1027, max=1027.01, mean=1027, absmean=1027, std=0.000396054\n",
      "│ δρ:   min=-0.000838937, max=0.00894343, mean=2.67153e-05, absmean=2.69184e-05, std=0.000396054\n",
      "│ ∇⋅u1:  min=-5.85919e-18, max=7.16528e-18, mean=1.25037e-24, absmean=7.97763e-19, std=1.09958e-18\n",
      "└ @ Main C:\\Users\\Ali\\Documents\\Git\\OceanDispatch.jl\\examples\\deep_convection.jl:319\n",
      "┌ Info: Time: 6600\n",
      "│ uⁿ:   min=-0.0430111, max=0.0441447, mean=1.19479e-21, absmean=7.16138e-05, std=0.000713043\n",
      "│ vⁿ:   min=-0.0438667, max=0.0425225, mean=-1.32359e-21, absmean=7.08304e-05, std=0.000702632\n",
      "│ wⁿ:   min=-0.020676, max=0.0232881, mean=8.95443e-22, absmean=0.00010494, std=0.000670557\n",
      "│ Tⁿ:   min=282.942, max=283.003, mean=283, absmean=283, std=0.00249443\n",
      "│ Sⁿ:   min=35, max=35, mean=35, absmean=35, std=1.46316e-14\n",
      "│ pʰʸ:  min=100714, max=2.00421e+07, mean=1.00714e+07, absmean=1.00714e+07, std=5.81445e+06\n",
      "│ pʰʸ′: min=-0.078566, max=3.28265, mean=0.571155, absmean=0.5713, std=0.948721\n",
      "│ pⁿʰ⁺ˢ:min=-0.00264741, max=0.000605319, mean=-2.22045e-21, absmean=0.000798375, std=0.000923593\n",
      "│ pⁿ:   min=-0.078333, max=3.28006, mean=0.571155, absmean=0.571294, std=0.9478\n",
      "│ ρⁿ:   min=1027, max=1027.01, mean=1027, absmean=1027, std=0.000426355\n",
      "│ δρ:   min=-0.000542052, max=0.00986631, mean=2.93921e-05, absmean=2.95357e-05, std=0.000426355\n",
      "│ ∇⋅u1:  min=-7.04227e-18, max=9.63812e-18, mean=8.3039e-25, absmean=9.49902e-19, std=1.30707e-18\n",
      "└ @ Main C:\\Users\\Ali\\Documents\\Git\\OceanDispatch.jl\\examples\\deep_convection.jl:319\n",
      "┌ Info: Time: 7200\n",
      "│ uⁿ:   min=-0.0531142, max=0.054909, mean=2.91997e-21, absmean=9.04367e-05, std=0.000869198\n",
      "│ vⁿ:   min=-0.0531115, max=0.0480511, mean=1.7434e-21, absmean=8.93927e-05, std=0.000857945\n",
      "│ wⁿ:   min=-0.0247343, max=0.0231183, mean=8.08338e-21, absmean=0.00013041, std=0.00080715\n",
      "│ Tⁿ:   min=282.937, max=283.004, mean=283, absmean=283, std=0.00265868\n",
      "│ Sⁿ:   min=35, max=35, mean=35, absmean=35, std=2.57109e-14\n",
      "│ pʰʸ:  min=100714, max=2.00421e+07, mean=1.00714e+07, absmean=1.00714e+07, std=5.81445e+06\n",
      "│ pʰʸ′: min=-0.105108, max=3.81292, mean=0.622711, absmean=0.623073, std=1.03652\n",
      "│ pⁿʰ⁺ˢ:min=-0.00310711, max=0.000682567, mean=-4.66294e-21, absmean=0.000872802, std=0.00100861\n",
      "│ pⁿ:   min=-0.104862, max=3.80988, mean=0.622711, absmean=0.623062, std=1.03552\n",
      "│ ρⁿ:   min=1027, max=1027.01, mean=1027, absmean=1027, std=0.00045463\n",
      "│ δρ:   min=-0.000623678, max=0.0107902, mean=3.2069e-05, absmean=3.22408e-05, std=0.00045463\n",
      "│ ∇⋅u1:  min=-8.42078e-18, max=1.13928e-17, mean=8.24621e-25, absmean=1.10677e-18, std=1.5273e-18\n",
      "└ @ Main C:\\Users\\Ali\\Documents\\Git\\OceanDispatch.jl\\examples\\deep_convection.jl:319\n",
      "┌ Info: Time: 7800\n",
      "│ uⁿ:   min=-0.061583, max=0.0655579, mean=1.55301e-21, absmean=0.000112921, std=0.00104421\n",
      "│ vⁿ:   min=-0.0597725, max=0.0562365, mean=-8.28851e-21, absmean=0.000111759, std=0.00103401\n",
      "│ wⁿ:   min=-0.0293869, max=0.0276215, mean=2.0478e-20, absmean=0.000160313, std=0.000962916\n",
      "│ Tⁿ:   min=282.932, max=283.007, mean=283, absmean=283, std=0.00281058\n",
      "│ Sⁿ:   min=35, max=35, mean=35, absmean=35, std=4.16823e-14\n",
      "│ pʰʸ:  min=100714, max=2.00421e+07, mean=1.00714e+07, absmean=1.00714e+07, std=5.81445e+06\n",
      "│ pʰʸ′: min=-0.164819, max=4.2538, mean=0.674101, absmean=0.674485, std=1.12367\n",
      "│ pⁿʰ⁺ˢ:min=-0.00349137, max=0.000725989, mean=0, absmean=0.000946899, std=0.00109303\n",
      "│ pⁿ:   min=-0.16492, max=4.25039, mean=0.674101, absmean=0.674474, std=1.12258\n",
      "│ ρⁿ:   min=1027, max=1027.01, mean=1027, absmean=1027, std=0.000480788\n",
      "│ δρ:   min=-0.00108005, max=0.0115789, mean=3.47459e-05, absmean=3.49809e-05, std=0.000480788\n",
      "│ ∇⋅u1:  min=-1.00805e-17, max=1.37858e-17, mean=1.61765e-24, absmean=1.27118e-18, std=1.75957e-18\n",
      "└ @ Main C:\\Users\\Ali\\Documents\\Git\\OceanDispatch.jl\\examples\\deep_convection.jl:319\n",
      "┌ Info: Time: 8400\n",
      "│ uⁿ:   min=-0.076489, max=0.0682481, mean=-7.75421e-22, absmean=0.000139457, std=0.00123907\n",
      "│ vⁿ:   min=-0.0659702, max=0.0710019, mean=-3.03924e-21, absmean=0.000138178, std=0.00123091\n",
      "│ wⁿ:   min=-0.0323085, max=0.0292877, mean=4.04004e-20, absmean=0.000195249, std=0.00113981\n",
      "│ Tⁿ:   min=282.924, max=283.011, mean=283, absmean=283, std=0.00295007\n",
      "│ Sⁿ:   min=35, max=35, mean=35, absmean=35, std=6.24853e-14\n",
      "│ pʰʸ:  min=100714, max=2.00421e+07, mean=1.00714e+07, absmean=1.00714e+07, std=5.81445e+06\n",
      "│ pʰʸ′: min=-0.180455, max=4.53258, mean=0.725294, absmean=0.725382, std=1.21092\n",
      "│ pⁿʰ⁺ˢ:min=-0.00372619, max=0.000761302, mean=-1.33227e-21, absmean=0.00101709, std=0.00117752\n",
      "│ pⁿ:   min=-0.182026, max=4.52894, mean=0.725294, absmean=0.725376, std=1.20974\n",
      "│ ρⁿ:   min=1027, max=1027.01, mean=1027, absmean=1027, std=0.000504817\n",
      "│ δρ:   min=-0.00184012, max=0.012899, mean=3.74228e-05, absmean=3.77058e-05, std=0.000504817\n",
      "│ ∇⋅u1:  min=-1.09418e-17, max=1.60007e-17, mean=1.50875e-25, absmean=1.45747e-18, std=2.0154e-18\n",
      "└ @ Main C:\\Users\\Ali\\Documents\\Git\\OceanDispatch.jl\\examples\\deep_convection.jl:319\n",
      "┌ Info: Time: 9000\n",
      "│ uⁿ:   min=-0.0880322, max=0.0992611, mean=-4.76182e-22, absmean=0.000170516, std=0.00145489\n",
      "│ vⁿ:   min=-0.0750236, max=0.0752334, mean=-4.7861e-21, absmean=0.000169309, std=0.00144847\n",
      "│ wⁿ:   min=-0.0400404, max=0.0352756, mean=4.36769e-20, absmean=0.000236105, std=0.00133726\n",
      "│ Tⁿ:   min=282.924, max=283.012, mean=283, absmean=283, std=0.0030775\n",
      "│ Sⁿ:   min=35, max=35, mean=35, absmean=35, std=8.90619e-14\n",
      "│ pʰʸ:  min=100714, max=2.00421e+07, mean=1.00714e+07, absmean=1.00714e+07, std=5.81445e+06\n",
      "│ pʰʸ′: min=-0.205486, max=5.32452, mean=0.776261, absmean=0.776339, std=1.29456\n",
      "│ pⁿʰ⁺ˢ:min=-0.00442386, max=0.000820304, mean=3.77476e-21, absmean=0.00108396, std=0.0012584\n",
      "│ pⁿ:   min=-0.207081, max=5.32018, mean=0.776261, absmean=0.776327, std=1.29331\n",
      "│ ρⁿ:   min=1027, max=1027.01, mean=1027, absmean=1027, std=0.000526774\n",
      "│ δρ:   min=-0.00209537, max=0.012952, mean=4.00996e-05, absmean=4.04722e-05, std=0.000526774\n",
      "│ ∇⋅u1:  min=-1.22583e-17, max=1.64391e-17, mean=-2.90789e-24, absmean=1.65329e-18, std=2.29305e-18\n",
      "└ @ Main C:\\Users\\Ali\\Documents\\Git\\OceanDispatch.jl\\examples\\deep_convection.jl:319\n"
     ]
    },
    {
     "name": "stderr",
     "output_type": "stream",
     "text": [
      "┌ Info: Time: 9600\n",
      "│ uⁿ:   min=-0.0932411, max=0.125565, mean=-6.20684e-21, absmean=0.000206979, std=0.00169962\n",
      "│ vⁿ:   min=-0.085399, max=0.118727, mean=-7.12624e-21, absmean=0.000205928, std=0.0016939\n",
      "│ wⁿ:   min=-0.0512084, max=0.0403768, mean=5.36376e-20, absmean=0.000284476, std=0.00155894\n",
      "│ Tⁿ:   min=282.919, max=283.015, mean=283, absmean=283, std=0.00319355\n",
      "│ Sⁿ:   min=35, max=35, mean=35, absmean=35, std=1.21658e-13\n",
      "│ pʰʸ:  min=100714, max=2.00421e+07, mean=1.00714e+07, absmean=1.00714e+07, std=5.81445e+06\n",
      "│ pʰʸ′: min=-0.270186, max=5.24034, mean=0.826963, absmean=0.827125, std=1.37564\n",
      "│ pⁿʰ⁺ˢ:min=-0.0042962, max=0.000897819, mean=1.77636e-21, absmean=0.00115444, std=0.00133699\n",
      "│ pⁿ:   min=-0.271437, max=5.23618, mean=0.826963, absmean=0.827109, std=1.37431\n",
      "│ ρⁿ:   min=1027, max=1027.01, mean=1027, absmean=1027, std=0.000546773\n",
      "│ δρ:   min=-0.00233692, max=0.0139149, mean=4.27765e-05, absmean=4.32907e-05, std=0.000546773\n",
      "│ ∇⋅u1:  min=-1.38816e-17, max=1.89605e-17, mean=-4.19095e-24, absmean=1.86851e-18, std=2.59872e-18\n",
      "└ @ Main C:\\Users\\Ali\\Documents\\Git\\OceanDispatch.jl\\examples\\deep_convection.jl:319\n",
      "┌ Info: Time: 10200\n",
      "│ uⁿ:   min=-0.112541, max=0.246585, mean=-7.36477e-21, absmean=0.000251021, std=0.00202975\n",
      "│ vⁿ:   min=-0.147469, max=0.198981, mean=-4.23966e-21, absmean=0.000250195, std=0.0019981\n",
      "│ wⁿ:   min=-0.052411, max=0.0508751, mean=6.21577e-20, absmean=0.000343207, std=0.00182327\n",
      "│ Tⁿ:   min=282.912, max=283.02, mean=283, absmean=283, std=0.00329775\n",
      "│ Sⁿ:   min=35, max=35, mean=35, absmean=35, std=1.58865e-13\n",
      "│ pʰʸ:  min=100714, max=2.00421e+07, mean=1.00714e+07, absmean=1.00714e+07, std=5.81445e+06\n",
      "│ pʰʸ′: min=-0.474327, max=6.17726, mean=0.877321, absmean=0.87755, std=1.46437\n",
      "│ pⁿʰ⁺ˢ:min=-0.0116236, max=0.00292951, mean=2.88658e-21, absmean=0.00122412, std=0.00142374\n",
      "│ pⁿ:   min=-0.475037, max=6.17222, mean=0.877321, absmean=0.877537, std=1.46295\n",
      "│ ρⁿ:   min=1027, max=1027.02, mean=1027, absmean=1027, std=0.000564757\n",
      "│ δρ:   min=-0.00343514, max=0.0166701, mean=4.54534e-05, absmean=4.60723e-05, std=0.000564757\n",
      "│ ∇⋅u1:  min=-1.50969e-17, max=2.23172e-17, mean=4.52854e-24, absmean=2.09824e-18, std=2.92958e-18\n",
      "└ @ Main C:\\Users\\Ali\\Documents\\Git\\OceanDispatch.jl\\examples\\deep_convection.jl:319\n",
      "┌ Info: Time: 10800\n",
      "│ uⁿ:   min=-391.053, max=1145.09, mean=8.2484e-19, absmean=0.00748, std=1.41697\n",
      "│ vⁿ:   min=-628.17, max=844.603, mean=4.61436e-20, absmean=0.00634514, std=1.18511\n",
      "│ wⁿ:   min=-243.943, max=275.963, mean=-7.90342e-18, absmean=0.0046277, std=0.611941\n",
      "│ Tⁿ:   min=105.384, max=398.882, mean=283, absmean=283, std=0.236588\n",
      "│ Sⁿ:   min=35, max=35, mean=35, absmean=35, std=2.32306e-12\n",
      "│ pʰʸ:  min=100714, max=2.00421e+07, mean=1.00714e+07, absmean=1.00714e+07, std=5.81445e+06\n",
      "│ pʰʸ′: min=-86.5045, max=106.539, mean=0.927317, absmean=0.994876, std=2.58764\n",
      "│ pⁿʰ⁺ˢ:min=-273.354, max=152.828, mean=-2.27374e-19, absmean=0.00997671, std=0.545502\n",
      "│ pⁿ:   min=-288.528, max=187.83, mean=0.927317, absmean=0.999092, std=2.64468\n",
      "│ ρⁿ:   min=1026.55, max=1027.61, mean=1027, absmean=1027, std=0.00150739\n",
      "│ δρ:   min=-0.450932, max=0.608517, mean=4.81303e-05, absmean=5.44102e-05, std=0.00150739\n",
      "│ ∇⋅u1:  min=-1.63709e-14, max=3.91083e-14, mean=-3.53074e-21, absmean=2.65362e-17, std=8.8016e-17\n",
      "└ @ Main C:\\Users\\Ali\\Documents\\Git\\OceanDispatch.jl\\examples\\deep_convection.jl:319\n"
     ]
    }
   ],
   "source": [
    "include(\"examples\\\\deep_convection.jl\")"
   ]
  },
  {
   "cell_type": "code",
   "execution_count": 6,
   "metadata": {},
   "outputs": [],
   "source": [
    "using Interact, PyPlot"
   ]
  },
  {
   "cell_type": "code",
   "execution_count": null,
   "metadata": {},
   "outputs": [],
   "source": [
    "PyPlot.close(\"all\")\n",
    "fig = PyPlot.figure(figsize=(6.5, 5))\n",
    "@manipulate for t in 5:5:Nᵗ\n",
    "    @manipulate for k in 1:Nᶻ\n",
    "        withfig(fig) do\n",
    "            PyPlot.pcolormesh(xC, yC, Ru[t,:,:,k], cmap=\"bwr\")\n",
    "            PyPlot.title(\"u-velocity @ time step n=$t, z-level k=$k\")\n",
    "            PyPlot.xlabel(\"x\")\n",
    "            PyPlot.ylabel(\"y\")\n",
    "            PyPlot.colorbar(label=\"m/s\")\n",
    "        end\n",
    "    end\n",
    "end"
   ]
  },
  {
   "cell_type": "code",
   "execution_count": null,
   "metadata": {},
   "outputs": [],
   "source": [
    "t, k = Int(N\\^t /ΔR), 50\n",
    "PyPlot.pcolormesh(xC, yC, Ru[t,:,:,k], cmap=\"bwr\")\n",
    "PyPlot.title(\"u-velocity @ time step n=$(t*ΔR), z-level k=$k\")\n",
    "PyPlot.xlabel(\"x\")\n",
    "PyPlot.ylabel(\"y\")\n",
    "PyPlot.colorbar(label=\"m/s\")"
   ]
  },
  {
   "cell_type": "code",
   "execution_count": null,
   "metadata": {},
   "outputs": [],
   "source": [
    "PyPlot.close(\"all\")\n",
    "fig = PyPlot.figure(figsize=(6.5, 5))\n",
    "@manipulate for t in 1:Int(Nᵗ/ΔR)\n",
    "    @manipulate for j in 1:Nʸ\n",
    "        withfig(fig) do\n",
    "            PyPlot.pcolormesh(xC, zC, copy(RT[t, :, j, :]') .- 283, cmap=\"bwr\")\n",
    "            PyPlot.title(\"Temperature @ time step n=$t, y-slice j=$j\")\n",
    "            PyPlot.xlabel(\"x (m)\")\n",
    "            PyPlot.ylabel(\"z (m)\")\n",
    "            PyPlot.colorbar(label=\"K\")\n",
    "        end\n",
    "    end\n",
    "end"
   ]
  },
  {
   "cell_type": "code",
   "execution_count": null,
   "metadata": {},
   "outputs": [],
   "source": [
    "t, j = Int(980/ΔR), 50\n",
    "PyPlot.pcolormesh(xC, zC, copy(RT[t, :, j, :]') .- 283, cmap=\"bwr\")\n",
    "PyPlot.title(\"Temperature change @ time step n=$(t*ΔR), y-slice j=$j\")\n",
    "PyPlot.xlabel(\"x (m)\")\n",
    "PyPlot.ylabel(\"z (m)\")\n",
    "PyPlot.colorbar(label=\"K\")"
   ]
  },
  {
   "cell_type": "code",
   "execution_count": null,
   "metadata": {},
   "outputs": [],
   "source": [
    "PyPlot.close(\"all\")\n",
    "fig = PyPlot.figure(figsize=(6.5, 5))\n",
    "@manipulate for t in 1:Int(Nᵗ/ΔR)\n",
    "    @manipulate for k in 1:Nᶻ\n",
    "        withfig(fig) do\n",
    "            PyPlot.pcolormesh(xC, yC, RT[t,:,:,k] .- 283, cmap=\"bwr\")\n",
    "            PyPlot.title(\"Temperature change @ time step n=$t, z-level k=$k\")\n",
    "            PyPlot.xlabel(\"x\")\n",
    "            PyPlot.ylabel(\"y\")\n",
    "            PyPlot.colorbar(label=\"K\")\n",
    "        end\n",
    "    end\n",
    "end"
   ]
  },
  {
   "cell_type": "code",
   "execution_count": null,
   "metadata": {},
   "outputs": [],
   "source": [
    "PyPlot.close(\"all\")\n",
    "fig = PyPlot.figure(figsize=(6.5, 5))\n",
    "@manipulate for t in 1:Nᵗ\n",
    "    @manipulate for k in 1:Nᶻ\n",
    "        withfig(fig) do\n",
    "            PyPlot.pcolormesh(xC, yC, Rw[t,:,:,k], cmap=\"bwr\", vmin=-0.004, vmax=0.004)\n",
    "            PyPlot.title(\"w-velocity @ time step n=$t, z-level k=$k\")\n",
    "            PyPlot.xlabel(\"x\")\n",
    "            PyPlot.ylabel(\"y\")\n",
    "            PyPlot.colorbar(label=\"m/s\")\n",
    "        end\n",
    "    end\n",
    "end"
   ]
  },
  {
   "cell_type": "code",
   "execution_count": 9,
   "metadata": {},
   "outputs": [
    {
     "data": {
      "image/png": "[encoded data removed]",
      "text/plain": [
       "Figure(PyObject <matplotlib.figure.Figure object at 0x0000000063B46A20>)"
      ]
     },
     "metadata": {},
     "output_type": "display_data"
    },
    {
     "data": {
      "text/plain": [
       "PyObject <matplotlib.colorbar.Colorbar object at 0x0000000063BEC7F0>"
      ]
     },
     "execution_count": 9,
     "metadata": {},
     "output_type": "execute_result"
    }
   ],
   "source": [
    "t, j = 360, 50\n",
    "PyPlot.pcolormesh(xC, zC, copy(RT[end, :, j, :]') .- 283, vmin=-0.1, vmax=0.1, cmap=\"seismic\")\n",
    "PyPlot.title(\"Temperature change @ time step n=$t, y-slice j=$j\")\n",
    "PyPlot.xlabel(\"x (m)\")\n",
    "PyPlot.ylabel(\"z (m)\")\n",
    "PyPlot.colorbar(label=\"K\")"
   ]
  },
  {
   "cell_type": "code",
   "execution_count": null,
   "metadata": {},
   "outputs": [],
   "source": [
    "PyPlot.close(\"all\")\n",
    "fig = PyPlot.figure(figsize=(6.5, 5))\n",
    "@manipulate for t in 1:Nᵗ\n",
    "    @manipulate for k in 1:Nᶻ\n",
    "        withfig(fig) do\n",
    "            PyPlot.pcolormesh(xC, yC, RpNHS[t,:,:,k], cmap=\"bwr\")\n",
    "            PyPlot.title(\"pHY+S @ time step n=$t, z-level k=$k\")\n",
    "            PyPlot.xlabel(\"x\")\n",
    "            PyPlot.ylabel(\"y\")\n",
    "            PyPlot.colorbar(label=\"Pa\")\n",
    "        end\n",
    "   end\n",
    "end"
   ]
  },
  {
   "cell_type": "code",
   "execution_count": null,
   "metadata": {},
   "outputs": [],
   "source": [
    "t, k = 178, 3\n",
    "PyPlot.pcolormesh(xC, yC, Rw[t,:,:,k], cmap=\"bwr\")\n",
    "PyPlot.title(\"w-velocity @ time step n=$t, z-level k=$k\")\n",
    "PyPlot.xlabel(\"x\")\n",
    "PyPlot.ylabel(\"y\")\n",
    "PyPlot.colorbar(label=\"m/s\")"
   ]
  },
  {
   "cell_type": "code",
   "execution_count": 14,
   "metadata": {},
   "outputs": [
    {
     "data": {
      "image/png": "[encoded data removed]",
      "text/plain": [
       "Figure(PyObject <matplotlib.figure.Figure object at 0x0000000063E48390>)"
      ]
     },
     "metadata": {},
     "output_type": "display_data"
    }
   ],
   "source": [
    "PyPlot.close(\"all\")\n",
    "fig = PyPlot.figure(figsize=(6.5, 5))\n",
    "PyPlot.pcolormesh(xC, yC, RT[end-1,:,:,1] .- 283, cmap=\"bwr\")\n",
    "PyPlot.xlabel(\"x\")\n",
    "PyPlot.ylabel(\"y\")\n",
    "PyPlot.colorbar(label=\"K\");"
   ]
  },
  {
   "cell_type": "code",
   "execution_count": null,
   "metadata": {},
   "outputs": [],
   "source": [
    "pygui(false)\n",
    "pygui()"
   ]
  },
  {
   "cell_type": "code",
   "execution_count": null,
   "metadata": {},
   "outputs": [],
   "source": [
    "import PyPlot\n",
    "PyPlot.close(\"all\")\n",
    "fig = PyPlot.figure(figsize=(6.5, 5))\n",
    "PyPlot.pcolormesh(xC, yC, RT[49,:,:,1] .- 283, cmap=\"bwr\")\n",
    "PyPlot.title(\"Temperature change @ time step n=$t, z-level k=$k\")\n",
    "PyPlot.xlabel(\"x\")\n",
    "PyPlot.ylabel(\"y\")\n",
    "PyPlot.colorbar(label=\"K\");"
   ]
  },
  {
   "cell_type": "code",
   "execution_count": 4,
   "metadata": {},
   "outputs": [
    {
     "data": {
      "text/html": [
       "    <script id=\"webio-setup-16998182745816761545\">\n",
       "    // Immediately-invoked-function-expression to avoid global variables.\n",
       "    (function() {\n",
       "        var warning_div = document.getElementById(\"webio-warning-3373555524568936644\");\n",
       "        var hide = function () {\n",
       "            var script = document.getElementById(\"webio-setup-16998182745816761545\");\n",
       "            var parent = script && script.parentElement;\n",
       "            var grandparent = parent && parent.parentElement;\n",
       "            if (grandparent) {\n",
       "                grandparent.style.display = \"none\";\n",
       "            }\n",
       "            warning_div.style.display = \"none\";\n",
       "        };\n",
       "        if (window.require && require.defined) {\n",
       "            // Jupyter notebook.\n",
       "            if (require.defined(\"nbextensions/webio/main\")\n",
       "                    || require.defined(\"/assetserver/28f5f30a59da434290b7f09bd0d0ddea74a5f34e-dist/main.js\")) {\n",
       "                // Extension already loaded.\n",
       "                hide();\n",
       "                return;\n",
       "            }\n",
       "            console.warn(\"Loading WebIO Jupyter extension on an ad-hoc basis. Consider enabling the WebIO nbextension for a stabler experience (this should happen automatically when building WebIO).\");\n",
       "            require([\"/assetserver/28f5f30a59da434290b7f09bd0d0ddea74a5f34e-dist/main.js\"], function (webIOModule) {\n",
       "                webIOModule.load_ipython_extension();\n",
       "            });\n",
       "            warning_div.innerHTML = \"<strong>Loading WebIO Jupyter extension on an ad-hoc basis. Consider enabling the WebIO nbextension for a stabler experience (this should happen automatically when building WebIO).</strong>\";\n",
       "        } else if (window.location.pathname.includes(\"/lab\")) {\n",
       "            // Guessing JupyterLab\n",
       "            warning_div.innerHTML = \"WebIO does not support JupyterLab yet.\";\n",
       "        }\n",
       "    })();\n",
       "    </script>\n",
       "    <div\n",
       "        id=\"webio-warning-3373555524568936644\"\n",
       "        class=\"output_text output_stderr\"\n",
       "        style=\"padding: 1em; font-weight: bold;\"\n",
       "    >\n",
       "        Unable to load WebIO. Please make sure WebIO works for your Jupyter client.\n",
       "        <!-- TODO: link to installation docs. -->\n",
       "    </div>\n"
      ],
      "text/plain": [
       "HTML{String}(\"    <script id=\\\"webio-setup-16998182745816761545\\\">\\n    // Immediately-invoked-function-expression to avoid global variables.\\n    (function() {\\n        var warning_div = document.getElementById(\\\"webio-warning-3373555524568936644\\\");\\n        var hide = function () {\\n            var script = document.getElementById(\\\"webio-setup-16998182745816761545\\\");\\n            var parent = script && script.parentElement;\\n            var grandparent = parent && parent.parentElement;\\n            if (grandparent) {\\n                grandparent.style.display = \\\"none\\\";\\n            }\\n            warning_div.style.display = \\\"none\\\";\\n        };\\n        if (window.require && require.defined) {\\n            // Jupyter notebook.\\n            if (require.defined(\\\"nbextensions/webio/main\\\")\\n                    || require.defined(\\\"/assetserver/28f5f30a59da434290b7f09bd0d0ddea74a5f34e-dist/main.js\\\")) {\\n                // Extension already loaded.\\n                hide();\\n                return;\\n            }\\n            console.warn(\\\"Loading WebIO Jupyter extension on an ad-hoc basis. Consider enabling the WebIO nbextension for a stabler experience (this should happen automatically when building WebIO).\\\");\\n            require([\\\"/assetserver/28f5f30a59da434290b7f09bd0d0ddea74a5f34e-dist/main.js\\\"], function (webIOModule) {\\n                webIOModule.load_ipython_extension();\\n            });\\n            warning_div.innerHTML = \\\"<strong>Loading WebIO Jupyter extension on an ad-hoc basis. Consider enabling the WebIO nbextension for a stabler experience (this should happen automatically when building WebIO).</strong>\\\";\\n        } else if (window.location.pathname.includes(\\\"/lab\\\")) {\\n            // Guessing JupyterLab\\n            warning_div.innerHTML = \\\"WebIO does not support JupyterLab yet.\\\";\\n        }\\n    })();\\n    </script>\\n    <div\\n        id=\\\"webio-warning-3373555524568936644\\\"\\n        class=\\\"output_text output_stderr\\\"\\n        style=\\\"padding: 1em; font-weight: bold;\\\"\\n    >\\n        Unable to load WebIO. Please make sure WebIO works for your Jupyter client.\\n        <!-- TODO: link to installation docs. -->\\n    </div>\\n\")"
      ]
     },
     "metadata": {},
     "output_type": "display_data"
    },
    {
     "data": {
      "text/plain": [
       "Plots.GRBackend()"
      ]
     },
     "execution_count": 4,
     "metadata": {},
     "output_type": "execute_result"
    }
   ],
   "source": [
    "using Interact, Plots\n",
    "Plots.gr()"
   ]
  },
  {
   "cell_type": "code",
   "execution_count": null,
   "metadata": {},
   "outputs": [],
   "source": [
    "R, k = 45, 1\n",
    "Plots.heatmap(xC, yC, RT[R,:,:,k] .- 283, color=:thermal, title=\"Temperature change @ t=$(R*ΔR*Δt), k=$k\")"
   ]
  },
  {
   "cell_type": "code",
   "execution_count": null,
   "metadata": {},
   "outputs": [],
   "source": [
    "R, k = 45, 10\n",
    "Plots.heatmap(xC, yC, RT[R,:,:,k] .- 283, color=:thermal, title=\"Temperature change @ t=$(R*ΔR*Δt), k=$k\")"
   ]
  },
  {
   "cell_type": "code",
   "execution_count": null,
   "metadata": {},
   "outputs": [],
   "source": [
    "R, k = 45, 50\n",
    "Plots.heatmap(xC, yC, RT[R,:,:,k] .- 283, color=:thermal, title=\"Temperature change @ t=$(R*ΔR*Δt), k=$k\")"
   ]
  },
  {
   "cell_type": "code",
   "execution_count": null,
   "metadata": {},
   "outputs": [],
   "source": [
    "R, j = 49, 50\n",
    "Plots.heatmap(xC, zC, rotl90(RT[R,:,j,:]) .- 283, color=:thermal, title=\"Temperature change @ t=$(R*ΔR*Δt), j=$j\")"
   ]
  },
  {
   "cell_type": "code",
   "execution_count": null,
   "metadata": {},
   "outputs": [],
   "source": [
    "R, k = 30, 1\n",
    "Plots.heatmap(xC, yC, Ru[R,:,:,k], color=:balance, clims=(-0.05, 0.05), title=\"u-velocity @ t=$(R*ΔR*Δt), k=$k\")"
   ]
  },
  {
   "cell_type": "code",
   "execution_count": null,
   "metadata": {},
   "outputs": [],
   "source": [
    "R, k = 30, 10\n",
    "Plots.heatmap(xC, yC, Ru[R,:,:,k], color=:balance, clims=(-2e-3, 2e-3), title=\"u-velocity @ t=$(R*ΔR*Δt), k=$k\")"
   ]
  },
  {
   "cell_type": "code",
   "execution_count": null,
   "metadata": {},
   "outputs": [],
   "source": [
    "R, k = 30, 100\n",
    "Plots.heatmap(xC, yC, Ru[R,:,:,k], color=:balance, clims=(-2e-5, 2e-5), title=\"u-velocity @ t=$(R*ΔR*Δt), k=$k\")"
   ]
  },
  {
   "cell_type": "code",
   "execution_count": null,
   "metadata": {},
   "outputs": [],
   "source": [
    "R, j = 49, 50\n",
    "Plots.heatmap(xC, zC, rotl90(Ru[R,:,j,:]), color=:balance, clims=(-0.02, 0.02), title=\"u-velocity @ t=$(R*ΔR*Δt), j=$j\")"
   ]
  },
  {
   "cell_type": "code",
   "execution_count": null,
   "metadata": {},
   "outputs": [],
   "source": [
    "R, j = 49, 100\n",
    "Plots.heatmap(xC, zC, rotl90(Ru[R,:,j,:]), color=:balance, clims=(-0.02, 0.02), title=\"u-velocity @ t=$(R*ΔR*Δt), j=$j\")"
   ]
  },
  {
   "cell_type": "code",
   "execution_count": null,
   "metadata": {},
   "outputs": [],
   "source": [
    "R, k = 45, 2\n",
    "Plots.heatmap(xC, yC, Rw[R,:,:,k], color=:balance, clims=(-0.005, 0.005), title=\"w-velocity @ t=$(R*ΔR*Δt), k=$k\")"
   ]
  },
  {
   "cell_type": "code",
   "execution_count": null,
   "metadata": {},
   "outputs": [],
   "source": [
    "R, j = 49, 50\n",
    "Plots.heatmap(xC, zC, rotl90(Rw[R,:,j,:]), color=:balance, clims=(-0.002, 0.002), title=\"w-velocity @ t=$(R*ΔR*Δt), j=$j\")"
   ]
  },
  {
   "cell_type": "code",
   "execution_count": null,
   "metadata": {},
   "outputs": [],
   "source": [
    "R, k = 30, 2\n",
    "Plots.heatmap(xC, zC, rotl90(RpNHS[R,:,:,k]), color=:balance, clims=(-0.001, 0.001), title=\"pNHS @ t=$(R*ΔR*Δt), k=$k\")"
   ]
  },
  {
   "cell_type": "code",
   "execution_count": null,
   "metadata": {},
   "outputs": [],
   "source": [
    "@manipulate for tidx in 1:10\n",
    "    Plots.heatmap(xC, yC, Ru[tidx,:,:,2], color=:balance, title=\"u-velocity @ t=$(tidx*ΔR*Δt), k=2\")\n",
    "end"
   ]
  },
  {
   "cell_type": "code",
   "execution_count": null,
   "metadata": {},
   "outputs": [],
   "source": [
    "for k in [1, 10, 50, 100]\n",
    "    anim = @animate for tidx in 1:Int(Nᵗ/ΔR)\n",
    "        Plots.heatmap(xC, yC, Ru[tidx,:,:,k], color=:balance, clims=(-0.01, 0.01),\n",
    "            title=\"u-velocity @ t=$(tidx*ΔR*Δt), k=$k\")\n",
    "    end\n",
    "    ks = lpad(k, 3, '0')\n",
    "    gif(anim, \"u_k$ks.gif\", fps = 10)\n",
    "end"
   ]
  },
  {
   "cell_type": "code",
   "execution_count": null,
   "metadata": {},
   "outputs": [],
   "source": [
    "for tidx in [5, 10, 20, 45]\n",
    "    anim = @animate for k in 1:Nᶻ\n",
    "        Plots.heatmap(xC, yC, Ru[tidx,:,:,k], color=:balance,\n",
    "            title=\"u-velocity @ t=$(tidx*ΔR*Δt), k=$k\")\n",
    "    end\n",
    "    tidxs = lpad(tidx, 3, '0')\n",
    "    gif(anim, \"u_tidx$tidxs.gif\", fps = 10)\n",
    "end"
   ]
  },
  {
   "cell_type": "code",
   "execution_count": null,
   "metadata": {},
   "outputs": [],
   "source": [
    "for j in [1, 10, 50]\n",
    "    anim = @animate for tidx in 1:Int(Nᵗ/ΔR)\n",
    "        Plots.heatmap(xC, zC, rotl90(Ru[tidx,:,j,:]), color=:balance,\n",
    "                title=\"u-velocity @ t=$(tidx*ΔR*Δt), j=$j\")\n",
    "    end\n",
    "    js = lpad(j, 3, '0')\n",
    "    gif(anim, \"u_j$js.gif\", fps = 10)\n",
    "end"
   ]
  },
  {
   "cell_type": "code",
   "execution_count": 11,
   "metadata": {},
   "outputs": [
    {
     "name": "stderr",
     "output_type": "stream",
     "text": [
      "┌ Info: Saved animation to \n",
      "│   fn = C:\\Users\\Ali\\Documents\\Git\\OceanDispatch.jl\\T_k001.gif\n",
      "└ @ Plots C:\\Users\\Ali\\.julia\\packages\\Plots\\rmogG\\src\\animation.jl:90\n",
      "┌ Info: Saved animation to \n",
      "│   fn = C:\\Users\\Ali\\Documents\\Git\\OceanDispatch.jl\\T_k010.gif\n",
      "└ @ Plots C:\\Users\\Ali\\.julia\\packages\\Plots\\rmogG\\src\\animation.jl:90\n",
      "┌ Info: Saved animation to \n",
      "│   fn = C:\\Users\\Ali\\Documents\\Git\\OceanDispatch.jl\\T_k050.gif\n",
      "└ @ Plots C:\\Users\\Ali\\.julia\\packages\\Plots\\rmogG\\src\\animation.jl:90\n"
     ]
    }
   ],
   "source": [
    "for k in [1, 10, 50]\n",
    "    anim = @animate for tidx in 1:Int(Nᵗ/ΔR)\n",
    "        Plots.heatmap(xC, yC, RT[tidx,:,:,k] .- 283, color=:thermal,\n",
    "            title=\"T change @ t=$(tidx*ΔR*Δt), k=$k\")\n",
    "    end\n",
    "    ks = lpad(k, 3, '0')\n",
    "    gif(anim, \"T_k$ks.gif\", fps = 10)\n",
    "end"
   ]
  },
  {
   "cell_type": "code",
   "execution_count": null,
   "metadata": {},
   "outputs": [],
   "source": [
    "for k in [2, 10, 50, 100]\n",
    "    anim = @animate for tidx in 1:Int(Nᵗ/ΔR)\n",
    "        Plots.heatmap(xC, yC, Rw[tidx,:,:,k], color=:balance,\n",
    "            title=\"w-velocity @ t=$(tidx*ΔR*Δt), k=$k\")\n",
    "    end\n",
    "    ks = lpad(k, 3, '0')\n",
    "    gif(anim, \"w_k$ks.gif\", fps = 10)\n",
    "end"
   ]
  },
  {
   "cell_type": "code",
   "execution_count": null,
   "metadata": {},
   "outputs": [],
   "source": [
    "for j in [1, 10, 50]\n",
    "    anim = @animate for tidx in 1:Int(Nᵗ/ΔR)\n",
    "        Plots.heatmap(xC, zC, rotl90(Rw[tidx,:,j,:]), color=:balance,\n",
    "                title=\"w-velocity @ t=$(tidx*ΔR*Δt), j=$j\")\n",
    "    end\n",
    "    js = lpad(j, 3, '0')\n",
    "    gif(anim, \"w_j$js.gif\", fps = 10)\n",
    "end"
   ]
  },
  {
   "cell_type": "code",
   "execution_count": null,
   "metadata": {},
   "outputs": [],
   "source": [
    "for k in [2, 10, 50, 100]\n",
    "    anim = @animate for tidx in 1:Int(Nᵗ/ΔR)\n",
    "        Plots.heatmap(xC, yC, Rρ[tidx,:,:,k], color=:balance,\n",
    "            title=\"w-velocity @ t=$(tidx*ΔR*Δt), k=$k\")\n",
    "    end\n",
    "    ks = lpad(k, 3, '0')\n",
    "    gif(anim, \"ρ_k$ks.gif\", fps = 10)\n",
    "end"
   ]
  },
  {
   "cell_type": "code",
   "execution_count": null,
   "metadata": {},
   "outputs": [],
   "source": [
    "Plots.heatmap(xC, yC, Rw[49,:,:,10], color=:balance, clims=(-0.002, 0.002), title=\"w-velocity @ t=$(49*ΔR*Δt), k=10\")"
   ]
  },
  {
   "cell_type": "code",
   "execution_count": 10,
   "metadata": {},
   "outputs": [
    {
     "name": "stderr",
     "output_type": "stream",
     "text": [
      "┌ Info: Saved animation to \n",
      "│   fn = C:\\Users\\Ali\\Documents\\Git\\OceanDispatch.jl\\T_j001.gif\n",
      "└ @ Plots C:\\Users\\Ali\\.julia\\packages\\Plots\\rmogG\\src\\animation.jl:90\n",
      "┌ Info: Saved animation to \n",
      "│   fn = C:\\Users\\Ali\\Documents\\Git\\OceanDispatch.jl\\T_j010.gif\n",
      "└ @ Plots C:\\Users\\Ali\\.julia\\packages\\Plots\\rmogG\\src\\animation.jl:90\n",
      "┌ Info: Saved animation to \n",
      "│   fn = C:\\Users\\Ali\\Documents\\Git\\OceanDispatch.jl\\T_j050.gif\n",
      "└ @ Plots C:\\Users\\Ali\\.julia\\packages\\Plots\\rmogG\\src\\animation.jl:90\n",
      "GKS: Rectangle definition is invalid in routine SET_WINDOW\n",
      "GKS: Rectangle definition is invalid in routine CELLARRAY\n",
      "origin outside current window\n",
      "GKS: Rectangle definition is invalid in routine SET_WINDOW\n",
      "GKS: Rectangle definition is invalid in routine CELLARRAY\n",
      "origin outside current window\n",
      "GKS: Rectangle definition is invalid in routine SET_WINDOW\n",
      "GKS: Rectangle definition is invalid in routine CELLARRAY\n",
      "origin outside current window\n",
      "GKS: Rectangle definition is invalid in routine SET_WINDOW\n",
      "GKS: Rectangle definition is invalid in routine CELLARRAY\n",
      "origin outside current window\n",
      "GKS: Rectangle definition is invalid in routine SET_WINDOW\n",
      "GKS: Rectangle definition is invalid in routine CELLARRAY\n",
      "origin outside current window\n",
      "GKS: Rectangle definition is invalid in routine SET_WINDOW\n",
      "GKS: Rectangle definition is invalid in routine CELLARRAY\n",
      "origin outside current window\n",
      "GKS: Rectangle definition is invalid in routine SET_WINDOW\n",
      "GKS: Rectangle definition is invalid in routine CELLARRAY\n",
      "origin outside current window\n",
      "GKS: Rectangle definition is invalid in routine SET_WINDOW\n",
      "GKS: Rectangle definition is invalid in routine CELLARRAY\n",
      "origin outside current window\n",
      "GKS: Rectangle definition is invalid in routine SET_WINDOW\n",
      "GKS: Rectangle definition is invalid in routine CELLARRAY\n",
      "origin outside current window\n",
      "GKS: Rectangle definition is invalid in routine SET_WINDOW\n",
      "GKS: Rectangle definition is invalid in routine CELLARRAY\n",
      "origin outside current window\n",
      "GKS: Rectangle definition is invalid in routine SET_WINDOW\n",
      "GKS: Rectangle definition is invalid in routine CELLARRAY\n",
      "origin outside current window\n",
      "GKS: Rectangle definition is invalid in routine SET_WINDOW\n",
      "GKS: Rectangle definition is invalid in routine CELLARRAY\n",
      "origin outside current window\n",
      "GKS: Rectangle definition is invalid in routine SET_WINDOW\n",
      "GKS: Rectangle definition is invalid in routine CELLARRAY\n",
      "origin outside current window\n",
      "GKS: Rectangle definition is invalid in routine SET_WINDOW\n",
      "GKS: Rectangle definition is invalid in routine CELLARRAY\n",
      "origin outside current window\n",
      "GKS: Rectangle definition is invalid in routine SET_WINDOW\n",
      "GKS: Rectangle definition is invalid in routine CELLARRAY\n",
      "origin outside current window\n"
     ]
    }
   ],
   "source": [
    "for j in [1, 10, 50]\n",
    "    anim = @animate for tidx in 1:Int(Nᵗ/ΔR)\n",
    "        Plots.heatmap(xC, zC, rotl90(RT[tidx,:,j,:]), color=:balance,\n",
    "                title=\"delta T @ t=$(tidx*ΔR*Δt), j=$j\")\n",
    "    end\n",
    "    js = lpad(j, 3, '0')\n",
    "    gif(anim, \"T_j$js.gif\", fps = 10)\n",
    "end"
   ]
  },
  {
   "cell_type": "markdown",
   "metadata": {},
   "source": [
    "![](T_j050.gif)"
   ]
  },
  {
   "cell_type": "code",
   "execution_count": null,
   "metadata": {},
   "outputs": [],
   "source": []
  }
 ],
 "metadata": {
  "@webio": {
   "lastCommId": "8cf7e2ad200145948fb173db2531d56d",
   "lastKernelId": "fc04edf9-c025-4567-a5c3-a83056eb4f37"
  },
  "kernelspec": {
   "display_name": "Julia 1.0.0",
   "language": "julia",
   "name": "julia-1.0"
  },
  "language_info": {
   "file_extension": ".jl",
   "mimetype": "application/julia",
   "name": "julia",
   "version": "1.0.0"
  }
 },
 "nbformat": 4,
 "nbformat_minor": 2
}
