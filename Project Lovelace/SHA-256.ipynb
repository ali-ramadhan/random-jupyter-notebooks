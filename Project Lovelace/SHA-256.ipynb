{
 "cells": [
  {
   "cell_type": "code",
   "execution_count": 1,
   "metadata": {},
   "outputs": [],
   "source": [
    "import struct\n",
    "from math import sqrt, modf\n",
    "\n",
    "from bitstring import BitArray"
   ]
  },
  {
   "cell_type": "code",
   "execution_count": 2,
   "metadata": {},
   "outputs": [],
   "source": [
    "def prime(a):\n",
    "    return not (a < 2 or any(a % x == 0 for x in range(2, int(a**0.5) + 1)))\n",
    "\n",
    "def primes_below(n):\n",
    "    return [i for i in range(n) if prime(i)]"
   ]
  },
  {
   "cell_type": "code",
   "execution_count": 3,
   "metadata": {},
   "outputs": [],
   "source": [
    "def first_n_primes(n):\n",
    "    P = []\n",
    "    i = 2\n",
    "    while len(P) < n:\n",
    "        if prime(i):\n",
    "            P.append(i)\n",
    "        i = i + 1\n",
    "    return P"
   ]
  },
  {
   "cell_type": "code",
   "execution_count": 4,
   "metadata": {},
   "outputs": [],
   "source": [
    "def fractional_float_to_int(n):\n",
    "    f, _ = modf(n)  # Fractional part of n.\n",
    "    return int(f * (1 << 32))  # Multiply by 2^32 then convert to int.\n",
    "\n",
    "def fractional_float_to_hex(n):\n",
    "    f, _ = modf(n)  # Fractional part of n.\n",
    "    f = int(f * (1 << 32))  # Multiply by 2^32 then convert to int.\n",
    "    return hex(f)"
   ]
  },
  {
   "cell_type": "code",
   "execution_count": 5,
   "metadata": {},
   "outputs": [],
   "source": [
    "ror32 = lambda x, n: (x >> n) | (x << (32 - n))\n",
    "Ch = lambda E, F, G: (E & F) ^ ((~E) & G)\n",
    "Ma = lambda A, B, C: (A & B) ^ (A & C) ^ (B & C)\n",
    "Σ0 = lambda A: ror32(A, 2) ^ ror32(A, 13) ^ ror32(A, 22)\n",
    "Σ1 = lambda E: ror32(E, 6) ^ ror32(E, 11) ^ ror32(E, 25)"
   ]
  },
  {
   "cell_type": "code",
   "execution_count": 47,
   "metadata": {},
   "outputs": [],
   "source": [
    "def SHA256(message):\n",
    "    # Mask that allows us to perform (mod 2^32) by &'ing with an int.\n",
    "    MASK32 = 0xffffffff\n",
    "    \n",
    "    # Initialize hash values:\n",
    "    # (first 32 bits of the fractional parts of the square roots of the first 8 primes 2..19):\n",
    "    _h = 8 * [0]\n",
    "    for i, p in enumerate(first_n_primes(8)):\n",
    "        _h[i] = fractional_float_to_int(sqrt(p))\n",
    "        \n",
    "    # Initialize array of round constants:\n",
    "    # (first 32 bits of the fractional parts of the cube roots of the first 64 primes 2..311):\n",
    "    _k = 64 * [0]\n",
    "    for i, p in enumerate(first_n_primes(64)):\n",
    "        _k[i] = fractional_float_to_int(p**(1/3))\n",
    "        \n",
    "    # Message to be hashed.\n",
    "    M = BitArray(bytes(message, \"utf-8\"))\n",
    "\n",
    "    # Pre-processing (Padding):\n",
    "    # begin with the original message of length L bits\n",
    "    L = len(M)\n",
    "\n",
    "    # append a single '1' bit\n",
    "    M.append(BitArray(bin=\"1\"))\n",
    "\n",
    "    # append K '0' bits, where K is the minimum number >= 0 such that L + 1 + K + 64 is a multiple of 512\n",
    "    def pad_size(L):\n",
    "        return (512 - ((L % 512) + 1 + 64)) % 512\n",
    "\n",
    "    K = pad_size(L)\n",
    "    M = M + BitArray(K)\n",
    "\n",
    "    # append L as a 64-bit big-endian integer, making the total post-processed length a multiple of 512 bits\n",
    "    M = M + BitArray(int=L, length=64)\n",
    "    \n",
    "    # Process the message in successive 512-bit chunks:\n",
    "    # break message into 512-bit chunks    \n",
    "    for chunk in M.cut(512):\n",
    "        # create a 64-entry message schedule array w[0..63] of 32-bit words\n",
    "        # (The initial values in w[0..63] don't matter, so many implementations zero them here)\n",
    "        # copy chunk into first 16 words w[0..15] of the message schedule array\n",
    "        w = 64 * [0]\n",
    "        for i in range(16):\n",
    "            w[i] = chunk[32*i:32*i+32].int & MASK32\n",
    "\n",
    "        # Extend the first 16 words into the remaining 48 words w[16..63] of the message schedule array:\n",
    "        for i in range(16, 64):\n",
    "            s0 = ror32(w[i-15], 7) ^ ror32(w[i-15], 18) ^ (w[i-15] >> 3)\n",
    "            s1 = ror32(w[i-2], 17) ^ ror32(w[i-2], 19) ^ (w[i-2] >> 10)\n",
    "            w[i] = (w[i-16] + s0 + w[i-7] + s1) & MASK32\n",
    "        \n",
    "        # Initialize working variables to current hash value:\n",
    "        a, b, c, d, e, f, g, h = _h\n",
    "\n",
    "        # Compression function main loop:\n",
    "        for i in range(64):\n",
    "            t1 = h + Σ1(e) + Ch(e, f, g) + _k[i] + w[i]\n",
    "            t2 = Σ0(a) + Ma(a, b, c)\n",
    "\n",
    "            h = g\n",
    "            g = f\n",
    "            f = e\n",
    "            e = (d + t1) & MASK32\n",
    "            d = c\n",
    "            c = b\n",
    "            b = a\n",
    "            a = (t1 + t2) & MASK32\n",
    "        \n",
    "        # Add the compressed chunk to the current hash value:\n",
    "        _h[0] = (_h[0] + a) & MASK32\n",
    "        _h[1] = (_h[1] + b) & MASK32\n",
    "        _h[2] = (_h[2] + c) & MASK32\n",
    "        _h[3] = (_h[3] + d) & MASK32\n",
    "        _h[4] = (_h[4] + e) & MASK32\n",
    "        _h[5] = (_h[5] + f) & MASK32\n",
    "        _h[6] = (_h[6] + g) & MASK32\n",
    "        _h[7] = (_h[7] + h) & MASK32\n",
    "        \n",
    "    digest = sum([BitArray(uint=n, length=32) for n in _h])\n",
    "    return digest.hex"
   ]
  },
  {
   "cell_type": "code",
   "execution_count": 48,
   "metadata": {},
   "outputs": [
    {
     "data": {
      "text/plain": [
       "'e3b0c44298fc1c149afbf4c8996fb92427ae41e4649b934ca495991b7852b855'"
      ]
     },
     "execution_count": 48,
     "metadata": {},
     "output_type": "execute_result"
    }
   ],
   "source": [
    "import hashlib\n",
    "\n",
    "SHA256(\"\")"
   ]
  },
  {
   "cell_type": "code",
   "execution_count": 49,
   "metadata": {},
   "outputs": [
    {
     "data": {
      "text/plain": [
       "True"
      ]
     },
     "execution_count": 49,
     "metadata": {},
     "output_type": "execute_result"
    }
   ],
   "source": [
    "SHA256(\"\") == hashlib.sha256(b\"\").hexdigest()"
   ]
  },
  {
   "cell_type": "code",
   "execution_count": 50,
   "metadata": {},
   "outputs": [
    {
     "data": {
      "text/plain": [
       "'d7a8fbb307d7809469ca9abcb0082e4f8d5651e46d3cdb762d02d0bf37c9e592'"
      ]
     },
     "execution_count": 50,
     "metadata": {},
     "output_type": "execute_result"
    }
   ],
   "source": [
    "SHA256(\"The quick brown fox jumps over the lazy dog\")"
   ]
  },
  {
   "cell_type": "code",
   "execution_count": 51,
   "metadata": {},
   "outputs": [
    {
     "data": {
      "text/plain": [
       "True"
      ]
     },
     "execution_count": 51,
     "metadata": {},
     "output_type": "execute_result"
    }
   ],
   "source": [
    "SHA256(\"The quick brown fox jumps over the lazy dog\") == hashlib.sha256(b\"The quick brown fox jumps over the lazy dog\").hexdigest()"
   ]
  },
  {
   "cell_type": "code",
   "execution_count": 55,
   "metadata": {},
   "outputs": [
    {
     "data": {
      "text/plain": [
       "'c9727681e0864afe7168d2b2a674ab0bd5209dc42f75182bf1a5b8639efa7a49'"
      ]
     },
     "execution_count": 55,
     "metadata": {},
     "output_type": "execute_result"
    }
   ],
   "source": [
    "SHA256(12345 * \"LOL\")"
   ]
  },
  {
   "cell_type": "code",
   "execution_count": 60,
   "metadata": {},
   "outputs": [
    {
     "data": {
      "text/plain": [
       "'c9727681e0864afe7168d2b2a674ab0bd5209dc42f75182bf1a5b8639efa7a49'"
      ]
     },
     "execution_count": 60,
     "metadata": {},
     "output_type": "execute_result"
    }
   ],
   "source": [
    "hashlib.sha256(bytes(12345 * \"LOL\", \"utf-8\")).hexdigest()"
   ]
  },
  {
   "cell_type": "code",
   "execution_count": null,
   "metadata": {},
   "outputs": [],
   "source": []
  }
 ],
 "metadata": {
  "kernelspec": {
   "display_name": "Python 3",
   "language": "python",
   "name": "python3"
  },
  "language_info": {
   "codemirror_mode": {
    "name": "ipython",
    "version": 3
   },
   "file_extension": ".py",
   "mimetype": "text/x-python",
   "name": "python",
   "nbconvert_exporter": "python",
   "pygments_lexer": "ipython3",
   "version": "3.7.3"
  }
 },
 "nbformat": 4,
 "nbformat_minor": 4
}
