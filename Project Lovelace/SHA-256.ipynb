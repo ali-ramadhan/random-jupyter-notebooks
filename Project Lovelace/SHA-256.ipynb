{
 "cells": [
  {
   "cell_type": "code",
   "execution_count": 74,
   "metadata": {},
   "outputs": [],
   "source": [
    "import struct\n",
    "from math import sqrt, modf"
   ]
  },
  {
   "cell_type": "code",
   "execution_count": 10,
   "metadata": {},
   "outputs": [],
   "source": [
    "def prime(a):\n",
    "    return not (a < 2 or any(a % x == 0 for x in range(2, int(a**0.5) + 1)))\n",
    "\n",
    "def primes_below(n):\n",
    "    return [i for i in range(n) if prime(i)]"
   ]
  },
  {
   "cell_type": "code",
   "execution_count": 8,
   "metadata": {},
   "outputs": [],
   "source": [
    "def first_n_primes(n):\n",
    "    P = []\n",
    "    i = 2\n",
    "    while len(P) < n:\n",
    "        if prime(i):\n",
    "            P.append(i)\n",
    "        i = i + 1\n",
    "    return P"
   ]
  },
  {
   "cell_type": "code",
   "execution_count": 94,
   "metadata": {},
   "outputs": [],
   "source": [
    "def fractional_float_to_int(n):\n",
    "    f, _ = modf(n)  # Fractional part of n.\n",
    "    return int(f * (1 << 32))  # Multiply by 2^32 then convert to int.\n",
    "\n",
    "def fractional_float_to_hex(n):\n",
    "    f, _ = modf(n)  # Fractional part of n.\n",
    "    f = int(f * (1 << 32))  # Multiply by 2^32 then convert to int.\n",
    "    return hex(f)"
   ]
  },
  {
   "cell_type": "code",
   "execution_count": 111,
   "metadata": {},
   "outputs": [],
   "source": [
    "# Initialize hash values:\n",
    "# (first 32 bits of the fractional parts of the square roots of the first 8 primes 2..19):\n",
    "h = 8 * [0]\n",
    "for i, p in enumerate(first_n_primes(8)):\n",
    "    h[i] = fractional_float_to_int(sqrt(p))"
   ]
  },
  {
   "cell_type": "code",
   "execution_count": 112,
   "metadata": {},
   "outputs": [],
   "source": [
    "# Initialize array of round constants:\n",
    "# (first 32 bits of the fractional parts of the cube roots of the first 64 primes 2..311):\n",
    "k = 64 * [0]\n",
    "for i, p in enumerate(first_n_primes(64)):\n",
    "    k[i] = fractional_float_to_int(p**(1/3))"
   ]
  },
  {
   "cell_type": "code",
   "execution_count": 227,
   "metadata": {},
   "outputs": [],
   "source": [
    "# append K '0' bits, where K is the minimum number >= 0 such that L + 1 + K + 64 is a multiple of 512\n",
    "def pad_size(L):\n",
    "    return (512 - ((L % 512) + 1 + 64)) % 512"
   ]
  },
  {
   "cell_type": "code",
   "execution_count": 241,
   "metadata": {},
   "outputs": [],
   "source": [
    "M = bytearray(\"ABC\", \"utf-8\")\n",
    "L = len(M)\n",
    "K = pad_size(L)"
   ]
  },
  {
   "cell_type": "code",
   "execution_count": 266,
   "metadata": {},
   "outputs": [
    {
     "name": "stdout",
     "output_type": "stream",
     "text": [
      "0b1000001\n",
      "0b1000010\n",
      "0b1000011\n",
      "0b0\n",
      "0b0\n",
      "0b1\n"
     ]
    }
   ],
   "source": [
    "for c in M:\n",
    "    print(bin(c))"
   ]
  },
  {
   "cell_type": "code",
   "execution_count": null,
   "metadata": {},
   "outputs": [],
   "source": []
  }
 ],
 "metadata": {
  "kernelspec": {
   "display_name": "Python 3",
   "language": "python",
   "name": "python3"
  },
  "language_info": {
   "codemirror_mode": {
    "name": "ipython",
    "version": 3
   },
   "file_extension": ".py",
   "mimetype": "text/x-python",
   "name": "python",
   "nbconvert_exporter": "python",
   "pygments_lexer": "ipython3",
   "version": "3.6.5"
  }
 },
 "nbformat": 4,
 "nbformat_minor": 2
}
