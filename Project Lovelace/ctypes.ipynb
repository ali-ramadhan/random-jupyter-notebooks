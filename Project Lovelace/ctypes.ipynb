{
 "cells": [
  {
   "cell_type": "code",
   "execution_count": 1,
   "metadata": {},
   "outputs": [],
   "source": [
    "import ctypes\n",
    "\n",
    "import numpy\n",
    "from numpy import ndarray, int32\n",
    "from numpy.ctypeslib import as_ctypes, ndpointer"
   ]
  },
  {
   "cell_type": "code",
   "execution_count": null,
   "metadata": {},
   "outputs": [],
   "source": [
    "def infer_simple_ctype(var):\n",
    "    if isinstance(var, int):\n",
    "        return ctypes.c_int\n",
    "\n",
    "    elif isinstance(var, float):\n",
    "        return ctypes.c_double\n",
    "\n",
    "    elif isinstance(var, bool):\n",
    "        return ctypes.c_bool\n",
    "\n",
    "    elif isinstance(var, str):\n",
    "        return ctypes.c_char_p\n",
    "\n",
    "    else:\n",
    "        raise NotImplementedError(\"Cannot infer ctype of type(var)={:}, var={:}\".format(type(var), var))"
   ]
  },
  {
   "cell_type": "code",
   "execution_count": null,
   "metadata": {},
   "outputs": [],
   "source": [
    "def preprocess_types(input_tuple, output_tuple):\n",
    "    if len(output_tuple) > 1:\n",
    "        raise NotImplementedError(\"C does not support multiple return values but len(output_tuple)={:d}\"\n",
    "                                  .format(len(output_tuple)))\n",
    "\n",
    "    input_list = []\n",
    "    arg_ctypes = []\n",
    "\n",
    "    for var in input_tuple:\n",
    "        if isinstance(var, str):\n",
    "            arg_ctypes.append(ctypes.c_char_p)\n",
    "\n",
    "            # C wants bytes, not strings.\n",
    "            c_str = bytes(var, \"utf-8\")\n",
    "            input_list.append(ctypes.c_char_p(c_str))\n",
    "\n",
    "        elif isinstance(var, list):\n",
    "            if isinstance(var[0], (list, tuple)):\n",
    "                raise NotImplementedError(f\"Cannot infer ctype of a list containing lists or tuples: var={var}\")\n",
    "\n",
    "            arr_ctype = infer_simple_ctype(var[0]) * len(var)\n",
    "            arg_ctypes.append(arr_ctype)\n",
    "\n",
    "            arr = arr_ctype(*var)\n",
    "            input_list.append(arr)\n",
    "\n",
    "            # For a Python list, we add an extra argument for the size of the C array.\n",
    "            arg_ctypes.append(ctypes.c_int)\n",
    "            input_list.append(len(var))\n",
    "\n",
    "        elif isinstance(var, ndarray):\n",
    "            arr_ctype = ndpointer(ctypes.c_double, flags=\"C_CONTIGUOUS\")\n",
    "            arg_ctypes.append(arr_ctype)\n",
    "            input_list.append(var)\n",
    "\n",
    "            # For a numpy ndarray, we add extra arguments for each dimension size of the input C array.\n",
    "            for s in range(len(var.shape)):\n",
    "                arg_ctypes.append(ctypes.c_int)\n",
    "                input_list.append(s)\n",
    "\n",
    "        else:\n",
    "            arg_ctypes.append(infer_simple_ctype(var))\n",
    "            input_list.append(var)\n",
    "\n",
    "    rvar = output_tuple[0]  # Return variable\n",
    "\n",
    "    if isinstance(rvar, list):\n",
    "        # If the C function needs to return an array, Python must allocate memory for the array and pass it to the\n",
    "        # C function. So we add an extra argument for a pointer to the pre-allocated C array and set the return type\n",
    "        # to void.\n",
    "        if isinstance(var[0], (list, tuple)):\n",
    "            raise NotImplementedError(f\"Cannot infer ctype of a list containing lists or tuples: var={var}\")\n",
    "\n",
    "        arr_ctype = infer_simple_ctype(rvar[0]) * len(rvar)\n",
    "        arg_ctypes.append(arr_ctype)\n",
    "\n",
    "        arr = arr_ctype()\n",
    "        input_list.append(arr)\n",
    "\n",
    "        res_ctype = ctypes.c_void_p\n",
    "    else:\n",
    "        res_ctype = infer_simple_ctype(rvar)\n",
    "\n",
    "    return arg_ctypes, res_ctype, input_list"
   ]
  },
  {
   "cell_type": "code",
   "execution_count": null,
   "metadata": {},
   "outputs": [],
   "source": [
    "it = [1, 2, 3, 4, 5], 10\n",
    "preprocess_types(it, (100,))"
   ]
  },
  {
   "cell_type": "code",
   "execution_count": null,
   "metadata": {},
   "outputs": [],
   "source": [
    "it = numpy.array([1, 2, 3, 4, 5]), 10\n",
    "preprocess_types(it, (10.0,))"
   ]
  },
  {
   "cell_type": "code",
   "execution_count": null,
   "metadata": {},
   "outputs": [],
   "source": [
    "var = numpy.random.uniform(-1, 1, size=5)\n",
    "ndpointer(dtype=var.dtype, flags=\"C_CONTIGUOUS\")"
   ]
  },
  {
   "cell_type": "code",
   "execution_count": null,
   "metadata": {},
   "outputs": [],
   "source": [
    "var = numpy.array([1, 7, 11])\n",
    "ndpointer(dtype=var.dtype, flags=\"C_CONTIGUOUS\")"
   ]
  },
  {
   "cell_type": "code",
   "execution_count": null,
   "metadata": {},
   "outputs": [],
   "source": [
    "numpy.random.rand(3).shape"
   ]
  },
  {
   "cell_type": "code",
   "execution_count": null,
   "metadata": {},
   "outputs": [],
   "source": [
    "preprocess_types((\"ABC\",), (1,))"
   ]
  },
  {
   "cell_type": "code",
   "execution_count": null,
   "metadata": {},
   "outputs": [],
   "source": [
    "cs = ctypes.c_char_p(b\"ABC\")"
   ]
  },
  {
   "cell_type": "code",
   "execution_count": null,
   "metadata": {},
   "outputs": [],
   "source": [
    "isinstance(cs, ctypes.c_char_p)"
   ]
  },
  {
   "cell_type": "code",
   "execution_count": null,
   "metadata": {},
   "outputs": [],
   "source": [
    "numpy.zeros(numpy.random.rand(3).shape, dtype=numpy.int32)"
   ]
  },
  {
   "cell_type": "code",
   "execution_count": 2,
   "metadata": {},
   "outputs": [],
   "source": [
    "import ctypes\n",
    "\n",
    "import numpy\n",
    "from numpy import ndarray, int32\n",
    "from numpy.ctypeslib import as_ctypes, ndpointer\n",
    "\n",
    "_lib = ctypes.cdll.LoadLibrary(\"/home/alir/tmp/libchaos.so\")\n",
    "\n",
    "f51 = numpy.zeros(51, dtype=numpy.float64)\n",
    "_lib.logistic_map.argtypes = [ctypes.c_double, ndpointer(dtype=f51.dtype, flags=\"C_CONTIGUOUS\")]\n",
    "_lib.logistic_map.restype = ctypes.c_void_p\n",
    "\n",
    "_lib.logistic_map(1.0, f51)"
   ]
  },
  {
   "cell_type": "code",
   "execution_count": 21,
   "metadata": {},
   "outputs": [],
   "source": [
    "f51 = numpy.zeros(51, dtype=numpy.float64)\n",
    "_lib.logistic_map.argtypes = [ctypes.c_float, ndpointer(dtype=f51.dtype, flags=\"C_CONTIGUOUS\")]\n",
    "_lib.logistic_map.restype = ctypes.c_void_p"
   ]
  },
  {
   "cell_type": "code",
   "execution_count": 22,
   "metadata": {},
   "outputs": [
    {
     "data": {
      "text/plain": [
       "array([0., 0., 0., 0., 0., 0., 0., 0., 0., 0., 0., 0., 0., 0., 0., 0., 0.,\n",
       "       0., 0., 0., 0., 0., 0., 0., 0., 0., 0., 0., 0., 0., 0., 0., 0., 0.,\n",
       "       0., 0., 0., 0., 0., 0., 0., 0., 0., 0., 0., 0., 0., 0., 0., 0., 0.])"
      ]
     },
     "execution_count": 22,
     "metadata": {},
     "output_type": "execute_result"
    }
   ],
   "source": [
    "f51"
   ]
  },
  {
   "cell_type": "code",
   "execution_count": 23,
   "metadata": {},
   "outputs": [
    {
     "data": {
      "text/plain": [
       "94144326783064"
      ]
     },
     "execution_count": 23,
     "metadata": {},
     "output_type": "execute_result"
    }
   ],
   "source": [
    "_lib.logistic_map(1.0, f51)"
   ]
  },
  {
   "cell_type": "code",
   "execution_count": 24,
   "metadata": {},
   "outputs": [
    {
     "data": {
      "text/plain": [
       "array([6.91903211e-310, 0.00000000e+000, 0.00000000e+000, 0.00000000e+000,\n",
       "       0.00000000e+000, 0.00000000e+000, 0.00000000e+000, 0.00000000e+000,\n",
       "       0.00000000e+000, 0.00000000e+000, 0.00000000e+000, 0.00000000e+000,\n",
       "       0.00000000e+000, 0.00000000e+000, 0.00000000e+000, 0.00000000e+000,\n",
       "       0.00000000e+000, 0.00000000e+000, 0.00000000e+000, 0.00000000e+000,\n",
       "       0.00000000e+000, 0.00000000e+000, 0.00000000e+000, 0.00000000e+000,\n",
       "       0.00000000e+000, 0.00000000e+000, 0.00000000e+000, 0.00000000e+000,\n",
       "       0.00000000e+000, 0.00000000e+000, 0.00000000e+000, 0.00000000e+000,\n",
       "       0.00000000e+000, 0.00000000e+000, 0.00000000e+000, 0.00000000e+000,\n",
       "       0.00000000e+000, 0.00000000e+000, 0.00000000e+000, 0.00000000e+000,\n",
       "       0.00000000e+000, 0.00000000e+000, 0.00000000e+000, 0.00000000e+000,\n",
       "       0.00000000e+000, 0.00000000e+000, 0.00000000e+000, 0.00000000e+000,\n",
       "       0.00000000e+000, 0.00000000e+000, 0.00000000e+000])"
      ]
     },
     "execution_count": 24,
     "metadata": {},
     "output_type": "execute_result"
    }
   ],
   "source": [
    "f51"
   ]
  },
  {
   "cell_type": "code",
   "execution_count": 26,
   "metadata": {},
   "outputs": [
    {
     "data": {
      "text/plain": [
       "False"
      ]
     },
     "execution_count": 26,
     "metadata": {},
     "output_type": "execute_result"
    }
   ],
   "source": [
    "numpy.allclose([1, 3, 4], numpy.array([1, 3, 4.5]))"
   ]
  },
  {
   "cell_type": "code",
   "execution_count": null,
   "metadata": {},
   "outputs": [],
   "source": [
    "import ctypes\n",
    "\n",
    "import numpy\n",
    "from numpy import ndarray\n",
    "from numpy.ctypeslib import as_ctypes, ndpointer\n",
    "\n",
    "_lib = ctypes.cdll.LoadLibrary(\"/home/alir/tmp/libtemp.so\")\n",
    "\n",
    "T = numpy.random.uniform(1, 10, size=17)\n",
    "\n",
    "_lib.temperature_statistics.argtypes = [ndpointer(dtype=T.dtype, flags=\"C_CONTIGUOUS\"), ctypes.c_int, ctypes.POINTER(ctypes.c_double), ctypes.POINTER(ctypes.c_double)]\n",
    "_lib.temperature_statistics.restype = ctypes.c_void_p\n",
    "\n",
    "m, s = ctypes.c_double(-1.5), ctypes.c_double(-2.5)\n",
    "_lib.temperature_statistics(T, len(T), m, s)"
   ]
  },
  {
   "cell_type": "code",
   "execution_count": 4,
   "metadata": {},
   "outputs": [
    {
     "data": {
      "text/plain": [
       "c_double(0.0)"
      ]
     },
     "execution_count": 4,
     "metadata": {},
     "output_type": "execute_result"
    }
   ],
   "source": [
    "m"
   ]
  },
  {
   "cell_type": "code",
   "execution_count": null,
   "metadata": {},
   "outputs": [],
   "source": [
    "import ctypes\n",
    "\n",
    "import numpy\n",
    "from numpy import ndarray\n",
    "from numpy.ctypeslib import as_ctypes, ndpointer\n",
    "\n",
    "_lib = ctypes.cdll.LoadLibrary(\"/home/alir/tmp/liblife.so\")\n",
    "\n",
    "B = numpy.random.randint(0, 2, size=(5, 7))\n",
    "N, M = B.shape\n",
    "FB = numpy.zeros(B.shape, dtype=B.dtype)\n",
    "\n",
    "B_ptr_t = ndpointer(dtype=B.dtype, ndim=len(B.shape), shape=B.shape, flags=\"C_CONTIGUOUS\")\n",
    "FB_ptr_t = ndpointer(dtype=FB.dtype, ndim=len(FB.shape), shape=FB.shape, flags=\"C_CONTIGUOUS\")\n",
    "\n",
    "_lib.game_of_life.argtypes = [B_ptr_t, ctypes.c_int, ctypes.c_int, ctypes.c_int, FB_ptr_t]\n",
    "_lib.game_of_life.restype = ctypes.c_void_p\n",
    "_lib.game_of_life(B, N, M, 30, FB)"
   ]
  },
  {
   "cell_type": "code",
   "execution_count": 7,
   "metadata": {},
   "outputs": [
    {
     "data": {
      "text/plain": [
       "numpy.ctypeslib.ndpointer_<i8_2d_5x7_C_CONTIGUOUS"
      ]
     },
     "execution_count": 7,
     "metadata": {},
     "output_type": "execute_result"
    }
   ],
   "source": [
    "import ctypes\n",
    "\n",
    "import numpy as np\n",
    "from numpy import ndarray\n",
    "from numpy.ctypeslib import as_ctypes, ndpointer\n",
    "\n",
    "_lib = ctypes.cdll.LoadLibrary(\"/home/alir/tmp/liblife.so\")\n",
    "\n",
    "B = np.random.randint(0, 2, size=(5, 7))\n",
    "N, M = B.shape\n",
    "FB = np.zeros(B.shape, dtype=B.dtype)\n",
    "\n",
    "B_pp = (B.ctypes.data + np.arange(B.shape[0]) * B.strides[0]).astype(np.uintp)\n",
    "B_ptr_t = np.ctypeslib.ndpointer(dtype=np.uintp)\n",
    "\n",
    "FB_pp = (FB.ctypes.data + np.arange(B.shape[0]) * FB.strides[0]).astype(np.uintp)\n",
    "FB_ptr_t = np.ctypeslib.ndpointer(dtype=np.uintp)\n",
    "\n",
    "_lib.game_of_life.argtypes = [B_ptr_t, ctypes.c_int, ctypes.c_int, ctypes.c_int, FB_ptr_t]\n",
    "_lib.game_of_life.restype = ctypes.c_void_p\n",
    "_lib.game_of_life(B_pp, N, M, 30, FB_pp)"
   ]
  },
  {
   "cell_type": "code",
   "execution_count": 6,
   "metadata": {},
   "outputs": [
    {
     "data": {
      "text/plain": [
       "2"
      ]
     },
     "execution_count": 6,
     "metadata": {},
     "output_type": "execute_result"
    }
   ],
   "source": []
  },
  {
   "cell_type": "code",
   "execution_count": null,
   "metadata": {},
   "outputs": [],
   "source": []
  }
 ],
 "metadata": {
  "kernelspec": {
   "display_name": "Python 3",
   "language": "python",
   "name": "python3"
  },
  "language_info": {
   "codemirror_mode": {
    "name": "ipython",
    "version": 3
   },
   "file_extension": ".py",
   "mimetype": "text/x-python",
   "name": "python",
   "nbconvert_exporter": "python",
   "pygments_lexer": "ipython3",
   "version": "3.7.4"
  }
 },
 "nbformat": 4,
 "nbformat_minor": 4
}
