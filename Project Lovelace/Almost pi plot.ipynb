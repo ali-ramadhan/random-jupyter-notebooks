{
 "cells": [
  {
   "cell_type": "code",
   "execution_count": 8,
   "metadata": {},
   "outputs": [],
   "source": [
    "import numpy as np\n",
    "import matplotlib\n",
    "import matplotlib.pyplot as plt\n",
    "\n",
    "matplotlib.rcParams.update({'font.size': 14})  # Use larger font for plots."
   ]
  },
  {
   "cell_type": "code",
   "execution_count": 3,
   "metadata": {},
   "outputs": [],
   "source": [
    "def almost_pi(N):\n",
    "    return 4 * sum([(-1)**k / (2*k+1) for k in range(N)])"
   ]
  },
  {
   "cell_type": "code",
   "execution_count": 41,
   "metadata": {},
   "outputs": [],
   "source": [
    "Ns = range(120)\n",
    "pi = [almost_pi(N) for N in Ns]\n",
    "plt.axhline(np.pi, label=r\"$\\pi$\", color=\"red\")\n",
    "plt.plot(Ns, pi, label=r\"$4 - \\frac{4}{3} + \\frac{4}{5} - \\frac{4}{7} + \\dots$\")\n",
    "plt.xlabel(\"N\")\n",
    "plt.xlim([0, 50])\n",
    "plt.ylim([2, 4])\n",
    "plt.legend()\n",
    "# plt.show()\n",
    "\n",
    "plt.savefig(\"pi_approximation.png\", dpi=150, transparent=True)  # Uncomment to save high-resolution figure to disk."
   ]
  },
  {
   "cell_type": "code",
   "execution_count": null,
   "metadata": {},
   "outputs": [],
   "source": []
  }
 ],
 "metadata": {
  "kernelspec": {
   "display_name": "Python [default]",
   "language": "python",
   "name": "python3"
  },
  "language_info": {
   "codemirror_mode": {
    "name": "ipython",
    "version": 3
   },
   "file_extension": ".py",
   "mimetype": "text/x-python",
   "name": "python",
   "nbconvert_exporter": "python",
   "pygments_lexer": "ipython3",
   "version": "3.6.3"
  }
 },
 "nbformat": 4,
 "nbformat_minor": 2
}
