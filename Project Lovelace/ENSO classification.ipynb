{
 "cells": [
  {
   "cell_type": "code",
   "execution_count": 19,
   "metadata": {
    "collapsed": true
   },
   "outputs": [],
   "source": [
    "import csv\n",
    "import math"
   ]
  },
  {
   "cell_type": "code",
   "execution_count": 20,
   "metadata": {
    "collapsed": true
   },
   "outputs": [],
   "source": [
    "years = []\n",
    "mei = []"
   ]
  },
  {
   "cell_type": "code",
   "execution_count": 24,
   "metadata": {
    "collapsed": true
   },
   "outputs": [],
   "source": [
    "def mei_to_intensity(mei_val):\n",
    "    mei_val = abs(mei_val)\n",
    "    if mei_val < 0.5:\n",
    "        return \"none\"\n",
    "    elif 0.5 <= mei_val < 1.0:\n",
    "        return \"weak\"\n",
    "    elif 1.0 <= mei_val < 1.5:\n",
    "        return \"moderate\"\n",
    "    elif 1.5 <= mei_val < 2.0:\n",
    "        return \"strong\"\n",
    "    elif 2.0 <= mei_val:\n",
    "        return \"very strong\""
   ]
  },
  {
   "cell_type": "code",
   "execution_count": 25,
   "metadata": {},
   "outputs": [],
   "source": [
    "with open('mei.ext_index.txt') as csvfile:\n",
    "    reader = csv.reader(csvfile, delimiter='\\t')\n",
    "    next(reader, None)  # skip the header line\n",
    "    for row in reader:\n",
    "        years.append(int(row[0]))\n",
    "        mei.append([float(i) for i in row[1:]])"
   ]
  },
  {
   "cell_type": "code",
   "execution_count": 26,
   "metadata": {},
   "outputs": [],
   "source": [
    "mei_dict = {}\n",
    "for i in range(len(years) - 1):\n",
    "    season = str(years[i])[:4] + '-' + str(years[i + 1])[-2:]\n",
    "    season_mei = mei[i] + mei[i+1]\n",
    "    for j in range(len(season_mei) - 5):\n",
    "        if all(idx >= 0.5 for idx in season_mei[j:j + 5]):\n",
    "            max_mei = max(season_mei)\n",
    "            \n",
    "            mei_dict[season] = (\"El Nino\", mei_to_intensity(max_mei), max_mei)\n",
    "            break\n",
    "        elif all(idx <= -0.5 for idx in season_mei[j:j + 5]):\n",
    "            min_mei = min(season_mei)\n",
    "            mei_dict[season] = (\"La Nina\", mei_to_intensity(min_mei), min_mei)\n",
    "            break\n",
    "        else:\n",
    "            mei_dict[season] = (\"Neither\", \"none\")"
   ]
  },
  {
   "cell_type": "code",
   "execution_count": 28,
   "metadata": {},
   "outputs": [],
   "source": [
    "def enso_classification(season):\n",
    "    return mei_dict[season]"
   ]
  },
  {
   "cell_type": "code",
   "execution_count": 36,
   "metadata": {},
   "outputs": [
    {
     "data": {
      "text/plain": [
       "('La Nina', 'moderate', -1.319)"
      ]
     },
     "execution_count": 36,
     "metadata": {},
     "output_type": "execute_result"
    }
   ],
   "source": [
    "enso_classification(\"2000-01\")"
   ]
  },
  {
   "cell_type": "code",
   "execution_count": null,
   "metadata": {
    "collapsed": true
   },
   "outputs": [],
   "source": []
  }
 ],
 "metadata": {
  "kernelspec": {
   "display_name": "Python [conda root]",
   "language": "python",
   "name": "conda-root-py"
  },
  "language_info": {
   "codemirror_mode": {
    "name": "ipython",
    "version": 3
   },
   "file_extension": ".py",
   "mimetype": "text/x-python",
   "name": "python",
   "nbconvert_exporter": "python",
   "pygments_lexer": "ipython3",
   "version": "3.6.3"
  }
 },
 "nbformat": 4,
 "nbformat_minor": 2
}
