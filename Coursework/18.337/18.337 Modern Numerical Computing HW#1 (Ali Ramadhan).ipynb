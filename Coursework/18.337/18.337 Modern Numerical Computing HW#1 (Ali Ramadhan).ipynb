{
 "cells": [
  {
   "cell_type": "code",
   "execution_count": 37,
   "metadata": {},
   "outputs": [],
   "source": [
    "# Stores a matrix of the form M(v) = Diagonal(v) + vv' where v is a vector.\n",
    "# Well, it only stores the vector v to conserve memory.\n",
    "struct Custom\n",
    "    v::Array{Float64,1}\n",
    "end"
   ]
  },
  {
   "cell_type": "code",
   "execution_count": 38,
   "metadata": {},
   "outputs": [],
   "source": [
    "function custom_matrix_str(v)\n",
    "    size(v, 1) == 0 && return \"\"\n",
    "    size(v, 1) == 1 && return string(v[1] + v[1]^2)\n",
    "    \n",
    "    s = \"\"\n",
    "    for i in 1:size(v, 1)\n",
    "        for j in 1:size(v, 1)\n",
    "            if i == j\n",
    "                s *= \" $(v[i] + v[i]^2) \\t\"\n",
    "            else\n",
    "                s *= \" $(v[i] * v[j]) \\t\"\n",
    "            end\n",
    "        end\n",
    "        s *= '\\n'\n",
    "    end\n",
    "    \n",
    "    return s\n",
    "end\n",
    "\n",
    "Base.show(io::IO, M::Custom) = print(io, custom_matrix_str(M.v))"
   ]
  },
  {
   "cell_type": "code",
   "execution_count": 39,
   "metadata": {},
   "outputs": [
    {
     "data": {
      "text/plain": [
       " 2.0 \t 2.0 \t 3.0 \t 4.0 \t\n",
       " 2.0 \t 6.0 \t 6.0 \t 8.0 \t\n",
       " 3.0 \t 6.0 \t 12.0 \t 12.0 \t\n",
       " 4.0 \t 8.0 \t 12.0 \t 20.0 \t\n"
      ]
     },
     "execution_count": 39,
     "metadata": {},
     "output_type": "execute_result"
    }
   ],
   "source": [
    "M = Custom([1,2,3,4])"
   ]
  },
  {
   "cell_type": "code",
   "execution_count": 40,
   "metadata": {},
   "outputs": [
    {
     "data": {
      "text/plain": [
       " 3.3599999999999994 \t 4.39822971502571 \t 1.9798989873223332 \t -2583.3937499999997 \t\n",
       " 4.39822971502571 \t 13.011197054679151 \t 4.442882938158366 \t -5797.12201880699 \t\n",
       " 1.9798989873223332 \t 4.442882938158366 \t 3.414213562373096 \t -2609.621770142778 \t\n",
       " -2583.3937499999997 \t -5797.12201880699 \t -2609.621770142778 \t 3.4032176103515625e6 \t\n"
      ]
     },
     "execution_count": 40,
     "metadata": {},
     "output_type": "execute_result"
    }
   ],
   "source": [
    "M = Custom([1.4,π,√2,-4.5^5])"
   ]
  },
  {
   "cell_type": "code",
   "execution_count": 41,
   "metadata": {},
   "outputs": [
    {
     "data": {
      "text/plain": [
       "f (generic function with 1 method)"
      ]
     },
     "execution_count": 41,
     "metadata": {},
     "output_type": "execute_result"
    }
   ],
   "source": [
    "function f(λ, M::Custom)\n",
    "    return 1 + sum([M.v[i]^2 / (M.v[i] - λ) for i in 1:size(M.v, 1)])\n",
    "end"
   ]
  },
  {
   "cell_type": "code",
   "execution_count": 43,
   "metadata": {},
   "outputs": [
    {
     "data": {
      "text/plain": [
       "max_eigenvalue (generic function with 1 method)"
      ]
     },
     "execution_count": 43,
     "metadata": {},
     "output_type": "execute_result"
    }
   ],
   "source": [
    "# Implementation of Newton's method to calculate the largest eigenvalue.\n",
    "\n",
    "using ForwardDiff\n",
    "using Printf\n",
    "\n",
    "function max_eigenvalue(M::Custom; abs_tol=1e-6, max_iter=50)\n",
    "    iter = 0\n",
    "    λ = maximum(M.v) + 1  # Initial guess larger than maximum element as we\n",
    "                          # know the largest eigenvalue is larger than it\n",
    "    \n",
    "    while abs(f(λ, M)) > abs_tol\n",
    "        iter += 1\n",
    "        λ = λ - ( f(λ, M) / ForwardDiff.derivative(λ -> f(λ, M), λ) )\n",
    "        @printf(\"λ = %g, f(λ, M) = %g\\n\", λ, f(λ, M))\n",
    "        iter ≥ max_iter && break\n",
    "    end\n",
    "    return λ\n",
    "end"
   ]
  },
  {
   "cell_type": "code",
   "execution_count": 49,
   "metadata": {},
   "outputs": [
    {
     "name": "stdout",
     "output_type": "stream",
     "text": [
      "λ = 6.12403, f(λ, M) = -10.5788\n",
      "λ = 8.35493, f(λ, M) = -5.12008\n",
      "λ = 12.3706, f(λ, M) = -2.34556\n",
      "λ = 18.6125, f(λ, M) = -0.968977\n",
      "λ = 26.0907, f(λ, M) = -0.31995\n",
      "λ = 31.593, f(λ, M) = -0.0624721\n",
      "λ = 33.2519, f(λ, M) = -0.00347175\n",
      "λ = 33.3553, f(λ, M) = -1.19783e-05\n",
      "λ = 33.3557, f(λ, M) = -1.43578e-10\n"
     ]
    },
    {
     "data": {
      "text/plain": [
       "33.35565805378168"
      ]
     },
     "execution_count": 49,
     "metadata": {},
     "output_type": "execute_result"
    }
   ],
   "source": [
    "# Looks correct by comparing with MATLAB's eig().\n",
    "max_eigenvalue(Custom([1,2,3,4]))"
   ]
  },
  {
   "cell_type": "code",
   "execution_count": 50,
   "metadata": {},
   "outputs": [
    {
     "name": "stdout",
     "output_type": "stream",
     "text": [
      "λ = 13.3799, f(λ, M) = -109.137\n",
      "λ = 16.8772, f(λ, M) = -60.1131\n",
      "λ = 26.0749, f(λ, M) = -33.3608\n",
      "λ = 50.333, f(λ, M) = -17.8639\n",
      "λ = 106.424, f(λ, M) = -8.95868\n",
      "λ = 216.356, f(λ, M) = -4.2747\n",
      "λ = 406.993, f(λ, M) = -1.91733\n",
      "λ = 687.769, f(λ, M) = -0.760877\n",
      "λ = 993.958, f(λ, M) = -0.229646\n",
      "λ = 1183.53, f(λ, M) = -0.0361467\n",
      "λ = 1225.56, f(λ, M) = -0.00121874\n",
      "λ = 1227.07, f(λ, M) = -1.482e-06\n",
      "λ = 1227.08, f(λ, M) = -2.19669e-12\n"
     ]
    },
    {
     "data": {
      "text/plain": [
       "1227.0752563677202"
      ]
     },
     "execution_count": 50,
     "metadata": {},
     "output_type": "execute_result"
    }
   ],
   "source": [
    "# Looks correct by comparing with MATLAB's eig().\n",
    "max_eigenvalue(Custom([-1/7, 4.44, π^2, 11, -π^3, 7]))"
   ]
  },
  {
   "cell_type": "code",
   "execution_count": 51,
   "metadata": {},
   "outputs": [
    {
     "data": {
      "text/plain": [
       "sherman_morrison_inv (generic function with 1 method)"
      ]
     },
     "execution_count": 51,
     "metadata": {},
     "output_type": "execute_result"
    }
   ],
   "source": [
    "# I didn't use diagm and LinAlg as I can't get LinAlg to load in 1.0.\n",
    "\n",
    "function sherman_morrison_inv(M::Custom)\n",
    "    v = M.v\n",
    "    N = size(v, 1)\n",
    "    diag_v_inv = Array{Float64}(undef, N, N)\n",
    "    for i = 1:N; diag_v_inv[i, i] = 1 / v[i]; end\n",
    "    return diag_v_inv - (  (diag_v_inv * v * v' * diag_v_inv)\n",
    "                         / (1 + v' * diag_v_inv * v))\n",
    "end"
   ]
  },
  {
   "cell_type": "code",
   "execution_count": 54,
   "metadata": {},
   "outputs": [
    {
     "data": {
      "text/plain": [
       "4×4 Array{Float64,2}:\n",
       "  0.909091   -0.0909091  -0.0909091  -0.0909091\n",
       " -0.0909091   0.409091   -0.0909091  -0.0909091\n",
       " -0.0909091  -0.0909091   0.242424   -0.0909091\n",
       " -0.0909091  -0.0909091  -0.0909091   0.159091 "
      ]
     },
     "execution_count": 54,
     "metadata": {},
     "output_type": "execute_result"
    }
   ],
   "source": [
    "sherman_morrison_inv(Custom([1, 2, 3, 4]))\n",
    "# Looks correct by comparing with MATLAB's inv()."
   ]
  },
  {
   "cell_type": "code",
   "execution_count": 55,
   "metadata": {},
   "outputs": [
    {
     "data": {
      "text/plain": [
       "6×6 Array{Float64,2}:\n",
       " -7.46286   -0.462862  -0.462862  -0.462862  -0.462862  -0.462862\n",
       " -0.462862  -0.237637  -0.462862  -0.462862  -0.462862  -0.462862\n",
       " -0.462862  -0.462862  -0.361541  -0.462862  -0.462862  -0.462862\n",
       " -0.462862  -0.462862  -0.462862  -0.371953  -0.462862  -0.462862\n",
       " -0.462862  -0.462862  -0.462862  -0.462862  -0.495114  -0.462862\n",
       " -0.462862  -0.462862  -0.462862  -0.462862  -0.462862  -0.320005"
      ]
     },
     "execution_count": 55,
     "metadata": {},
     "output_type": "execute_result"
    }
   ],
   "source": [
    "sherman_morrison_inv(Custom([-1/7, 4.44, π^2, 11, -π^3, 7]))\n",
    "# Looks correct by comparing with MATLAB's inv()."
   ]
  },
  {
   "cell_type": "code",
   "execution_count": null,
   "metadata": {},
   "outputs": [],
   "source": []
  }
 ],
 "metadata": {
  "kernelspec": {
   "display_name": "Julia 1.0.0",
   "language": "julia",
   "name": "julia-1.0"
  },
  "language_info": {
   "file_extension": ".jl",
   "mimetype": "application/julia",
   "name": "julia",
   "version": "1.0.0"
  }
 },
 "nbformat": 4,
 "nbformat_minor": 2
}
