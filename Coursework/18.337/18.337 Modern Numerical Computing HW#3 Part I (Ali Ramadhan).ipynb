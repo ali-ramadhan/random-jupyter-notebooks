{
 "cells": [
  {
   "cell_type": "markdown",
   "metadata": {},
   "source": [
    "# Fun with Trees\n",
    "\n",
    "In this homework, let us experiment with creating and parsing expression trees in Julia."
   ]
  },
  {
   "cell_type": "code",
   "execution_count": 23,
   "metadata": {},
   "outputs": [
    {
     "data": {
      "text/plain": [
       "tree (generic function with 5 methods)"
      ]
     },
     "execution_count": 23,
     "metadata": {},
     "output_type": "execute_result"
    }
   ],
   "source": [
    "tree(v::Tuple) = tree(v...)\n",
    "tree(a,b) = throw(\"Need an odd number of arguments\") # throw an error\n",
    "tree(a) = throw(\"Need at least three arguments\")\n",
    "tree(a,b,c) = Expr(:call,a,b,c)\n",
    "tree(v...) = Expr(:call,v[1],tree(v[2:end-1]),v[end])\n"
   ]
  },
  {
   "cell_type": "code",
   "execution_count": 24,
   "metadata": {},
   "outputs": [
    {
     "name": "stdout",
     "output_type": "stream",
     "text": [
      "tree(:*, :+, :^, :x, 3, :y, 4) = :((x ^ 3 + y) * 4)\n",
      "tree(:*, :^, :+, :x, :y, 3, 4) = :((x + y) ^ 3 * 4)\n",
      "tree(:*, :^, :+, :x, 3, :y, 4) = :((x + 3) ^ y * 4)\n"
     ]
    }
   ],
   "source": [
    "@show tree(:*,:+,:^,:x,3,:y,4)\n",
    "# Interchange args 2&3, and 5&6\n",
    "@show tree(:*,:^,:+,:x,:y,3,4);\n",
    "@show tree(:*,:^,:+,:x,3,:y,4);\n"
   ]
  },
  {
   "cell_type": "code",
   "execution_count": 26,
   "metadata": {},
   "outputs": [],
   "source": [
    "#using Pkg\n",
    "#Pkg.add(\"Latexify\")\n",
    "using Latexify"
   ]
  },
  {
   "cell_type": "markdown",
   "metadata": {},
   "source": [
    "See the [latexify and how Julia's metaprogramming makes it so useful](https://www.youtube.com/watch?v=wpV0Nz-93Hk) video from juliacon!"
   ]
  },
  {
   "cell_type": "code",
   "execution_count": 27,
   "metadata": {},
   "outputs": [
    {
     "data": {
      "text/latex": [
       "$\\left( x^{3} + y \\right) \\cdot 4$"
      ],
      "text/plain": [
       "L\"$\\left( x^{3} + y \\right) \\cdot 4$\""
      ]
     },
     "execution_count": 27,
     "metadata": {},
     "output_type": "execute_result"
    }
   ],
   "source": [
    "latexify(tree(:*,:+,:^,:x,3,:y,4) )"
   ]
  },
  {
   "cell_type": "code",
   "execution_count": 28,
   "metadata": {},
   "outputs": [
    {
     "data": {
      "text/latex": [
       "$\\left( x + y \\right)^{3} \\cdot 4$"
      ],
      "text/plain": [
       "L\"$\\left( x + y \\right)^{3} \\cdot 4$\""
      ]
     },
     "execution_count": 28,
     "metadata": {},
     "output_type": "execute_result"
    }
   ],
   "source": [
    "latexify(tree(:*,:^,:+,:x,:y,3,4) )"
   ]
  },
  {
   "cell_type": "code",
   "execution_count": 29,
   "metadata": {},
   "outputs": [
    {
     "data": {
      "text/latex": [
       "$\\frac{\\left( x^{3} + y \\right) \\cdot 4}{\\left( x + y \\right)^{3} \\cdot 4}$"
      ],
      "text/plain": [
       "L\"$\\frac{\\left( x^{3} + y \\right) \\cdot 4}{\\left( x + y \\right)^{3} \\cdot 4}$\""
      ]
     },
     "execution_count": 29,
     "metadata": {},
     "output_type": "execute_result"
    }
   ],
   "source": [
    "latexify(Expr(:call,:/,tree(:*,:+,:^,:x,3,:y,4),tree(:*,:^,:+,:x,:y,3,4)))"
   ]
  },
  {
   "cell_type": "markdown",
   "metadata": {},
   "source": [
    "## Exercise: \n",
    "\n",
    "Build a [reverse polish](https://en.wikipedia.org/wiki/Reverse_Polish_notation_) calculator in julia."
   ]
  },
  {
   "cell_type": "markdown",
   "metadata": {},
   "source": [
    "My high school math teacher [(Gil Kessler)](https://www.wnyc.org/story/302441-where-math-teachers-go-to-get-energized)\n",
    "proudly showed me his reverse Polish HP calculator at a time when I had only heard of Texas Instruments.  I believe it was a model like this [HP 25](https://en.wikipedia.org/wiki/HP-25)\n",
    "I thought reverse Polish was very strange, but he insisted it was way faster (fewer keystrokes)."
   ]
  },
  {
   "cell_type": "code",
   "execution_count": 214,
   "metadata": {},
   "outputs": [
    {
     "data": {
      "text/plain": [
       "reverse_polish (generic function with 4 methods)"
      ]
     },
     "execution_count": 214,
     "metadata": {},
     "output_type": "execute_result"
    }
   ],
   "source": [
    "# No error checking or input validation...\n",
    "\n",
    "reverse_polish(a,b,c) = :($c($a, $b))\n",
    "reverse_polish(v::Tuple) = reverse_polish(v...)\n",
    "function reverse_polish(v...)\n",
    "    op_idx = findfirst(isequal(Symbol), typeof.(v))\n",
    "    op = v[op_idx]\n",
    "    tmp_result = reverse_polish(v[op_idx-2:op_idx]...)\n",
    "    v = v[1:op_idx-3]..., tmp_result, v[op_idx+1:end]...\n",
    "    return reverse_polish(v)\n",
    "end"
   ]
  },
  {
   "cell_type": "code",
   "execution_count": 215,
   "metadata": {},
   "outputs": [
    {
     "data": {
      "text/plain": [
       "\u001b[32m\u001b[1mTest Passed\u001b[22m\u001b[39m"
      ]
     },
     "execution_count": 215,
     "metadata": {},
     "output_type": "execute_result"
    }
   ],
   "source": [
    "using Test\n",
    "\n",
    "@test reverse_polish(3,4,5,:*,:-) == :(3 - 4 * 5)\n",
    "@test eval(reverse_polish(4,5,:*)) == 20\n",
    "@test eval(reverse_polish(5,9,4,6,:+,:*,://)) == 1//18\n",
    "@test convert(Int64, eval(reverse_polish(15,7,1,1,:+,:-,:/,3,:*,2,1,1,:+,:+,:-))) == 5"
   ]
  },
  {
   "cell_type": "code",
   "execution_count": 219,
   "metadata": {},
   "outputs": [
    {
     "name": "stdout",
     "output_type": "stream",
     "text": [
      "reverse_polish(3, 4, 5, :*, :-) = :(3 - 4 * 5)\n",
      "eval(reverse_polish(3, 4, 5, :*, :-)) = -17\n",
      "reverse_polish(4, 5, :*) = :(4 * 5)\n",
      "eval(reverse_polish(4, 5, :*)) = 20\n",
      "reverse_polish(5, 9, 4, 6, :+, :*, ://) = :(5 // (9 * (4 + 6)))\n",
      "eval(reverse_polish(5, 9, 4, 6, :+, :*, ://)) = 1//18\n",
      "reverse_polish(15, 7, 1, 1, :+, :-, :/, 3, :*, 2, 1, 1, :+, :+, :-) = :((15 / (7 - (1 + 1))) * 3 - (2 + (1 + 1)))\n",
      "eval(reverse_polish(15, 7, 1, 1, :+, :-, :/, 3, :*, 2, 1, 1, :+, :+, :-)) = 5.0\n"
     ]
    }
   ],
   "source": [
    "@show reverse_polish(3,4,5,:*,:-);\n",
    "@show eval(reverse_polish(3,4,5,:*,:-));\n",
    "@show reverse_polish(4,5,:*);\n",
    "@show eval(reverse_polish(4,5,:*));\n",
    "@show reverse_polish(5,9,4,6,:+,:*,://);\n",
    "@show eval(reverse_polish(5,9,4,6,:+,:*,://));\n",
    "@show reverse_polish(15,7,1,1,:+,:-,:/,3,:*,2,1,1,:+,:+,:-);\n",
    "@show eval(reverse_polish(15,7,1,1,:+,:-,:/,3,:*,2,1,1,:+,:+,:-));"
   ]
  }
 ],
 "metadata": {
  "kernelspec": {
   "display_name": "Julia 1.0.0",
   "language": "julia",
   "name": "julia-1.0"
  },
  "language_info": {
   "file_extension": ".jl",
   "mimetype": "application/julia",
   "name": "julia",
   "version": "1.0.0"
  }
 },
 "nbformat": 4,
 "nbformat_minor": 2
}
