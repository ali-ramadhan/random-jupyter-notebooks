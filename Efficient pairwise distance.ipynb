{
 "cells": [
  {
   "cell_type": "code",
   "execution_count": 1,
   "metadata": {
    "collapsed": true
   },
   "outputs": [],
   "source": [
    "using BenchmarkTools\n",
    "using PyPlot"
   ]
  },
  {
   "cell_type": "code",
   "execution_count": 81,
   "metadata": {},
   "outputs": [
    {
     "data": {
      "text/plain": [
       "distance (generic function with 1 method)"
      ]
     },
     "execution_count": 81,
     "metadata": {},
     "output_type": "execute_result"
    }
   ],
   "source": [
    "# Calculate distance in meters between two points (ϕ1, λ1) and (ϕ2, λ2)\n",
    "# on the Earth's surface using the haversine formula. ϕ denotes the latitude\n",
    "# while λ denotes the longitude.\n",
    "# See: http://www.movable-type.co.uk/scripts/latlong.html\n",
    "function distance(ϕ1, λ1, ϕ2, λ2)\n",
    "    R = 6371.228e3 # average radius of the earth [m]\n",
    "    Δϕ = ϕ2 - ϕ1\n",
    "    Δλ = λ2 - λ1\n",
    "    a = sind(Δϕ/2)^2 + cosd(ϕ1) * cosd(ϕ2) * sind(Δλ/2)^2\n",
    "    c = 2 * atan(√a, √(1-a))\n",
    "    R*c\n",
    "end"
   ]
  },
  {
   "cell_type": "code",
   "execution_count": 98,
   "metadata": {},
   "outputs": [
    {
     "data": {
      "text/plain": [
       "haversine_cpu (generic function with 2 methods)"
      ]
     },
     "execution_count": 98,
     "metadata": {},
     "output_type": "execute_result"
    }
   ],
   "source": [
    "function haversine_cpu(lat1::Float32, lon1::Float32, lat2::Float32, lon2::Float32, radius::Float32)\n",
    "    c1 = cospi(lat1 / 180.0f0)\n",
    "    c2 = cospi(lat2 / 180.0f0)\n",
    "    dlat = lat2 - lat1\n",
    "    dlon = lon2 - lon1\n",
    "    d1 = sinpi(dlat / 360.0f0)\n",
    "    d2 = sinpi(dlon / 360.0f0)\n",
    "    t = d2 * d2 * c1 * c2\n",
    "    a = d1 * d1 + t\n",
    "    c = 2.0f0 * asin(min(1.0f0, sqrt(a)))\n",
    "    return radius * c\n",
    "end"
   ]
  },
  {
   "cell_type": "code",
   "execution_count": 100,
   "metadata": {},
   "outputs": [
    {
     "data": {
      "text/plain": [
       "BenchmarkTools.Trial: \n",
       "  memory estimate:  0 bytes\n",
       "  allocs estimate:  0\n",
       "  --------------\n",
       "  minimum time:     116.931 ns (0.00% GC)\n",
       "  median time:      121.108 ns (0.00% GC)\n",
       "  mean time:        138.501 ns (0.00% GC)\n",
       "  maximum time:     377.522 ns (0.00% GC)\n",
       "  --------------\n",
       "  samples:          10000\n",
       "  evals/sample:     946"
      ]
     },
     "execution_count": 100,
     "metadata": {},
     "output_type": "execute_result"
    }
   ],
   "source": [
    "@benchmark distance(10, 20, 30, 40)"
   ]
  },
  {
   "cell_type": "code",
   "execution_count": 102,
   "metadata": {},
   "outputs": [
    {
     "data": {
      "text/plain": [
       "BenchmarkTools.Trial: \n",
       "  memory estimate:  0 bytes\n",
       "  allocs estimate:  0\n",
       "  --------------\n",
       "  minimum time:     56.098 ns (0.00% GC)\n",
       "  median time:      58.074 ns (0.00% GC)\n",
       "  mean time:        66.233 ns (0.00% GC)\n",
       "  maximum time:     267.457 ns (0.00% GC)\n",
       "  --------------\n",
       "  samples:          10000\n",
       "  evals/sample:     1000"
      ]
     },
     "execution_count": 102,
     "metadata": {},
     "output_type": "execute_result"
    }
   ],
   "source": [
    "@benchmark haversine_cpu(Float32(10.0), Float32(20.0), Float32(30.0), Float32(40.0), Float32(6371.228e3))"
   ]
  },
  {
   "cell_type": "code",
   "execution_count": 93,
   "metadata": {},
   "outputs": [
    {
     "data": {
      "text/plain": [
       "true"
      ]
     },
     "execution_count": 93,
     "metadata": {},
     "output_type": "execute_result"
    }
   ],
   "source": [
    "distance(10, 20, 30, 40) ≈ haversine_cpu(Float32(10.0), Float32(20.0), Float32(30.0), Float32(40.0), Float32(6371.228e3))"
   ]
  },
  {
   "cell_type": "code",
   "execution_count": 76,
   "metadata": {},
   "outputs": [
    {
     "data": {
      "text/plain": [
       "pairwise_distance_hist! (generic function with 1 method)"
      ]
     },
     "execution_count": 76,
     "metadata": {},
     "output_type": "execute_result"
    }
   ],
   "source": [
    "function pairwise_distance_hist!(lats, lons, dist)\n",
    "    @assert length(lats) == length(lons)\n",
    "    \n",
    "    N = length(lats)\n",
    "    for i in 1:N-1, j in (i+1):N\n",
    "        @inbounds dist[round(Int, 10*log10(distance(lats[i], lons[i], lats[j], lons[j])))] += 1\n",
    "    end\n",
    "end"
   ]
  },
  {
   "cell_type": "code",
   "execution_count": 109,
   "metadata": {
    "collapsed": true
   },
   "outputs": [],
   "source": [
    "N = 10000\n",
    "bins = 70\n",
    "\n",
    "lats = 20 .+ 20 .* rand(N)\n",
    "lons = 20 .+ 20 .* rand(N)\n",
    "dist = zeros(bins)\n",
    "pairwise_distance_hist!(lats, lons, dist)\n",
    "maximum_count = maximum(dist)\n",
    "@. dist = dist / maximum_count;"
   ]
  },
  {
   "cell_type": "code",
   "execution_count": 110,
   "metadata": {},
   "outputs": [
    {
     "data": {
      "image/png": "[encoded data removed]",
      "text/plain": [
       "Figure(PyObject <Figure size 640x480 with 1 Axes>)"
      ]
     },
     "metadata": {},
     "output_type": "display_data"
    }
   ],
   "source": [
    "x = 10 .^ (collect(0:bins-1) ./ 10)\n",
    "\n",
    "PyPlot.loglog(x, dist)\n",
    "# PyPlot.loglog(x, dist, linestyle=\"\", marker=\".\")\n",
    "\n",
    "PyPlot.xlabel(\"Distance (m)\");\n",
    "PyPlot.ylabel(\"Counts\");\n",
    "\n",
    "PyPlot.plot([10^3, 10^5], [1e-5, 1e-1], label=\"slope=2\");"
   ]
  },
  {
   "cell_type": "code",
   "execution_count": 77,
   "metadata": {},
   "outputs": [
    {
     "data": {
      "text/plain": [
       "BenchmarkTools.Trial: \n",
       "  memory estimate:  0 bytes\n",
       "  allocs estimate:  0\n",
       "  --------------\n",
       "  minimum time:     700.443 μs (0.00% GC)\n",
       "  median time:      760.097 μs (0.00% GC)\n",
       "  mean time:        797.308 μs (0.00% GC)\n",
       "  maximum time:     1.854 ms (0.00% GC)\n",
       "  --------------\n",
       "  samples:          6258\n",
       "  evals/sample:     1"
      ]
     },
     "execution_count": 77,
     "metadata": {},
     "output_type": "execute_result"
    }
   ],
   "source": [
    "N = 100\n",
    "bins = 100\n",
    "\n",
    "lats = 20 .+ 20 .* rand(N)\n",
    "lons = 20 .+ 20 .* rand(N)\n",
    "dist = zeros(bins)\n",
    "@benchmark pairwise_distance_hist!(lats, lons, dist)"
   ]
  },
  {
   "cell_type": "code",
   "execution_count": 78,
   "metadata": {},
   "outputs": [
    {
     "data": {
      "text/plain": [
       "BenchmarkTools.Trial: \n",
       "  memory estimate:  0 bytes\n",
       "  allocs estimate:  0\n",
       "  --------------\n",
       "  minimum time:     78.721 ms (0.00% GC)\n",
       "  median time:      80.794 ms (0.00% GC)\n",
       "  mean time:        81.169 ms (0.00% GC)\n",
       "  maximum time:     90.328 ms (0.00% GC)\n",
       "  --------------\n",
       "  samples:          62\n",
       "  evals/sample:     1"
      ]
     },
     "execution_count": 78,
     "metadata": {},
     "output_type": "execute_result"
    }
   ],
   "source": [
    "N = 1000\n",
    "bins = 100\n",
    "\n",
    "lats = 20 .+ 20 .* rand(N)\n",
    "lons = 20 .+ 20 .* rand(N)\n",
    "dist = zeros(bins)\n",
    "@benchmark pairwise_distance_hist!(lats, lons, dist)"
   ]
  },
  {
   "cell_type": "code",
   "execution_count": 52,
   "metadata": {},
   "outputs": [
    {
     "data": {
      "text/plain": [
       "BenchmarkTools.Trial: \n",
       "  memory estimate:  0 bytes\n",
       "  allocs estimate:  0\n",
       "  --------------\n",
       "  minimum time:     8.244 s (0.00% GC)\n",
       "  median time:      8.244 s (0.00% GC)\n",
       "  mean time:        8.244 s (0.00% GC)\n",
       "  maximum time:     8.244 s (0.00% GC)\n",
       "  --------------\n",
       "  samples:          1\n",
       "  evals/sample:     1"
      ]
     },
     "execution_count": 52,
     "metadata": {},
     "output_type": "execute_result"
    }
   ],
   "source": [
    "N = 10000\n",
    "bins = 100\n",
    "\n",
    "lats = 20 .+ 20 .* rand(N)\n",
    "lons = 20 .+ 20 .* rand(N)\n",
    "dist = zeros(bins)\n",
    "@benchmark pairwise_distance_hist!(lats, lons, dist)"
   ]
  },
  {
   "cell_type": "code",
   "execution_count": null,
   "metadata": {
    "collapsed": true
   },
   "outputs": [],
   "source": []
  }
 ],
 "metadata": {
  "kernelspec": {
   "display_name": "Julia 1.0.0",
   "language": "julia",
   "name": "julia-1.0"
  },
  "language_info": {
   "file_extension": ".jl",
   "mimetype": "application/julia",
   "name": "julia",
   "version": "1.0.0"
  }
 },
 "nbformat": 4,
 "nbformat_minor": 2
}
