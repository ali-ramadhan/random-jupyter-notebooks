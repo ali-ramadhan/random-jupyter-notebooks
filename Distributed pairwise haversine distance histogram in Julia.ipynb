{
 "cells": [
  {
   "cell_type": "code",
   "execution_count": 1,
   "metadata": {},
   "outputs": [],
   "source": [
    "using BenchmarkTools"
   ]
  },
  {
   "cell_type": "code",
   "execution_count": 11,
   "metadata": {},
   "outputs": [
    {
     "data": {
      "text/plain": [
       "haversine_cpu (generic function with 1 method)"
      ]
     },
     "execution_count": 11,
     "metadata": {},
     "output_type": "execute_result"
    }
   ],
   "source": [
    "# Calculate distance in meters between two points (ϕ1, λ1) and (ϕ2, λ2)\n",
    "# on the Earth's surface using the haversine formula. ϕ denotes the latitude\n",
    "# while λ denotes the longitude.\n",
    "# See: http://www.movable-type.co.uk/scripts/latlong.html\n",
    "function haversine_distance(ϕ1, λ1, ϕ2, λ2, R)\n",
    "    Δϕ = ϕ2 - ϕ1\n",
    "    Δλ = λ2 - λ1\n",
    "    a = sinpi(Δϕ / 360.0f0)^2 + cospi(ϕ1 / 180.0f0) * cospi(ϕ2 / 180.0f0) * sinpi(Δλ / 360.0f0)^2\n",
    "    # c = 2.0f0 * atan(√a, √(1-a))\n",
    "    c = 2.0f0 * asin(min(1.0f0, √a))\n",
    "    R*c\n",
    "end\n",
    "\n",
    "function haversine_dista32(lat1::Float32, lon1::Float32, lat2::Float32, lon2::Float32, radius::Float32)\n",
    "    c1 = cospi(lat1 / 180.0f0)\n",
    "    c2 = cospi(lat2 / 180.0f0)\n",
    "    dlat = lat2 - lat1\n",
    "    dlon = lon2 - lon1\n",
    "    d1 = sinpi(dlat / 360.0f0)\n",
    "    d2 = sinpi(dlon / 360.0f0)\n",
    "    t = d2 * d2 * c1 * c2\n",
    "    a = d1 * d1 + t\n",
    "    c = 2.0f0 * asin(min(1.0f0, sqrt(a)))\n",
    "    return radius * c\n",
    "end\n",
    "\n",
    "function haversine_cpu(ϕ1, λ1, ϕ2, λ2, radius)\n",
    "    c1 = cospi(ϕ1 / 180.0f0)\n",
    "    c2 = cospi(ϕ2 / 180.0f0)\n",
    "    Δλ = λ2 - λ1\n",
    "    Δϕ = ϕ2 - ϕ1\n",
    "    sΔλ = sinpi(Δλ / 360.0f0)\n",
    "    sΔϕ = sinpi(Δϕ / 360.0f0)\n",
    "    t = sΔλ * sΔλ * c1 * c2\n",
    "    a = sΔϕ * sΔϕ + t\n",
    "    c = 2.0f0 * asin(min(1.0f0, √a))\n",
    "    return radius * c\n",
    "end"
   ]
  },
  {
   "cell_type": "code",
   "execution_count": 12,
   "metadata": {},
   "outputs": [
    {
     "data": {
      "text/plain": [
       "true"
      ]
     },
     "execution_count": 12,
     "metadata": {},
     "output_type": "execute_result"
    }
   ],
   "source": [
    "R64, R32 = 6371.228e3, 6371.228f3 # average radius of the earth [m]\n",
    "# @show haversine_distance(10f0, 20f0, 30f0, 40f0, R32)\n",
    "# @show haversine_cpu(10f0, 20f0, 30f0, 40f0, R32)\n",
    "haversine_distance(10f0, 20f0, 30f0, 40f0, R32) ≈ haversine_cpu(10f0, 20f0, 30f0, 40f0, R32) ≈ haversine_32(10f0, 20f0, 30f0, 40f0, R32)"
   ]
  },
  {
   "cell_type": "code",
   "execution_count": 8,
   "metadata": {},
   "outputs": [
    {
     "data": {
      "text/plain": [
       "BenchmarkTools.Trial: \n",
       "  memory estimate:  16 bytes\n",
       "  allocs estimate:  1\n",
       "  --------------\n",
       "  minimum time:     107.326 ns (0.00% GC)\n",
       "  median time:      113.172 ns (0.00% GC)\n",
       "  mean time:        133.622 ns (4.29% GC)\n",
       "  maximum time:     42.289 μs (99.72% GC)\n",
       "  --------------\n",
       "  samples:          10000\n",
       "  evals/sample:     946"
      ]
     },
     "execution_count": 8,
     "metadata": {},
     "output_type": "execute_result"
    }
   ],
   "source": [
    "@benchmark haversine_distance(10, 20, 30, 40, R64)"
   ]
  },
  {
   "cell_type": "code",
   "execution_count": 9,
   "metadata": {},
   "outputs": [
    {
     "data": {
      "text/plain": [
       "BenchmarkTools.Trial: \n",
       "  memory estimate:  16 bytes\n",
       "  allocs estimate:  1\n",
       "  --------------\n",
       "  minimum time:     78.451 ns (0.00% GC)\n",
       "  median time:      83.655 ns (0.00% GC)\n",
       "  mean time:        102.412 ns (5.12% GC)\n",
       "  maximum time:     38.421 μs (99.78% GC)\n",
       "  --------------\n",
       "  samples:          10000\n",
       "  evals/sample:     987"
      ]
     },
     "execution_count": 9,
     "metadata": {},
     "output_type": "execute_result"
    }
   ],
   "source": [
    "@benchmark haversine_distance(10f0, 20f0, 30f0, 40f0, R32)"
   ]
  },
  {
   "cell_type": "code",
   "execution_count": 13,
   "metadata": {},
   "outputs": [
    {
     "data": {
      "text/plain": [
       "BenchmarkTools.Trial: \n",
       "  memory estimate:  0 bytes\n",
       "  allocs estimate:  0\n",
       "  --------------\n",
       "  minimum time:     58.469 ns (0.00% GC)\n",
       "  median time:      59.260 ns (0.00% GC)\n",
       "  mean time:        67.816 ns (0.00% GC)\n",
       "  maximum time:     194.765 ns (0.00% GC)\n",
       "  --------------\n",
       "  samples:          10000\n",
       "  evals/sample:     1000"
      ]
     },
     "execution_count": 13,
     "metadata": {},
     "output_type": "execute_result"
    }
   ],
   "source": [
    "@benchmark haversine_32(10f0, 20f0, 30f0, 40f0, R32)"
   ]
  },
  {
   "cell_type": "code",
   "execution_count": 14,
   "metadata": {},
   "outputs": [
    {
     "data": {
      "text/plain": [
       "BenchmarkTools.Trial: \n",
       "  memory estimate:  16 bytes\n",
       "  allocs estimate:  1\n",
       "  --------------\n",
       "  minimum time:     77.241 ns (0.00% GC)\n",
       "  median time:      80.059 ns (0.00% GC)\n",
       "  mean time:        97.582 ns (5.90% GC)\n",
       "  maximum time:     43.416 μs (99.79% GC)\n",
       "  --------------\n",
       "  samples:          10000\n",
       "  evals/sample:     982"
      ]
     },
     "execution_count": 14,
     "metadata": {},
     "output_type": "execute_result"
    }
   ],
   "source": [
    "@benchmark haversine_cpu(10f0, 20f0, 30f0, 40f0, R32)"
   ]
  },
  {
   "cell_type": "code",
   "execution_count": null,
   "metadata": {
    "collapsed": true
   },
   "outputs": [],
   "source": []
  }
 ],
 "metadata": {
  "kernelspec": {
   "display_name": "Julia 1.0.0",
   "language": "julia",
   "name": "julia-1.0"
  },
  "language_info": {
   "file_extension": ".jl",
   "mimetype": "application/julia",
   "name": "julia",
   "version": "1.0.0"
  }
 },
 "nbformat": 4,
 "nbformat_minor": 2
}
